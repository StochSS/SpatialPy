{
 "cells": [
  {
   "cell_type": "markdown",
   "metadata": {},
   "source": [
    "# Yeast Cell Mating Projection Growth with SpatialPy"
   ]
  },
  {
   "cell_type": "markdown",
   "metadata": {},
   "source": [
    "## Definition of the model"
   ]
  },
  {
   "cell_type": "markdown",
   "metadata": {},
   "source": [
    "### Imports and definitions"
   ]
  },
  {
   "cell_type": "code",
   "execution_count": 1,
   "metadata": {},
   "outputs": [],
   "source": [
    "import os\n",
    "import sys\n",
    "import math\n",
    "sys.path.insert(1, \"../..\")\n",
    "import numpy as np\n",
    "import matplotlib.pyplot as plt\n",
    "import numpy\n",
    "import spatialpy"
   ]
  },
  {
   "cell_type": "code",
   "execution_count": 2,
   "metadata": {},
   "outputs": [
    {
     "data": {
      "text/plain": [
       "'1.1.0'"
      ]
     },
     "execution_count": 2,
     "metadata": {},
     "output_type": "execute_result"
    }
   ],
   "source": [
    "spatialpy.__version__"
   ]
  },
  {
   "cell_type": "code",
   "execution_count": 27,
   "metadata": {},
   "outputs": [],
   "source": [
    "class Fluid(spatialpy.Geometry):\n",
    "    def __init__(self, external_radius):\n",
    "        self.ers = external_radius**2\n",
    "        \n",
    "    def count(self, domain):\n",
    "        Npts = 0\n",
    "        for i in range(domain.coordinates().shape[0]):\n",
    "            if self.inside(domain.coordinates()[i,:],False):\n",
    "                Npts+=1\n",
    "        return Npts\n",
    "\n",
    "    \n",
    "    def inside(self, x, on_boundary):\n",
    "        return x[0]**2 + x[1]**2 > self.ers"
   ]
  },
  {
   "cell_type": "code",
   "execution_count": 28,
   "metadata": {},
   "outputs": [],
   "source": [
    "class Interior(spatialpy.Geometry):\n",
    "    def __init__(self, internal_radius):\n",
    "        self.irs = internal_radius**2\n",
    "        \n",
    "    def count(self, domain):\n",
    "        Npts = 0\n",
    "        for i in range(domain.coordinates().shape[0]):\n",
    "            if self.inside(domain.coordinates()[i,:],False):\n",
    "                Npts+=1\n",
    "        return Npts\n",
    "\n",
    "    \n",
    "    def inside(self, x, on_boundary):\n",
    "        return x[0]**2 + x[1]**2 < self.irs"
   ]
  },
  {
   "cell_type": "code",
   "execution_count": 29,
   "metadata": {},
   "outputs": [],
   "source": [
    "class CellWall(spatialpy.Geometry):\n",
    "    def __init__(self, external_radius, internal_radius):\n",
    "        self.ers = external_radius**2\n",
    "        self.irs = internal_radius**2\n",
    "        \n",
    "    def count(self, domain):\n",
    "        Npts = 0\n",
    "        for i in range(domain.coordinates().shape[0]):\n",
    "            if self.inside(domain.coordinates()[i,:],False):\n",
    "                Npts+=1\n",
    "        return Npts\n",
    "    \n",
    "    def inside(self, x, on_boundary):\n",
    "        radius_sqr = x[0]**2 + x[1]**2\n",
    "        return radius_sqr < self.ers and radius_sqr > self.irs"
   ]
  },
  {
   "cell_type": "code",
   "execution_count": 30,
   "metadata": {},
   "outputs": [],
   "source": [
    "class Polarisome(spatialpy.Geometry):\n",
    "    def __init__(self, external_radius, internal_radius, angular_width):\n",
    "        self.ers = external_radius**2\n",
    "        self.irs = internal_radius**2\n",
    "        self.angular_width = angular_width\n",
    "        \n",
    "    def count(self, domain):\n",
    "        Npts = 0\n",
    "        for i in range(domain.coordinates().shape[0]):\n",
    "            if self.inside(domain.coordinates()[i,:],False):\n",
    "                Npts+=1\n",
    "        return Npts\n",
    "        \n",
    "    def inside(self, x, on_boundary):\n",
    "        radius_sqr = x[0]**2 + x[1]**2\n",
    "        theta = numpy.degrees(numpy.arccos( x[1] / numpy.sqrt(x[0]**2 + x[1]**2) ))\n",
    "        return radius_sqr < self.ers and radius_sqr > self.irs and theta < self.angular_width"
   ]
  },
  {
   "cell_type": "markdown",
   "metadata": {},
   "source": [
    "### Model"
   ]
  },
  {
   "cell_type": "code",
   "execution_count": 45,
   "metadata": {},
   "outputs": [],
   "source": [
    "class YeastCellMatingProjectionGrowth(spatialpy.Model):\n",
    "    FLUID = 1\n",
    "    CELL_WALL = 2\n",
    "    INTERIOR = 3\n",
    "    \n",
    "    def __init__(self, model_name=\"Yeast Cell Mating Projection Growth\"):\n",
    "        spatialpy.Model.__init__(self, model_name)\n",
    "        \n",
    "        # System Constants\n",
    "        rhof = 1000\n",
    "        rhoc = 1100\n",
    "        rhoi = 1500\n",
    "        gravity = [0, -1, 0]\n",
    "        nu0 = 1e-3\n",
    "        \n",
    "        # calculated values\n",
    "        E=1e6\n",
    "        Pratio=0.3975\n",
    "        Gmax=E/(2.0*(1.0+Pratio))\n",
    "        Kw = 2.0*Gmax*(1+Pratio)/(3.0*(1.0-2.0*Pratio)) \n",
    "        c0 = numpy.sqrt(Kw/rhof)\n",
    "        \n",
    "        \n",
    "        # Discretizations\n",
    "        Npx = 100\n",
    "        \n",
    "        # Compute domain bounds (including the boundary)\n",
    "        L = 50e-6\n",
    "        radius_external = 0.2*L\n",
    "        radius_internal = 0.15*L\n",
    "        deltaf = L/Npx\n",
    "        xmin = ymin = -L/2\n",
    "        xmax = ymax = L/2\n",
    "        \n",
    "        vtot = L*L\n",
    "        vcelltot = math.pi*radius_external*radius_external\n",
    "        vcellint = math.pi*radius_internal*radius_internal\n",
    "        vcell    = vcelltot-vcellint                \n",
    "        vfluid   = vtot-vcelltot\n",
    "        \n",
    "        \n",
    "        \n",
    "        \n",
    "        # Create the Domain object\n",
    "        domain = spatialpy.Domain.create_2D_domain(\n",
    "            xlim=(xmin, xmax), ylim=(ymin, ymax), numx=Npx, numy=Npx, \n",
    "            nu=nu0, c0=c0, gravity=gravity, fixed=False\n",
    "        )\n",
    "        self.add_domain(domain)\n",
    "        \n",
    "        # set the properties of the Fluid Region\n",
    "        fluid_region = Fluid(radius_external)\n",
    "        Nptf = fluid_region.count(domain)\n",
    "        mfluid = vfluid*rhof/Nptf\n",
    "        domain.set_properties(fluid_region, type_id=\"Fluid\", rho=rhof, mass=mfluid)\n",
    "        # Cell Wall Region\n",
    "        cell_region = CellWall(radius_external, radius_internal)\n",
    "        Nptc = cell_region.count(domain)\n",
    "        mcell = vcell*rhoc/Nptc\n",
    "        domain.set_properties(cell_region, type_id=\"CellWall\", rho=rhoc, mass=mcell)\n",
    "        # Polarisome (polarized cap: 22 angural width)\n",
    "        polarisome = Polarisome(radius_external, radius_internal, 22)\n",
    "        self.domain.set_properties(polarisome, type_id=\"Polarisome\")\n",
    "        # Cell Interior Region\n",
    "        interior_region = Interior(radius_internal)\n",
    "        Npti = interior_region.count(domain)\n",
    "        minterior = vcellint*rhoi/Npti\n",
    "        domain.set_properties(interior_region, type_id=\"Interior\", rho=rhoi, mass=minterior)\n",
    "\n",
    "\n",
    "        \n",
    "#         # Compute volume and mass per particle\n",
    "#         vol = L**2\n",
    "#         Cvol = math.pi*radius_external**2\n",
    "#         CIvol = math.pi*radius_internal**2\n",
    "#         CWvol = Cvol-CIvol\n",
    "#         Fvol = vol-Cvol\n",
    "        \n",
    "        # Types\n",
    "        #self.set_type(fluid_region, self.FLUID)\n",
    "        #self.set_type(cell_region, self.CELL_WALL)\n",
    "        #self.set_type(interior_region, self.INTERIOR)\n",
    "        \n",
    "        # Timespan\n",
    "        dt = 1e-10\n",
    "        #nt = 40000\n",
    "        nt = 2000\n",
    "        freq_results = 1000\n",
    "        \n",
    "\n",
    "        # Setting staticDomain to False allows particles to move within the system.\n",
    "        self.staticDomain = False\n",
    "    \n",
    "        self.timespan(np.arange(0, nt*dt+dt, freq_results*dt), timestep_size=dt)"
   ]
  },
  {
   "cell_type": "code",
   "execution_count": 46,
   "metadata": {},
   "outputs": [],
   "source": [
    "model = YeastCellMatingProjectionGrowth()"
   ]
  },
  {
   "cell_type": "code",
   "execution_count": 47,
   "metadata": {},
   "outputs": [
    {
     "name": "stdout",
     "output_type": "stream",
     "text": [
      "[0.e+00 1.e-07 2.e-07]\n"
     ]
    }
   ],
   "source": [
    "model.tspan"
   ]
  },
  {
   "cell_type": "code",
   "execution_count": 48,
   "metadata": {},
   "outputs": [
    {
     "data": {
      "image/png": "[encoded data removed]",
      "text/plain": [
       "<Figure size 460.8x345.6 with 1 Axes>"
      ]
     },
     "metadata": {
      "needs_background": "light"
     },
     "output_type": "display_data"
    }
   ],
   "source": [
    "model.domain.plot_types(use_matplotlib=True)"
   ]
  },
  {
   "cell_type": "code",
   "execution_count": 49,
   "metadata": {},
   "outputs": [
    {
     "name": "stdout",
     "output_type": "stream",
     "text": [
      "CPU times: user 1.27 s, sys: 16.1 ms, total: 1.29 s\n",
      "Wall time: 4min 11s\n"
     ]
    }
   ],
   "source": [
    "%time results = model.run()"
   ]
  },
  {
   "cell_type": "code",
   "execution_count": 50,
   "metadata": {},
   "outputs": [
    {
     "name": "stdout",
     "output_type": "stream",
     "text": [
      "[0.e+00 1.e-07 2.e-07]\n"
     ]
    }
   ],
   "source": [
    "results.get_timespan()"
   ]
  },
  {
   "cell_type": "code",
   "execution_count": null,
   "metadata": {},
   "outputs": [],
   "source": [
    "#results.plot_property('type',animated=True)"
   ]
  },
  {
   "cell_type": "code",
   "execution_count": null,
   "metadata": {},
   "outputs": [],
   "source": [
    "results.plot_property('mass',t_ndx=0, use_matplotlib=True)\n",
    "results.plot_property('mass',t_ndx=-1 , use_matplotlib=True)"
   ]
  },
  {
   "cell_type": "code",
   "execution_count": null,
   "metadata": {},
   "outputs": [],
   "source": [
    "results.plot_property('rho',t_ndx=-1, use_matplotlib=True)\n",
    "results.plot_property('nu',t_ndx=-1 , use_matplotlib=True)"
   ]
  },
  {
   "cell_type": "code",
   "execution_count": null,
   "metadata": {},
   "outputs": [],
   "source": []
  }
 ],
 "metadata": {
  "kernelspec": {
   "display_name": "Python 3",
   "language": "python",
   "name": "python3"
  },
  "language_info": {
   "codemirror_mode": {
    "name": "ipython",
    "version": 3
   },
   "file_extension": ".py",
   "mimetype": "text/x-python",
   "name": "python",
   "nbconvert_exporter": "python",
   "pygments_lexer": "ipython3",
   "version": "3.8.10"
  }
 },
 "nbformat": 4,
 "nbformat_minor": 5
}

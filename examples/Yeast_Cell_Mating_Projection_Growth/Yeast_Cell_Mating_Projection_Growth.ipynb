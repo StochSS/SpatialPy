{
 "cells": [
  {
   "cell_type": "markdown",
   "id": "threaded-reality",
   "metadata": {},
   "source": [
    "# Yeast Cell Mating Projection Growth with SpatialPy"
   ]
  },
  {
   "cell_type": "markdown",
   "id": "virtual-southwest",
   "metadata": {},
   "source": [
    "## Definition of the model"
   ]
  },
  {
   "cell_type": "markdown",
   "id": "particular-integer",
   "metadata": {},
   "source": [
    "### Imports and definitions"
   ]
  },
  {
   "cell_type": "code",
   "execution_count": 1,
   "id": "noble-egypt",
   "metadata": {},
   "outputs": [],
   "source": [
    "import os\n",
    "import sys\n",
    "import math\n",
    "sys.path.insert(1, \"../..\")\n",
    "import numpy as np\n",
    "import matplotlib.pyplot as plt\n",
    "\n",
    "import spatialpy"
   ]
  },
  {
   "cell_type": "code",
   "execution_count": 2,
   "id": "united-package",
   "metadata": {},
   "outputs": [],
   "source": [
    "class Fluid(spatialpy.Geometry):\n",
    "    def __init__(self, external_radius):\n",
    "        self.ers = external_radius**2\n",
    "        \n",
    "    def create_particles(self, domain, xmin, xmax, ymin, ymax, delta):\n",
    "        Nfp =0\n",
    "        for x in np.arange(xmin, xmax+delta, delta):\n",
    "            for y in np.arange(ymin, ymax+delta, delta):\n",
    "                if self.inside((x, y), False):\n",
    "                    domain.add_point([x, y, 0], type=0, vol=1, mass=1, nu=0, fixed=False)\n",
    "                    Nfp += 1\n",
    "        return Nfp\n",
    "        \n",
    "    def inside(self, x, on_boundary):\n",
    "        return x[0]**2 + x[1]**2 > self.ers"
   ]
  },
  {
   "cell_type": "code",
   "execution_count": 3,
   "id": "equipped-participant",
   "metadata": {},
   "outputs": [],
   "source": [
    "class CellWall(spatialpy.Geometry):\n",
    "    def __init__(self, external_radius, internal_radius):\n",
    "        self.ers = external_radius**2\n",
    "        self.irs = internal_radius**2\n",
    "        \n",
    "    def create_particles(self, domain, xmin, xmax, ymin, ymax, delta):\n",
    "        Ncp = 0\n",
    "        for x in np.arange(xmin, xmax+delta, delta):\n",
    "            for y in np.arange(ymin, ymax+delta, delta):\n",
    "                if self.inside((x, y), False):\n",
    "                    domain.add_point([x, y, 0], type=0, vol=1, mass=1, nu=0, fixed=False)\n",
    "                    Ncp += 1\n",
    "        return Ncp\n",
    "    \n",
    "    def inside(self, x, on_boundary):\n",
    "        radius_sqr = x[0]**2 + x[1]**2\n",
    "        return radius_sqr < self.ers and radius_sqr > self.irs"
   ]
  },
  {
   "cell_type": "code",
   "execution_count": 4,
   "id": "social-sacrifice",
   "metadata": {},
   "outputs": [],
   "source": [
    "class Interior(spatialpy.Geometry):\n",
    "    def __init__(self, internal_radius):\n",
    "        self.irs = internal_radius**2\n",
    "        \n",
    "    def create_particles(self, domain, xmin, xmax, ymin, ymax, delta):\n",
    "        Nip = 0\n",
    "        for x in np.arange(xmin, xmax+delta, delta):\n",
    "            for y in np.arange(ymin, ymax+delta, delta):\n",
    "                if self.inside((x, y), False):\n",
    "                    domain.add_point([x, y, 0], type=0, vol=1, mass=1, nu=0, fixed=False)\n",
    "                    Nip += 1\n",
    "        return Nip\n",
    "    \n",
    "    def inside(self, x, on_boundary):\n",
    "        return x[0]**2 + x[1]**2 < self.irs"
   ]
  },
  {
   "cell_type": "markdown",
   "id": "previous-stability",
   "metadata": {},
   "source": [
    "### Model"
   ]
  },
  {
   "cell_type": "code",
   "execution_count": 7,
   "id": "apparent-contrast",
   "metadata": {},
   "outputs": [],
   "source": [
    "class YeastCellMatingProjectionGrowth(spatialpy.Model):\n",
    "    FLUID = 1\n",
    "    CELL_WALL = 2\n",
    "    INTERIOR = 3\n",
    "    \n",
    "    def __init__(self, model_name=\"Yeast Cell Mating Projection Growth\"):\n",
    "        spatialpy.Model.__init__(self, model_name)\n",
    "        \n",
    "        # System Constants\n",
    "        L = 50e-6\n",
    "        radius_external = 0.2*L\n",
    "        radius_internal = 0.15*L\n",
    "        rhof = 1000\n",
    "        rhoc = 1100\n",
    "        rhoi = 1500\n",
    "        \n",
    "        # Species\n",
    "        \n",
    "        # Discretizations\n",
    "        Npx = 100\n",
    "        \n",
    "        # Compute domain bounds (including the boundary)\n",
    "        deltaf = L/Npx\n",
    "        deltac = 0.8*deltaf\n",
    "        xmin = ymin = -L/2\n",
    "        xmax = ymax = L/2\n",
    "        \n",
    "        # Domain\n",
    "        domain = spatialpy.Domain(\n",
    "            0, xlim=(xmin, xmax), ylim=(ymin, ymax), zlim=(0, 0), gravity=[0, -1, 0]\n",
    "        )\n",
    "        \n",
    "        # Fluid Region\n",
    "        fluid_region = Fluid(radius_external)\n",
    "        Nfp = fluid_region.create_particles(domain, xmin, xmax, ymin, ymax, deltaf)\n",
    "        # Cell Wall Region\n",
    "        cell_region = CellWall(radius_external, radius_internal)\n",
    "        Ncp = cell_region.create_particles(\n",
    "            domain, -radius_external, radius_external, -radius_external, radius_external, deltac\n",
    "        )\n",
    "        # Cell Interior Region\n",
    "        interior_region = Interior(radius_internal)\n",
    "        Nip = interior_region.create_particles(domain, xmin, xmax, ymin, ymax, deltaf)\n",
    "        \n",
    "        self.add_domain(domain)\n",
    "        \n",
    "        # Compute volume and mass per particle\n",
    "        vol = L**2\n",
    "        Cvol = math.pi*radius_external**2\n",
    "        CIvol = math.pi*radius_internal**2\n",
    "        CWvol = Cvol-CIvol\n",
    "        Fvol = vol-Cvol\n",
    "        \n",
    "        # Types\n",
    "        self.set_type(fluid_region, self.FLUID)\n",
    "        self.set_type(cell_region, self.CELL_WALL)\n",
    "        self.set_type(interior_region, self.INTERIOR)\n",
    "        \n",
    "        # Timespan\n",
    "        dt = 1e-10\n",
    "        nt = 40000\n",
    "        freq_results = 1000\n",
    "        self.timespan(np.arange(0, nt*dt+dt, freq_results*dt), timestep_size=dt)"
   ]
  },
  {
   "cell_type": "code",
   "execution_count": 8,
   "id": "faced-harvard",
   "metadata": {},
   "outputs": [],
   "source": [
    "model = YeastCellMatingProjectionGrowth()"
   ]
  },
  {
   "cell_type": "code",
   "execution_count": null,
   "id": "beautiful-miami",
   "metadata": {},
   "outputs": [],
   "source": []
  }
 ],
 "metadata": {
  "kernelspec": {
   "display_name": "Python 3",
   "language": "python",
   "name": "python3"
  },
  "language_info": {
   "codemirror_mode": {
    "name": "ipython",
    "version": 3
   },
   "file_extension": ".py",
   "mimetype": "text/x-python",
   "name": "python",
   "nbconvert_exporter": "python",
   "pygments_lexer": "ipython3",
   "version": "3.9.2"
  }
 },
 "nbformat": 4,
 "nbformat_minor": 5
}

{
 "cells": [
  {
   "cell_type": "markdown",
   "id": "demographic-nitrogen",
   "metadata": {},
   "source": [
    "# Spatial Stochastic Simulation with SpatialPy"
   ]
  },
  {
   "cell_type": "markdown",
   "id": "advanced-married",
   "metadata": {},
   "source": [
    "## Definition of the model"
   ]
  },
  {
   "cell_type": "markdown",
   "id": "seasonal-circle",
   "metadata": {},
   "source": [
    "Here we illustrate how to implement the model describet in [Sturrock M, Hellander A, Matzavinos A, Chaplain MAJ. 2013 Spatial stochastic modelling of the Hes1 gene regulatory network: intrinsic noise can explain heterogeneity in embryonic stem cell differentiation. J R Soc Interface 10:20120988]"
   ]
  },
  {
   "cell_type": "markdown",
   "id": "bacterial-management",
   "metadata": {},
   "source": [
    "You may need to install specific version to get this notebook to work:\n",
    "\n",
    "python3 -m pip install meshio==2.3.10\n",
    "\n",
    "python3 -m pip install pygmsh==5.0.2"
   ]
  },
  {
   "cell_type": "markdown",
   "id": "yellow-joining",
   "metadata": {},
   "source": [
    "### Imports and definitions"
   ]
  },
  {
   "cell_type": "code",
   "execution_count": 1,
   "id": "reverse-knock",
   "metadata": {},
   "outputs": [],
   "source": [
    "import os\n",
    "import sys\n",
    "sys.path.insert(1, \"../\")\n",
    "import numpy\n",
    "import matplotlib.pyplot as plt\n",
    "\n",
    "import spatialpy"
   ]
  },
  {
   "cell_type": "code",
   "execution_count": 2,
   "id": "realistic-service",
   "metadata": {},
   "outputs": [],
   "source": [
    "class Nucleus(spatialpy.Geometry):\n",
    "    def inside(self, point, on_boundary):\n",
    "        return point[0]**2 + point[1]**2 + point[2]**2 <= 3**2"
   ]
  },
  {
   "cell_type": "code",
   "execution_count": 3,
   "id": "swiss-intention",
   "metadata": {},
   "outputs": [],
   "source": [
    "class Cytoplasm(spatialpy.Geometry):\n",
    "    def inside(self, point, on_boundary):\n",
    "        return point[0]**2 + point[1]**2 + point[2]**2 > 3**2"
   ]
  },
  {
   "cell_type": "markdown",
   "id": "apart-forward",
   "metadata": {},
   "source": [
    "### Model"
   ]
  },
  {
   "cell_type": "code",
   "execution_count": 4,
   "id": "velvet-stable",
   "metadata": {},
   "outputs": [],
   "source": [
    "class hes1(spatialpy.Model):\n",
    "    NUCLEUS = Nucleus.__name__\n",
    "    CYTOPLASM = Cytoplasm.__name__\n",
    "    \n",
    "    def __init__(self, model_name=\"hes1\"):\n",
    "        spatialpy.Model.__init__(self, model_name)\n",
    "\n",
    "        #Domain\n",
    "        domain = spatialpy.Domain.read_xml_mesh(\"Domain_Files/GRN_Spatial.mesh.xml\")\n",
    "        #Types\n",
    "        domain.read_stochss_subdomain_file(\"Domain_Files/GRN_Spatial.subdomains.txt\",\n",
    "                                           type_ids={\"1\": self.NUCLEUS, \"2\": self.CYTOPLASM})\n",
    "        self.add_domain(domain)\n",
    "\n",
    "        D_P=1e-12\n",
    "        D_mRNA=1e-12\n",
    "        \n",
    "        mu = spatialpy.Parameter(name='mu', expression=0.002)\n",
    "        kappa = spatialpy.Parameter(name='kappa', expression=0.015)\n",
    "        ka = spatialpy.Parameter(name='ka', expression=1.6605778811e-20)\n",
    "        kd = spatialpy.Parameter(name='kd', expression=0.01)\n",
    "        gamma_m = spatialpy.Parameter(name='gamma_m', expression=6e-4)\n",
    "        gamma_p = spatialpy.Parameter(name='gamma_p', expression=3e-4)\n",
    "        self.add_parameter([mu, kappa, ka, kd, gamma_m, gamma_p])\n",
    "\n",
    "        # Species\n",
    "        G_f = spatialpy.Species(name='G_f', diffusion_coefficient=0.0)\n",
    "        G_o = spatialpy.Species(name='G_o', diffusion_coefficient=0.0)\n",
    "        mRNA = spatialpy.Species(name='mRNA',diffusion_coefficient=D_mRNA)\n",
    "        P = spatialpy.Species(name='P', diffusion_coefficient=D_P)\n",
    "        self.add_species([G_f, G_o, mRNA, P])\n",
    "\n",
    "         # Reactions\n",
    "        rxn1 = spatialpy.Reaction(name='R1', reactants={G_f:1, P:1}, products={G_o:1}, rate=ka)\n",
    "        rxn2 = spatialpy.Reaction(\n",
    "            name='R2', reactants={mRNA:1}, products = {mRNA:1, P:1}, rate=kappa, restrict_to=self.CYTOPLASM\n",
    "        )\n",
    "        rxn3 = spatialpy.Reaction(name='R3', reactants={G_f:1}, products={G_f:1, mRNA:1}, rate=mu)\n",
    "        rxn4 = spatialpy.Reaction(name='R4', reactants={mRNA:1}, products={}, rate=gamma_m)\n",
    "        rxn5 = spatialpy.Reaction(name='R5', reactants={P:1}, products={}, rate=gamma_p)\n",
    "        rxn6 = spatialpy.Reaction(name='R6', reactants={G_o:1}, products={G_f:1,P:1}, rate=kd)\n",
    "        self.add_reaction([rxn1, rxn2, rxn3, rxn4, rxn5, rxn6])\n",
    "        \n",
    "        #Initail Conditions\n",
    "        self.add_initial_condition(spatialpy.PlaceInitialCondition(G_f, 1, location=[0,0,0]))\n",
    "        \n",
    "        self.timespan(numpy.linspace(0, 24 * 3600, 2000) , timestep_size=1)"
   ]
  },
  {
   "cell_type": "code",
   "execution_count": 5,
   "id": "directed-slovenia",
   "metadata": {},
   "outputs": [],
   "source": [
    "model = hes1()"
   ]
  },
  {
   "cell_type": "markdown",
   "id": "religious-array",
   "metadata": {},
   "source": [
    "## Running the model and processing the results"
   ]
  },
  {
   "cell_type": "code",
   "execution_count": 6,
   "id": "hairy-publisher",
   "metadata": {},
   "outputs": [
    {
     "name": "stdout",
     "output_type": "stream",
     "text": [
      "CPU times: user 28.4 ms, sys: 9.52 ms, total: 37.9 ms\n",
      "Wall time: 858 ms\n",
      "/var/folders/z4/bqpnd_kx7xg3s3c9jtz0pnfh0000gn/T/spatialpy_build_0cml749o\n"
     ]
    }
   ],
   "source": [
    "from spatialpy import Solver\n",
    "sol = Solver(model, debug_level=0)\n",
    "%time sol.compile()\n",
    "print(sol.build_dir)"
   ]
  },
  {
   "cell_type": "code",
   "execution_count": 7,
   "id": "matched-burden",
   "metadata": {},
   "outputs": [
    {
     "name": "stdout",
     "output_type": "stream",
     "text": [
      "CPU times: user 11.1 ms, sys: 8.1 ms, total: 19.2 ms\n",
      "Wall time: 15min 39s\n"
     ]
    }
   ],
   "source": [
    "%time result = sol.run()"
   ]
  },
  {
   "cell_type": "markdown",
   "id": "egyptian-spirit",
   "metadata": {},
   "source": [
    "### Plot the evolution of the copy number of a given species"
   ]
  },
  {
   "cell_type": "code",
   "execution_count": 8,
   "id": "single-challenge",
   "metadata": {},
   "outputs": [],
   "source": [
    "def plot_hes1(result):\n",
    "    protein = result.get_species(\"P\")\n",
    "    proteinsum = numpy.sum(protein,axis=1)\n",
    "    plt.plot(numpy.array(result.tspan)/3600,proteinsum,'r', label='protein')\n",
    "    mRNA = result.get_species(\"mRNA\")\n",
    "    mRNAsum=numpy.sum(mRNA[:],axis=1)\n",
    "    plt.plot(numpy.array(result.tspan)/3600,mRNAsum,'b', label='mRNA')\n",
    "    plt.legend(loc='best')\n",
    "    plt.xlabel('time (h)')\n",
    "    plt.ylabel('# of molecules')"
   ]
  },
  {
   "cell_type": "code",
   "execution_count": 9,
   "id": "expressed-smoke",
   "metadata": {},
   "outputs": [
    {
     "name": "stdout",
     "output_type": "stream",
     "text": [
      "CPU times: user 18.3 s, sys: 414 ms, total: 18.7 s\n",
      "Wall time: 20 s\n"
     ]
    },
    {
     "data": {
      "image/png": "[encoded data removed]",
      "text/plain": [
       "<Figure size 432x288 with 1 Axes>"
      ]
     },
     "metadata": {
      "needs_background": "light"
     },
     "output_type": "display_data"
    }
   ],
   "source": [
    "%time plot_hes1(result)"
   ]
  },
  {
   "cell_type": "code",
   "execution_count": 10,
   "id": "grave-victoria",
   "metadata": {},
   "outputs": [
    {
     "data": {
      "text/plain": [
       "<matplotlib.legend.Legend at 0x12249e2b0>"
      ]
     },
     "execution_count": 10,
     "metadata": {},
     "output_type": "execute_result"
    },
    {
     "data": {
      "image/png": "[encoded data removed]",
      "text/plain": [
       "<Figure size 432x288 with 1 Axes>"
      ]
     },
     "metadata": {
      "needs_background": "light"
     },
     "output_type": "display_data"
    }
   ],
   "source": [
    "pf = numpy.sum(result.get_species(\"G_f\"),axis=1)\n",
    "plt.plot(numpy.array(result.tspan)/3600,pf,'r',label=\"G_f\")\n",
    "plt.legend(loc=\"best\")"
   ]
  }
 ],
 "metadata": {
  "kernelspec": {
   "display_name": "Python 3 (ipykernel)",
   "language": "python",
   "name": "python3"
  },
  "language_info": {
   "codemirror_mode": {
    "name": "ipython",
    "version": 3
   },
   "file_extension": ".py",
   "mimetype": "text/x-python",
   "name": "python",
   "nbconvert_exporter": "python",
   "pygments_lexer": "ipython3",
   "version": "3.9.9"
  }
 },
 "nbformat": 4,
 "nbformat_minor": 5
}

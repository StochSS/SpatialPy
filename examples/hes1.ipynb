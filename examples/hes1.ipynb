{
 "cells": [
  {
   "cell_type": "markdown",
   "id": "demographic-nitrogen",
   "metadata": {},
   "source": [
    "# Spatial Stochastic Simulation with SpatialPy\n",
    "***\n",
    "Here we illustrate how to implement the model describet in [Sturrock M, Hellander A, Matzavinos A, Chaplain MAJ. 2013 Spatial stochastic modelling of the Hes1 gene regulatory network: intrinsic noise can explain heterogeneity in embryonic stem cell differentiation. J R Soc Interface 10:20120988]\n",
    "***\n",
    "## Setup the Environment\n",
    "***"
   ]
  },
  {
   "cell_type": "code",
   "execution_count": 1,
   "id": "7e9bf188",
   "metadata": {},
   "outputs": [],
   "source": [
    "import os\n",
    "import sys\n",
    "sys.path.insert(1, os.path.abspath(os.path.join(os.getcwd(), '../')))"
   ]
  },
  {
   "cell_type": "code",
   "execution_count": 2,
   "id": "7e54f19c",
   "metadata": {},
   "outputs": [],
   "source": [
    "import numpy"
   ]
  },
  {
   "cell_type": "markdown",
   "id": "3d82a26e",
   "metadata": {},
   "source": [
    "MatPlotLib is used for creating custom visualizations"
   ]
  },
  {
   "cell_type": "code",
   "execution_count": 3,
   "id": "3bf00f74",
   "metadata": {},
   "outputs": [],
   "source": [
    "import matplotlib.pyplot as plt"
   ]
  },
  {
   "cell_type": "code",
   "execution_count": 4,
   "id": "reverse-knock",
   "metadata": {},
   "outputs": [],
   "source": [
    "import spatialpy"
   ]
  },
  {
   "cell_type": "markdown",
   "id": "f72f6257",
   "metadata": {},
   "source": [
    "***\n",
    "## Create Geometries for the Domain\n",
    "***"
   ]
  },
  {
   "cell_type": "code",
   "execution_count": 5,
   "id": "realistic-service",
   "metadata": {},
   "outputs": [],
   "source": [
    "class Nucleus(spatialpy.Geometry):\n",
    "    def inside(self, point, on_boundary):\n",
    "        return point[0]**2 + point[1]**2 + point[2]**2 <= 3**2"
   ]
  },
  {
   "cell_type": "code",
   "execution_count": 6,
   "id": "swiss-intention",
   "metadata": {},
   "outputs": [],
   "source": [
    "class Cytoplasm(spatialpy.Geometry):\n",
    "    def inside(self, point, on_boundary):\n",
    "        return point[0]**2 + point[1]**2 + point[2]**2 > 3**2"
   ]
  },
  {
   "cell_type": "markdown",
   "id": "apart-forward",
   "metadata": {},
   "source": [
    "***\n",
    "## Create Hes1 Model\n",
    "***"
   ]
  },
  {
   "cell_type": "code",
   "execution_count": 7,
   "id": "velvet-stable",
   "metadata": {},
   "outputs": [],
   "source": [
    "def create_hes1(model_name=\"hes1\", parameter_values=None):\n",
    "    # Initialize Model\n",
    "    model = spatialpy.Model(model_name)\n",
    "\n",
    "    # Define Domain Type IDs as constants of the Model\n",
    "    model.NUCLEUS = Nucleus.__name__\n",
    "    model.CYTOPLASM = Cytoplasm.__name__\n",
    "    \n",
    "    # System constants\n",
    "    D_P = 1e-12\n",
    "    D_mRNA = 1e-12\n",
    "    \n",
    "    # Define Domain\n",
    "    domain = spatialpy.Domain.read_xml_mesh(\"Domain_Files/GRN_Spatial.mesh.xml\")\n",
    "    \n",
    "    # # Add Type IDs to the Particles\n",
    "    domain.read_stochss_subdomain_file(\n",
    "        \"Domain_Files/GRN_Spatial.subdomains.txt\", type_ids={\"1\": model.NUCLEUS, \"2\": model.CYTOPLASM}\n",
    "    )\n",
    "    \n",
    "    # Set Model Domain\n",
    "    model.add_domain(domain)\n",
    "\n",
    "    # Define Variables (SpatialPy.Species)\n",
    "    G_f = spatialpy.Species(name='G_f', diffusion_coefficient=0.0)\n",
    "    G_o = spatialpy.Species(name='G_o', diffusion_coefficient=0.0)\n",
    "    mRNA = spatialpy.Species(name='mRNA',diffusion_coefficient=D_mRNA)\n",
    "    P = spatialpy.Species(name='P', diffusion_coefficient=D_P)\n",
    "    \n",
    "    # Add Variables to Model\n",
    "    model.add_species([G_f, G_o, mRNA, P])\n",
    "\n",
    "    # Define Parameters\n",
    "    mu = spatialpy.Parameter(name='mu', expression=0.002)\n",
    "    kappa = spatialpy.Parameter(name='kappa', expression=0.015)\n",
    "    ka = spatialpy.Parameter(name='ka', expression=1.6605778811e-20)\n",
    "    kd = spatialpy.Parameter(name='kd', expression=0.01)\n",
    "    gamma_m = spatialpy.Parameter(name='gamma_m', expression=6e-4)\n",
    "    gamma_p = spatialpy.Parameter(name='gamma_p', expression=3e-4)\n",
    "    \n",
    "    # Add Parameters to Model\n",
    "    model.add_parameter([mu, kappa, ka, kd, gamma_m, gamma_p])\n",
    "\n",
    "    # Define Reactions\n",
    "    rxn1 = spatialpy.Reaction(name='R1', reactants={'G_f': 1, 'P': 1}, products={'G_o': 1}, rate='ka')\n",
    "    rxn2 = spatialpy.Reaction(\n",
    "        name='R2', reactants={'mRNA': 1}, products={'mRNA': 1, 'P': 1}, rate='kappa', restrict_to=model.CYTOPLASM\n",
    "    )\n",
    "    rxn3 = spatialpy.Reaction(name='R3', reactants={'G_f': 1}, products={'G_f': 1, 'mRNA': 1}, rate='mu')\n",
    "    rxn4 = spatialpy.Reaction(name='R4', reactants={'mRNA': 1}, products={}, rate='gamma_m')\n",
    "    rxn5 = spatialpy.Reaction(name='R5', reactants={'P': 1}, products={}, rate='gamma_p')\n",
    "    rxn6 = spatialpy.Reaction(name='R6', reactants={'G_o': 1}, products={'G_f': 1, 'P': 1}, rate='kd')\n",
    "    \n",
    "    # Add Reactions to Model\n",
    "    model.add_reaction([rxn1, rxn2, rxn3, rxn4, rxn5, rxn6])\n",
    "\n",
    "    # Define Initial Conditions\n",
    "    G_f_ic = spatialpy.PlaceInitialCondition(G_f, 1, location=[0,0,0])\n",
    "    \n",
    "    # Add Initial Conditions to Model\n",
    "    model.add_initial_condition(G_f_ic)\n",
    "\n",
    "    # Define Timespan\n",
    "    tspan = spatialpy.TimeSpan.linspace(t=24 * 3600, num_points=2000, timestep_size=1)\n",
    "    \n",
    "    # Set Model Timespan\n",
    "    model.timespan(tspan)\n",
    "    return model"
   ]
  },
  {
   "cell_type": "markdown",
   "id": "a6fc33b2",
   "metadata": {},
   "source": [
    "### Instantiate the Model"
   ]
  },
  {
   "cell_type": "code",
   "execution_count": 8,
   "id": "directed-slovenia",
   "metadata": {},
   "outputs": [],
   "source": [
    "model = create_hes1()"
   ]
  },
  {
   "cell_type": "markdown",
   "id": "10832c97",
   "metadata": {},
   "source": [
    "### Instantiate the Solver"
   ]
  },
  {
   "cell_type": "code",
   "execution_count": 9,
   "id": "e42a80df",
   "metadata": {},
   "outputs": [
    {
     "ename": "TypeError",
     "evalue": "catching classes that do not inherit from BaseException is not allowed",
     "output_type": "error",
     "traceback": [
      "\u001b[0;31m---------------------------------------------------------------------------\u001b[0m",
      "\u001b[0;31mTimespanError\u001b[0m                             Traceback (most recent call last)",
      "\u001b[0;32m~/Documents/SpatialPy/spatialpy/core/model.py\u001b[0m in \u001b[0;36mcompile_prep\u001b[0;34m(self)\u001b[0m\n\u001b[1;32m    661\u001b[0m         \u001b[0;32mtry\u001b[0m\u001b[0;34m:\u001b[0m\u001b[0;34m\u001b[0m\u001b[0;34m\u001b[0m\u001b[0m\n\u001b[0;32m--> 662\u001b[0;31m             \u001b[0mself\u001b[0m\u001b[0;34m.\u001b[0m\u001b[0mtspan\u001b[0m\u001b[0;34m.\u001b[0m\u001b[0mvalidate\u001b[0m\u001b[0;34m(\u001b[0m\u001b[0mcoverage\u001b[0m\u001b[0;34m=\u001b[0m\u001b[0;34m\"all\"\u001b[0m\u001b[0;34m)\u001b[0m\u001b[0;34m\u001b[0m\u001b[0;34m\u001b[0m\u001b[0m\n\u001b[0m\u001b[1;32m    663\u001b[0m         \u001b[0;32mexcept\u001b[0m \u001b[0mTimeSpan\u001b[0m \u001b[0;32mas\u001b[0m \u001b[0merr\u001b[0m\u001b[0;34m:\u001b[0m\u001b[0;34m\u001b[0m\u001b[0;34m\u001b[0m\u001b[0m\n",
      "\u001b[0;32m~/Documents/SpatialPy/spatialpy/core/timespan.py\u001b[0m in \u001b[0;36mvalidate\u001b[0;34m(self, items, timestep_size, coverage)\u001b[0m\n\u001b[1;32m    171\u001b[0m             \u001b[0;32mif\u001b[0m \u001b[0;32mnot\u001b[0m \u001b[0misuniform\u001b[0m\u001b[0;34m:\u001b[0m\u001b[0;34m\u001b[0m\u001b[0;34m\u001b[0m\u001b[0m\n\u001b[0;32m--> 172\u001b[0;31m                 \u001b[0;32mraise\u001b[0m \u001b[0mTimespanError\u001b[0m\u001b[0;34m(\u001b[0m\u001b[0;34m\"StochKit only supports uniform timespans.\"\u001b[0m\u001b[0;34m)\u001b[0m\u001b[0;34m\u001b[0m\u001b[0;34m\u001b[0m\u001b[0m\n\u001b[0m\u001b[1;32m    173\u001b[0m             \u001b[0;32mif\u001b[0m \u001b[0mfirst_diff\u001b[0m \u001b[0;34m==\u001b[0m \u001b[0;36m0\u001b[0m \u001b[0;32mor\u001b[0m \u001b[0mnp\u001b[0m\u001b[0;34m.\u001b[0m\u001b[0mcount_nonzero\u001b[0m\u001b[0;34m(\u001b[0m\u001b[0mother_diff\u001b[0m\u001b[0;34m)\u001b[0m \u001b[0;34m!=\u001b[0m \u001b[0mlen\u001b[0m\u001b[0;34m(\u001b[0m\u001b[0mother_diff\u001b[0m\u001b[0;34m)\u001b[0m\u001b[0;34m:\u001b[0m\u001b[0;34m\u001b[0m\u001b[0;34m\u001b[0m\u001b[0m\n",
      "\u001b[0;31mTimespanError\u001b[0m: StochKit only supports uniform timespans.",
      "\nDuring handling of the above exception, another exception occurred:\n",
      "\u001b[0;31mTypeError\u001b[0m                                 Traceback (most recent call last)",
      "\u001b[0;32m<timed eval>\u001b[0m in \u001b[0;36m<module>\u001b[0;34m\u001b[0m\n",
      "\u001b[0;32m~/Documents/SpatialPy/spatialpy/solvers/solver.py\u001b[0m in \u001b[0;36mcompile\u001b[0;34m(self, debug, profile)\u001b[0m\n\u001b[1;32m    453\u001b[0m         \u001b[0;34m:\u001b[0m\u001b[0mraises\u001b[0m \u001b[0mSimulationError\u001b[0m\u001b[0;34m:\u001b[0m \u001b[0mFailed\u001b[0m \u001b[0mto\u001b[0m \u001b[0mcompile\u001b[0m\u001b[0;34m\u001b[0m\u001b[0;34m\u001b[0m\u001b[0m\n\u001b[1;32m    454\u001b[0m         \"\"\"\n\u001b[0;32m--> 455\u001b[0;31m         \u001b[0mstoich_matrix\u001b[0m\u001b[0;34m,\u001b[0m \u001b[0mdep_graph\u001b[0m \u001b[0;34m=\u001b[0m \u001b[0mself\u001b[0m\u001b[0;34m.\u001b[0m\u001b[0mmodel\u001b[0m\u001b[0;34m.\u001b[0m\u001b[0mcompile_prep\u001b[0m\u001b[0;34m(\u001b[0m\u001b[0;34m)\u001b[0m\u001b[0;34m\u001b[0m\u001b[0;34m\u001b[0m\u001b[0m\n\u001b[0m\u001b[1;32m    456\u001b[0m \u001b[0;34m\u001b[0m\u001b[0m\n\u001b[1;32m    457\u001b[0m         \u001b[0;31m# Create a unique directory each time call to compile.\u001b[0m\u001b[0;34m\u001b[0m\u001b[0;34m\u001b[0m\u001b[0m\n",
      "\u001b[0;32m~/Documents/SpatialPy/spatialpy/core/model.py\u001b[0m in \u001b[0;36mcompile_prep\u001b[0;34m(self)\u001b[0m\n\u001b[1;32m    661\u001b[0m         \u001b[0;32mtry\u001b[0m\u001b[0;34m:\u001b[0m\u001b[0;34m\u001b[0m\u001b[0;34m\u001b[0m\u001b[0m\n\u001b[1;32m    662\u001b[0m             \u001b[0mself\u001b[0m\u001b[0;34m.\u001b[0m\u001b[0mtspan\u001b[0m\u001b[0;34m.\u001b[0m\u001b[0mvalidate\u001b[0m\u001b[0;34m(\u001b[0m\u001b[0mcoverage\u001b[0m\u001b[0;34m=\u001b[0m\u001b[0;34m\"all\"\u001b[0m\u001b[0;34m)\u001b[0m\u001b[0;34m\u001b[0m\u001b[0;34m\u001b[0m\u001b[0m\n\u001b[0;32m--> 663\u001b[0;31m         \u001b[0;32mexcept\u001b[0m \u001b[0mTimeSpan\u001b[0m \u001b[0;32mas\u001b[0m \u001b[0merr\u001b[0m\u001b[0;34m:\u001b[0m\u001b[0;34m\u001b[0m\u001b[0;34m\u001b[0m\u001b[0m\n\u001b[0m\u001b[1;32m    664\u001b[0m             \u001b[0;32mraise\u001b[0m \u001b[0mModelError\u001b[0m\u001b[0;34m(\u001b[0m\u001b[0;34mf\"Failed to validate timespan. Reason given: {err}\"\u001b[0m\u001b[0;34m)\u001b[0m \u001b[0;32mfrom\u001b[0m \u001b[0merr\u001b[0m\u001b[0;34m\u001b[0m\u001b[0;34m\u001b[0m\u001b[0m\n\u001b[1;32m    665\u001b[0m \u001b[0;34m\u001b[0m\u001b[0m\n",
      "\u001b[0;31mTypeError\u001b[0m: catching classes that do not inherit from BaseException is not allowed"
     ]
    },
    {
     "name": "stdout",
     "output_type": "stream",
     "text": [
      "None\n"
     ]
    }
   ],
   "source": [
    "sol = spatialpy.Solver(model, debug_level=0)\n",
    "%time sol.compile()\n",
    "print(sol.build_dir)"
   ]
  },
  {
   "cell_type": "markdown",
   "id": "religious-array",
   "metadata": {},
   "source": [
    "***\n",
    "## Run the Simulation\n",
    "***"
   ]
  },
  {
   "cell_type": "code",
   "execution_count": 10,
   "id": "matched-burden",
   "metadata": {},
   "outputs": [
    {
     "ename": "TypeError",
     "evalue": "catching classes that do not inherit from BaseException is not allowed",
     "output_type": "error",
     "traceback": [
      "\u001b[0;31m---------------------------------------------------------------------------\u001b[0m",
      "\u001b[0;31mTimespanError\u001b[0m                             Traceback (most recent call last)",
      "\u001b[0;32m~/Documents/SpatialPy/spatialpy/core/model.py\u001b[0m in \u001b[0;36mcompile_prep\u001b[0;34m(self)\u001b[0m\n\u001b[1;32m    661\u001b[0m         \u001b[0;32mtry\u001b[0m\u001b[0;34m:\u001b[0m\u001b[0;34m\u001b[0m\u001b[0;34m\u001b[0m\u001b[0m\n\u001b[0;32m--> 662\u001b[0;31m             \u001b[0mself\u001b[0m\u001b[0;34m.\u001b[0m\u001b[0mtspan\u001b[0m\u001b[0;34m.\u001b[0m\u001b[0mvalidate\u001b[0m\u001b[0;34m(\u001b[0m\u001b[0mcoverage\u001b[0m\u001b[0;34m=\u001b[0m\u001b[0;34m\"all\"\u001b[0m\u001b[0;34m)\u001b[0m\u001b[0;34m\u001b[0m\u001b[0;34m\u001b[0m\u001b[0m\n\u001b[0m\u001b[1;32m    663\u001b[0m         \u001b[0;32mexcept\u001b[0m \u001b[0mTimeSpan\u001b[0m \u001b[0;32mas\u001b[0m \u001b[0merr\u001b[0m\u001b[0;34m:\u001b[0m\u001b[0;34m\u001b[0m\u001b[0;34m\u001b[0m\u001b[0m\n",
      "\u001b[0;32m~/Documents/SpatialPy/spatialpy/core/timespan.py\u001b[0m in \u001b[0;36mvalidate\u001b[0;34m(self, items, timestep_size, coverage)\u001b[0m\n\u001b[1;32m    171\u001b[0m             \u001b[0;32mif\u001b[0m \u001b[0;32mnot\u001b[0m \u001b[0misuniform\u001b[0m\u001b[0;34m:\u001b[0m\u001b[0;34m\u001b[0m\u001b[0;34m\u001b[0m\u001b[0m\n\u001b[0;32m--> 172\u001b[0;31m                 \u001b[0;32mraise\u001b[0m \u001b[0mTimespanError\u001b[0m\u001b[0;34m(\u001b[0m\u001b[0;34m\"StochKit only supports uniform timespans.\"\u001b[0m\u001b[0;34m)\u001b[0m\u001b[0;34m\u001b[0m\u001b[0;34m\u001b[0m\u001b[0m\n\u001b[0m\u001b[1;32m    173\u001b[0m             \u001b[0;32mif\u001b[0m \u001b[0mfirst_diff\u001b[0m \u001b[0;34m==\u001b[0m \u001b[0;36m0\u001b[0m \u001b[0;32mor\u001b[0m \u001b[0mnp\u001b[0m\u001b[0;34m.\u001b[0m\u001b[0mcount_nonzero\u001b[0m\u001b[0;34m(\u001b[0m\u001b[0mother_diff\u001b[0m\u001b[0;34m)\u001b[0m \u001b[0;34m!=\u001b[0m \u001b[0mlen\u001b[0m\u001b[0;34m(\u001b[0m\u001b[0mother_diff\u001b[0m\u001b[0;34m)\u001b[0m\u001b[0;34m:\u001b[0m\u001b[0;34m\u001b[0m\u001b[0;34m\u001b[0m\u001b[0m\n",
      "\u001b[0;31mTimespanError\u001b[0m: StochKit only supports uniform timespans.",
      "\nDuring handling of the above exception, another exception occurred:\n",
      "\u001b[0;31mTypeError\u001b[0m                                 Traceback (most recent call last)",
      "\u001b[0;32m<timed exec>\u001b[0m in \u001b[0;36m<module>\u001b[0;34m\u001b[0m\n",
      "\u001b[0;32m~/Documents/SpatialPy/spatialpy/solvers/solver.py\u001b[0m in \u001b[0;36mrun\u001b[0;34m(self, number_of_trajectories, seed, timeout, number_of_threads, debug, profile, verbose)\u001b[0m\n\u001b[1;32m    552\u001b[0m         \u001b[0;31m# Check if compiled, call compile() if not.\u001b[0m\u001b[0;34m\u001b[0m\u001b[0;34m\u001b[0m\u001b[0m\n\u001b[1;32m    553\u001b[0m         \u001b[0;32mif\u001b[0m \u001b[0;32mnot\u001b[0m \u001b[0mself\u001b[0m\u001b[0;34m.\u001b[0m\u001b[0mis_compiled\u001b[0m\u001b[0;34m:\u001b[0m\u001b[0;34m\u001b[0m\u001b[0;34m\u001b[0m\u001b[0m\n\u001b[0;32m--> 554\u001b[0;31m             \u001b[0mself\u001b[0m\u001b[0;34m.\u001b[0m\u001b[0mcompile\u001b[0m\u001b[0;34m(\u001b[0m\u001b[0mdebug\u001b[0m\u001b[0;34m=\u001b[0m\u001b[0mdebug\u001b[0m\u001b[0;34m,\u001b[0m \u001b[0mprofile\u001b[0m\u001b[0;34m=\u001b[0m\u001b[0mprofile\u001b[0m\u001b[0;34m)\u001b[0m\u001b[0;34m\u001b[0m\u001b[0;34m\u001b[0m\u001b[0m\n\u001b[0m\u001b[1;32m    555\u001b[0m \u001b[0;34m\u001b[0m\u001b[0m\n\u001b[1;32m    556\u001b[0m         \u001b[0;31m# Execute the solver\u001b[0m\u001b[0;34m\u001b[0m\u001b[0;34m\u001b[0m\u001b[0m\n",
      "\u001b[0;32m~/Documents/SpatialPy/spatialpy/solvers/solver.py\u001b[0m in \u001b[0;36mcompile\u001b[0;34m(self, debug, profile)\u001b[0m\n\u001b[1;32m    453\u001b[0m         \u001b[0;34m:\u001b[0m\u001b[0mraises\u001b[0m \u001b[0mSimulationError\u001b[0m\u001b[0;34m:\u001b[0m \u001b[0mFailed\u001b[0m \u001b[0mto\u001b[0m \u001b[0mcompile\u001b[0m\u001b[0;34m\u001b[0m\u001b[0;34m\u001b[0m\u001b[0m\n\u001b[1;32m    454\u001b[0m         \"\"\"\n\u001b[0;32m--> 455\u001b[0;31m         \u001b[0mstoich_matrix\u001b[0m\u001b[0;34m,\u001b[0m \u001b[0mdep_graph\u001b[0m \u001b[0;34m=\u001b[0m \u001b[0mself\u001b[0m\u001b[0;34m.\u001b[0m\u001b[0mmodel\u001b[0m\u001b[0;34m.\u001b[0m\u001b[0mcompile_prep\u001b[0m\u001b[0;34m(\u001b[0m\u001b[0;34m)\u001b[0m\u001b[0;34m\u001b[0m\u001b[0;34m\u001b[0m\u001b[0m\n\u001b[0m\u001b[1;32m    456\u001b[0m \u001b[0;34m\u001b[0m\u001b[0m\n\u001b[1;32m    457\u001b[0m         \u001b[0;31m# Create a unique directory each time call to compile.\u001b[0m\u001b[0;34m\u001b[0m\u001b[0;34m\u001b[0m\u001b[0m\n",
      "\u001b[0;32m~/Documents/SpatialPy/spatialpy/core/model.py\u001b[0m in \u001b[0;36mcompile_prep\u001b[0;34m(self)\u001b[0m\n\u001b[1;32m    661\u001b[0m         \u001b[0;32mtry\u001b[0m\u001b[0;34m:\u001b[0m\u001b[0;34m\u001b[0m\u001b[0;34m\u001b[0m\u001b[0m\n\u001b[1;32m    662\u001b[0m             \u001b[0mself\u001b[0m\u001b[0;34m.\u001b[0m\u001b[0mtspan\u001b[0m\u001b[0;34m.\u001b[0m\u001b[0mvalidate\u001b[0m\u001b[0;34m(\u001b[0m\u001b[0mcoverage\u001b[0m\u001b[0;34m=\u001b[0m\u001b[0;34m\"all\"\u001b[0m\u001b[0;34m)\u001b[0m\u001b[0;34m\u001b[0m\u001b[0;34m\u001b[0m\u001b[0m\n\u001b[0;32m--> 663\u001b[0;31m         \u001b[0;32mexcept\u001b[0m \u001b[0mTimeSpan\u001b[0m \u001b[0;32mas\u001b[0m \u001b[0merr\u001b[0m\u001b[0;34m:\u001b[0m\u001b[0;34m\u001b[0m\u001b[0;34m\u001b[0m\u001b[0m\n\u001b[0m\u001b[1;32m    664\u001b[0m             \u001b[0;32mraise\u001b[0m \u001b[0mModelError\u001b[0m\u001b[0;34m(\u001b[0m\u001b[0;34mf\"Failed to validate timespan. Reason given: {err}\"\u001b[0m\u001b[0;34m)\u001b[0m \u001b[0;32mfrom\u001b[0m \u001b[0merr\u001b[0m\u001b[0;34m\u001b[0m\u001b[0;34m\u001b[0m\u001b[0m\n\u001b[1;32m    665\u001b[0m \u001b[0;34m\u001b[0m\u001b[0m\n",
      "\u001b[0;31mTypeError\u001b[0m: catching classes that do not inherit from BaseException is not allowed"
     ]
    }
   ],
   "source": [
    "%time result = sol.run()"
   ]
  },
  {
   "cell_type": "markdown",
   "id": "91f5bbb2",
   "metadata": {},
   "source": [
    "***\n",
    "## Visualizations\n",
    "***\n",
    "### Plot the evolution of the copy number of a given species"
   ]
  },
  {
   "cell_type": "code",
   "execution_count": 11,
   "id": "single-challenge",
   "metadata": {},
   "outputs": [],
   "source": [
    "def plot_hes1(result):\n",
    "    protein = result.get_species(\"P\")\n",
    "    proteinsum = numpy.sum(protein, axis=1)\n",
    "    plt.plot(numpy.array(result.tspan) / 3600, proteinsum, 'r', label='protein')\n",
    "    \n",
    "    mRNA = result.get_species(\"mRNA\")\n",
    "    mRNAsum = numpy.sum(mRNA[:], axis=1)\n",
    "    plt.plot(numpy.array(result.tspan) / 3600, mRNAsum, 'b', label='mRNA')\n",
    "    \n",
    "    plt.legend(loc='best')\n",
    "    plt.xlabel('time (h)')\n",
    "    plt.ylabel('# of molecules')"
   ]
  },
  {
   "cell_type": "code",
   "execution_count": 12,
   "id": "expressed-smoke",
   "metadata": {},
   "outputs": [
    {
     "ename": "NameError",
     "evalue": "name 'result' is not defined",
     "output_type": "error",
     "traceback": [
      "\u001b[0;31m---------------------------------------------------------------------------\u001b[0m",
      "\u001b[0;31mNameError\u001b[0m                                 Traceback (most recent call last)",
      "\u001b[0;32m<timed eval>\u001b[0m in \u001b[0;36m<module>\u001b[0;34m\u001b[0m\n",
      "\u001b[0;31mNameError\u001b[0m: name 'result' is not defined"
     ]
    }
   ],
   "source": [
    "%time plot_hes1(result)"
   ]
  },
  {
   "cell_type": "code",
   "execution_count": 13,
   "id": "grave-victoria",
   "metadata": {},
   "outputs": [
    {
     "ename": "NameError",
     "evalue": "name 'result' is not defined",
     "output_type": "error",
     "traceback": [
      "\u001b[0;31m---------------------------------------------------------------------------\u001b[0m",
      "\u001b[0;31mNameError\u001b[0m                                 Traceback (most recent call last)",
      "\u001b[0;32m/var/folders/z4/bqpnd_kx7xg3s3c9jtz0pnfh0000gn/T/ipykernel_1793/1969671138.py\u001b[0m in \u001b[0;36m<module>\u001b[0;34m\u001b[0m\n\u001b[0;32m----> 1\u001b[0;31m \u001b[0mpf\u001b[0m \u001b[0;34m=\u001b[0m \u001b[0mnumpy\u001b[0m\u001b[0;34m.\u001b[0m\u001b[0msum\u001b[0m\u001b[0;34m(\u001b[0m\u001b[0mresult\u001b[0m\u001b[0;34m.\u001b[0m\u001b[0mget_species\u001b[0m\u001b[0;34m(\u001b[0m\u001b[0;34m\"G_f\"\u001b[0m\u001b[0;34m)\u001b[0m\u001b[0;34m,\u001b[0m \u001b[0maxis\u001b[0m\u001b[0;34m=\u001b[0m\u001b[0;36m1\u001b[0m\u001b[0;34m)\u001b[0m\u001b[0;34m\u001b[0m\u001b[0;34m\u001b[0m\u001b[0m\n\u001b[0m\u001b[1;32m      2\u001b[0m \u001b[0mplt\u001b[0m\u001b[0;34m.\u001b[0m\u001b[0mplot\u001b[0m\u001b[0;34m(\u001b[0m\u001b[0mnumpy\u001b[0m\u001b[0;34m.\u001b[0m\u001b[0marray\u001b[0m\u001b[0;34m(\u001b[0m\u001b[0mresult\u001b[0m\u001b[0;34m.\u001b[0m\u001b[0mtspan\u001b[0m\u001b[0;34m)\u001b[0m \u001b[0;34m/\u001b[0m \u001b[0;36m3600\u001b[0m\u001b[0;34m,\u001b[0m \u001b[0mpf\u001b[0m\u001b[0;34m,\u001b[0m \u001b[0;34m'r'\u001b[0m\u001b[0;34m,\u001b[0m \u001b[0mlabel\u001b[0m\u001b[0;34m=\u001b[0m\u001b[0;34m\"G_f\"\u001b[0m\u001b[0;34m)\u001b[0m\u001b[0;34m\u001b[0m\u001b[0;34m\u001b[0m\u001b[0m\n\u001b[1;32m      3\u001b[0m \u001b[0mplt\u001b[0m\u001b[0;34m.\u001b[0m\u001b[0mlegend\u001b[0m\u001b[0;34m(\u001b[0m\u001b[0mloc\u001b[0m\u001b[0;34m=\u001b[0m\u001b[0;34m\"best\"\u001b[0m\u001b[0;34m)\u001b[0m\u001b[0;34m\u001b[0m\u001b[0;34m\u001b[0m\u001b[0m\n",
      "\u001b[0;31mNameError\u001b[0m: name 'result' is not defined"
     ]
    }
   ],
   "source": [
    "pf = numpy.sum(result.get_species(\"G_f\"), axis=1)\n",
    "plt.plot(numpy.array(result.tspan) / 3600, pf, 'r', label=\"G_f\")\n",
    "plt.legend(loc=\"best\")"
   ]
  }
 ],
 "metadata": {
  "kernelspec": {
   "display_name": "Python 3 (ipykernel)",
   "language": "python",
   "name": "python3"
  },
  "language_info": {
   "codemirror_mode": {
    "name": "ipython",
    "version": 3
   },
   "file_extension": ".py",
   "mimetype": "text/x-python",
   "name": "python",
   "nbconvert_exporter": "python",
   "pygments_lexer": "ipython3",
   "version": "3.9.9"
  }
 },
 "nbformat": 4,
 "nbformat_minor": 5
}

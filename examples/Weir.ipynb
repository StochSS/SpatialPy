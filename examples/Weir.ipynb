{
 "cells": [
  {
   "cell_type": "markdown",
   "metadata": {},
   "source": [
    "# Weir: Water Flowing Over a Low Dam\n",
    "***\n",
    "https://en.wikipedia.org/wiki/Weir\n",
    "\n",
    "This is an example of a 2D fluid flow.\n",
    "***\n",
    "## Setup the Environment\n",
    "***"
   ]
  },
  {
   "cell_type": "code",
   "execution_count": 1,
   "metadata": {},
   "outputs": [],
   "source": [
    "import os\n",
    "import sys\n",
    "sys.path.insert(1, os.path.abspath(os.path.join(os.getcwd(), '../')))"
   ]
  },
  {
   "cell_type": "code",
   "execution_count": 2,
   "metadata": {},
   "outputs": [],
   "source": [
    "import numpy"
   ]
  },
  {
   "cell_type": "markdown",
   "metadata": {},
   "source": [
    "MatPlotLib is used for creating custom visualizations"
   ]
  },
  {
   "cell_type": "code",
   "execution_count": 3,
   "metadata": {},
   "outputs": [],
   "source": [
    "import matplotlib.pyplot as plt"
   ]
  },
  {
   "cell_type": "code",
   "execution_count": 4,
   "metadata": {},
   "outputs": [],
   "source": [
    "import spatialpy"
   ]
  },
  {
   "cell_type": "markdown",
   "metadata": {},
   "source": [
    "***\n",
    "## Create the Boundary Conditions for the System\n",
    "***\n",
    "For custom boundary conditions it is necessary to subclass the `BoundaryCondition` class that implements the `__init__` and `expression` methods. The `expression` method must return a `C++` executable code block in string format.\n",
    "\n",
    "For this example we create two custom boundry conditions:\n",
    "- `Teleport`:   Simulates the constant flow of fluid particles (without the need to create and destroy them) by teleporting them to the begining of the system.\n",
    "- `HardSurface`:  Simulates the solid ground, preventing particles from passing through."
   ]
  },
  {
   "cell_type": "code",
   "execution_count": 5,
   "metadata": {},
   "outputs": [],
   "source": [
    "class Teleport(spatialpy.BoundaryCondition):\n",
    "    def __init__(self):\n",
    "        pass\n",
    "    \n",
    "    def expression(self):\n",
    "        return \"\"\"\n",
    "        if(me->x[0] > system->xhi){\n",
    "            me->x[0] = system->xlo + 0.55;\n",
    "        }\n",
    "        if(me->x[0] < system->xlo ){\n",
    "            me->x[0] = system->xlo + 0.55;\n",
    "        }\n",
    "        if(me->x[1] > system->yhi){\n",
    "            me->v[1]= 0.0;\n",
    "            me->x[1]= system->yhi - 0.01;\n",
    "        }\n",
    "        me->x[2] = 0;\n",
    "        me->rho = 2.5;\n",
    "        \"\"\""
   ]
  },
  {
   "cell_type": "code",
   "execution_count": 6,
   "metadata": {},
   "outputs": [],
   "source": [
    "class HardSurface(spatialpy.BoundaryCondition):\n",
    "    def __init__(self, type_ids):\n",
    "        self.type_ids = type_ids\n",
    "    \n",
    "    def expression(self):\n",
    "        exp = \"if(\"\n",
    "        exp += f\"me->x[1] < 0.4\"\n",
    "        for type_id in self.type_ids:\n",
    "            exp += f\" && me->type != {type_id}\"\n",
    "        exp += \"){\"\n",
    "        exp += \"me->x[1] = 0.5;\"\n",
    "        exp += \"me->v[1] = 0.0;\"\n",
    "        exp += \"}\"\n",
    "        return exp"
   ]
  },
  {
   "cell_type": "markdown",
   "metadata": {},
   "source": [
    "***\n",
    "## Create Geometries for the Domain\n",
    "***\n",
    "For custom geometries it is necessary to subclass the `Geometry` class that implements the `__init__` and `inside` methods. The `inside` method must return boolean value.\n",
    "\n",
    "For this example we create three custom geometries: `StreamBed`, `Dam`, and `Water`"
   ]
  },
  {
   "cell_type": "code",
   "execution_count": 7,
   "metadata": {},
   "outputs": [],
   "source": [
    "class StreamBed(spatialpy.Geometry):\n",
    "    def __init__(self, y_lim):\n",
    "        self.y_lim = y_lim\n",
    "        \n",
    "    def inside(self, point, on_boundary):\n",
    "        if point[1] == self.y_lim:\n",
    "            return True\n",
    "        return False"
   ]
  },
  {
   "cell_type": "code",
   "execution_count": 8,
   "metadata": {},
   "outputs": [],
   "source": [
    "class Dam(spatialpy.Geometry):\n",
    "    def __init__(self, x_lim, y_lim):\n",
    "        self.x_lim = x_lim\n",
    "        self.y_lim = y_lim\n",
    "        \n",
    "    def inside(self, point, on_boundary):\n",
    "        if point[0] >= self.x_lim[0] and point[0] <= self.x_lim[1] and \\\n",
    "                    point[1] > self.y_lim[0] and point[1] < self.y_lim[1]:\n",
    "            return True\n",
    "        return False"
   ]
  },
  {
   "cell_type": "code",
   "execution_count": 9,
   "metadata": {},
   "outputs": [],
   "source": [
    "class Water(spatialpy.Geometry):\n",
    "    def __init__(self, x_lim, y_lim):\n",
    "        self.x_lim = x_lim\n",
    "        self.y_lim = y_lim\n",
    "        \n",
    "    def inside(self, point, on_boundary):\n",
    "        if point[1] > self.y_lim[0] and point[1] < self.y_lim[1] and \\\n",
    "                    point[0] > self.x_lim[0] and point[0] < self.x_lim[1]:\n",
    "            return True\n",
    "        return False"
   ]
  },
  {
   "cell_type": "markdown",
   "metadata": {},
   "source": [
    "***\n",
    "## Creating a Fluid Dynamics Model using SpatialPy\n",
    "***"
   ]
  },
  {
   "cell_type": "code",
   "execution_count": 10,
   "metadata": {},
   "outputs": [],
   "source": [
    "def create_weir(model_name=\"weir\", parameter_values=None):\n",
    "    # Initialize Model\n",
    "    model = spatialpy.Model(model_name)\n",
    "\n",
    "    # Define Domain Type IDs as constants of the Model\n",
    "    model.STREAM_BED = StreamBed.__name__\n",
    "    model.DAM = Dam.__name__\n",
    "    model.WATER = Water.__name__\n",
    "\n",
    "    # Set Domain bounds\n",
    "    xmax = 35.1\n",
    "    ymax = 10.1\n",
    "    delta_x = 0.2\n",
    "\n",
    "    # Set mass per particle\n",
    "    water_mass = 1.0\n",
    "    solid_mass = 1.0\n",
    "\n",
    "    \"\"\"\n",
    "    Create an empty domain\n",
    "    - numpoints: Total number of spatial domain points.\n",
    "    - xlim: Range of domain along x-axis.\n",
    "    - ylim: Range of domain along y-axis.\n",
    "    - zlim: Range of domain along z-axis.\n",
    "    - rho0: Background density for the system.\n",
    "    - c0: Speed of sound for the system.\n",
    "    - P0: Background pressure for the system.\n",
    "    - gravity: Acceleration of gravity for the system.\n",
    "    \"\"\"\n",
    "    domain = spatialpy.Domain(\n",
    "        numpoints=0, xlim=(0, xmax), ylim=(0, ymax), zlim=(0, 0), gravity=[0, -1, 0]\n",
    "    )\n",
    "    # Fill our domain with particles using Geometries\n",
    "    \"\"\"\n",
    "    Fill a geometric shape with particles.\n",
    "\n",
    "    - geometry_ivar: an instance of a 'spatialpy.Geometry' subclass.  The 'inside()' method\n",
    "                     of this object will be used to add a single point particles.\n",
    "    - deltax: Distance between particles on the x-axis.\n",
    "    - deltay: Distance between particles on the y-axis (defaults to deltax).\n",
    "    - deltaz: Distance between particles on the z-axis (defaults to deltax).\n",
    "    - xmin: Minimum x value of the bounding box (defaults to Domain.xlim[0]).\n",
    "    - xmax: Maximum x value of the bounding box (defaults to Domain.xlim[1]).\n",
    "    - ymin: Minimum y value of the bounding box (defaults to Domain.ylim[0]).\n",
    "    - ymax: Maximum y value of the bounding box (defaults to Domain.ylim[1]).\n",
    "    - zmin: Minimum z value of the bounding box (defaults to Domain.zlim[0]).\n",
    "    - zmax: Maximum z value of the bounding box (defaults to Domain.zlim[1]).\n",
    "    - type_id: Particle type ID of particle to be created.\n",
    "    - vol: Default volume of particle to be added.\n",
    "    - mass: Default mass of particle to be added.\n",
    "    - nu: Default viscosity of particle to be created.\n",
    "    - c: Default artificial speed of sound of particle to be created.\n",
    "    - rho: Default density of particle to be created\n",
    "    - fixed: True if particle is spatially fixed, else False.\n",
    "    \"\"\"\n",
    "    # Create the stream bed\n",
    "    np_bed = domain.fill_with_particles(\n",
    "        geometry_ivar=StreamBed(0),\n",
    "        deltax=delta_x,\n",
    "        ymax=0,\n",
    "        type_id=model.STREAM_BED,\n",
    "        mass=solid_mass,\n",
    "        vol=1.0,\n",
    "        nu=1.0,\n",
    "        fixed=True\n",
    "    )\n",
    "    # Create the dam\n",
    "    np_dam = domain.fill_with_particles(\n",
    "        geometry_ivar=Dam((10, 15), (0, 5)),\n",
    "        deltax=delta_x,\n",
    "        xmin=10,\n",
    "        xmax=15,\n",
    "        ymax=5,\n",
    "        type_id=model.DAM,\n",
    "        mass=solid_mass,\n",
    "        vol=1.0,\n",
    "        nu=1.0,\n",
    "        fixed=True\n",
    "    )\n",
    "    # Create the water\n",
    "    np_water = domain.fill_with_particles(\n",
    "        geometry_ivar=Water((1, 8), (1, 8)),\n",
    "        deltax=delta_x * 2,\n",
    "        xmin=1,\n",
    "        xmax=8,\n",
    "        ymin=1,\n",
    "        ymax=8,\n",
    "        type_id=model.WATER,\n",
    "        mass=water_mass,\n",
    "        vol=1.0,\n",
    "        nu=1.0,\n",
    "        fixed=False\n",
    "    )\n",
    "    # Set Model Domain\n",
    "    model.add_domain(domain)\n",
    "\n",
    "    # Define Boundary Conditions\n",
    "    teleport = Teleport()\n",
    "    hard_surface = HardSurface(\n",
    "        (model.domain.get_type_def(model.STREAM_BED), model.domain.get_type_def(model.DAM))\n",
    "    )\n",
    "        \n",
    "    # Add the Boundary Conditions to the Model\n",
    "    model.add_boundary_condition([teleport, hard_surface])\n",
    "\n",
    "    # Setting staticDomain to False allows particles to move within the system.\n",
    "    model.staticDomain = False\n",
    "\n",
    "    # Define Timespan\n",
    "    tspan = spatialpy.TimeSpan.linspace(t=50, num_points=101, timestep_size=1e-3)\n",
    "    \n",
    "    # Use NumPy to set the timespan of the Model.\n",
    "    model.timespan(tspan)\n",
    "    return model"
   ]
  },
  {
   "cell_type": "markdown",
   "metadata": {},
   "source": [
    "### Instantiate your Model"
   ]
  },
  {
   "cell_type": "code",
   "execution_count": 11,
   "metadata": {
    "scrolled": false,
    "tags": []
   },
   "outputs": [
    {
     "ename": "AttributeError",
     "evalue": "'list' object has no attribute 'model'",
     "output_type": "error",
     "traceback": [
      "\u001b[0;31m---------------------------------------------------------------------------\u001b[0m",
      "\u001b[0;31mAttributeError\u001b[0m                            Traceback (most recent call last)",
      "\u001b[0;32m/var/folders/z4/bqpnd_kx7xg3s3c9jtz0pnfh0000gn/T/ipykernel_1594/4095943191.py\u001b[0m in \u001b[0;36m<module>\u001b[0;34m\u001b[0m\n\u001b[0;32m----> 1\u001b[0;31m \u001b[0mmodel\u001b[0m \u001b[0;34m=\u001b[0m \u001b[0mcreate_weir\u001b[0m\u001b[0;34m(\u001b[0m\u001b[0;34m)\u001b[0m\u001b[0;34m\u001b[0m\u001b[0;34m\u001b[0m\u001b[0m\n\u001b[0m",
      "\u001b[0;32m/var/folders/z4/bqpnd_kx7xg3s3c9jtz0pnfh0000gn/T/ipykernel_1594/779732979.py\u001b[0m in \u001b[0;36mcreate_weir\u001b[0;34m(model_name, parameter_values)\u001b[0m\n\u001b[1;32m    102\u001b[0m \u001b[0;34m\u001b[0m\u001b[0m\n\u001b[1;32m    103\u001b[0m     \u001b[0;31m# Add the Boundary Conditions to the Model\u001b[0m\u001b[0;34m\u001b[0m\u001b[0;34m\u001b[0m\u001b[0m\n\u001b[0;32m--> 104\u001b[0;31m     \u001b[0mmodel\u001b[0m\u001b[0;34m.\u001b[0m\u001b[0madd_boundary_condition\u001b[0m\u001b[0;34m(\u001b[0m\u001b[0;34m[\u001b[0m\u001b[0mteleport\u001b[0m\u001b[0;34m,\u001b[0m \u001b[0mhard_surface\u001b[0m\u001b[0;34m]\u001b[0m\u001b[0;34m)\u001b[0m\u001b[0;34m\u001b[0m\u001b[0;34m\u001b[0m\u001b[0m\n\u001b[0m\u001b[1;32m    105\u001b[0m \u001b[0;34m\u001b[0m\u001b[0m\n\u001b[1;32m    106\u001b[0m     \u001b[0;31m# Setting staticDomain to False allows particles to move within the system.\u001b[0m\u001b[0;34m\u001b[0m\u001b[0;34m\u001b[0m\u001b[0m\n",
      "\u001b[0;32m~/Documents/SpatialPy/spatialpy/core/model.py\u001b[0m in \u001b[0;36madd_boundary_condition\u001b[0;34m(self, bound_cond)\u001b[0m\n\u001b[1;32m    567\u001b[0m         \u001b[0;34m:\u001b[0m\u001b[0mtype\u001b[0m \u001b[0mbound_cond\u001b[0m\u001b[0;34m:\u001b[0m \u001b[0mspatialpy\u001b[0m\u001b[0;34m.\u001b[0m\u001b[0mcore\u001b[0m\u001b[0;34m.\u001b[0m\u001b[0mboundarycondition\u001b[0m\u001b[0;34m.\u001b[0m\u001b[0mBoundaryCondition\u001b[0m\u001b[0;34m\u001b[0m\u001b[0;34m\u001b[0m\u001b[0m\n\u001b[1;32m    568\u001b[0m         \"\"\"\n\u001b[0;32m--> 569\u001b[0;31m         \u001b[0mbound_cond\u001b[0m\u001b[0;34m.\u001b[0m\u001b[0mmodel\u001b[0m \u001b[0;34m=\u001b[0m \u001b[0mself\u001b[0m\u001b[0;34m\u001b[0m\u001b[0;34m\u001b[0m\u001b[0m\n\u001b[0m\u001b[1;32m    570\u001b[0m         \u001b[0mself\u001b[0m\u001b[0;34m.\u001b[0m\u001b[0mlistOfBoundaryConditions\u001b[0m\u001b[0;34m.\u001b[0m\u001b[0mappend\u001b[0m\u001b[0;34m(\u001b[0m\u001b[0mbound_cond\u001b[0m\u001b[0;34m)\u001b[0m\u001b[0;34m\u001b[0m\u001b[0;34m\u001b[0m\u001b[0m\n\u001b[1;32m    571\u001b[0m \u001b[0;34m\u001b[0m\u001b[0m\n",
      "\u001b[0;31mAttributeError\u001b[0m: 'list' object has no attribute 'model'"
     ]
    }
   ],
   "source": [
    "model = create_weir()"
   ]
  },
  {
   "cell_type": "markdown",
   "metadata": {},
   "source": [
    "***\n",
    "## Run the  Simulation\n",
    "***"
   ]
  },
  {
   "cell_type": "code",
   "execution_count": null,
   "metadata": {},
   "outputs": [],
   "source": [
    "results = model.run()"
   ]
  },
  {
   "cell_type": "markdown",
   "metadata": {},
   "source": [
    "***\n",
    "## Visualization\n",
    "***\n",
    "Plot the results of the simulation.\n",
    "\n",
    "For fluid dynamics problems visualizing particle properies can be valuable, lets plot the `Type IDs` of the particles at the start of the simulation using MatPlotLib. For this example lets generate custom plots for timepoint `[0, 1, 10, 99]` using `MatPlotLib` "
   ]
  },
  {
   "cell_type": "code",
   "execution_count": null,
   "metadata": {},
   "outputs": [],
   "source": [
    "def process_data(points, raw_data):\n",
    "    # Sort data by Type ID\n",
    "    data = {}\n",
    "    for i, val in enumerate(raw_data['type']):\n",
    "        name = model.domain.typeNameMapping[val][5:]\n",
    "\n",
    "        if name in data:\n",
    "            data[name].append(points[i])\n",
    "        else:\n",
    "            data[name] = [points[i]]\n",
    "    return data"
   ]
  },
  {
   "cell_type": "code",
   "execution_count": null,
   "metadata": {},
   "outputs": [],
   "source": [
    "def mpl_plot_property(t_ndx=0):\n",
    "    \"\"\"\n",
    "    Read the data for 'step_num'. Returns a tuple containing a numpy.ndarray \n",
    "    of point coordinates [0] along with a dictionary of property and species data [1]\n",
    "\n",
    "    - step_num: The index in the results timespan.\n",
    "    \"\"\"\n",
    "    points, raw_data = results.read_step(t_ndx)\n",
    "    # Process raw data for plotting\n",
    "    data = process_data(points=points, raw_data=raw_data)\n",
    "    \n",
    "    # Set the colors for each type_id\n",
    "    colors = [\"brown\", \"grey\", \"blue\"]\n",
    "    \n",
    "    xlim = results.model.domain.xlim\n",
    "    ylim = results.model.domain.ylim\n",
    "    aspect_ratio = ylim[1] / xlim[1]\n",
    "    width = 8.25\n",
    "    \n",
    "    fig, ax = plt.subplots(figsize=(width, width * aspect_ratio))\n",
    "    ax.set_xlim(xlim[0] - 1, xlim[1] + 1)\n",
    "    ax.set_ylim(ylim[0] - 1, ylim[1] + 1)\n",
    "    for i, (name, points) in enumerate(data.items()):\n",
    "        points = numpy.array(points)\n",
    "        ax.scatter(points[:, 0], points[:, 1], c=colors[i], label=name)\n",
    "        ax.grid(linestyle='', linewidth=1)\n",
    "        ax.legend(bbox_to_anchor=(1, 1), loc='upper left', ncol=1, fontsize=12)\n",
    "    plt.plot()\n",
    "    return"
   ]
  },
  {
   "cell_type": "code",
   "execution_count": null,
   "metadata": {},
   "outputs": [],
   "source": [
    "mpl_plot_property(0)"
   ]
  },
  {
   "cell_type": "code",
   "execution_count": null,
   "metadata": {},
   "outputs": [],
   "source": [
    "mpl_plot_property(1)"
   ]
  },
  {
   "cell_type": "code",
   "execution_count": null,
   "metadata": {},
   "outputs": [],
   "source": [
    "mpl_plot_property(10)"
   ]
  },
  {
   "cell_type": "code",
   "execution_count": null,
   "metadata": {},
   "outputs": [],
   "source": [
    "mpl_plot_property(99)"
   ]
  },
  {
   "cell_type": "markdown",
   "metadata": {},
   "source": [
    "Just like before that plot is somewhat boring, so lets plot the `Type IDs` over time using Plotly anumation."
   ]
  },
  {
   "cell_type": "code",
   "execution_count": null,
   "metadata": {},
   "outputs": [],
   "source": [
    "results.plot_property(\n",
    "    # Set the name of the property.\n",
    "    property_name='type',\n",
    "    \n",
    "    # Set to True to use Plotly animation\n",
    "    animated=True,\n",
    "    \n",
    "    # Set the transition and frame durations\n",
    "    t_duration=10,\n",
    "    f_duration=10,\n",
    ")"
   ]
  },
  {
   "cell_type": "markdown",
   "metadata": {},
   "source": [
    "Other properties that are available for vizualization are:\n",
    "- Velocity: `v`\n",
    "- Density: `rho`\n",
    "- Mass: `mass`\n",
    "- Viscocity: `nu`\n",
    "- Boundary Volume Fraction: `bvf_phi` (non-standard SDPD: https://www.sciencedirect.com/science/article/abs/pii/S0955799721000916)\n",
    "\n",
    "Lets plot the velocity in the `X` and `Y` directions."
   ]
  },
  {
   "cell_type": "code",
   "execution_count": null,
   "metadata": {},
   "outputs": [],
   "source": [
    "results.plot_property(\n",
    "    # Set the name of the property.\n",
    "    property_name='v',\n",
    "    \n",
    "    # Set the velocity direction (X: 0, Y: 1, Z: 0)\n",
    "    p_ndx=0,\n",
    "    \n",
    "    # Set to True to use Plotly animation\n",
    "    animated=True,\n",
    "    \n",
    "    # Set the transition and frame durations\n",
    "    t_duration=10,\n",
    "    f_duration=10\n",
    ")"
   ]
  },
  {
   "cell_type": "code",
   "execution_count": null,
   "metadata": {
    "tags": []
   },
   "outputs": [],
   "source": [
    "results.plot_property(\n",
    "    # Set the name of the property.\n",
    "    property_name='v',\n",
    "    \n",
    "    # Set the velocity direction (X: 0, Y: 1, Z: 0)\n",
    "    p_ndx=1,\n",
    "    \n",
    "    # Set to True to use Plotly animation\n",
    "    animated=True,\n",
    "    \n",
    "    # Set the transition and frame durations\n",
    "    t_duration=10,\n",
    "    f_duration=10\n",
    ")"
   ]
  },
  {
   "cell_type": "markdown",
   "metadata": {},
   "source": [
    "A more complete list of `results.plot_property()` arguments can be found in the [documentation](https://stochss.github.io/SpatialPy/docs/build/html/classes/spatialpy.core.html#spatialpy.core.result.Result.plot_property)."
   ]
  }
 ],
 "metadata": {
  "kernelspec": {
   "display_name": "Python 3 (ipykernel)",
   "language": "python",
   "name": "python3"
  },
  "language_info": {
   "codemirror_mode": {
    "name": "ipython",
    "version": 3
   },
   "file_extension": ".py",
   "mimetype": "text/x-python",
   "name": "python",
   "nbconvert_exporter": "python",
   "pygments_lexer": "ipython3",
   "version": "3.9.9"
  }
 },
 "nbformat": 4,
 "nbformat_minor": 2
}

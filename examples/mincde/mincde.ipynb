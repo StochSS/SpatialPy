{
 "cells": [
  {
   "cell_type": "markdown",
   "metadata": {},
   "source": [
    "# MinD Oscillations in E. coli"
   ]
  },
  {
   "cell_type": "markdown",
   "metadata": {},
   "source": [
    "One spatial reaction-diffusion system that has been studied frequently in the literature both in a deterministic setting (Huang et. al, 2003) and using a stochastic description (Fange and Elf, 2006) is describing the periodic oscillations of Min proteins in the bacterium E. Coli. By oscillating from pole to pole, MinC suppresses the formation of a cell division site at the poles, indirectly positioning it in the middle of the cell.\n",
    "\n",
    "References:\n",
    " - Kerwyn Casey Huang, Yigal Meir, and Ned S. Wingreen, Dynamic structures in Escherichia coli: Spontaneous formation of MinE rings and MinD polar zones,PNAS, 2003.\n",
    " - David Fange and Johan Elf, Noise-induced Min Phenotypes in E. Coli, PLOS Computational Biology, 2(6), 2006."
   ]
  },
  {
   "cell_type": "markdown",
   "metadata": {},
   "source": [
    "### Imports and definitions"
   ]
  },
  {
   "cell_type": "code",
   "execution_count": 1,
   "metadata": {
    "tags": []
   },
   "outputs": [],
   "source": [
    "%load_ext autoreload\n",
    "%autoreload 2\n",
    "\n",
    "import os\n",
    "import sys\n",
    "sys.path.append('../..')\n",
    "\n",
    "import numpy as np\n",
    "import matplotlib.pyplot as plt\n",
    "\n",
    "import spatialpy"
   ]
  },
  {
   "cell_type": "code",
   "execution_count": 2,
   "metadata": {},
   "outputs": [],
   "source": [
    "class Membrane(spatialpy.Geometry):\n",
    "    def inside(self, x, on_boundary):\n",
    "        return on_boundary\n",
    "\n",
    "\n",
    "class Cytosol(spatialpy.Geometry):\n",
    "    def inside(self, x, on_boundary):\n",
    "        return not on_boundary\n",
    "\n",
    "\n",
    "class DomainSize(spatialpy.DataFunction):\n",
    "    def __init__(self, domain):\n",
    "        spatialpy.DataFunction.__init__(self, name=\"DomainSize\")\n",
    "        self.domain = domain\n",
    "        self.h = domain.get_domain_size()\n",
    "    \n",
    "    def expression(self, x):\n",
    "        ret = self.h[self.domain.closest_vertex(x)]\n",
    "        return ret"
   ]
  },
  {
   "cell_type": "markdown",
   "metadata": {},
   "source": [
    "### Model"
   ]
  },
  {
   "cell_type": "code",
   "execution_count": 3,
   "metadata": {},
   "outputs": [],
   "source": [
    "class mincde(spatialpy.Model):\n",
    "    \"\"\" Model of MinD oscillations in E. Coli, based on the model by Huang. et. al. in \"\"\"\n",
    "\n",
    "    def __init__(self,model_name=\"mincde\"):\n",
    "        spatialpy.Model.__init__(self, model_name)\n",
    "\n",
    "        # Species\n",
    "        MinD_m = spatialpy.Species(name=\"MinD_m\", diffusion_constant=1e-14)\n",
    "        MinD_c_atp = spatialpy.Species(name=\"MinD_c_atp\", diffusion_constant=2.5e-12)\n",
    "        MinD_c_adp = spatialpy.Species(name=\"MinD_c_adp\", diffusion_constant=2.5e-12)\n",
    "        MinD_e = spatialpy.Species(name=\"MinD_e\", diffusion_constant=2.5e-12)\n",
    "        MinDE = spatialpy.Species(name=\"MinDE\", diffusion_constant=1e-14)\n",
    "        self.add_species([MinD_m, MinD_c_atp, MinD_c_adp, MinD_e, MinDE])\n",
    "        \n",
    "        # Restrict to membrane\n",
    "        self.restrict(MinD_m, 2)\n",
    "        self.restrict(MinDE, 2)\n",
    "        \n",
    "        # Domain\n",
    "        self.domain = spatialpy.Domain.read_xml_mesh(\"mesh/coli.xml\")\n",
    "        \n",
    "        # Types\n",
    "        self.set_type(Cytosol(), 1)\n",
    "        self.set_type(Membrane(), 2)\n",
    "                \n",
    "        # Data Functions\n",
    "        self.add_data_function(DomainSize(self.domain))\n",
    "        \n",
    "        # Parameters\n",
    "        NA = spatialpy.Parameter(name=\"NA\", expression=6.022e23)\n",
    "        sigma_d = spatialpy.Parameter(name=\"sigma_d\", expression=2.5e-8)\n",
    "        sigma_dD = spatialpy.Parameter(name=\"sigma_dD\", expression=0.0016e-18)\n",
    "        sigma_e = spatialpy.Parameter(name=\"sigma_e\", expression=0.093e-18)\n",
    "        sigma_de = spatialpy.Parameter(name=\"sigma_de\", expression=0.7)\n",
    "        sigma_dt = spatialpy.Parameter(name=\"sigma_dt\", expression=1.0)\n",
    "        self.add_parameter([NA, sigma_d, sigma_dD, sigma_e, sigma_de, sigma_dt])\n",
    "\n",
    "        # Reactions\n",
    "        R1 = spatialpy.Reaction(name=\"R1\", propensity_function=\"MinD_c_atp*sigma_d/MeshSize\", restrict_to=2,\n",
    "                                reactants={MinD_c_atp:1}, products={MinD_m:1})\n",
    "        R2 = spatialpy.Reaction(name=\"R2\", rate=sigma_dD,\n",
    "                                reactants={MinD_c_atp:1,MinD_m:1}, products={MinD_m:2})\n",
    "        R3 = spatialpy.Reaction(name=\"R3\", rate=sigma_e,\n",
    "                                reactants={MinD_m:1,MinD_e:1}, products={MinDE:1})\n",
    "        R4 = spatialpy.Reaction(name=\"R4\", rate=sigma_de,\n",
    "                                reactants={MinDE:1}, products={MinD_c_adp:1,MinD_e:1})\n",
    "        R5 = spatialpy.Reaction(name=\"R5\", rate=sigma_dt,\n",
    "                                reactants={MinD_c_adp:1}, products={MinD_c_atp:1})\n",
    "        R6 = spatialpy.Reaction(name=\"R6\", rate=sigma_dD,\n",
    "                                reactants={MinDE:1,MinD_c_atp:1}, products={MinD_m:1,MinDE:1})\n",
    "        self.add_reaction([R1, R2, R3, R4, R5, R6])\n",
    "        \n",
    "        # Initial Conditions\n",
    "        self.add_initial_condition(spatialpy.ScatterInitialCondition(MinD_c_adp, 4500))\n",
    "        self.add_initial_condition(spatialpy.ScatterInitialCondition(MinD_e, 1575))\n",
    "\n",
    "        self.timespan(range(200))"
   ]
  },
  {
   "cell_type": "code",
   "execution_count": 4,
   "metadata": {
    "scrolled": true
   },
   "outputs": [
    {
     "name": "stderr",
     "output_type": "stream",
     "text": [
      "../../spatialpy/Model.py:222: UserWarning: Type with type_id=2 has zero particles in it\n",
      "  warnings.warn(\"Type with type_id={0} has zero particles in it\".format(type_id))\n"
     ]
    }
   ],
   "source": [
    "model = mincde(model_name=\"mincde\")"
   ]
  },
  {
   "cell_type": "code",
   "execution_count": 5,
   "metadata": {},
   "outputs": [
    {
     "name": "stdout",
     "output_type": "stream",
     "text": [
      "Compiling Solver.  Build dir: /var/folders/nf/3stvfv_d2m16_v3p14l17rmm0000gn/T/spatialpy_build_r2sx2uic\n"
     ]
    },
    {
     "ename": "TypeError",
     "evalue": "expression() missing 1 required positional argument: 'x'",
     "output_type": "error",
     "traceback": [
      "\u001b[0;31m---------------------------------------------------------------------------\u001b[0m",
      "\u001b[0;31mTypeError\u001b[0m                                 Traceback (most recent call last)",
      "\u001b[0;32m<timed exec>\u001b[0m in \u001b[0;36m<module>\u001b[0;34m\u001b[0m\n",
      "\u001b[0;32m~/Documents/Undergrade_Research/Dr_Drawert/SpatialPy/spatialpy/Model.py\u001b[0m in \u001b[0;36mrun\u001b[0;34m(self, number_of_trajectories, seed, timeout, number_of_threads, debug_level, debug, profile)\u001b[0m\n\u001b[1;32m    140\u001b[0m         \u001b[0msol\u001b[0m \u001b[0;34m=\u001b[0m \u001b[0mSolver\u001b[0m\u001b[0;34m(\u001b[0m\u001b[0mself\u001b[0m\u001b[0;34m,\u001b[0m \u001b[0mdebug_level\u001b[0m\u001b[0;34m=\u001b[0m\u001b[0mdebug_level\u001b[0m\u001b[0;34m)\u001b[0m\u001b[0;34m\u001b[0m\u001b[0;34m\u001b[0m\u001b[0m\n\u001b[1;32m    141\u001b[0m \u001b[0;34m\u001b[0m\u001b[0m\n\u001b[0;32m--> 142\u001b[0;31m         return sol.run(number_of_trajectories=number_of_trajectories, seed=seed, timeout=timeout,\n\u001b[0m\u001b[1;32m    143\u001b[0m                        number_of_threads=number_of_threads, debug=debug, profile=profile)\n\u001b[1;32m    144\u001b[0m \u001b[0;34m\u001b[0m\u001b[0m\n",
      "\u001b[0;32m~/Documents/Undergrade_Research/Dr_Drawert/SpatialPy/spatialpy/Solver.py\u001b[0m in \u001b[0;36mrun\u001b[0;34m(self, number_of_trajectories, seed, timeout, number_of_threads, debug, profile, verbose)\u001b[0m\n\u001b[1;32m    185\u001b[0m         \u001b[0;31m# Check if compiled, call compile() if not.\u001b[0m\u001b[0;34m\u001b[0m\u001b[0;34m\u001b[0m\u001b[0;34m\u001b[0m\u001b[0m\n\u001b[1;32m    186\u001b[0m         \u001b[0;32mif\u001b[0m \u001b[0;32mnot\u001b[0m \u001b[0mself\u001b[0m\u001b[0;34m.\u001b[0m\u001b[0mis_compiled\u001b[0m\u001b[0;34m:\u001b[0m\u001b[0;34m\u001b[0m\u001b[0;34m\u001b[0m\u001b[0m\n\u001b[0;32m--> 187\u001b[0;31m             \u001b[0mself\u001b[0m\u001b[0;34m.\u001b[0m\u001b[0mcompile\u001b[0m\u001b[0;34m(\u001b[0m\u001b[0mdebug\u001b[0m\u001b[0;34m=\u001b[0m\u001b[0mdebug\u001b[0m\u001b[0;34m,\u001b[0m \u001b[0mprofile\u001b[0m\u001b[0;34m=\u001b[0m\u001b[0mprofile\u001b[0m\u001b[0;34m)\u001b[0m\u001b[0;34m\u001b[0m\u001b[0;34m\u001b[0m\u001b[0m\n\u001b[0m\u001b[1;32m    188\u001b[0m \u001b[0;34m\u001b[0m\u001b[0m\n\u001b[1;32m    189\u001b[0m         \u001b[0;31m# Execute the solver\u001b[0m\u001b[0;34m\u001b[0m\u001b[0;34m\u001b[0m\u001b[0;34m\u001b[0m\u001b[0m\n",
      "\u001b[0;32m~/Documents/Undergrade_Research/Dr_Drawert/SpatialPy/spatialpy/Solver.py\u001b[0m in \u001b[0;36mcompile\u001b[0;34m(self, debug, profile)\u001b[0m\n\u001b[1;32m    119\u001b[0m         \u001b[0;32mif\u001b[0m \u001b[0mself\u001b[0m\u001b[0;34m.\u001b[0m\u001b[0mdebug_level\u001b[0m \u001b[0;34m>\u001b[0m \u001b[0;36m1\u001b[0m\u001b[0;34m:\u001b[0m\u001b[0;34m\u001b[0m\u001b[0;34m\u001b[0m\u001b[0m\n\u001b[1;32m    120\u001b[0m             \u001b[0mprint\u001b[0m\u001b[0;34m(\u001b[0m\u001b[0;34m\"Creating propensity file {0}\"\u001b[0m\u001b[0;34m.\u001b[0m\u001b[0mformat\u001b[0m\u001b[0;34m(\u001b[0m\u001b[0mself\u001b[0m\u001b[0;34m.\u001b[0m\u001b[0mprop_file_name\u001b[0m\u001b[0;34m)\u001b[0m\u001b[0;34m)\u001b[0m\u001b[0;34m\u001b[0m\u001b[0;34m\u001b[0m\u001b[0m\n\u001b[0;32m--> 121\u001b[0;31m         \u001b[0mself\u001b[0m\u001b[0;34m.\u001b[0m\u001b[0mcreate_propensity_file\u001b[0m\u001b[0;34m(\u001b[0m\u001b[0mfile_name\u001b[0m\u001b[0;34m=\u001b[0m\u001b[0mself\u001b[0m\u001b[0;34m.\u001b[0m\u001b[0mprop_file_name\u001b[0m\u001b[0;34m)\u001b[0m\u001b[0;34m\u001b[0m\u001b[0;34m\u001b[0m\u001b[0m\n\u001b[0m\u001b[1;32m    122\u001b[0m \u001b[0;34m\u001b[0m\u001b[0m\n\u001b[1;32m    123\u001b[0m         \u001b[0;31m# Build the solver\u001b[0m\u001b[0;34m\u001b[0m\u001b[0;34m\u001b[0m\u001b[0;34m\u001b[0m\u001b[0m\n",
      "\u001b[0;32m~/Documents/Undergrade_Research/Dr_Drawert/SpatialPy/spatialpy/Solver.py\u001b[0m in \u001b[0;36mcreate_propensity_file\u001b[0;34m(self, file_name)\u001b[0m\n\u001b[1;32m    594\u001b[0m             \u001b[0minit_bc\u001b[0m \u001b[0;34m+=\u001b[0m \u001b[0mbc\u001b[0m\u001b[0;34m.\u001b[0m\u001b[0mexpression\u001b[0m\u001b[0;34m(\u001b[0m\u001b[0;34m)\u001b[0m\u001b[0;34m\u001b[0m\u001b[0;34m\u001b[0m\u001b[0m\n\u001b[1;32m    595\u001b[0m         \u001b[0;32mfor\u001b[0m \u001b[0mndf\u001b[0m\u001b[0;34m,\u001b[0m \u001b[0mdf\u001b[0m \u001b[0;32min\u001b[0m \u001b[0menumerate\u001b[0m\u001b[0;34m(\u001b[0m\u001b[0mself\u001b[0m\u001b[0;34m.\u001b[0m\u001b[0mmodel\u001b[0m\u001b[0;34m.\u001b[0m\u001b[0mlistOfDataFunctions\u001b[0m\u001b[0;34m)\u001b[0m\u001b[0;34m:\u001b[0m\u001b[0;34m\u001b[0m\u001b[0;34m\u001b[0m\u001b[0m\n\u001b[0;32m--> 596\u001b[0;31m             \u001b[0minit_bc\u001b[0m \u001b[0;34m+=\u001b[0m \u001b[0;34m\"me->data_fn[{0}] = {1};\\n\"\u001b[0m\u001b[0;34m.\u001b[0m\u001b[0mformat\u001b[0m\u001b[0;34m(\u001b[0m\u001b[0mndf\u001b[0m\u001b[0;34m,\u001b[0m\u001b[0mdf\u001b[0m\u001b[0;34m.\u001b[0m\u001b[0mexpression\u001b[0m\u001b[0;34m(\u001b[0m\u001b[0;34m)\u001b[0m\u001b[0;34m)\u001b[0m\u001b[0;34m\u001b[0m\u001b[0;34m\u001b[0m\u001b[0m\n\u001b[0m\u001b[1;32m    597\u001b[0m         \u001b[0mpropfilestr\u001b[0m \u001b[0;34m=\u001b[0m \u001b[0mpropfilestr\u001b[0m\u001b[0;34m.\u001b[0m\u001b[0mreplace\u001b[0m\u001b[0;34m(\u001b[0m\u001b[0;34m\"__BOUNDARY_CONDITIONS__\"\u001b[0m\u001b[0;34m,\u001b[0m \u001b[0minit_bc\u001b[0m\u001b[0;34m)\u001b[0m\u001b[0;34m\u001b[0m\u001b[0;34m\u001b[0m\u001b[0m\n\u001b[1;32m    598\u001b[0m \u001b[0;34m\u001b[0m\u001b[0m\n",
      "\u001b[0;31mTypeError\u001b[0m: expression() missing 1 required positional argument: 'x'"
     ]
    }
   ],
   "source": [
    "%time result = model.run(debug_level=1)"
   ]
  },
  {
   "cell_type": "code",
   "execution_count": 6,
   "metadata": {},
   "outputs": [
    {
     "ename": "NameError",
     "evalue": "name 'result' is not defined",
     "output_type": "error",
     "traceback": [
      "\u001b[0;31m---------------------------------------------------------------------------\u001b[0m",
      "\u001b[0;31mNameError\u001b[0m                                 Traceback (most recent call last)",
      "\u001b[0;32m<ipython-input-6-601295f7a200>\u001b[0m in \u001b[0;36m<module>\u001b[0;34m\u001b[0m\n\u001b[0;32m----> 1\u001b[0;31m \u001b[0;32mfor\u001b[0m \u001b[0ms\u001b[0m \u001b[0;32min\u001b[0m \u001b[0mresult\u001b[0m\u001b[0;34m.\u001b[0m\u001b[0mmodel\u001b[0m\u001b[0;34m.\u001b[0m\u001b[0mget_all_species\u001b[0m\u001b[0;34m(\u001b[0m\u001b[0;34m)\u001b[0m\u001b[0;34m.\u001b[0m\u001b[0mkeys\u001b[0m\u001b[0;34m(\u001b[0m\u001b[0;34m)\u001b[0m\u001b[0;34m:\u001b[0m\u001b[0;34m\u001b[0m\u001b[0;34m\u001b[0m\u001b[0m\n\u001b[0m\u001b[1;32m      2\u001b[0m     \u001b[0mval\u001b[0m \u001b[0;34m=\u001b[0m \u001b[0mresult\u001b[0m\u001b[0;34m.\u001b[0m\u001b[0mget_species\u001b[0m\u001b[0;34m(\u001b[0m\u001b[0ms\u001b[0m\u001b[0;34m)\u001b[0m\u001b[0;34m\u001b[0m\u001b[0;34m\u001b[0m\u001b[0m\n\u001b[1;32m      3\u001b[0m     \u001b[0mplt\u001b[0m\u001b[0;34m.\u001b[0m\u001b[0mplot\u001b[0m\u001b[0;34m(\u001b[0m\u001b[0mresult\u001b[0m\u001b[0;34m.\u001b[0m\u001b[0mmodel\u001b[0m\u001b[0;34m.\u001b[0m\u001b[0mtspan\u001b[0m\u001b[0;34m,\u001b[0m\u001b[0mnumpy\u001b[0m\u001b[0;34m.\u001b[0m\u001b[0msum\u001b[0m\u001b[0;34m(\u001b[0m\u001b[0mval\u001b[0m\u001b[0;34m,\u001b[0m\u001b[0maxis\u001b[0m\u001b[0;34m=\u001b[0m\u001b[0;36m1\u001b[0m\u001b[0;34m)\u001b[0m\u001b[0;34m,\u001b[0m \u001b[0;34m'-'\u001b[0m\u001b[0;34m,\u001b[0m\u001b[0mlabel\u001b[0m\u001b[0;34m=\u001b[0m\u001b[0ms\u001b[0m\u001b[0;34m)\u001b[0m\u001b[0;34m\u001b[0m\u001b[0;34m\u001b[0m\u001b[0m\n\u001b[1;32m      4\u001b[0m \u001b[0mplt\u001b[0m\u001b[0;34m.\u001b[0m\u001b[0mlegend\u001b[0m\u001b[0;34m(\u001b[0m\u001b[0;34m)\u001b[0m\u001b[0;34m\u001b[0m\u001b[0;34m\u001b[0m\u001b[0m\n",
      "\u001b[0;31mNameError\u001b[0m: name 'result' is not defined"
     ]
    }
   ],
   "source": [
    "for s in result.model.get_all_species().keys():\n",
    "    val = result.get_species(s)\n",
    "    plt.plot(result.model.tspan,numpy.sum(val,axis=1), '-',label=s)\n",
    "plt.legend()"
   ]
  },
  {
   "cell_type": "code",
   "execution_count": null,
   "metadata": {},
   "outputs": [],
   "source": []
  },
  {
   "cell_type": "code",
   "execution_count": null,
   "metadata": {},
   "outputs": [],
   "source": []
  },
  {
   "cell_type": "code",
   "execution_count": null,
   "metadata": {},
   "outputs": [],
   "source": [
    "model.listOfSpecies"
   ]
  },
  {
   "cell_type": "code",
   "execution_count": null,
   "metadata": {},
   "outputs": [],
   "source": []
  },
  {
   "cell_type": "code",
   "execution_count": null,
   "metadata": {},
   "outputs": [],
   "source": []
  },
  {
   "cell_type": "code",
   "execution_count": null,
   "metadata": {
    "scrolled": true
   },
   "outputs": [],
   "source": [
    "from spatialpy.nsmsolver import NSMSolver\n",
    "sol = NSMSolver(model, debug_level=2)\n",
    "%time result = sol.run()"
   ]
  },
  {
   "cell_type": "code",
   "execution_count": null,
   "metadata": {},
   "outputs": [],
   "source": [
    "result.read_step(0)"
   ]
  },
  {
   "cell_type": "code",
   "execution_count": null,
   "metadata": {},
   "outputs": [],
   "source": [
    "model.mesh.vertices.shape"
   ]
  },
  {
   "cell_type": "code",
   "execution_count": null,
   "metadata": {},
   "outputs": [],
   "source": []
  },
  {
   "cell_type": "markdown",
   "metadata": {},
   "source": [
    "# Analysis of 'result' object "
   ]
  },
  {
   "cell_type": "code",
   "execution_count": null,
   "metadata": {},
   "outputs": [],
   "source": [
    "mindm = result.get_species(\"MinD_m\")\n",
    "\n",
    "y_vals = model.mesh.coordinates()[:, 1]\n",
    "idx = y_vals < 1e-6\n",
    "mindmsum = numpy.sum(mindm[:,idx],axis=1)\n",
    "plt.plot(model.tspan, mindmsum)\n",
    "plt.title('MinD_m oscillations')\n",
    "plt.xlabel('Time (s)')\n",
    "plt.ylabel('Copy number of membrane bound MinD in half of the cell')"
   ]
  },
  {
   "cell_type": "code",
   "execution_count": null,
   "metadata": {},
   "outputs": [],
   "source": [
    "mx = numpy.max(mindmsum)\n",
    "tmax = [i for i, j in enumerate(mindmsum) if j == mx][0]\n",
    "tlist = range(model.tspan[-1]-100,model.tspan[-1],10)\n",
    "plt.figure(figsize=(len(tlist)*0.75,2))\n",
    "for num, tnow in enumerate(tlist):\n",
    "    minD1 = result.get_species(\"MinD_m\", tnow)\n",
    "    xlist = []\n",
    "    ylist = []\n",
    "    zlist = []\n",
    "    cutoff = 5\n",
    "    for vndx, minD_val in enumerate(minD1):\n",
    "        if minD_val > cutoff:\n",
    "            c = model.mesh.coordinates()[vndx,:]\n",
    "            #print vndx, minD_val, c\n",
    "            xlist.append(c[0])\n",
    "            ylist.append(c[1])\n",
    "            zlist.append(c[2])\n",
    "\n",
    "    plt.subplot(1,len(tlist),num+1)\n",
    "    plt.plot(model.mesh.coordinates()[:,0], model.mesh.coordinates()[:,1], '.', color='#eeeeee')\n",
    "    plt.plot(xlist,ylist,'.')\n",
    "    plt.title('t={0}'.format(tnow))\n",
    "    plt.xlim(-3e-7, 3e-7)\n",
    "    plt.ylim(-5e-7, 25e-6)\n",
    "    plt.axis('equal')\n",
    "    plt.axis('off')\n"
   ]
  },
  {
   "cell_type": "code",
   "execution_count": null,
   "metadata": {},
   "outputs": [],
   "source": [
    "minD1.shape"
   ]
  },
  {
   "cell_type": "code",
   "execution_count": null,
   "metadata": {},
   "outputs": [],
   "source": []
  }
 ],
 "metadata": {
  "kernelspec": {
   "display_name": "Python 3",
   "language": "python",
   "name": "python3"
  },
  "language_info": {
   "codemirror_mode": {
    "name": "ipython",
    "version": 3
   },
   "file_extension": ".py",
   "mimetype": "text/x-python",
   "name": "python",
   "nbconvert_exporter": "python",
   "pygments_lexer": "ipython3",
   "version": "3.9.2"
  }
 },
 "nbformat": 4,
 "nbformat_minor": 1
}

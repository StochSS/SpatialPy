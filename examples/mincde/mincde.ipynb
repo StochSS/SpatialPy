{
 "cells": [
  {
   "cell_type": "markdown",
   "metadata": {},
   "source": [
    "# MinD Oscillations in E. coli"
   ]
  },
  {
   "cell_type": "markdown",
   "metadata": {},
   "source": [
    "One spatial reaction-diffusion system that has been studied frequently in the literature both in a deterministic setting (Huang et. al, 2003) and using a stochastic description (Fange and Elf, 2006) is describing the periodic oscillations of Min proteins in the bacterium E. Coli. By oscillating from pole to pole, MinC suppresses the formation of a cell division site at the poles, indirectly positioning it in the middle of the cell.\n",
    "\n",
    "References:\n",
    " - Kerwyn Casey Huang, Yigal Meir, and Ned S. Wingreen, Dynamic structures in Escherichia coli: Spontaneous formation of MinE rings and MinD polar zones,PNAS, 2003.\n",
    " - David Fange and Johan Elf, Noise-induced Min Phenotypes in E. Coli, PLOS Computational Biology, 2(6), 2006."
   ]
  },
  {
   "cell_type": "code",
   "execution_count": 1,
   "metadata": {},
   "outputs": [],
   "source": [
    "import matplotlib.pyplot as plt\n",
    "import numpy\n",
    "import os.path\n",
    "import numpy\n",
    "%load_ext autoreload\n",
    "%autoreload 2"
   ]
  },
  {
   "cell_type": "code",
   "execution_count": 2,
   "metadata": {},
   "outputs": [],
   "source": [
    "import sys\n",
    "sys.path.append('../..')"
   ]
  },
  {
   "cell_type": "code",
   "execution_count": 3,
   "metadata": {},
   "outputs": [],
   "source": [
    "import spatialpy"
   ]
  },
  {
   "cell_type": "code",
   "execution_count": 4,
   "metadata": {},
   "outputs": [],
   "source": [
    "class Membrane(spatialpy.SubDomain):\n",
    "    def inside(self,x,on_boundary):\n",
    "        return on_boundary\n",
    "\n",
    "\n",
    "class Cytosol(spatialpy.SubDomain):\n",
    "    def inside(self,x,on_boundary):\n",
    "        return not on_boundary\n",
    "\n",
    "\n",
    "class MeshSize(spatialpy.DataFunction):\n",
    "    def __init__(self,mesh):\n",
    "        spatialpy.DataFunction.__init__(self, name=\"MeshSize\")\n",
    "        self.mesh = mesh\n",
    "        self.h = mesh.get_mesh_size()\n",
    "    \n",
    "    def map(self, x):\n",
    "        ret = self.h[self.mesh.closest_vertex(x)]\n",
    "        return ret"
   ]
  },
  {
   "cell_type": "code",
   "execution_count": 11,
   "metadata": {},
   "outputs": [],
   "source": [
    "class mincde(spatialpy.Model):\n",
    "    \"\"\" Model of MinD oscillations in E. Coli, based on the model by Huang. et. al. in \"\"\"\n",
    "\n",
    "    def __init__(self,model_name=\"mincde\"):\n",
    "        spatialpy.Model.__init__(self,model_name)\n",
    "\n",
    "        # Species\n",
    "        MinD_m     = spatialpy.Species(name=\"MinD_m\",diffusion_constant=1e-14,dimension=2)\n",
    "        MinD_c_atp = spatialpy.Species(name=\"MinD_c_atp\",diffusion_constant=2.5e-12,dimension=3)\n",
    "        MinD_c_adp = spatialpy.Species(name=\"MinD_c_adp\",diffusion_constant=2.5e-12,dimension=3)\n",
    "        MinD_e     = spatialpy.Species(name=\"MinD_e\",diffusion_constant=2.5e-12,dimension=3)\n",
    "        MinDE      = spatialpy.Species(name=\"MinDE\",diffusion_constant=1e-14,dimension=2)\n",
    "        \n",
    "        self.add_species([MinD_m,MinD_c_atp,MinD_c_adp,MinD_e,MinDE])\n",
    "        \n",
    "        # Make sure that we have the correct path to the mesh file even if we are not executing from the basedir.\n",
    "        self.mesh = spatialpy.Mesh.read_xml_mesh(\"mesh/coli.xml\")\n",
    "        \n",
    "        # List of Physical domain markers that match those in the  Gmsh .geo file.\n",
    "        interior = 1\n",
    "        boundary = 2\n",
    "        # Mark the subdomain points        \n",
    "        self.add_subdomain(Membrane(),boundary)\n",
    "        self.add_subdomain(Cytosol(),interior)\n",
    "        \n",
    "        # Local mesh size to feed into the propensity functions\n",
    "        self.add_data_function(MeshSize(self.mesh))\n",
    "        \n",
    "        # Parameters\n",
    "        NA = spatialpy.Parameter(name=\"NA\",expression=6.022e23)\n",
    "        sigma_d  = spatialpy.Parameter(name=\"sigma_d\",expression=2.5e-8)\n",
    "        sigma_dD = spatialpy.Parameter(name=\"sigma_dD\",expression=0.0016e-18)\n",
    "        sigma_e  = spatialpy.Parameter(name=\"sigma_e\",expression=0.093e-18)\n",
    "        sigma_de = spatialpy.Parameter(name=\"sigma_de\",expression=0.7)\n",
    "        sigma_dt = spatialpy.Parameter(name=\"sigma_dt\",expression=1.0)\n",
    "        \n",
    "        self.add_parameter([NA,sigma_d,sigma_dD,sigma_e,sigma_de,sigma_dt])\n",
    "\n",
    "        \n",
    "        # Reactions\n",
    "        R1 = spatialpy.Reaction(name=\"R1\",reactants={MinD_c_atp:1},products={MinD_m:1},propensity_function=\"MinD_c_atp*sigma_d/MeshSize\", restrict_to=boundary)\n",
    "        R2 = spatialpy.Reaction(name=\"R2\",reactants={MinD_c_atp:1,MinD_m:1},products={MinD_m:2},rate=sigma_dD)\n",
    "        R3 = spatialpy.Reaction(name=\"R3\",reactants={MinD_m:1,MinD_e:1},products={MinDE:1},rate=sigma_e)\n",
    "        R4 = spatialpy.Reaction(name=\"R4\",reactants={MinDE:1},products={MinD_c_adp:1,MinD_e:1},rate=sigma_de)\n",
    "        R5 = spatialpy.Reaction(name=\"R5\",reactants={MinD_c_adp:1},products={MinD_c_atp:1},rate=sigma_dt)\n",
    "        R6 = spatialpy.Reaction(name=\"R6\",reactants={MinDE:1,MinD_c_atp:1},products={MinD_m:1,MinDE:1},rate=sigma_dD)\n",
    "        self.add_reaction([R1,R2,R3,R4,R5,R6])\n",
    "        \n",
    "        # Restrict to boundary\n",
    "        self.restrict(MinD_m,boundary)\n",
    "        self.restrict(MinDE,boundary)\n",
    "        \n",
    "        # Distribute molecules over the mesh according to their initial values\n",
    "        #self.set_initial_condition_scatter({MinD_c_adp:4500})\n",
    "        #self.set_initial_condition_scatter({MinD_e:1575})\n",
    "        self.add_initial_condition(spatialpy.ScatterInitialCondition(\n",
    "                                        MinD_c_adp,4500))\n",
    "        self.add_initial_condition(spatialpy.ScatterInitialCondition(\n",
    "                                        MinD_e,1575))\n",
    "\n",
    "        self.timespan(range(200))"
   ]
  },
  {
   "cell_type": "code",
   "execution_count": 12,
   "metadata": {
    "scrolled": true
   },
   "outputs": [],
   "source": [
    "model = mincde(model_name=\"mincde\")"
   ]
  },
  {
   "cell_type": "code",
   "execution_count": 13,
   "metadata": {},
   "outputs": [
    {
     "name": "stdout",
     "output_type": "stream",
     "text": [
      "Compiling Solver.  Build dir: /tmp/tmpjm4014qi\n",
      "self.listOfInitialConditions(MinD_c_adp,4500).apply()\n",
      "self.listOfInitialConditions(MinD_e,1575).apply()\n",
      "Elapsed seconds: 86.90\n",
      "\n",
      "CPU times: user 11.2 s, sys: 55.7 ms, total: 11.2 s\n",
      "Wall time: 1min 40s\n"
     ]
    }
   ],
   "source": [
    "%time result = model.run(report_level=1)"
   ]
  },
  {
   "cell_type": "code",
   "execution_count": 14,
   "metadata": {},
   "outputs": [
    {
     "data": {
      "text/plain": [
       "<matplotlib.legend.Legend at 0x7f904e63ce80>"
      ]
     },
     "execution_count": 14,
     "metadata": {},
     "output_type": "execute_result"
    },
    {
     "data": {
      "image/png": "[encoded data removed]",
      "text/plain": [
       "<matplotlib.figure.Figure at 0x7f904e63ce48>"
      ]
     },
     "metadata": {
      "needs_background": "light"
     },
     "output_type": "display_data"
    }
   ],
   "source": [
    "for s in result.model.get_all_species().keys():\n",
    "    val = result.get_species(s)\n",
    "    plt.plot(result.model.tspan,numpy.sum(val,axis=1), '-',label=s)\n",
    "plt.legend()"
   ]
  },
  {
   "cell_type": "code",
   "execution_count": null,
   "metadata": {},
   "outputs": [],
   "source": []
  },
  {
   "cell_type": "code",
   "execution_count": null,
   "metadata": {},
   "outputs": [],
   "source": []
  },
  {
   "cell_type": "code",
   "execution_count": 15,
   "metadata": {},
   "outputs": [
    {
     "name": "stderr",
     "output_type": "stream",
     "text": [
      "[autoreload of spatialpy.InitialCondition failed: Traceback (most recent call last):\n",
      "  File \"/usr/local/lib/python3.6/dist-packages/IPython/extensions/autoreload.py\", line 244, in check\n",
      "    superreload(m, reload, self.old_objects)\n",
      "  File \"/usr/local/lib/python3.6/dist-packages/IPython/extensions/autoreload.py\", line 378, in superreload\n",
      "    module = reload(module)\n",
      "  File \"/usr/lib/python3.6/imp.py\", line 315, in reload\n",
      "    return importlib.reload(module)\n",
      "  File \"/usr/lib/python3.6/importlib/__init__.py\", line 166, in reload\n",
      "    _bootstrap._exec(spec, module)\n",
      "  File \"<frozen importlib._bootstrap>\", line 618, in _exec\n",
      "  File \"<frozen importlib._bootstrap_external>\", line 674, in exec_module\n",
      "  File \"<frozen importlib._bootstrap_external>\", line 781, in get_code\n",
      "  File \"<frozen importlib._bootstrap_external>\", line 741, in source_to_code\n",
      "  File \"<frozen importlib._bootstrap>\", line 219, in _call_with_frames_removed\n",
      "  File \"../../spatialpy/InitialCondition.py\", line 26\n",
      "    class ScatterInitialCondition(InitialCondition):\n",
      "                                                   ^\n",
      "IndentationError: expected an indented block\n",
      "]\n"
     ]
    },
    {
     "data": {
      "text/plain": [
       "OrderedDict([('MinD_m', <spatialpy.Model.Species at 0x7f904e3d0da0>),\n",
       "             ('MinD_c_atp', <spatialpy.Model.Species at 0x7f904e3d0e48>),\n",
       "             ('MinD_c_adp', <spatialpy.Model.Species at 0x7f904e3d0d68>),\n",
       "             ('MinD_e', <spatialpy.Model.Species at 0x7f904e3d0dd8>),\n",
       "             ('MinDE', <spatialpy.Model.Species at 0x7f904e3d07f0>)])"
      ]
     },
     "execution_count": 15,
     "metadata": {},
     "output_type": "execute_result"
    }
   ],
   "source": [
    "model.listOfSpecies"
   ]
  },
  {
   "cell_type": "code",
   "execution_count": null,
   "metadata": {},
   "outputs": [],
   "source": []
  },
  {
   "cell_type": "code",
   "execution_count": null,
   "metadata": {},
   "outputs": [],
   "source": []
  },
  {
   "cell_type": "code",
   "execution_count": 28,
   "metadata": {
    "scrolled": true
   },
   "outputs": [
    {
     "name": "stdout",
     "output_type": "stream",
     "text": [
      "Compiling Solver.  Build dir: /tmp/tmp9l4vzfwp\n",
      "Creating propensity file /tmp/tmp9l4vzfwp/mincde_generated_model.c\n",
      "self.listOfInitialConditions(MinD_c_adp,4500).apply()\n",
      "self.listOfInitialConditions(MinD_e,1575).apply()\n",
      "cmd: cd /tmp/tmp9l4vzfwp ; make -f /home/brian/Desktop/research/SpatialPy/spatialpy/ssa_sdpd-c-simulation-engine/build/Makefile.nsm ROOT=/home/brian/Desktop/research/SpatialPy/spatialpy/ssa_sdpd-c-simulation-engine MODEL=/tmp/tmp9l4vzfwp/mincde_generated_model.c BUILD=/tmp/tmp9l4vzfwp\n",
      "\n",
      "gcc -c -o linked_list.o /home/brian/Desktop/research/SpatialPy/spatialpy/ssa_sdpd-c-simulation-engine/src/linked_list.c -I/home/brian/Desktop/research/SpatialPy/spatialpy/ssa_sdpd-c-simulation-engine/include/ -O3 -Wall \n",
      "gcc -c -o particle.o /home/brian/Desktop/research/SpatialPy/spatialpy/ssa_sdpd-c-simulation-engine/src/particle.c -I/home/brian/Desktop/research/SpatialPy/spatialpy/ssa_sdpd-c-simulation-engine/include/ -O3 -Wall \n",
      "gcc -c -o simulate.o /home/brian/Desktop/research/SpatialPy/spatialpy/ssa_sdpd-c-simulation-engine/src/simulate.c -I/home/brian/Desktop/research/SpatialPy/spatialpy/ssa_sdpd-c-simulation-engine/include/ -O3 -Wall \n",
      "gcc -c -o count_cores.o /home/brian/Desktop/research/SpatialPy/spatialpy/ssa_sdpd-c-simulation-engine/src/count_cores.c -I/home/brian/Desktop/research/SpatialPy/spatialpy/ssa_sdpd-c-simulation-engine/include/ -O3 -Wall \n",
      "gcc -c -o output.o /home/brian/Desktop/research/SpatialPy/spatialpy/ssa_sdpd-c-simulation-engine/src/output.c -I/home/brian/Desktop/research/SpatialPy/spatialpy/ssa_sdpd-c-simulation-engine/include/ -O3 -Wall \n",
      "gcc -c -o simulate_rdme.o /home/brian/Desktop/research/SpatialPy/spatialpy/ssa_sdpd-c-simulation-engine/src/simulate_rdme.c -I/home/brian/Desktop/research/SpatialPy/spatialpy/ssa_sdpd-c-simulation-engine/include/ -O3 -Wall \n",
      "gcc -c -o binheap.o /home/brian/Desktop/research/SpatialPy/spatialpy/ssa_sdpd-c-simulation-engine/src/binheap.c -I/home/brian/Desktop/research/SpatialPy/spatialpy/ssa_sdpd-c-simulation-engine/include/ -O3 -Wall \n",
      "gcc -c -o main.o /tmp/tmp9l4vzfwp/mincde_generated_model.c -I/home/brian/Desktop/research/SpatialPy/spatialpy/ssa_sdpd-c-simulation-engine/include/ -O3 -Wall \n",
      "gcc  -o ssa_sdpd linked_list.o particle.o simulate.o count_cores.o output.o simulate_rdme.o binheap.o main.o -pthread -lm\n",
      "\n",
      "\n",
      "cmd: cd /tmp/tmpxyk__pyo;/tmp/tmp9l4vzfwp/ssa_sdpd\n",
      "\n",
      "Elapsed seconds: 181.63\n",
      "\n",
      "CPU times: user 10.4 s, sys: 55.8 ms, total: 10.5 s\n",
      "Wall time: 21min 39s\n"
     ]
    }
   ],
   "source": [
    "from spatialpy.nsmsolver import NSMSolver\n",
    "sol = NSMSolver(model, report_level=2)\n",
    "%time result = sol.run()"
   ]
  },
  {
   "cell_type": "code",
   "execution_count": 23,
   "metadata": {},
   "outputs": [
    {
     "data": {
      "text/plain": [
       "(array([[  0.00000000e+00,  -2.49999999e-07,   0.00000000e+00],\n",
       "        [  2.49999999e-07,   0.00000000e+00,   0.00000000e+00],\n",
       "        [  0.00000000e+00,   2.25000008e-06,   0.00000000e+00],\n",
       "        ..., \n",
       "        [  1.97016689e-07,   8.37633365e-07,   4.60256508e-08],\n",
       "        [  4.85833560e-08,   9.95835649e-07,   1.82054222e-07],\n",
       "        [  6.94389684e-08,   1.64003507e-06,   1.77651373e-07]], dtype=float32),\n",
       " {'C[MinDE]': array([0, 0, 0, ..., 0, 0, 0], dtype=int32),\n",
       "  'C[MinD_c_adp]': array([0, 0, 0, ..., 0, 0, 0], dtype=int32),\n",
       "  'C[MinD_c_atp]': array([0, 0, 0, ..., 0, 0, 0], dtype=int32),\n",
       "  'C[MinD_e]': array([0, 0, 0, ..., 0, 0, 0], dtype=int32),\n",
       "  'C[MinD_m]': array([0, 0, 0, ..., 0, 0, 0], dtype=int32),\n",
       "  'id': array([   0,    1,    2, ..., 1025, 1026, 1027], dtype=int32),\n",
       "  'mass': array([ 0.,  0.,  0., ...,  0.,  0.,  0.]),\n",
       "  'rho': array([ 1.,  1.,  1., ...,  1.,  1.,  1.]),\n",
       "  'type': array([1, 1, 1, ..., 1, 1, 1], dtype=int32),\n",
       "  'v': array([[ 0.,  0.,  0.],\n",
       "         [ 0.,  0.,  0.],\n",
       "         [ 0.,  0.,  0.],\n",
       "         ..., \n",
       "         [ 0.,  0.,  0.],\n",
       "         [ 0.,  0.,  0.],\n",
       "         [ 0.,  0.,  0.]])})"
      ]
     },
     "execution_count": 23,
     "metadata": {},
     "output_type": "execute_result"
    }
   ],
   "source": [
    "result.read_step(0)"
   ]
  },
  {
   "cell_type": "code",
   "execution_count": 21,
   "metadata": {},
   "outputs": [
    {
     "data": {
      "text/plain": [
       "(1028, 3)"
      ]
     },
     "execution_count": 21,
     "metadata": {},
     "output_type": "execute_result"
    }
   ],
   "source": [
    "model.mesh.vertices.shape"
   ]
  },
  {
   "cell_type": "code",
   "execution_count": null,
   "metadata": {},
   "outputs": [],
   "source": []
  },
  {
   "cell_type": "markdown",
   "metadata": {},
   "source": [
    "# Analysis of 'result' object "
   ]
  },
  {
   "cell_type": "code",
   "execution_count": 8,
   "metadata": {},
   "outputs": [
    {
     "data": {
      "text/plain": [
       "Text(0,0.5,'Copy number of membrane bound MinD in half of the cell')"
      ]
     },
     "execution_count": 8,
     "metadata": {},
     "output_type": "execute_result"
    },
    {
     "data": {
      "image/png": "[encoded data removed]",
      "text/plain": [
       "<matplotlib.figure.Figure at 0x7f904e731a20>"
      ]
     },
     "metadata": {
      "needs_background": "light"
     },
     "output_type": "display_data"
    }
   ],
   "source": [
    "mindm = result.get_species(\"MinD_m\")\n",
    "\n",
    "y_vals = model.mesh.coordinates()[:, 1]\n",
    "idx = y_vals < 1e-6\n",
    "mindmsum = numpy.sum(mindm[:,idx],axis=1)\n",
    "plt.plot(model.tspan, mindmsum)\n",
    "plt.title('MinD_m oscillations')\n",
    "plt.xlabel('Time (s)')\n",
    "plt.ylabel('Copy number of membrane bound MinD in half of the cell')"
   ]
  },
  {
   "cell_type": "code",
   "execution_count": 9,
   "metadata": {},
   "outputs": [
    {
     "data": {
      "image/png": "[encoded data removed]",
      "text/plain": [
       "<matplotlib.figure.Figure at 0x7f904e6b7e48>"
      ]
     },
     "metadata": {
      "needs_background": "light"
     },
     "output_type": "display_data"
    }
   ],
   "source": [
    "mx = numpy.max(mindmsum)\n",
    "tmax = [i for i, j in enumerate(mindmsum) if j == mx][0]\n",
    "tlist = range(model.tspan[-1]-100,model.tspan[-1],10)\n",
    "plt.figure(figsize=(len(tlist)*0.75,2))\n",
    "for num, tnow in enumerate(tlist):\n",
    "    minD1 = result.get_species(\"MinD_m\", tnow)\n",
    "    xlist = []\n",
    "    ylist = []\n",
    "    zlist = []\n",
    "    cutoff = 5\n",
    "    for vndx, minD_val in enumerate(minD1):\n",
    "        if minD_val > cutoff:\n",
    "            c = model.mesh.coordinates()[vndx,:]\n",
    "            #print vndx, minD_val, c\n",
    "            xlist.append(c[0])\n",
    "            ylist.append(c[1])\n",
    "            zlist.append(c[2])\n",
    "\n",
    "    plt.subplot(1,len(tlist),num+1)\n",
    "    plt.plot(model.mesh.coordinates()[:,0], model.mesh.coordinates()[:,1], '.', color='#eeeeee')\n",
    "    plt.plot(xlist,ylist,'.')\n",
    "    plt.title('t={0}'.format(tnow))\n",
    "    plt.xlim(-3e-7, 3e-7)\n",
    "    plt.ylim(-5e-7, 25e-6)\n",
    "    plt.axis('equal')\n",
    "    plt.axis('off')\n"
   ]
  },
  {
   "cell_type": "code",
   "execution_count": 33,
   "metadata": {},
   "outputs": [
    {
     "data": {
      "text/plain": [
       "(1, 1028)"
      ]
     },
     "execution_count": 33,
     "metadata": {},
     "output_type": "execute_result"
    }
   ],
   "source": [
    "minD1.shape"
   ]
  },
  {
   "cell_type": "code",
   "execution_count": null,
   "metadata": {},
   "outputs": [],
   "source": []
  }
 ],
 "metadata": {
  "kernelspec": {
   "display_name": "Python 3",
   "language": "python",
   "name": "python3"
  },
  "language_info": {
   "codemirror_mode": {
    "name": "ipython",
    "version": 3
   },
   "file_extension": ".py",
   "mimetype": "text/x-python",
   "name": "python",
   "nbconvert_exporter": "python",
   "pygments_lexer": "ipython3",
   "version": "3.6.8"
  }
 },
 "nbformat": 4,
 "nbformat_minor": 1
}

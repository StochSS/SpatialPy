{
 "cells": [
  {
   "cell_type": "code",
   "execution_count": 1,
   "metadata": {},
   "outputs": [],
   "source": [
    "import os\n",
    "import sys\n",
    "from collections import OrderedDict\n",
    "sys.path.append(\"../..\")\n",
    "import spatialpy\n",
    "spatialpy.__file__\n",
    "import matplotlib.pyplot as plt\n",
    "import numpy\n",
    "%load_ext autoreload\n",
    "%autoreload 2"
   ]
  },
  {
   "cell_type": "code",
   "execution_count": 2,
   "metadata": {},
   "outputs": [],
   "source": [
    "class Teleport(spatialpy.BoundaryCondition):\n",
    "    def expression(self):\n",
    "        return \"\"\"\n",
    "        if(me->x[0] > system->xhi){\n",
    "            me->x[0] = system->xlo + 0.55;\n",
    "        }\n",
    "        me->x[2] = 0;\n",
    "        me->rho = 250.0;\n",
    "        \"\"\""
   ]
  },
  {
   "cell_type": "code",
   "execution_count": 3,
   "metadata": {},
   "outputs": [],
   "source": [
    "class HardFloor(spatialpy.BoundaryCondition):\n",
    "    def expression(self):\n",
    "        return \"\"\"\n",
    "        if(me->x[1] < 0.4){\n",
    "            me->x[1] = 0.5;\n",
    "            me->v[1] = 0.0;\n",
    "        }\n",
    "        \"\"\""
   ]
  },
  {
   "cell_type": "code",
   "execution_count": 4,
   "metadata": {},
   "outputs": [],
   "source": [
    "class HardWall(spatialpy.BoundaryCondition):\n",
    "    def expression(self):\n",
    "        return \"\"\"\n",
    "        if(me->x[0] < 1){\n",
    "            me->x[0] = system->xlo + 0.5;\n",
    "            me->v[1] = 0.0;\n",
    "        }\n",
    "        \"\"\""
   ]
  },
  {
   "cell_type": "code",
   "execution_count": 5,
   "metadata": {},
   "outputs": [],
   "source": [
    "class weir(spatialpy.Model):\n",
    "    def __init__(self, model_name=\"weir\"):\n",
    "        spatialpy.Model.__init__(self, model_name)\n",
    "\n",
    "        xmax = 35.1\n",
    "        ymax = 10.1\n",
    "\n",
    "        # Construct mesh for backward facing step\n",
    "        self.domain = spatialpy.Domain(0, xlim=(0,xmax), ylim=(0,ymax), zlim=(0,0), gravity=[0,-1,0])\n",
    "        for x in numpy.arange(start=0, stop=xmax, step=0.2):\n",
    "            for y in numpy.arange(start=0, stop=ymax, step=0.2):\n",
    "                # Top and bottom\n",
    "                if y == 0 or y == 10:\n",
    "                    self.domain.add_point([x,y,0], type=1, mass=10.0, vol=1.0, nu=1.0, fixed=True)\n",
    "                # Water\n",
    "                elif y > 1.5 and y < 8 and x > 1.5 and x < 8:\n",
    "                    self.domain.add_point([x,y,0], type=2, mass=10.0, vol=1.0, nu=1.0, fixed=False)\n",
    "                # Step\n",
    "                elif x >= 10 and x <= 15 and y > 0 and y < 5:\n",
    "                    self.domain.add_point([x,y,0], type=1, mass=10.0, vol=1.0, nu=1.0, fixed=True)\n",
    "                # Walls \n",
    "                elif x == 0 or x == 35:\n",
    "                    self.domain.add_point([x,y,0], type=1, mass=10.0, vol=1.0, nu=1.0, fixed=True)\n",
    "\n",
    "\n",
    "        # Teleport particles back to start to simulate flow\n",
    "        self.add_boundary_condition(Teleport())\n",
    "        self.add_boundary_condition(HardFloor())\n",
    "        \n",
    "        self.staticDomain = False\n",
    "\n",
    "        # Define time parameters\n",
    "        self.timestep_size = 1e-3  # timestep size\n",
    "        #self.num_timesteps = 50000    # number of timesteps\n",
    "        self.num_timesteps = 200000    # number of timesteps\n",
    "        self.output_freq = 400      # frequency of outputting results"
   ]
  },
  {
   "cell_type": "code",
   "execution_count": 6,
   "metadata": {
    "tags": []
   },
   "outputs": [],
   "source": [
    "model = weir()"
   ]
  },
  {
   "cell_type": "code",
   "execution_count": 7,
   "metadata": {
    "tags": []
   },
   "outputs": [],
   "source": [
    "from spatialpy import Solver\n",
    "sol = Solver(model, debug_level=0)\n",
    "sol.compile()"
   ]
  },
  {
   "cell_type": "code",
   "execution_count": 8,
   "metadata": {
    "tags": []
   },
   "outputs": [
    {
     "name": "stdout",
     "output_type": "stream",
     "text": [
      "CPU times: user 73.7 ms, sys: 39.2 ms, total: 113 ms\n",
      "Wall time: 1h 14min\n"
     ]
    }
   ],
   "source": [
    "%time result = sol.run()"
   ]
  },
  {
   "cell_type": "code",
   "execution_count": 9,
   "metadata": {},
   "outputs": [],
   "source": [
    "def mpl_plot_property(t_ndx=0):\n",
    "        import matplotlib.pyplot as plt\n",
    "        \n",
    "        points, data = result.read_step(t_ndx)\n",
    "\n",
    "        d = data[\"type\"]\n",
    "\n",
    "        plt.figure(figsize=(6.4, 4.8))\n",
    "        plt.scatter(points[:,0],points[:,1], c=d)\n",
    "        plt.axis('scaled')\n",
    "        #plt.colorbar()\n",
    "        #plt.title(\"title\")\n",
    "        plt.grid(linestyle='', linewidth=1)\n",
    "        plt.plot()\n",
    "        return"
   ]
  },
  {
   "cell_type": "code",
   "execution_count": 10,
   "metadata": {},
   "outputs": [
    {
     "data": {
      "image/png": "[encoded data removed]",
      "text/plain": [
       "<Figure size 460.8x345.6 with 1 Axes>"
      ]
     },
     "metadata": {
      "needs_background": "light"
     },
     "output_type": "display_data"
    }
   ],
   "source": [
    "mpl_plot_property(0)"
   ]
  },
  {
   "cell_type": "code",
   "execution_count": 11,
   "metadata": {},
   "outputs": [
    {
     "data": {
      "image/png": "[encoded data removed]",
      "text/plain": [
       "<Figure size 460.8x345.6 with 1 Axes>"
      ]
     },
     "metadata": {
      "needs_background": "light"
     },
     "output_type": "display_data"
    }
   ],
   "source": [
    "mpl_plot_property(1)"
   ]
  },
  {
   "cell_type": "code",
   "execution_count": 12,
   "metadata": {},
   "outputs": [
    {
     "data": {
      "image/png": "[encoded data removed]",
      "text/plain": [
       "<Figure size 460.8x345.6 with 1 Axes>"
      ]
     },
     "metadata": {
      "needs_background": "light"
     },
     "output_type": "display_data"
    }
   ],
   "source": [
    "mpl_plot_property(500)"
   ]
  }
 ],
 "metadata": {
  "kernelspec": {
   "display_name": "Python 3",
   "language": "python",
   "name": "python3"
  },
  "language_info": {
   "codemirror_mode": {
    "name": "ipython",
    "version": 3
   },
   "file_extension": ".py",
   "mimetype": "text/x-python",
   "name": "python",
   "nbconvert_exporter": "python",
   "pygments_lexer": "ipython3",
   "version": "3.9.2"
  }
 },
 "nbformat": 4,
 "nbformat_minor": 2
}

{
 "cells": [
  {
   "cell_type": "code",
   "execution_count": 2,
   "metadata": {},
   "outputs": [],
   "source": [
    "import os\n",
    "import sys\n",
    "from collections import OrderedDict\n",
    "sys.path.append(\"../..\")\n",
    "import spatialpy\n",
    "spatialpy.__file__\n",
    "import matplotlib.pyplot as plt\n",
    "import numpy\n",
    "%load_ext autoreload\n",
    "%autoreload 2"
   ]
  },
  {
   "cell_type": "code",
   "execution_count": 3,
   "metadata": {},
   "outputs": [],
   "source": [
    "class Teleport(spatialpy.BoundaryCondition):\n",
    "    def expression(self):\n",
    "        return \"\"\"\n",
    "        if(isnan(me->x[0]) || me->x[0] > system->xhi){\n",
    "            me->x[0] = system->xlo + 0.55;\n",
    "        }\n",
    "        if(isnan(me->x[1]) || me->x[1] > system->yhi){\n",
    "            me->x[1] = system->yhi;\n",
    "        }\n",
    "        me->x[2] = 0;\n",
    "        me->rho = 250.0;\n",
    "        \"\"\""
   ]
  },
  {
   "cell_type": "code",
   "execution_count": 4,
   "metadata": {},
   "outputs": [],
   "source": [
    "class HardFloor(spatialpy.BoundaryCondition):\n",
    "    def expression(self):\n",
    "        return \"\"\"\n",
    "        if(me->x[1] < 0.4){\n",
    "            me->x[1] = 0.5;\n",
    "            me->v[1] = 0.0;\n",
    "        }\n",
    "        \"\"\""
   ]
  },
  {
   "cell_type": "code",
   "execution_count": 5,
   "metadata": {},
   "outputs": [],
   "source": [
    "class HardWall(spatialpy.BoundaryCondition):\n",
    "    def expression(self):\n",
    "        return \"\"\"\n",
    "        if(me->x[0] < 1){\n",
    "            me->x[0] = system->xlo + 0.5;\n",
    "            me->v[1] = 0.0;\n",
    "        }\n",
    "        \"\"\""
   ]
  },
  {
   "cell_type": "code",
   "execution_count": 6,
   "metadata": {},
   "outputs": [],
   "source": [
    "class weir(spatialpy.Model):\n",
    "    def __init__(self, model_name=\"weir_aka_backward_facing_step\"):\n",
    "        spatialpy.Model.__init__(self, model_name)\n",
    "\n",
    "        xmax = 50.1\n",
    "        ymax = 10.1\n",
    "\n",
    "        # Construct mesh for backward facing step\n",
    "        self.mesh = spatialpy.Mesh(0, xlim=(0,xmax), ylim=(0,ymax), zlim=(0,0), gravity=[0,-1,0])\n",
    "        for x in numpy.arange(start=0, stop=xmax, step=0.1):\n",
    "            for y in numpy.arange(start=0, stop=ymax, step=0.1):\n",
    "                # Top and bottom\n",
    "                if y == 0 or y == 10:\n",
    "                    self.mesh.add_point([x,y,0], type=1, mass=10.0, vol=1.0, nu=1.0, fixed=True)\n",
    "                # Water\n",
    "                elif y > 1.5 and y < 8 and x > 1.5 and x < 8:\n",
    "                    self.mesh.add_point([x,y,0], type=2, mass=0.1, vol=0.0001, nu=1.0, fixed=False)\n",
    "                # Step\n",
    "                elif x >= 10 and x <= 15 and y > 0 and y < 5:\n",
    "                    self.mesh.add_point([x,y,0], type=1, mass=10.0, vol=1.0, nu=1.0, fixed=True)\n",
    "                # Walls \n",
    "                elif x == 0 or x == 50:\n",
    "                    self.mesh.add_point([x,y,0], type=1, mass=10.0, vol=1.0, nu=1.0, fixed=True)\n",
    "\n",
    "\n",
    "        # Teleport particles back to start to simulate flow\n",
    "        self.add_boundary_condition(Teleport())\n",
    "        self.add_boundary_condition(HardFloor())\n",
    "        #self.add_boundary_condition(HardWall())\n",
    "        # Velocity\n",
    "        #self.add_boundary_condition(spatialpy.BoundaryCondition(\n",
    "        #    type_id=2,\n",
    "        #    property = 'v',\n",
    "        #   value    = [0.005, 0.0, 0.0] \n",
    "        #))\n",
    "\n",
    "        self.staticDomain = False\n",
    "\n",
    "        # Define time parameters\n",
    "        self.timestep_size = 1e-3  # timestep size\n",
    "        #self.num_timesteps = 50000    # number of timesteps\n",
    "        #self.num_timesteps = 200000    # number of timesteps\n",
    "        #self.output_freq = 400      # frequency of outputting results\n",
    "        self.num_timesteps = 500    # number of timesteps\n",
    "        self.output_freq = 5      # frequency of outputting results\n",
    "        "
   ]
  },
  {
   "cell_type": "code",
   "execution_count": 7,
   "metadata": {
    "tags": []
   },
   "outputs": [],
   "source": [
    "model = weir()"
   ]
  },
  {
   "cell_type": "code",
   "execution_count": 10,
   "metadata": {
    "tags": []
   },
   "outputs": [
    {
     "name": "stdout",
     "output_type": "stream",
     "text": [
      "CPU times: user 1.37 s, sys: 2.85 ms, total: 1.37 s\n",
      "Wall time: 40.9 s\n"
     ]
    }
   ],
   "source": [
    "from spatialpy import Solver\n",
    "sol = Solver(model, debug_level=0)\n",
    "%time sol.compile()"
   ]
  },
  {
   "cell_type": "code",
   "execution_count": 23,
   "metadata": {
    "scrolled": false,
    "tags": []
   },
   "outputs": [
    {
     "name": "stdout",
     "output_type": "stream",
     "text": [
      "cmd = cd /tmp/spatialpy_result_fbc2ztbj;/tmp/spatialpy_build_1kab3kmj/ssa_sdpd\n",
      "got here1-\n",
      "got here2\n",
      "ERROR: nan/inf detected!!!\n",
      "id=3962\n",
      "got here3\n",
      "x[0]=5.500000e-01\n",
      "x[1]=5.000000e-01\n",
      "x[2]=0.000000e+00\n",
      "v[0]=-nan\n",
      "v[1]=-nan\n",
      "v[2]=-nan\n",
      "vt[0]=0.000000e+00\n",
      "vt[1]=0.000000e+00\n",
      "vt[2]=0.000000e+00\n",
      "F[0]=-6.643147e+16\n",
      "F[1]=1.689361e+13\n",
      "F[2]=-5.444719e-87\n",
      "Fbp[0]=-1.559870e+04\n",
      "Fbp[1]=-3.936050e+01\n",
      "Fbp[2]=0.000000e+00\n",
      "old_x[0]=7.398641e+00\n",
      "old_x[1]=1.357588e+00\n",
      "old_x[2]=0.000000e+00\n",
      "old_v[0]=4.527332e+06\n",
      "old_v[1]=-7.455955e+07\n",
      "old_v[2]=3.723763e-97\n",
      "sys->current_step=53\n",
      "sys->dt=1.000000e-03\n",
      "got empty line, ending\n",
      "got here4\n",
      "CPU times: user 16.2 ms, sys: 14.8 ms, total: 30.9 ms\n",
      "Wall time: 17.5 s\n"
     ]
    }
   ],
   "source": [
    "%time result = sol.run()"
   ]
  },
  {
   "cell_type": "code",
   "execution_count": null,
   "metadata": {},
   "outputs": [],
   "source": []
  },
  {
   "cell_type": "code",
   "execution_count": null,
   "metadata": {},
   "outputs": [],
   "source": []
  },
  {
   "cell_type": "code",
   "execution_count": null,
   "metadata": {},
   "outputs": [],
   "source": []
  },
  {
   "cell_type": "code",
   "execution_count": null,
   "metadata": {},
   "outputs": [],
   "source": []
  },
  {
   "cell_type": "code",
   "execution_count": null,
   "metadata": {},
   "outputs": [],
   "source": []
  },
  {
   "cell_type": "code",
   "execution_count": null,
   "metadata": {},
   "outputs": [],
   "source": []
  },
  {
   "cell_type": "code",
   "execution_count": 13,
   "metadata": {},
   "outputs": [],
   "source": [
    "def mpl_plot_property(t_ndx=0):\n",
    "        import matplotlib.pyplot as plt\n",
    "        \n",
    "        points, data = result.read_step(t_ndx)\n",
    "\n",
    "        d = data[\"type\"]\n",
    "\n",
    "        plt.figure(figsize=(6.4, 4.8))\n",
    "        plt.scatter(points[:,0],points[:,1], c=d)\n",
    "        plt.axis('scaled')\n",
    "        #plt.colorbar()\n",
    "        plt.title(\"t={0}\".format(t_ndx))\n",
    "        plt.grid(linestyle='', linewidth=1)\n",
    "        plt.plot()\n",
    "        return"
   ]
  },
  {
   "cell_type": "code",
   "execution_count": 18,
   "metadata": {},
   "outputs": [
    {
     "ename": "NameError",
     "evalue": "name 'result' is not defined",
     "output_type": "error",
     "traceback": [
      "\u001b[0;31m---------------------------------------------------------------------------\u001b[0m",
      "\u001b[0;31mNameError\u001b[0m                                 Traceback (most recent call last)",
      "\u001b[0;32m<ipython-input-18-1186ba0ab6dd>\u001b[0m in \u001b[0;36m<module>\u001b[0;34m\u001b[0m\n\u001b[1;32m      1\u001b[0m \u001b[0mtimespan\u001b[0m \u001b[0;34m=\u001b[0m \u001b[0;34m[\u001b[0m\u001b[0;34m]\u001b[0m\u001b[0;34m\u001b[0m\u001b[0;34m\u001b[0m\u001b[0m\n\u001b[1;32m      2\u001b[0m \u001b[0mtime_vals\u001b[0m \u001b[0;34m=\u001b[0m \u001b[0;34m[\u001b[0m\u001b[0;34m]\u001b[0m\u001b[0;34m\u001b[0m\u001b[0;34m\u001b[0m\u001b[0m\n\u001b[0;32m----> 3\u001b[0;31m \u001b[0;32mfor\u001b[0m \u001b[0mi\u001b[0m\u001b[0;34m,\u001b[0m\u001b[0mt\u001b[0m \u001b[0;32min\u001b[0m \u001b[0menumerate\u001b[0m\u001b[0;34m(\u001b[0m\u001b[0mresult\u001b[0m\u001b[0;34m.\u001b[0m\u001b[0mget_timespan\u001b[0m\u001b[0;34m(\u001b[0m\u001b[0;34m)\u001b[0m\u001b[0;34m)\u001b[0m\u001b[0;34m:\u001b[0m\u001b[0;34m\u001b[0m\u001b[0;34m\u001b[0m\u001b[0m\n\u001b[0m\u001b[1;32m      4\u001b[0m     \u001b[0mtime_vals\u001b[0m\u001b[0;34m.\u001b[0m\u001b[0mappend\u001b[0m\u001b[0;34m(\u001b[0m\u001b[0mt\u001b[0m\u001b[0;34m)\u001b[0m\u001b[0;34m\u001b[0m\u001b[0;34m\u001b[0m\u001b[0m\n\u001b[1;32m      5\u001b[0m     \u001b[0mtimespan\u001b[0m\u001b[0;34m.\u001b[0m\u001b[0mappend\u001b[0m\u001b[0;34m(\u001b[0m\u001b[0mi\u001b[0m\u001b[0;34m)\u001b[0m\u001b[0;34m\u001b[0m\u001b[0;34m\u001b[0m\u001b[0m\n",
      "\u001b[0;31mNameError\u001b[0m: name 'result' is not defined"
     ]
    }
   ],
   "source": [
    "timespan = []\n",
    "time_vals = []\n",
    "for i,t in enumerate(result.get_timespan()):\n",
    "    time_vals.append(t)\n",
    "    timespan.append(i)\n",
    "print(timespan)\n",
    "print(time_vals)"
   ]
  },
  {
   "cell_type": "code",
   "execution_count": 15,
   "metadata": {
    "scrolled": false
   },
   "outputs": [],
   "source": [
    "for i in timespan:\n",
    "    try:\n",
    "        mpl_plot_property(i)\n",
    "    except Exception as e:\n",
    "        print(\"t={0} {1}\".format(i,e))\n"
   ]
  },
  {
   "cell_type": "code",
   "execution_count": null,
   "metadata": {},
   "outputs": [],
   "source": []
  },
  {
   "cell_type": "code",
   "execution_count": null,
   "metadata": {},
   "outputs": [],
   "source": []
  },
  {
   "cell_type": "code",
   "execution_count": null,
   "metadata": {},
   "outputs": [],
   "source": []
  }
 ],
 "metadata": {
  "kernelspec": {
   "display_name": "Python 3",
   "language": "python",
   "name": "python3"
  },
  "language_info": {
   "codemirror_mode": {
    "name": "ipython",
    "version": 3
   },
   "file_extension": ".py",
   "mimetype": "text/x-python",
   "name": "python",
   "nbconvert_exporter": "python",
   "pygments_lexer": "ipython3",
   "version": "3.8.5"
  }
 },
 "nbformat": 4,
 "nbformat_minor": 2
}

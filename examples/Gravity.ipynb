{
 "cells": [
  {
   "cell_type": "code",
   "execution_count": 1,
   "metadata": {},
   "outputs": [],
   "source": [
    "import os\n",
    "import numpy\n",
    "import matplotlib.pyplot as plt"
   ]
  },
  {
   "cell_type": "code",
   "execution_count": 2,
   "metadata": {},
   "outputs": [],
   "source": [
    "img_pkl_file = 'Domain_Files/SpatialPy_Image.pkl'\n",
    "try:\n",
    "    from PIL import Image, ImageDraw, ImageFont\n",
    "\n",
    "    # name of the file to save\n",
    "    filename = \"img01.png\"\n",
    "    #fnt = ImageFont.truetype('arial.ttf', 15)\n",
    "    fontsize=50\n",
    "    fnt = ImageFont.truetype('/usr/share/fonts/truetype/freefont/FreeSerifBold.ttf',fontsize)\n",
    "    # create new image\n",
    "    image = Image.new(mode = \"RGB\", size = (230,70), color = \"white\")\n",
    "    draw = ImageDraw.Draw(image)\n",
    "    draw.text((10,10), \"SpatialPy\", font=fnt, fill=(0,0,0))\n",
    "\n",
    "    image_array = numpy.asarray(image)\n",
    "    if not os.path.isfile(img_pkl_file):\n",
    "        import pickle\n",
    "        with open(img_pkl_file,'wb') as p:\n",
    "            pickle.dump(image_array,p)\n",
    "\n",
    "except Exception:\n",
    "    import pickle\n",
    "    with open(img_pkl_file,'rb') as p:\n",
    "        image_array = pickle.load(p)\n"
   ]
  },
  {
   "cell_type": "code",
   "execution_count": 3,
   "metadata": {},
   "outputs": [
    {
     "data": {
      "text/plain": [
       "(70, 230, 3)"
      ]
     },
     "execution_count": 3,
     "metadata": {},
     "output_type": "execute_result"
    }
   ],
   "source": [
    "image_array.shape"
   ]
  },
  {
   "cell_type": "code",
   "execution_count": 4,
   "metadata": {},
   "outputs": [
    {
     "data": {
      "text/plain": [
       "(2.8999999999999986, 225.1, 9.85, 57.15)"
      ]
     },
     "execution_count": 4,
     "metadata": {},
     "output_type": "execute_result"
    },
    {
     "data": {
      "image/png": "[encoded data removed]",
      "text/plain": [
       "<Figure size 432x288 with 1 Axes>"
      ]
     },
     "metadata": {
      "needs_background": "light"
     },
     "output_type": "display_data"
    }
   ],
   "source": [
    "word_points_x = []\n",
    "word_points_y = []\n",
    "for y in range(image_array.shape[0]):\n",
    "    for x in range(image_array.shape[1]):\n",
    "        if image_array[y, x, 0] < 50:\n",
    "            word_points_x.append(x)\n",
    "            word_points_y.append(-y + image_array.shape[0])\n",
    "plt.plot(word_points_x, word_points_y, '.k')\n",
    "plt.axis('equal')"
   ]
  },
  {
   "cell_type": "code",
   "execution_count": 5,
   "metadata": {},
   "outputs": [],
   "source": [
    "%load_ext autoreload\n",
    "%autoreload 2"
   ]
  },
  {
   "cell_type": "code",
   "execution_count": 6,
   "metadata": {},
   "outputs": [
    {
     "data": {
      "text/plain": [
       "'/Users/bryanrumsey/Documents/SpatialPy/examples/../spatialpy/__init__.py'"
      ]
     },
     "execution_count": 6,
     "metadata": {},
     "output_type": "execute_result"
    }
   ],
   "source": [
    "import sys\n",
    "sys.path.insert(0,'../')\n",
    "import spatialpy\n",
    "spatialpy.__file__"
   ]
  },
  {
   "cell_type": "code",
   "execution_count": 7,
   "metadata": {},
   "outputs": [],
   "source": [
    "class BouncyFloor(spatialpy.BoundaryCondition):\n",
    "    def __init__(self):\n",
    "        pass\n",
    "    \n",
    "    def expression(self):\n",
    "        return \"\"\"\n",
    "        if(me->x[1] < system->ylo){\n",
    "            me->x[1] = system->ylo;\n",
    "            me->v[1] = -0.95 * me->v[1];\n",
    "        }\n",
    "        me->x[2]=0.0;\n",
    "        me->rho = 1.0;\n",
    "        \"\"\""
   ]
  },
  {
   "cell_type": "code",
   "execution_count": 8,
   "metadata": {},
   "outputs": [],
   "source": [
    "class SpatialPyGravity(spatialpy.Model):\n",
    "    def __init__(self, x_vals, y_vals, xmax, ymax):\n",
    "        spatialpy.Model.__init__(self,\"SpatialPy Gravity\")\n",
    "        \n",
    "        domain = spatialpy.Domain(len(x_vals), (0, xmax), (0, ymax), (0, 0), gravity=[0, -1, 0])\n",
    "        for i, x_val in enumerate(x_vals):\n",
    "            domain.vertices[i, 0] = x_val\n",
    "            domain.vertices[i, 1] = y_vals[i]\n",
    "            domain.type[i] = 1\n",
    "            domain.mass[i] = 1.0\n",
    "            domain.vol[i] = 1.0\n",
    "            domain.nu[i] = 1.0\n",
    "        self.add_domain(domain)\n",
    "        \n",
    "        self.add_boundary_condition(BouncyFloor())\n",
    "        \n",
    "        self.staticDomain = False\n",
    "        \n",
    "        self.timespan(numpy.linspace(0, 50, 201), timestep_size=1e-3)"
   ]
  },
  {
   "cell_type": "code",
   "execution_count": 9,
   "metadata": {},
   "outputs": [],
   "source": [
    "model = SpatialPyGravity(word_points_x,word_points_y,\n",
    "                 image_array.shape[1],image_array.shape[0])"
   ]
  },
  {
   "cell_type": "code",
   "execution_count": 10,
   "metadata": {
    "scrolled": true,
    "tags": []
   },
   "outputs": [
    {
     "name": "stdout",
     "output_type": "stream",
     "text": [
      "CPU times: user 30.6 ms, sys: 3.19 ms, total: 33.8 ms\n",
      "Wall time: 706 ms\n"
     ]
    }
   ],
   "source": [
    "sol = spatialpy.Solver(model, debug_level=0)\n",
    "%time sol.compile()"
   ]
  },
  {
   "cell_type": "code",
   "execution_count": 33,
   "metadata": {
    "tags": []
   },
   "outputs": [
    {
     "name": "stdout",
     "output_type": "stream",
     "text": [
      "Got NaN calculating D_i_j for me=1224, neighbor=1152\n",
      "system->dimension=2 r2=1.000000e+00 r2_old=1.000000e+00 r=1.000000e+00 h=3.111270e+00 alpha=1.644163e-01 dWdr=-9.385616e-02 mass=1.000000e+00 rho=0.000000e+00 n->mass=1.000000e+00 n->rho=0.000000e+00 x=[9.600000e+01,3.500000e+01,0.000000e+00] n->x=[9.600000e+01,3.600000e+01,0.000000e+00] solver_cmd = cd /var/folders/z4/bqpnd_kx7xg3s3c9jtz0pnfh0000gn/T/spatialpy_result_tgd2sxk6;/var/folders/z4/bqpnd_kx7xg3s3c9jtz0pnfh0000gn/T/spatialpy_build_hex_9xhh/ssa_sdpd\n"
     ]
    },
    {
     "ename": "SimulationError",
     "evalue": "Solver execution failed, return code = 1",
     "output_type": "error",
     "traceback": [
      "\u001b[0;31m---------------------------------------------------------------------------\u001b[0m",
      "\u001b[0;31mSimulationError\u001b[0m                           Traceback (most recent call last)",
      "\u001b[0;32m<timed exec>\u001b[0m in \u001b[0;36m<module>\u001b[0;34m\u001b[0m\n",
      "\u001b[0;32m~/Documents/SpatialPy/examples/../spatialpy/solvers/solver.py\u001b[0m in \u001b[0;36mrun\u001b[0;34m(self, number_of_trajectories, seed, timeout, number_of_threads, debug, profile, verbose)\u001b[0m\n\u001b[1;32m    619\u001b[0m             \u001b[0;32mif\u001b[0m \u001b[0mreturn_code\u001b[0m \u001b[0;32mis\u001b[0m \u001b[0;32mnot\u001b[0m \u001b[0;32mNone\u001b[0m \u001b[0;32mand\u001b[0m \u001b[0mreturn_code\u001b[0m \u001b[0;34m!=\u001b[0m \u001b[0;36m0\u001b[0m\u001b[0;34m:\u001b[0m\u001b[0;34m\u001b[0m\u001b[0;34m\u001b[0m\u001b[0m\n\u001b[1;32m    620\u001b[0m                 \u001b[0mprint\u001b[0m\u001b[0;34m(\u001b[0m\u001b[0;34mf\"solver_cmd = {solver_cmd}\"\u001b[0m\u001b[0;34m)\u001b[0m\u001b[0;34m\u001b[0m\u001b[0;34m\u001b[0m\u001b[0m\n\u001b[0;32m--> 621\u001b[0;31m                 \u001b[0;32mraise\u001b[0m \u001b[0mSimulationError\u001b[0m\u001b[0;34m(\u001b[0m\u001b[0;34mf\"Solver execution failed, return code = {return_code}\"\u001b[0m\u001b[0;34m)\u001b[0m\u001b[0;34m\u001b[0m\u001b[0;34m\u001b[0m\u001b[0m\n\u001b[0m\u001b[1;32m    622\u001b[0m \u001b[0;34m\u001b[0m\u001b[0m\n\u001b[1;32m    623\u001b[0m             \u001b[0mresult\u001b[0m\u001b[0;34m.\u001b[0m\u001b[0msuccess\u001b[0m \u001b[0;34m=\u001b[0m \u001b[0;32mTrue\u001b[0m\u001b[0;34m\u001b[0m\u001b[0;34m\u001b[0m\u001b[0m\n",
      "\u001b[0;31mSimulationError\u001b[0m: Solver execution failed, return code = 1"
     ]
    }
   ],
   "source": [
    "%time result = sol.run()"
   ]
  },
  {
   "cell_type": "code",
   "execution_count": 12,
   "metadata": {},
   "outputs": [
    {
     "ename": "NameError",
     "evalue": "name 'result' is not defined",
     "output_type": "error",
     "traceback": [
      "\u001b[0;31m---------------------------------------------------------------------------\u001b[0m",
      "\u001b[0;31mNameError\u001b[0m                                 Traceback (most recent call last)",
      "\u001b[0;32m/var/folders/z4/bqpnd_kx7xg3s3c9jtz0pnfh0000gn/T/ipykernel_3375/3675451004.py\u001b[0m in \u001b[0;36m<module>\u001b[0;34m\u001b[0m\n\u001b[0;32m----> 1\u001b[0;31m \u001b[0mresult\u001b[0m\u001b[0;34m.\u001b[0m\u001b[0mplot_property\u001b[0m\u001b[0;34m(\u001b[0m\u001b[0;34m'type'\u001b[0m\u001b[0;34m)\u001b[0m\u001b[0;34m\u001b[0m\u001b[0;34m\u001b[0m\u001b[0m\n\u001b[0m",
      "\u001b[0;31mNameError\u001b[0m: name 'result' is not defined"
     ]
    }
   ],
   "source": [
    "result.plot_property('type')"
   ]
  },
  {
   "cell_type": "code",
   "execution_count": null,
   "metadata": {},
   "outputs": [],
   "source": [
    "# Plot_step access the result object and search for the specified key to plot\n",
    "def plot_step(time=0,key='type',index=0):\n",
    "    try:\n",
    "        pts, data = result.read_step(time)\n",
    "    except Exception:\n",
    "        print(\"error reading time={0}\".format(time))\n",
    "        return\n",
    "    plt.figure(figsize=(15,10) )       \n",
    "    if (key == 'v'):\n",
    "        d = data[key]\n",
    "        d = [d[i][index] for i in range(0,len(d))]\n",
    "    else:\n",
    "        d = data[key]\n",
    "    plt.scatter(pts[:,0],pts[:,1],c=d)\n",
    "    plt.axis('scaled')\n",
    "    #plt.colorbar()\n",
    "    plt.title('t={0}'.format(time*model.timestep_size*model.output_freq))\n",
    "    #plt.xticks(numpy.arange(-0.6, 0.7, 0.1)) \n",
    "    #plt.yticks(numpy.arange(-0.6, 0.7, 0.1)) \n",
    "    plt.grid(linestyle='--', linewidth=1)\n",
    "    plt.xlim(result.model.mesh.xlim)\n",
    "    plt.ylim(result.model.mesh.ylim)\n",
    "    \n",
    "    \n",
    "    \n",
    "def plot_all(key='type',index=0):\n",
    "    for i,t in enumerate(result.get_timespan()):\n",
    "        plot_step(i,key,index)"
   ]
  },
  {
   "cell_type": "code",
   "execution_count": null,
   "metadata": {},
   "outputs": [],
   "source": [
    "# pts, data = result.read_step(0)\n",
    "# plt.scatter(pts[:,0],pts[:,1],c=data['type'])\n",
    "# plt.axis('scaled')\n",
    "# #plt.colorbar()\n",
    "# plt.title('t={0}'.format(0))\n",
    "# #plt.xticks(numpy.arange(-0.6, 0.7, 0.1)) \n",
    "# #plt.yticks(numpy.arange(-0.6, 0.7, 0.1)) \n",
    "# plt.grid(linestyle='--', linewidth=1)\n",
    "# plt.xlim(result.model.mesh.xlim)\n",
    "# plt.ylim(result.model.mesh.ylim)"
   ]
  },
  {
   "cell_type": "code",
   "execution_count": null,
   "metadata": {
    "scrolled": true,
    "tags": []
   },
   "outputs": [],
   "source": [
    "#plot_all('v',index=1)"
   ]
  },
  {
   "cell_type": "code",
   "execution_count": null,
   "metadata": {},
   "outputs": [],
   "source": [
    "len(result.get_timespan())"
   ]
  },
  {
   "cell_type": "code",
   "execution_count": null,
   "metadata": {},
   "outputs": [],
   "source": [
    "# Animated plot of the data\n",
    "#result.plot_property(\"rho\", p_ndx=1, width=600, height=800, \n",
    "#                     animated=True, t_ndx_list=[t for t in range(0,len(result.get_timespan()))], \n",
    "#                     f_duration=1, t_duration=100, colormap=\"haline\")"
   ]
  },
  {
   "cell_type": "code",
   "execution_count": null,
   "metadata": {},
   "outputs": [],
   "source": [
    "result.plot_property(\"type\", use_matplotlib=True, mpl_width=15, mpl_height=5)\n",
    "result.plot_property(\"type\", use_matplotlib=True, mpl_width=15, mpl_height=5, colormap=\"winter\")"
   ]
  },
  {
   "cell_type": "code",
   "execution_count": null,
   "metadata": {},
   "outputs": [],
   "source": [
    "def plot_all_plot_property(key='type',index=0):\n",
    "    for i,t in enumerate(result.get_timespan()):\n",
    "        try:\n",
    "            result.plot_property(key, t_ndx=i, p_ndx=index, \n",
    "                                 use_matplotlib=True, mpl_width=17, \n",
    "                                 mpl_height=5)\n",
    "        except:\n",
    "            print(\"error reading time={0}\".format(i))"
   ]
  },
  {
   "cell_type": "code",
   "execution_count": null,
   "metadata": {
    "scrolled": true,
    "tags": []
   },
   "outputs": [],
   "source": [
    "# this produces a lot of data\n",
    "#plot_all_plot_property(key=\"v\", index=1)"
   ]
  },
  {
   "cell_type": "code",
   "execution_count": null,
   "metadata": {},
   "outputs": [],
   "source": [
    "result.plot_property(\"type\", animated=True)"
   ]
  },
  {
   "cell_type": "code",
   "execution_count": null,
   "metadata": {},
   "outputs": [],
   "source": [
    "import matplotlib"
   ]
  },
  {
   "cell_type": "code",
   "execution_count": null,
   "metadata": {},
   "outputs": [],
   "source": []
  }
 ],
 "metadata": {
  "kernelspec": {
   "display_name": "Python 3 (ipykernel)",
   "language": "python",
   "name": "python3"
  },
  "language_info": {
   "codemirror_mode": {
    "name": "ipython",
    "version": 3
   },
   "file_extension": ".py",
   "mimetype": "text/x-python",
   "name": "python",
   "nbconvert_exporter": "python",
   "pygments_lexer": "ipython3",
   "version": "3.9.9"
  }
 },
 "nbformat": 4,
 "nbformat_minor": 4
}

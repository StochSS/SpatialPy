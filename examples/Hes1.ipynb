{
 "cells": [
  {
   "cell_type": "markdown",
   "id": "demographic-nitrogen",
   "metadata": {},
   "source": [
    "# Spatial Stochastic Simulation with SpatialPy\n",
    "***\n",
    "Here we illustrate how to implement the model describet in [Sturrock M, Hellander A, Matzavinos A, Chaplain MAJ. 2013 Spatial stochastic modelling of the Hes1 gene regulatory network: intrinsic noise can explain heterogeneity in embryonic stem cell differentiation. J R Soc Interface 10:20120988]\n",
    "***\n",
    "## Setup the Environment\n",
    "***"
   ]
  },
  {
   "cell_type": "code",
   "execution_count": 1,
   "id": "7e9bf188",
   "metadata": {},
   "outputs": [],
   "source": [
    "import os\n",
    "import sys\n",
    "sys.path.insert(1, os.path.abspath(os.path.join(os.getcwd(), '../')))"
   ]
  },
  {
   "cell_type": "code",
   "execution_count": 2,
   "id": "7e54f19c",
   "metadata": {},
   "outputs": [],
   "source": [
    "import numpy"
   ]
  },
  {
   "cell_type": "markdown",
   "id": "3d82a26e",
   "metadata": {},
   "source": [
    "MatPlotLib is used for creating custom visualizations"
   ]
  },
  {
   "cell_type": "code",
   "execution_count": 3,
   "id": "3bf00f74",
   "metadata": {},
   "outputs": [],
   "source": [
    "import matplotlib.pyplot as plt"
   ]
  },
  {
   "cell_type": "code",
   "execution_count": 4,
   "id": "reverse-knock",
   "metadata": {},
   "outputs": [],
   "source": [
    "import spatialpy"
   ]
  },
  {
   "cell_type": "markdown",
   "id": "f72f6257",
   "metadata": {},
   "source": [
    "***\n",
    "## Create Geometries for the Domain\n",
    "***"
   ]
  },
  {
   "cell_type": "code",
   "execution_count": 5,
   "id": "realistic-service",
   "metadata": {},
   "outputs": [],
   "source": [
    "class Nucleus(spatialpy.Geometry):\n",
    "    def inside(self, point, on_boundary):\n",
    "        return point[0]**2 + point[1]**2 + point[2]**2 <= 3**2"
   ]
  },
  {
   "cell_type": "code",
   "execution_count": 6,
   "id": "swiss-intention",
   "metadata": {},
   "outputs": [],
   "source": [
    "class Cytoplasm(spatialpy.Geometry):\n",
    "    def inside(self, point, on_boundary):\n",
    "        return point[0]**2 + point[1]**2 + point[2]**2 > 3**2"
   ]
  },
  {
   "cell_type": "markdown",
   "id": "apart-forward",
   "metadata": {},
   "source": [
    "***\n",
    "## Create Hes1 Model\n",
    "***"
   ]
  },
  {
   "cell_type": "code",
   "execution_count": 7,
   "id": "velvet-stable",
   "metadata": {},
   "outputs": [],
   "source": [
    "def create_hes1(model_name=\"hes1\", parameter_values=None):\n",
    "    # Initialize Model\n",
    "    model = spatialpy.Model(model_name)\n",
    "\n",
    "    # Define Domain Type IDs as constants of the Model\n",
    "    model.NUCLEUS = Nucleus.__name__\n",
    "    model.CYTOPLASM = Cytoplasm.__name__\n",
    "    \n",
    "    # System constants\n",
    "    D_P = 1e-12\n",
    "    D_mRNA = 1e-12\n",
    "    \n",
    "    # Define Domain\n",
    "    domain = spatialpy.Domain.read_xml_mesh(\"Domain_Files/GRN_Spatial.mesh.xml\")\n",
    "    \n",
    "    # # Add Type IDs to the Particles\n",
    "    domain.read_stochss_subdomain_file(\n",
    "        \"Domain_Files/GRN_Spatial.subdomains.txt\", type_ids={\"1\": model.NUCLEUS, \"2\": model.CYTOPLASM}\n",
    "    )\n",
    "    \n",
    "    # Set Model Domain\n",
    "    model.add_domain(domain)\n",
    "\n",
    "    # Define Variables (SpatialPy.Species)\n",
    "    G_f = spatialpy.Species(name='G_f', diffusion_coefficient=0.0)\n",
    "    G_o = spatialpy.Species(name='G_o', diffusion_coefficient=0.0)\n",
    "    mRNA = spatialpy.Species(name='mRNA',diffusion_coefficient=D_mRNA)\n",
    "    P = spatialpy.Species(name='P', diffusion_coefficient=D_P)\n",
    "    \n",
    "    # Add Variables to Model\n",
    "    model.add_species([G_f, G_o, mRNA, P])\n",
    "\n",
    "    # Define Parameters\n",
    "    mu = spatialpy.Parameter(name='mu', expression=0.002)\n",
    "    kappa = spatialpy.Parameter(name='kappa', expression=0.015)\n",
    "    ka = spatialpy.Parameter(name='ka', expression=1.6605778811e-20)\n",
    "    kd = spatialpy.Parameter(name='kd', expression=0.01)\n",
    "    gamma_m = spatialpy.Parameter(name='gamma_m', expression=6e-4)\n",
    "    gamma_p = spatialpy.Parameter(name='gamma_p', expression=3e-4)\n",
    "    \n",
    "    # Add Parameters to Model\n",
    "    model.add_parameter([mu, kappa, ka, kd, gamma_m, gamma_p])\n",
    "\n",
    "    # Define Reactions\n",
    "    rxn1 = spatialpy.Reaction(name='R1', reactants={'G_f': 1, 'P': 1}, products={'G_o': 1}, rate='ka')\n",
    "    rxn2 = spatialpy.Reaction(\n",
    "        name='R2', reactants={'mRNA': 1}, products={'mRNA': 1, 'P': 1}, rate='kappa', restrict_to=model.CYTOPLASM\n",
    "    )\n",
    "    rxn3 = spatialpy.Reaction(name='R3', reactants={'G_f': 1}, products={'G_f': 1, 'mRNA': 1}, rate='mu')\n",
    "    rxn4 = spatialpy.Reaction(name='R4', reactants={'mRNA': 1}, products={}, rate='gamma_m')\n",
    "    rxn5 = spatialpy.Reaction(name='R5', reactants={'P': 1}, products={}, rate='gamma_p')\n",
    "    rxn6 = spatialpy.Reaction(name='R6', reactants={'G_o': 1}, products={'G_f': 1, 'P': 1}, rate='kd')\n",
    "    \n",
    "    # Add Reactions to Model\n",
    "    model.add_reaction([rxn1, rxn2, rxn3, rxn4, rxn5, rxn6])\n",
    "\n",
    "    # Define Initial Conditions\n",
    "    G_f_ic = spatialpy.PlaceInitialCondition(G_f, 1, location=[0,0,0])\n",
    "    \n",
    "    # Add Initial Conditions to Model\n",
    "    model.add_initial_condition(G_f_ic)\n",
    "\n",
    "    # Define Timespan\n",
    "    tspan = spatialpy.TimeSpan.linspace(t=24 * 3600, num_points=2000, timestep_size=1)\n",
    "    \n",
    "    # Set Model Timespan\n",
    "    model.timespan(tspan)\n",
    "    return model"
   ]
  },
  {
   "cell_type": "markdown",
   "id": "a6fc33b2",
   "metadata": {},
   "source": [
    "### Instantiate the Model"
   ]
  },
  {
   "cell_type": "code",
   "execution_count": 8,
   "id": "directed-slovenia",
   "metadata": {},
   "outputs": [],
   "source": [
    "model = create_hes1()"
   ]
  },
  {
   "cell_type": "markdown",
   "id": "10832c97",
   "metadata": {},
   "source": [
    "### Instantiate the Solver"
   ]
  },
  {
   "cell_type": "code",
   "execution_count": 9,
   "id": "e42a80df",
   "metadata": {},
   "outputs": [
    {
     "name": "stdout",
     "output_type": "stream",
     "text": [
      "CPU times: user 28.1 ms, sys: 9.34 ms, total: 37.4 ms\n",
      "Wall time: 1.31 s\n",
      "/var/folders/z4/bqpnd_kx7xg3s3c9jtz0pnfh0000gn/T/spatialpy_build_lmrn5sc0\n"
     ]
    }
   ],
   "source": [
    "sol = spatialpy.Solver(model, debug_level=0)\n",
    "%time sol.compile()\n",
    "print(sol.build_dir)"
   ]
  },
  {
   "cell_type": "markdown",
   "id": "religious-array",
   "metadata": {},
   "source": [
    "***\n",
    "## Run the Simulation\n",
    "***"
   ]
  },
  {
   "cell_type": "code",
   "execution_count": 10,
   "id": "matched-burden",
   "metadata": {},
   "outputs": [
    {
     "name": "stdout",
     "output_type": "stream",
     "text": [
      "CPU times: user 11.2 ms, sys: 10.1 ms, total: 21.2 ms\n",
      "Wall time: 14min 57s\n"
     ]
    }
   ],
   "source": [
    "%time result = sol.run()"
   ]
  },
  {
   "cell_type": "markdown",
   "id": "91f5bbb2",
   "metadata": {},
   "source": [
    "***\n",
    "## Visualizations\n",
    "***\n",
    "### Plot the evolution of the copy number of a given species"
   ]
  },
  {
   "cell_type": "code",
   "execution_count": 11,
   "id": "single-challenge",
   "metadata": {},
   "outputs": [],
   "source": [
    "def plot_hes1(result):\n",
    "    protein = result.get_species(\"P\")\n",
    "    proteinsum = numpy.sum(protein, axis=1)\n",
    "    plt.plot(numpy.array(result.tspan) / 3600, proteinsum, 'r', label='protein')\n",
    "    \n",
    "    mRNA = result.get_species(\"mRNA\")\n",
    "    mRNAsum = numpy.sum(mRNA[:], axis=1)\n",
    "    plt.plot(numpy.array(result.tspan) / 3600, mRNAsum, 'b', label='mRNA')\n",
    "    \n",
    "    plt.legend(loc='best')\n",
    "    plt.xlabel('time (h)')\n",
    "    plt.ylabel('# of molecules')"
   ]
  },
  {
   "cell_type": "code",
   "execution_count": 12,
   "id": "expressed-smoke",
   "metadata": {},
   "outputs": [
    {
     "name": "stdout",
     "output_type": "stream",
     "text": [
      "CPU times: user 18.7 s, sys: 618 ms, total: 19.3 s\n",
      "Wall time: 20.8 s\n"
     ]
    },
    {
     "data": {
      "image/png": "[encoded data removed]",
      "text/plain": [
       "<Figure size 432x288 with 1 Axes>"
      ]
     },
     "metadata": {
      "needs_background": "light"
     },
     "output_type": "display_data"
    }
   ],
   "source": [
    "%time plot_hes1(result)"
   ]
  },
  {
   "cell_type": "code",
   "execution_count": 13,
   "id": "grave-victoria",
   "metadata": {},
   "outputs": [
    {
     "data": {
      "text/plain": [
       "<matplotlib.legend.Legend at 0x12af9fca0>"
      ]
     },
     "execution_count": 13,
     "metadata": {},
     "output_type": "execute_result"
    },
    {
     "data": {
      "image/png": "[encoded data removed]",
      "text/plain": [
       "<Figure size 432x288 with 1 Axes>"
      ]
     },
     "metadata": {
      "needs_background": "light"
     },
     "output_type": "display_data"
    }
   ],
   "source": [
    "pf = numpy.sum(result.get_species(\"G_f\"), axis=1)\n",
    "plt.plot(numpy.array(result.tspan) / 3600, pf, 'r', label=\"G_f\")\n",
    "plt.legend(loc=\"best\")"
   ]
  }
 ],
 "metadata": {
  "kernelspec": {
   "display_name": "Python 3 (ipykernel)",
   "language": "python",
   "name": "python3"
  },
  "language_info": {
   "codemirror_mode": {
    "name": "ipython",
    "version": 3
   },
   "file_extension": ".py",
   "mimetype": "text/x-python",
   "name": "python",
   "nbconvert_exporter": "python",
   "pygments_lexer": "ipython3",
   "version": "3.9.9"
  }
 },
 "nbformat": 4,
 "nbformat_minor": 5
}

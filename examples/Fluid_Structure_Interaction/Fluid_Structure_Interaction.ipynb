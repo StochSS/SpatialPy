{
 "cells": [
  {
   "cell_type": "markdown",
   "id": "acting-oracle",
   "metadata": {},
   "source": [
    "# Fluid Structure Interaction with SpatialPy"
   ]
  },
  {
   "cell_type": "markdown",
   "id": "tired-preserve",
   "metadata": {},
   "source": [
    "## Definition of the model"
   ]
  },
  {
   "cell_type": "markdown",
   "id": "popular-hometown",
   "metadata": {},
   "source": [
    "### Imports and definitions"
   ]
  },
  {
   "cell_type": "code",
   "execution_count": null,
   "id": "extraordinary-suggestion",
   "metadata": {},
   "outputs": [],
   "source": [
    "import os\n",
    "import sys\n",
    "sys.path.insert(1, \"../..\")\n",
    "import math\n",
    "import numpy as np\n",
    "import matplotlib.pyplot as plt\n",
    "\n",
    "import spatialpy"
   ]
  },
  {
   "cell_type": "code",
   "execution_count": null,
   "id": "injured-avatar",
   "metadata": {},
   "outputs": [],
   "source": [
    "class Density(spatialpy.BoundaryCondition):\n",
    "    def __init__(self, rhoF, rhoB):\n",
    "        self.rhoF = rhoF\n",
    "        self.rhoB = rhoB\n",
    "        \n",
    "    def expression(self):\n",
    "        bcstr = \"if(me->type == 1 || me->type == 3){\"\n",
    "        bcstr += f\"me->rho = {self.rhoF};\"\n",
    "        bcstr += \"}\"\n",
    "        bcstr += \"if(me->type == 2){\"\n",
    "        bcstr += f\"me->rho = {self.rhoB};\"\n",
    "        bcstr += \"}\"\n",
    "        return bcstr"
   ]
  },
  {
   "cell_type": "code",
   "execution_count": null,
   "id": "informed-premium",
   "metadata": {},
   "outputs": [],
   "source": [
    "class Teleport(spatialpy.BoundaryCondition):\n",
    "    def __init__(self, nu):\n",
    "        self.nu = nu\n",
    "        \n",
    "    def expression(self):\n",
    "        bcstr = \"if(me->x[0] > system->xhi || me->x[0] < system->xlo){\"\n",
    "        bcstr += \"me->x[0] = system->xlo + 1e-6;\"\n",
    "        bcstr += \"me->v[0] = 0.0333;\"\n",
    "        bcstr += f\"me->nu = {self.nu};\"\n",
    "        bcstr += \"}\"\n",
    "        bcstr += \"if(me->x[1] > system->yhi){\"\n",
    "        bcstr += \"me->v[1]= 0.0;\"\n",
    "        bcstr += \"me->x[1]= 99e-6;\"\n",
    "        bcstr += \"}\"\n",
    "        bcstr += \"if(me->x[1] < system->ylo){\"\n",
    "        bcstr += \"me->v[1]= 0.0;\"\n",
    "        bcstr += \"me->x[1]= 1e-6;\"\n",
    "        bcstr += \"}\"\n",
    "        bcstr += \"me->x[2] = 0;\"\n",
    "        return bcstr"
   ]
  },
  {
   "cell_type": "markdown",
   "id": "prostate-capture",
   "metadata": {},
   "source": [
    "### Model"
   ]
  },
  {
   "cell_type": "code",
   "execution_count": null,
   "id": "formal-breakfast",
   "metadata": {},
   "outputs": [],
   "source": [
    "class FluidStructureInteraction(spatialpy.Model):\n",
    "    def __init__(self, model_name=\"Fluid Structure Interaction\", Ra=1e4):\n",
    "        spatialpy.Model.__init__(self, model_name)\n",
    "        \n",
    "        # System Constants\n",
    "        nxF, nyF = 60, 100\n",
    "        nW = 3\n",
    "        lx, ly = 300e-6, 100e-6\n",
    "        lbz = -50e-6\n",
    "        rhoF0, rhoB0 = 1000, 7850\n",
    "        nu = 1e-3\n",
    "        vp = 0.33\n",
    "        E = 2e5\n",
    "        cF0 = vp\n",
    "        cB0 = math.sqrt(E/(3*(1-2*vp))/rhoB0)\n",
    "        \n",
    "        # Compute Domain Bounds\n",
    "        dW = dF = ly/nxF\n",
    "        dB = 0.6*dF\n",
    "        xMinW, xMaxW = lbz, lx\n",
    "        yMinTW, yMaxTW = ly, ly+(nW-1)*dW\n",
    "        yMinBW, yMaxBW = 0-(nW-1)*dW, 0\n",
    "        xMinB, xMaxB = 100e-6, 105e-6\n",
    "        yMinB, yMaxB = yMinBW, 50e-6\n",
    "        \n",
    "        # Compute Volume and Mass per Particle\n",
    "        vol = (lx-lbz)*(ly+2*nW*dW)\n",
    "        volW = 2*(nW-1)*dW*(lx-lbz)\n",
    "        volB = 5e-6*50e-6\n",
    "        volF = vol - volW - volB\n",
    "        mPFP = mPWP = volF*rhoF0/(nxF*nyF)\n",
    "        mPBP = volB*rhoB0/500\n",
    "        \n",
    "        # Domain\n",
    "        self.staticDomain = False\n",
    "        self.domain = spatialpy.Domain(0, xlim=(lbz, lx), ylim=(yMinBW, yMaxTW), zlim=(0,0), gravity=[0, -1, 0])\n",
    "        for x_ndx, x in enumerate(np.arange(lbz, lx+dF, dF)):\n",
    "            for y_ndx, y in enumerate(np.arange(yMinBW, yMaxTW+dF, dF)):\n",
    "                # Top and Bottom Walls\n",
    "                if y > ly-1e-6 or y <= 0:\n",
    "                    self.domain.add_point([x, y, 0], type=3, vol=volF/(nxF*nyF), mass=mPWP, nu=nu, fixed=True)\n",
    "                # Fluid\n",
    "                elif x < 0:\n",
    "                    self.domain.add_point([x, y, 0], type=1, vol=volF/(nxF*nyF), mass=mPFP, nu=nu, fixed=False)\n",
    "                    \n",
    "        for x_ndx, x in enumerate(np.arange(xMinB, xMaxB+dB, dB)):\n",
    "            for y_ndx, y in enumerate(np.arange(yMinB, yMaxB+dB, dB)):\n",
    "                # Beam\n",
    "                self.domain.add_point([x, y, 0], type=2, vol=volB/500, mass=mPBP, nu=nu, fixed=False)\n",
    "                \n",
    "        # Boundary Conditions\n",
    "        self.add_boundary_condition(Density(rhoF0, rhoB0))\n",
    "        self.add_boundary_condition(Teleport(nu))\n",
    "                \n",
    "        # Timespan\n",
    "        #self.timespan(np.arange(0, 10+1e-8, 1e-4), timestep_size=1e-8)\n",
    "        self.timespan(np.arange(0, 10+1e-4, 1e-2), timestep_size=1e-4)"
   ]
  },
  {
   "cell_type": "code",
   "execution_count": null,
   "id": "frequent-juvenile",
   "metadata": {},
   "outputs": [],
   "source": [
    "model = FluidStructureInteraction()"
   ]
  },
  {
   "cell_type": "code",
   "execution_count": null,
   "id": "lonely-apollo",
   "metadata": {},
   "outputs": [],
   "source": [
    "model.domain.dimensions = 2\n",
    "model.domain.plot_types()"
   ]
  },
  {
   "cell_type": "markdown",
   "id": "c4dc966c",
   "metadata": {},
   "source": [
    "## Running model and processing the results"
   ]
  },
  {
   "cell_type": "code",
   "execution_count": null,
   "id": "attractive-reproduction",
   "metadata": {},
   "outputs": [],
   "source": [
    "from spatialpy import Solver\n",
    "solver = Solver(model=model, debug_level=0)\n",
    "%time solver.compile()\n",
    "print(solver.build_dir)"
   ]
  },
  {
   "cell_type": "code",
   "execution_count": null,
   "id": "naval-oasis",
   "metadata": {},
   "outputs": [],
   "source": [
    "%time results = solver.run()"
   ]
  },
  {
   "cell_type": "code",
   "execution_count": null,
   "id": "minute-trade",
   "metadata": {},
   "outputs": [],
   "source": [
    "results.plot_property(\"type\", animated=True)"
   ]
  },
  {
   "cell_type": "code",
   "execution_count": null,
   "id": "animated-enterprise",
   "metadata": {},
   "outputs": [],
   "source": [
    "points, properties = results.read_step(2)\n",
    "for i, point in enumerate(points):\n",
    "    if properties['type'][i] == 1:\n",
    "        print(point)"
   ]
  },
  {
   "cell_type": "code",
   "execution_count": null,
   "id": "simplified-level",
   "metadata": {},
   "outputs": [],
   "source": [
    "print(model.domain.xlim)"
   ]
  },
  {
   "cell_type": "code",
   "execution_count": null,
   "id": "cc3b14a9",
   "metadata": {},
   "outputs": [],
   "source": [
    "print(model.domain.ylim)"
   ]
  },
  {
   "cell_type": "code",
   "execution_count": null,
   "id": "de059172",
   "metadata": {},
   "outputs": [],
   "source": []
  }
 ],
 "metadata": {
  "kernelspec": {
   "display_name": "Python 3 (ipykernel)",
   "language": "python",
   "name": "python3"
  },
  "language_info": {
   "codemirror_mode": {
    "name": "ipython",
    "version": 3
   },
   "file_extension": ".py",
   "mimetype": "text/x-python",
   "name": "python",
   "nbconvert_exporter": "python",
   "pygments_lexer": "ipython3",
   "version": "3.9.7"
  }
 },
 "nbformat": 4,
 "nbformat_minor": 5
}

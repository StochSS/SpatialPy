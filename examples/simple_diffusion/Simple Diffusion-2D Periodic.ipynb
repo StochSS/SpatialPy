{
 "cells": [
  {
   "cell_type": "code",
   "execution_count": null,
   "metadata": {
    "tags": []
   },
   "outputs": [],
   "source": [
    "import sys\n",
    "sys.path.append('../..')\n",
    "%load_ext autoreload\n",
    "%autoreload 2"
   ]
  },
  {
   "cell_type": "code",
   "execution_count": null,
   "metadata": {},
   "outputs": [],
   "source": [
    "import spatialpy\n",
    "import numpy"
   ]
  },
  {
   "cell_type": "code",
   "execution_count": null,
   "metadata": {},
   "outputs": [],
   "source": [
    "class Simple_Diffusion(spatialpy.Model):\n",
    "    \"\"\" Initial condition is a delta function at and off-center point. \n",
    "        The solution should be a Gaussian, and periodic boundary conditions\n",
    "        should allow it to wrap. \"\"\"\n",
    "\n",
    "    def __init__(self, model_name=\"simple_diffusion\"):\n",
    "        spatialpy.Model.__init__(self,model_name)\n",
    "        \n",
    "        # System constants\n",
    "        D = 0.01\n",
    "\n",
    "        # Define Species\n",
    "        A = spatialpy.Species(name=\"A\",diffusion_constant=D)\n",
    "        self.add_species([A])\n",
    "\n",
    "        # A unit square\n",
    "        self.mesh = spatialpy.Mesh.generate_unit_square_mesh(40,40, periodic=True)\n",
    "\n",
    "        # Define Subdomains\n",
    "        # Subdomains are NOT complete!\n",
    "        # Please complete these and update this model!\n",
    "        self.add_subdomain(, 1)\n",
    "\n",
    "        # Place the A molecules in the voxel nearest the center of the square\n",
    "        self.add_initial_condition(\n",
    "            spatialpy.PlaceInitialCondition(A,100000,[0,0,0])\n",
    "        )\n",
    "\n",
    "        self.timespan(numpy.linspace(0,5,1000))"
   ]
  },
  {
   "cell_type": "code",
   "execution_count": null,
   "metadata": {},
   "outputs": [],
   "source": [
    "model = Simple_Diffusion()"
   ]
  },
  {
   "cell_type": "code",
   "execution_count": null,
   "metadata": {},
   "outputs": [],
   "source": [
    "%time result = model.run()"
   ]
  },
  {
   "cell_type": "code",
   "execution_count": null,
   "metadata": {},
   "outputs": [],
   "source": [
    "#result.display('A',-1)"
   ]
  },
  {
   "cell_type": "code",
   "execution_count": null,
   "metadata": {},
   "outputs": [],
   "source": [
    "def display(result, species, timepoint, opacity=1.0, wireframe=True, width=500):\n",
    "    data = result.get_species(species,timepoint,concentration=True)\n",
    "    fun = pyurdme.DolfinFunctionWrapper(result.model.mesh.get_function_space())\n",
    "    vec = fun.vector()\n",
    "    nd = data.shape[0]\n",
    "    if nd == len(vec):\n",
    "        for i in range(nd):\n",
    "            vec[i]=data[i]\n",
    "    else:\n",
    "        v2d= result.get_v2d()\n",
    "        for i in range(len(vec)):\n",
    "            vec[i]=data[i]\n",
    "    fun.display(opacity=opacity, wireframe=wireframe, width=width)"
   ]
  },
  {
   "cell_type": "code",
   "execution_count": null,
   "metadata": {},
   "outputs": [],
   "source": [
    "display(result, 'A', 200)"
   ]
  },
  {
   "cell_type": "code",
   "execution_count": null,
   "metadata": {},
   "outputs": [],
   "source": [
    "model.mesh"
   ]
  },
  {
   "cell_type": "code",
   "execution_count": null,
   "metadata": {},
   "outputs": [],
   "source": []
  }
 ],
 "metadata": {
  "kernelspec": {
   "display_name": "Python 3",
   "language": "python",
   "name": "python3"
  },
  "language_info": {
   "codemirror_mode": {
    "name": "ipython",
    "version": 3
   },
   "file_extension": ".py",
   "mimetype": "text/x-python",
   "name": "python",
   "nbconvert_exporter": "python",
   "pygments_lexer": "ipython3",
   "version": "3.8.2-final"
  }
 },
 "nbformat": 4,
 "nbformat_minor": 1
}
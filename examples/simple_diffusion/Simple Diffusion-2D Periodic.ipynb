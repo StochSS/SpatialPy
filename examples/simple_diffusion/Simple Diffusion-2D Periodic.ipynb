{
 "cells": [
  {
   "cell_type": "code",
   "execution_count": 1,
   "metadata": {},
   "outputs": [],
   "source": [
    "import sys\n",
    "sys.path.append('../..')\n",
    "%load_ext autoreload\n",
    "%autoreload 2"
   ]
  },
  {
   "cell_type": "code",
   "execution_count": 2,
   "metadata": {},
   "outputs": [],
   "source": [
    "import spatialpy\n",
    "import numpy"
   ]
  },
  {
   "cell_type": "code",
   "execution_count": 3,
   "metadata": {},
   "outputs": [],
   "source": [
    "class Simple_Diffusion(spatialpy.Model):\n",
    "    \"\"\" Initial condition is a delta function at and off-center point. \n",
    "        The solution should be a Gaussian, and periodic boundary conditions\n",
    "        should allow it to wrap. \"\"\"\n",
    "\n",
    "    def __init__(self):\n",
    "\n",
    "        spatialpy.Model.__init__(self,name=\"simple_diffusion\")\n",
    "\n",
    "        D = 0.01\n",
    "        A = spatialpy.Species(name=\"A\",diffusion_constant=D)\n",
    "\n",
    "        self.add_species([A])\n",
    "\n",
    "        # A unit squarea\n",
    "        self.mesh = spatialpy.Mesh.generate_unit_square_mesh(40,40, periodic=True)\n",
    "\n",
    "        # Place the A molecules in the voxel nearest the center of the square\n",
    "        self.add_initial_condition(\n",
    "            spatialpy.PlaceInitialCondition(A,100000,[0,0,0])\n",
    "        )\n",
    "\n",
    "        self.timespan(numpy.linspace(0,5,1000))"
   ]
  },
  {
   "cell_type": "code",
   "execution_count": 4,
   "metadata": {},
   "outputs": [],
   "source": [
    "model = Simple_Diffusion()"
   ]
  },
  {
   "cell_type": "code",
   "execution_count": 19,
   "metadata": {},
   "outputs": [
    {
     "name": "stdout",
     "output_type": "stream",
     "text": [
      "CPU times: user 9.58 s, sys: 47.3 ms, total: 9.63 s\n",
      "Wall time: 18.3 s\n"
     ]
    }
   ],
   "source": [
    "%time result = model.run()"
   ]
  },
  {
   "cell_type": "code",
   "execution_count": 6,
   "metadata": {},
   "outputs": [],
   "source": [
    "#result.display('A',-1)"
   ]
  },
  {
   "cell_type": "code",
   "execution_count": 7,
   "metadata": {},
   "outputs": [],
   "source": [
    "def display(result, species, timepoint, opacity=1.0, wireframe=True, width=500):\n",
    "    data = result.get_species(species,timepoint,concentration=True)\n",
    "    fun = pyurdme.DolfinFunctionWrapper(result.model.mesh.get_function_space())\n",
    "    vec = fun.vector()\n",
    "    nd = data.shape[0]\n",
    "    if nd == len(vec):\n",
    "        for i in range(nd):\n",
    "            vec[i]=data[i]\n",
    "    else:\n",
    "        v2d= result.get_v2d()\n",
    "        for i in range(len(vec)):\n",
    "            vec[i]=data[i]\n",
    "    fun.display(opacity=opacity, wireframe=wireframe, width=width)"
   ]
  },
  {
   "cell_type": "code",
   "execution_count": 8,
   "metadata": {},
   "outputs": [
    {
     "ename": "NameError",
     "evalue": "name 'result' is not defined",
     "output_type": "error",
     "traceback": [
      "\u001b[0;31m---------------------------------------------------------------------------\u001b[0m",
      "\u001b[0;31mNameError\u001b[0m                                 Traceback (most recent call last)",
      "\u001b[0;32m<ipython-input-8-7a1085f22bb3>\u001b[0m in \u001b[0;36m<module>\u001b[0;34m\u001b[0m\n\u001b[0;32m----> 1\u001b[0;31m \u001b[0mdisplay\u001b[0m\u001b[0;34m(\u001b[0m\u001b[0mresult\u001b[0m\u001b[0;34m,\u001b[0m \u001b[0;34m'A'\u001b[0m\u001b[0;34m,\u001b[0m \u001b[0;36m200\u001b[0m\u001b[0;34m)\u001b[0m\u001b[0;34m\u001b[0m\u001b[0;34m\u001b[0m\u001b[0m\n\u001b[0m",
      "\u001b[0;31mNameError\u001b[0m: name 'result' is not defined"
     ]
    }
   ],
   "source": [
    "display(result, 'A', 200)"
   ]
  },
  {
   "cell_type": "code",
   "execution_count": null,
   "metadata": {},
   "outputs": [],
   "source": [
    "model.mesh"
   ]
  },
  {
   "cell_type": "code",
   "execution_count": null,
   "metadata": {},
   "outputs": [],
   "source": []
  }
 ],
 "metadata": {
  "kernelspec": {
   "display_name": "Python 3",
   "language": "python",
   "name": "python3"
  },
  "language_info": {
   "codemirror_mode": {
    "name": "ipython",
    "version": 3
   },
   "file_extension": ".py",
   "mimetype": "text/x-python",
   "name": "python",
   "nbconvert_exporter": "python",
   "pygments_lexer": "ipython3",
   "version": "3.6.9"
  }
 },
 "nbformat": 4,
 "nbformat_minor": 1
}

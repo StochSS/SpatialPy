{
 "cells": [
  {
   "cell_type": "markdown",
   "id": "recorded-relief",
   "metadata": {},
   "source": [
    "# Natural Convection with SpatialPy"
   ]
  },
  {
   "cell_type": "markdown",
   "id": "celtic-convergence",
   "metadata": {},
   "source": [
    "## Definition of the model"
   ]
  },
  {
   "cell_type": "markdown",
   "id": "protected-design",
   "metadata": {},
   "source": [
    "### Imports and definitions"
   ]
  },
  {
   "cell_type": "code",
   "execution_count": 1,
   "id": "afraid-million",
   "metadata": {},
   "outputs": [],
   "source": [
    "import os\n",
    "import sys\n",
    "sys.path.insert(1, \"../..\")\n",
    "import numpy as np\n",
    "import matplotlib.pyplot as plt\n",
    "\n",
    "import spatialpy"
   ]
  },
  {
   "cell_type": "code",
   "execution_count": 2,
   "id": "distributed-force",
   "metadata": {},
   "outputs": [],
   "source": [
    "class Cylinder(spatialpy.Geometry):\n",
    "    def inside(self, x, on_boundary):\n",
    "        return x[0]**2 + x[1]**2 < 0.1**2"
   ]
  },
  {
   "cell_type": "code",
   "execution_count": 3,
   "id": "infinite-magazine",
   "metadata": {},
   "outputs": [],
   "source": [
    "class Wall(spatialpy.Geometry):\n",
    "    def inside(self, x, on_boundary):\n",
    "        if x[0] < -0.5 or x[0] > 0.5: return True\n",
    "        if x[1] < -0.5 or x[1] > 0.5: return True\n",
    "        return False"
   ]
  },
  {
   "cell_type": "markdown",
   "id": "continental-kansas",
   "metadata": {},
   "source": [
    "### Model"
   ]
  },
  {
   "cell_type": "code",
   "execution_count": 4,
   "id": "armed-chicken",
   "metadata": {},
   "outputs": [],
   "source": [
    "class NaturalConvection(spatialpy.Model):\n",
    "    def __init__(self, model_name=\"Natural Convection\", Ra=1e4):\n",
    "        spatialpy.Model.__init__(self, model_name)\n",
    "        \n",
    "        # System constants\n",
    "        L = 1                # characteristic lenght of the cavity (= width = height)\n",
    "        nxF, nyF = 200, 200  # number of fluid particles in x and y-direction\n",
    "        Sc = 0.7             # Schmidt number\n",
    "        nW = 3              # number of wall points\n",
    "        nu = 0.01           # fluid viscosity\n",
    "        rho0 = 1             # reference fluid density\n",
    "        c0 = 1              # reference speed of sound (typically, 10* max velocity)\n",
    "        g = 10\n",
    "        beta = 1e-6\n",
    "        P0  = rho0*(g*beta*L)**2    # reference pressure\n",
    "        \n",
    "        # Variables\n",
    "        A = spatialpy.Species(name=\"A\", diffusion_coefficient=(1 / np.sqrt(Sc * Ra)))\n",
    "        self.add_species(A)\n",
    "        \n",
    "        # Discretization\n",
    "        nxTot = nxF + 2*nW # total number of particles in x-direction (including walls)\n",
    "        nyTot = nyF + 2*nW # total number of particles in y-direction (including walls)\n",
    "        \n",
    "        # Compute domain bounds (including the boundary)\n",
    "        dx, dy = L/nxF, L/nyF\n",
    "        xLim = (-0.5-(nW-1)*dx, 0.5+(nW-1)*dx)\n",
    "        yLim = (-0.5-(nW-1)*dy, 0.5+(nW-1)*dy)\n",
    "        \n",
    "        # Compute volume and mass per particle\n",
    "        vol = (xLim[1]-xLim[0])*(yLim[1]-yLim[0])*1.0 # in 2D simulations, consider z-lenght = 1\n",
    "        mPP = rho0*vol/(nxTot*nyTot)                   # density * total volume / total number of particles\n",
    "        \n",
    "        # Domain\n",
    "        self.domain = spatialpy.Domain.create_2D_domain(\n",
    "            xlim=xLim, ylim=yLim, nx=nxTot, ny=nyTot,\n",
    "            type_id=1, mass=mPP, nu=nu, rho0=rho0, c0=c0, P0=P0, fixed=False\n",
    "        )\n",
    "        \n",
    "        # Types\n",
    "        self.set_type(Wall(), 2, fixed=True)\n",
    "        self.set_type(Cylinder(), 3, fixed=True)\n",
    "        \n",
    "        # Boundary Conditions\n",
    "        self.add_boundary_condition(spatialpy.BoundaryCondition(\n",
    "            type_id=3,\n",
    "            species=\"A\",\n",
    "            value=1\n",
    "        ))\n",
    "        self.add_boundary_condition(spatialpy.BoundaryCondition(\n",
    "            type_id=3,\n",
    "            species=\"A\",\n",
    "            value=0\n",
    "        ))\n",
    "        \n",
    "        self.timespan(np.arange(0, 10+1e-4, 0.01), timestep_size=1e-4)"
   ]
  },
  {
   "cell_type": "code",
   "execution_count": 5,
   "id": "ultimate-contrary",
   "metadata": {},
   "outputs": [],
   "source": [
    "model = NaturalConvection()"
   ]
  },
  {
   "cell_type": "code",
   "execution_count": 6,
   "id": "balanced-wrapping",
   "metadata": {},
   "outputs": [
    {
     "name": "stdout",
     "output_type": "stream",
     "text": [
      "CPU times: user 450 ms, sys: 29 ms, total: 479 ms\n",
      "Wall time: 19min 4s\n"
     ]
    }
   ],
   "source": [
    "solver = spatialpy.Solver(model=model)\n",
    "%time solver.compile(debug=True)"
   ]
  },
  {
   "cell_type": "code",
   "execution_count": null,
   "id": "electronic-brook",
   "metadata": {},
   "outputs": [],
   "source": [
    "%time results = solver.run(debug=True)"
   ]
  },
  {
   "cell_type": "code",
   "execution_count": null,
   "id": "tracked-token",
   "metadata": {},
   "outputs": [],
   "source": [
    "results.plot_property(\"v\", t_ndx=4, use_matplotlib=True)"
   ]
  },
  {
   "cell_type": "code",
   "execution_count": null,
   "id": "electoral-prophet",
   "metadata": {},
   "outputs": [],
   "source": [
    "t_val = results.get_timespan()[-1]\n",
    "results.plot_property(\"v\", t_val=t_val, use_matplotlib=True)"
   ]
  },
  {
   "cell_type": "code",
   "execution_count": null,
   "id": "prospective-ceremony",
   "metadata": {},
   "outputs": [],
   "source": [
    "results.plot_property(\"type\", use_matplotlib=True)"
   ]
  },
  {
   "cell_type": "code",
   "execution_count": null,
   "id": "bound-service",
   "metadata": {},
   "outputs": [],
   "source": []
  }
 ],
 "metadata": {
  "kernelspec": {
   "display_name": "Python 3",
   "language": "python",
   "name": "python3"
  },
  "language_info": {
   "codemirror_mode": {
    "name": "ipython",
    "version": 3
   },
   "file_extension": ".py",
   "mimetype": "text/x-python",
   "name": "python",
   "nbconvert_exporter": "python",
   "pygments_lexer": "ipython3",
   "version": "3.9.2"
  }
 },
 "nbformat": 4,
 "nbformat_minor": 5
}

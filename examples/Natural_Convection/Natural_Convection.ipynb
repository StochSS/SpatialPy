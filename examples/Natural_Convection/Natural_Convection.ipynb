{
 "cells": [
  {
   "cell_type": "markdown",
   "id": "recorded-relief",
   "metadata": {},
   "source": [
    "# Natural Convection with SpatialPy"
   ]
  },
  {
   "cell_type": "markdown",
   "id": "celtic-convergence",
   "metadata": {},
   "source": [
    "## Definition of the model"
   ]
  },
  {
   "cell_type": "markdown",
   "id": "protected-design",
   "metadata": {},
   "source": [
    "### Imports and definitions"
   ]
  },
  {
   "cell_type": "code",
   "execution_count": 1,
   "id": "afraid-million",
   "metadata": {},
   "outputs": [],
   "source": [
    "import os\n",
    "import sys\n",
    "sys.path.insert(1, \"../..\")\n",
    "import numpy as np\n",
    "import matplotlib.pyplot as plt\n",
    "\n",
    "import spatialpy"
   ]
  },
  {
   "cell_type": "code",
   "execution_count": 2,
   "id": "distributed-force",
   "metadata": {},
   "outputs": [],
   "source": [
    "class Cylinder(spatialpy.Geometry):\n",
    "    def inside(self, x, on_boundary):\n",
    "        return x[0]**2 + x[1]**2 < 0.1**2"
   ]
  },
  {
   "cell_type": "code",
   "execution_count": 3,
   "id": "infinite-magazine",
   "metadata": {},
   "outputs": [],
   "source": [
    "class Wall(spatialpy.Geometry):\n",
    "    def inside(self, x, on_boundary):\n",
    "        if x[0] < -0.5 or x[0] > 0.5: return True\n",
    "        if x[1] < -0.5 or x[1] > 0.5: return True\n",
    "        return False"
   ]
  },
  {
   "cell_type": "markdown",
   "id": "continental-kansas",
   "metadata": {},
   "source": [
    "### Model"
   ]
  },
  {
   "cell_type": "code",
   "execution_count": 4,
   "id": "armed-chicken",
   "metadata": {},
   "outputs": [],
   "source": [
    "class NaturalConvection(spatialpy.Model):\n",
    "    def __init__(self, model_name=\"Natural Convection\"):\n",
    "        spatialpy.Model.__init__(self, model_name)\n",
    "        \n",
    "        # System constants\n",
    "        L = 1                # characteristic lenght of the cavity (= width = height)\n",
    "        nxF, nyF = 200, 200  # number of fluid particles in x and y-direction\n",
    "        Sc = 0.7             # Schmidt number\n",
    "        Ra = 1e4             # mass transfer Rayleigh (1e4, 1e5, 1e6)\n",
    "        nW = 3              # number of wall points\n",
    "        nu = 0.01           # fluid viscosity\n",
    "        rho0 = 1             # reference fluid density\n",
    "        c0 = 1              # reference speed of sound (typically, 10* max velocity)\n",
    "        g = 10\n",
    "        beta = 1e-6\n",
    "        P0  = rho0*(g*beta*L)**2    # reference pressure\n",
    "        \n",
    "        # Variables\n",
    "        C = spatialpy.Species(name=\"C\", diffusion_coefficient=(1 / np.sqrt(Sc * Ra)))\n",
    "        self.add_species(C)\n",
    "        \n",
    "        # Discretization\n",
    "        nxTot = nxF + 2*nW # total number of particles in x-direction (including walls)\n",
    "        nyTot = nyF + 2*nW # total number of particles in y-direction (including walls)\n",
    "        \n",
    "        # Compute domain bounds (including the boundary)\n",
    "        dx, dy = L/nxF, L/nyF\n",
    "        xLim = (-0.5-(nW-1)*dx, 0.5+(nW-1)*dx)\n",
    "        yLim = (-0.5-(nW-1)*dy, 0.5+(nW-1)*dy)\n",
    "        \n",
    "        # Compute volume and mass per particle\n",
    "        vol = (xLim[1]-xLim[0])*(yLim[1]-yLim[0])*1.0 # in 2D simulations, consider z-lenght = 1\n",
    "        mPP = rho0*vol/(nxTot*nyTot)                   # density * total volume / total number of particles\n",
    "        \n",
    "        # Domain\n",
    "        self.domain = spatialpy.Domain.create_2D_domain(\n",
    "            xlim=xLim, ylim=yLim, nx=nxTot, ny=nyTot,\n",
    "            type_id=1, mass=mPP, nu=nu, rho0=rho0, c0=c0, P0=P0, fixed=False\n",
    "        )\n",
    "        \n",
    "        # Types\n",
    "        self.set_type(Wall(), 2, fixed=True)\n",
    "        self.set_type(Cylinder(), 3, fixed=True)\n",
    "        \n",
    "        # Boundary Conditions\n",
    "        self.add_boundary_condition(spatialpy.BoundaryCondition(\n",
    "            type_id=3,\n",
    "            species=\"C\",\n",
    "            value=1\n",
    "        ))\n",
    "        self.add_boundary_condition(spatialpy.BoundaryCondition(\n",
    "            type_id=3,\n",
    "            species=\"C\",\n",
    "            value=0\n",
    "        ))\n",
    "        \n",
    "        self.timespan(np.arange(0, 1+1e-4, 0.01), timestep_size=1e-4)"
   ]
  },
  {
   "cell_type": "code",
   "execution_count": 5,
   "id": "ultimate-contrary",
   "metadata": {},
   "outputs": [],
   "source": [
    "model = NaturalConvection()"
   ]
  },
  {
   "cell_type": "code",
   "execution_count": 6,
   "id": "electronic-brook",
   "metadata": {},
   "outputs": [
    {
     "name": "stdout",
     "output_type": "stream",
     "text": [
      "Compiling Solver.  Build dir: /var/folders/nf/3stvfv_d2m16_v3p14l17rmm0000gn/T/spatialpy_build_sp_uy2ki\n",
      "make -f /Users/owner/Documents/Undergrade_Research/Dr_Drawert/SpatialPy/spatialpy/ssa_sdpd-c-simulation-engine/external/ANN/src/Makefile.spatialpy ROOTINC=/Users/owner/Documents/Undergrade_Research/Dr_Drawert/SpatialPy/spatialpy/ssa_sdpd-c-simulation-engine\n",
      "make[1]: Nothing to be done for `default'.\n",
      "g++ -c   -o main.o /var/folders/nf/3stvfv_d2m16_v3p14l17rmm0000gn/T/spatialpy_build_sp_uy2ki/NaturalConvection_generated_model.c -I/Users/owner/Documents/Undergrade_Research/Dr_Drawert/SpatialPy/spatialpy/ssa_sdpd-c-simulation-engine/include/ -I/Users/owner/Documents/Undergrade_Research/Dr_Drawert/SpatialPy/spatialpy/ssa_sdpd-c-simulation-engine/external/ -I/Users/owner/Documents/Undergrade_Research/Dr_Drawert/SpatialPy/spatialpy/ssa_sdpd-c-simulation-engine/external/ANN/include/ -c -std=c++14 -Wall -O3\n",
      "clang: warning: treating 'c' input as 'c++' when in C++ mode, this behavior is deprecated [-Wdeprecated]\n",
      "/var/folders/nf/3stvfv_d2m16_v3p14l17rmm0000gn/T/spatialpy_build_sp_uy2ki/NaturalConvection_generated_model.c:102:33: error: subscripted value is not an array, pointer, or vector\n",
      "                this_particle->C[i] = (double) input_u0[id*num_chem_species+i];\n",
      "                ~~~~~~~~~~~~~~~~^~\n",
      "/var/folders/nf/3stvfv_d2m16_v3p14l17rmm0000gn/T/spatialpy_build_sp_uy2ki/NaturalConvection_generated_model.c:42551:18: warning: equality comparison with extraneous parentheses [-Wparentheses-equality]\n",
      "    if((me->type == 3)){me->C[0] = 1;}if((me->type == 3)){me->C[0] = 0;}\n",
      "        ~~~~~~~~~^~~~\n",
      "/var/folders/nf/3stvfv_d2m16_v3p14l17rmm0000gn/T/spatialpy_build_sp_uy2ki/NaturalConvection_generated_model.c:42551:18: note: remove extraneous parentheses around the comparison to silence this warning\n",
      "    if((me->type == 3)){me->C[0] = 1;}if((me->type == 3)){me->C[0] = 0;}\n",
      "       ~         ^   ~\n",
      "/var/folders/nf/3stvfv_d2m16_v3p14l17rmm0000gn/T/spatialpy_build_sp_uy2ki/NaturalConvection_generated_model.c:42551:18: note: use '=' to turn this equality comparison into an assignment\n",
      "    if((me->type == 3)){me->C[0] = 1;}if((me->type == 3)){me->C[0] = 0;}\n",
      "                 ^~\n",
      "                 =\n",
      "/var/folders/nf/3stvfv_d2m16_v3p14l17rmm0000gn/T/spatialpy_build_sp_uy2ki/NaturalConvection_generated_model.c:42551:30: error: subscripted value is not an array, pointer, or vector\n",
      "    if((me->type == 3)){me->C[0] = 1;}if((me->type == 3)){me->C[0] = 0;}\n",
      "                        ~~~~~^~\n",
      "/var/folders/nf/3stvfv_d2m16_v3p14l17rmm0000gn/T/spatialpy_build_sp_uy2ki/NaturalConvection_generated_model.c:42551:52: warning: equality comparison with extraneous parentheses [-Wparentheses-equality]\n",
      "    if((me->type == 3)){me->C[0] = 1;}if((me->type == 3)){me->C[0] = 0;}\n",
      "                                          ~~~~~~~~~^~~~\n",
      "/var/folders/nf/3stvfv_d2m16_v3p14l17rmm0000gn/T/spatialpy_build_sp_uy2ki/NaturalConvection_generated_model.c:42551:52: note: remove extraneous parentheses around the comparison to silence this warning\n",
      "    if((me->type == 3)){me->C[0] = 1;}if((me->type == 3)){me->C[0] = 0;}\n",
      "                                         ~         ^   ~\n",
      "/var/folders/nf/3stvfv_d2m16_v3p14l17rmm0000gn/T/spatialpy_build_sp_uy2ki/NaturalConvection_generated_model.c:42551:52: note: use '=' to turn this equality comparison into an assignment\n",
      "    if((me->type == 3)){me->C[0] = 1;}if((me->type == 3)){me->C[0] = 0;}\n",
      "                                                   ^~\n",
      "                                                   =\n",
      "/var/folders/nf/3stvfv_d2m16_v3p14l17rmm0000gn/T/spatialpy_build_sp_uy2ki/NaturalConvection_generated_model.c:42551:64: error: subscripted value is not an array, pointer, or vector\n",
      "    if((me->type == 3)){me->C[0] = 1;}if((me->type == 3)){me->C[0] = 0;}\n",
      "                                                          ~~~~~^~\n",
      "2 warnings and 3 errors generated.\n",
      "make: *** [main.o] Error 1\n",
      "\n"
     ]
    },
    {
     "ename": "SimulationError",
     "evalue": "Compilation of solver failed, return_code=2",
     "output_type": "error",
     "traceback": [
      "\u001b[0;31m---------------------------------------------------------------------------\u001b[0m",
      "\u001b[0;31mSimulationError\u001b[0m                           Traceback (most recent call last)",
      "\u001b[0;32m<ipython-input-6-64f5030b6436>\u001b[0m in \u001b[0;36m<module>\u001b[0;34m\u001b[0m\n\u001b[0;32m----> 1\u001b[0;31m \u001b[0mmodel\u001b[0m\u001b[0;34m.\u001b[0m\u001b[0mrun\u001b[0m\u001b[0;34m(\u001b[0m\u001b[0mdebug_level\u001b[0m\u001b[0;34m=\u001b[0m\u001b[0;36m1\u001b[0m\u001b[0;34m)\u001b[0m\u001b[0;34m\u001b[0m\u001b[0;34m\u001b[0m\u001b[0m\n\u001b[0m",
      "\u001b[0;32m~/Documents/Undergrade_Research/Dr_Drawert/SpatialPy/spatialpy/Model.py\u001b[0m in \u001b[0;36mrun\u001b[0;34m(self, number_of_trajectories, seed, timeout, number_of_threads, debug_level, debug, profile)\u001b[0m\n\u001b[1;32m    140\u001b[0m         \u001b[0msol\u001b[0m \u001b[0;34m=\u001b[0m \u001b[0mSolver\u001b[0m\u001b[0;34m(\u001b[0m\u001b[0mself\u001b[0m\u001b[0;34m,\u001b[0m \u001b[0mdebug_level\u001b[0m\u001b[0;34m=\u001b[0m\u001b[0mdebug_level\u001b[0m\u001b[0;34m)\u001b[0m\u001b[0;34m\u001b[0m\u001b[0;34m\u001b[0m\u001b[0m\n\u001b[1;32m    141\u001b[0m \u001b[0;34m\u001b[0m\u001b[0m\n\u001b[0;32m--> 142\u001b[0;31m         return sol.run(number_of_trajectories=number_of_trajectories, seed=seed, timeout=timeout,\n\u001b[0m\u001b[1;32m    143\u001b[0m                        number_of_threads=number_of_threads, debug=debug, profile=profile)\n\u001b[1;32m    144\u001b[0m \u001b[0;34m\u001b[0m\u001b[0m\n",
      "\u001b[0;32m~/Documents/Undergrade_Research/Dr_Drawert/SpatialPy/spatialpy/Solver.py\u001b[0m in \u001b[0;36mrun\u001b[0;34m(self, number_of_trajectories, seed, timeout, number_of_threads, debug, profile, verbose)\u001b[0m\n\u001b[1;32m    185\u001b[0m         \u001b[0;31m# Check if compiled, call compile() if not.\u001b[0m\u001b[0;34m\u001b[0m\u001b[0;34m\u001b[0m\u001b[0;34m\u001b[0m\u001b[0m\n\u001b[1;32m    186\u001b[0m         \u001b[0;32mif\u001b[0m \u001b[0;32mnot\u001b[0m \u001b[0mself\u001b[0m\u001b[0;34m.\u001b[0m\u001b[0mis_compiled\u001b[0m\u001b[0;34m:\u001b[0m\u001b[0;34m\u001b[0m\u001b[0;34m\u001b[0m\u001b[0m\n\u001b[0;32m--> 187\u001b[0;31m             \u001b[0mself\u001b[0m\u001b[0;34m.\u001b[0m\u001b[0mcompile\u001b[0m\u001b[0;34m(\u001b[0m\u001b[0mdebug\u001b[0m\u001b[0;34m=\u001b[0m\u001b[0mdebug\u001b[0m\u001b[0;34m,\u001b[0m \u001b[0mprofile\u001b[0m\u001b[0;34m=\u001b[0m\u001b[0mprofile\u001b[0m\u001b[0;34m)\u001b[0m\u001b[0;34m\u001b[0m\u001b[0;34m\u001b[0m\u001b[0m\n\u001b[0m\u001b[1;32m    188\u001b[0m \u001b[0;34m\u001b[0m\u001b[0m\n\u001b[1;32m    189\u001b[0m         \u001b[0;31m# Execute the solver\u001b[0m\u001b[0;34m\u001b[0m\u001b[0;34m\u001b[0m\u001b[0;34m\u001b[0m\u001b[0m\n",
      "\u001b[0;32m~/Documents/Undergrade_Research/Dr_Drawert/SpatialPy/spatialpy/Solver.py\u001b[0m in \u001b[0;36mcompile\u001b[0;34m(self, debug, profile)\u001b[0m\n\u001b[1;32m    149\u001b[0m                 \u001b[0;32mexcept\u001b[0m \u001b[0mException\u001b[0m \u001b[0;32mas\u001b[0m \u001b[0me\u001b[0m\u001b[0;34m:\u001b[0m\u001b[0;34m\u001b[0m\u001b[0;34m\u001b[0m\u001b[0m\n\u001b[1;32m    150\u001b[0m                     \u001b[0;32mpass\u001b[0m\u001b[0;34m\u001b[0m\u001b[0;34m\u001b[0m\u001b[0m\n\u001b[0;32m--> 151\u001b[0;31m                 raise SimulationError(\n\u001b[0m\u001b[1;32m    152\u001b[0m                     \"Compilation of solver failed, return_code={0}\".format(\n\u001b[1;32m    153\u001b[0m                         return_code))\n",
      "\u001b[0;31mSimulationError\u001b[0m: Compilation of solver failed, return_code=2"
     ]
    }
   ],
   "source": [
    "model.run(debug_level=1)"
   ]
  },
  {
   "cell_type": "code",
   "execution_count": null,
   "id": "tracked-token",
   "metadata": {},
   "outputs": [],
   "source": []
  }
 ],
 "metadata": {
  "kernelspec": {
   "display_name": "Python 3",
   "language": "python",
   "name": "python3"
  },
  "language_info": {
   "codemirror_mode": {
    "name": "ipython",
    "version": 3
   },
   "file_extension": ".py",
   "mimetype": "text/x-python",
   "name": "python",
   "nbconvert_exporter": "python",
   "pygments_lexer": "ipython3",
   "version": "3.9.2"
  }
 },
 "nbformat": 4,
 "nbformat_minor": 5
}

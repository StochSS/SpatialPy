{
 "cells": [
  {
   "cell_type": "markdown",
   "metadata": {},
   "source": [
    "# Natural Convection with SpatialPy"
   ]
  },
  {
   "cell_type": "markdown",
   "metadata": {},
   "source": [
    "## Definition of the model"
   ]
  },
  {
   "cell_type": "markdown",
   "metadata": {},
   "source": [
    "### Imports and definitions"
   ]
  },
  {
   "cell_type": "code",
   "execution_count": 1,
   "metadata": {},
   "outputs": [],
   "source": [
    "import os\n",
    "import sys\n",
    "import math\n",
    "sys.path.insert(1, \"../..\")\n",
    "import numpy as np\n",
    "import matplotlib.pyplot as plt\n",
    "\n",
    "import spatialpy"
   ]
  },
  {
   "cell_type": "code",
   "execution_count": 2,
   "metadata": {},
   "outputs": [],
   "source": [
    "class Cylinder(spatialpy.Geometry):\n",
    "    def __init__(self, radius):\n",
    "        self.radius = radius\n",
    "    \n",
    "    def inside(self, x, on_boundary):\n",
    "        return x[0]**2 + x[1]**2 < self.radius**2"
   ]
  },
  {
   "cell_type": "code",
   "execution_count": 3,
   "metadata": {},
   "outputs": [],
   "source": [
    "class Walls(spatialpy.Geometry):\n",
    "    def __init__(self, minint, maxint):\n",
    "        self.min = minint\n",
    "        self.max = maxint\n",
    "    \n",
    "    def inside(self, x, on_boundary):\n",
    "        # Bottom Wall\n",
    "        if x[1] <= self.min: return True\n",
    "        # Top Wall\n",
    "        if x[1] >= self.max: return True\n",
    "        # Left Wall\n",
    "        if x[0] <= self.min: return True\n",
    "        # Right Wall\n",
    "        if x[0] >= self.max: return True\n",
    "        return False"
   ]
  },
  {
   "cell_type": "code",
   "execution_count": 4,
   "metadata": {},
   "outputs": [],
   "source": [
    "class BouyancyForce(spatialpy.BoundaryCondition):\n",
    "    def __init__(self, type_id, acceleration, C_ref):\n",
    "        self.type_id = type_id\n",
    "        self.acceleration = acceleration\n",
    "        self.C_ref = C_ref\n",
    "        \n",
    "    def expression(self):\n",
    "        bc_str = f\"if(me->type == {self.type_id})\" + \"{\"\n",
    "        bc_str += f\"me->F[1] += me->mass * {self.acceleration} * (me->C[0] - {self.C_ref});\"\n",
    "        bc_str += \"}\"\n",
    "        return bc_str"
   ]
  },
  {
   "cell_type": "markdown",
   "metadata": {},
   "source": [
    "### Model"
   ]
  },
  {
   "cell_type": "code",
   "execution_count": 12,
   "metadata": {},
   "outputs": [],
   "source": [
    "class NaturalConvection(spatialpy.Model):\n",
    "    FLUID = 1\n",
    "    WALLS = 2\n",
    "    CYLINDER = 3\n",
    "\n",
    "    def __init__(self, model_name=\"Natural Convection\", Ra=1e4):\n",
    "        spatialpy.Model.__init__(self, model_name)\n",
    "        \n",
    "        # System Constants\n",
    "        Sc = 0.7 # Schmidt Number\n",
    "        kappastar = 1/math.sqrt(Sc*Ra)\n",
    "        Lint = 1\n",
    "        Nint=50 #Nint = 200\n",
    "        Nwall=1  #Nwall = 3\n",
    "        mustar = math.sqrt(Sc/Ra)\n",
    "        rho0 = 1\n",
    "        c0 = 5\n",
    "        radius_external = 0.1\n",
    "        gravity = [0, -1, 0]\n",
    "        C0 = 1.0\n",
    "        g = -1\n",
    "        Cref = 0.0\n",
    "        \n",
    "        # Species\n",
    "        A = spatialpy.Species(name=\"A\", diffusion_coefficient=kappastar)\n",
    "        print(f\"species A: diffusion_coefficient={kappastar}\")\n",
    "        self.add_species(A)\n",
    "        \n",
    "        # Discretization\n",
    "        Npx = Npy = Nint+2*Nwall\n",
    "        Np = Npx*Npy\n",
    "        \n",
    "        # Compute domain bounds (including the boundary)\n",
    "        delta = Lint/Nint\n",
    "        L = Lint+Nwall*2*delta\n",
    "        xmin = ymin = -L/2\n",
    "        xmax = ymax = L/2\n",
    "        minint = -Lint/2\n",
    "        maxint = Lint/2\n",
    "        \n",
    "        # Compute volume and mass per particle\n",
    "        vtot = L**2\n",
    "        mi = vtot/Np # mass per particle\n",
    "        \n",
    "        # Domain\n",
    "        e = 1e-6\n",
    "        h = hc = 2.5*delta\n",
    "        \n",
    "        ###################################################\n",
    "        # g = -1                                          #\n",
    "        # Cref = 0.0                                      #\n",
    "        #                                                 #\n",
    "        # P0 = rho0 * v0**2                               #\n",
    "        #    = rho0 * math.sqrt(g * beta * L *deltaC)**2  #\n",
    "        #    = rho0 * g * beta * L * deltaC               #\n",
    "        #    = rho0 * g * beta * L * (C - Cref)           #\n",
    "        #                                                 #\n",
    "        # From Paper                                      #\n",
    "        # ----------                                      #\n",
    "        # Fb = g * beta * deltaC * y                      #\n",
    "        #    = g * beta * (C - Cref) * y                  #\n",
    "        #                                                 #\n",
    "        # From lammps                                     #\n",
    "        # -----------                                     #\n",
    "        # Fb = mass * g * deltaC                          #\n",
    "        #    = mass * g * (C - Cref)                      #\n",
    "        ###################################################\n",
    "        \n",
    "        domain = spatialpy.Domain.create_2D_domain(\n",
    "            xlim=(xmin, xmax), ylim=(ymin, ymax), nx=Npx, ny=Npy, type_id=self.FLUID,\n",
    "            mass=mi, nu=mustar, rho0=rho0, c0=c0, gravity=gravity, fixed=False\n",
    "        )\n",
    "        domain.dimensions = 2\n",
    "        self.add_domain(domain)\n",
    "        \n",
    "        # Types\n",
    "        self.set_type(Walls(minint, maxint), self.WALLS, fixed=True)\n",
    "        self.set_type(Cylinder(radius_external), self.CYLINDER, fixed=True)\n",
    "        \n",
    "        # Static Domain\n",
    "        self.staticDomain = False #not in self.domain.fixed\n",
    "        \n",
    "        # Initial Conditions\n",
    "        uniform_ic = spatialpy.UniformInitialCondition(A, C0, [self.CYLINDER])\n",
    "        self.add_initial_condition(uniform_ic)\n",
    "        print(f\"C0={C0}\")\n",
    "        \n",
    "        # Boundary Conditions\n",
    "        walls_bc = spatialpy.BoundaryCondition(type_id=self.WALLS, species=\"A\", value=0, model=self)\n",
    "        self.add_boundary_condition(walls_bc)\n",
    "        \n",
    "        cylinder_bc = spatialpy.BoundaryCondition(type_id=self.CYLINDER, species=\"A\", value=C0, model=self)\n",
    "        self.add_boundary_condition(cylinder_bc)\n",
    "        \n",
    "        # Buoyancy Force\n",
    "        Fb = BouyancyForce(type_id=self.FLUID, acceleration=g, C_ref=Cref)\n",
    "        self.add_boundary_condition(Fb)\n",
    "\n",
    "        \n",
    "        # Timespan\n",
    "        dt = 1e-4\n",
    "        #nt = 10000000\n",
    "        nt = 10000\n",
    "        freq_results = nt/10\n",
    "        \n",
    "        #self.timespan(np.arange(0, nt*dt+dt, freq_results*dt), timestep_size=dt)\n",
    "        #print(f\"tspan: np.arange(0, {nt*dt+dt}, {freq_results*dt}), timestep_size: {dt}\")\n",
    "        #self.domain.plot_types()\n",
    "        self.set_timesteps(output_interval=dt*freq_results, num_steps=int(nt/freq_results), timestep_size=dt)\n",
    "        \n",
    "        # disable RDME simulation\n",
    "        self.enable_rdme = True#False\n",
    "        "
   ]
  },
  {
   "cell_type": "code",
   "execution_count": 13,
   "metadata": {
    "scrolled": false
   },
   "outputs": [
    {
     "name": "stdout",
     "output_type": "stream",
     "text": [
      "species A: diffusion_coefficient=0.011952286093343936\n",
      "C0=1.0\n"
     ]
    }
   ],
   "source": [
    "model = NaturalConvection()"
   ]
  },
  {
   "cell_type": "code",
   "execution_count": 14,
   "metadata": {},
   "outputs": [
    {
     "data": {
      "text/plain": [
       "array([0. , 0.1, 0.2, 0.3, 0.4, 0.5, 0.6, 0.7, 0.8, 0.9, 1. ])"
      ]
     },
     "execution_count": 14,
     "metadata": {},
     "output_type": "execute_result"
    }
   ],
   "source": [
    "model.tspan"
   ]
  },
  {
   "cell_type": "code",
   "execution_count": 15,
   "metadata": {},
   "outputs": [
    {
     "data": {
      "text/plain": [
       "0.0001"
      ]
     },
     "execution_count": 15,
     "metadata": {},
     "output_type": "execute_result"
    }
   ],
   "source": [
    "model.timestep_size"
   ]
  },
  {
   "cell_type": "code",
   "execution_count": 16,
   "metadata": {},
   "outputs": [],
   "source": [
    "#model.domain.plot_types()"
   ]
  },
  {
   "cell_type": "code",
   "execution_count": 17,
   "metadata": {},
   "outputs": [],
   "source": [
    "#model.domain.get_num_voxels()"
   ]
  },
  {
   "cell_type": "code",
   "execution_count": 25,
   "metadata": {
    "scrolled": false
   },
   "outputs": [
    {
     "name": "stdout",
     "output_type": "stream",
     "text": [
      "Compiling Solver.  Build dir: /tmp/spatialpy_build_m3wxxwxl\n",
      "Creating propensity file /tmp/spatialpy_build_m3wxxwxl/NaturalConvection_generated_model.c\n",
      "cmd: cd /tmp/spatialpy_core/brian && make CORE -f /home/brian/Desktop/research/SpatialPy/spatialpy/ssa_sdpd-c-simulation-engine/build/Makefile ROOT=\"/home/brian/Desktop/research/SpatialPy/spatialpy/ssa_sdpd-c-simulation-engine\" ROOTINC=\"/home/brian/Desktop/research/SpatialPy/spatialpy/ssa_sdpd-c-simulation-engine\" BUILD=/tmp/spatialpy_core/brian &&cd /tmp/spatialpy_build_m3wxxwxl && make -I /tmp/spatialpy_core/brian -f /home/brian/Desktop/research/SpatialPy/spatialpy/ssa_sdpd-c-simulation-engine/build/Makefile ROOT=\"/home/brian/Desktop/research/SpatialPy/spatialpy/ssa_sdpd-c-simulation-engine\" ROOTINC=\"/home/brian/Desktop/research/SpatialPy/spatialpy/ssa_sdpd-c-simulation-engine\" COREDIR=\"/tmp/spatialpy_core/brian\" MODEL=/tmp/spatialpy_build_m3wxxwxl/NaturalConvection_generated_model.c BUILD=/tmp/spatialpy_build_m3wxxwxl\n",
      "\n",
      "g++ -c   -o NRMConstant_v5.o \"/home/brian/Desktop/research/SpatialPy/spatialpy/ssa_sdpd-c-simulation-engine/src/NRMConstant_v5.cpp\" -I/home/brian/Desktop/research/SpatialPy/spatialpy/ssa_sdpd-c-simulation-engine/include/ -I/home/brian/Desktop/research/SpatialPy/spatialpy/ssa_sdpd-c-simulation-engine/external/ -I/home/brian/Desktop/research/SpatialPy/spatialpy/ssa_sdpd-c-simulation-engine/external/ANN/include/ -c -std=c++14 -Wall -O3\n",
      "make -f /home/brian/Desktop/research/SpatialPy/spatialpy/ssa_sdpd-c-simulation-engine/external/ANN/src/Makefile.spatialpy ROOTINC=/home/brian/Desktop/research/SpatialPy/spatialpy/ssa_sdpd-c-simulation-engine\n",
      "make[1]: Entering directory '/tmp/spatialpy_core/brian'\n",
      "make[1]: Nothing to be done for 'default'.\n",
      "make[1]: Leaving directory '/tmp/spatialpy_core/brian'\n",
      "g++ -c   -o main.o /tmp/spatialpy_build_m3wxxwxl/NaturalConvection_generated_model.c -I/home/brian/Desktop/research/SpatialPy/spatialpy/ssa_sdpd-c-simulation-engine/include/ -I/home/brian/Desktop/research/SpatialPy/spatialpy/ssa_sdpd-c-simulation-engine/external/ -I/home/brian/Desktop/research/SpatialPy/spatialpy/ssa_sdpd-c-simulation-engine/external/ANN/include/ -c -std=c++14 -Wall -O3\n",
      "g++   -o ssa_sdpd /tmp/spatialpy_core/brian/NRMConstant_v5.o /tmp/spatialpy_core/brian/particle.o /tmp/spatialpy_core/brian/simulate.o /tmp/spatialpy_core/brian/count_cores.o /tmp/spatialpy_core/brian/output.o /tmp/spatialpy_core/brian/simulate_rdme.o /tmp/spatialpy_core/brian/simulate_threads.o /tmp/spatialpy_core/brian/model.o /tmp/spatialpy_core/brian/pthread_barrier.o  main.o /tmp/spatialpy_core/brian/ANN.o /tmp/spatialpy_core/brian/brute.o /tmp/spatialpy_core/brian/kd_tree.o /tmp/spatialpy_core/brian/kd_util.o /tmp/spatialpy_core/brian/kd_split.o /tmp/spatialpy_core/brian/kd_dump.o /tmp/spatialpy_core/brian/kd_search.o /tmp/spatialpy_core/brian/kd_pr_search.o /tmp/spatialpy_core/brian/kd_fix_rad_search.o /tmp/spatialpy_core/brian/bd_tree.o /tmp/spatialpy_core/brian/bd_search.o /tmp/spatialpy_core/brian/bd_pr_search.o /tmp/spatialpy_core/brian/bd_fix_rad_search.o /tmp/spatialpy_core/brian/perf.o -pthread -lm\n",
      "\n",
      "CPU times: user 613 ms, sys: 0 ns, total: 613 ms\n",
      "Wall time: 4.63 s\n"
     ]
    },
    {
     "data": {
      "text/plain": [
       "'/tmp/spatialpy_build_m3wxxwxl'"
      ]
     },
     "execution_count": 25,
     "metadata": {},
     "output_type": "execute_result"
    }
   ],
   "source": [
    "solver = spatialpy.Solver(model=model, debug_level=2)\n",
    "%time solver.compile()\n",
    "solver.build_dir"
   ]
  },
  {
   "cell_type": "code",
   "execution_count": 12,
   "metadata": {},
   "outputs": [
    {
     "name": "stdout",
     "output_type": "stream",
     "text": [
      "Segmentation fault (core dumped)\n",
      "solver_cmd = cd /tmp/spatialpy_result_wj9sq8rm;/tmp/spatialpy_build_52wg4ewu/ssa_sdpd\n"
     ]
    },
    {
     "ename": "SimulationError",
     "evalue": "Solver execution failed, return code = 139",
     "output_type": "error",
     "traceback": [
      "\u001b[0;31m---------------------------------------------------------------------------\u001b[0m",
      "\u001b[0;31mSimulationError\u001b[0m                           Traceback (most recent call last)",
      "\u001b[0;32m<timed exec>\u001b[0m in \u001b[0;36m<module>\u001b[0;34m\u001b[0m\n",
      "\u001b[0;32m~/Desktop/research/SpatialPy/examples/Natural_Convection/../../spatialpy/Solver.py\u001b[0m in \u001b[0;36mrun\u001b[0;34m(self, number_of_trajectories, seed, timeout, number_of_threads, debug, profile, verbose)\u001b[0m\n\u001b[1;32m    265\u001b[0m             \u001b[0;32mif\u001b[0m \u001b[0mreturn_code\u001b[0m \u001b[0;32mis\u001b[0m \u001b[0;32mnot\u001b[0m \u001b[0;32mNone\u001b[0m \u001b[0;32mand\u001b[0m \u001b[0mreturn_code\u001b[0m \u001b[0;34m!=\u001b[0m \u001b[0;36m0\u001b[0m\u001b[0;34m:\u001b[0m\u001b[0;34m\u001b[0m\u001b[0;34m\u001b[0m\u001b[0m\n\u001b[1;32m    266\u001b[0m                 \u001b[0mprint\u001b[0m\u001b[0;34m(\u001b[0m\u001b[0;34m\"solver_cmd = {0}\"\u001b[0m\u001b[0;34m.\u001b[0m\u001b[0mformat\u001b[0m\u001b[0;34m(\u001b[0m\u001b[0msolver_cmd\u001b[0m\u001b[0;34m)\u001b[0m\u001b[0;34m)\u001b[0m\u001b[0;34m\u001b[0m\u001b[0;34m\u001b[0m\u001b[0m\n\u001b[0;32m--> 267\u001b[0;31m                 raise SimulationError(\n\u001b[0m\u001b[1;32m    268\u001b[0m                     \"Solver execution failed, return code = {0}\".format(return_code))\n\u001b[1;32m    269\u001b[0m \u001b[0;34m\u001b[0m\u001b[0m\n",
      "\u001b[0;31mSimulationError\u001b[0m: Solver execution failed, return code = 139"
     ]
    }
   ],
   "source": [
    "%time results = solver.run()"
   ]
  },
  {
   "cell_type": "code",
   "execution_count": 13,
   "metadata": {},
   "outputs": [
    {
     "ename": "NameError",
     "evalue": "name 'results' is not defined",
     "output_type": "error",
     "traceback": [
      "\u001b[0;31m---------------------------------------------------------------------------\u001b[0m",
      "\u001b[0;31mNameError\u001b[0m                                 Traceback (most recent call last)",
      "\u001b[0;32m<ipython-input-13-d39bad2b49cc>\u001b[0m in \u001b[0;36m<module>\u001b[0;34m\u001b[0m\n\u001b[0;32m----> 1\u001b[0;31m \u001b[0mresults\u001b[0m\u001b[0;34m.\u001b[0m\u001b[0mplot_property\u001b[0m\u001b[0;34m(\u001b[0m\u001b[0;34m\"v\"\u001b[0m\u001b[0;34m,\u001b[0m \u001b[0mt_ndx\u001b[0m\u001b[0;34m=\u001b[0m\u001b[0;36m1\u001b[0m\u001b[0;34m,\u001b[0m \u001b[0muse_matplotlib\u001b[0m\u001b[0;34m=\u001b[0m\u001b[0;32mFalse\u001b[0m\u001b[0;34m)\u001b[0m\u001b[0;34m\u001b[0m\u001b[0;34m\u001b[0m\u001b[0m\n\u001b[0m",
      "\u001b[0;31mNameError\u001b[0m: name 'results' is not defined"
     ]
    }
   ],
   "source": [
    "results.plot_property(\"v\", t_ndx=1, use_matplotlib=False)"
   ]
  },
  {
   "cell_type": "code",
   "execution_count": null,
   "metadata": {},
   "outputs": [],
   "source": [
    "results.plot_property(\"v\", t_ndx=-1, use_matplotlib=True)"
   ]
  },
  {
   "cell_type": "code",
   "execution_count": null,
   "metadata": {},
   "outputs": [],
   "source": [
    "results.plot_property(\"type\", use_matplotlib=True)"
   ]
  },
  {
   "cell_type": "code",
   "execution_count": null,
   "metadata": {},
   "outputs": [],
   "source": [
    "results.plot_species('A',t_ndx=-1,deterministic=True,use_matplotlib=True)"
   ]
  },
  {
   "cell_type": "code",
   "execution_count": null,
   "metadata": {},
   "outputs": [],
   "source": []
  },
  {
   "cell_type": "code",
   "execution_count": null,
   "metadata": {},
   "outputs": [],
   "source": []
  }
 ],
 "metadata": {
  "kernelspec": {
   "display_name": "Python 3",
   "language": "python",
   "name": "python3"
  },
  "language_info": {
   "codemirror_mode": {
    "name": "ipython",
    "version": 3
   },
   "file_extension": ".py",
   "mimetype": "text/x-python",
   "name": "python",
   "nbconvert_exporter": "python",
   "pygments_lexer": "ipython3",
   "version": "3.8.10"
  }
 },
 "nbformat": 4,
 "nbformat_minor": 5
}

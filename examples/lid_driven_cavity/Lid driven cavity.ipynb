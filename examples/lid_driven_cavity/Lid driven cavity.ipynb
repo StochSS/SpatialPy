{
 "cells": [
  {
   "cell_type": "code",
   "execution_count": 1,
   "metadata": {},
   "outputs": [],
   "source": [
    "import sys\n",
    "sys.path.append('../..')\n",
    "%load_ext autoreload\n",
    "%autoreload 2"
   ]
  },
  {
   "cell_type": "code",
   "execution_count": 2,
   "metadata": {},
   "outputs": [],
   "source": [
    "import spatialpy\n",
    "import numpy\n",
    "import matplotlib.pyplot as plt\n"
   ]
  },
  {
   "cell_type": "code",
   "execution_count": 3,
   "metadata": {},
   "outputs": [],
   "source": [
    "class All(spatialpy.SubDomain):\n",
    "    def inside(self, x, on_boundary):\n",
    "        return True\n",
    "\n",
    "class Lid(spatialpy.SubDomain):\n",
    "    def inside(self, x, on_boundary):\n",
    "        if x[1] >=1.0:\n",
    "            return True\n",
    "        return False"
   ]
  },
  {
   "cell_type": "code",
   "execution_count": 9,
   "metadata": {},
   "outputs": [],
   "source": [
    "class Lid_Driven_Cavity(spatialpy.Model):\n",
    "    \"\"\" Lid driven cavity problem\n",
    "    Description: box with Dirichlet boundary conditions in all 4 walls\n",
    "    Top wall: moves with constant velocity Vo\n",
    "    All other walls: stationary (no-slip)\n",
    "    Wall lengths: height = 1, width = 1 (2D case)\n",
    "  \n",
    "              vx=Vo, vy=0\n",
    "              __ __ __ __\n",
    "             |           |\n",
    "             |           |\n",
    "    vx=vy=0  |           |  vx=vy=0\n",
    "             |           |\n",
    "             |__ __ __ __|\n",
    "             \n",
    "                vx=vy=0\n",
    "    \n",
    "    \"\"\"\n",
    "\n",
    "    def __init__(self, model_name=\"lid_driven_cavity\"):\n",
    "        spatialpy.Model.__init__(self,model_name)\n",
    "        \n",
    "        \n",
    "        \n",
    "        # System constants\n",
    "        Vo = 1.              # lid velocity\n",
    "        nxF,nyF = 50,50      # number of fluid particles in x and y-direction\n",
    "        nu  = 1.             # fluid viscosity\n",
    "        L   = 1.             # characteristic lenght of the cavity (= width = height)\n",
    "        nW  = 3              # number of wall points\n",
    "        rho = 1.             # fluid density\n",
    "\n",
    "        # Discretization\n",
    "        nxTot = nxF + 2*nW # total number of particles in x-direction (including walls)\n",
    "        nyTot = nyF + 2*nW # total number of particles in y-direction (including walls)\n",
    "        \n",
    "        # Compute domain bounds (including the boundary)\n",
    "        dx,dy = L/(nxF-1),L/(nyF-1)\n",
    "        xLim = ((-L/2-(nW-1)*dx),L/2+(nW-1)*dx)\n",
    "        yLim = ((-L/2-(nW-1)*dy),L/2+(nW-1)*dy)\n",
    "        \n",
    "        # Compute volume and mass per particle\n",
    "        vol = (xLim[1]-xLim[0])*(yLim[1]-yLim[0])*1.0 # in 2D simulations, consider z-lenght = 1\n",
    "        mPP = rho*vol/(nxTot*nyTot)                   # density * total volume / total number of particles\n",
    "        \n",
    "        # Create mesh object\n",
    "        print(\"xlim={0} ylim={1} nx={2} ny={3}\".format(xLim, yLim, nxTot,nyTot))\n",
    "        self.mesh = spatialpy.Mesh.create_2D_domain(\n",
    "            xLim ,yLim , nxTot, nyTot, \n",
    "            type_id=1, mass=mPP, nu = nu, fixed=False)\n",
    "        \n",
    "        #A = spatialpy.Species(name=\"A\",diffusion_constant=0.01)\n",
    "        #self.add_species([A])\n",
    "\n",
    "        # Define Subdomains\n",
    "        self.add_subdomain(All(), 1)             # total subdomain, type 1\n",
    "        self.add_subdomain(Lid(), 2, fixed=True) # lid subdomain, type 2\n",
    "\n",
    "        # Boundary conditions\n",
    "        # They should go here... define subdomain top with velocity Vo\n",
    "        \n",
    "        # Time span\n",
    "        self.timespan(numpy.linspace(0,5,1000))"
   ]
  },
  {
   "cell_type": "code",
   "execution_count": 10,
   "metadata": {},
   "outputs": [
    {
     "name": "stdout",
     "output_type": "stream",
     "text": [
      "xlim=(-0.5408163265306123, 0.5408163265306123) ylim=(-0.5408163265306123, 0.5408163265306123) nx=56 ny=56\n"
     ]
    }
   ],
   "source": [
    "# Creates the model object\n",
    "model = Lid_Driven_Cavity()"
   ]
  },
  {
   "cell_type": "code",
   "execution_count": 13,
   "metadata": {},
   "outputs": [
    {
     "name": "stdout",
     "output_type": "stream",
     "text": [
      "Compiling Solver.  Build dir: /tmp/spatialpy_build_q5m7c0jt\n",
      "Creating propensity file /tmp/spatialpy_build_q5m7c0jt/lid_driven_cavity_generated_model.c\n",
      "cmd: cd /tmp/spatialpy_build_q5m7c0jt ; make -f /home/brian/Desktop/research/SpatialPy/spatialpy/ssa_sdpd-c-simulation-engine/build/Makefile.nsm ROOT=/home/brian/Desktop/research/SpatialPy/spatialpy/ssa_sdpd-c-simulation-engine MODEL=/tmp/spatialpy_build_q5m7c0jt/lid_driven_cavity_generated_model.c BUILD=/tmp/spatialpy_build_q5m7c0jt\n",
      "\n",
      "Reading stdout/stderr from process:\n",
      "gcc -c -o linked_list.o /home/brian/Desktop/research/SpatialPy/spatialpy/ssa_sdpd-c-simulation-engine/src/linked_list.c -I/home/brian/Desktop/research/SpatialPy/spatialpy/ssa_sdpd-c-simulation-engine/include/ -O3 -Wall \n",
      "gcc -c -o particle.o /home/brian/Desktop/research/SpatialPy/spatialpy/ssa_sdpd-c-simulation-engine/src/particle.c -I/home/brian/Desktop/research/SpatialPy/spatialpy/ssa_sdpd-c-simulation-engine/include/ -O3 -Wall \n",
      "gcc -c -o simulate.o /home/brian/Desktop/research/SpatialPy/spatialpy/ssa_sdpd-c-simulation-engine/src/simulate.c -I/home/brian/Desktop/research/SpatialPy/spatialpy/ssa_sdpd-c-simulation-engine/include/ -O3 -Wall \n",
      "gcc -c -o count_cores.o /home/brian/Desktop/research/SpatialPy/spatialpy/ssa_sdpd-c-simulation-engine/src/count_cores.c -I/home/brian/Desktop/research/SpatialPy/spatialpy/ssa_sdpd-c-simulation-engine/include/ -O3 -Wall \n",
      "gcc -c -o output.o /home/brian/Desktop/research/SpatialPy/spatialpy/ssa_sdpd-c-simulation-engine/src/output.c -I/home/brian/Desktop/research/SpatialPy/spatialpy/ssa_sdpd-c-simulation-engine/include/ -O3 -Wall \n",
      "gcc -c -o simulate_rdme.o /home/brian/Desktop/research/SpatialPy/spatialpy/ssa_sdpd-c-simulation-engine/src/simulate_rdme.c -I/home/brian/Desktop/research/SpatialPy/spatialpy/ssa_sdpd-c-simulation-engine/include/ -O3 -Wall \n",
      "gcc -c -o binheap.o /home/brian/Desktop/research/SpatialPy/spatialpy/ssa_sdpd-c-simulation-engine/src/binheap.c -I/home/brian/Desktop/research/SpatialPy/spatialpy/ssa_sdpd-c-simulation-engine/include/ -O3 -Wall \n",
      "gcc -c -o simulate_threads.o /home/brian/Desktop/research/SpatialPy/spatialpy/ssa_sdpd-c-simulation-engine/src/simulate_threads.c -I/home/brian/Desktop/research/SpatialPy/spatialpy/ssa_sdpd-c-simulation-engine/include/ -O3 -Wall \n",
      "gcc -c -o model.o /home/brian/Desktop/research/SpatialPy/spatialpy/ssa_sdpd-c-simulation-engine/src/model.c -I/home/brian/Desktop/research/SpatialPy/spatialpy/ssa_sdpd-c-simulation-engine/include/ -O3 -Wall \n",
      "gcc -c -o pthread_barrier.o /home/brian/Desktop/research/SpatialPy/spatialpy/ssa_sdpd-c-simulation-engine/src/pthread_barrier.c -I/home/brian/Desktop/research/SpatialPy/spatialpy/ssa_sdpd-c-simulation-engine/include/ -O3 -Wall \n",
      "gcc -c -o main.o /tmp/spatialpy_build_q5m7c0jt/lid_driven_cavity_generated_model.c -I/home/brian/Desktop/research/SpatialPy/spatialpy/ssa_sdpd-c-simulation-engine/include/ -O3 -Wall \n",
      "\n",
      "/home/brian/Desktop/research/SpatialPy/spatialpy/ssa_sdpd-c-simulation-engine/src/simulate_rdme.c: In function ‘nsm_core__build_diffusion_matrix’:\n",
      "/home/brian/Desktop/research/SpatialPy/spatialpy/ssa_sdpd-c-simulation-engine/src/simulate_rdme.c:360:41: warning: format ‘%i’ expects argument of type ‘int’, but argument 2 has type ‘size_t’ {aka ‘long unsigned int’} [-Wformat=]\n",
      "  360 |     if(debug_flag){printf(\"irD_length= %i\\n\",irD_length);fflush(stdout);}\n",
      "      |                                        ~^    ~~~~~~~~~~\n",
      "      |                                         |    |\n",
      "      |                                         int  size_t {aka long unsigned int}\n",
      "      |                                        %li\n",
      "/home/brian/Desktop/research/SpatialPy/spatialpy/ssa_sdpd-c-simulation-engine/src/simulate_rdme.c:361:41: warning: format ‘%i’ expects argument of type ‘int’, but argument 2 has type ‘size_t’ {aka ‘long unsigned int’} [-Wformat=]\n",
      "  361 |     if(debug_flag){printf(\"jcD_length= %i\\n\",jcD_length);fflush(stdout);}\n",
      "      |                                        ~^    ~~~~~~~~~~\n",
      "      |                                         |    |\n",
      "      |                                         int  size_t {aka long unsigned int}\n",
      "      |                                        %li\n",
      "/tmp/spatialpy_build_q5m7c0jt/lid_driven_cavity_generated_model.c:66:44: error: expected expression before ‘,’ token\n",
      "   66 | const char* const input_species_names[] = {, 0};\n",
      "      |                                            ^\n",
      "/tmp/spatialpy_build_q5m7c0jt/lid_driven_cavity_generated_model.c:60:12: warning: ‘input_N_dense’ defined but not used [-Wunused-variable]\n",
      "   60 | static int input_N_dense[0] = {};\n",
      "      |            ^~~~~~~~~~~~~\n",
      "make: *** [/home/brian/Desktop/research/SpatialPy/spatialpy/ssa_sdpd-c-simulation-engine/build/Makefile.nsm:13: main.o] Error 1\n",
      "\n"
     ]
    },
    {
     "ename": "SimulationError",
     "evalue": "Compilation of solver failed, return_code=2",
     "output_type": "error",
     "traceback": [
      "\u001b[0;31m---------------------------------------------------------------------------\u001b[0m",
      "\u001b[0;31mSimulationError\u001b[0m                           Traceback (most recent call last)",
      "\u001b[0;32m<timed eval>\u001b[0m in \u001b[0;36m<module>\u001b[0;34m\u001b[0m\n",
      "\u001b[0;32m~/Desktop/research/SpatialPy/spatialpy/Solver.py\u001b[0m in \u001b[0;36mcompile\u001b[0;34m(self)\u001b[0m\n\u001b[1;32m     89\u001b[0m             \u001b[0;32mexcept\u001b[0m \u001b[0mException\u001b[0m \u001b[0;32mas\u001b[0m \u001b[0me\u001b[0m\u001b[0;34m:\u001b[0m\u001b[0;34m\u001b[0m\u001b[0;34m\u001b[0m\u001b[0m\n\u001b[1;32m     90\u001b[0m                 \u001b[0;32mpass\u001b[0m\u001b[0;34m\u001b[0m\u001b[0;34m\u001b[0m\u001b[0m\n\u001b[0;32m---> 91\u001b[0;31m             raise SimulationError(\n\u001b[0m\u001b[1;32m     92\u001b[0m                 \"Compilation of solver failed, return_code={0}\".format(return_code))\n\u001b[1;32m     93\u001b[0m \u001b[0;34m\u001b[0m\u001b[0m\n",
      "\u001b[0;31mSimulationError\u001b[0m: Compilation of solver failed, return_code=2"
     ]
    }
   ],
   "source": [
    "from spatialpy.nsmsolver import NSMSolver\n",
    "sol = NSMSolver(model, debug_level=2)\n",
    "%time sol.compile()"
   ]
  },
  {
   "cell_type": "code",
   "execution_count": 12,
   "metadata": {},
   "outputs": [
    {
     "name": "stdout",
     "output_type": "stream",
     "text": [
      "Reading stdout/stderr from process:\n",
      "gcc -c -o linked_list.o /home/brian/Desktop/research/SpatialPy/spatialpy/ssa_sdpd-c-simulation-engine/src/linked_list.c -I/home/brian/Desktop/research/SpatialPy/spatialpy/ssa_sdpd-c-simulation-engine/include/ -O3 -Wall \n",
      "gcc -c -o particle.o /home/brian/Desktop/research/SpatialPy/spatialpy/ssa_sdpd-c-simulation-engine/src/particle.c -I/home/brian/Desktop/research/SpatialPy/spatialpy/ssa_sdpd-c-simulation-engine/include/ -O3 -Wall \n",
      "gcc -c -o simulate.o /home/brian/Desktop/research/SpatialPy/spatialpy/ssa_sdpd-c-simulation-engine/src/simulate.c -I/home/brian/Desktop/research/SpatialPy/spatialpy/ssa_sdpd-c-simulation-engine/include/ -O3 -Wall \n",
      "gcc -c -o count_cores.o /home/brian/Desktop/research/SpatialPy/spatialpy/ssa_sdpd-c-simulation-engine/src/count_cores.c -I/home/brian/Desktop/research/SpatialPy/spatialpy/ssa_sdpd-c-simulation-engine/include/ -O3 -Wall \n",
      "gcc -c -o output.o /home/brian/Desktop/research/SpatialPy/spatialpy/ssa_sdpd-c-simulation-engine/src/output.c -I/home/brian/Desktop/research/SpatialPy/spatialpy/ssa_sdpd-c-simulation-engine/include/ -O3 -Wall \n",
      "gcc -c -o simulate_rdme.o /home/brian/Desktop/research/SpatialPy/spatialpy/ssa_sdpd-c-simulation-engine/src/simulate_rdme.c -I/home/brian/Desktop/research/SpatialPy/spatialpy/ssa_sdpd-c-simulation-engine/include/ -O3 -Wall \n",
      "gcc -c -o binheap.o /home/brian/Desktop/research/SpatialPy/spatialpy/ssa_sdpd-c-simulation-engine/src/binheap.c -I/home/brian/Desktop/research/SpatialPy/spatialpy/ssa_sdpd-c-simulation-engine/include/ -O3 -Wall \n",
      "gcc -c -o simulate_threads.o /home/brian/Desktop/research/SpatialPy/spatialpy/ssa_sdpd-c-simulation-engine/src/simulate_threads.c -I/home/brian/Desktop/research/SpatialPy/spatialpy/ssa_sdpd-c-simulation-engine/include/ -O3 -Wall \n",
      "gcc -c -o model.o /home/brian/Desktop/research/SpatialPy/spatialpy/ssa_sdpd-c-simulation-engine/src/model.c -I/home/brian/Desktop/research/SpatialPy/spatialpy/ssa_sdpd-c-simulation-engine/include/ -O3 -Wall \n",
      "gcc -c -o pthread_barrier.o /home/brian/Desktop/research/SpatialPy/spatialpy/ssa_sdpd-c-simulation-engine/src/pthread_barrier.c -I/home/brian/Desktop/research/SpatialPy/spatialpy/ssa_sdpd-c-simulation-engine/include/ -O3 -Wall \n",
      "gcc -c -o main.o /tmp/spatialpy_build_d3wjd74b/lid_driven_cavity_generated_model.c -I/home/brian/Desktop/research/SpatialPy/spatialpy/ssa_sdpd-c-simulation-engine/include/ -O3 -Wall \n",
      "\n",
      "/home/brian/Desktop/research/SpatialPy/spatialpy/ssa_sdpd-c-simulation-engine/src/simulate_rdme.c: In function ‘nsm_core__build_diffusion_matrix’:\n",
      "/home/brian/Desktop/research/SpatialPy/spatialpy/ssa_sdpd-c-simulation-engine/src/simulate_rdme.c:360:41: warning: format ‘%i’ expects argument of type ‘int’, but argument 2 has type ‘size_t’ {aka ‘long unsigned int’} [-Wformat=]\n",
      "  360 |     if(debug_flag){printf(\"irD_length= %i\\n\",irD_length);fflush(stdout);}\n",
      "      |                                        ~^    ~~~~~~~~~~\n",
      "      |                                         |    |\n",
      "      |                                         int  size_t {aka long unsigned int}\n",
      "      |                                        %li\n",
      "/home/brian/Desktop/research/SpatialPy/spatialpy/ssa_sdpd-c-simulation-engine/src/simulate_rdme.c:361:41: warning: format ‘%i’ expects argument of type ‘int’, but argument 2 has type ‘size_t’ {aka ‘long unsigned int’} [-Wformat=]\n",
      "  361 |     if(debug_flag){printf(\"jcD_length= %i\\n\",jcD_length);fflush(stdout);}\n",
      "      |                                        ~^    ~~~~~~~~~~\n",
      "      |                                         |    |\n",
      "      |                                         int  size_t {aka long unsigned int}\n",
      "      |                                        %li\n",
      "/tmp/spatialpy_build_d3wjd74b/lid_driven_cavity_generated_model.c:66:44: error: expected expression before ‘,’ token\n",
      "   66 | const char* const input_species_names[] = {, 0};\n",
      "      |                                            ^\n",
      "/tmp/spatialpy_build_d3wjd74b/lid_driven_cavity_generated_model.c:60:12: warning: ‘input_N_dense’ defined but not used [-Wunused-variable]\n",
      "   60 | static int input_N_dense[0] = {};\n",
      "      |            ^~~~~~~~~~~~~\n",
      "make: *** [/home/brian/Desktop/research/SpatialPy/spatialpy/ssa_sdpd-c-simulation-engine/build/Makefile.nsm:13: main.o] Error 1\n",
      "\n"
     ]
    },
    {
     "ename": "SimulationError",
     "evalue": "Compilation of solver failed, return_code=2",
     "output_type": "error",
     "traceback": [
      "\u001b[0;31m---------------------------------------------------------------------------\u001b[0m",
      "\u001b[0;31mSimulationError\u001b[0m                           Traceback (most recent call last)",
      "\u001b[0;32m<timed exec>\u001b[0m in \u001b[0;36m<module>\u001b[0;34m\u001b[0m\n",
      "\u001b[0;32m~/Desktop/research/SpatialPy/spatialpy/Model.py\u001b[0m in \u001b[0;36mrun\u001b[0;34m(self, number_of_trajectories, solver, seed, debug_level)\u001b[0m\n\u001b[1;32m     66\u001b[0m             \u001b[0msol\u001b[0m \u001b[0;34m=\u001b[0m \u001b[0mNSMSolver\u001b[0m\u001b[0;34m(\u001b[0m\u001b[0mself\u001b[0m\u001b[0;34m,\u001b[0m \u001b[0mdebug_level\u001b[0m\u001b[0;34m=\u001b[0m\u001b[0mdebug_level\u001b[0m\u001b[0;34m)\u001b[0m\u001b[0;34m\u001b[0m\u001b[0;34m\u001b[0m\u001b[0m\n\u001b[1;32m     67\u001b[0m \u001b[0;34m\u001b[0m\u001b[0m\n\u001b[0;32m---> 68\u001b[0;31m         \u001b[0;32mreturn\u001b[0m \u001b[0msol\u001b[0m\u001b[0;34m.\u001b[0m\u001b[0mrun\u001b[0m\u001b[0;34m(\u001b[0m\u001b[0mnumber_of_trajectories\u001b[0m\u001b[0;34m=\u001b[0m\u001b[0mnumber_of_trajectories\u001b[0m\u001b[0;34m,\u001b[0m \u001b[0mseed\u001b[0m\u001b[0;34m=\u001b[0m\u001b[0mseed\u001b[0m\u001b[0;34m)\u001b[0m\u001b[0;34m\u001b[0m\u001b[0;34m\u001b[0m\u001b[0m\n\u001b[0m\u001b[1;32m     69\u001b[0m \u001b[0;34m\u001b[0m\u001b[0m\n\u001b[1;32m     70\u001b[0m \u001b[0;34m\u001b[0m\u001b[0m\n",
      "\u001b[0;32m~/Desktop/research/SpatialPy/spatialpy/Solver.py\u001b[0m in \u001b[0;36mrun\u001b[0;34m(self, number_of_trajectories, seed, timeout)\u001b[0m\n\u001b[1;32m    115\u001b[0m         \u001b[0;31m# Check if compiled, call compile() if not.\u001b[0m\u001b[0;34m\u001b[0m\u001b[0;34m\u001b[0m\u001b[0;34m\u001b[0m\u001b[0m\n\u001b[1;32m    116\u001b[0m         \u001b[0;32mif\u001b[0m \u001b[0;32mnot\u001b[0m \u001b[0mself\u001b[0m\u001b[0;34m.\u001b[0m\u001b[0mis_compiled\u001b[0m\u001b[0;34m:\u001b[0m\u001b[0;34m\u001b[0m\u001b[0;34m\u001b[0m\u001b[0m\n\u001b[0;32m--> 117\u001b[0;31m             \u001b[0mself\u001b[0m\u001b[0;34m.\u001b[0m\u001b[0mcompile\u001b[0m\u001b[0;34m(\u001b[0m\u001b[0;34m)\u001b[0m\u001b[0;34m\u001b[0m\u001b[0;34m\u001b[0m\u001b[0m\n\u001b[0m\u001b[1;32m    118\u001b[0m \u001b[0;34m\u001b[0m\u001b[0m\n\u001b[1;32m    119\u001b[0m         \u001b[0;31m# Execute the solver\u001b[0m\u001b[0;34m\u001b[0m\u001b[0;34m\u001b[0m\u001b[0;34m\u001b[0m\u001b[0m\n",
      "\u001b[0;32m~/Desktop/research/SpatialPy/spatialpy/Solver.py\u001b[0m in \u001b[0;36mcompile\u001b[0;34m(self)\u001b[0m\n\u001b[1;32m     89\u001b[0m             \u001b[0;32mexcept\u001b[0m \u001b[0mException\u001b[0m \u001b[0;32mas\u001b[0m \u001b[0me\u001b[0m\u001b[0;34m:\u001b[0m\u001b[0;34m\u001b[0m\u001b[0;34m\u001b[0m\u001b[0m\n\u001b[1;32m     90\u001b[0m                 \u001b[0;32mpass\u001b[0m\u001b[0;34m\u001b[0m\u001b[0;34m\u001b[0m\u001b[0m\n\u001b[0;32m---> 91\u001b[0;31m             raise SimulationError(\n\u001b[0m\u001b[1;32m     92\u001b[0m                 \"Compilation of solver failed, return_code={0}\".format(return_code))\n\u001b[1;32m     93\u001b[0m \u001b[0;34m\u001b[0m\u001b[0m\n",
      "\u001b[0;31mSimulationError\u001b[0m: Compilation of solver failed, return_code=2"
     ]
    }
   ],
   "source": [
    "# Run the model object\n",
    "%time result = model.run()"
   ]
  },
  {
   "cell_type": "code",
   "execution_count": 7,
   "metadata": {},
   "outputs": [],
   "source": [
    "# Plot_step access the result object and search for the specified key to plot\n",
    "def plot_step(key='type',index=0,time=0):\n",
    "    pts, data = result.read_step(time)\n",
    "    plt.figure(figsize=(15,10) )       \n",
    "    if (key == 'v'):\n",
    "        d = data[key]\n",
    "        d = [d[i][index] for i in range(0,len(d))]\n",
    "    else:\n",
    "        d = data[key]\n",
    "    plt.scatter(pts[:,0],pts[:,1],c=d)\n",
    "    plt.axis('equal')\n",
    "    plt.colorbar()\n",
    "    plt.title('t={0}'.format(time))\n",
    "    plt.xticks(numpy.arange(-0.6, 0.7, 0.1)) \n",
    "    plt.yticks(numpy.arange(-0.6, 0.7, 0.1)) \n",
    "    plt.grid(linestyle='--', linewidth=1)\n",
    "\n",
    "    \n",
    "def plot_all(key='type'):\n",
    "    for i,t in enumerate(result.get_timespan()):\n",
    "        plot_step(i,key)"
   ]
  },
  {
   "cell_type": "code",
   "execution_count": 8,
   "metadata": {},
   "outputs": [
    {
     "ename": "NameError",
     "evalue": "name 'result' is not defined",
     "output_type": "error",
     "traceback": [
      "\u001b[0;31m---------------------------------------------------------------------------\u001b[0m",
      "\u001b[0;31mNameError\u001b[0m                                 Traceback (most recent call last)",
      "\u001b[0;32m<ipython-input-8-e67fcbbfc510>\u001b[0m in \u001b[0;36m<module>\u001b[0;34m\u001b[0m\n\u001b[1;32m      1\u001b[0m \u001b[0;31m# Plot velocity (index 0, i.e., vx) at timestep 10\u001b[0m\u001b[0;34m\u001b[0m\u001b[0;34m\u001b[0m\u001b[0;34m\u001b[0m\u001b[0m\n\u001b[0;32m----> 2\u001b[0;31m \u001b[0mplot_step\u001b[0m\u001b[0;34m(\u001b[0m\u001b[0;34m'v'\u001b[0m\u001b[0;34m,\u001b[0m\u001b[0mindex\u001b[0m\u001b[0;34m=\u001b[0m\u001b[0;36m0\u001b[0m\u001b[0;34m,\u001b[0m\u001b[0mtime\u001b[0m\u001b[0;34m=\u001b[0m\u001b[0;36m10\u001b[0m\u001b[0;34m)\u001b[0m\u001b[0;34m\u001b[0m\u001b[0;34m\u001b[0m\u001b[0m\n\u001b[0m",
      "\u001b[0;32m<ipython-input-7-80043c3dd02d>\u001b[0m in \u001b[0;36mplot_step\u001b[0;34m(key, index, time)\u001b[0m\n\u001b[1;32m      1\u001b[0m \u001b[0;31m# Plot_step access the result object and search for the specified key to plot\u001b[0m\u001b[0;34m\u001b[0m\u001b[0;34m\u001b[0m\u001b[0;34m\u001b[0m\u001b[0m\n\u001b[1;32m      2\u001b[0m \u001b[0;32mdef\u001b[0m \u001b[0mplot_step\u001b[0m\u001b[0;34m(\u001b[0m\u001b[0mkey\u001b[0m\u001b[0;34m=\u001b[0m\u001b[0;34m'type'\u001b[0m\u001b[0;34m,\u001b[0m\u001b[0mindex\u001b[0m\u001b[0;34m=\u001b[0m\u001b[0;36m0\u001b[0m\u001b[0;34m,\u001b[0m\u001b[0mtime\u001b[0m\u001b[0;34m=\u001b[0m\u001b[0;36m0\u001b[0m\u001b[0;34m)\u001b[0m\u001b[0;34m:\u001b[0m\u001b[0;34m\u001b[0m\u001b[0;34m\u001b[0m\u001b[0m\n\u001b[0;32m----> 3\u001b[0;31m     \u001b[0mpts\u001b[0m\u001b[0;34m,\u001b[0m \u001b[0mdata\u001b[0m \u001b[0;34m=\u001b[0m \u001b[0mresult\u001b[0m\u001b[0;34m.\u001b[0m\u001b[0mread_step\u001b[0m\u001b[0;34m(\u001b[0m\u001b[0mtime\u001b[0m\u001b[0;34m)\u001b[0m\u001b[0;34m\u001b[0m\u001b[0;34m\u001b[0m\u001b[0m\n\u001b[0m\u001b[1;32m      4\u001b[0m     \u001b[0mplt\u001b[0m\u001b[0;34m.\u001b[0m\u001b[0mfigure\u001b[0m\u001b[0;34m(\u001b[0m\u001b[0mfigsize\u001b[0m\u001b[0;34m=\u001b[0m\u001b[0;34m(\u001b[0m\u001b[0;36m15\u001b[0m\u001b[0;34m,\u001b[0m\u001b[0;36m10\u001b[0m\u001b[0;34m)\u001b[0m \u001b[0;34m)\u001b[0m\u001b[0;34m\u001b[0m\u001b[0;34m\u001b[0m\u001b[0m\n\u001b[1;32m      5\u001b[0m     \u001b[0;32mif\u001b[0m \u001b[0;34m(\u001b[0m\u001b[0mkey\u001b[0m \u001b[0;34m==\u001b[0m \u001b[0;34m'v'\u001b[0m\u001b[0;34m)\u001b[0m\u001b[0;34m:\u001b[0m\u001b[0;34m\u001b[0m\u001b[0;34m\u001b[0m\u001b[0m\n",
      "\u001b[0;31mNameError\u001b[0m: name 'result' is not defined"
     ]
    }
   ],
   "source": [
    "# Plot velocity (index 0, i.e., vx) at timestep 10\n",
    "plot_step('v',index=0,time=10)"
   ]
  },
  {
   "cell_type": "code",
   "execution_count": null,
   "metadata": {},
   "outputs": [],
   "source": [
    "# Plot concentration of species A (discrete) at timestep 100\n",
    "plot_step('D[A]',time=100)"
   ]
  },
  {
   "cell_type": "code",
   "execution_count": null,
   "metadata": {},
   "outputs": [],
   "source": [
    "# To access data from a given timestep, use the read_step method\n",
    "# e.g., read data from time step 10\n",
    "pts,data = result.read_step(10)\n",
    "print(pts)\n",
    "print(data)"
   ]
  },
  {
   "cell_type": "code",
   "execution_count": null,
   "metadata": {},
   "outputs": [],
   "source": []
  }
 ],
 "metadata": {
  "kernelspec": {
   "display_name": "Python 3",
   "language": "python",
   "name": "python3"
  },
  "language_info": {
   "codemirror_mode": {
    "name": "ipython",
    "version": 3
   },
   "file_extension": ".py",
   "mimetype": "text/x-python",
   "name": "python",
   "nbconvert_exporter": "python",
   "pygments_lexer": "ipython3",
   "version": "3.8.2"
  }
 },
 "nbformat": 4,
 "nbformat_minor": 1
}

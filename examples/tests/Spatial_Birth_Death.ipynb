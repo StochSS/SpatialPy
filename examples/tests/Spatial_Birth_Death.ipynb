{
 "cells": [
  {
   "cell_type": "markdown",
   "metadata": {},
   "source": [
    "# Introduction\n",
    "\n",
    "Running a simmulation with SpatialPy requires only 2 components: a model (data), and a solver (algorithm)."
   ]
  },
  {
   "cell_type": "markdown",
   "metadata": {},
   "source": [
    "## Basics"
   ]
  },
  {
   "cell_type": "markdown",
   "metadata": {},
   "source": [
    "### Setup the Environment\n",
    "\n",
    "'os' and 'sys' allow us to modify the directory Python searches for source code. If you wish to use an installed GillesPy2 package, you do not need to run this cell. If this notebook is being run from within the GillesPy2 source code directory we need to let Python know that we want to use it, not the GillesPy2 package."
   ]
  },
  {
   "cell_type": "code",
   "execution_count": null,
   "metadata": {},
   "outputs": [],
   "source": [
    "import os\n",
    "import sys\n",
    "sys.path.insert(1, os.path.abspath(os.path.join(os.getcwd(), '../')))"
   ]
  },
  {
   "cell_type": "markdown",
   "metadata": {},
   "source": [
    "Numpy is used to set the timespan of the Model."
   ]
  },
  {
   "cell_type": "code",
   "execution_count": null,
   "metadata": {},
   "outputs": [],
   "source": [
    "import numpy"
   ]
  },
  {
   "cell_type": "markdown",
   "metadata": {},
   "source": [
    "Import the types that'll be needed to define your Model."
   ]
  },
  {
   "cell_type": "code",
   "execution_count": null,
   "metadata": {},
   "outputs": [],
   "source": [
    "from SpatialPy import (\n",
    "    Model,\n",
    "    Domain,\n",
    "    Species,\n",
    "    ScatterInitialCondition,\n",
    "    Parameters,\n",
    "    Reactions\n",
    ")"
   ]
  },
  {
   "cell_type": "markdown",
   "metadata": {},
   "source": [
    "## Creating a SpatialPy Model\n",
    "\n",
    "A SpatialPy model must include a domain.\n",
    "\n",
    "Your model is declared and configured as a Python class. As such, the name between `class` and `(Model):` can be of your choosing.\n",
    "For this example we'll be modeling Spatial Birth and Death, so lets set the name accordingly."
   ]
  },
  {
   "cell_type": "code",
   "execution_count": 4,
   "metadata": {},
   "outputs": [],
   "source": [
    "class SpatialBirthDeath(Model):\n",
    "    # TODO: type_id globals\n",
    "\n",
    "    def __init__(self):\n",
    "        \n",
    "        # Intialize the Model with a name of your choosing.\n",
    "        Model.__init__(self, model_name='Spatial Birth-Death')\n",
    "        \n",
    "        \"\"\"\n",
    "        TODO: Domain description\n",
    "        \n",
    "        - \n",
    "        - \n",
    "        - \n",
    "        - \n",
    "        - \n",
    "        - \n",
    "        - \n",
    "        \"\"\"\n",
    "        domain = Domain.create_3D_domain(\n",
    "            [0, 1], [0, 1], [0, 0.1], 10, 10, 1, fixed=True\n",
    "        )\n",
    "        \n",
    "        # Add the Domain to the Model\n",
    "        self.add_domain(domain)\n",
    "        \n",
    "        \"\"\"\n",
    "        Species can be anything that participates in or is produced by a reaction channel.\n",
    "\n",
    "        - name: A user defined name for the species.\n",
    "        - diffusion_coefficient: Non-constant coefficient of diffusion for the Species.\n",
    "        \"\"\"\n",
    "        Rabbits = Species(name='Rabbits', diffusion_coefficient=0.1)\n",
    "        \n",
    "        # Add the Species to the Model.\n",
    "        self.add_species(Rabbits)\n",
    "        \n",
    "        \"\"\"\n",
    "        TODO: Initial Conditions description\n",
    "        \"\"\"\n",
    "        init_rabbit_pop = ScatterInitialCondition(rabbits, 100)\n",
    "        \n",
    "        # Add Initial Conditions to the Model\n",
    "        self.add_initial_condition(init_rabbit_pop)\n",
    "        \n",
    "        \"\"\"\n",
    "        Parameters are constant values relevant to the system, such as reaction kinetic rates.\n",
    "\n",
    "        - name: A user defined name for reference.\n",
    "        - expression: Some constant value.\n",
    "        \"\"\"\n",
    "        kb = Parameter('k_birth', 10)\n",
    "        kd = Parameter('k_death', 0.1)\n",
    "        \n",
    "        # Add the Parameters to the Model.\n",
    "        self.add_parameter([kb,kd])\n",
    "        \n",
    "        \"\"\"\n",
    "        Reactions are the reaction channels which cause the system to change over time.\n",
    "\n",
    "        - name: A user defined name for the reaction.\n",
    "        - reactants: A dictionary with participant reactants as keys, and consumed per reaction as value.\n",
    "        - products: A dictionary with reaction products as keys, and number formed per reaction as value.\n",
    "        - rate: A parameter rate constant to be applied to the propensity of this reaction firing.\n",
    "        - propensity_function: Can be used instead of rate in order to declare a custom propensity function\n",
    "                               in string format.\n",
    "        \"\"\"\n",
    "        birth = Reaction('birth', reactants={}, products={rabbits:1}, rate=kb)\n",
    "        death = Reaction('death', reactants={rabbits:1}, products={}, rate=kd)\n",
    "        \n",
    "        # Add the Reactions to the Model.\n",
    "        self.add_reaction([birth, death])\n",
    "        \n",
    "        # Use NumPy to set the timespan of the Model.\n",
    "        self.timespan(numpy.arange(0, 10, 1), timestep_size=1)"
   ]
  },
  {
   "cell_type": "code",
   "execution_count": 1,
   "metadata": {},
   "outputs": [],
   "source": [
    "\n",
    "import matplotlib.pyplot as plt"
   ]
  },
  {
   "cell_type": "code",
   "execution_count": 2,
   "metadata": {},
   "outputs": [],
   "source": [
    "%load_ext autoreload\n",
    "%autoreload 2"
   ]
  },
  {
   "cell_type": "code",
   "execution_count": 5,
   "metadata": {},
   "outputs": [],
   "source": [
    "model = SpatialBirthDeath()"
   ]
  },
  {
   "cell_type": "code",
   "execution_count": 6,
   "metadata": {},
   "outputs": [],
   "source": [
    "result = model.run()"
   ]
  },
  {
   "cell_type": "code",
   "execution_count": 7,
   "metadata": {},
   "outputs": [
    {
     "data": {
      "text/html": [
       "        <script type=\"text/javascript\">\n",
       "        window.PlotlyConfig = {MathJaxConfig: 'local'};\n",
       "        if (window.MathJax) {MathJax.Hub.Config({SVG: {font: \"STIX-Web\"}});}\n",
       "        if (typeof require !== 'undefined') {\n",
       "        require.undef(\"plotly\");\n",
       "        requirejs.config({\n",
       "            paths: {\n",
       "                'plotly': ['https://cdn.plot.ly/plotly-2.4.2.min']\n",
       "            }\n",
       "        });\n",
       "        require(['plotly'], function(Plotly) {\n",
       "            window._Plotly = Plotly;\n",
       "        });\n",
       "        }\n",
       "        </script>\n",
       "        "
      ]
     },
     "metadata": {},
     "output_type": "display_data"
    },
    {
     "data": {
      "application/vnd.plotly.v1+json": {
       "config": {
        "linkText": "Export to plot.ly",
        "plotlyServerURL": "https://plot.ly",
        "showLink": false
       },
       "data": [
        {
         "marker": {
          "color": "#1f77b4",
          "size": 5
         },
         "mode": "markers",
         "name": "1",
         "type": "scatter",
         "x": [
          0,
          0,
          0,
          0,
          0,
          0,
          0,
          0,
          0,
          0,
          0.1111111119389534,
          0.1111111119389534,
          0.1111111119389534,
          0.1111111119389534,
          0.1111111119389534,
          0.1111111119389534,
          0.1111111119389534,
          0.1111111119389534,
          0.1111111119389534,
          0.1111111119389534,
          0.2222222238779068,
          0.2222222238779068,
          0.2222222238779068,
          0.2222222238779068,
          0.2222222238779068,
          0.2222222238779068,
          0.2222222238779068,
          0.2222222238779068,
          0.2222222238779068,
          0.2222222238779068,
          0.3333333432674408,
          0.3333333432674408,
          0.3333333432674408,
          0.3333333432674408,
          0.3333333432674408,
          0.3333333432674408,
          0.3333333432674408,
          0.3333333432674408,
          0.3333333432674408,
          0.3333333432674408,
          0.4444444477558136,
          0.4444444477558136,
          0.4444444477558136,
          0.4444444477558136,
          0.4444444477558136,
          0.4444444477558136,
          0.4444444477558136,
          0.4444444477558136,
          0.4444444477558136,
          0.4444444477558136,
          0.5555555820465088,
          0.5555555820465088,
          0.5555555820465088,
          0.5555555820465088,
          0.5555555820465088,
          0.5555555820465088,
          0.5555555820465088,
          0.5555555820465088,
          0.5555555820465088,
          0.5555555820465088,
          0.6666666865348816,
          0.6666666865348816,
          0.6666666865348816,
          0.6666666865348816,
          0.6666666865348816,
          0.6666666865348816,
          0.6666666865348816,
          0.6666666865348816,
          0.6666666865348816,
          0.6666666865348816,
          0.7777777910232544,
          0.7777777910232544,
          0.7777777910232544,
          0.7777777910232544,
          0.7777777910232544,
          0.7777777910232544,
          0.7777777910232544,
          0.7777777910232544,
          0.7777777910232544,
          0.7777777910232544,
          0.8888888955116272,
          0.8888888955116272,
          0.8888888955116272,
          0.8888888955116272,
          0.8888888955116272,
          0.8888888955116272,
          0.8888888955116272,
          0.8888888955116272,
          0.8888888955116272,
          0.8888888955116272,
          1,
          1,
          1,
          1,
          1,
          1,
          1,
          1,
          1,
          1
         ],
         "y": [
          0,
          0.1111111119389534,
          0.2222222238779068,
          0.3333333432674408,
          0.4444444477558136,
          0.5555555820465088,
          0.6666666865348816,
          0.7777777910232544,
          0.8888888955116272,
          1,
          0,
          0.1111111119389534,
          0.2222222238779068,
          0.3333333432674408,
          0.4444444477558136,
          0.5555555820465088,
          0.6666666865348816,
          0.7777777910232544,
          0.8888888955116272,
          1,
          0,
          0.1111111119389534,
          0.2222222238779068,
          0.3333333432674408,
          0.4444444477558136,
          0.5555555820465088,
          0.6666666865348816,
          0.7777777910232544,
          0.8888888955116272,
          1,
          0,
          0.1111111119389534,
          0.2222222238779068,
          0.3333333432674408,
          0.4444444477558136,
          0.5555555820465088,
          0.6666666865348816,
          0.7777777910232544,
          0.8888888955116272,
          1,
          0,
          0.1111111119389534,
          0.2222222238779068,
          0.3333333432674408,
          0.4444444477558136,
          0.5555555820465088,
          0.6666666865348816,
          0.7777777910232544,
          0.8888888955116272,
          1,
          0,
          0.1111111119389534,
          0.2222222238779068,
          0.3333333432674408,
          0.4444444477558136,
          0.5555555820465088,
          0.6666666865348816,
          0.7777777910232544,
          0.8888888955116272,
          1,
          0,
          0.1111111119389534,
          0.2222222238779068,
          0.3333333432674408,
          0.4444444477558136,
          0.5555555820465088,
          0.6666666865348816,
          0.7777777910232544,
          0.8888888955116272,
          1,
          0,
          0.1111111119389534,
          0.2222222238779068,
          0.3333333432674408,
          0.4444444477558136,
          0.5555555820465088,
          0.6666666865348816,
          0.7777777910232544,
          0.8888888955116272,
          1,
          0,
          0.1111111119389534,
          0.2222222238779068,
          0.3333333432674408,
          0.4444444477558136,
          0.5555555820465088,
          0.6666666865348816,
          0.7777777910232544,
          0.8888888955116272,
          1,
          0,
          0.1111111119389534,
          0.2222222238779068,
          0.3333333432674408,
          0.4444444477558136,
          0.5555555820465088,
          0.6666666865348816,
          0.7777777910232544,
          0.8888888955116272,
          1
         ]
        }
       ],
       "layout": {
        "height": 500,
        "scene": {
         "aspectmode": "data"
        },
        "template": {
         "data": {
          "bar": [
           {
            "error_x": {
             "color": "#2a3f5f"
            },
            "error_y": {
             "color": "#2a3f5f"
            },
            "marker": {
             "line": {
              "color": "#E5ECF6",
              "width": 0.5
             },
             "pattern": {
              "fillmode": "overlay",
              "size": 10,
              "solidity": 0.2
             }
            },
            "type": "bar"
           }
          ],
          "barpolar": [
           {
            "marker": {
             "line": {
              "color": "#E5ECF6",
              "width": 0.5
             },
             "pattern": {
              "fillmode": "overlay",
              "size": 10,
              "solidity": 0.2
             }
            },
            "type": "barpolar"
           }
          ],
          "carpet": [
           {
            "aaxis": {
             "endlinecolor": "#2a3f5f",
             "gridcolor": "white",
             "linecolor": "white",
             "minorgridcolor": "white",
             "startlinecolor": "#2a3f5f"
            },
            "baxis": {
             "endlinecolor": "#2a3f5f",
             "gridcolor": "white",
             "linecolor": "white",
             "minorgridcolor": "white",
             "startlinecolor": "#2a3f5f"
            },
            "type": "carpet"
           }
          ],
          "choropleth": [
           {
            "colorbar": {
             "outlinewidth": 0,
             "ticks": ""
            },
            "type": "choropleth"
           }
          ],
          "contour": [
           {
            "colorbar": {
             "outlinewidth": 0,
             "ticks": ""
            },
            "colorscale": [
             [
              0,
              "#0d0887"
             ],
             [
              0.1111111111111111,
              "#46039f"
             ],
             [
              0.2222222222222222,
              "#7201a8"
             ],
             [
              0.3333333333333333,
              "#9c179e"
             ],
             [
              0.4444444444444444,
              "#bd3786"
             ],
             [
              0.5555555555555556,
              "#d8576b"
             ],
             [
              0.6666666666666666,
              "#ed7953"
             ],
             [
              0.7777777777777778,
              "#fb9f3a"
             ],
             [
              0.8888888888888888,
              "#fdca26"
             ],
             [
              1,
              "#f0f921"
             ]
            ],
            "type": "contour"
           }
          ],
          "contourcarpet": [
           {
            "colorbar": {
             "outlinewidth": 0,
             "ticks": ""
            },
            "type": "contourcarpet"
           }
          ],
          "heatmap": [
           {
            "colorbar": {
             "outlinewidth": 0,
             "ticks": ""
            },
            "colorscale": [
             [
              0,
              "#0d0887"
             ],
             [
              0.1111111111111111,
              "#46039f"
             ],
             [
              0.2222222222222222,
              "#7201a8"
             ],
             [
              0.3333333333333333,
              "#9c179e"
             ],
             [
              0.4444444444444444,
              "#bd3786"
             ],
             [
              0.5555555555555556,
              "#d8576b"
             ],
             [
              0.6666666666666666,
              "#ed7953"
             ],
             [
              0.7777777777777778,
              "#fb9f3a"
             ],
             [
              0.8888888888888888,
              "#fdca26"
             ],
             [
              1,
              "#f0f921"
             ]
            ],
            "type": "heatmap"
           }
          ],
          "heatmapgl": [
           {
            "colorbar": {
             "outlinewidth": 0,
             "ticks": ""
            },
            "colorscale": [
             [
              0,
              "#0d0887"
             ],
             [
              0.1111111111111111,
              "#46039f"
             ],
             [
              0.2222222222222222,
              "#7201a8"
             ],
             [
              0.3333333333333333,
              "#9c179e"
             ],
             [
              0.4444444444444444,
              "#bd3786"
             ],
             [
              0.5555555555555556,
              "#d8576b"
             ],
             [
              0.6666666666666666,
              "#ed7953"
             ],
             [
              0.7777777777777778,
              "#fb9f3a"
             ],
             [
              0.8888888888888888,
              "#fdca26"
             ],
             [
              1,
              "#f0f921"
             ]
            ],
            "type": "heatmapgl"
           }
          ],
          "histogram": [
           {
            "marker": {
             "pattern": {
              "fillmode": "overlay",
              "size": 10,
              "solidity": 0.2
             }
            },
            "type": "histogram"
           }
          ],
          "histogram2d": [
           {
            "colorbar": {
             "outlinewidth": 0,
             "ticks": ""
            },
            "colorscale": [
             [
              0,
              "#0d0887"
             ],
             [
              0.1111111111111111,
              "#46039f"
             ],
             [
              0.2222222222222222,
              "#7201a8"
             ],
             [
              0.3333333333333333,
              "#9c179e"
             ],
             [
              0.4444444444444444,
              "#bd3786"
             ],
             [
              0.5555555555555556,
              "#d8576b"
             ],
             [
              0.6666666666666666,
              "#ed7953"
             ],
             [
              0.7777777777777778,
              "#fb9f3a"
             ],
             [
              0.8888888888888888,
              "#fdca26"
             ],
             [
              1,
              "#f0f921"
             ]
            ],
            "type": "histogram2d"
           }
          ],
          "histogram2dcontour": [
           {
            "colorbar": {
             "outlinewidth": 0,
             "ticks": ""
            },
            "colorscale": [
             [
              0,
              "#0d0887"
             ],
             [
              0.1111111111111111,
              "#46039f"
             ],
             [
              0.2222222222222222,
              "#7201a8"
             ],
             [
              0.3333333333333333,
              "#9c179e"
             ],
             [
              0.4444444444444444,
              "#bd3786"
             ],
             [
              0.5555555555555556,
              "#d8576b"
             ],
             [
              0.6666666666666666,
              "#ed7953"
             ],
             [
              0.7777777777777778,
              "#fb9f3a"
             ],
             [
              0.8888888888888888,
              "#fdca26"
             ],
             [
              1,
              "#f0f921"
             ]
            ],
            "type": "histogram2dcontour"
           }
          ],
          "mesh3d": [
           {
            "colorbar": {
             "outlinewidth": 0,
             "ticks": ""
            },
            "type": "mesh3d"
           }
          ],
          "parcoords": [
           {
            "line": {
             "colorbar": {
              "outlinewidth": 0,
              "ticks": ""
             }
            },
            "type": "parcoords"
           }
          ],
          "pie": [
           {
            "automargin": true,
            "type": "pie"
           }
          ],
          "scatter": [
           {
            "marker": {
             "colorbar": {
              "outlinewidth": 0,
              "ticks": ""
             }
            },
            "type": "scatter"
           }
          ],
          "scatter3d": [
           {
            "line": {
             "colorbar": {
              "outlinewidth": 0,
              "ticks": ""
             }
            },
            "marker": {
             "colorbar": {
              "outlinewidth": 0,
              "ticks": ""
             }
            },
            "type": "scatter3d"
           }
          ],
          "scattercarpet": [
           {
            "marker": {
             "colorbar": {
              "outlinewidth": 0,
              "ticks": ""
             }
            },
            "type": "scattercarpet"
           }
          ],
          "scattergeo": [
           {
            "marker": {
             "colorbar": {
              "outlinewidth": 0,
              "ticks": ""
             }
            },
            "type": "scattergeo"
           }
          ],
          "scattergl": [
           {
            "marker": {
             "colorbar": {
              "outlinewidth": 0,
              "ticks": ""
             }
            },
            "type": "scattergl"
           }
          ],
          "scattermapbox": [
           {
            "marker": {
             "colorbar": {
              "outlinewidth": 0,
              "ticks": ""
             }
            },
            "type": "scattermapbox"
           }
          ],
          "scatterpolar": [
           {
            "marker": {
             "colorbar": {
              "outlinewidth": 0,
              "ticks": ""
             }
            },
            "type": "scatterpolar"
           }
          ],
          "scatterpolargl": [
           {
            "marker": {
             "colorbar": {
              "outlinewidth": 0,
              "ticks": ""
             }
            },
            "type": "scatterpolargl"
           }
          ],
          "scatterternary": [
           {
            "marker": {
             "colorbar": {
              "outlinewidth": 0,
              "ticks": ""
             }
            },
            "type": "scatterternary"
           }
          ],
          "surface": [
           {
            "colorbar": {
             "outlinewidth": 0,
             "ticks": ""
            },
            "colorscale": [
             [
              0,
              "#0d0887"
             ],
             [
              0.1111111111111111,
              "#46039f"
             ],
             [
              0.2222222222222222,
              "#7201a8"
             ],
             [
              0.3333333333333333,
              "#9c179e"
             ],
             [
              0.4444444444444444,
              "#bd3786"
             ],
             [
              0.5555555555555556,
              "#d8576b"
             ],
             [
              0.6666666666666666,
              "#ed7953"
             ],
             [
              0.7777777777777778,
              "#fb9f3a"
             ],
             [
              0.8888888888888888,
              "#fdca26"
             ],
             [
              1,
              "#f0f921"
             ]
            ],
            "type": "surface"
           }
          ],
          "table": [
           {
            "cells": {
             "fill": {
              "color": "#EBF0F8"
             },
             "line": {
              "color": "white"
             }
            },
            "header": {
             "fill": {
              "color": "#C8D4E3"
             },
             "line": {
              "color": "white"
             }
            },
            "type": "table"
           }
          ]
         },
         "layout": {
          "annotationdefaults": {
           "arrowcolor": "#2a3f5f",
           "arrowhead": 0,
           "arrowwidth": 1
          },
          "autotypenumbers": "strict",
          "coloraxis": {
           "colorbar": {
            "outlinewidth": 0,
            "ticks": ""
           }
          },
          "colorscale": {
           "diverging": [
            [
             0,
             "#8e0152"
            ],
            [
             0.1,
             "#c51b7d"
            ],
            [
             0.2,
             "#de77ae"
            ],
            [
             0.3,
             "#f1b6da"
            ],
            [
             0.4,
             "#fde0ef"
            ],
            [
             0.5,
             "#f7f7f7"
            ],
            [
             0.6,
             "#e6f5d0"
            ],
            [
             0.7,
             "#b8e186"
            ],
            [
             0.8,
             "#7fbc41"
            ],
            [
             0.9,
             "#4d9221"
            ],
            [
             1,
             "#276419"
            ]
           ],
           "sequential": [
            [
             0,
             "#0d0887"
            ],
            [
             0.1111111111111111,
             "#46039f"
            ],
            [
             0.2222222222222222,
             "#7201a8"
            ],
            [
             0.3333333333333333,
             "#9c179e"
            ],
            [
             0.4444444444444444,
             "#bd3786"
            ],
            [
             0.5555555555555556,
             "#d8576b"
            ],
            [
             0.6666666666666666,
             "#ed7953"
            ],
            [
             0.7777777777777778,
             "#fb9f3a"
            ],
            [
             0.8888888888888888,
             "#fdca26"
            ],
            [
             1,
             "#f0f921"
            ]
           ],
           "sequentialminus": [
            [
             0,
             "#0d0887"
            ],
            [
             0.1111111111111111,
             "#46039f"
            ],
            [
             0.2222222222222222,
             "#7201a8"
            ],
            [
             0.3333333333333333,
             "#9c179e"
            ],
            [
             0.4444444444444444,
             "#bd3786"
            ],
            [
             0.5555555555555556,
             "#d8576b"
            ],
            [
             0.6666666666666666,
             "#ed7953"
            ],
            [
             0.7777777777777778,
             "#fb9f3a"
            ],
            [
             0.8888888888888888,
             "#fdca26"
            ],
            [
             1,
             "#f0f921"
            ]
           ]
          },
          "colorway": [
           "#636efa",
           "#EF553B",
           "#00cc96",
           "#ab63fa",
           "#FFA15A",
           "#19d3f3",
           "#FF6692",
           "#B6E880",
           "#FF97FF",
           "#FECB52"
          ],
          "font": {
           "color": "#2a3f5f"
          },
          "geo": {
           "bgcolor": "white",
           "lakecolor": "white",
           "landcolor": "#E5ECF6",
           "showlakes": true,
           "showland": true,
           "subunitcolor": "white"
          },
          "hoverlabel": {
           "align": "left"
          },
          "hovermode": "closest",
          "mapbox": {
           "style": "light"
          },
          "paper_bgcolor": "white",
          "plot_bgcolor": "#E5ECF6",
          "polar": {
           "angularaxis": {
            "gridcolor": "white",
            "linecolor": "white",
            "ticks": ""
           },
           "bgcolor": "#E5ECF6",
           "radialaxis": {
            "gridcolor": "white",
            "linecolor": "white",
            "ticks": ""
           }
          },
          "scene": {
           "xaxis": {
            "backgroundcolor": "#E5ECF6",
            "gridcolor": "white",
            "gridwidth": 2,
            "linecolor": "white",
            "showbackground": true,
            "ticks": "",
            "zerolinecolor": "white"
           },
           "yaxis": {
            "backgroundcolor": "#E5ECF6",
            "gridcolor": "white",
            "gridwidth": 2,
            "linecolor": "white",
            "showbackground": true,
            "ticks": "",
            "zerolinecolor": "white"
           },
           "zaxis": {
            "backgroundcolor": "#E5ECF6",
            "gridcolor": "white",
            "gridwidth": 2,
            "linecolor": "white",
            "showbackground": true,
            "ticks": "",
            "zerolinecolor": "white"
           }
          },
          "shapedefaults": {
           "line": {
            "color": "#2a3f5f"
           }
          },
          "ternary": {
           "aaxis": {
            "gridcolor": "white",
            "linecolor": "white",
            "ticks": ""
           },
           "baxis": {
            "gridcolor": "white",
            "linecolor": "white",
            "ticks": ""
           },
           "bgcolor": "#E5ECF6",
           "caxis": {
            "gridcolor": "white",
            "linecolor": "white",
            "ticks": ""
           }
          },
          "title": {
           "x": 0.05
          },
          "xaxis": {
           "automargin": true,
           "gridcolor": "white",
           "linecolor": "white",
           "ticks": "",
           "title": {
            "standoff": 15
           },
           "zerolinecolor": "white",
           "zerolinewidth": 2
          },
          "yaxis": {
           "automargin": true,
           "gridcolor": "white",
           "linecolor": "white",
           "ticks": "",
           "title": {
            "standoff": 15
           },
           "zerolinecolor": "white",
           "zerolinewidth": 2
          }
         }
        },
        "width": 500,
        "xaxis": {
         "range": [
          0,
          1
         ]
        },
        "yaxis": {
         "range": [
          0,
          1
         ]
        }
       }
      },
      "text/html": [
       "<div>                            <div id=\"ba8e5fd8-0c52-4317-b97c-c1662bb6690c\" class=\"plotly-graph-div\" style=\"height:500px; width:500px;\"></div>            <script type=\"text/javascript\">                require([\"plotly\"], function(Plotly) {                    window.PLOTLYENV=window.PLOTLYENV || {};                                    if (document.getElementById(\"ba8e5fd8-0c52-4317-b97c-c1662bb6690c\")) {                    Plotly.newPlot(                        \"ba8e5fd8-0c52-4317-b97c-c1662bb6690c\",                        [{\"marker\":{\"color\":\"#1f77b4\",\"size\":5},\"mode\":\"markers\",\"name\":\"1\",\"type\":\"scatter\",\"x\":[0.0,0.0,0.0,0.0,0.0,0.0,0.0,0.0,0.0,0.0,0.1111111119389534,0.1111111119389534,0.1111111119389534,0.1111111119389534,0.1111111119389534,0.1111111119389534,0.1111111119389534,0.1111111119389534,0.1111111119389534,0.1111111119389534,0.2222222238779068,0.2222222238779068,0.2222222238779068,0.2222222238779068,0.2222222238779068,0.2222222238779068,0.2222222238779068,0.2222222238779068,0.2222222238779068,0.2222222238779068,0.3333333432674408,0.3333333432674408,0.3333333432674408,0.3333333432674408,0.3333333432674408,0.3333333432674408,0.3333333432674408,0.3333333432674408,0.3333333432674408,0.3333333432674408,0.4444444477558136,0.4444444477558136,0.4444444477558136,0.4444444477558136,0.4444444477558136,0.4444444477558136,0.4444444477558136,0.4444444477558136,0.4444444477558136,0.4444444477558136,0.5555555820465088,0.5555555820465088,0.5555555820465088,0.5555555820465088,0.5555555820465088,0.5555555820465088,0.5555555820465088,0.5555555820465088,0.5555555820465088,0.5555555820465088,0.6666666865348816,0.6666666865348816,0.6666666865348816,0.6666666865348816,0.6666666865348816,0.6666666865348816,0.6666666865348816,0.6666666865348816,0.6666666865348816,0.6666666865348816,0.7777777910232544,0.7777777910232544,0.7777777910232544,0.7777777910232544,0.7777777910232544,0.7777777910232544,0.7777777910232544,0.7777777910232544,0.7777777910232544,0.7777777910232544,0.8888888955116272,0.8888888955116272,0.8888888955116272,0.8888888955116272,0.8888888955116272,0.8888888955116272,0.8888888955116272,0.8888888955116272,0.8888888955116272,0.8888888955116272,1.0,1.0,1.0,1.0,1.0,1.0,1.0,1.0,1.0,1.0],\"y\":[0.0,0.1111111119389534,0.2222222238779068,0.3333333432674408,0.4444444477558136,0.5555555820465088,0.6666666865348816,0.7777777910232544,0.8888888955116272,1.0,0.0,0.1111111119389534,0.2222222238779068,0.3333333432674408,0.4444444477558136,0.5555555820465088,0.6666666865348816,0.7777777910232544,0.8888888955116272,1.0,0.0,0.1111111119389534,0.2222222238779068,0.3333333432674408,0.4444444477558136,0.5555555820465088,0.6666666865348816,0.7777777910232544,0.8888888955116272,1.0,0.0,0.1111111119389534,0.2222222238779068,0.3333333432674408,0.4444444477558136,0.5555555820465088,0.6666666865348816,0.7777777910232544,0.8888888955116272,1.0,0.0,0.1111111119389534,0.2222222238779068,0.3333333432674408,0.4444444477558136,0.5555555820465088,0.6666666865348816,0.7777777910232544,0.8888888955116272,1.0,0.0,0.1111111119389534,0.2222222238779068,0.3333333432674408,0.4444444477558136,0.5555555820465088,0.6666666865348816,0.7777777910232544,0.8888888955116272,1.0,0.0,0.1111111119389534,0.2222222238779068,0.3333333432674408,0.4444444477558136,0.5555555820465088,0.6666666865348816,0.7777777910232544,0.8888888955116272,1.0,0.0,0.1111111119389534,0.2222222238779068,0.3333333432674408,0.4444444477558136,0.5555555820465088,0.6666666865348816,0.7777777910232544,0.8888888955116272,1.0,0.0,0.1111111119389534,0.2222222238779068,0.3333333432674408,0.4444444477558136,0.5555555820465088,0.6666666865348816,0.7777777910232544,0.8888888955116272,1.0,0.0,0.1111111119389534,0.2222222238779068,0.3333333432674408,0.4444444477558136,0.5555555820465088,0.6666666865348816,0.7777777910232544,0.8888888955116272,1.0]}],                        {\"height\":500,\"scene\":{\"aspectmode\":\"data\"},\"template\":{\"data\":{\"bar\":[{\"error_x\":{\"color\":\"#2a3f5f\"},\"error_y\":{\"color\":\"#2a3f5f\"},\"marker\":{\"line\":{\"color\":\"#E5ECF6\",\"width\":0.5},\"pattern\":{\"fillmode\":\"overlay\",\"size\":10,\"solidity\":0.2}},\"type\":\"bar\"}],\"barpolar\":[{\"marker\":{\"line\":{\"color\":\"#E5ECF6\",\"width\":0.5},\"pattern\":{\"fillmode\":\"overlay\",\"size\":10,\"solidity\":0.2}},\"type\":\"barpolar\"}],\"carpet\":[{\"aaxis\":{\"endlinecolor\":\"#2a3f5f\",\"gridcolor\":\"white\",\"linecolor\":\"white\",\"minorgridcolor\":\"white\",\"startlinecolor\":\"#2a3f5f\"},\"baxis\":{\"endlinecolor\":\"#2a3f5f\",\"gridcolor\":\"white\",\"linecolor\":\"white\",\"minorgridcolor\":\"white\",\"startlinecolor\":\"#2a3f5f\"},\"type\":\"carpet\"}],\"choropleth\":[{\"colorbar\":{\"outlinewidth\":0,\"ticks\":\"\"},\"type\":\"choropleth\"}],\"contour\":[{\"colorbar\":{\"outlinewidth\":0,\"ticks\":\"\"},\"colorscale\":[[0.0,\"#0d0887\"],[0.1111111111111111,\"#46039f\"],[0.2222222222222222,\"#7201a8\"],[0.3333333333333333,\"#9c179e\"],[0.4444444444444444,\"#bd3786\"],[0.5555555555555556,\"#d8576b\"],[0.6666666666666666,\"#ed7953\"],[0.7777777777777778,\"#fb9f3a\"],[0.8888888888888888,\"#fdca26\"],[1.0,\"#f0f921\"]],\"type\":\"contour\"}],\"contourcarpet\":[{\"colorbar\":{\"outlinewidth\":0,\"ticks\":\"\"},\"type\":\"contourcarpet\"}],\"heatmap\":[{\"colorbar\":{\"outlinewidth\":0,\"ticks\":\"\"},\"colorscale\":[[0.0,\"#0d0887\"],[0.1111111111111111,\"#46039f\"],[0.2222222222222222,\"#7201a8\"],[0.3333333333333333,\"#9c179e\"],[0.4444444444444444,\"#bd3786\"],[0.5555555555555556,\"#d8576b\"],[0.6666666666666666,\"#ed7953\"],[0.7777777777777778,\"#fb9f3a\"],[0.8888888888888888,\"#fdca26\"],[1.0,\"#f0f921\"]],\"type\":\"heatmap\"}],\"heatmapgl\":[{\"colorbar\":{\"outlinewidth\":0,\"ticks\":\"\"},\"colorscale\":[[0.0,\"#0d0887\"],[0.1111111111111111,\"#46039f\"],[0.2222222222222222,\"#7201a8\"],[0.3333333333333333,\"#9c179e\"],[0.4444444444444444,\"#bd3786\"],[0.5555555555555556,\"#d8576b\"],[0.6666666666666666,\"#ed7953\"],[0.7777777777777778,\"#fb9f3a\"],[0.8888888888888888,\"#fdca26\"],[1.0,\"#f0f921\"]],\"type\":\"heatmapgl\"}],\"histogram\":[{\"marker\":{\"pattern\":{\"fillmode\":\"overlay\",\"size\":10,\"solidity\":0.2}},\"type\":\"histogram\"}],\"histogram2d\":[{\"colorbar\":{\"outlinewidth\":0,\"ticks\":\"\"},\"colorscale\":[[0.0,\"#0d0887\"],[0.1111111111111111,\"#46039f\"],[0.2222222222222222,\"#7201a8\"],[0.3333333333333333,\"#9c179e\"],[0.4444444444444444,\"#bd3786\"],[0.5555555555555556,\"#d8576b\"],[0.6666666666666666,\"#ed7953\"],[0.7777777777777778,\"#fb9f3a\"],[0.8888888888888888,\"#fdca26\"],[1.0,\"#f0f921\"]],\"type\":\"histogram2d\"}],\"histogram2dcontour\":[{\"colorbar\":{\"outlinewidth\":0,\"ticks\":\"\"},\"colorscale\":[[0.0,\"#0d0887\"],[0.1111111111111111,\"#46039f\"],[0.2222222222222222,\"#7201a8\"],[0.3333333333333333,\"#9c179e\"],[0.4444444444444444,\"#bd3786\"],[0.5555555555555556,\"#d8576b\"],[0.6666666666666666,\"#ed7953\"],[0.7777777777777778,\"#fb9f3a\"],[0.8888888888888888,\"#fdca26\"],[1.0,\"#f0f921\"]],\"type\":\"histogram2dcontour\"}],\"mesh3d\":[{\"colorbar\":{\"outlinewidth\":0,\"ticks\":\"\"},\"type\":\"mesh3d\"}],\"parcoords\":[{\"line\":{\"colorbar\":{\"outlinewidth\":0,\"ticks\":\"\"}},\"type\":\"parcoords\"}],\"pie\":[{\"automargin\":true,\"type\":\"pie\"}],\"scatter\":[{\"marker\":{\"colorbar\":{\"outlinewidth\":0,\"ticks\":\"\"}},\"type\":\"scatter\"}],\"scatter3d\":[{\"line\":{\"colorbar\":{\"outlinewidth\":0,\"ticks\":\"\"}},\"marker\":{\"colorbar\":{\"outlinewidth\":0,\"ticks\":\"\"}},\"type\":\"scatter3d\"}],\"scattercarpet\":[{\"marker\":{\"colorbar\":{\"outlinewidth\":0,\"ticks\":\"\"}},\"type\":\"scattercarpet\"}],\"scattergeo\":[{\"marker\":{\"colorbar\":{\"outlinewidth\":0,\"ticks\":\"\"}},\"type\":\"scattergeo\"}],\"scattergl\":[{\"marker\":{\"colorbar\":{\"outlinewidth\":0,\"ticks\":\"\"}},\"type\":\"scattergl\"}],\"scattermapbox\":[{\"marker\":{\"colorbar\":{\"outlinewidth\":0,\"ticks\":\"\"}},\"type\":\"scattermapbox\"}],\"scatterpolar\":[{\"marker\":{\"colorbar\":{\"outlinewidth\":0,\"ticks\":\"\"}},\"type\":\"scatterpolar\"}],\"scatterpolargl\":[{\"marker\":{\"colorbar\":{\"outlinewidth\":0,\"ticks\":\"\"}},\"type\":\"scatterpolargl\"}],\"scatterternary\":[{\"marker\":{\"colorbar\":{\"outlinewidth\":0,\"ticks\":\"\"}},\"type\":\"scatterternary\"}],\"surface\":[{\"colorbar\":{\"outlinewidth\":0,\"ticks\":\"\"},\"colorscale\":[[0.0,\"#0d0887\"],[0.1111111111111111,\"#46039f\"],[0.2222222222222222,\"#7201a8\"],[0.3333333333333333,\"#9c179e\"],[0.4444444444444444,\"#bd3786\"],[0.5555555555555556,\"#d8576b\"],[0.6666666666666666,\"#ed7953\"],[0.7777777777777778,\"#fb9f3a\"],[0.8888888888888888,\"#fdca26\"],[1.0,\"#f0f921\"]],\"type\":\"surface\"}],\"table\":[{\"cells\":{\"fill\":{\"color\":\"#EBF0F8\"},\"line\":{\"color\":\"white\"}},\"header\":{\"fill\":{\"color\":\"#C8D4E3\"},\"line\":{\"color\":\"white\"}},\"type\":\"table\"}]},\"layout\":{\"annotationdefaults\":{\"arrowcolor\":\"#2a3f5f\",\"arrowhead\":0,\"arrowwidth\":1},\"autotypenumbers\":\"strict\",\"coloraxis\":{\"colorbar\":{\"outlinewidth\":0,\"ticks\":\"\"}},\"colorscale\":{\"diverging\":[[0,\"#8e0152\"],[0.1,\"#c51b7d\"],[0.2,\"#de77ae\"],[0.3,\"#f1b6da\"],[0.4,\"#fde0ef\"],[0.5,\"#f7f7f7\"],[0.6,\"#e6f5d0\"],[0.7,\"#b8e186\"],[0.8,\"#7fbc41\"],[0.9,\"#4d9221\"],[1,\"#276419\"]],\"sequential\":[[0.0,\"#0d0887\"],[0.1111111111111111,\"#46039f\"],[0.2222222222222222,\"#7201a8\"],[0.3333333333333333,\"#9c179e\"],[0.4444444444444444,\"#bd3786\"],[0.5555555555555556,\"#d8576b\"],[0.6666666666666666,\"#ed7953\"],[0.7777777777777778,\"#fb9f3a\"],[0.8888888888888888,\"#fdca26\"],[1.0,\"#f0f921\"]],\"sequentialminus\":[[0.0,\"#0d0887\"],[0.1111111111111111,\"#46039f\"],[0.2222222222222222,\"#7201a8\"],[0.3333333333333333,\"#9c179e\"],[0.4444444444444444,\"#bd3786\"],[0.5555555555555556,\"#d8576b\"],[0.6666666666666666,\"#ed7953\"],[0.7777777777777778,\"#fb9f3a\"],[0.8888888888888888,\"#fdca26\"],[1.0,\"#f0f921\"]]},\"colorway\":[\"#636efa\",\"#EF553B\",\"#00cc96\",\"#ab63fa\",\"#FFA15A\",\"#19d3f3\",\"#FF6692\",\"#B6E880\",\"#FF97FF\",\"#FECB52\"],\"font\":{\"color\":\"#2a3f5f\"},\"geo\":{\"bgcolor\":\"white\",\"lakecolor\":\"white\",\"landcolor\":\"#E5ECF6\",\"showlakes\":true,\"showland\":true,\"subunitcolor\":\"white\"},\"hoverlabel\":{\"align\":\"left\"},\"hovermode\":\"closest\",\"mapbox\":{\"style\":\"light\"},\"paper_bgcolor\":\"white\",\"plot_bgcolor\":\"#E5ECF6\",\"polar\":{\"angularaxis\":{\"gridcolor\":\"white\",\"linecolor\":\"white\",\"ticks\":\"\"},\"bgcolor\":\"#E5ECF6\",\"radialaxis\":{\"gridcolor\":\"white\",\"linecolor\":\"white\",\"ticks\":\"\"}},\"scene\":{\"xaxis\":{\"backgroundcolor\":\"#E5ECF6\",\"gridcolor\":\"white\",\"gridwidth\":2,\"linecolor\":\"white\",\"showbackground\":true,\"ticks\":\"\",\"zerolinecolor\":\"white\"},\"yaxis\":{\"backgroundcolor\":\"#E5ECF6\",\"gridcolor\":\"white\",\"gridwidth\":2,\"linecolor\":\"white\",\"showbackground\":true,\"ticks\":\"\",\"zerolinecolor\":\"white\"},\"zaxis\":{\"backgroundcolor\":\"#E5ECF6\",\"gridcolor\":\"white\",\"gridwidth\":2,\"linecolor\":\"white\",\"showbackground\":true,\"ticks\":\"\",\"zerolinecolor\":\"white\"}},\"shapedefaults\":{\"line\":{\"color\":\"#2a3f5f\"}},\"ternary\":{\"aaxis\":{\"gridcolor\":\"white\",\"linecolor\":\"white\",\"ticks\":\"\"},\"baxis\":{\"gridcolor\":\"white\",\"linecolor\":\"white\",\"ticks\":\"\"},\"bgcolor\":\"#E5ECF6\",\"caxis\":{\"gridcolor\":\"white\",\"linecolor\":\"white\",\"ticks\":\"\"}},\"title\":{\"x\":0.05},\"xaxis\":{\"automargin\":true,\"gridcolor\":\"white\",\"linecolor\":\"white\",\"ticks\":\"\",\"title\":{\"standoff\":15},\"zerolinecolor\":\"white\",\"zerolinewidth\":2},\"yaxis\":{\"automargin\":true,\"gridcolor\":\"white\",\"linecolor\":\"white\",\"ticks\":\"\",\"title\":{\"standoff\":15},\"zerolinecolor\":\"white\",\"zerolinewidth\":2}}},\"width\":500,\"xaxis\":{\"range\":[0,1]},\"yaxis\":{\"range\":[0,1]}},                        {\"responsive\": true}                    ).then(function(){\n",
       "                            \n",
       "var gd = document.getElementById('ba8e5fd8-0c52-4317-b97c-c1662bb6690c');\n",
       "var x = new MutationObserver(function (mutations, observer) {{\n",
       "        var display = window.getComputedStyle(gd).display;\n",
       "        if (!display || display === 'none') {{\n",
       "            console.log([gd, 'removed!']);\n",
       "            Plotly.purge(gd);\n",
       "            observer.disconnect();\n",
       "        }}\n",
       "}});\n",
       "\n",
       "// Listen for the removal of the full notebook cells\n",
       "var notebookContainer = gd.closest('#notebook-container');\n",
       "if (notebookContainer) {{\n",
       "    x.observe(notebookContainer, {childList: true});\n",
       "}}\n",
       "\n",
       "// Listen for the clearing of the current output cell\n",
       "var outputEl = gd.closest('.output');\n",
       "if (outputEl) {{\n",
       "    x.observe(outputEl, {childList: true});\n",
       "}}\n",
       "\n",
       "                        })                };                });            </script>        </div>"
      ]
     },
     "metadata": {},
     "output_type": "display_data"
    }
   ],
   "source": [
    "result.plot_property('type')"
   ]
  },
  {
   "cell_type": "code",
   "execution_count": 8,
   "metadata": {},
   "outputs": [
    {
     "data": {
      "text/html": [
       "        <script type=\"text/javascript\">\n",
       "        window.PlotlyConfig = {MathJaxConfig: 'local'};\n",
       "        if (window.MathJax) {MathJax.Hub.Config({SVG: {font: \"STIX-Web\"}});}\n",
       "        if (typeof require !== 'undefined') {\n",
       "        require.undef(\"plotly\");\n",
       "        requirejs.config({\n",
       "            paths: {\n",
       "                'plotly': ['https://cdn.plot.ly/plotly-2.4.2.min']\n",
       "            }\n",
       "        });\n",
       "        require(['plotly'], function(Plotly) {\n",
       "            window._Plotly = Plotly;\n",
       "        });\n",
       "        }\n",
       "        </script>\n",
       "        "
      ]
     },
     "metadata": {},
     "output_type": "display_data"
    },
    {
     "data": {
      "application/vnd.plotly.v1+json": {
       "config": {
        "linkText": "Export to plot.ly",
        "plotlyServerURL": "https://plot.ly",
        "showLink": false
       },
       "data": [
        {
         "marker": {
          "color": [
           0,
           0,
           2,
           0,
           1,
           0,
           2,
           0,
           1,
           0,
           1,
           2,
           0,
           0,
           1,
           1,
           0,
           2,
           1,
           1,
           1,
           1,
           2,
           0,
           3,
           0,
           0,
           1,
           2,
           0,
           2,
           1,
           3,
           0,
           2,
           2,
           0,
           3,
           1,
           0,
           2,
           3,
           1,
           2,
           1,
           0,
           1,
           0,
           0,
           0,
           2,
           0,
           4,
           0,
           0,
           1,
           3,
           2,
           2,
           1,
           0,
           1,
           3,
           0,
           1,
           1,
           0,
           0,
           0,
           0,
           2,
           0,
           2,
           2,
           3,
           0,
           1,
           2,
           1,
           0,
           1,
           1,
           2,
           1,
           0,
           0,
           2,
           1,
           1,
           2,
           1,
           1,
           0,
           2,
           0,
           1,
           0,
           1,
           0,
           0
          ],
          "colorbar": {
           "thickness": 20,
           "title": {
            "text": "rabbits"
           }
          },
          "colorscale": [
           [
            0,
            "#0508b8"
           ],
           [
            0.08333333333333333,
            "#1910d8"
           ],
           [
            0.16666666666666666,
            "#3c19f0"
           ],
           [
            0.25,
            "#6b1cfb"
           ],
           [
            0.3333333333333333,
            "#981cfd"
           ],
           [
            0.4166666666666667,
            "#bf1cfd"
           ],
           [
            0.5,
            "#dd2bfd"
           ],
           [
            0.5833333333333334,
            "#f246fe"
           ],
           [
            0.6666666666666666,
            "#fc67fd"
           ],
           [
            0.75,
            "#fe88fc"
           ],
           [
            0.8333333333333334,
            "#fea5fd"
           ],
           [
            0.9166666666666666,
            "#febefe"
           ],
           [
            1,
            "#fec3fe"
           ]
          ],
          "size": 5
         },
         "mode": "markers",
         "name": "rabbits",
         "type": "scatter",
         "x": [
          0,
          0,
          0,
          0,
          0,
          0,
          0,
          0,
          0,
          0,
          0.1111111119389534,
          0.1111111119389534,
          0.1111111119389534,
          0.1111111119389534,
          0.1111111119389534,
          0.1111111119389534,
          0.1111111119389534,
          0.1111111119389534,
          0.1111111119389534,
          0.1111111119389534,
          0.2222222238779068,
          0.2222222238779068,
          0.2222222238779068,
          0.2222222238779068,
          0.2222222238779068,
          0.2222222238779068,
          0.2222222238779068,
          0.2222222238779068,
          0.2222222238779068,
          0.2222222238779068,
          0.3333333432674408,
          0.3333333432674408,
          0.3333333432674408,
          0.3333333432674408,
          0.3333333432674408,
          0.3333333432674408,
          0.3333333432674408,
          0.3333333432674408,
          0.3333333432674408,
          0.3333333432674408,
          0.4444444477558136,
          0.4444444477558136,
          0.4444444477558136,
          0.4444444477558136,
          0.4444444477558136,
          0.4444444477558136,
          0.4444444477558136,
          0.4444444477558136,
          0.4444444477558136,
          0.4444444477558136,
          0.5555555820465088,
          0.5555555820465088,
          0.5555555820465088,
          0.5555555820465088,
          0.5555555820465088,
          0.5555555820465088,
          0.5555555820465088,
          0.5555555820465088,
          0.5555555820465088,
          0.5555555820465088,
          0.6666666865348816,
          0.6666666865348816,
          0.6666666865348816,
          0.6666666865348816,
          0.6666666865348816,
          0.6666666865348816,
          0.6666666865348816,
          0.6666666865348816,
          0.6666666865348816,
          0.6666666865348816,
          0.7777777910232544,
          0.7777777910232544,
          0.7777777910232544,
          0.7777777910232544,
          0.7777777910232544,
          0.7777777910232544,
          0.7777777910232544,
          0.7777777910232544,
          0.7777777910232544,
          0.7777777910232544,
          0.8888888955116272,
          0.8888888955116272,
          0.8888888955116272,
          0.8888888955116272,
          0.8888888955116272,
          0.8888888955116272,
          0.8888888955116272,
          0.8888888955116272,
          0.8888888955116272,
          0.8888888955116272,
          1,
          1,
          1,
          1,
          1,
          1,
          1,
          1,
          1,
          1
         ],
         "y": [
          0,
          0.1111111119389534,
          0.2222222238779068,
          0.3333333432674408,
          0.4444444477558136,
          0.5555555820465088,
          0.6666666865348816,
          0.7777777910232544,
          0.8888888955116272,
          1,
          0,
          0.1111111119389534,
          0.2222222238779068,
          0.3333333432674408,
          0.4444444477558136,
          0.5555555820465088,
          0.6666666865348816,
          0.7777777910232544,
          0.8888888955116272,
          1,
          0,
          0.1111111119389534,
          0.2222222238779068,
          0.3333333432674408,
          0.4444444477558136,
          0.5555555820465088,
          0.6666666865348816,
          0.7777777910232544,
          0.8888888955116272,
          1,
          0,
          0.1111111119389534,
          0.2222222238779068,
          0.3333333432674408,
          0.4444444477558136,
          0.5555555820465088,
          0.6666666865348816,
          0.7777777910232544,
          0.8888888955116272,
          1,
          0,
          0.1111111119389534,
          0.2222222238779068,
          0.3333333432674408,
          0.4444444477558136,
          0.5555555820465088,
          0.6666666865348816,
          0.7777777910232544,
          0.8888888955116272,
          1,
          0,
          0.1111111119389534,
          0.2222222238779068,
          0.3333333432674408,
          0.4444444477558136,
          0.5555555820465088,
          0.6666666865348816,
          0.7777777910232544,
          0.8888888955116272,
          1,
          0,
          0.1111111119389534,
          0.2222222238779068,
          0.3333333432674408,
          0.4444444477558136,
          0.5555555820465088,
          0.6666666865348816,
          0.7777777910232544,
          0.8888888955116272,
          1,
          0,
          0.1111111119389534,
          0.2222222238779068,
          0.3333333432674408,
          0.4444444477558136,
          0.5555555820465088,
          0.6666666865348816,
          0.7777777910232544,
          0.8888888955116272,
          1,
          0,
          0.1111111119389534,
          0.2222222238779068,
          0.3333333432674408,
          0.4444444477558136,
          0.5555555820465088,
          0.6666666865348816,
          0.7777777910232544,
          0.8888888955116272,
          1,
          0,
          0.1111111119389534,
          0.2222222238779068,
          0.3333333432674408,
          0.4444444477558136,
          0.5555555820465088,
          0.6666666865348816,
          0.7777777910232544,
          0.8888888955116272,
          1
         ]
        }
       ],
       "frames": [
        {
         "data": [
          {
           "marker": {
            "cmax": 4.1,
            "cmin": -0.1,
            "color": [
             0,
             0,
             2,
             0,
             1,
             0,
             2,
             0,
             1,
             0,
             1,
             2,
             0,
             0,
             1,
             1,
             0,
             2,
             1,
             1,
             1,
             1,
             2,
             0,
             3,
             0,
             0,
             1,
             2,
             0,
             2,
             1,
             3,
             0,
             2,
             2,
             0,
             3,
             1,
             0,
             2,
             3,
             1,
             2,
             1,
             0,
             1,
             0,
             0,
             0,
             2,
             0,
             4,
             0,
             0,
             1,
             3,
             2,
             2,
             1,
             0,
             1,
             3,
             0,
             1,
             1,
             0,
             0,
             0,
             0,
             2,
             0,
             2,
             2,
             3,
             0,
             1,
             2,
             1,
             0,
             1,
             1,
             2,
             1,
             0,
             0,
             2,
             1,
             1,
             2,
             1,
             1,
             0,
             2,
             0,
             1,
             0,
             1,
             0,
             0
            ],
            "colorbar": {
             "thickness": 20,
             "title": {
              "text": "rabbits"
             }
            },
            "colorscale": [
             [
              0,
              "#0508b8"
             ],
             [
              0.08333333333333333,
              "#1910d8"
             ],
             [
              0.16666666666666666,
              "#3c19f0"
             ],
             [
              0.25,
              "#6b1cfb"
             ],
             [
              0.3333333333333333,
              "#981cfd"
             ],
             [
              0.4166666666666667,
              "#bf1cfd"
             ],
             [
              0.5,
              "#dd2bfd"
             ],
             [
              0.5833333333333334,
              "#f246fe"
             ],
             [
              0.6666666666666666,
              "#fc67fd"
             ],
             [
              0.75,
              "#fe88fc"
             ],
             [
              0.8333333333333334,
              "#fea5fd"
             ],
             [
              0.9166666666666666,
              "#febefe"
             ],
             [
              1,
              "#fec3fe"
             ]
            ],
            "size": 5
           },
           "mode": "markers",
           "name": "rabbits",
           "type": "scatter",
           "x": [
            0,
            0,
            0,
            0,
            0,
            0,
            0,
            0,
            0,
            0,
            0.1111111119389534,
            0.1111111119389534,
            0.1111111119389534,
            0.1111111119389534,
            0.1111111119389534,
            0.1111111119389534,
            0.1111111119389534,
            0.1111111119389534,
            0.1111111119389534,
            0.1111111119389534,
            0.2222222238779068,
            0.2222222238779068,
            0.2222222238779068,
            0.2222222238779068,
            0.2222222238779068,
            0.2222222238779068,
            0.2222222238779068,
            0.2222222238779068,
            0.2222222238779068,
            0.2222222238779068,
            0.3333333432674408,
            0.3333333432674408,
            0.3333333432674408,
            0.3333333432674408,
            0.3333333432674408,
            0.3333333432674408,
            0.3333333432674408,
            0.3333333432674408,
            0.3333333432674408,
            0.3333333432674408,
            0.4444444477558136,
            0.4444444477558136,
            0.4444444477558136,
            0.4444444477558136,
            0.4444444477558136,
            0.4444444477558136,
            0.4444444477558136,
            0.4444444477558136,
            0.4444444477558136,
            0.4444444477558136,
            0.5555555820465088,
            0.5555555820465088,
            0.5555555820465088,
            0.5555555820465088,
            0.5555555820465088,
            0.5555555820465088,
            0.5555555820465088,
            0.5555555820465088,
            0.5555555820465088,
            0.5555555820465088,
            0.6666666865348816,
            0.6666666865348816,
            0.6666666865348816,
            0.6666666865348816,
            0.6666666865348816,
            0.6666666865348816,
            0.6666666865348816,
            0.6666666865348816,
            0.6666666865348816,
            0.6666666865348816,
            0.7777777910232544,
            0.7777777910232544,
            0.7777777910232544,
            0.7777777910232544,
            0.7777777910232544,
            0.7777777910232544,
            0.7777777910232544,
            0.7777777910232544,
            0.7777777910232544,
            0.7777777910232544,
            0.8888888955116272,
            0.8888888955116272,
            0.8888888955116272,
            0.8888888955116272,
            0.8888888955116272,
            0.8888888955116272,
            0.8888888955116272,
            0.8888888955116272,
            0.8888888955116272,
            0.8888888955116272,
            1,
            1,
            1,
            1,
            1,
            1,
            1,
            1,
            1,
            1
           ],
           "y": [
            0,
            0.1111111119389534,
            0.2222222238779068,
            0.3333333432674408,
            0.4444444477558136,
            0.5555555820465088,
            0.6666666865348816,
            0.7777777910232544,
            0.8888888955116272,
            1,
            0,
            0.1111111119389534,
            0.2222222238779068,
            0.3333333432674408,
            0.4444444477558136,
            0.5555555820465088,
            0.6666666865348816,
            0.7777777910232544,
            0.8888888955116272,
            1,
            0,
            0.1111111119389534,
            0.2222222238779068,
            0.3333333432674408,
            0.4444444477558136,
            0.5555555820465088,
            0.6666666865348816,
            0.7777777910232544,
            0.8888888955116272,
            1,
            0,
            0.1111111119389534,
            0.2222222238779068,
            0.3333333432674408,
            0.4444444477558136,
            0.5555555820465088,
            0.6666666865348816,
            0.7777777910232544,
            0.8888888955116272,
            1,
            0,
            0.1111111119389534,
            0.2222222238779068,
            0.3333333432674408,
            0.4444444477558136,
            0.5555555820465088,
            0.6666666865348816,
            0.7777777910232544,
            0.8888888955116272,
            1,
            0,
            0.1111111119389534,
            0.2222222238779068,
            0.3333333432674408,
            0.4444444477558136,
            0.5555555820465088,
            0.6666666865348816,
            0.7777777910232544,
            0.8888888955116272,
            1,
            0,
            0.1111111119389534,
            0.2222222238779068,
            0.3333333432674408,
            0.4444444477558136,
            0.5555555820465088,
            0.6666666865348816,
            0.7777777910232544,
            0.8888888955116272,
            1,
            0,
            0.1111111119389534,
            0.2222222238779068,
            0.3333333432674408,
            0.4444444477558136,
            0.5555555820465088,
            0.6666666865348816,
            0.7777777910232544,
            0.8888888955116272,
            1,
            0,
            0.1111111119389534,
            0.2222222238779068,
            0.3333333432674408,
            0.4444444477558136,
            0.5555555820465088,
            0.6666666865348816,
            0.7777777910232544,
            0.8888888955116272,
            1,
            0,
            0.1111111119389534,
            0.2222222238779068,
            0.3333333432674408,
            0.4444444477558136,
            0.5555555820465088,
            0.6666666865348816,
            0.7777777910232544,
            0.8888888955116272,
            1
           ]
          }
         ],
         "name": "0.0"
        },
        {
         "data": [
          {
           "marker": {
            "cmax": 4.1,
            "cmin": -0.1,
            "color": [
             1,
             0,
             1,
             1,
             0,
             1,
             0,
             1,
             1,
             2,
             1,
             0,
             0,
             1,
             3,
             1,
             2,
             1,
             1,
             0,
             1,
             0,
             0,
             1,
             7,
             1,
             0,
             0,
             1,
             1,
             2,
             2,
             3,
             1,
             0,
             3,
             0,
             0,
             0,
             1,
             0,
             0,
             1,
             1,
             2,
             0,
             3,
             1,
             1,
             1,
             1,
             0,
             0,
             1,
             1,
             2,
             4,
             0,
             3,
             0,
             2,
             0,
             3,
             2,
             3,
             2,
             1,
             0,
             2,
             0,
             1,
             1,
             3,
             1,
             1,
             0,
             3,
             1,
             0,
             0,
             3,
             1,
             1,
             3,
             2,
             1,
             0,
             0,
             0,
             0,
             2,
             0,
             0,
             0,
             0,
             3,
             0,
             1,
             1,
             1
            ],
            "colorbar": {
             "thickness": 20,
             "title": {
              "text": "rabbits"
             }
            },
            "colorscale": [
             [
              0,
              "#0508b8"
             ],
             [
              0.08333333333333333,
              "#1910d8"
             ],
             [
              0.16666666666666666,
              "#3c19f0"
             ],
             [
              0.25,
              "#6b1cfb"
             ],
             [
              0.3333333333333333,
              "#981cfd"
             ],
             [
              0.4166666666666667,
              "#bf1cfd"
             ],
             [
              0.5,
              "#dd2bfd"
             ],
             [
              0.5833333333333334,
              "#f246fe"
             ],
             [
              0.6666666666666666,
              "#fc67fd"
             ],
             [
              0.75,
              "#fe88fc"
             ],
             [
              0.8333333333333334,
              "#fea5fd"
             ],
             [
              0.9166666666666666,
              "#febefe"
             ],
             [
              1,
              "#fec3fe"
             ]
            ],
            "size": 5
           },
           "mode": "markers",
           "name": "rabbits",
           "type": "scatter",
           "x": [
            0,
            0,
            0,
            0,
            0,
            0,
            0,
            0,
            0,
            0,
            0.1111111119389534,
            0.1111111119389534,
            0.1111111119389534,
            0.1111111119389534,
            0.1111111119389534,
            0.1111111119389534,
            0.1111111119389534,
            0.1111111119389534,
            0.1111111119389534,
            0.1111111119389534,
            0.2222222238779068,
            0.2222222238779068,
            0.2222222238779068,
            0.2222222238779068,
            0.2222222238779068,
            0.2222222238779068,
            0.2222222238779068,
            0.2222222238779068,
            0.2222222238779068,
            0.2222222238779068,
            0.3333333432674408,
            0.3333333432674408,
            0.3333333432674408,
            0.3333333432674408,
            0.3333333432674408,
            0.3333333432674408,
            0.3333333432674408,
            0.3333333432674408,
            0.3333333432674408,
            0.3333333432674408,
            0.4444444477558136,
            0.4444444477558136,
            0.4444444477558136,
            0.4444444477558136,
            0.4444444477558136,
            0.4444444477558136,
            0.4444444477558136,
            0.4444444477558136,
            0.4444444477558136,
            0.4444444477558136,
            0.5555555820465088,
            0.5555555820465088,
            0.5555555820465088,
            0.5555555820465088,
            0.5555555820465088,
            0.5555555820465088,
            0.5555555820465088,
            0.5555555820465088,
            0.5555555820465088,
            0.5555555820465088,
            0.6666666865348816,
            0.6666666865348816,
            0.6666666865348816,
            0.6666666865348816,
            0.6666666865348816,
            0.6666666865348816,
            0.6666666865348816,
            0.6666666865348816,
            0.6666666865348816,
            0.6666666865348816,
            0.7777777910232544,
            0.7777777910232544,
            0.7777777910232544,
            0.7777777910232544,
            0.7777777910232544,
            0.7777777910232544,
            0.7777777910232544,
            0.7777777910232544,
            0.7777777910232544,
            0.7777777910232544,
            0.8888888955116272,
            0.8888888955116272,
            0.8888888955116272,
            0.8888888955116272,
            0.8888888955116272,
            0.8888888955116272,
            0.8888888955116272,
            0.8888888955116272,
            0.8888888955116272,
            0.8888888955116272,
            1,
            1,
            1,
            1,
            1,
            1,
            1,
            1,
            1,
            1
           ],
           "y": [
            0,
            0.1111111119389534,
            0.2222222238779068,
            0.3333333432674408,
            0.4444444477558136,
            0.5555555820465088,
            0.6666666865348816,
            0.7777777910232544,
            0.8888888955116272,
            1,
            0,
            0.1111111119389534,
            0.2222222238779068,
            0.3333333432674408,
            0.4444444477558136,
            0.5555555820465088,
            0.6666666865348816,
            0.7777777910232544,
            0.8888888955116272,
            1,
            0,
            0.1111111119389534,
            0.2222222238779068,
            0.3333333432674408,
            0.4444444477558136,
            0.5555555820465088,
            0.6666666865348816,
            0.7777777910232544,
            0.8888888955116272,
            1,
            0,
            0.1111111119389534,
            0.2222222238779068,
            0.3333333432674408,
            0.4444444477558136,
            0.5555555820465088,
            0.6666666865348816,
            0.7777777910232544,
            0.8888888955116272,
            1,
            0,
            0.1111111119389534,
            0.2222222238779068,
            0.3333333432674408,
            0.4444444477558136,
            0.5555555820465088,
            0.6666666865348816,
            0.7777777910232544,
            0.8888888955116272,
            1,
            0,
            0.1111111119389534,
            0.2222222238779068,
            0.3333333432674408,
            0.4444444477558136,
            0.5555555820465088,
            0.6666666865348816,
            0.7777777910232544,
            0.8888888955116272,
            1,
            0,
            0.1111111119389534,
            0.2222222238779068,
            0.3333333432674408,
            0.4444444477558136,
            0.5555555820465088,
            0.6666666865348816,
            0.7777777910232544,
            0.8888888955116272,
            1,
            0,
            0.1111111119389534,
            0.2222222238779068,
            0.3333333432674408,
            0.4444444477558136,
            0.5555555820465088,
            0.6666666865348816,
            0.7777777910232544,
            0.8888888955116272,
            1,
            0,
            0.1111111119389534,
            0.2222222238779068,
            0.3333333432674408,
            0.4444444477558136,
            0.5555555820465088,
            0.6666666865348816,
            0.7777777910232544,
            0.8888888955116272,
            1,
            0,
            0.1111111119389534,
            0.2222222238779068,
            0.3333333432674408,
            0.4444444477558136,
            0.5555555820465088,
            0.6666666865348816,
            0.7777777910232544,
            0.8888888955116272,
            1
           ]
          }
         ],
         "name": "1.0"
        },
        {
         "data": [
          {
           "marker": {
            "cmax": 4.1,
            "cmin": -0.1,
            "color": [
             1,
             1,
             1,
             1,
             1,
             1,
             0,
             1,
             2,
             1,
             0,
             3,
             0,
             1,
             1,
             4,
             3,
             0,
             4,
             1,
             0,
             0,
             2,
             0,
             1,
             2,
             0,
             1,
             1,
             1,
             1,
             3,
             3,
             2,
             1,
             2,
             2,
             1,
             2,
             0,
             0,
             1,
             0,
             2,
             0,
             4,
             3,
             0,
             0,
             1,
             0,
             4,
             0,
             1,
             1,
             0,
             0,
             0,
             1,
             2,
             2,
             3,
             1,
             1,
             0,
             2,
             1,
             0,
             4,
             0,
             2,
             3,
             2,
             1,
             0,
             1,
             0,
             0,
             0,
             4,
             0,
             3,
             0,
             0,
             2,
             3,
             2,
             0,
             0,
             1,
             5,
             1,
             1,
             0,
             2,
             3,
             2,
             0,
             0,
             0
            ],
            "colorbar": {
             "thickness": 20,
             "title": {
              "text": "rabbits"
             }
            },
            "colorscale": [
             [
              0,
              "#0508b8"
             ],
             [
              0.08333333333333333,
              "#1910d8"
             ],
             [
              0.16666666666666666,
              "#3c19f0"
             ],
             [
              0.25,
              "#6b1cfb"
             ],
             [
              0.3333333333333333,
              "#981cfd"
             ],
             [
              0.4166666666666667,
              "#bf1cfd"
             ],
             [
              0.5,
              "#dd2bfd"
             ],
             [
              0.5833333333333334,
              "#f246fe"
             ],
             [
              0.6666666666666666,
              "#fc67fd"
             ],
             [
              0.75,
              "#fe88fc"
             ],
             [
              0.8333333333333334,
              "#fea5fd"
             ],
             [
              0.9166666666666666,
              "#febefe"
             ],
             [
              1,
              "#fec3fe"
             ]
            ],
            "size": 5
           },
           "mode": "markers",
           "name": "rabbits",
           "type": "scatter",
           "x": [
            0,
            0,
            0,
            0,
            0,
            0,
            0,
            0,
            0,
            0,
            0.1111111119389534,
            0.1111111119389534,
            0.1111111119389534,
            0.1111111119389534,
            0.1111111119389534,
            0.1111111119389534,
            0.1111111119389534,
            0.1111111119389534,
            0.1111111119389534,
            0.1111111119389534,
            0.2222222238779068,
            0.2222222238779068,
            0.2222222238779068,
            0.2222222238779068,
            0.2222222238779068,
            0.2222222238779068,
            0.2222222238779068,
            0.2222222238779068,
            0.2222222238779068,
            0.2222222238779068,
            0.3333333432674408,
            0.3333333432674408,
            0.3333333432674408,
            0.3333333432674408,
            0.3333333432674408,
            0.3333333432674408,
            0.3333333432674408,
            0.3333333432674408,
            0.3333333432674408,
            0.3333333432674408,
            0.4444444477558136,
            0.4444444477558136,
            0.4444444477558136,
            0.4444444477558136,
            0.4444444477558136,
            0.4444444477558136,
            0.4444444477558136,
            0.4444444477558136,
            0.4444444477558136,
            0.4444444477558136,
            0.5555555820465088,
            0.5555555820465088,
            0.5555555820465088,
            0.5555555820465088,
            0.5555555820465088,
            0.5555555820465088,
            0.5555555820465088,
            0.5555555820465088,
            0.5555555820465088,
            0.5555555820465088,
            0.6666666865348816,
            0.6666666865348816,
            0.6666666865348816,
            0.6666666865348816,
            0.6666666865348816,
            0.6666666865348816,
            0.6666666865348816,
            0.6666666865348816,
            0.6666666865348816,
            0.6666666865348816,
            0.7777777910232544,
            0.7777777910232544,
            0.7777777910232544,
            0.7777777910232544,
            0.7777777910232544,
            0.7777777910232544,
            0.7777777910232544,
            0.7777777910232544,
            0.7777777910232544,
            0.7777777910232544,
            0.8888888955116272,
            0.8888888955116272,
            0.8888888955116272,
            0.8888888955116272,
            0.8888888955116272,
            0.8888888955116272,
            0.8888888955116272,
            0.8888888955116272,
            0.8888888955116272,
            0.8888888955116272,
            1,
            1,
            1,
            1,
            1,
            1,
            1,
            1,
            1,
            1
           ],
           "y": [
            0,
            0.1111111119389534,
            0.2222222238779068,
            0.3333333432674408,
            0.4444444477558136,
            0.5555555820465088,
            0.6666666865348816,
            0.7777777910232544,
            0.8888888955116272,
            1,
            0,
            0.1111111119389534,
            0.2222222238779068,
            0.3333333432674408,
            0.4444444477558136,
            0.5555555820465088,
            0.6666666865348816,
            0.7777777910232544,
            0.8888888955116272,
            1,
            0,
            0.1111111119389534,
            0.2222222238779068,
            0.3333333432674408,
            0.4444444477558136,
            0.5555555820465088,
            0.6666666865348816,
            0.7777777910232544,
            0.8888888955116272,
            1,
            0,
            0.1111111119389534,
            0.2222222238779068,
            0.3333333432674408,
            0.4444444477558136,
            0.5555555820465088,
            0.6666666865348816,
            0.7777777910232544,
            0.8888888955116272,
            1,
            0,
            0.1111111119389534,
            0.2222222238779068,
            0.3333333432674408,
            0.4444444477558136,
            0.5555555820465088,
            0.6666666865348816,
            0.7777777910232544,
            0.8888888955116272,
            1,
            0,
            0.1111111119389534,
            0.2222222238779068,
            0.3333333432674408,
            0.4444444477558136,
            0.5555555820465088,
            0.6666666865348816,
            0.7777777910232544,
            0.8888888955116272,
            1,
            0,
            0.1111111119389534,
            0.2222222238779068,
            0.3333333432674408,
            0.4444444477558136,
            0.5555555820465088,
            0.6666666865348816,
            0.7777777910232544,
            0.8888888955116272,
            1,
            0,
            0.1111111119389534,
            0.2222222238779068,
            0.3333333432674408,
            0.4444444477558136,
            0.5555555820465088,
            0.6666666865348816,
            0.7777777910232544,
            0.8888888955116272,
            1,
            0,
            0.1111111119389534,
            0.2222222238779068,
            0.3333333432674408,
            0.4444444477558136,
            0.5555555820465088,
            0.6666666865348816,
            0.7777777910232544,
            0.8888888955116272,
            1,
            0,
            0.1111111119389534,
            0.2222222238779068,
            0.3333333432674408,
            0.4444444477558136,
            0.5555555820465088,
            0.6666666865348816,
            0.7777777910232544,
            0.8888888955116272,
            1
           ]
          }
         ],
         "name": "2.0"
        },
        {
         "data": [
          {
           "marker": {
            "cmax": 4.1,
            "cmin": -0.1,
            "color": [
             0,
             0,
             1,
             0,
             1,
             2,
             0,
             2,
             3,
             3,
             0,
             1,
             0,
             3,
             1,
             1,
             2,
             0,
             1,
             1,
             2,
             0,
             0,
             4,
             4,
             2,
             0,
             1,
             1,
             0,
             3,
             3,
             3,
             1,
             1,
             0,
             2,
             4,
             4,
             0,
             2,
             0,
             1,
             1,
             2,
             1,
             1,
             0,
             1,
             0,
             0,
             0,
             1,
             0,
             3,
             0,
             2,
             1,
             3,
             1,
             3,
             2,
             1,
             0,
             0,
             1,
             1,
             5,
             1,
             3,
             1,
             3,
             1,
             1,
             1,
             3,
             1,
             0,
             1,
             2,
             2,
             2,
             4,
             1,
             3,
             1,
             2,
             2,
             1,
             1,
             2,
             1,
             3,
             2,
             0,
             0,
             1,
             2,
             0,
             0
            ],
            "colorbar": {
             "thickness": 20,
             "title": {
              "text": "rabbits"
             }
            },
            "colorscale": [
             [
              0,
              "#0508b8"
             ],
             [
              0.08333333333333333,
              "#1910d8"
             ],
             [
              0.16666666666666666,
              "#3c19f0"
             ],
             [
              0.25,
              "#6b1cfb"
             ],
             [
              0.3333333333333333,
              "#981cfd"
             ],
             [
              0.4166666666666667,
              "#bf1cfd"
             ],
             [
              0.5,
              "#dd2bfd"
             ],
             [
              0.5833333333333334,
              "#f246fe"
             ],
             [
              0.6666666666666666,
              "#fc67fd"
             ],
             [
              0.75,
              "#fe88fc"
             ],
             [
              0.8333333333333334,
              "#fea5fd"
             ],
             [
              0.9166666666666666,
              "#febefe"
             ],
             [
              1,
              "#fec3fe"
             ]
            ],
            "size": 5
           },
           "mode": "markers",
           "name": "rabbits",
           "type": "scatter",
           "x": [
            0,
            0,
            0,
            0,
            0,
            0,
            0,
            0,
            0,
            0,
            0.1111111119389534,
            0.1111111119389534,
            0.1111111119389534,
            0.1111111119389534,
            0.1111111119389534,
            0.1111111119389534,
            0.1111111119389534,
            0.1111111119389534,
            0.1111111119389534,
            0.1111111119389534,
            0.2222222238779068,
            0.2222222238779068,
            0.2222222238779068,
            0.2222222238779068,
            0.2222222238779068,
            0.2222222238779068,
            0.2222222238779068,
            0.2222222238779068,
            0.2222222238779068,
            0.2222222238779068,
            0.3333333432674408,
            0.3333333432674408,
            0.3333333432674408,
            0.3333333432674408,
            0.3333333432674408,
            0.3333333432674408,
            0.3333333432674408,
            0.3333333432674408,
            0.3333333432674408,
            0.3333333432674408,
            0.4444444477558136,
            0.4444444477558136,
            0.4444444477558136,
            0.4444444477558136,
            0.4444444477558136,
            0.4444444477558136,
            0.4444444477558136,
            0.4444444477558136,
            0.4444444477558136,
            0.4444444477558136,
            0.5555555820465088,
            0.5555555820465088,
            0.5555555820465088,
            0.5555555820465088,
            0.5555555820465088,
            0.5555555820465088,
            0.5555555820465088,
            0.5555555820465088,
            0.5555555820465088,
            0.5555555820465088,
            0.6666666865348816,
            0.6666666865348816,
            0.6666666865348816,
            0.6666666865348816,
            0.6666666865348816,
            0.6666666865348816,
            0.6666666865348816,
            0.6666666865348816,
            0.6666666865348816,
            0.6666666865348816,
            0.7777777910232544,
            0.7777777910232544,
            0.7777777910232544,
            0.7777777910232544,
            0.7777777910232544,
            0.7777777910232544,
            0.7777777910232544,
            0.7777777910232544,
            0.7777777910232544,
            0.7777777910232544,
            0.8888888955116272,
            0.8888888955116272,
            0.8888888955116272,
            0.8888888955116272,
            0.8888888955116272,
            0.8888888955116272,
            0.8888888955116272,
            0.8888888955116272,
            0.8888888955116272,
            0.8888888955116272,
            1,
            1,
            1,
            1,
            1,
            1,
            1,
            1,
            1,
            1
           ],
           "y": [
            0,
            0.1111111119389534,
            0.2222222238779068,
            0.3333333432674408,
            0.4444444477558136,
            0.5555555820465088,
            0.6666666865348816,
            0.7777777910232544,
            0.8888888955116272,
            1,
            0,
            0.1111111119389534,
            0.2222222238779068,
            0.3333333432674408,
            0.4444444477558136,
            0.5555555820465088,
            0.6666666865348816,
            0.7777777910232544,
            0.8888888955116272,
            1,
            0,
            0.1111111119389534,
            0.2222222238779068,
            0.3333333432674408,
            0.4444444477558136,
            0.5555555820465088,
            0.6666666865348816,
            0.7777777910232544,
            0.8888888955116272,
            1,
            0,
            0.1111111119389534,
            0.2222222238779068,
            0.3333333432674408,
            0.4444444477558136,
            0.5555555820465088,
            0.6666666865348816,
            0.7777777910232544,
            0.8888888955116272,
            1,
            0,
            0.1111111119389534,
            0.2222222238779068,
            0.3333333432674408,
            0.4444444477558136,
            0.5555555820465088,
            0.6666666865348816,
            0.7777777910232544,
            0.8888888955116272,
            1,
            0,
            0.1111111119389534,
            0.2222222238779068,
            0.3333333432674408,
            0.4444444477558136,
            0.5555555820465088,
            0.6666666865348816,
            0.7777777910232544,
            0.8888888955116272,
            1,
            0,
            0.1111111119389534,
            0.2222222238779068,
            0.3333333432674408,
            0.4444444477558136,
            0.5555555820465088,
            0.6666666865348816,
            0.7777777910232544,
            0.8888888955116272,
            1,
            0,
            0.1111111119389534,
            0.2222222238779068,
            0.3333333432674408,
            0.4444444477558136,
            0.5555555820465088,
            0.6666666865348816,
            0.7777777910232544,
            0.8888888955116272,
            1,
            0,
            0.1111111119389534,
            0.2222222238779068,
            0.3333333432674408,
            0.4444444477558136,
            0.5555555820465088,
            0.6666666865348816,
            0.7777777910232544,
            0.8888888955116272,
            1,
            0,
            0.1111111119389534,
            0.2222222238779068,
            0.3333333432674408,
            0.4444444477558136,
            0.5555555820465088,
            0.6666666865348816,
            0.7777777910232544,
            0.8888888955116272,
            1
           ]
          }
         ],
         "name": "3.0"
        },
        {
         "data": [
          {
           "marker": {
            "cmax": 4.1,
            "cmin": -0.1,
            "color": [
             1,
             2,
             1,
             2,
             5,
             0,
             1,
             5,
             4,
             0,
             0,
             1,
             0,
             1,
             3,
             1,
             4,
             3,
             1,
             3,
             1,
             0,
             0,
             1,
             2,
             1,
             2,
             1,
             1,
             0,
             3,
             4,
             1,
             0,
             2,
             0,
             1,
             2,
             3,
             0,
             2,
             1,
             2,
             0,
             2,
             1,
             1,
             5,
             3,
             0,
             1,
             3,
             2,
             1,
             1,
             1,
             0,
             0,
             2,
             1,
             2,
             1,
             0,
             3,
             1,
             2,
             0,
             1,
             0,
             1,
             1,
             0,
             2,
             2,
             0,
             2,
             1,
             2,
             3,
             3,
             3,
             3,
             2,
             2,
             1,
             0,
             2,
             0,
             3,
             2,
             2,
             1,
             3,
             1,
             2,
             1,
             0,
             2,
             1,
             1
            ],
            "colorbar": {
             "thickness": 20,
             "title": {
              "text": "rabbits"
             }
            },
            "colorscale": [
             [
              0,
              "#0508b8"
             ],
             [
              0.08333333333333333,
              "#1910d8"
             ],
             [
              0.16666666666666666,
              "#3c19f0"
             ],
             [
              0.25,
              "#6b1cfb"
             ],
             [
              0.3333333333333333,
              "#981cfd"
             ],
             [
              0.4166666666666667,
              "#bf1cfd"
             ],
             [
              0.5,
              "#dd2bfd"
             ],
             [
              0.5833333333333334,
              "#f246fe"
             ],
             [
              0.6666666666666666,
              "#fc67fd"
             ],
             [
              0.75,
              "#fe88fc"
             ],
             [
              0.8333333333333334,
              "#fea5fd"
             ],
             [
              0.9166666666666666,
              "#febefe"
             ],
             [
              1,
              "#fec3fe"
             ]
            ],
            "size": 5
           },
           "mode": "markers",
           "name": "rabbits",
           "type": "scatter",
           "x": [
            0,
            0,
            0,
            0,
            0,
            0,
            0,
            0,
            0,
            0,
            0.1111111119389534,
            0.1111111119389534,
            0.1111111119389534,
            0.1111111119389534,
            0.1111111119389534,
            0.1111111119389534,
            0.1111111119389534,
            0.1111111119389534,
            0.1111111119389534,
            0.1111111119389534,
            0.2222222238779068,
            0.2222222238779068,
            0.2222222238779068,
            0.2222222238779068,
            0.2222222238779068,
            0.2222222238779068,
            0.2222222238779068,
            0.2222222238779068,
            0.2222222238779068,
            0.2222222238779068,
            0.3333333432674408,
            0.3333333432674408,
            0.3333333432674408,
            0.3333333432674408,
            0.3333333432674408,
            0.3333333432674408,
            0.3333333432674408,
            0.3333333432674408,
            0.3333333432674408,
            0.3333333432674408,
            0.4444444477558136,
            0.4444444477558136,
            0.4444444477558136,
            0.4444444477558136,
            0.4444444477558136,
            0.4444444477558136,
            0.4444444477558136,
            0.4444444477558136,
            0.4444444477558136,
            0.4444444477558136,
            0.5555555820465088,
            0.5555555820465088,
            0.5555555820465088,
            0.5555555820465088,
            0.5555555820465088,
            0.5555555820465088,
            0.5555555820465088,
            0.5555555820465088,
            0.5555555820465088,
            0.5555555820465088,
            0.6666666865348816,
            0.6666666865348816,
            0.6666666865348816,
            0.6666666865348816,
            0.6666666865348816,
            0.6666666865348816,
            0.6666666865348816,
            0.6666666865348816,
            0.6666666865348816,
            0.6666666865348816,
            0.7777777910232544,
            0.7777777910232544,
            0.7777777910232544,
            0.7777777910232544,
            0.7777777910232544,
            0.7777777910232544,
            0.7777777910232544,
            0.7777777910232544,
            0.7777777910232544,
            0.7777777910232544,
            0.8888888955116272,
            0.8888888955116272,
            0.8888888955116272,
            0.8888888955116272,
            0.8888888955116272,
            0.8888888955116272,
            0.8888888955116272,
            0.8888888955116272,
            0.8888888955116272,
            0.8888888955116272,
            1,
            1,
            1,
            1,
            1,
            1,
            1,
            1,
            1,
            1
           ],
           "y": [
            0,
            0.1111111119389534,
            0.2222222238779068,
            0.3333333432674408,
            0.4444444477558136,
            0.5555555820465088,
            0.6666666865348816,
            0.7777777910232544,
            0.8888888955116272,
            1,
            0,
            0.1111111119389534,
            0.2222222238779068,
            0.3333333432674408,
            0.4444444477558136,
            0.5555555820465088,
            0.6666666865348816,
            0.7777777910232544,
            0.8888888955116272,
            1,
            0,
            0.1111111119389534,
            0.2222222238779068,
            0.3333333432674408,
            0.4444444477558136,
            0.5555555820465088,
            0.6666666865348816,
            0.7777777910232544,
            0.8888888955116272,
            1,
            0,
            0.1111111119389534,
            0.2222222238779068,
            0.3333333432674408,
            0.4444444477558136,
            0.5555555820465088,
            0.6666666865348816,
            0.7777777910232544,
            0.8888888955116272,
            1,
            0,
            0.1111111119389534,
            0.2222222238779068,
            0.3333333432674408,
            0.4444444477558136,
            0.5555555820465088,
            0.6666666865348816,
            0.7777777910232544,
            0.8888888955116272,
            1,
            0,
            0.1111111119389534,
            0.2222222238779068,
            0.3333333432674408,
            0.4444444477558136,
            0.5555555820465088,
            0.6666666865348816,
            0.7777777910232544,
            0.8888888955116272,
            1,
            0,
            0.1111111119389534,
            0.2222222238779068,
            0.3333333432674408,
            0.4444444477558136,
            0.5555555820465088,
            0.6666666865348816,
            0.7777777910232544,
            0.8888888955116272,
            1,
            0,
            0.1111111119389534,
            0.2222222238779068,
            0.3333333432674408,
            0.4444444477558136,
            0.5555555820465088,
            0.6666666865348816,
            0.7777777910232544,
            0.8888888955116272,
            1,
            0,
            0.1111111119389534,
            0.2222222238779068,
            0.3333333432674408,
            0.4444444477558136,
            0.5555555820465088,
            0.6666666865348816,
            0.7777777910232544,
            0.8888888955116272,
            1,
            0,
            0.1111111119389534,
            0.2222222238779068,
            0.3333333432674408,
            0.4444444477558136,
            0.5555555820465088,
            0.6666666865348816,
            0.7777777910232544,
            0.8888888955116272,
            1
           ]
          }
         ],
         "name": "4.0"
        },
        {
         "data": [
          {
           "marker": {
            "cmax": 4.1,
            "cmin": -0.1,
            "color": [
             1,
             1,
             2,
             0,
             2,
             8,
             1,
             2,
             4,
             5,
             2,
             2,
             0,
             5,
             1,
             3,
             0,
             1,
             2,
             0,
             0,
             0,
             4,
             3,
             0,
             2,
             1,
             3,
             3,
             2,
             1,
             2,
             1,
             2,
             2,
             1,
             2,
             1,
             1,
             3,
             0,
             1,
             1,
             1,
             1,
             3,
             0,
             3,
             2,
             1,
             4,
             1,
             2,
             2,
             1,
             1,
             0,
             2,
             0,
             2,
             1,
             0,
             3,
             2,
             2,
             3,
             1,
             1,
             3,
             3,
             6,
             1,
             2,
             2,
             0,
             1,
             1,
             3,
             1,
             0,
             0,
             1,
             2,
             0,
             0,
             0,
             0,
             2,
             1,
             2,
             3,
             1,
             2,
             1,
             1,
             3,
             2,
             0,
             1,
             4
            ],
            "colorbar": {
             "thickness": 20,
             "title": {
              "text": "rabbits"
             }
            },
            "colorscale": [
             [
              0,
              "#0508b8"
             ],
             [
              0.08333333333333333,
              "#1910d8"
             ],
             [
              0.16666666666666666,
              "#3c19f0"
             ],
             [
              0.25,
              "#6b1cfb"
             ],
             [
              0.3333333333333333,
              "#981cfd"
             ],
             [
              0.4166666666666667,
              "#bf1cfd"
             ],
             [
              0.5,
              "#dd2bfd"
             ],
             [
              0.5833333333333334,
              "#f246fe"
             ],
             [
              0.6666666666666666,
              "#fc67fd"
             ],
             [
              0.75,
              "#fe88fc"
             ],
             [
              0.8333333333333334,
              "#fea5fd"
             ],
             [
              0.9166666666666666,
              "#febefe"
             ],
             [
              1,
              "#fec3fe"
             ]
            ],
            "size": 5
           },
           "mode": "markers",
           "name": "rabbits",
           "type": "scatter",
           "x": [
            0,
            0,
            0,
            0,
            0,
            0,
            0,
            0,
            0,
            0,
            0.1111111119389534,
            0.1111111119389534,
            0.1111111119389534,
            0.1111111119389534,
            0.1111111119389534,
            0.1111111119389534,
            0.1111111119389534,
            0.1111111119389534,
            0.1111111119389534,
            0.1111111119389534,
            0.2222222238779068,
            0.2222222238779068,
            0.2222222238779068,
            0.2222222238779068,
            0.2222222238779068,
            0.2222222238779068,
            0.2222222238779068,
            0.2222222238779068,
            0.2222222238779068,
            0.2222222238779068,
            0.3333333432674408,
            0.3333333432674408,
            0.3333333432674408,
            0.3333333432674408,
            0.3333333432674408,
            0.3333333432674408,
            0.3333333432674408,
            0.3333333432674408,
            0.3333333432674408,
            0.3333333432674408,
            0.4444444477558136,
            0.4444444477558136,
            0.4444444477558136,
            0.4444444477558136,
            0.4444444477558136,
            0.4444444477558136,
            0.4444444477558136,
            0.4444444477558136,
            0.4444444477558136,
            0.4444444477558136,
            0.5555555820465088,
            0.5555555820465088,
            0.5555555820465088,
            0.5555555820465088,
            0.5555555820465088,
            0.5555555820465088,
            0.5555555820465088,
            0.5555555820465088,
            0.5555555820465088,
            0.5555555820465088,
            0.6666666865348816,
            0.6666666865348816,
            0.6666666865348816,
            0.6666666865348816,
            0.6666666865348816,
            0.6666666865348816,
            0.6666666865348816,
            0.6666666865348816,
            0.6666666865348816,
            0.6666666865348816,
            0.7777777910232544,
            0.7777777910232544,
            0.7777777910232544,
            0.7777777910232544,
            0.7777777910232544,
            0.7777777910232544,
            0.7777777910232544,
            0.7777777910232544,
            0.7777777910232544,
            0.7777777910232544,
            0.8888888955116272,
            0.8888888955116272,
            0.8888888955116272,
            0.8888888955116272,
            0.8888888955116272,
            0.8888888955116272,
            0.8888888955116272,
            0.8888888955116272,
            0.8888888955116272,
            0.8888888955116272,
            1,
            1,
            1,
            1,
            1,
            1,
            1,
            1,
            1,
            1
           ],
           "y": [
            0,
            0.1111111119389534,
            0.2222222238779068,
            0.3333333432674408,
            0.4444444477558136,
            0.5555555820465088,
            0.6666666865348816,
            0.7777777910232544,
            0.8888888955116272,
            1,
            0,
            0.1111111119389534,
            0.2222222238779068,
            0.3333333432674408,
            0.4444444477558136,
            0.5555555820465088,
            0.6666666865348816,
            0.7777777910232544,
            0.8888888955116272,
            1,
            0,
            0.1111111119389534,
            0.2222222238779068,
            0.3333333432674408,
            0.4444444477558136,
            0.5555555820465088,
            0.6666666865348816,
            0.7777777910232544,
            0.8888888955116272,
            1,
            0,
            0.1111111119389534,
            0.2222222238779068,
            0.3333333432674408,
            0.4444444477558136,
            0.5555555820465088,
            0.6666666865348816,
            0.7777777910232544,
            0.8888888955116272,
            1,
            0,
            0.1111111119389534,
            0.2222222238779068,
            0.3333333432674408,
            0.4444444477558136,
            0.5555555820465088,
            0.6666666865348816,
            0.7777777910232544,
            0.8888888955116272,
            1,
            0,
            0.1111111119389534,
            0.2222222238779068,
            0.3333333432674408,
            0.4444444477558136,
            0.5555555820465088,
            0.6666666865348816,
            0.7777777910232544,
            0.8888888955116272,
            1,
            0,
            0.1111111119389534,
            0.2222222238779068,
            0.3333333432674408,
            0.4444444477558136,
            0.5555555820465088,
            0.6666666865348816,
            0.7777777910232544,
            0.8888888955116272,
            1,
            0,
            0.1111111119389534,
            0.2222222238779068,
            0.3333333432674408,
            0.4444444477558136,
            0.5555555820465088,
            0.6666666865348816,
            0.7777777910232544,
            0.8888888955116272,
            1,
            0,
            0.1111111119389534,
            0.2222222238779068,
            0.3333333432674408,
            0.4444444477558136,
            0.5555555820465088,
            0.6666666865348816,
            0.7777777910232544,
            0.8888888955116272,
            1,
            0,
            0.1111111119389534,
            0.2222222238779068,
            0.3333333432674408,
            0.4444444477558136,
            0.5555555820465088,
            0.6666666865348816,
            0.7777777910232544,
            0.8888888955116272,
            1
           ]
          }
         ],
         "name": "5.0"
        },
        {
         "data": [
          {
           "marker": {
            "cmax": 4.1,
            "cmin": -0.1,
            "color": [
             2,
             0,
             1,
             2,
             2,
             6,
             5,
             1,
             1,
             2,
             4,
             1,
             0,
             5,
             4,
             3,
             0,
             3,
             4,
             2,
             0,
             1,
             1,
             1,
             3,
             1,
             1,
             2,
             2,
             2,
             1,
             3,
             2,
             0,
             0,
             2,
             3,
             2,
             1,
             2,
             1,
             0,
             3,
             4,
             2,
             1,
             2,
             6,
             3,
             3,
             2,
             1,
             0,
             4,
             2,
             1,
             1,
             1,
             3,
             1,
             0,
             1,
             0,
             1,
             0,
             2,
             0,
             2,
             2,
             1,
             3,
             3,
             6,
             0,
             1,
             1,
             1,
             5,
             0,
             1,
             0,
             1,
             2,
             0,
             0,
             5,
             2,
             2,
             2,
             3,
             2,
             1,
             3,
             0,
             4,
             3,
             2,
             0,
             3,
             0
            ],
            "colorbar": {
             "thickness": 20,
             "title": {
              "text": "rabbits"
             }
            },
            "colorscale": [
             [
              0,
              "#0508b8"
             ],
             [
              0.08333333333333333,
              "#1910d8"
             ],
             [
              0.16666666666666666,
              "#3c19f0"
             ],
             [
              0.25,
              "#6b1cfb"
             ],
             [
              0.3333333333333333,
              "#981cfd"
             ],
             [
              0.4166666666666667,
              "#bf1cfd"
             ],
             [
              0.5,
              "#dd2bfd"
             ],
             [
              0.5833333333333334,
              "#f246fe"
             ],
             [
              0.6666666666666666,
              "#fc67fd"
             ],
             [
              0.75,
              "#fe88fc"
             ],
             [
              0.8333333333333334,
              "#fea5fd"
             ],
             [
              0.9166666666666666,
              "#febefe"
             ],
             [
              1,
              "#fec3fe"
             ]
            ],
            "size": 5
           },
           "mode": "markers",
           "name": "rabbits",
           "type": "scatter",
           "x": [
            0,
            0,
            0,
            0,
            0,
            0,
            0,
            0,
            0,
            0,
            0.1111111119389534,
            0.1111111119389534,
            0.1111111119389534,
            0.1111111119389534,
            0.1111111119389534,
            0.1111111119389534,
            0.1111111119389534,
            0.1111111119389534,
            0.1111111119389534,
            0.1111111119389534,
            0.2222222238779068,
            0.2222222238779068,
            0.2222222238779068,
            0.2222222238779068,
            0.2222222238779068,
            0.2222222238779068,
            0.2222222238779068,
            0.2222222238779068,
            0.2222222238779068,
            0.2222222238779068,
            0.3333333432674408,
            0.3333333432674408,
            0.3333333432674408,
            0.3333333432674408,
            0.3333333432674408,
            0.3333333432674408,
            0.3333333432674408,
            0.3333333432674408,
            0.3333333432674408,
            0.3333333432674408,
            0.4444444477558136,
            0.4444444477558136,
            0.4444444477558136,
            0.4444444477558136,
            0.4444444477558136,
            0.4444444477558136,
            0.4444444477558136,
            0.4444444477558136,
            0.4444444477558136,
            0.4444444477558136,
            0.5555555820465088,
            0.5555555820465088,
            0.5555555820465088,
            0.5555555820465088,
            0.5555555820465088,
            0.5555555820465088,
            0.5555555820465088,
            0.5555555820465088,
            0.5555555820465088,
            0.5555555820465088,
            0.6666666865348816,
            0.6666666865348816,
            0.6666666865348816,
            0.6666666865348816,
            0.6666666865348816,
            0.6666666865348816,
            0.6666666865348816,
            0.6666666865348816,
            0.6666666865348816,
            0.6666666865348816,
            0.7777777910232544,
            0.7777777910232544,
            0.7777777910232544,
            0.7777777910232544,
            0.7777777910232544,
            0.7777777910232544,
            0.7777777910232544,
            0.7777777910232544,
            0.7777777910232544,
            0.7777777910232544,
            0.8888888955116272,
            0.8888888955116272,
            0.8888888955116272,
            0.8888888955116272,
            0.8888888955116272,
            0.8888888955116272,
            0.8888888955116272,
            0.8888888955116272,
            0.8888888955116272,
            0.8888888955116272,
            1,
            1,
            1,
            1,
            1,
            1,
            1,
            1,
            1,
            1
           ],
           "y": [
            0,
            0.1111111119389534,
            0.2222222238779068,
            0.3333333432674408,
            0.4444444477558136,
            0.5555555820465088,
            0.6666666865348816,
            0.7777777910232544,
            0.8888888955116272,
            1,
            0,
            0.1111111119389534,
            0.2222222238779068,
            0.3333333432674408,
            0.4444444477558136,
            0.5555555820465088,
            0.6666666865348816,
            0.7777777910232544,
            0.8888888955116272,
            1,
            0,
            0.1111111119389534,
            0.2222222238779068,
            0.3333333432674408,
            0.4444444477558136,
            0.5555555820465088,
            0.6666666865348816,
            0.7777777910232544,
            0.8888888955116272,
            1,
            0,
            0.1111111119389534,
            0.2222222238779068,
            0.3333333432674408,
            0.4444444477558136,
            0.5555555820465088,
            0.6666666865348816,
            0.7777777910232544,
            0.8888888955116272,
            1,
            0,
            0.1111111119389534,
            0.2222222238779068,
            0.3333333432674408,
            0.4444444477558136,
            0.5555555820465088,
            0.6666666865348816,
            0.7777777910232544,
            0.8888888955116272,
            1,
            0,
            0.1111111119389534,
            0.2222222238779068,
            0.3333333432674408,
            0.4444444477558136,
            0.5555555820465088,
            0.6666666865348816,
            0.7777777910232544,
            0.8888888955116272,
            1,
            0,
            0.1111111119389534,
            0.2222222238779068,
            0.3333333432674408,
            0.4444444477558136,
            0.5555555820465088,
            0.6666666865348816,
            0.7777777910232544,
            0.8888888955116272,
            1,
            0,
            0.1111111119389534,
            0.2222222238779068,
            0.3333333432674408,
            0.4444444477558136,
            0.5555555820465088,
            0.6666666865348816,
            0.7777777910232544,
            0.8888888955116272,
            1,
            0,
            0.1111111119389534,
            0.2222222238779068,
            0.3333333432674408,
            0.4444444477558136,
            0.5555555820465088,
            0.6666666865348816,
            0.7777777910232544,
            0.8888888955116272,
            1,
            0,
            0.1111111119389534,
            0.2222222238779068,
            0.3333333432674408,
            0.4444444477558136,
            0.5555555820465088,
            0.6666666865348816,
            0.7777777910232544,
            0.8888888955116272,
            1
           ]
          }
         ],
         "name": "6.0"
        },
        {
         "data": [
          {
           "marker": {
            "cmax": 4.1,
            "cmin": -0.1,
            "color": [
             2,
             1,
             1,
             2,
             3,
             0,
             1,
             4,
             2,
             1,
             0,
             3,
             2,
             2,
             0,
             3,
             2,
             2,
             2,
             3,
             1,
             3,
             1,
             4,
             3,
             2,
             6,
             1,
             1,
             0,
             1,
             1,
             2,
             0,
             0,
             5,
             2,
             4,
             2,
             3,
             1,
             2,
             2,
             5,
             4,
             2,
             2,
             0,
             1,
             0,
             1,
             2,
             3,
             0,
             0,
             2,
             4,
             1,
             0,
             3,
             3,
             3,
             2,
             3,
             0,
             4,
             3,
             2,
             3,
             3,
             3,
             1,
             0,
             5,
             2,
             1,
             2,
             2,
             2,
             3,
             4,
             2,
             2,
             2,
             0,
             1,
             2,
             0,
             3,
             4,
             2,
             2,
             1,
             4,
             2,
             3,
             1,
             3,
             0,
             2
            ],
            "colorbar": {
             "thickness": 20,
             "title": {
              "text": "rabbits"
             }
            },
            "colorscale": [
             [
              0,
              "#0508b8"
             ],
             [
              0.08333333333333333,
              "#1910d8"
             ],
             [
              0.16666666666666666,
              "#3c19f0"
             ],
             [
              0.25,
              "#6b1cfb"
             ],
             [
              0.3333333333333333,
              "#981cfd"
             ],
             [
              0.4166666666666667,
              "#bf1cfd"
             ],
             [
              0.5,
              "#dd2bfd"
             ],
             [
              0.5833333333333334,
              "#f246fe"
             ],
             [
              0.6666666666666666,
              "#fc67fd"
             ],
             [
              0.75,
              "#fe88fc"
             ],
             [
              0.8333333333333334,
              "#fea5fd"
             ],
             [
              0.9166666666666666,
              "#febefe"
             ],
             [
              1,
              "#fec3fe"
             ]
            ],
            "size": 5
           },
           "mode": "markers",
           "name": "rabbits",
           "type": "scatter",
           "x": [
            0,
            0,
            0,
            0,
            0,
            0,
            0,
            0,
            0,
            0,
            0.1111111119389534,
            0.1111111119389534,
            0.1111111119389534,
            0.1111111119389534,
            0.1111111119389534,
            0.1111111119389534,
            0.1111111119389534,
            0.1111111119389534,
            0.1111111119389534,
            0.1111111119389534,
            0.2222222238779068,
            0.2222222238779068,
            0.2222222238779068,
            0.2222222238779068,
            0.2222222238779068,
            0.2222222238779068,
            0.2222222238779068,
            0.2222222238779068,
            0.2222222238779068,
            0.2222222238779068,
            0.3333333432674408,
            0.3333333432674408,
            0.3333333432674408,
            0.3333333432674408,
            0.3333333432674408,
            0.3333333432674408,
            0.3333333432674408,
            0.3333333432674408,
            0.3333333432674408,
            0.3333333432674408,
            0.4444444477558136,
            0.4444444477558136,
            0.4444444477558136,
            0.4444444477558136,
            0.4444444477558136,
            0.4444444477558136,
            0.4444444477558136,
            0.4444444477558136,
            0.4444444477558136,
            0.4444444477558136,
            0.5555555820465088,
            0.5555555820465088,
            0.5555555820465088,
            0.5555555820465088,
            0.5555555820465088,
            0.5555555820465088,
            0.5555555820465088,
            0.5555555820465088,
            0.5555555820465088,
            0.5555555820465088,
            0.6666666865348816,
            0.6666666865348816,
            0.6666666865348816,
            0.6666666865348816,
            0.6666666865348816,
            0.6666666865348816,
            0.6666666865348816,
            0.6666666865348816,
            0.6666666865348816,
            0.6666666865348816,
            0.7777777910232544,
            0.7777777910232544,
            0.7777777910232544,
            0.7777777910232544,
            0.7777777910232544,
            0.7777777910232544,
            0.7777777910232544,
            0.7777777910232544,
            0.7777777910232544,
            0.7777777910232544,
            0.8888888955116272,
            0.8888888955116272,
            0.8888888955116272,
            0.8888888955116272,
            0.8888888955116272,
            0.8888888955116272,
            0.8888888955116272,
            0.8888888955116272,
            0.8888888955116272,
            0.8888888955116272,
            1,
            1,
            1,
            1,
            1,
            1,
            1,
            1,
            1,
            1
           ],
           "y": [
            0,
            0.1111111119389534,
            0.2222222238779068,
            0.3333333432674408,
            0.4444444477558136,
            0.5555555820465088,
            0.6666666865348816,
            0.7777777910232544,
            0.8888888955116272,
            1,
            0,
            0.1111111119389534,
            0.2222222238779068,
            0.3333333432674408,
            0.4444444477558136,
            0.5555555820465088,
            0.6666666865348816,
            0.7777777910232544,
            0.8888888955116272,
            1,
            0,
            0.1111111119389534,
            0.2222222238779068,
            0.3333333432674408,
            0.4444444477558136,
            0.5555555820465088,
            0.6666666865348816,
            0.7777777910232544,
            0.8888888955116272,
            1,
            0,
            0.1111111119389534,
            0.2222222238779068,
            0.3333333432674408,
            0.4444444477558136,
            0.5555555820465088,
            0.6666666865348816,
            0.7777777910232544,
            0.8888888955116272,
            1,
            0,
            0.1111111119389534,
            0.2222222238779068,
            0.3333333432674408,
            0.4444444477558136,
            0.5555555820465088,
            0.6666666865348816,
            0.7777777910232544,
            0.8888888955116272,
            1,
            0,
            0.1111111119389534,
            0.2222222238779068,
            0.3333333432674408,
            0.4444444477558136,
            0.5555555820465088,
            0.6666666865348816,
            0.7777777910232544,
            0.8888888955116272,
            1,
            0,
            0.1111111119389534,
            0.2222222238779068,
            0.3333333432674408,
            0.4444444477558136,
            0.5555555820465088,
            0.6666666865348816,
            0.7777777910232544,
            0.8888888955116272,
            1,
            0,
            0.1111111119389534,
            0.2222222238779068,
            0.3333333432674408,
            0.4444444477558136,
            0.5555555820465088,
            0.6666666865348816,
            0.7777777910232544,
            0.8888888955116272,
            1,
            0,
            0.1111111119389534,
            0.2222222238779068,
            0.3333333432674408,
            0.4444444477558136,
            0.5555555820465088,
            0.6666666865348816,
            0.7777777910232544,
            0.8888888955116272,
            1,
            0,
            0.1111111119389534,
            0.2222222238779068,
            0.3333333432674408,
            0.4444444477558136,
            0.5555555820465088,
            0.6666666865348816,
            0.7777777910232544,
            0.8888888955116272,
            1
           ]
          }
         ],
         "name": "7.0"
        },
        {
         "data": [
          {
           "marker": {
            "cmax": 4.1,
            "cmin": -0.1,
            "color": [
             2,
             2,
             0,
             1,
             4,
             3,
             2,
             3,
             2,
             2,
             1,
             2,
             5,
             1,
             1,
             1,
             2,
             1,
             2,
             2,
             1,
             3,
             2,
             0,
             4,
             3,
             3,
             6,
             2,
             1,
             4,
             1,
             0,
             1,
             4,
             1,
             2,
             3,
             0,
             1,
             2,
             4,
             2,
             4,
             2,
             2,
             3,
             2,
             3,
             2,
             2,
             0,
             4,
             4,
             2,
             2,
             8,
             2,
             1,
             2,
             0,
             4,
             4,
             6,
             0,
             2,
             2,
             3,
             2,
             2,
             2,
             2,
             1,
             3,
             2,
             3,
             4,
             1,
             0,
             4,
             3,
             3,
             3,
             1,
             2,
             1,
             4,
             2,
             1,
             0,
             2,
             3,
             0,
             2,
             1,
             2,
             5,
             3,
             2,
             6
            ],
            "colorbar": {
             "thickness": 20,
             "title": {
              "text": "rabbits"
             }
            },
            "colorscale": [
             [
              0,
              "#0508b8"
             ],
             [
              0.08333333333333333,
              "#1910d8"
             ],
             [
              0.16666666666666666,
              "#3c19f0"
             ],
             [
              0.25,
              "#6b1cfb"
             ],
             [
              0.3333333333333333,
              "#981cfd"
             ],
             [
              0.4166666666666667,
              "#bf1cfd"
             ],
             [
              0.5,
              "#dd2bfd"
             ],
             [
              0.5833333333333334,
              "#f246fe"
             ],
             [
              0.6666666666666666,
              "#fc67fd"
             ],
             [
              0.75,
              "#fe88fc"
             ],
             [
              0.8333333333333334,
              "#fea5fd"
             ],
             [
              0.9166666666666666,
              "#febefe"
             ],
             [
              1,
              "#fec3fe"
             ]
            ],
            "size": 5
           },
           "mode": "markers",
           "name": "rabbits",
           "type": "scatter",
           "x": [
            0,
            0,
            0,
            0,
            0,
            0,
            0,
            0,
            0,
            0,
            0.1111111119389534,
            0.1111111119389534,
            0.1111111119389534,
            0.1111111119389534,
            0.1111111119389534,
            0.1111111119389534,
            0.1111111119389534,
            0.1111111119389534,
            0.1111111119389534,
            0.1111111119389534,
            0.2222222238779068,
            0.2222222238779068,
            0.2222222238779068,
            0.2222222238779068,
            0.2222222238779068,
            0.2222222238779068,
            0.2222222238779068,
            0.2222222238779068,
            0.2222222238779068,
            0.2222222238779068,
            0.3333333432674408,
            0.3333333432674408,
            0.3333333432674408,
            0.3333333432674408,
            0.3333333432674408,
            0.3333333432674408,
            0.3333333432674408,
            0.3333333432674408,
            0.3333333432674408,
            0.3333333432674408,
            0.4444444477558136,
            0.4444444477558136,
            0.4444444477558136,
            0.4444444477558136,
            0.4444444477558136,
            0.4444444477558136,
            0.4444444477558136,
            0.4444444477558136,
            0.4444444477558136,
            0.4444444477558136,
            0.5555555820465088,
            0.5555555820465088,
            0.5555555820465088,
            0.5555555820465088,
            0.5555555820465088,
            0.5555555820465088,
            0.5555555820465088,
            0.5555555820465088,
            0.5555555820465088,
            0.5555555820465088,
            0.6666666865348816,
            0.6666666865348816,
            0.6666666865348816,
            0.6666666865348816,
            0.6666666865348816,
            0.6666666865348816,
            0.6666666865348816,
            0.6666666865348816,
            0.6666666865348816,
            0.6666666865348816,
            0.7777777910232544,
            0.7777777910232544,
            0.7777777910232544,
            0.7777777910232544,
            0.7777777910232544,
            0.7777777910232544,
            0.7777777910232544,
            0.7777777910232544,
            0.7777777910232544,
            0.7777777910232544,
            0.8888888955116272,
            0.8888888955116272,
            0.8888888955116272,
            0.8888888955116272,
            0.8888888955116272,
            0.8888888955116272,
            0.8888888955116272,
            0.8888888955116272,
            0.8888888955116272,
            0.8888888955116272,
            1,
            1,
            1,
            1,
            1,
            1,
            1,
            1,
            1,
            1
           ],
           "y": [
            0,
            0.1111111119389534,
            0.2222222238779068,
            0.3333333432674408,
            0.4444444477558136,
            0.5555555820465088,
            0.6666666865348816,
            0.7777777910232544,
            0.8888888955116272,
            1,
            0,
            0.1111111119389534,
            0.2222222238779068,
            0.3333333432674408,
            0.4444444477558136,
            0.5555555820465088,
            0.6666666865348816,
            0.7777777910232544,
            0.8888888955116272,
            1,
            0,
            0.1111111119389534,
            0.2222222238779068,
            0.3333333432674408,
            0.4444444477558136,
            0.5555555820465088,
            0.6666666865348816,
            0.7777777910232544,
            0.8888888955116272,
            1,
            0,
            0.1111111119389534,
            0.2222222238779068,
            0.3333333432674408,
            0.4444444477558136,
            0.5555555820465088,
            0.6666666865348816,
            0.7777777910232544,
            0.8888888955116272,
            1,
            0,
            0.1111111119389534,
            0.2222222238779068,
            0.3333333432674408,
            0.4444444477558136,
            0.5555555820465088,
            0.6666666865348816,
            0.7777777910232544,
            0.8888888955116272,
            1,
            0,
            0.1111111119389534,
            0.2222222238779068,
            0.3333333432674408,
            0.4444444477558136,
            0.5555555820465088,
            0.6666666865348816,
            0.7777777910232544,
            0.8888888955116272,
            1,
            0,
            0.1111111119389534,
            0.2222222238779068,
            0.3333333432674408,
            0.4444444477558136,
            0.5555555820465088,
            0.6666666865348816,
            0.7777777910232544,
            0.8888888955116272,
            1,
            0,
            0.1111111119389534,
            0.2222222238779068,
            0.3333333432674408,
            0.4444444477558136,
            0.5555555820465088,
            0.6666666865348816,
            0.7777777910232544,
            0.8888888955116272,
            1,
            0,
            0.1111111119389534,
            0.2222222238779068,
            0.3333333432674408,
            0.4444444477558136,
            0.5555555820465088,
            0.6666666865348816,
            0.7777777910232544,
            0.8888888955116272,
            1,
            0,
            0.1111111119389534,
            0.2222222238779068,
            0.3333333432674408,
            0.4444444477558136,
            0.5555555820465088,
            0.6666666865348816,
            0.7777777910232544,
            0.8888888955116272,
            1
           ]
          }
         ],
         "name": "8.0"
        },
        {
         "data": [
          {
           "marker": {
            "cmax": 4.1,
            "cmin": -0.1,
            "color": [
             1,
             3,
             0,
             5,
             5,
             2,
             2,
             2,
             3,
             4,
             4,
             0,
             1,
             2,
             4,
             4,
             4,
             0,
             4,
             1,
             3,
             0,
             2,
             1,
             2,
             2,
             3,
             2,
             2,
             1,
             2,
             3,
             3,
             2,
             3,
             2,
             2,
             1,
             2,
             1,
             0,
             3,
             1,
             5,
             1,
             5,
             3,
             2,
             5,
             2,
             1,
             2,
             5,
             1,
             3,
             2,
             5,
             5,
             2,
             2,
             3,
             3,
             3,
             6,
             7,
             2,
             3,
             2,
             2,
             5,
             1,
             3,
             2,
             1,
             2,
             5,
             2,
             3,
             3,
             2,
             0,
             4,
             1,
             2,
             3,
             3,
             1,
             3,
             3,
             3,
             5,
             2,
             1,
             4,
             3,
             3,
             2,
             3,
             3,
             5
            ],
            "colorbar": {
             "thickness": 20,
             "title": {
              "text": "rabbits"
             }
            },
            "colorscale": [
             [
              0,
              "#0508b8"
             ],
             [
              0.08333333333333333,
              "#1910d8"
             ],
             [
              0.16666666666666666,
              "#3c19f0"
             ],
             [
              0.25,
              "#6b1cfb"
             ],
             [
              0.3333333333333333,
              "#981cfd"
             ],
             [
              0.4166666666666667,
              "#bf1cfd"
             ],
             [
              0.5,
              "#dd2bfd"
             ],
             [
              0.5833333333333334,
              "#f246fe"
             ],
             [
              0.6666666666666666,
              "#fc67fd"
             ],
             [
              0.75,
              "#fe88fc"
             ],
             [
              0.8333333333333334,
              "#fea5fd"
             ],
             [
              0.9166666666666666,
              "#febefe"
             ],
             [
              1,
              "#fec3fe"
             ]
            ],
            "size": 5
           },
           "mode": "markers",
           "name": "rabbits",
           "type": "scatter",
           "x": [
            0,
            0,
            0,
            0,
            0,
            0,
            0,
            0,
            0,
            0,
            0.1111111119389534,
            0.1111111119389534,
            0.1111111119389534,
            0.1111111119389534,
            0.1111111119389534,
            0.1111111119389534,
            0.1111111119389534,
            0.1111111119389534,
            0.1111111119389534,
            0.1111111119389534,
            0.2222222238779068,
            0.2222222238779068,
            0.2222222238779068,
            0.2222222238779068,
            0.2222222238779068,
            0.2222222238779068,
            0.2222222238779068,
            0.2222222238779068,
            0.2222222238779068,
            0.2222222238779068,
            0.3333333432674408,
            0.3333333432674408,
            0.3333333432674408,
            0.3333333432674408,
            0.3333333432674408,
            0.3333333432674408,
            0.3333333432674408,
            0.3333333432674408,
            0.3333333432674408,
            0.3333333432674408,
            0.4444444477558136,
            0.4444444477558136,
            0.4444444477558136,
            0.4444444477558136,
            0.4444444477558136,
            0.4444444477558136,
            0.4444444477558136,
            0.4444444477558136,
            0.4444444477558136,
            0.4444444477558136,
            0.5555555820465088,
            0.5555555820465088,
            0.5555555820465088,
            0.5555555820465088,
            0.5555555820465088,
            0.5555555820465088,
            0.5555555820465088,
            0.5555555820465088,
            0.5555555820465088,
            0.5555555820465088,
            0.6666666865348816,
            0.6666666865348816,
            0.6666666865348816,
            0.6666666865348816,
            0.6666666865348816,
            0.6666666865348816,
            0.6666666865348816,
            0.6666666865348816,
            0.6666666865348816,
            0.6666666865348816,
            0.7777777910232544,
            0.7777777910232544,
            0.7777777910232544,
            0.7777777910232544,
            0.7777777910232544,
            0.7777777910232544,
            0.7777777910232544,
            0.7777777910232544,
            0.7777777910232544,
            0.7777777910232544,
            0.8888888955116272,
            0.8888888955116272,
            0.8888888955116272,
            0.8888888955116272,
            0.8888888955116272,
            0.8888888955116272,
            0.8888888955116272,
            0.8888888955116272,
            0.8888888955116272,
            0.8888888955116272,
            1,
            1,
            1,
            1,
            1,
            1,
            1,
            1,
            1,
            1
           ],
           "y": [
            0,
            0.1111111119389534,
            0.2222222238779068,
            0.3333333432674408,
            0.4444444477558136,
            0.5555555820465088,
            0.6666666865348816,
            0.7777777910232544,
            0.8888888955116272,
            1,
            0,
            0.1111111119389534,
            0.2222222238779068,
            0.3333333432674408,
            0.4444444477558136,
            0.5555555820465088,
            0.6666666865348816,
            0.7777777910232544,
            0.8888888955116272,
            1,
            0,
            0.1111111119389534,
            0.2222222238779068,
            0.3333333432674408,
            0.4444444477558136,
            0.5555555820465088,
            0.6666666865348816,
            0.7777777910232544,
            0.8888888955116272,
            1,
            0,
            0.1111111119389534,
            0.2222222238779068,
            0.3333333432674408,
            0.4444444477558136,
            0.5555555820465088,
            0.6666666865348816,
            0.7777777910232544,
            0.8888888955116272,
            1,
            0,
            0.1111111119389534,
            0.2222222238779068,
            0.3333333432674408,
            0.4444444477558136,
            0.5555555820465088,
            0.6666666865348816,
            0.7777777910232544,
            0.8888888955116272,
            1,
            0,
            0.1111111119389534,
            0.2222222238779068,
            0.3333333432674408,
            0.4444444477558136,
            0.5555555820465088,
            0.6666666865348816,
            0.7777777910232544,
            0.8888888955116272,
            1,
            0,
            0.1111111119389534,
            0.2222222238779068,
            0.3333333432674408,
            0.4444444477558136,
            0.5555555820465088,
            0.6666666865348816,
            0.7777777910232544,
            0.8888888955116272,
            1,
            0,
            0.1111111119389534,
            0.2222222238779068,
            0.3333333432674408,
            0.4444444477558136,
            0.5555555820465088,
            0.6666666865348816,
            0.7777777910232544,
            0.8888888955116272,
            1,
            0,
            0.1111111119389534,
            0.2222222238779068,
            0.3333333432674408,
            0.4444444477558136,
            0.5555555820465088,
            0.6666666865348816,
            0.7777777910232544,
            0.8888888955116272,
            1,
            0,
            0.1111111119389534,
            0.2222222238779068,
            0.3333333432674408,
            0.4444444477558136,
            0.5555555820465088,
            0.6666666865348816,
            0.7777777910232544,
            0.8888888955116272,
            1
           ]
          }
         ],
         "name": "9.0"
        }
       ],
       "layout": {
        "height": 500,
        "scene": {
         "aspectmode": "data"
        },
        "sliders": [
         {
          "active": 0,
          "currentvalue": {
           "font": {
            "size": 20
           },
           "prefix": "Time:",
           "visible": true,
           "xanchor": "right"
          },
          "len": 0.9,
          "pad": {
           "b": 10,
           "t": 50
          },
          "steps": [
           {
            "args": [
             [
              "0.0"
             ],
             {
              "frame": {
               "duration": 500,
               "redraw": true
              },
              "mode": "immediate",
              "transition": {
               "duration": 300
              }
             }
            ],
            "label": "0.0",
            "method": "animate"
           },
           {
            "args": [
             [
              "1.0"
             ],
             {
              "frame": {
               "duration": 500,
               "redraw": true
              },
              "mode": "immediate",
              "transition": {
               "duration": 300
              }
             }
            ],
            "label": "1.0",
            "method": "animate"
           },
           {
            "args": [
             [
              "2.0"
             ],
             {
              "frame": {
               "duration": 500,
               "redraw": true
              },
              "mode": "immediate",
              "transition": {
               "duration": 300
              }
             }
            ],
            "label": "2.0",
            "method": "animate"
           },
           {
            "args": [
             [
              "3.0"
             ],
             {
              "frame": {
               "duration": 500,
               "redraw": true
              },
              "mode": "immediate",
              "transition": {
               "duration": 300
              }
             }
            ],
            "label": "3.0",
            "method": "animate"
           },
           {
            "args": [
             [
              "4.0"
             ],
             {
              "frame": {
               "duration": 500,
               "redraw": true
              },
              "mode": "immediate",
              "transition": {
               "duration": 300
              }
             }
            ],
            "label": "4.0",
            "method": "animate"
           },
           {
            "args": [
             [
              "5.0"
             ],
             {
              "frame": {
               "duration": 500,
               "redraw": true
              },
              "mode": "immediate",
              "transition": {
               "duration": 300
              }
             }
            ],
            "label": "5.0",
            "method": "animate"
           },
           {
            "args": [
             [
              "6.0"
             ],
             {
              "frame": {
               "duration": 500,
               "redraw": true
              },
              "mode": "immediate",
              "transition": {
               "duration": 300
              }
             }
            ],
            "label": "6.0",
            "method": "animate"
           },
           {
            "args": [
             [
              "7.0"
             ],
             {
              "frame": {
               "duration": 500,
               "redraw": true
              },
              "mode": "immediate",
              "transition": {
               "duration": 300
              }
             }
            ],
            "label": "7.0",
            "method": "animate"
           },
           {
            "args": [
             [
              "8.0"
             ],
             {
              "frame": {
               "duration": 500,
               "redraw": true
              },
              "mode": "immediate",
              "transition": {
               "duration": 300
              }
             }
            ],
            "label": "8.0",
            "method": "animate"
           },
           {
            "args": [
             [
              "9.0"
             ],
             {
              "frame": {
               "duration": 500,
               "redraw": true
              },
              "mode": "immediate",
              "transition": {
               "duration": 300
              }
             }
            ],
            "label": "9.0",
            "method": "animate"
           }
          ],
          "transition": {
           "duration": 300,
           "easing": "cubic-in-out"
          },
          "x": 0.1,
          "xanchor": "left",
          "y": 0,
          "yanchor": "top"
         }
        ],
        "template": {
         "data": {
          "bar": [
           {
            "error_x": {
             "color": "#2a3f5f"
            },
            "error_y": {
             "color": "#2a3f5f"
            },
            "marker": {
             "line": {
              "color": "#E5ECF6",
              "width": 0.5
             },
             "pattern": {
              "fillmode": "overlay",
              "size": 10,
              "solidity": 0.2
             }
            },
            "type": "bar"
           }
          ],
          "barpolar": [
           {
            "marker": {
             "line": {
              "color": "#E5ECF6",
              "width": 0.5
             },
             "pattern": {
              "fillmode": "overlay",
              "size": 10,
              "solidity": 0.2
             }
            },
            "type": "barpolar"
           }
          ],
          "carpet": [
           {
            "aaxis": {
             "endlinecolor": "#2a3f5f",
             "gridcolor": "white",
             "linecolor": "white",
             "minorgridcolor": "white",
             "startlinecolor": "#2a3f5f"
            },
            "baxis": {
             "endlinecolor": "#2a3f5f",
             "gridcolor": "white",
             "linecolor": "white",
             "minorgridcolor": "white",
             "startlinecolor": "#2a3f5f"
            },
            "type": "carpet"
           }
          ],
          "choropleth": [
           {
            "colorbar": {
             "outlinewidth": 0,
             "ticks": ""
            },
            "type": "choropleth"
           }
          ],
          "contour": [
           {
            "colorbar": {
             "outlinewidth": 0,
             "ticks": ""
            },
            "colorscale": [
             [
              0,
              "#0d0887"
             ],
             [
              0.1111111111111111,
              "#46039f"
             ],
             [
              0.2222222222222222,
              "#7201a8"
             ],
             [
              0.3333333333333333,
              "#9c179e"
             ],
             [
              0.4444444444444444,
              "#bd3786"
             ],
             [
              0.5555555555555556,
              "#d8576b"
             ],
             [
              0.6666666666666666,
              "#ed7953"
             ],
             [
              0.7777777777777778,
              "#fb9f3a"
             ],
             [
              0.8888888888888888,
              "#fdca26"
             ],
             [
              1,
              "#f0f921"
             ]
            ],
            "type": "contour"
           }
          ],
          "contourcarpet": [
           {
            "colorbar": {
             "outlinewidth": 0,
             "ticks": ""
            },
            "type": "contourcarpet"
           }
          ],
          "heatmap": [
           {
            "colorbar": {
             "outlinewidth": 0,
             "ticks": ""
            },
            "colorscale": [
             [
              0,
              "#0d0887"
             ],
             [
              0.1111111111111111,
              "#46039f"
             ],
             [
              0.2222222222222222,
              "#7201a8"
             ],
             [
              0.3333333333333333,
              "#9c179e"
             ],
             [
              0.4444444444444444,
              "#bd3786"
             ],
             [
              0.5555555555555556,
              "#d8576b"
             ],
             [
              0.6666666666666666,
              "#ed7953"
             ],
             [
              0.7777777777777778,
              "#fb9f3a"
             ],
             [
              0.8888888888888888,
              "#fdca26"
             ],
             [
              1,
              "#f0f921"
             ]
            ],
            "type": "heatmap"
           }
          ],
          "heatmapgl": [
           {
            "colorbar": {
             "outlinewidth": 0,
             "ticks": ""
            },
            "colorscale": [
             [
              0,
              "#0d0887"
             ],
             [
              0.1111111111111111,
              "#46039f"
             ],
             [
              0.2222222222222222,
              "#7201a8"
             ],
             [
              0.3333333333333333,
              "#9c179e"
             ],
             [
              0.4444444444444444,
              "#bd3786"
             ],
             [
              0.5555555555555556,
              "#d8576b"
             ],
             [
              0.6666666666666666,
              "#ed7953"
             ],
             [
              0.7777777777777778,
              "#fb9f3a"
             ],
             [
              0.8888888888888888,
              "#fdca26"
             ],
             [
              1,
              "#f0f921"
             ]
            ],
            "type": "heatmapgl"
           }
          ],
          "histogram": [
           {
            "marker": {
             "pattern": {
              "fillmode": "overlay",
              "size": 10,
              "solidity": 0.2
             }
            },
            "type": "histogram"
           }
          ],
          "histogram2d": [
           {
            "colorbar": {
             "outlinewidth": 0,
             "ticks": ""
            },
            "colorscale": [
             [
              0,
              "#0d0887"
             ],
             [
              0.1111111111111111,
              "#46039f"
             ],
             [
              0.2222222222222222,
              "#7201a8"
             ],
             [
              0.3333333333333333,
              "#9c179e"
             ],
             [
              0.4444444444444444,
              "#bd3786"
             ],
             [
              0.5555555555555556,
              "#d8576b"
             ],
             [
              0.6666666666666666,
              "#ed7953"
             ],
             [
              0.7777777777777778,
              "#fb9f3a"
             ],
             [
              0.8888888888888888,
              "#fdca26"
             ],
             [
              1,
              "#f0f921"
             ]
            ],
            "type": "histogram2d"
           }
          ],
          "histogram2dcontour": [
           {
            "colorbar": {
             "outlinewidth": 0,
             "ticks": ""
            },
            "colorscale": [
             [
              0,
              "#0d0887"
             ],
             [
              0.1111111111111111,
              "#46039f"
             ],
             [
              0.2222222222222222,
              "#7201a8"
             ],
             [
              0.3333333333333333,
              "#9c179e"
             ],
             [
              0.4444444444444444,
              "#bd3786"
             ],
             [
              0.5555555555555556,
              "#d8576b"
             ],
             [
              0.6666666666666666,
              "#ed7953"
             ],
             [
              0.7777777777777778,
              "#fb9f3a"
             ],
             [
              0.8888888888888888,
              "#fdca26"
             ],
             [
              1,
              "#f0f921"
             ]
            ],
            "type": "histogram2dcontour"
           }
          ],
          "mesh3d": [
           {
            "colorbar": {
             "outlinewidth": 0,
             "ticks": ""
            },
            "type": "mesh3d"
           }
          ],
          "parcoords": [
           {
            "line": {
             "colorbar": {
              "outlinewidth": 0,
              "ticks": ""
             }
            },
            "type": "parcoords"
           }
          ],
          "pie": [
           {
            "automargin": true,
            "type": "pie"
           }
          ],
          "scatter": [
           {
            "marker": {
             "colorbar": {
              "outlinewidth": 0,
              "ticks": ""
             }
            },
            "type": "scatter"
           }
          ],
          "scatter3d": [
           {
            "line": {
             "colorbar": {
              "outlinewidth": 0,
              "ticks": ""
             }
            },
            "marker": {
             "colorbar": {
              "outlinewidth": 0,
              "ticks": ""
             }
            },
            "type": "scatter3d"
           }
          ],
          "scattercarpet": [
           {
            "marker": {
             "colorbar": {
              "outlinewidth": 0,
              "ticks": ""
             }
            },
            "type": "scattercarpet"
           }
          ],
          "scattergeo": [
           {
            "marker": {
             "colorbar": {
              "outlinewidth": 0,
              "ticks": ""
             }
            },
            "type": "scattergeo"
           }
          ],
          "scattergl": [
           {
            "marker": {
             "colorbar": {
              "outlinewidth": 0,
              "ticks": ""
             }
            },
            "type": "scattergl"
           }
          ],
          "scattermapbox": [
           {
            "marker": {
             "colorbar": {
              "outlinewidth": 0,
              "ticks": ""
             }
            },
            "type": "scattermapbox"
           }
          ],
          "scatterpolar": [
           {
            "marker": {
             "colorbar": {
              "outlinewidth": 0,
              "ticks": ""
             }
            },
            "type": "scatterpolar"
           }
          ],
          "scatterpolargl": [
           {
            "marker": {
             "colorbar": {
              "outlinewidth": 0,
              "ticks": ""
             }
            },
            "type": "scatterpolargl"
           }
          ],
          "scatterternary": [
           {
            "marker": {
             "colorbar": {
              "outlinewidth": 0,
              "ticks": ""
             }
            },
            "type": "scatterternary"
           }
          ],
          "surface": [
           {
            "colorbar": {
             "outlinewidth": 0,
             "ticks": ""
            },
            "colorscale": [
             [
              0,
              "#0d0887"
             ],
             [
              0.1111111111111111,
              "#46039f"
             ],
             [
              0.2222222222222222,
              "#7201a8"
             ],
             [
              0.3333333333333333,
              "#9c179e"
             ],
             [
              0.4444444444444444,
              "#bd3786"
             ],
             [
              0.5555555555555556,
              "#d8576b"
             ],
             [
              0.6666666666666666,
              "#ed7953"
             ],
             [
              0.7777777777777778,
              "#fb9f3a"
             ],
             [
              0.8888888888888888,
              "#fdca26"
             ],
             [
              1,
              "#f0f921"
             ]
            ],
            "type": "surface"
           }
          ],
          "table": [
           {
            "cells": {
             "fill": {
              "color": "#EBF0F8"
             },
             "line": {
              "color": "white"
             }
            },
            "header": {
             "fill": {
              "color": "#C8D4E3"
             },
             "line": {
              "color": "white"
             }
            },
            "type": "table"
           }
          ]
         },
         "layout": {
          "annotationdefaults": {
           "arrowcolor": "#2a3f5f",
           "arrowhead": 0,
           "arrowwidth": 1
          },
          "autotypenumbers": "strict",
          "coloraxis": {
           "colorbar": {
            "outlinewidth": 0,
            "ticks": ""
           }
          },
          "colorscale": {
           "diverging": [
            [
             0,
             "#8e0152"
            ],
            [
             0.1,
             "#c51b7d"
            ],
            [
             0.2,
             "#de77ae"
            ],
            [
             0.3,
             "#f1b6da"
            ],
            [
             0.4,
             "#fde0ef"
            ],
            [
             0.5,
             "#f7f7f7"
            ],
            [
             0.6,
             "#e6f5d0"
            ],
            [
             0.7,
             "#b8e186"
            ],
            [
             0.8,
             "#7fbc41"
            ],
            [
             0.9,
             "#4d9221"
            ],
            [
             1,
             "#276419"
            ]
           ],
           "sequential": [
            [
             0,
             "#0d0887"
            ],
            [
             0.1111111111111111,
             "#46039f"
            ],
            [
             0.2222222222222222,
             "#7201a8"
            ],
            [
             0.3333333333333333,
             "#9c179e"
            ],
            [
             0.4444444444444444,
             "#bd3786"
            ],
            [
             0.5555555555555556,
             "#d8576b"
            ],
            [
             0.6666666666666666,
             "#ed7953"
            ],
            [
             0.7777777777777778,
             "#fb9f3a"
            ],
            [
             0.8888888888888888,
             "#fdca26"
            ],
            [
             1,
             "#f0f921"
            ]
           ],
           "sequentialminus": [
            [
             0,
             "#0d0887"
            ],
            [
             0.1111111111111111,
             "#46039f"
            ],
            [
             0.2222222222222222,
             "#7201a8"
            ],
            [
             0.3333333333333333,
             "#9c179e"
            ],
            [
             0.4444444444444444,
             "#bd3786"
            ],
            [
             0.5555555555555556,
             "#d8576b"
            ],
            [
             0.6666666666666666,
             "#ed7953"
            ],
            [
             0.7777777777777778,
             "#fb9f3a"
            ],
            [
             0.8888888888888888,
             "#fdca26"
            ],
            [
             1,
             "#f0f921"
            ]
           ]
          },
          "colorway": [
           "#636efa",
           "#EF553B",
           "#00cc96",
           "#ab63fa",
           "#FFA15A",
           "#19d3f3",
           "#FF6692",
           "#B6E880",
           "#FF97FF",
           "#FECB52"
          ],
          "font": {
           "color": "#2a3f5f"
          },
          "geo": {
           "bgcolor": "white",
           "lakecolor": "white",
           "landcolor": "#E5ECF6",
           "showlakes": true,
           "showland": true,
           "subunitcolor": "white"
          },
          "hoverlabel": {
           "align": "left"
          },
          "hovermode": "closest",
          "mapbox": {
           "style": "light"
          },
          "paper_bgcolor": "white",
          "plot_bgcolor": "#E5ECF6",
          "polar": {
           "angularaxis": {
            "gridcolor": "white",
            "linecolor": "white",
            "ticks": ""
           },
           "bgcolor": "#E5ECF6",
           "radialaxis": {
            "gridcolor": "white",
            "linecolor": "white",
            "ticks": ""
           }
          },
          "scene": {
           "xaxis": {
            "backgroundcolor": "#E5ECF6",
            "gridcolor": "white",
            "gridwidth": 2,
            "linecolor": "white",
            "showbackground": true,
            "ticks": "",
            "zerolinecolor": "white"
           },
           "yaxis": {
            "backgroundcolor": "#E5ECF6",
            "gridcolor": "white",
            "gridwidth": 2,
            "linecolor": "white",
            "showbackground": true,
            "ticks": "",
            "zerolinecolor": "white"
           },
           "zaxis": {
            "backgroundcolor": "#E5ECF6",
            "gridcolor": "white",
            "gridwidth": 2,
            "linecolor": "white",
            "showbackground": true,
            "ticks": "",
            "zerolinecolor": "white"
           }
          },
          "shapedefaults": {
           "line": {
            "color": "#2a3f5f"
           }
          },
          "ternary": {
           "aaxis": {
            "gridcolor": "white",
            "linecolor": "white",
            "ticks": ""
           },
           "baxis": {
            "gridcolor": "white",
            "linecolor": "white",
            "ticks": ""
           },
           "bgcolor": "#E5ECF6",
           "caxis": {
            "gridcolor": "white",
            "linecolor": "white",
            "ticks": ""
           }
          },
          "title": {
           "x": 0.05
          },
          "xaxis": {
           "automargin": true,
           "gridcolor": "white",
           "linecolor": "white",
           "ticks": "",
           "title": {
            "standoff": 15
           },
           "zerolinecolor": "white",
           "zerolinewidth": 2
          },
          "yaxis": {
           "automargin": true,
           "gridcolor": "white",
           "linecolor": "white",
           "ticks": "",
           "title": {
            "standoff": 15
           },
           "zerolinecolor": "white",
           "zerolinewidth": 2
          }
         }
        },
        "updatemenus": [
         {
          "buttons": [
           {
            "args": [
             null,
             {
              "frame": {
               "duration": 500,
               "redraw": false
              },
              "fromcurrent": true,
              "transition": {
               "duration": 300,
               "easing": "quadratic-in-out"
              }
             }
            ],
            "label": "Play",
            "method": "animate"
           },
           {
            "args": [
             [
              null
             ],
             {
              "frame": {
               "duration": 0,
               "redraw": false
              },
              "mode": "immediate",
              "transition": {
               "duration": 0
              }
             }
            ],
            "label": "Pause",
            "method": "animate"
           }
          ],
          "direction": "left",
          "pad": {
           "r": 10,
           "t": 87
          },
          "showactive": false,
          "type": "buttons",
          "x": 0.1,
          "xanchor": "right",
          "y": 0,
          "yanchor": "top"
         }
        ],
        "width": 500,
        "xaxis": {
         "range": [
          0,
          1
         ]
        },
        "yaxis": {
         "range": [
          0,
          1
         ]
        }
       }
      },
      "text/html": [
       "<div>                            <div id=\"d9364683-d1e3-4788-857c-6a343bca059b\" class=\"plotly-graph-div\" style=\"height:500px; width:500px;\"></div>            <script type=\"text/javascript\">                require([\"plotly\"], function(Plotly) {                    window.PLOTLYENV=window.PLOTLYENV || {};                                    if (document.getElementById(\"d9364683-d1e3-4788-857c-6a343bca059b\")) {                    Plotly.newPlot(                        \"d9364683-d1e3-4788-857c-6a343bca059b\",                        [{\"marker\":{\"color\":[0,0,2,0,1,0,2,0,1,0,1,2,0,0,1,1,0,2,1,1,1,1,2,0,3,0,0,1,2,0,2,1,3,0,2,2,0,3,1,0,2,3,1,2,1,0,1,0,0,0,2,0,4,0,0,1,3,2,2,1,0,1,3,0,1,1,0,0,0,0,2,0,2,2,3,0,1,2,1,0,1,1,2,1,0,0,2,1,1,2,1,1,0,2,0,1,0,1,0,0],\"colorbar\":{\"thickness\":20,\"title\":{\"text\":\"rabbits\"}},\"colorscale\":[[0.0,\"#0508b8\"],[0.08333333333333333,\"#1910d8\"],[0.16666666666666666,\"#3c19f0\"],[0.25,\"#6b1cfb\"],[0.3333333333333333,\"#981cfd\"],[0.4166666666666667,\"#bf1cfd\"],[0.5,\"#dd2bfd\"],[0.5833333333333334,\"#f246fe\"],[0.6666666666666666,\"#fc67fd\"],[0.75,\"#fe88fc\"],[0.8333333333333334,\"#fea5fd\"],[0.9166666666666666,\"#febefe\"],[1.0,\"#fec3fe\"]],\"size\":5},\"mode\":\"markers\",\"name\":\"rabbits\",\"type\":\"scatter\",\"x\":[0.0,0.0,0.0,0.0,0.0,0.0,0.0,0.0,0.0,0.0,0.1111111119389534,0.1111111119389534,0.1111111119389534,0.1111111119389534,0.1111111119389534,0.1111111119389534,0.1111111119389534,0.1111111119389534,0.1111111119389534,0.1111111119389534,0.2222222238779068,0.2222222238779068,0.2222222238779068,0.2222222238779068,0.2222222238779068,0.2222222238779068,0.2222222238779068,0.2222222238779068,0.2222222238779068,0.2222222238779068,0.3333333432674408,0.3333333432674408,0.3333333432674408,0.3333333432674408,0.3333333432674408,0.3333333432674408,0.3333333432674408,0.3333333432674408,0.3333333432674408,0.3333333432674408,0.4444444477558136,0.4444444477558136,0.4444444477558136,0.4444444477558136,0.4444444477558136,0.4444444477558136,0.4444444477558136,0.4444444477558136,0.4444444477558136,0.4444444477558136,0.5555555820465088,0.5555555820465088,0.5555555820465088,0.5555555820465088,0.5555555820465088,0.5555555820465088,0.5555555820465088,0.5555555820465088,0.5555555820465088,0.5555555820465088,0.6666666865348816,0.6666666865348816,0.6666666865348816,0.6666666865348816,0.6666666865348816,0.6666666865348816,0.6666666865348816,0.6666666865348816,0.6666666865348816,0.6666666865348816,0.7777777910232544,0.7777777910232544,0.7777777910232544,0.7777777910232544,0.7777777910232544,0.7777777910232544,0.7777777910232544,0.7777777910232544,0.7777777910232544,0.7777777910232544,0.8888888955116272,0.8888888955116272,0.8888888955116272,0.8888888955116272,0.8888888955116272,0.8888888955116272,0.8888888955116272,0.8888888955116272,0.8888888955116272,0.8888888955116272,1.0,1.0,1.0,1.0,1.0,1.0,1.0,1.0,1.0,1.0],\"y\":[0.0,0.1111111119389534,0.2222222238779068,0.3333333432674408,0.4444444477558136,0.5555555820465088,0.6666666865348816,0.7777777910232544,0.8888888955116272,1.0,0.0,0.1111111119389534,0.2222222238779068,0.3333333432674408,0.4444444477558136,0.5555555820465088,0.6666666865348816,0.7777777910232544,0.8888888955116272,1.0,0.0,0.1111111119389534,0.2222222238779068,0.3333333432674408,0.4444444477558136,0.5555555820465088,0.6666666865348816,0.7777777910232544,0.8888888955116272,1.0,0.0,0.1111111119389534,0.2222222238779068,0.3333333432674408,0.4444444477558136,0.5555555820465088,0.6666666865348816,0.7777777910232544,0.8888888955116272,1.0,0.0,0.1111111119389534,0.2222222238779068,0.3333333432674408,0.4444444477558136,0.5555555820465088,0.6666666865348816,0.7777777910232544,0.8888888955116272,1.0,0.0,0.1111111119389534,0.2222222238779068,0.3333333432674408,0.4444444477558136,0.5555555820465088,0.6666666865348816,0.7777777910232544,0.8888888955116272,1.0,0.0,0.1111111119389534,0.2222222238779068,0.3333333432674408,0.4444444477558136,0.5555555820465088,0.6666666865348816,0.7777777910232544,0.8888888955116272,1.0,0.0,0.1111111119389534,0.2222222238779068,0.3333333432674408,0.4444444477558136,0.5555555820465088,0.6666666865348816,0.7777777910232544,0.8888888955116272,1.0,0.0,0.1111111119389534,0.2222222238779068,0.3333333432674408,0.4444444477558136,0.5555555820465088,0.6666666865348816,0.7777777910232544,0.8888888955116272,1.0,0.0,0.1111111119389534,0.2222222238779068,0.3333333432674408,0.4444444477558136,0.5555555820465088,0.6666666865348816,0.7777777910232544,0.8888888955116272,1.0]}],                        {\"height\":500,\"scene\":{\"aspectmode\":\"data\"},\"sliders\":[{\"active\":0,\"currentvalue\":{\"font\":{\"size\":20},\"prefix\":\"Time:\",\"visible\":true,\"xanchor\":\"right\"},\"len\":0.9,\"pad\":{\"b\":10,\"t\":50},\"steps\":[{\"args\":[[\"0.0\"],{\"frame\":{\"duration\":500,\"redraw\":true},\"mode\":\"immediate\",\"transition\":{\"duration\":300}}],\"label\":\"0.0\",\"method\":\"animate\"},{\"args\":[[\"1.0\"],{\"frame\":{\"duration\":500,\"redraw\":true},\"mode\":\"immediate\",\"transition\":{\"duration\":300}}],\"label\":\"1.0\",\"method\":\"animate\"},{\"args\":[[\"2.0\"],{\"frame\":{\"duration\":500,\"redraw\":true},\"mode\":\"immediate\",\"transition\":{\"duration\":300}}],\"label\":\"2.0\",\"method\":\"animate\"},{\"args\":[[\"3.0\"],{\"frame\":{\"duration\":500,\"redraw\":true},\"mode\":\"immediate\",\"transition\":{\"duration\":300}}],\"label\":\"3.0\",\"method\":\"animate\"},{\"args\":[[\"4.0\"],{\"frame\":{\"duration\":500,\"redraw\":true},\"mode\":\"immediate\",\"transition\":{\"duration\":300}}],\"label\":\"4.0\",\"method\":\"animate\"},{\"args\":[[\"5.0\"],{\"frame\":{\"duration\":500,\"redraw\":true},\"mode\":\"immediate\",\"transition\":{\"duration\":300}}],\"label\":\"5.0\",\"method\":\"animate\"},{\"args\":[[\"6.0\"],{\"frame\":{\"duration\":500,\"redraw\":true},\"mode\":\"immediate\",\"transition\":{\"duration\":300}}],\"label\":\"6.0\",\"method\":\"animate\"},{\"args\":[[\"7.0\"],{\"frame\":{\"duration\":500,\"redraw\":true},\"mode\":\"immediate\",\"transition\":{\"duration\":300}}],\"label\":\"7.0\",\"method\":\"animate\"},{\"args\":[[\"8.0\"],{\"frame\":{\"duration\":500,\"redraw\":true},\"mode\":\"immediate\",\"transition\":{\"duration\":300}}],\"label\":\"8.0\",\"method\":\"animate\"},{\"args\":[[\"9.0\"],{\"frame\":{\"duration\":500,\"redraw\":true},\"mode\":\"immediate\",\"transition\":{\"duration\":300}}],\"label\":\"9.0\",\"method\":\"animate\"}],\"transition\":{\"duration\":300,\"easing\":\"cubic-in-out\"},\"x\":0.1,\"xanchor\":\"left\",\"y\":0,\"yanchor\":\"top\"}],\"template\":{\"data\":{\"bar\":[{\"error_x\":{\"color\":\"#2a3f5f\"},\"error_y\":{\"color\":\"#2a3f5f\"},\"marker\":{\"line\":{\"color\":\"#E5ECF6\",\"width\":0.5},\"pattern\":{\"fillmode\":\"overlay\",\"size\":10,\"solidity\":0.2}},\"type\":\"bar\"}],\"barpolar\":[{\"marker\":{\"line\":{\"color\":\"#E5ECF6\",\"width\":0.5},\"pattern\":{\"fillmode\":\"overlay\",\"size\":10,\"solidity\":0.2}},\"type\":\"barpolar\"}],\"carpet\":[{\"aaxis\":{\"endlinecolor\":\"#2a3f5f\",\"gridcolor\":\"white\",\"linecolor\":\"white\",\"minorgridcolor\":\"white\",\"startlinecolor\":\"#2a3f5f\"},\"baxis\":{\"endlinecolor\":\"#2a3f5f\",\"gridcolor\":\"white\",\"linecolor\":\"white\",\"minorgridcolor\":\"white\",\"startlinecolor\":\"#2a3f5f\"},\"type\":\"carpet\"}],\"choropleth\":[{\"colorbar\":{\"outlinewidth\":0,\"ticks\":\"\"},\"type\":\"choropleth\"}],\"contour\":[{\"colorbar\":{\"outlinewidth\":0,\"ticks\":\"\"},\"colorscale\":[[0.0,\"#0d0887\"],[0.1111111111111111,\"#46039f\"],[0.2222222222222222,\"#7201a8\"],[0.3333333333333333,\"#9c179e\"],[0.4444444444444444,\"#bd3786\"],[0.5555555555555556,\"#d8576b\"],[0.6666666666666666,\"#ed7953\"],[0.7777777777777778,\"#fb9f3a\"],[0.8888888888888888,\"#fdca26\"],[1.0,\"#f0f921\"]],\"type\":\"contour\"}],\"contourcarpet\":[{\"colorbar\":{\"outlinewidth\":0,\"ticks\":\"\"},\"type\":\"contourcarpet\"}],\"heatmap\":[{\"colorbar\":{\"outlinewidth\":0,\"ticks\":\"\"},\"colorscale\":[[0.0,\"#0d0887\"],[0.1111111111111111,\"#46039f\"],[0.2222222222222222,\"#7201a8\"],[0.3333333333333333,\"#9c179e\"],[0.4444444444444444,\"#bd3786\"],[0.5555555555555556,\"#d8576b\"],[0.6666666666666666,\"#ed7953\"],[0.7777777777777778,\"#fb9f3a\"],[0.8888888888888888,\"#fdca26\"],[1.0,\"#f0f921\"]],\"type\":\"heatmap\"}],\"heatmapgl\":[{\"colorbar\":{\"outlinewidth\":0,\"ticks\":\"\"},\"colorscale\":[[0.0,\"#0d0887\"],[0.1111111111111111,\"#46039f\"],[0.2222222222222222,\"#7201a8\"],[0.3333333333333333,\"#9c179e\"],[0.4444444444444444,\"#bd3786\"],[0.5555555555555556,\"#d8576b\"],[0.6666666666666666,\"#ed7953\"],[0.7777777777777778,\"#fb9f3a\"],[0.8888888888888888,\"#fdca26\"],[1.0,\"#f0f921\"]],\"type\":\"heatmapgl\"}],\"histogram\":[{\"marker\":{\"pattern\":{\"fillmode\":\"overlay\",\"size\":10,\"solidity\":0.2}},\"type\":\"histogram\"}],\"histogram2d\":[{\"colorbar\":{\"outlinewidth\":0,\"ticks\":\"\"},\"colorscale\":[[0.0,\"#0d0887\"],[0.1111111111111111,\"#46039f\"],[0.2222222222222222,\"#7201a8\"],[0.3333333333333333,\"#9c179e\"],[0.4444444444444444,\"#bd3786\"],[0.5555555555555556,\"#d8576b\"],[0.6666666666666666,\"#ed7953\"],[0.7777777777777778,\"#fb9f3a\"],[0.8888888888888888,\"#fdca26\"],[1.0,\"#f0f921\"]],\"type\":\"histogram2d\"}],\"histogram2dcontour\":[{\"colorbar\":{\"outlinewidth\":0,\"ticks\":\"\"},\"colorscale\":[[0.0,\"#0d0887\"],[0.1111111111111111,\"#46039f\"],[0.2222222222222222,\"#7201a8\"],[0.3333333333333333,\"#9c179e\"],[0.4444444444444444,\"#bd3786\"],[0.5555555555555556,\"#d8576b\"],[0.6666666666666666,\"#ed7953\"],[0.7777777777777778,\"#fb9f3a\"],[0.8888888888888888,\"#fdca26\"],[1.0,\"#f0f921\"]],\"type\":\"histogram2dcontour\"}],\"mesh3d\":[{\"colorbar\":{\"outlinewidth\":0,\"ticks\":\"\"},\"type\":\"mesh3d\"}],\"parcoords\":[{\"line\":{\"colorbar\":{\"outlinewidth\":0,\"ticks\":\"\"}},\"type\":\"parcoords\"}],\"pie\":[{\"automargin\":true,\"type\":\"pie\"}],\"scatter\":[{\"marker\":{\"colorbar\":{\"outlinewidth\":0,\"ticks\":\"\"}},\"type\":\"scatter\"}],\"scatter3d\":[{\"line\":{\"colorbar\":{\"outlinewidth\":0,\"ticks\":\"\"}},\"marker\":{\"colorbar\":{\"outlinewidth\":0,\"ticks\":\"\"}},\"type\":\"scatter3d\"}],\"scattercarpet\":[{\"marker\":{\"colorbar\":{\"outlinewidth\":0,\"ticks\":\"\"}},\"type\":\"scattercarpet\"}],\"scattergeo\":[{\"marker\":{\"colorbar\":{\"outlinewidth\":0,\"ticks\":\"\"}},\"type\":\"scattergeo\"}],\"scattergl\":[{\"marker\":{\"colorbar\":{\"outlinewidth\":0,\"ticks\":\"\"}},\"type\":\"scattergl\"}],\"scattermapbox\":[{\"marker\":{\"colorbar\":{\"outlinewidth\":0,\"ticks\":\"\"}},\"type\":\"scattermapbox\"}],\"scatterpolar\":[{\"marker\":{\"colorbar\":{\"outlinewidth\":0,\"ticks\":\"\"}},\"type\":\"scatterpolar\"}],\"scatterpolargl\":[{\"marker\":{\"colorbar\":{\"outlinewidth\":0,\"ticks\":\"\"}},\"type\":\"scatterpolargl\"}],\"scatterternary\":[{\"marker\":{\"colorbar\":{\"outlinewidth\":0,\"ticks\":\"\"}},\"type\":\"scatterternary\"}],\"surface\":[{\"colorbar\":{\"outlinewidth\":0,\"ticks\":\"\"},\"colorscale\":[[0.0,\"#0d0887\"],[0.1111111111111111,\"#46039f\"],[0.2222222222222222,\"#7201a8\"],[0.3333333333333333,\"#9c179e\"],[0.4444444444444444,\"#bd3786\"],[0.5555555555555556,\"#d8576b\"],[0.6666666666666666,\"#ed7953\"],[0.7777777777777778,\"#fb9f3a\"],[0.8888888888888888,\"#fdca26\"],[1.0,\"#f0f921\"]],\"type\":\"surface\"}],\"table\":[{\"cells\":{\"fill\":{\"color\":\"#EBF0F8\"},\"line\":{\"color\":\"white\"}},\"header\":{\"fill\":{\"color\":\"#C8D4E3\"},\"line\":{\"color\":\"white\"}},\"type\":\"table\"}]},\"layout\":{\"annotationdefaults\":{\"arrowcolor\":\"#2a3f5f\",\"arrowhead\":0,\"arrowwidth\":1},\"autotypenumbers\":\"strict\",\"coloraxis\":{\"colorbar\":{\"outlinewidth\":0,\"ticks\":\"\"}},\"colorscale\":{\"diverging\":[[0,\"#8e0152\"],[0.1,\"#c51b7d\"],[0.2,\"#de77ae\"],[0.3,\"#f1b6da\"],[0.4,\"#fde0ef\"],[0.5,\"#f7f7f7\"],[0.6,\"#e6f5d0\"],[0.7,\"#b8e186\"],[0.8,\"#7fbc41\"],[0.9,\"#4d9221\"],[1,\"#276419\"]],\"sequential\":[[0.0,\"#0d0887\"],[0.1111111111111111,\"#46039f\"],[0.2222222222222222,\"#7201a8\"],[0.3333333333333333,\"#9c179e\"],[0.4444444444444444,\"#bd3786\"],[0.5555555555555556,\"#d8576b\"],[0.6666666666666666,\"#ed7953\"],[0.7777777777777778,\"#fb9f3a\"],[0.8888888888888888,\"#fdca26\"],[1.0,\"#f0f921\"]],\"sequentialminus\":[[0.0,\"#0d0887\"],[0.1111111111111111,\"#46039f\"],[0.2222222222222222,\"#7201a8\"],[0.3333333333333333,\"#9c179e\"],[0.4444444444444444,\"#bd3786\"],[0.5555555555555556,\"#d8576b\"],[0.6666666666666666,\"#ed7953\"],[0.7777777777777778,\"#fb9f3a\"],[0.8888888888888888,\"#fdca26\"],[1.0,\"#f0f921\"]]},\"colorway\":[\"#636efa\",\"#EF553B\",\"#00cc96\",\"#ab63fa\",\"#FFA15A\",\"#19d3f3\",\"#FF6692\",\"#B6E880\",\"#FF97FF\",\"#FECB52\"],\"font\":{\"color\":\"#2a3f5f\"},\"geo\":{\"bgcolor\":\"white\",\"lakecolor\":\"white\",\"landcolor\":\"#E5ECF6\",\"showlakes\":true,\"showland\":true,\"subunitcolor\":\"white\"},\"hoverlabel\":{\"align\":\"left\"},\"hovermode\":\"closest\",\"mapbox\":{\"style\":\"light\"},\"paper_bgcolor\":\"white\",\"plot_bgcolor\":\"#E5ECF6\",\"polar\":{\"angularaxis\":{\"gridcolor\":\"white\",\"linecolor\":\"white\",\"ticks\":\"\"},\"bgcolor\":\"#E5ECF6\",\"radialaxis\":{\"gridcolor\":\"white\",\"linecolor\":\"white\",\"ticks\":\"\"}},\"scene\":{\"xaxis\":{\"backgroundcolor\":\"#E5ECF6\",\"gridcolor\":\"white\",\"gridwidth\":2,\"linecolor\":\"white\",\"showbackground\":true,\"ticks\":\"\",\"zerolinecolor\":\"white\"},\"yaxis\":{\"backgroundcolor\":\"#E5ECF6\",\"gridcolor\":\"white\",\"gridwidth\":2,\"linecolor\":\"white\",\"showbackground\":true,\"ticks\":\"\",\"zerolinecolor\":\"white\"},\"zaxis\":{\"backgroundcolor\":\"#E5ECF6\",\"gridcolor\":\"white\",\"gridwidth\":2,\"linecolor\":\"white\",\"showbackground\":true,\"ticks\":\"\",\"zerolinecolor\":\"white\"}},\"shapedefaults\":{\"line\":{\"color\":\"#2a3f5f\"}},\"ternary\":{\"aaxis\":{\"gridcolor\":\"white\",\"linecolor\":\"white\",\"ticks\":\"\"},\"baxis\":{\"gridcolor\":\"white\",\"linecolor\":\"white\",\"ticks\":\"\"},\"bgcolor\":\"#E5ECF6\",\"caxis\":{\"gridcolor\":\"white\",\"linecolor\":\"white\",\"ticks\":\"\"}},\"title\":{\"x\":0.05},\"xaxis\":{\"automargin\":true,\"gridcolor\":\"white\",\"linecolor\":\"white\",\"ticks\":\"\",\"title\":{\"standoff\":15},\"zerolinecolor\":\"white\",\"zerolinewidth\":2},\"yaxis\":{\"automargin\":true,\"gridcolor\":\"white\",\"linecolor\":\"white\",\"ticks\":\"\",\"title\":{\"standoff\":15},\"zerolinecolor\":\"white\",\"zerolinewidth\":2}}},\"updatemenus\":[{\"buttons\":[{\"args\":[null,{\"frame\":{\"duration\":500,\"redraw\":false},\"fromcurrent\":true,\"transition\":{\"duration\":300,\"easing\":\"quadratic-in-out\"}}],\"label\":\"Play\",\"method\":\"animate\"},{\"args\":[[null],{\"frame\":{\"duration\":0,\"redraw\":false},\"mode\":\"immediate\",\"transition\":{\"duration\":0}}],\"label\":\"Pause\",\"method\":\"animate\"}],\"direction\":\"left\",\"pad\":{\"r\":10,\"t\":87},\"showactive\":false,\"type\":\"buttons\",\"x\":0.1,\"xanchor\":\"right\",\"y\":0,\"yanchor\":\"top\"}],\"width\":500,\"xaxis\":{\"range\":[0,1]},\"yaxis\":{\"range\":[0,1]}},                        {\"responsive\": true}                    ).then(function(){\n",
       "                            Plotly.addFrames('d9364683-d1e3-4788-857c-6a343bca059b', [{\"data\":[{\"marker\":{\"cmax\":4.1,\"cmin\":-0.1,\"color\":[0,0,2,0,1,0,2,0,1,0,1,2,0,0,1,1,0,2,1,1,1,1,2,0,3,0,0,1,2,0,2,1,3,0,2,2,0,3,1,0,2,3,1,2,1,0,1,0,0,0,2,0,4,0,0,1,3,2,2,1,0,1,3,0,1,1,0,0,0,0,2,0,2,2,3,0,1,2,1,0,1,1,2,1,0,0,2,1,1,2,1,1,0,2,0,1,0,1,0,0],\"colorbar\":{\"thickness\":20,\"title\":{\"text\":\"rabbits\"}},\"colorscale\":[[0.0,\"#0508b8\"],[0.08333333333333333,\"#1910d8\"],[0.16666666666666666,\"#3c19f0\"],[0.25,\"#6b1cfb\"],[0.3333333333333333,\"#981cfd\"],[0.4166666666666667,\"#bf1cfd\"],[0.5,\"#dd2bfd\"],[0.5833333333333334,\"#f246fe\"],[0.6666666666666666,\"#fc67fd\"],[0.75,\"#fe88fc\"],[0.8333333333333334,\"#fea5fd\"],[0.9166666666666666,\"#febefe\"],[1.0,\"#fec3fe\"]],\"size\":5},\"mode\":\"markers\",\"name\":\"rabbits\",\"type\":\"scatter\",\"x\":[0.0,0.0,0.0,0.0,0.0,0.0,0.0,0.0,0.0,0.0,0.1111111119389534,0.1111111119389534,0.1111111119389534,0.1111111119389534,0.1111111119389534,0.1111111119389534,0.1111111119389534,0.1111111119389534,0.1111111119389534,0.1111111119389534,0.2222222238779068,0.2222222238779068,0.2222222238779068,0.2222222238779068,0.2222222238779068,0.2222222238779068,0.2222222238779068,0.2222222238779068,0.2222222238779068,0.2222222238779068,0.3333333432674408,0.3333333432674408,0.3333333432674408,0.3333333432674408,0.3333333432674408,0.3333333432674408,0.3333333432674408,0.3333333432674408,0.3333333432674408,0.3333333432674408,0.4444444477558136,0.4444444477558136,0.4444444477558136,0.4444444477558136,0.4444444477558136,0.4444444477558136,0.4444444477558136,0.4444444477558136,0.4444444477558136,0.4444444477558136,0.5555555820465088,0.5555555820465088,0.5555555820465088,0.5555555820465088,0.5555555820465088,0.5555555820465088,0.5555555820465088,0.5555555820465088,0.5555555820465088,0.5555555820465088,0.6666666865348816,0.6666666865348816,0.6666666865348816,0.6666666865348816,0.6666666865348816,0.6666666865348816,0.6666666865348816,0.6666666865348816,0.6666666865348816,0.6666666865348816,0.7777777910232544,0.7777777910232544,0.7777777910232544,0.7777777910232544,0.7777777910232544,0.7777777910232544,0.7777777910232544,0.7777777910232544,0.7777777910232544,0.7777777910232544,0.8888888955116272,0.8888888955116272,0.8888888955116272,0.8888888955116272,0.8888888955116272,0.8888888955116272,0.8888888955116272,0.8888888955116272,0.8888888955116272,0.8888888955116272,1.0,1.0,1.0,1.0,1.0,1.0,1.0,1.0,1.0,1.0],\"y\":[0.0,0.1111111119389534,0.2222222238779068,0.3333333432674408,0.4444444477558136,0.5555555820465088,0.6666666865348816,0.7777777910232544,0.8888888955116272,1.0,0.0,0.1111111119389534,0.2222222238779068,0.3333333432674408,0.4444444477558136,0.5555555820465088,0.6666666865348816,0.7777777910232544,0.8888888955116272,1.0,0.0,0.1111111119389534,0.2222222238779068,0.3333333432674408,0.4444444477558136,0.5555555820465088,0.6666666865348816,0.7777777910232544,0.8888888955116272,1.0,0.0,0.1111111119389534,0.2222222238779068,0.3333333432674408,0.4444444477558136,0.5555555820465088,0.6666666865348816,0.7777777910232544,0.8888888955116272,1.0,0.0,0.1111111119389534,0.2222222238779068,0.3333333432674408,0.4444444477558136,0.5555555820465088,0.6666666865348816,0.7777777910232544,0.8888888955116272,1.0,0.0,0.1111111119389534,0.2222222238779068,0.3333333432674408,0.4444444477558136,0.5555555820465088,0.6666666865348816,0.7777777910232544,0.8888888955116272,1.0,0.0,0.1111111119389534,0.2222222238779068,0.3333333432674408,0.4444444477558136,0.5555555820465088,0.6666666865348816,0.7777777910232544,0.8888888955116272,1.0,0.0,0.1111111119389534,0.2222222238779068,0.3333333432674408,0.4444444477558136,0.5555555820465088,0.6666666865348816,0.7777777910232544,0.8888888955116272,1.0,0.0,0.1111111119389534,0.2222222238779068,0.3333333432674408,0.4444444477558136,0.5555555820465088,0.6666666865348816,0.7777777910232544,0.8888888955116272,1.0,0.0,0.1111111119389534,0.2222222238779068,0.3333333432674408,0.4444444477558136,0.5555555820465088,0.6666666865348816,0.7777777910232544,0.8888888955116272,1.0]}],\"name\":\"0.0\"},{\"data\":[{\"marker\":{\"cmax\":4.1,\"cmin\":-0.1,\"color\":[1,0,1,1,0,1,0,1,1,2,1,0,0,1,3,1,2,1,1,0,1,0,0,1,7,1,0,0,1,1,2,2,3,1,0,3,0,0,0,1,0,0,1,1,2,0,3,1,1,1,1,0,0,1,1,2,4,0,3,0,2,0,3,2,3,2,1,0,2,0,1,1,3,1,1,0,3,1,0,0,3,1,1,3,2,1,0,0,0,0,2,0,0,0,0,3,0,1,1,1],\"colorbar\":{\"thickness\":20,\"title\":{\"text\":\"rabbits\"}},\"colorscale\":[[0.0,\"#0508b8\"],[0.08333333333333333,\"#1910d8\"],[0.16666666666666666,\"#3c19f0\"],[0.25,\"#6b1cfb\"],[0.3333333333333333,\"#981cfd\"],[0.4166666666666667,\"#bf1cfd\"],[0.5,\"#dd2bfd\"],[0.5833333333333334,\"#f246fe\"],[0.6666666666666666,\"#fc67fd\"],[0.75,\"#fe88fc\"],[0.8333333333333334,\"#fea5fd\"],[0.9166666666666666,\"#febefe\"],[1.0,\"#fec3fe\"]],\"size\":5},\"mode\":\"markers\",\"name\":\"rabbits\",\"type\":\"scatter\",\"x\":[0.0,0.0,0.0,0.0,0.0,0.0,0.0,0.0,0.0,0.0,0.1111111119389534,0.1111111119389534,0.1111111119389534,0.1111111119389534,0.1111111119389534,0.1111111119389534,0.1111111119389534,0.1111111119389534,0.1111111119389534,0.1111111119389534,0.2222222238779068,0.2222222238779068,0.2222222238779068,0.2222222238779068,0.2222222238779068,0.2222222238779068,0.2222222238779068,0.2222222238779068,0.2222222238779068,0.2222222238779068,0.3333333432674408,0.3333333432674408,0.3333333432674408,0.3333333432674408,0.3333333432674408,0.3333333432674408,0.3333333432674408,0.3333333432674408,0.3333333432674408,0.3333333432674408,0.4444444477558136,0.4444444477558136,0.4444444477558136,0.4444444477558136,0.4444444477558136,0.4444444477558136,0.4444444477558136,0.4444444477558136,0.4444444477558136,0.4444444477558136,0.5555555820465088,0.5555555820465088,0.5555555820465088,0.5555555820465088,0.5555555820465088,0.5555555820465088,0.5555555820465088,0.5555555820465088,0.5555555820465088,0.5555555820465088,0.6666666865348816,0.6666666865348816,0.6666666865348816,0.6666666865348816,0.6666666865348816,0.6666666865348816,0.6666666865348816,0.6666666865348816,0.6666666865348816,0.6666666865348816,0.7777777910232544,0.7777777910232544,0.7777777910232544,0.7777777910232544,0.7777777910232544,0.7777777910232544,0.7777777910232544,0.7777777910232544,0.7777777910232544,0.7777777910232544,0.8888888955116272,0.8888888955116272,0.8888888955116272,0.8888888955116272,0.8888888955116272,0.8888888955116272,0.8888888955116272,0.8888888955116272,0.8888888955116272,0.8888888955116272,1.0,1.0,1.0,1.0,1.0,1.0,1.0,1.0,1.0,1.0],\"y\":[0.0,0.1111111119389534,0.2222222238779068,0.3333333432674408,0.4444444477558136,0.5555555820465088,0.6666666865348816,0.7777777910232544,0.8888888955116272,1.0,0.0,0.1111111119389534,0.2222222238779068,0.3333333432674408,0.4444444477558136,0.5555555820465088,0.6666666865348816,0.7777777910232544,0.8888888955116272,1.0,0.0,0.1111111119389534,0.2222222238779068,0.3333333432674408,0.4444444477558136,0.5555555820465088,0.6666666865348816,0.7777777910232544,0.8888888955116272,1.0,0.0,0.1111111119389534,0.2222222238779068,0.3333333432674408,0.4444444477558136,0.5555555820465088,0.6666666865348816,0.7777777910232544,0.8888888955116272,1.0,0.0,0.1111111119389534,0.2222222238779068,0.3333333432674408,0.4444444477558136,0.5555555820465088,0.6666666865348816,0.7777777910232544,0.8888888955116272,1.0,0.0,0.1111111119389534,0.2222222238779068,0.3333333432674408,0.4444444477558136,0.5555555820465088,0.6666666865348816,0.7777777910232544,0.8888888955116272,1.0,0.0,0.1111111119389534,0.2222222238779068,0.3333333432674408,0.4444444477558136,0.5555555820465088,0.6666666865348816,0.7777777910232544,0.8888888955116272,1.0,0.0,0.1111111119389534,0.2222222238779068,0.3333333432674408,0.4444444477558136,0.5555555820465088,0.6666666865348816,0.7777777910232544,0.8888888955116272,1.0,0.0,0.1111111119389534,0.2222222238779068,0.3333333432674408,0.4444444477558136,0.5555555820465088,0.6666666865348816,0.7777777910232544,0.8888888955116272,1.0,0.0,0.1111111119389534,0.2222222238779068,0.3333333432674408,0.4444444477558136,0.5555555820465088,0.6666666865348816,0.7777777910232544,0.8888888955116272,1.0]}],\"name\":\"1.0\"},{\"data\":[{\"marker\":{\"cmax\":4.1,\"cmin\":-0.1,\"color\":[1,1,1,1,1,1,0,1,2,1,0,3,0,1,1,4,3,0,4,1,0,0,2,0,1,2,0,1,1,1,1,3,3,2,1,2,2,1,2,0,0,1,0,2,0,4,3,0,0,1,0,4,0,1,1,0,0,0,1,2,2,3,1,1,0,2,1,0,4,0,2,3,2,1,0,1,0,0,0,4,0,3,0,0,2,3,2,0,0,1,5,1,1,0,2,3,2,0,0,0],\"colorbar\":{\"thickness\":20,\"title\":{\"text\":\"rabbits\"}},\"colorscale\":[[0.0,\"#0508b8\"],[0.08333333333333333,\"#1910d8\"],[0.16666666666666666,\"#3c19f0\"],[0.25,\"#6b1cfb\"],[0.3333333333333333,\"#981cfd\"],[0.4166666666666667,\"#bf1cfd\"],[0.5,\"#dd2bfd\"],[0.5833333333333334,\"#f246fe\"],[0.6666666666666666,\"#fc67fd\"],[0.75,\"#fe88fc\"],[0.8333333333333334,\"#fea5fd\"],[0.9166666666666666,\"#febefe\"],[1.0,\"#fec3fe\"]],\"size\":5},\"mode\":\"markers\",\"name\":\"rabbits\",\"type\":\"scatter\",\"x\":[0.0,0.0,0.0,0.0,0.0,0.0,0.0,0.0,0.0,0.0,0.1111111119389534,0.1111111119389534,0.1111111119389534,0.1111111119389534,0.1111111119389534,0.1111111119389534,0.1111111119389534,0.1111111119389534,0.1111111119389534,0.1111111119389534,0.2222222238779068,0.2222222238779068,0.2222222238779068,0.2222222238779068,0.2222222238779068,0.2222222238779068,0.2222222238779068,0.2222222238779068,0.2222222238779068,0.2222222238779068,0.3333333432674408,0.3333333432674408,0.3333333432674408,0.3333333432674408,0.3333333432674408,0.3333333432674408,0.3333333432674408,0.3333333432674408,0.3333333432674408,0.3333333432674408,0.4444444477558136,0.4444444477558136,0.4444444477558136,0.4444444477558136,0.4444444477558136,0.4444444477558136,0.4444444477558136,0.4444444477558136,0.4444444477558136,0.4444444477558136,0.5555555820465088,0.5555555820465088,0.5555555820465088,0.5555555820465088,0.5555555820465088,0.5555555820465088,0.5555555820465088,0.5555555820465088,0.5555555820465088,0.5555555820465088,0.6666666865348816,0.6666666865348816,0.6666666865348816,0.6666666865348816,0.6666666865348816,0.6666666865348816,0.6666666865348816,0.6666666865348816,0.6666666865348816,0.6666666865348816,0.7777777910232544,0.7777777910232544,0.7777777910232544,0.7777777910232544,0.7777777910232544,0.7777777910232544,0.7777777910232544,0.7777777910232544,0.7777777910232544,0.7777777910232544,0.8888888955116272,0.8888888955116272,0.8888888955116272,0.8888888955116272,0.8888888955116272,0.8888888955116272,0.8888888955116272,0.8888888955116272,0.8888888955116272,0.8888888955116272,1.0,1.0,1.0,1.0,1.0,1.0,1.0,1.0,1.0,1.0],\"y\":[0.0,0.1111111119389534,0.2222222238779068,0.3333333432674408,0.4444444477558136,0.5555555820465088,0.6666666865348816,0.7777777910232544,0.8888888955116272,1.0,0.0,0.1111111119389534,0.2222222238779068,0.3333333432674408,0.4444444477558136,0.5555555820465088,0.6666666865348816,0.7777777910232544,0.8888888955116272,1.0,0.0,0.1111111119389534,0.2222222238779068,0.3333333432674408,0.4444444477558136,0.5555555820465088,0.6666666865348816,0.7777777910232544,0.8888888955116272,1.0,0.0,0.1111111119389534,0.2222222238779068,0.3333333432674408,0.4444444477558136,0.5555555820465088,0.6666666865348816,0.7777777910232544,0.8888888955116272,1.0,0.0,0.1111111119389534,0.2222222238779068,0.3333333432674408,0.4444444477558136,0.5555555820465088,0.6666666865348816,0.7777777910232544,0.8888888955116272,1.0,0.0,0.1111111119389534,0.2222222238779068,0.3333333432674408,0.4444444477558136,0.5555555820465088,0.6666666865348816,0.7777777910232544,0.8888888955116272,1.0,0.0,0.1111111119389534,0.2222222238779068,0.3333333432674408,0.4444444477558136,0.5555555820465088,0.6666666865348816,0.7777777910232544,0.8888888955116272,1.0,0.0,0.1111111119389534,0.2222222238779068,0.3333333432674408,0.4444444477558136,0.5555555820465088,0.6666666865348816,0.7777777910232544,0.8888888955116272,1.0,0.0,0.1111111119389534,0.2222222238779068,0.3333333432674408,0.4444444477558136,0.5555555820465088,0.6666666865348816,0.7777777910232544,0.8888888955116272,1.0,0.0,0.1111111119389534,0.2222222238779068,0.3333333432674408,0.4444444477558136,0.5555555820465088,0.6666666865348816,0.7777777910232544,0.8888888955116272,1.0]}],\"name\":\"2.0\"},{\"data\":[{\"marker\":{\"cmax\":4.1,\"cmin\":-0.1,\"color\":[0,0,1,0,1,2,0,2,3,3,0,1,0,3,1,1,2,0,1,1,2,0,0,4,4,2,0,1,1,0,3,3,3,1,1,0,2,4,4,0,2,0,1,1,2,1,1,0,1,0,0,0,1,0,3,0,2,1,3,1,3,2,1,0,0,1,1,5,1,3,1,3,1,1,1,3,1,0,1,2,2,2,4,1,3,1,2,2,1,1,2,1,3,2,0,0,1,2,0,0],\"colorbar\":{\"thickness\":20,\"title\":{\"text\":\"rabbits\"}},\"colorscale\":[[0.0,\"#0508b8\"],[0.08333333333333333,\"#1910d8\"],[0.16666666666666666,\"#3c19f0\"],[0.25,\"#6b1cfb\"],[0.3333333333333333,\"#981cfd\"],[0.4166666666666667,\"#bf1cfd\"],[0.5,\"#dd2bfd\"],[0.5833333333333334,\"#f246fe\"],[0.6666666666666666,\"#fc67fd\"],[0.75,\"#fe88fc\"],[0.8333333333333334,\"#fea5fd\"],[0.9166666666666666,\"#febefe\"],[1.0,\"#fec3fe\"]],\"size\":5},\"mode\":\"markers\",\"name\":\"rabbits\",\"type\":\"scatter\",\"x\":[0.0,0.0,0.0,0.0,0.0,0.0,0.0,0.0,0.0,0.0,0.1111111119389534,0.1111111119389534,0.1111111119389534,0.1111111119389534,0.1111111119389534,0.1111111119389534,0.1111111119389534,0.1111111119389534,0.1111111119389534,0.1111111119389534,0.2222222238779068,0.2222222238779068,0.2222222238779068,0.2222222238779068,0.2222222238779068,0.2222222238779068,0.2222222238779068,0.2222222238779068,0.2222222238779068,0.2222222238779068,0.3333333432674408,0.3333333432674408,0.3333333432674408,0.3333333432674408,0.3333333432674408,0.3333333432674408,0.3333333432674408,0.3333333432674408,0.3333333432674408,0.3333333432674408,0.4444444477558136,0.4444444477558136,0.4444444477558136,0.4444444477558136,0.4444444477558136,0.4444444477558136,0.4444444477558136,0.4444444477558136,0.4444444477558136,0.4444444477558136,0.5555555820465088,0.5555555820465088,0.5555555820465088,0.5555555820465088,0.5555555820465088,0.5555555820465088,0.5555555820465088,0.5555555820465088,0.5555555820465088,0.5555555820465088,0.6666666865348816,0.6666666865348816,0.6666666865348816,0.6666666865348816,0.6666666865348816,0.6666666865348816,0.6666666865348816,0.6666666865348816,0.6666666865348816,0.6666666865348816,0.7777777910232544,0.7777777910232544,0.7777777910232544,0.7777777910232544,0.7777777910232544,0.7777777910232544,0.7777777910232544,0.7777777910232544,0.7777777910232544,0.7777777910232544,0.8888888955116272,0.8888888955116272,0.8888888955116272,0.8888888955116272,0.8888888955116272,0.8888888955116272,0.8888888955116272,0.8888888955116272,0.8888888955116272,0.8888888955116272,1.0,1.0,1.0,1.0,1.0,1.0,1.0,1.0,1.0,1.0],\"y\":[0.0,0.1111111119389534,0.2222222238779068,0.3333333432674408,0.4444444477558136,0.5555555820465088,0.6666666865348816,0.7777777910232544,0.8888888955116272,1.0,0.0,0.1111111119389534,0.2222222238779068,0.3333333432674408,0.4444444477558136,0.5555555820465088,0.6666666865348816,0.7777777910232544,0.8888888955116272,1.0,0.0,0.1111111119389534,0.2222222238779068,0.3333333432674408,0.4444444477558136,0.5555555820465088,0.6666666865348816,0.7777777910232544,0.8888888955116272,1.0,0.0,0.1111111119389534,0.2222222238779068,0.3333333432674408,0.4444444477558136,0.5555555820465088,0.6666666865348816,0.7777777910232544,0.8888888955116272,1.0,0.0,0.1111111119389534,0.2222222238779068,0.3333333432674408,0.4444444477558136,0.5555555820465088,0.6666666865348816,0.7777777910232544,0.8888888955116272,1.0,0.0,0.1111111119389534,0.2222222238779068,0.3333333432674408,0.4444444477558136,0.5555555820465088,0.6666666865348816,0.7777777910232544,0.8888888955116272,1.0,0.0,0.1111111119389534,0.2222222238779068,0.3333333432674408,0.4444444477558136,0.5555555820465088,0.6666666865348816,0.7777777910232544,0.8888888955116272,1.0,0.0,0.1111111119389534,0.2222222238779068,0.3333333432674408,0.4444444477558136,0.5555555820465088,0.6666666865348816,0.7777777910232544,0.8888888955116272,1.0,0.0,0.1111111119389534,0.2222222238779068,0.3333333432674408,0.4444444477558136,0.5555555820465088,0.6666666865348816,0.7777777910232544,0.8888888955116272,1.0,0.0,0.1111111119389534,0.2222222238779068,0.3333333432674408,0.4444444477558136,0.5555555820465088,0.6666666865348816,0.7777777910232544,0.8888888955116272,1.0]}],\"name\":\"3.0\"},{\"data\":[{\"marker\":{\"cmax\":4.1,\"cmin\":-0.1,\"color\":[1,2,1,2,5,0,1,5,4,0,0,1,0,1,3,1,4,3,1,3,1,0,0,1,2,1,2,1,1,0,3,4,1,0,2,0,1,2,3,0,2,1,2,0,2,1,1,5,3,0,1,3,2,1,1,1,0,0,2,1,2,1,0,3,1,2,0,1,0,1,1,0,2,2,0,2,1,2,3,3,3,3,2,2,1,0,2,0,3,2,2,1,3,1,2,1,0,2,1,1],\"colorbar\":{\"thickness\":20,\"title\":{\"text\":\"rabbits\"}},\"colorscale\":[[0.0,\"#0508b8\"],[0.08333333333333333,\"#1910d8\"],[0.16666666666666666,\"#3c19f0\"],[0.25,\"#6b1cfb\"],[0.3333333333333333,\"#981cfd\"],[0.4166666666666667,\"#bf1cfd\"],[0.5,\"#dd2bfd\"],[0.5833333333333334,\"#f246fe\"],[0.6666666666666666,\"#fc67fd\"],[0.75,\"#fe88fc\"],[0.8333333333333334,\"#fea5fd\"],[0.9166666666666666,\"#febefe\"],[1.0,\"#fec3fe\"]],\"size\":5},\"mode\":\"markers\",\"name\":\"rabbits\",\"type\":\"scatter\",\"x\":[0.0,0.0,0.0,0.0,0.0,0.0,0.0,0.0,0.0,0.0,0.1111111119389534,0.1111111119389534,0.1111111119389534,0.1111111119389534,0.1111111119389534,0.1111111119389534,0.1111111119389534,0.1111111119389534,0.1111111119389534,0.1111111119389534,0.2222222238779068,0.2222222238779068,0.2222222238779068,0.2222222238779068,0.2222222238779068,0.2222222238779068,0.2222222238779068,0.2222222238779068,0.2222222238779068,0.2222222238779068,0.3333333432674408,0.3333333432674408,0.3333333432674408,0.3333333432674408,0.3333333432674408,0.3333333432674408,0.3333333432674408,0.3333333432674408,0.3333333432674408,0.3333333432674408,0.4444444477558136,0.4444444477558136,0.4444444477558136,0.4444444477558136,0.4444444477558136,0.4444444477558136,0.4444444477558136,0.4444444477558136,0.4444444477558136,0.4444444477558136,0.5555555820465088,0.5555555820465088,0.5555555820465088,0.5555555820465088,0.5555555820465088,0.5555555820465088,0.5555555820465088,0.5555555820465088,0.5555555820465088,0.5555555820465088,0.6666666865348816,0.6666666865348816,0.6666666865348816,0.6666666865348816,0.6666666865348816,0.6666666865348816,0.6666666865348816,0.6666666865348816,0.6666666865348816,0.6666666865348816,0.7777777910232544,0.7777777910232544,0.7777777910232544,0.7777777910232544,0.7777777910232544,0.7777777910232544,0.7777777910232544,0.7777777910232544,0.7777777910232544,0.7777777910232544,0.8888888955116272,0.8888888955116272,0.8888888955116272,0.8888888955116272,0.8888888955116272,0.8888888955116272,0.8888888955116272,0.8888888955116272,0.8888888955116272,0.8888888955116272,1.0,1.0,1.0,1.0,1.0,1.0,1.0,1.0,1.0,1.0],\"y\":[0.0,0.1111111119389534,0.2222222238779068,0.3333333432674408,0.4444444477558136,0.5555555820465088,0.6666666865348816,0.7777777910232544,0.8888888955116272,1.0,0.0,0.1111111119389534,0.2222222238779068,0.3333333432674408,0.4444444477558136,0.5555555820465088,0.6666666865348816,0.7777777910232544,0.8888888955116272,1.0,0.0,0.1111111119389534,0.2222222238779068,0.3333333432674408,0.4444444477558136,0.5555555820465088,0.6666666865348816,0.7777777910232544,0.8888888955116272,1.0,0.0,0.1111111119389534,0.2222222238779068,0.3333333432674408,0.4444444477558136,0.5555555820465088,0.6666666865348816,0.7777777910232544,0.8888888955116272,1.0,0.0,0.1111111119389534,0.2222222238779068,0.3333333432674408,0.4444444477558136,0.5555555820465088,0.6666666865348816,0.7777777910232544,0.8888888955116272,1.0,0.0,0.1111111119389534,0.2222222238779068,0.3333333432674408,0.4444444477558136,0.5555555820465088,0.6666666865348816,0.7777777910232544,0.8888888955116272,1.0,0.0,0.1111111119389534,0.2222222238779068,0.3333333432674408,0.4444444477558136,0.5555555820465088,0.6666666865348816,0.7777777910232544,0.8888888955116272,1.0,0.0,0.1111111119389534,0.2222222238779068,0.3333333432674408,0.4444444477558136,0.5555555820465088,0.6666666865348816,0.7777777910232544,0.8888888955116272,1.0,0.0,0.1111111119389534,0.2222222238779068,0.3333333432674408,0.4444444477558136,0.5555555820465088,0.6666666865348816,0.7777777910232544,0.8888888955116272,1.0,0.0,0.1111111119389534,0.2222222238779068,0.3333333432674408,0.4444444477558136,0.5555555820465088,0.6666666865348816,0.7777777910232544,0.8888888955116272,1.0]}],\"name\":\"4.0\"},{\"data\":[{\"marker\":{\"cmax\":4.1,\"cmin\":-0.1,\"color\":[1,1,2,0,2,8,1,2,4,5,2,2,0,5,1,3,0,1,2,0,0,0,4,3,0,2,1,3,3,2,1,2,1,2,2,1,2,1,1,3,0,1,1,1,1,3,0,3,2,1,4,1,2,2,1,1,0,2,0,2,1,0,3,2,2,3,1,1,3,3,6,1,2,2,0,1,1,3,1,0,0,1,2,0,0,0,0,2,1,2,3,1,2,1,1,3,2,0,1,4],\"colorbar\":{\"thickness\":20,\"title\":{\"text\":\"rabbits\"}},\"colorscale\":[[0.0,\"#0508b8\"],[0.08333333333333333,\"#1910d8\"],[0.16666666666666666,\"#3c19f0\"],[0.25,\"#6b1cfb\"],[0.3333333333333333,\"#981cfd\"],[0.4166666666666667,\"#bf1cfd\"],[0.5,\"#dd2bfd\"],[0.5833333333333334,\"#f246fe\"],[0.6666666666666666,\"#fc67fd\"],[0.75,\"#fe88fc\"],[0.8333333333333334,\"#fea5fd\"],[0.9166666666666666,\"#febefe\"],[1.0,\"#fec3fe\"]],\"size\":5},\"mode\":\"markers\",\"name\":\"rabbits\",\"type\":\"scatter\",\"x\":[0.0,0.0,0.0,0.0,0.0,0.0,0.0,0.0,0.0,0.0,0.1111111119389534,0.1111111119389534,0.1111111119389534,0.1111111119389534,0.1111111119389534,0.1111111119389534,0.1111111119389534,0.1111111119389534,0.1111111119389534,0.1111111119389534,0.2222222238779068,0.2222222238779068,0.2222222238779068,0.2222222238779068,0.2222222238779068,0.2222222238779068,0.2222222238779068,0.2222222238779068,0.2222222238779068,0.2222222238779068,0.3333333432674408,0.3333333432674408,0.3333333432674408,0.3333333432674408,0.3333333432674408,0.3333333432674408,0.3333333432674408,0.3333333432674408,0.3333333432674408,0.3333333432674408,0.4444444477558136,0.4444444477558136,0.4444444477558136,0.4444444477558136,0.4444444477558136,0.4444444477558136,0.4444444477558136,0.4444444477558136,0.4444444477558136,0.4444444477558136,0.5555555820465088,0.5555555820465088,0.5555555820465088,0.5555555820465088,0.5555555820465088,0.5555555820465088,0.5555555820465088,0.5555555820465088,0.5555555820465088,0.5555555820465088,0.6666666865348816,0.6666666865348816,0.6666666865348816,0.6666666865348816,0.6666666865348816,0.6666666865348816,0.6666666865348816,0.6666666865348816,0.6666666865348816,0.6666666865348816,0.7777777910232544,0.7777777910232544,0.7777777910232544,0.7777777910232544,0.7777777910232544,0.7777777910232544,0.7777777910232544,0.7777777910232544,0.7777777910232544,0.7777777910232544,0.8888888955116272,0.8888888955116272,0.8888888955116272,0.8888888955116272,0.8888888955116272,0.8888888955116272,0.8888888955116272,0.8888888955116272,0.8888888955116272,0.8888888955116272,1.0,1.0,1.0,1.0,1.0,1.0,1.0,1.0,1.0,1.0],\"y\":[0.0,0.1111111119389534,0.2222222238779068,0.3333333432674408,0.4444444477558136,0.5555555820465088,0.6666666865348816,0.7777777910232544,0.8888888955116272,1.0,0.0,0.1111111119389534,0.2222222238779068,0.3333333432674408,0.4444444477558136,0.5555555820465088,0.6666666865348816,0.7777777910232544,0.8888888955116272,1.0,0.0,0.1111111119389534,0.2222222238779068,0.3333333432674408,0.4444444477558136,0.5555555820465088,0.6666666865348816,0.7777777910232544,0.8888888955116272,1.0,0.0,0.1111111119389534,0.2222222238779068,0.3333333432674408,0.4444444477558136,0.5555555820465088,0.6666666865348816,0.7777777910232544,0.8888888955116272,1.0,0.0,0.1111111119389534,0.2222222238779068,0.3333333432674408,0.4444444477558136,0.5555555820465088,0.6666666865348816,0.7777777910232544,0.8888888955116272,1.0,0.0,0.1111111119389534,0.2222222238779068,0.3333333432674408,0.4444444477558136,0.5555555820465088,0.6666666865348816,0.7777777910232544,0.8888888955116272,1.0,0.0,0.1111111119389534,0.2222222238779068,0.3333333432674408,0.4444444477558136,0.5555555820465088,0.6666666865348816,0.7777777910232544,0.8888888955116272,1.0,0.0,0.1111111119389534,0.2222222238779068,0.3333333432674408,0.4444444477558136,0.5555555820465088,0.6666666865348816,0.7777777910232544,0.8888888955116272,1.0,0.0,0.1111111119389534,0.2222222238779068,0.3333333432674408,0.4444444477558136,0.5555555820465088,0.6666666865348816,0.7777777910232544,0.8888888955116272,1.0,0.0,0.1111111119389534,0.2222222238779068,0.3333333432674408,0.4444444477558136,0.5555555820465088,0.6666666865348816,0.7777777910232544,0.8888888955116272,1.0]}],\"name\":\"5.0\"},{\"data\":[{\"marker\":{\"cmax\":4.1,\"cmin\":-0.1,\"color\":[2,0,1,2,2,6,5,1,1,2,4,1,0,5,4,3,0,3,4,2,0,1,1,1,3,1,1,2,2,2,1,3,2,0,0,2,3,2,1,2,1,0,3,4,2,1,2,6,3,3,2,1,0,4,2,1,1,1,3,1,0,1,0,1,0,2,0,2,2,1,3,3,6,0,1,1,1,5,0,1,0,1,2,0,0,5,2,2,2,3,2,1,3,0,4,3,2,0,3,0],\"colorbar\":{\"thickness\":20,\"title\":{\"text\":\"rabbits\"}},\"colorscale\":[[0.0,\"#0508b8\"],[0.08333333333333333,\"#1910d8\"],[0.16666666666666666,\"#3c19f0\"],[0.25,\"#6b1cfb\"],[0.3333333333333333,\"#981cfd\"],[0.4166666666666667,\"#bf1cfd\"],[0.5,\"#dd2bfd\"],[0.5833333333333334,\"#f246fe\"],[0.6666666666666666,\"#fc67fd\"],[0.75,\"#fe88fc\"],[0.8333333333333334,\"#fea5fd\"],[0.9166666666666666,\"#febefe\"],[1.0,\"#fec3fe\"]],\"size\":5},\"mode\":\"markers\",\"name\":\"rabbits\",\"type\":\"scatter\",\"x\":[0.0,0.0,0.0,0.0,0.0,0.0,0.0,0.0,0.0,0.0,0.1111111119389534,0.1111111119389534,0.1111111119389534,0.1111111119389534,0.1111111119389534,0.1111111119389534,0.1111111119389534,0.1111111119389534,0.1111111119389534,0.1111111119389534,0.2222222238779068,0.2222222238779068,0.2222222238779068,0.2222222238779068,0.2222222238779068,0.2222222238779068,0.2222222238779068,0.2222222238779068,0.2222222238779068,0.2222222238779068,0.3333333432674408,0.3333333432674408,0.3333333432674408,0.3333333432674408,0.3333333432674408,0.3333333432674408,0.3333333432674408,0.3333333432674408,0.3333333432674408,0.3333333432674408,0.4444444477558136,0.4444444477558136,0.4444444477558136,0.4444444477558136,0.4444444477558136,0.4444444477558136,0.4444444477558136,0.4444444477558136,0.4444444477558136,0.4444444477558136,0.5555555820465088,0.5555555820465088,0.5555555820465088,0.5555555820465088,0.5555555820465088,0.5555555820465088,0.5555555820465088,0.5555555820465088,0.5555555820465088,0.5555555820465088,0.6666666865348816,0.6666666865348816,0.6666666865348816,0.6666666865348816,0.6666666865348816,0.6666666865348816,0.6666666865348816,0.6666666865348816,0.6666666865348816,0.6666666865348816,0.7777777910232544,0.7777777910232544,0.7777777910232544,0.7777777910232544,0.7777777910232544,0.7777777910232544,0.7777777910232544,0.7777777910232544,0.7777777910232544,0.7777777910232544,0.8888888955116272,0.8888888955116272,0.8888888955116272,0.8888888955116272,0.8888888955116272,0.8888888955116272,0.8888888955116272,0.8888888955116272,0.8888888955116272,0.8888888955116272,1.0,1.0,1.0,1.0,1.0,1.0,1.0,1.0,1.0,1.0],\"y\":[0.0,0.1111111119389534,0.2222222238779068,0.3333333432674408,0.4444444477558136,0.5555555820465088,0.6666666865348816,0.7777777910232544,0.8888888955116272,1.0,0.0,0.1111111119389534,0.2222222238779068,0.3333333432674408,0.4444444477558136,0.5555555820465088,0.6666666865348816,0.7777777910232544,0.8888888955116272,1.0,0.0,0.1111111119389534,0.2222222238779068,0.3333333432674408,0.4444444477558136,0.5555555820465088,0.6666666865348816,0.7777777910232544,0.8888888955116272,1.0,0.0,0.1111111119389534,0.2222222238779068,0.3333333432674408,0.4444444477558136,0.5555555820465088,0.6666666865348816,0.7777777910232544,0.8888888955116272,1.0,0.0,0.1111111119389534,0.2222222238779068,0.3333333432674408,0.4444444477558136,0.5555555820465088,0.6666666865348816,0.7777777910232544,0.8888888955116272,1.0,0.0,0.1111111119389534,0.2222222238779068,0.3333333432674408,0.4444444477558136,0.5555555820465088,0.6666666865348816,0.7777777910232544,0.8888888955116272,1.0,0.0,0.1111111119389534,0.2222222238779068,0.3333333432674408,0.4444444477558136,0.5555555820465088,0.6666666865348816,0.7777777910232544,0.8888888955116272,1.0,0.0,0.1111111119389534,0.2222222238779068,0.3333333432674408,0.4444444477558136,0.5555555820465088,0.6666666865348816,0.7777777910232544,0.8888888955116272,1.0,0.0,0.1111111119389534,0.2222222238779068,0.3333333432674408,0.4444444477558136,0.5555555820465088,0.6666666865348816,0.7777777910232544,0.8888888955116272,1.0,0.0,0.1111111119389534,0.2222222238779068,0.3333333432674408,0.4444444477558136,0.5555555820465088,0.6666666865348816,0.7777777910232544,0.8888888955116272,1.0]}],\"name\":\"6.0\"},{\"data\":[{\"marker\":{\"cmax\":4.1,\"cmin\":-0.1,\"color\":[2,1,1,2,3,0,1,4,2,1,0,3,2,2,0,3,2,2,2,3,1,3,1,4,3,2,6,1,1,0,1,1,2,0,0,5,2,4,2,3,1,2,2,5,4,2,2,0,1,0,1,2,3,0,0,2,4,1,0,3,3,3,2,3,0,4,3,2,3,3,3,1,0,5,2,1,2,2,2,3,4,2,2,2,0,1,2,0,3,4,2,2,1,4,2,3,1,3,0,2],\"colorbar\":{\"thickness\":20,\"title\":{\"text\":\"rabbits\"}},\"colorscale\":[[0.0,\"#0508b8\"],[0.08333333333333333,\"#1910d8\"],[0.16666666666666666,\"#3c19f0\"],[0.25,\"#6b1cfb\"],[0.3333333333333333,\"#981cfd\"],[0.4166666666666667,\"#bf1cfd\"],[0.5,\"#dd2bfd\"],[0.5833333333333334,\"#f246fe\"],[0.6666666666666666,\"#fc67fd\"],[0.75,\"#fe88fc\"],[0.8333333333333334,\"#fea5fd\"],[0.9166666666666666,\"#febefe\"],[1.0,\"#fec3fe\"]],\"size\":5},\"mode\":\"markers\",\"name\":\"rabbits\",\"type\":\"scatter\",\"x\":[0.0,0.0,0.0,0.0,0.0,0.0,0.0,0.0,0.0,0.0,0.1111111119389534,0.1111111119389534,0.1111111119389534,0.1111111119389534,0.1111111119389534,0.1111111119389534,0.1111111119389534,0.1111111119389534,0.1111111119389534,0.1111111119389534,0.2222222238779068,0.2222222238779068,0.2222222238779068,0.2222222238779068,0.2222222238779068,0.2222222238779068,0.2222222238779068,0.2222222238779068,0.2222222238779068,0.2222222238779068,0.3333333432674408,0.3333333432674408,0.3333333432674408,0.3333333432674408,0.3333333432674408,0.3333333432674408,0.3333333432674408,0.3333333432674408,0.3333333432674408,0.3333333432674408,0.4444444477558136,0.4444444477558136,0.4444444477558136,0.4444444477558136,0.4444444477558136,0.4444444477558136,0.4444444477558136,0.4444444477558136,0.4444444477558136,0.4444444477558136,0.5555555820465088,0.5555555820465088,0.5555555820465088,0.5555555820465088,0.5555555820465088,0.5555555820465088,0.5555555820465088,0.5555555820465088,0.5555555820465088,0.5555555820465088,0.6666666865348816,0.6666666865348816,0.6666666865348816,0.6666666865348816,0.6666666865348816,0.6666666865348816,0.6666666865348816,0.6666666865348816,0.6666666865348816,0.6666666865348816,0.7777777910232544,0.7777777910232544,0.7777777910232544,0.7777777910232544,0.7777777910232544,0.7777777910232544,0.7777777910232544,0.7777777910232544,0.7777777910232544,0.7777777910232544,0.8888888955116272,0.8888888955116272,0.8888888955116272,0.8888888955116272,0.8888888955116272,0.8888888955116272,0.8888888955116272,0.8888888955116272,0.8888888955116272,0.8888888955116272,1.0,1.0,1.0,1.0,1.0,1.0,1.0,1.0,1.0,1.0],\"y\":[0.0,0.1111111119389534,0.2222222238779068,0.3333333432674408,0.4444444477558136,0.5555555820465088,0.6666666865348816,0.7777777910232544,0.8888888955116272,1.0,0.0,0.1111111119389534,0.2222222238779068,0.3333333432674408,0.4444444477558136,0.5555555820465088,0.6666666865348816,0.7777777910232544,0.8888888955116272,1.0,0.0,0.1111111119389534,0.2222222238779068,0.3333333432674408,0.4444444477558136,0.5555555820465088,0.6666666865348816,0.7777777910232544,0.8888888955116272,1.0,0.0,0.1111111119389534,0.2222222238779068,0.3333333432674408,0.4444444477558136,0.5555555820465088,0.6666666865348816,0.7777777910232544,0.8888888955116272,1.0,0.0,0.1111111119389534,0.2222222238779068,0.3333333432674408,0.4444444477558136,0.5555555820465088,0.6666666865348816,0.7777777910232544,0.8888888955116272,1.0,0.0,0.1111111119389534,0.2222222238779068,0.3333333432674408,0.4444444477558136,0.5555555820465088,0.6666666865348816,0.7777777910232544,0.8888888955116272,1.0,0.0,0.1111111119389534,0.2222222238779068,0.3333333432674408,0.4444444477558136,0.5555555820465088,0.6666666865348816,0.7777777910232544,0.8888888955116272,1.0,0.0,0.1111111119389534,0.2222222238779068,0.3333333432674408,0.4444444477558136,0.5555555820465088,0.6666666865348816,0.7777777910232544,0.8888888955116272,1.0,0.0,0.1111111119389534,0.2222222238779068,0.3333333432674408,0.4444444477558136,0.5555555820465088,0.6666666865348816,0.7777777910232544,0.8888888955116272,1.0,0.0,0.1111111119389534,0.2222222238779068,0.3333333432674408,0.4444444477558136,0.5555555820465088,0.6666666865348816,0.7777777910232544,0.8888888955116272,1.0]}],\"name\":\"7.0\"},{\"data\":[{\"marker\":{\"cmax\":4.1,\"cmin\":-0.1,\"color\":[2,2,0,1,4,3,2,3,2,2,1,2,5,1,1,1,2,1,2,2,1,3,2,0,4,3,3,6,2,1,4,1,0,1,4,1,2,3,0,1,2,4,2,4,2,2,3,2,3,2,2,0,4,4,2,2,8,2,1,2,0,4,4,6,0,2,2,3,2,2,2,2,1,3,2,3,4,1,0,4,3,3,3,1,2,1,4,2,1,0,2,3,0,2,1,2,5,3,2,6],\"colorbar\":{\"thickness\":20,\"title\":{\"text\":\"rabbits\"}},\"colorscale\":[[0.0,\"#0508b8\"],[0.08333333333333333,\"#1910d8\"],[0.16666666666666666,\"#3c19f0\"],[0.25,\"#6b1cfb\"],[0.3333333333333333,\"#981cfd\"],[0.4166666666666667,\"#bf1cfd\"],[0.5,\"#dd2bfd\"],[0.5833333333333334,\"#f246fe\"],[0.6666666666666666,\"#fc67fd\"],[0.75,\"#fe88fc\"],[0.8333333333333334,\"#fea5fd\"],[0.9166666666666666,\"#febefe\"],[1.0,\"#fec3fe\"]],\"size\":5},\"mode\":\"markers\",\"name\":\"rabbits\",\"type\":\"scatter\",\"x\":[0.0,0.0,0.0,0.0,0.0,0.0,0.0,0.0,0.0,0.0,0.1111111119389534,0.1111111119389534,0.1111111119389534,0.1111111119389534,0.1111111119389534,0.1111111119389534,0.1111111119389534,0.1111111119389534,0.1111111119389534,0.1111111119389534,0.2222222238779068,0.2222222238779068,0.2222222238779068,0.2222222238779068,0.2222222238779068,0.2222222238779068,0.2222222238779068,0.2222222238779068,0.2222222238779068,0.2222222238779068,0.3333333432674408,0.3333333432674408,0.3333333432674408,0.3333333432674408,0.3333333432674408,0.3333333432674408,0.3333333432674408,0.3333333432674408,0.3333333432674408,0.3333333432674408,0.4444444477558136,0.4444444477558136,0.4444444477558136,0.4444444477558136,0.4444444477558136,0.4444444477558136,0.4444444477558136,0.4444444477558136,0.4444444477558136,0.4444444477558136,0.5555555820465088,0.5555555820465088,0.5555555820465088,0.5555555820465088,0.5555555820465088,0.5555555820465088,0.5555555820465088,0.5555555820465088,0.5555555820465088,0.5555555820465088,0.6666666865348816,0.6666666865348816,0.6666666865348816,0.6666666865348816,0.6666666865348816,0.6666666865348816,0.6666666865348816,0.6666666865348816,0.6666666865348816,0.6666666865348816,0.7777777910232544,0.7777777910232544,0.7777777910232544,0.7777777910232544,0.7777777910232544,0.7777777910232544,0.7777777910232544,0.7777777910232544,0.7777777910232544,0.7777777910232544,0.8888888955116272,0.8888888955116272,0.8888888955116272,0.8888888955116272,0.8888888955116272,0.8888888955116272,0.8888888955116272,0.8888888955116272,0.8888888955116272,0.8888888955116272,1.0,1.0,1.0,1.0,1.0,1.0,1.0,1.0,1.0,1.0],\"y\":[0.0,0.1111111119389534,0.2222222238779068,0.3333333432674408,0.4444444477558136,0.5555555820465088,0.6666666865348816,0.7777777910232544,0.8888888955116272,1.0,0.0,0.1111111119389534,0.2222222238779068,0.3333333432674408,0.4444444477558136,0.5555555820465088,0.6666666865348816,0.7777777910232544,0.8888888955116272,1.0,0.0,0.1111111119389534,0.2222222238779068,0.3333333432674408,0.4444444477558136,0.5555555820465088,0.6666666865348816,0.7777777910232544,0.8888888955116272,1.0,0.0,0.1111111119389534,0.2222222238779068,0.3333333432674408,0.4444444477558136,0.5555555820465088,0.6666666865348816,0.7777777910232544,0.8888888955116272,1.0,0.0,0.1111111119389534,0.2222222238779068,0.3333333432674408,0.4444444477558136,0.5555555820465088,0.6666666865348816,0.7777777910232544,0.8888888955116272,1.0,0.0,0.1111111119389534,0.2222222238779068,0.3333333432674408,0.4444444477558136,0.5555555820465088,0.6666666865348816,0.7777777910232544,0.8888888955116272,1.0,0.0,0.1111111119389534,0.2222222238779068,0.3333333432674408,0.4444444477558136,0.5555555820465088,0.6666666865348816,0.7777777910232544,0.8888888955116272,1.0,0.0,0.1111111119389534,0.2222222238779068,0.3333333432674408,0.4444444477558136,0.5555555820465088,0.6666666865348816,0.7777777910232544,0.8888888955116272,1.0,0.0,0.1111111119389534,0.2222222238779068,0.3333333432674408,0.4444444477558136,0.5555555820465088,0.6666666865348816,0.7777777910232544,0.8888888955116272,1.0,0.0,0.1111111119389534,0.2222222238779068,0.3333333432674408,0.4444444477558136,0.5555555820465088,0.6666666865348816,0.7777777910232544,0.8888888955116272,1.0]}],\"name\":\"8.0\"},{\"data\":[{\"marker\":{\"cmax\":4.1,\"cmin\":-0.1,\"color\":[1,3,0,5,5,2,2,2,3,4,4,0,1,2,4,4,4,0,4,1,3,0,2,1,2,2,3,2,2,1,2,3,3,2,3,2,2,1,2,1,0,3,1,5,1,5,3,2,5,2,1,2,5,1,3,2,5,5,2,2,3,3,3,6,7,2,3,2,2,5,1,3,2,1,2,5,2,3,3,2,0,4,1,2,3,3,1,3,3,3,5,2,1,4,3,3,2,3,3,5],\"colorbar\":{\"thickness\":20,\"title\":{\"text\":\"rabbits\"}},\"colorscale\":[[0.0,\"#0508b8\"],[0.08333333333333333,\"#1910d8\"],[0.16666666666666666,\"#3c19f0\"],[0.25,\"#6b1cfb\"],[0.3333333333333333,\"#981cfd\"],[0.4166666666666667,\"#bf1cfd\"],[0.5,\"#dd2bfd\"],[0.5833333333333334,\"#f246fe\"],[0.6666666666666666,\"#fc67fd\"],[0.75,\"#fe88fc\"],[0.8333333333333334,\"#fea5fd\"],[0.9166666666666666,\"#febefe\"],[1.0,\"#fec3fe\"]],\"size\":5},\"mode\":\"markers\",\"name\":\"rabbits\",\"type\":\"scatter\",\"x\":[0.0,0.0,0.0,0.0,0.0,0.0,0.0,0.0,0.0,0.0,0.1111111119389534,0.1111111119389534,0.1111111119389534,0.1111111119389534,0.1111111119389534,0.1111111119389534,0.1111111119389534,0.1111111119389534,0.1111111119389534,0.1111111119389534,0.2222222238779068,0.2222222238779068,0.2222222238779068,0.2222222238779068,0.2222222238779068,0.2222222238779068,0.2222222238779068,0.2222222238779068,0.2222222238779068,0.2222222238779068,0.3333333432674408,0.3333333432674408,0.3333333432674408,0.3333333432674408,0.3333333432674408,0.3333333432674408,0.3333333432674408,0.3333333432674408,0.3333333432674408,0.3333333432674408,0.4444444477558136,0.4444444477558136,0.4444444477558136,0.4444444477558136,0.4444444477558136,0.4444444477558136,0.4444444477558136,0.4444444477558136,0.4444444477558136,0.4444444477558136,0.5555555820465088,0.5555555820465088,0.5555555820465088,0.5555555820465088,0.5555555820465088,0.5555555820465088,0.5555555820465088,0.5555555820465088,0.5555555820465088,0.5555555820465088,0.6666666865348816,0.6666666865348816,0.6666666865348816,0.6666666865348816,0.6666666865348816,0.6666666865348816,0.6666666865348816,0.6666666865348816,0.6666666865348816,0.6666666865348816,0.7777777910232544,0.7777777910232544,0.7777777910232544,0.7777777910232544,0.7777777910232544,0.7777777910232544,0.7777777910232544,0.7777777910232544,0.7777777910232544,0.7777777910232544,0.8888888955116272,0.8888888955116272,0.8888888955116272,0.8888888955116272,0.8888888955116272,0.8888888955116272,0.8888888955116272,0.8888888955116272,0.8888888955116272,0.8888888955116272,1.0,1.0,1.0,1.0,1.0,1.0,1.0,1.0,1.0,1.0],\"y\":[0.0,0.1111111119389534,0.2222222238779068,0.3333333432674408,0.4444444477558136,0.5555555820465088,0.6666666865348816,0.7777777910232544,0.8888888955116272,1.0,0.0,0.1111111119389534,0.2222222238779068,0.3333333432674408,0.4444444477558136,0.5555555820465088,0.6666666865348816,0.7777777910232544,0.8888888955116272,1.0,0.0,0.1111111119389534,0.2222222238779068,0.3333333432674408,0.4444444477558136,0.5555555820465088,0.6666666865348816,0.7777777910232544,0.8888888955116272,1.0,0.0,0.1111111119389534,0.2222222238779068,0.3333333432674408,0.4444444477558136,0.5555555820465088,0.6666666865348816,0.7777777910232544,0.8888888955116272,1.0,0.0,0.1111111119389534,0.2222222238779068,0.3333333432674408,0.4444444477558136,0.5555555820465088,0.6666666865348816,0.7777777910232544,0.8888888955116272,1.0,0.0,0.1111111119389534,0.2222222238779068,0.3333333432674408,0.4444444477558136,0.5555555820465088,0.6666666865348816,0.7777777910232544,0.8888888955116272,1.0,0.0,0.1111111119389534,0.2222222238779068,0.3333333432674408,0.4444444477558136,0.5555555820465088,0.6666666865348816,0.7777777910232544,0.8888888955116272,1.0,0.0,0.1111111119389534,0.2222222238779068,0.3333333432674408,0.4444444477558136,0.5555555820465088,0.6666666865348816,0.7777777910232544,0.8888888955116272,1.0,0.0,0.1111111119389534,0.2222222238779068,0.3333333432674408,0.4444444477558136,0.5555555820465088,0.6666666865348816,0.7777777910232544,0.8888888955116272,1.0,0.0,0.1111111119389534,0.2222222238779068,0.3333333432674408,0.4444444477558136,0.5555555820465088,0.6666666865348816,0.7777777910232544,0.8888888955116272,1.0]}],\"name\":\"9.0\"}]);\n",
       "                        }).then(function(){\n",
       "                            Plotly.animate('d9364683-d1e3-4788-857c-6a343bca059b', null);\n",
       "                        }).then(function(){\n",
       "                            \n",
       "var gd = document.getElementById('d9364683-d1e3-4788-857c-6a343bca059b');\n",
       "var x = new MutationObserver(function (mutations, observer) {{\n",
       "        var display = window.getComputedStyle(gd).display;\n",
       "        if (!display || display === 'none') {{\n",
       "            console.log([gd, 'removed!']);\n",
       "            Plotly.purge(gd);\n",
       "            observer.disconnect();\n",
       "        }}\n",
       "}});\n",
       "\n",
       "// Listen for the removal of the full notebook cells\n",
       "var notebookContainer = gd.closest('#notebook-container');\n",
       "if (notebookContainer) {{\n",
       "    x.observe(notebookContainer, {childList: true});\n",
       "}}\n",
       "\n",
       "// Listen for the clearing of the current output cell\n",
       "var outputEl = gd.closest('.output');\n",
       "if (outputEl) {{\n",
       "    x.observe(outputEl, {childList: true});\n",
       "}}\n",
       "\n",
       "                        })                };                });            </script>        </div>"
      ]
     },
     "metadata": {},
     "output_type": "display_data"
    }
   ],
   "source": [
    "result.plot_species('rabbits', animated=True)"
   ]
  }
 ],
 "metadata": {
  "kernelspec": {
   "display_name": "Python 3 (ipykernel)",
   "language": "python",
   "name": "python3"
  },
  "language_info": {
   "codemirror_mode": {
    "name": "ipython",
    "version": 3
   },
   "file_extension": ".py",
   "mimetype": "text/x-python",
   "name": "python",
   "nbconvert_exporter": "python",
   "pygments_lexer": "ipython3",
   "version": "3.9.9"
  }
 },
 "nbformat": 4,
 "nbformat_minor": 4
}

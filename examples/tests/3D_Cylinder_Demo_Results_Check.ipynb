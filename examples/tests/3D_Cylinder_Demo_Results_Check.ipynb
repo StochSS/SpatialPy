{
 "cells": [
  {
   "cell_type": "code",
   "execution_count": 1,
   "metadata": {},
   "outputs": [],
   "source": [
    "import os\n",
    "import sys\n",
    "sys.path.insert(1, os.path.abspath(os.path.join(os.getcwd(), '../../')))"
   ]
  },
  {
   "cell_type": "code",
   "execution_count": 2,
   "metadata": {},
   "outputs": [],
   "source": [
    "import numpy"
   ]
  },
  {
   "cell_type": "code",
   "execution_count": 3,
   "metadata": {},
   "outputs": [],
   "source": [
    "import matplotlib.pyplot as plt"
   ]
  },
  {
   "cell_type": "code",
   "execution_count": 4,
   "metadata": {},
   "outputs": [],
   "source": [
    "from spatialpy import (\n",
    "    Model,\n",
    "    Domain,\n",
    "    Species,\n",
    "    Parameter,\n",
    "    Reaction,\n",
    "    Geometry\n",
    ")"
   ]
  },
  {
   "cell_type": "code",
   "execution_count": 5,
   "metadata": {
    "tags": []
   },
   "outputs": [],
   "source": [
    "%load_ext autoreload\n",
    "%autoreload 2"
   ]
  },
  {
   "cell_type": "code",
   "execution_count": 6,
   "metadata": {},
   "outputs": [],
   "source": [
    "class Edge1(Geometry):\n",
    "    def __init__(self, xmax):\n",
    "        self.xmax = xmax\n",
    "\n",
    "    def inside(self, point, on_boundary):\n",
    "        return abs(point[0] - self.xmax) < 0.05"
   ]
  },
  {
   "cell_type": "code",
   "execution_count": 7,
   "metadata": {},
   "outputs": [],
   "source": [
    "class Edge2(Geometry):\n",
    "    def __init__(self, xmin):\n",
    "        self.xmin = xmin\n",
    "\n",
    "    def inside(self, point, on_boundary):\n",
    "        return abs(point[0] - self.xmin) < 0.05"
   ]
  },
  {
   "cell_type": "code",
   "execution_count": 8,
   "metadata": {},
   "outputs": [],
   "source": [
    "class Middle(Geometry):\n",
    "    def __init__(self, xmin):\n",
    "        self.xmin = xmin\n",
    "\n",
    "    def inside(self, point, on_boundary):\n",
    "        return abs(point[0] - self.xmin) >= 0.05"
   ]
  },
  {
   "cell_type": "code",
   "execution_count": 9,
   "metadata": {},
   "outputs": [],
   "source": [
    "class cylinderDemo3D(Model):\n",
    "    # Define type IDs as constants of the Model\n",
    "    MIDDLE = Middle.__name__\n",
    "    EDGE1 = Edge1.__name__\n",
    "    EDGE2 = Edge2.__name__\n",
    "    \n",
    "    def __init__(self, model_name=\"3D Cylinder Demo\"):\n",
    "        Model.__init__(self, model_name)\n",
    "\n",
    "        # Set domain bounds\n",
    "        xmin = -5\n",
    "        xmax = 5\n",
    "        \n",
    "        # System constants\n",
    "        D_const = 0.1\n",
    "\n",
    "        \"\"\"\n",
    "        Create a domain from a FEniCS/dolfin style XML mesh file\n",
    "        \n",
    "        - filename: Name of the mesh file.\n",
    "        \"\"\"\n",
    "        domain = Domain.read_xml_mesh(filename='../Domain_Files/cylinder.xml')\n",
    "        # Add type IDs to the particles\n",
    "        \"\"\"\n",
    "        Update the prpoerties of particles within a geometric shape.\n",
    "\n",
    "        - geometry_ivar: an instance of a 'spatialpy.Geometry' subclass.  The 'inside()' method\n",
    "                         of this object will be used to add a single point particles.\n",
    "        - type_id: Particle type ID of particle to be created.\n",
    "        - vol: Default volume of particle to be added.\n",
    "        - mass: Default mass of particle to be added.\n",
    "        - nu: Default viscosity of particle to be created.\n",
    "        - c: Default artificial speed of sound of particle to be created.\n",
    "        - rho: Default density of particle to be created\n",
    "        - fixed: True if particle is spatially fixed, else False.\n",
    "        \"\"\"\n",
    "        domain.set_properties(Middle(xmin=xmin), self.MIDDLE)\n",
    "        domain.set_properties(Edge1(xmax=xmax), self.EDGE1)\n",
    "        domain.set_properties(Edge2(xmin=xmin), self.EDGE2)\n",
    "        # Add the Domain to the Model\n",
    "        self.add_domain(domain)\n",
    "\n",
    "        # Define Species\n",
    "        A = Species(name=\"A\", diffusion_coefficient=D_const, restrict_to=[self.MIDDLE, self.EDGE1])\n",
    "        B = Species(name=\"B\", diffusion_coefficient=D_const, restrict_to=[self.MIDDLE, self.EDGE2])\n",
    "        \n",
    "        # Add the Species to the Model.\n",
    "        self.add_species([A, B])\n",
    "\n",
    "        # Define Parameters\n",
    "        vol = self.domain.get_vol()\n",
    "        type_id = self.domain.type_id\n",
    "        left = numpy.sum(vol[type_id == self.domain.get_type_def(self.EDGE1)])\n",
    "        right = numpy.sum(vol[type_id == self.domain.get_type_def(self.EDGE2)])\n",
    "        \n",
    "        k_react = Parameter(name=\"k_react\", expression=1.0)\n",
    "        k_creat1 = Parameter(name=\"k_creat1\", expression=100 / left)\n",
    "        k_creat2 = Parameter(name=\"k_creat2\", expression=100 / right)\n",
    "        \n",
    "        # Add the Parameters to the Model.\n",
    "        self.add_parameter([k_react, k_creat1, k_creat2])\n",
    "        \n",
    "        # Define Reactions\n",
    "        R1 = Reaction(\n",
    "            reactants={},\n",
    "            products={\"A\":1},\n",
    "            rate=\"k_creat1\",\n",
    "            restrict_to=self.EDGE1\n",
    "        )\n",
    "        \n",
    "        R2 = Reaction(\n",
    "            reactants={},\n",
    "            products={\"B\":1},\n",
    "            rate=\"k_creat2\",\n",
    "            restrict_to=self.EDGE2\n",
    "        )\n",
    "        \n",
    "        R3 = Reaction(\n",
    "            reactants={\"A\":1, \"B\":1},\n",
    "            products={},\n",
    "            rate=\"k_react\"\n",
    "        )\n",
    "        \n",
    "        # Add the Reactions to the Model.\n",
    "        self.add_reaction([R1, R2, R3])\n",
    "        \n",
    "        \"\"\"\n",
    "        Use NumPy to set the timespan of the Model. Reaction diffusion examples may require a small\n",
    "        timespan_size (around 1e-3) to generate accurate deterministic results.\n",
    "        \"\"\"\n",
    "        self.timespan(numpy.linspace(0, 500, 501), timestep_size=1e-5)"
   ]
  },
  {
   "cell_type": "code",
   "execution_count": 10,
   "metadata": {
    "scrolled": true,
    "tags": []
   },
   "outputs": [],
   "source": [
    "model = cylinderDemo3D()"
   ]
  },
  {
   "cell_type": "code",
   "execution_count": null,
   "metadata": {},
   "outputs": [
    {
     "name": "stdout",
     "output_type": "stream",
     "text": [
      "Number of Timesteps: 50000000\n",
      "Output Frequency: 99999.99999999999\n",
      "Timestep Size: 1e-05\n"
     ]
    }
   ],
   "source": [
    "print(f\"Number of Timesteps: {model.num_timesteps}\")\n",
    "print(f\"Output Frequency: {model.output_freq}\")\n",
    "print(f\"Timestep Size: {model.timestep_size}\")\n",
    "%time results = model.run()"
   ]
  },
  {
   "cell_type": "code",
   "execution_count": null,
   "metadata": {},
   "outputs": [],
   "source": [
    "model.timestep_size = 1\n",
    "model.timespan(range(500))\n",
    "print(f\"Number of Timesteps: {model.num_timesteps}\")\n",
    "print(f\"Output Frequency: {model.output_freq}\")\n",
    "print(f\"Timestep Size: {model.timestep_size}\")\n",
    "%time results2 = model.run()"
   ]
  },
  {
   "cell_type": "markdown",
   "metadata": {
    "scrolled": false,
    "tags": []
   },
   "source": [
    "# Visualization"
   ]
  },
  {
   "cell_type": "code",
   "execution_count": null,
   "metadata": {},
   "outputs": [],
   "source": [
    "def check_accuracy(results, deterministic=False):\n",
    "    fig, (ax1, ax2) = plt.subplots(1, 2, figsize=(15, 4.5))\n",
    "\n",
    "    tspan = results.get_timespan()\n",
    "    A_sum = numpy.sum(results.get_species(\"A\", deterministic=deterministic), axis=1)\n",
    "    B_sum = numpy.sum(results.get_species(\"B\", deterministic=deterministic), axis=1)\n",
    "\n",
    "    ax1.plot(tspan, A_sum, '-r', label=\"A\")\n",
    "    ax1.plot(tspan, B_sum, '-b', label=\"B\")\n",
    "    ax1.set_xlabel(\"Time\", fontsize=14)\n",
    "    ax1.tick_params(axis=\"x\", labelsize=12)\n",
    "    ax1.tick_params(axis=\"y\", labelsize=12)\n",
    "    _ = ax1.legend(loc='best')\n",
    "\n",
    "    x_vals = results.model.domain.coordinates()[:, 0]\n",
    "    A_vals = numpy.sum(results.get_species(\"A\", deterministic=deterministic), axis=0)\n",
    "    B_vals = numpy.sum(results.get_species(\"B\", deterministic=deterministic), axis=0)\n",
    "\n",
    "    ax2.plot(x_vals, A_vals, '.r')\n",
    "    ax2.plot(x_vals, B_vals, '.b')\n",
    "    ax2.set_xlabel(\"X-Coordinate\", fontsize=14)\n",
    "    ax2.tick_params(axis=\"x\", labelsize=12)\n",
    "    ax2.tick_params(axis=\"y\", labelsize=12)\n",
    "    _ = ax2.legend(['A', 'B'], loc='best')"
   ]
  },
  {
   "cell_type": "code",
   "execution_count": null,
   "metadata": {},
   "outputs": [],
   "source": [
    "def analyze_data(results, t_ndx=0):\n",
    "    _, data = results.read_step(step_num=t_ndx)\n",
    "    \n",
    "    import plotly.graph_objects as go\n",
    "\n",
    "    concentration_data = data[\"D[A]\"] / (data['mass'] / data['rho'])\n",
    "\n",
    "    fig = go.Figure()\n",
    "    fig.add_trace(go.Histogram(x=data[\"C[A]\"]))\n",
    "    fig.add_trace(go.Histogram(x=data[\"D[A]\"]))\n",
    "    fig.add_trace(go.Histogram(x=concentration_data))\n",
    "\n",
    "    fig.update_layout(\n",
    "        xaxis_title_text='Value', # xaxis label\n",
    "        yaxis_title_text='Count', # yaxis label\n",
    "        bargap=0.2, # gap between bars of adjacent location coordinates\n",
    "        bargroupgap=0.1 # gap between bars of the same location coordinates\n",
    "    )\n",
    "    fig.show()"
   ]
  },
  {
   "cell_type": "markdown",
   "metadata": {},
   "source": [
    "### Time Step Size = 1e-3"
   ]
  },
  {
   "cell_type": "code",
   "execution_count": null,
   "metadata": {},
   "outputs": [],
   "source": [
    "check_accuracy(results)"
   ]
  },
  {
   "cell_type": "code",
   "execution_count": null,
   "metadata": {},
   "outputs": [],
   "source": [
    "check_accuracy(results, deterministic=True)"
   ]
  },
  {
   "cell_type": "code",
   "execution_count": null,
   "metadata": {},
   "outputs": [],
   "source": [
    "analyze_data(results=results, t_ndx=200)"
   ]
  },
  {
   "cell_type": "code",
   "execution_count": null,
   "metadata": {},
   "outputs": [],
   "source": [
    "results.plot_species('A', t_ndx=200, width=None, height=None, title=\"Raw Stochastic Results\")\n",
    "results.plot_species('A', t_ndx=200, concentration=True, width=None, height=None, title=\"Stochastic Results\")\n",
    "results.plot_species('A', t_ndx=200, deterministic=True, width=None, height=None, title=\"Deterministic Results\")"
   ]
  },
  {
   "cell_type": "markdown",
   "metadata": {},
   "source": [
    "### Time Step Size = 1"
   ]
  },
  {
   "cell_type": "code",
   "execution_count": null,
   "metadata": {},
   "outputs": [],
   "source": [
    "check_accuracy(results2)"
   ]
  },
  {
   "cell_type": "code",
   "execution_count": null,
   "metadata": {},
   "outputs": [],
   "source": [
    "check_accuracy(results2, deterministic=True)"
   ]
  },
  {
   "cell_type": "code",
   "execution_count": null,
   "metadata": {},
   "outputs": [],
   "source": [
    "analyze_data(results=results2, t_ndx=200)"
   ]
  },
  {
   "cell_type": "code",
   "execution_count": null,
   "metadata": {},
   "outputs": [],
   "source": [
    "results2.plot_species('A', t_ndx=200, width=None, height=None, title=\"Raw Stochastic Results\")\n",
    "results2.plot_species('A', t_ndx=200, concentration=True, width=None, height=None, title=\"Stochastic Results\")\n",
    "results2.plot_species('A', t_ndx=200, deterministic=True, width=None, height=None, title=\"Deterministic Results\")"
   ]
  }
 ],
 "metadata": {
  "kernelspec": {
   "display_name": "Python 3 (ipykernel)",
   "language": "python",
   "name": "python3"
  },
  "language_info": {
   "codemirror_mode": {
    "name": "ipython",
    "version": 3
   },
   "file_extension": ".py",
   "mimetype": "text/x-python",
   "name": "python",
   "nbconvert_exporter": "python",
   "pygments_lexer": "ipython3",
   "version": "3.9.9"
  }
 },
 "nbformat": 4,
 "nbformat_minor": 2
}

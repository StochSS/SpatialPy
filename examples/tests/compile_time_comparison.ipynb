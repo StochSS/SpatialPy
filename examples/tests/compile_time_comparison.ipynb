{
 "cells": [
  {
   "cell_type": "code",
   "execution_count": 1,
   "metadata": {
    "tags": []
   },
   "outputs": [],
   "source": [
    "import os\n",
    "import sys\n",
    "sys.path.insert(0, \"../..\")\n",
    "import time\n",
    "from collections import OrderedDict\n",
    "import spatialpy\n",
    "spatialpy.__file__\n",
    "from spatialpy import Solver\n",
    "import matplotlib.pyplot as plt\n",
    "import plotly.graph_objects as go\n",
    "from plotly.offline import iplot\n",
    "import numpy\n",
    "%load_ext autoreload\n",
    "%autoreload 2"
   ]
  },
  {
   "cell_type": "code",
   "execution_count": 2,
   "metadata": {},
   "outputs": [],
   "source": [
    "class All(spatialpy.Geometry):\n",
    "    def inside(self, x, on_boundary):\n",
    "        return True\n",
    "\n",
    "class Left(spatialpy.Geometry):\n",
    "    def inside(self, x, on_boundary):\n",
    "        if x[0] >= 0:\n",
    "            return True\n",
    "        return False\n",
    "\n",
    "class Right(spatialpy.Geometry):\n",
    "    def inside(self, x, on_boundary):\n",
    "        if x[0] < 0:\n",
    "            return True\n",
    "        return False"
   ]
  },
  {
   "cell_type": "code",
   "execution_count": 3,
   "metadata": {},
   "outputs": [],
   "source": [
    "class Diffreactdebugtest(spatialpy.Model):\n",
    "\n",
    "    def __init__(self, nx, ny, model_name=\"diffreact_debug_test\"):\n",
    "        spatialpy.Model.__init__(self, model_name)\n",
    "\n",
    "        D_const = 0.01\n",
    "\n",
    "        # Species\n",
    "        A = spatialpy.Species(name=\"A\", diffusion_constant=D_const)\n",
    "        self.add_species([A])\n",
    "\n",
    "        # Mesh\n",
    "        self.domain = spatialpy.Domain.create_2D_domain(\n",
    "            xlim=[-1, 1], ylim=[-1, 1], nx=nx, ny=ny, type_id=1.0, \n",
    "            mass=1.0, nu=1.0, fixed=True,  rho0=1.0, c0=1.0, P0=1.0\n",
    "        )\n",
    "\n",
    "        # Subdomains\n",
    "        self.set_type(Left(), 1, mass=1.0, fixed=True)\n",
    "        self.set_type(Right(), 2, mass=1.0, fixed=True)\n",
    "\n",
    "        # Parameter\n",
    "        Rate1 = spatialpy.Parameter(\"Rate1\", expression=100)\n",
    "\n",
    "        # Reactions\n",
    "        R1 = spatialpy.Reaction(name=\"R1\", reactants={}, products={A:1}, rate=Rate1, restrict_to=1)\n",
    "        R2 = spatialpy.Reaction(name=\"R2\", reactants={A:1}, products={}, rate=Rate1, restrict_to=2)\n",
    "\n",
    "        # Time\n",
    "        self.timestep_size=0.1\n",
    "        self.num_timesteps=10\n",
    "        self.output_freq=1"
   ]
  },
  {
   "cell_type": "code",
   "execution_count": 4,
   "metadata": {},
   "outputs": [],
   "source": [
    "class CompileTest():\n",
    "\n",
    "    def __init__(self, max_compile_time, verbose=0):\n",
    "        self.times = []\n",
    "        self.num_particles = []\n",
    "        self.max_compile_time = max_compile_time\n",
    "        self.verbose = verbose\n",
    "        \n",
    "    def build_test(self, nx, ny):\n",
    "        model = Diffreactdebugtest(nx, ny)\n",
    "        solver = Solver(model, debug_level=0)\n",
    "        return model, solver\n",
    "    \n",
    "    def run(self):\n",
    "        self.run_test()\n",
    "        self.plot_results()\n",
    "        \n",
    "    def run_test(self):\n",
    "        for i in range(2, 10000):\n",
    "            num_particles = pow(i, 2)\n",
    "            self.num_particles.append(num_particles)\n",
    "            \n",
    "            model, solver = self.build_test(nx=i, ny=i)\n",
    "            \n",
    "            start = time.time()\n",
    "            solver.compile()\n",
    "            end = time.time()\n",
    "            diff = end-start\n",
    "            self.times.append(diff)\n",
    "            \n",
    "            if self.verbose >= 1:\n",
    "                print(\"The model has {} particles -- Time to compile was {}\".format(num_particles, diff))\n",
    "                \n",
    "            if diff > self.max_compile_time:\n",
    "                break\n",
    "                \n",
    "    def plot_results(self):\n",
    "        trace = go.Scatter(\n",
    "            x=self.num_particles,\n",
    "            y=self.times,\n",
    "            mode='lines+markers',\n",
    "        )\n",
    "        \n",
    "        layout = {\"title\": \"Compile Time for Models with Varying Particle Counts\",\n",
    "                  \"xaxis_title\": \"Number of Particles\",\n",
    "                  \"yaxis_title\": \"Average Time (in seconds)\"}\n",
    "        \n",
    "        fig = {\"data\":[trace], \"layout\":layout}\n",
    "\n",
    "        iplot(fig)"
   ]
  },
  {
   "cell_type": "code",
   "execution_count": null,
   "metadata": {},
   "outputs": [],
   "source": [
    "test = CompileTest(max_compile_time=60)\n",
    "%time test.run()"
   ]
  },
  {
   "cell_type": "code",
   "execution_count": null,
   "metadata": {},
   "outputs": [],
   "source": [
    "model = Diffreactdebugtest(40, 40)\n",
    "solver = Solver(model=model)\n",
    "%prun solver.compile()"
   ]
  }
 ],
 "metadata": {
  "kernelspec": {
   "display_name": "Python 3",
   "language": "python",
   "name": "python3"
  },
  "language_info": {
   "codemirror_mode": {
    "name": "ipython",
    "version": 3
   },
   "file_extension": ".py",
   "mimetype": "text/x-python",
   "name": "python",
   "nbconvert_exporter": "python",
   "pygments_lexer": "ipython3",
   "version": "3.9.2"
  }
 },
 "nbformat": 4,
 "nbformat_minor": 2
}

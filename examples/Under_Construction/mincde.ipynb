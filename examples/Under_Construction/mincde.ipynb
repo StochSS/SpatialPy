{
 "cells": [
  {
   "cell_type": "markdown",
   "metadata": {},
   "source": [
    "# MinD Oscillations in E. coli"
   ]
  },
  {
   "cell_type": "markdown",
   "metadata": {},
   "source": [
    "One spatial reaction-diffusion system that has been studied frequently in the literature both in a deterministic setting (Huang et. al, 2003) and using a stochastic description (Fange and Elf, 2006) is describing the periodic oscillations of Min proteins in the bacterium E. Coli. By oscillating from pole to pole, MinC suppresses the formation of a cell division site at the poles, indirectly positioning it in the middle of the cell.\n",
    "\n",
    "References:\n",
    " - Kerwyn Casey Huang, Yigal Meir, and Ned S. Wingreen, Dynamic structures in Escherichia coli: Spontaneous formation of MinE rings and MinD polar zones,PNAS, 2003.\n",
    " - David Fange and Johan Elf, Noise-induced Min Phenotypes in E. Coli, PLOS Computational Biology, 2(6), 2006."
   ]
  },
  {
   "cell_type": "markdown",
   "metadata": {},
   "source": [
    "### Imports and definitions"
   ]
  },
  {
   "cell_type": "code",
   "execution_count": 1,
   "metadata": {
    "tags": []
   },
   "outputs": [],
   "source": [
    "%load_ext autoreload\n",
    "%autoreload 2\n",
    "\n",
    "import os\n",
    "import sys\n",
    "sys.path.append('../..')\n",
    "\n",
    "import numpy as np\n",
    "import matplotlib.pyplot as plt\n",
    "\n",
    "import spatialpy"
   ]
  },
  {
   "cell_type": "code",
   "execution_count": 2,
   "metadata": {},
   "outputs": [],
   "source": [
    "class MeshSize(spatialpy.DataFunction):\n",
    "    def __init__(self,mesh):\n",
    "        spatialpy.DataFunction.__init__(self, name=\"MeshSize\")\n",
    "        self.mesh = mesh\n",
    "        self.h = mesh.get_domain_size()\n",
    "    \n",
    "    def map(self, x):\n",
    "        ret = self.h[self.mesh.closest_vertex(x)]\n",
    "        return ret"
   ]
  },
  {
   "cell_type": "markdown",
   "metadata": {},
   "source": [
    "### Model"
   ]
  },
  {
   "cell_type": "code",
   "execution_count": 3,
   "metadata": {},
   "outputs": [],
   "source": [
    "class mincde(spatialpy.Model):\n",
    "    \"\"\" Model of MinD oscillations in E. Coli, based on the model by Huang. et. al. in \"\"\"\n",
    "    CYTOSOL = 1\n",
    "    MEMBRATE = 2\n",
    "\n",
    "    def __init__(self,model_name=\"mincde\"):\n",
    "        spatialpy.Model.__init__(self, model_name)\n",
    "\n",
    "        # Domain\n",
    "        domain = spatialpy.Domain.read_msh_file(\"Domain_Files/coli.msh\")\n",
    "        domain.set_properties(spatialpy.GeometryInterior(), self.CYTOSOL)\n",
    "        domain.set_properties(spatialpy.GeometryExterior(), self.MEMBRATE)\n",
    "        self.add_domain(domain)\n",
    "\n",
    "        D_m = 1e-14\n",
    "        D_c = 2.5e-12\n",
    "\n",
    "        # Species\n",
    "        # Restrict to membrane protiens to membrane domain (2)\n",
    "        MinD_m = spatialpy.Species(name=\"MinD_m\", diffusion_coefficient=D_m, restrict_to=self.MEMBRATE)\n",
    "        MinD_c_atp = spatialpy.Species(name=\"MinD_c_atp\", diffusion_coefficient=D_c)\n",
    "        MinD_c_adp = spatialpy.Species(name=\"MinD_c_adp\", diffusion_coefficient=D_c)\n",
    "        MinD_e = spatialpy.Species(name=\"MinD_e\", diffusion_coefficient=D_c)\n",
    "        MinDE = spatialpy.Species(name=\"MinDE\", diffusion_coefficient=D_m, restrict_to=self.MEMBRATE)\n",
    "        self.add_species([MinD_m, MinD_c_atp, MinD_c_adp, MinD_e, MinDE])\n",
    "\n",
    "        # Parameters\n",
    "        sigma_d = spatialpy.Parameter(name=\"sigma_d\", expression=2.5e-8)\n",
    "        sigma_dD = spatialpy.Parameter(name=\"sigma_dD\", expression=0.0016e-18)\n",
    "        sigma_e = spatialpy.Parameter(name=\"sigma_e\", expression=0.093e-18)\n",
    "        sigma_de = spatialpy.Parameter(name=\"sigma_de\", expression=0.7)\n",
    "        sigma_dt = spatialpy.Parameter(name=\"sigma_dt\", expression=1.0)\n",
    "        self.add_parameter([sigma_d, sigma_dD, sigma_e, sigma_de, sigma_dt])\n",
    "        \n",
    "        # Data function (spatially varying constant)\n",
    "        self.add_data_function(MeshSize(self.domain))\n",
    "\n",
    "        # Reactions\n",
    "        R1 = spatialpy.Reaction(propensity_function=\"MinD_c_atp*sigma_d/MeshSize\", \n",
    "                                restrict_to=self.MEMBRATE,\n",
    "                                reactants={MinD_c_atp:1}, products={MinD_m:1})\n",
    "        R2 = spatialpy.Reaction(rate=sigma_dD,\n",
    "                                reactants={MinD_c_atp:1,MinD_m:1}, products={MinD_m:2})\n",
    "        R3 = spatialpy.Reaction(rate=sigma_e,\n",
    "                                reactants={MinD_m:1,MinD_e:1}, products={MinDE:1})\n",
    "        R4 = spatialpy.Reaction(rate=sigma_de,\n",
    "                                reactants={MinDE:1}, products={MinD_c_adp:1,MinD_e:1})\n",
    "        R5 = spatialpy.Reaction(rate=sigma_dt,\n",
    "                                reactants={MinD_c_adp:1}, products={MinD_c_atp:1})\n",
    "        R6 = spatialpy.Reaction(rate=sigma_dD,\n",
    "                                reactants={MinDE:1,MinD_c_atp:1}, products={MinD_m:1,MinDE:1})\n",
    "        self.add_reaction([R1, R2, R3, R4, R5, R6])\n",
    "        \n",
    "        # Initial Conditions\n",
    "        self.add_initial_condition(spatialpy.ScatterInitialCondition(MinD_c_adp, 4500))\n",
    "        self.add_initial_condition(spatialpy.ScatterInitialCondition(MinD_e, 1575))\n",
    "\n",
    "        #self.timespan(range(200), timestep_size=1)\n",
    "        self.timespan(range(500), timestep_size=1)"
   ]
  },
  {
   "cell_type": "code",
   "execution_count": 4,
   "metadata": {
    "scrolled": false
   },
   "outputs": [],
   "source": [
    "model = mincde(model_name=\"mincde\")"
   ]
  },
  {
   "cell_type": "markdown",
   "metadata": {},
   "source": [
    "## Running the model and processing the results"
   ]
  },
  {
   "cell_type": "code",
   "execution_count": 5,
   "metadata": {},
   "outputs": [
    {
     "name": "stdout",
     "output_type": "stream",
     "text": [
      "CPU times: user 2.77 s, sys: 14.9 ms, total: 2.79 s\n",
      "Wall time: 3.29 s\n",
      "/var/folders/z4/bqpnd_kx7xg3s3c9jtz0pnfh0000gn/T/spatialpy_build_b64bmhwn\n"
     ]
    }
   ],
   "source": [
    "#%time result = model.run()\n",
    "from spatialpy import Solver\n",
    "sol = Solver(model, debug_level=0)\n",
    "%time sol.compile()\n",
    "print(sol.build_dir)"
   ]
  },
  {
   "cell_type": "code",
   "execution_count": null,
   "metadata": {},
   "outputs": [],
   "source": [
    "%time result = sol.run()"
   ]
  },
  {
   "cell_type": "code",
   "execution_count": null,
   "metadata": {},
   "outputs": [],
   "source": [
    "for s in result.model.get_all_species().keys():\n",
    "    val = result.get_species(s)\n",
    "    plt.plot(result.tspan, np.sum(val,axis=1), '-', label=s)\n",
    "plt.legend()"
   ]
  },
  {
   "cell_type": "markdown",
   "metadata": {},
   "source": [
    "# Analysis of 'result' object "
   ]
  },
  {
   "cell_type": "code",
   "execution_count": null,
   "metadata": {},
   "outputs": [],
   "source": [
    "mindm = result.get_species(\"MinD_m\")\n",
    "\n",
    "y_vals = model.domain.coordinates()[:, 1]\n",
    "idx = y_vals < 1e-6\n",
    "mindmsum = np.sum(mindm[:,idx],axis=1)\n",
    "plt.plot(result.tspan, mindmsum)\n",
    "plt.title('MinD_m oscillations')\n",
    "plt.xlabel('Time (s)')\n",
    "_=plt.ylabel('Copy number of membrane bound MinD in half of the cell')"
   ]
  },
  {
   "cell_type": "code",
   "execution_count": null,
   "metadata": {},
   "outputs": [],
   "source": [
    "mx = np.max(mindmsum)\n",
    "tmax = [i for i, j in enumerate(mindmsum) if j == mx][0]\n",
    "tmax = min(tmax, int(result.tspan[-1]-100) )\n",
    "# tlist = range(model.tspan[-1]-100,model.tspan[-1],10)\n",
    "tlist = range(tmax, tmax+100, 5)\n",
    "# plt.figure(figsize=(len(tlist)*0.75,2))\n",
    "plt.figure(figsize=(len(tlist)*1.5, 5))\n",
    "for num, tnow in enumerate(tlist):\n",
    "    minD1 = result.get_species(\"MinD_m\", tnow)\n",
    "    xlist = []\n",
    "    ylist = []\n",
    "    zlist = []\n",
    "    cutoff = 5\n",
    "    for vndx, minD_val in enumerate(minD1):\n",
    "        if minD_val > cutoff:\n",
    "            c = model.domain.coordinates()[vndx,:]\n",
    "            #print vndx, minD_val, c\n",
    "            xlist.append(c[0])\n",
    "            ylist.append(c[1])\n",
    "            zlist.append(c[2])\n",
    "\n",
    "    plt.subplot(1,len(tlist),num+1)\n",
    "    plt.plot(model.domain.coordinates()[:,0], model.domain.coordinates()[:,1], '.', color='#eeeeee')\n",
    "    plt.plot(xlist,ylist,'.')\n",
    "    plt.title('t={0}'.format(tnow))\n",
    "    plt.xlim(-3e-7, 3e-7)\n",
    "    plt.ylim(-5e-7, 25e-6)\n",
    "    plt.axis('equal')\n",
    "    plt.axis('off')\n"
   ]
  },
  {
   "cell_type": "code",
   "execution_count": null,
   "metadata": {},
   "outputs": [],
   "source": [
    "result.plot_species(\"MinD_m\",-1)"
   ]
  },
  {
   "cell_type": "code",
   "execution_count": null,
   "metadata": {},
   "outputs": [],
   "source": [
    "result.plot_property('type')"
   ]
  },
  {
   "cell_type": "code",
   "execution_count": null,
   "metadata": {},
   "outputs": [],
   "source": []
  }
 ],
 "metadata": {
  "kernelspec": {
   "display_name": "Python 3 (ipykernel)",
   "language": "python",
   "name": "python3"
  },
  "language_info": {
   "codemirror_mode": {
    "name": "ipython",
    "version": 3
   },
   "file_extension": ".py",
   "mimetype": "text/x-python",
   "name": "python",
   "nbconvert_exporter": "python",
   "pygments_lexer": "ipython3",
   "version": "3.9.9"
  }
 },
 "nbformat": 4,
 "nbformat_minor": 1
}

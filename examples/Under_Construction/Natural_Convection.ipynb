{
 "cells": [
  {
   "cell_type": "markdown",
   "id": "1957c6ee",
   "metadata": {},
   "source": [
    "# Natural Convection with SpatialPy"
   ]
  },
  {
   "cell_type": "markdown",
   "id": "0c698697",
   "metadata": {},
   "source": [
    "## Definition of the model"
   ]
  },
  {
   "cell_type": "markdown",
   "id": "e5ad9e47",
   "metadata": {},
   "source": [
    "### Imports and definitions"
   ]
  },
  {
   "cell_type": "code",
   "execution_count": 1,
   "id": "d8858713",
   "metadata": {},
   "outputs": [],
   "source": [
    "import os\n",
    "import sys\n",
    "import math\n",
    "sys.path.insert(1, \"../..\")\n",
    "import numpy as np\n",
    "import matplotlib.pyplot as plt\n",
    "\n",
    "import spatialpy"
   ]
  },
  {
   "cell_type": "code",
   "execution_count": 2,
   "id": "2c90c3f5",
   "metadata": {},
   "outputs": [],
   "source": [
    "class Cylinder(spatialpy.Geometry):\n",
    "    def __init__(self, radius):\n",
    "        self.radius = radius\n",
    "    \n",
    "    def inside(self, point, on_boundary):\n",
    "        return point[0]**2 + point[1]**2 < self.radius**2"
   ]
  },
  {
   "cell_type": "code",
   "execution_count": 3,
   "id": "5b5fc048",
   "metadata": {},
   "outputs": [],
   "source": [
    "class Walls(spatialpy.Geometry):\n",
    "    def __init__(self, minint, maxint):\n",
    "        self.min = minint\n",
    "        self.max = maxint\n",
    "    \n",
    "    def inside(self, point, on_boundary):\n",
    "        # Bottom Wall\n",
    "        if point[1] <= self.min: return True\n",
    "        # Top Wall\n",
    "        if point[1] >= self.max: return True\n",
    "        # Left Wall\n",
    "        if point[0] <= self.min: return True\n",
    "        # Right Wall\n",
    "        if point[0] >= self.max: return True\n",
    "        return False"
   ]
  },
  {
   "cell_type": "code",
   "execution_count": 4,
   "id": "7abf5efa",
   "metadata": {},
   "outputs": [],
   "source": [
    "class BouyancyForce(spatialpy.BoundaryCondition):\n",
    "    def __init__(self, type_id, acceleration, C_ref):\n",
    "        self.type_id = type_id\n",
    "        self.acceleration = acceleration\n",
    "        self.C_ref = C_ref\n",
    "        \n",
    "    def expression(self):\n",
    "        bc_str = f\"if(me->type == {self.type_id})\" + \"{\"\n",
    "        bc_str += f\"me->F[1] += me->mass * {self.acceleration} * (me->C[0] - {self.C_ref});\"\n",
    "        bc_str += \"}\"\n",
    "        return bc_str"
   ]
  },
  {
   "cell_type": "markdown",
   "id": "07b04738",
   "metadata": {},
   "source": [
    "### Model"
   ]
  },
  {
   "cell_type": "code",
   "execution_count": 5,
   "id": "8836e49a",
   "metadata": {},
   "outputs": [],
   "source": [
    "class NaturalConvection(spatialpy.Model):\n",
    "    FLUID = 1\n",
    "    WALLS = 2\n",
    "    CYLINDER = 3\n",
    "\n",
    "    def __init__(self, model_name=\"Natural Convection\", Ra=1e4):\n",
    "        spatialpy.Model.__init__(self, model_name)\n",
    "        \n",
    "        # System Constants\n",
    "        Sc = 0.7 # Schmidt Number\n",
    "        kappastar = 1/math.sqrt(Sc*Ra)\n",
    "        Lint = 1\n",
    "        Nint = 200\n",
    "        Nwall = 3\n",
    "        mustar = math.sqrt(Sc/Ra)\n",
    "        rho0 = 1\n",
    "        c0 = 5\n",
    "        radius_external = 0.1\n",
    "        gravity = [0, -1, 0]\n",
    "        C0 = 1.0\n",
    "        g = -1\n",
    "        Cref = 0.0\n",
    "        \n",
    "        # Species\n",
    "        A = spatialpy.Species(name=\"A\", diffusion_coefficient=kappastar)\n",
    "        print(f\"species A: diffusion_coefficient={kappastar}\")\n",
    "        self.add_species(A)\n",
    "        \n",
    "        # Discretization\n",
    "        Npx = Npy = Nint+2*Nwall\n",
    "        Np = Npx*Npy\n",
    "        \n",
    "        # Compute domain bounds (including the boundary)\n",
    "        delta = Lint/Nint\n",
    "        L = Lint+Nwall*2*delta\n",
    "        xmin = ymin = -L/2\n",
    "        xmax = ymax = L/2\n",
    "        minint = -Lint/2\n",
    "        maxint = Lint/2\n",
    "        \n",
    "        # Compute volume and mass per particle\n",
    "        vtot = L**2\n",
    "        mi = vtot/Np # mass per particle\n",
    "        \n",
    "        # Domain\n",
    "        e = 1e-6\n",
    "        h = hc = 2.5*delta\n",
    "        \n",
    "        ###################################################\n",
    "        # g = -1                                          #\n",
    "        # Cref = 0.0                                      #\n",
    "        #                                                 #\n",
    "        # P0 = rho0 * v0**2                               #\n",
    "        #    = rho0 * math.sqrt(g * beta * L *deltaC)**2  #\n",
    "        #    = rho0 * g * beta * L * deltaC               #\n",
    "        #    = rho0 * g * beta * L * (C - Cref)           #\n",
    "        #                                                 #\n",
    "        # From Paper                                      #\n",
    "        # ----------                                      #\n",
    "        # Fb = g * beta * deltaC * y                      #\n",
    "        #    = g * beta * (C - Cref) * y                  #\n",
    "        #                                                 #\n",
    "        # From lammps                                     #\n",
    "        # -----------                                     #\n",
    "        # Fb = mass * g * deltaC                          #\n",
    "        #    = mass * g * (C - Cref)                      #\n",
    "        ###################################################\n",
    "        \n",
    "        domain = spatialpy.Domain.create_2D_domain(\n",
    "            xlim=(xmin, xmax), ylim=(ymin, ymax), nx=Npx, ny=Npy, type_id=self.FLUID,\n",
    "            mass=mi, nu=mustar, rho0=rho0, c0=c0, gravity=gravity, fixed=False\n",
    "        )\n",
    "        domain.set_properties(Walls(minint, maxint), type_id=self.WALLS, fixed=True)\n",
    "        domain.set_properties(Cylinder(radius_external), type_id=self.CYLINDER, fixed=True)\n",
    "        domain.dimensions = 2\n",
    "        self.add_domain(domain)\n",
    "        \n",
    "        # Static Domain\n",
    "        self.staticDomain = False #not in self.domain.fixed\n",
    "        \n",
    "        # Initial Conditions\n",
    "        uniform_ic = spatialpy.UniformInitialCondition(A, C0, [self.CYLINDER])\n",
    "        self.add_initial_condition(uniform_ic)\n",
    "        \n",
    "        # Boundary Conditions\n",
    "        walls_bc = spatialpy.BoundaryCondition(type_id=self.WALLS, target=\"A\", value=0, model=self)\n",
    "        self.add_boundary_condition(walls_bc)\n",
    "        \n",
    "        cylinder_bc = spatialpy.BoundaryCondition(type_id=self.CYLINDER, target=\"A\", value=C0, model=self)\n",
    "        self.add_boundary_condition(cylinder_bc)\n",
    "        \n",
    "        # Buoyancy Force\n",
    "        Fb = BouyancyForce(type_id=self.FLUID, acceleration=g, C_ref=Cref)\n",
    "        self.add_boundary_condition(Fb)\n",
    "\n",
    "        \n",
    "        # Timespan\n",
    "        dt = 1e-4\n",
    "        #nt = 10000000\n",
    "        #nt = 100000\n",
    "        #freq_results = nt/10000\n",
    "        #self.timespan(np.arange(0, nt*dt+dt, freq_results*dt), timestep_size=dt)\n",
    "        #print(f\"tspan: np.arange(0, {nt*dt+dt}, {freq_results*dt}), timestep_size: {dt}\")\n",
    "        #self.domain.plot_types()\n",
    "        #self.set_timesteps(output_interval=dt*freq_results, num_steps=int(nt/freq_results), timestep_size=dt)\n",
    "        \n",
    "        self.timespan(np.linspace(0, 5, 11), timestep_size=dt)\n",
    "        \n",
    "        # disable RDME simulation (not needed for heat transfer applications)\n",
    "        self.enable_rdme = False\n",
    "        "
   ]
  },
  {
   "cell_type": "code",
   "execution_count": 6,
   "id": "b2299007",
   "metadata": {
    "scrolled": false
   },
   "outputs": [
    {
     "name": "stdout",
     "output_type": "stream",
     "text": [
      "species A: diffusion_coefficient=0.011952286093343936\n"
     ]
    }
   ],
   "source": [
    "model = NaturalConvection()"
   ]
  },
  {
   "cell_type": "code",
   "execution_count": null,
   "id": "bcb73989",
   "metadata": {
    "scrolled": false
   },
   "outputs": [],
   "source": [
    "solver = spatialpy.Solver(model=model, debug_level=0)\n",
    "%time solver.compile()\n",
    "solver.build_dir"
   ]
  },
  {
   "cell_type": "code",
   "execution_count": null,
   "id": "de4ec813",
   "metadata": {},
   "outputs": [],
   "source": [
    "%time results = solver.run()"
   ]
  },
  {
   "cell_type": "code",
   "execution_count": null,
   "id": "65e9e863",
   "metadata": {},
   "outputs": [],
   "source": [
    "#results.plot_property(\"v\", p_ndx=1, t_ndx=-1, use_matplotlib=False)"
   ]
  },
  {
   "cell_type": "code",
   "execution_count": null,
   "id": "ea803189",
   "metadata": {},
   "outputs": [],
   "source": [
    "results.plot_property(\"v\", p_ndx=1, t_ndx=-1, use_matplotlib=True)"
   ]
  },
  {
   "cell_type": "code",
   "execution_count": null,
   "id": "8f359836",
   "metadata": {},
   "outputs": [],
   "source": [
    "results.plot_property(\"type\", use_matplotlib=True)"
   ]
  },
  {
   "cell_type": "code",
   "execution_count": null,
   "id": "e3381a94",
   "metadata": {},
   "outputs": [],
   "source": [
    "results.plot_species('A',t_ndx=-1,deterministic=True,use_matplotlib=True)"
   ]
  },
  {
   "cell_type": "code",
   "execution_count": null,
   "id": "38ffe61b",
   "metadata": {
    "scrolled": false
   },
   "outputs": [],
   "source": [
    "for n,t in enumerate(results.get_timespan()):\n",
    "    results.plot_species('A',t_ndx=n,deterministic=True,use_matplotlib=True)\n",
    "    plt.title(f\"t={t}\")"
   ]
  },
  {
   "cell_type": "code",
   "execution_count": null,
   "id": "82f283e9",
   "metadata": {},
   "outputs": [],
   "source": []
  },
  {
   "cell_type": "code",
   "execution_count": null,
   "id": "d16cb89d",
   "metadata": {},
   "outputs": [],
   "source": []
  }
 ],
 "metadata": {
  "kernelspec": {
   "display_name": "Python 3 (ipykernel)",
   "language": "python",
   "name": "python3"
  },
  "language_info": {
   "codemirror_mode": {
    "name": "ipython",
    "version": 3
   },
   "file_extension": ".py",
   "mimetype": "text/x-python",
   "name": "python",
   "nbconvert_exporter": "python",
   "pygments_lexer": "ipython3",
   "version": "3.9.9"
  }
 },
 "nbformat": 4,
 "nbformat_minor": 5
}

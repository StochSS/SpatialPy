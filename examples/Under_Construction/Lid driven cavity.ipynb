{
 "cells": [
  {
   "cell_type": "code",
   "execution_count": 1,
   "metadata": {},
   "outputs": [],
   "source": [
    "import sys\n",
    "sys.path.append('../..')\n",
    "%load_ext autoreload\n",
    "%autoreload 2"
   ]
  },
  {
   "cell_type": "code",
   "execution_count": 2,
   "metadata": {},
   "outputs": [],
   "source": [
    "import spatialpy\n",
    "import numpy\n",
    "import matplotlib.pyplot as plt"
   ]
  },
  {
   "cell_type": "code",
   "execution_count": 3,
   "metadata": {},
   "outputs": [],
   "source": [
    "class Walls(spatialpy.Geometry):\n",
    "    ''' Outside of the unit square'''\n",
    "    def inside(self, point, on_boundary):\n",
    "        if point[0] < 0.0 or point[0] > 1.0 or \\\n",
    "           point[1] < 0.0 or point[1] > 1.0:\n",
    "            return True\n",
    "        return False"
   ]
  },
  {
   "cell_type": "code",
   "execution_count": 4,
   "metadata": {},
   "outputs": [],
   "source": [
    "class Lid_Driven_Cavity(spatialpy.Model):\n",
    "    \"\"\" Lid driven cavity problem\n",
    "    Description: box with Dirichlet boundary conditions in all 4 walls\n",
    "    Top wall: moves with constant velocity Vo\n",
    "    All other walls: stationary (no-slip)\n",
    "    Wall lengths: height = 1, width = 1 (2D case)\n",
    "  \n",
    "              vx=Vo, vy=0\n",
    "              __ __ __ __\n",
    "             |           |\n",
    "             |           |\n",
    "    vx=vy=0  |           |  vx=vy=0\n",
    "             |           |\n",
    "             |__ __ __ __|\n",
    "             \n",
    "                vx=vy=0\n",
    "    \n",
    "    \"\"\"\n",
    "\n",
    "    def __init__(self, model_name=\"lid_driven_cavity\"):\n",
    "        spatialpy.Model.__init__(self,model_name)\n",
    "        \n",
    "        # System constants\n",
    "        Vo = 1.              # lid velocity\n",
    "        nxF,nyF = 50,50      # number of fluid particles in x and y-direction\n",
    "        nu  = 0.01           # fluid viscosity\n",
    "        L   = 1.             # characteristic lenght of the cavity (= width = height)\n",
    "        nW  = 3              # number of wall points\n",
    "        rho0 = 1.            # reference fluid density\n",
    "        c0  = 10.            # reference speed of sound (typically, 10* max velocity)\n",
    "        P0  = rho0* c0**2    # reference pressure\n",
    "        \n",
    "        # Discretization\n",
    "        nxTot = nxF + 2*nW # total number of particles in x-direction (including walls)\n",
    "        nyTot = nyF + 2*nW # total number of particles in y-direction (including walls)\n",
    "        \n",
    "        # Compute domain bounds (including the boundary)\n",
    "        dx,dy = L/(nxF-1),L/(nyF-1)\n",
    "        xLim = ((0-(nW-1)*dx),1+(nW-1)*dx)\n",
    "        yLim = ((0-(nW-1)*dy),1+(nW-1)*dy)\n",
    "        \n",
    "        # Compute volume and mass per particle\n",
    "        vol = (xLim[1]-xLim[0])*(yLim[1]-yLim[0])*1.0 # in 2D simulations, consider z-lenght = 1\n",
    "        mPP = rho0*vol/(nxTot*nyTot)                   # density * total volume / total number of particles\n",
    "        \n",
    "        # Create mesh object\n",
    "        print(\"xlim={0} ylim={1} nx={2} ny={3}\".format(xLim, yLim, nxTot,nyTot))\n",
    "        domain = spatialpy.Domain.create_2D_domain(\n",
    "            xLim ,yLim , nxTot, nyTot, type_id=1, mass=mPP, nu=nu, rho0=rho0, c0=c0, P0=P0, fixed=False\n",
    "        )\n",
    "        domain.set_properties(spatialpy.GeometryAll(), 1, mass=mPP, fixed=False)\n",
    "        domain.set_properties(Walls(), 2, mass=mPP, fixed=True)\n",
    "        self.add_domain(domain)\n",
    "        \n",
    "        # Boundary conditions\n",
    "        # They should go here... define subdomain top with velocity Vo\n",
    "        self.add_boundary_condition(spatialpy.BoundaryCondition(\n",
    "            ymin     = yLim[1]-(nW-1)*dy, # top 3 rows of particles\n",
    "            target = 'v',\n",
    "            value    = [1.0, 0.0, 0.0] \n",
    "        ))\n",
    "        \n",
    "        # Time span\n",
    "        #self.timespan(numpy.linspace(0,5,1000), timestep_size=5e-3)\n",
    "        self.timespan(numpy.linspace(0,0.01,1000), timestep_size=1e-5)\n",
    "        self.staticDomain = False"
   ]
  },
  {
   "cell_type": "code",
   "execution_count": 5,
   "metadata": {
    "tags": []
   },
   "outputs": [
    {
     "name": "stdout",
     "output_type": "stream",
     "text": [
      "xlim=(-0.04081632653061224, 1.0408163265306123) ylim=(-0.04081632653061224, 1.0408163265306123) nx=56 ny=56\n"
     ]
    }
   ],
   "source": [
    "# Creates the model object\n",
    "model = Lid_Driven_Cavity()"
   ]
  },
  {
   "cell_type": "code",
   "execution_count": null,
   "metadata": {
    "tags": []
   },
   "outputs": [],
   "source": [
    "# Run the model object\n",
    "%time result = model.run()"
   ]
  },
  {
   "cell_type": "code",
   "execution_count": null,
   "metadata": {},
   "outputs": [],
   "source": [
    "# Plot_step access the result object and search for the specified key to plot\n",
    "def plot_step(key='type',index=0,time=0):\n",
    "    pts, data = result.read_step(time)\n",
    "    plt.figure(figsize=(15,10) )       \n",
    "    if (key == 'v'):\n",
    "        d = data[key]\n",
    "        d = [d[i][index] for i in range(0,len(d))]\n",
    "    else:\n",
    "        d = data[key]\n",
    "    plt.scatter(pts[:,0],pts[:,1],c=d)\n",
    "    plt.axis('equal')\n",
    "    plt.colorbar()\n",
    "    plt.title('t={0}'.format(time))\n",
    "    #plt.xticks(numpy.arange(-0.6, 0.7, 0.1)) \n",
    "    #plt.yticks(numpy.arange(-0.6, 0.7, 0.1)) \n",
    "    plt.grid(linestyle='--', linewidth=1)\n",
    "\n",
    "    \n",
    "def plot_all(key='type'):\n",
    "    for i,t in enumerate(result.get_timespan()):\n",
    "        plot_step(i,key)"
   ]
  },
  {
   "cell_type": "code",
   "execution_count": null,
   "metadata": {},
   "outputs": [],
   "source": [
    "# Plot velocity (index 0, i.e., vx) at timestep 10\n",
    "plot_step('v',index=0,time=999)"
   ]
  },
  {
   "cell_type": "code",
   "execution_count": null,
   "metadata": {},
   "outputs": [],
   "source": [
    "# Plot velocity (index 0, i.e., vx) at timestep 10\n",
    "plot_step('type',index=0,time=999)"
   ]
  },
  {
   "cell_type": "code",
   "execution_count": null,
   "metadata": {},
   "outputs": [],
   "source": [
    "result.plot_property(\"v\", animated=True)"
   ]
  },
  {
   "cell_type": "code",
   "execution_count": null,
   "metadata": {},
   "outputs": [],
   "source": []
  }
 ],
 "metadata": {
  "kernelspec": {
   "display_name": "Python 3 (ipykernel)",
   "language": "python",
   "name": "python3"
  },
  "language_info": {
   "codemirror_mode": {
    "name": "ipython",
    "version": 3
   },
   "file_extension": ".py",
   "mimetype": "text/x-python",
   "name": "python",
   "nbconvert_exporter": "python",
   "pygments_lexer": "ipython3",
   "version": "3.9.9"
  }
 },
 "nbformat": 4,
 "nbformat_minor": 1
}

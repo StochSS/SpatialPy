{
 "cells": [
  {
   "cell_type": "markdown",
   "metadata": {},
   "source": [
    "# Compile Time Comparison\n",
    "***\n",
    "## Setup the Environment\n",
    "***"
   ]
  },
  {
   "cell_type": "code",
   "execution_count": 1,
   "metadata": {},
   "outputs": [],
   "source": [
    "import os\n",
    "import sys\n",
    "sys.path.insert(1, os.path.abspath(os.path.join(os.getcwd(), '../..')))"
   ]
  },
  {
   "cell_type": "code",
   "execution_count": 2,
   "metadata": {},
   "outputs": [],
   "source": [
    "import time"
   ]
  },
  {
   "cell_type": "markdown",
   "metadata": {},
   "source": [
    "MatPlotLib and Plotly are used for creating custom visualizations"
   ]
  },
  {
   "cell_type": "code",
   "execution_count": 3,
   "metadata": {},
   "outputs": [],
   "source": [
    "import matplotlib.pyplot as plt\n",
    "import plotly.graph_objects as go\n",
    "from plotly.offline import iplot"
   ]
  },
  {
   "cell_type": "code",
   "execution_count": 4,
   "metadata": {},
   "outputs": [],
   "source": [
    "import spatialpy"
   ]
  },
  {
   "cell_type": "markdown",
   "metadata": {
    "tags": []
   },
   "source": [
    "***\n",
    "## Create Geometries for the Domain\n",
    "***"
   ]
  },
  {
   "cell_type": "code",
   "execution_count": 5,
   "metadata": {},
   "outputs": [],
   "source": [
    "class Left(spatialpy.Geometry):\n",
    "    def inside(self, x, on_boundary):\n",
    "        if x[0] >= 0:\n",
    "            return True\n",
    "        return False"
   ]
  },
  {
   "cell_type": "code",
   "execution_count": 6,
   "metadata": {},
   "outputs": [],
   "source": [
    "class Right(spatialpy.Geometry):\n",
    "    def inside(self, x, on_boundary):\n",
    "        if x[0] < 0:\n",
    "            return True\n",
    "        return False"
   ]
  },
  {
   "cell_type": "markdown",
   "metadata": {},
   "source": [
    "***\n",
    "## Create the Diffusion Reaction Model\n",
    "***\n",
    "This particular implementation of this model is used for debugging"
   ]
  },
  {
   "cell_type": "code",
   "execution_count": 7,
   "metadata": {},
   "outputs": [],
   "source": [
    "def create_diffusion_reaction(nx, ny, model_name=\"diffreact_debug_test\", parameter_values=None):\n",
    "    # Initialize Model\n",
    "    model = spatialpy.Model(model_name)\n",
    "    \n",
    "    # Define Domain Type IDs as constants of the Model\n",
    "    model.LEFT = Left.__name__\n",
    "    model.RIGHT = Right.__name__\n",
    "\n",
    "    # System constants\n",
    "    D_const = 0.01\n",
    "\n",
    "    # Define Domain\n",
    "    domain = spatialpy.Domain.create_2D_domain(\n",
    "        xlim=[-1, 1], ylim=[-1, 1], nx=nx, ny=ny, type_id=model.LEFT,\n",
    "        mass=1.0, nu=1.0, fixed=True,  rho0=1.0, c0=1.0, P0=1.0\n",
    "    )\n",
    "    \n",
    "    # Add Type IDs to the Particles\n",
    "    domain.set_properties(Right(), model.RIGHT)\n",
    "    \n",
    "    # Set Models Domain\n",
    "    model.add_domain(domain)\n",
    "\n",
    "    # Define Variables (SpatialPy.Species)\n",
    "    A = spatialpy.Species(name=\"A\", diffusion_coefficient=D_const)\n",
    "    \n",
    "    # Add Variables to Model\n",
    "    model.add_species(A)\n",
    "\n",
    "    # Define Parameters\n",
    "    Rate1 = spatialpy.Parameter(\"Rate1\", expression=100)\n",
    "    \n",
    "    # Add Parameters to Model\n",
    "    # model.add_parameter(Rate1)\n",
    "\n",
    "    # Define Reactions\n",
    "    R1 = spatialpy.Reaction(name=\"R1\", reactants={}, products={'A': 1}, rate='Rate1', restrict_to=model.LEFT)\n",
    "    R2 = spatialpy.Reaction(name=\"R2\", reactants={'A': 1}, products={}, rate='Rate1', restrict_to=model.RIGHT)\n",
    "    \n",
    "    # Add Reactions to Model\n",
    "    # model.add_reaction([R1, R2])\n",
    "\n",
    "    # Define Timespan\n",
    "    tspan = spatialpy.TimeSpan.linspace(t=1, num_points=11, timestep_size=0.1)\n",
    "    \n",
    "    # Set Model Timespan\n",
    "    model.timespan(tspan)\n",
    "    return model"
   ]
  },
  {
   "cell_type": "markdown",
   "metadata": {},
   "source": [
    "***\n",
    "## Create the Compile Test\n",
    "***"
   ]
  },
  {
   "cell_type": "code",
   "execution_count": 8,
   "metadata": {},
   "outputs": [],
   "source": [
    "class CompileTest():\n",
    "\n",
    "    def __init__(self, max_compile_time, verbose=0):\n",
    "        self.times = []\n",
    "        self.num_particles = []\n",
    "        self.max_compile_time = max_compile_time\n",
    "        self.verbose = verbose\n",
    "        \n",
    "    def build_test(self, nx, ny):\n",
    "        model = create_diffusion_reaction(nx, ny)\n",
    "        solver = spatialpy.Solver(model, debug_level=0)\n",
    "        return model, solver\n",
    "    \n",
    "    def run(self):\n",
    "        self.run_test()\n",
    "        self.plot_results()\n",
    "        \n",
    "    def run_test(self):\n",
    "        for i in range(2, 10000):\n",
    "            num_particles = pow(i, 2)\n",
    "            self.num_particles.append(num_particles)\n",
    "            \n",
    "            model, solver = self.build_test(nx=i, ny=i)\n",
    "            \n",
    "            start = time.time()\n",
    "            solver.compile()\n",
    "            diff = time.time()-start\n",
    "            self.times.append(diff)\n",
    "            \n",
    "            if self.verbose >= 1:\n",
    "                print(f\"The model has {num_particles} particles -- Time to compile was {diff}\")\n",
    "                \n",
    "            if diff > self.max_compile_time:\n",
    "                break\n",
    "                \n",
    "    def plot_results(self):\n",
    "        trace = go.Scatter(\n",
    "            x=self.num_particles,\n",
    "            y=self.times,\n",
    "            mode='lines+markers',\n",
    "        )\n",
    "        \n",
    "        layout = {\"title\": \"Compile Time for Models with Varying Particle Counts\",\n",
    "                  \"xaxis_title\": \"Number of Particles\",\n",
    "                  \"yaxis_title\": \"Average Time (in seconds)\"}\n",
    "        \n",
    "        fig = {\"data\":[trace], \"layout\":layout}\n",
    "\n",
    "        iplot(fig)"
   ]
  },
  {
   "cell_type": "markdown",
   "metadata": {},
   "source": [
    "### Instantiate the Compile Test"
   ]
  },
  {
   "cell_type": "code",
   "execution_count": 9,
   "metadata": {},
   "outputs": [],
   "source": [
    "test = CompileTest(max_compile_time=60)"
   ]
  },
  {
   "cell_type": "markdown",
   "metadata": {},
   "source": [
    "***\n",
    "## Run the Compile Test\n",
    "***"
   ]
  },
  {
   "cell_type": "code",
   "execution_count": null,
   "metadata": {},
   "outputs": [],
   "source": [
    "%time test.run()"
   ]
  },
  {
   "cell_type": "markdown",
   "metadata": {},
   "source": [
    "***\n",
    "## Inspect the Solver Compilation Using `prun`\n",
    "***\n",
    "### Instatiate the model"
   ]
  },
  {
   "cell_type": "code",
   "execution_count": null,
   "metadata": {},
   "outputs": [],
   "source": [
    "model = create_diffusion_reaction(40, 40)"
   ]
  },
  {
   "cell_type": "markdown",
   "metadata": {},
   "source": [
    "### Instantiate the Solver"
   ]
  },
  {
   "cell_type": "code",
   "execution_count": null,
   "metadata": {},
   "outputs": [],
   "source": [
    "solver = spatialpy.Solver(model=model)\n",
    "%prun solver.compile()"
   ]
  }
 ],
 "metadata": {
  "kernelspec": {
   "display_name": "Python 3 (ipykernel)",
   "language": "python",
   "name": "python3"
  },
  "language_info": {
   "codemirror_mode": {
    "name": "ipython",
    "version": 3
   },
   "file_extension": ".py",
   "mimetype": "text/x-python",
   "name": "python",
   "nbconvert_exporter": "python",
   "pygments_lexer": "ipython3",
   "version": "3.9.9"
  }
 },
 "nbformat": 4,
 "nbformat_minor": 2
}

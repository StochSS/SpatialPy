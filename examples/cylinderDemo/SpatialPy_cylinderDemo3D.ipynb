{
 "cells": [
  {
   "cell_type": "code",
   "execution_count": 1,
   "metadata": {},
   "outputs": [],
   "source": [
    "import os\n",
    "import sys\n",
    "from collections import OrderedDict"
   ]
  },
  {
   "cell_type": "code",
   "execution_count": 2,
   "metadata": {},
   "outputs": [],
   "source": [
    "sys.path.append('../..')"
   ]
  },
  {
   "cell_type": "code",
   "execution_count": 3,
   "metadata": {},
   "outputs": [
    {
     "data": {
      "text/plain": [
       "'../../spatialpy/__init__.py'"
      ]
     },
     "execution_count": 3,
     "metadata": {},
     "output_type": "execute_result"
    }
   ],
   "source": [
    "import spatialpy\n",
    "spatialpy.__file__"
   ]
  },
  {
   "cell_type": "code",
   "execution_count": 4,
   "metadata": {},
   "outputs": [],
   "source": [
    "import matplotlib.pyplot as plt\n",
    "import numpy\n",
    "\n",
    "# Global Constants\n",
    "MAX_X_DIM = 5.0\n",
    "MIN_X_DIM = -5.0\n",
    "TOL = 1e-9"
   ]
  },
  {
   "cell_type": "code",
   "execution_count": 5,
   "metadata": {
    "tags": []
   },
   "outputs": [],
   "source": [
    "%load_ext autoreload\n",
    "%autoreload 2"
   ]
  },
  {
   "cell_type": "code",
   "execution_count": 6,
   "metadata": {},
   "outputs": [],
   "source": [
    "class Edge1(spatialpy.Geometry):\n",
    "    def inside(self, x, on_boundary):\n",
    "        return abs(x[0] - MAX_X_DIM) < 0.05\n",
    "class Edge2(spatialpy.Geometry):\n",
    "    def inside(self, x, on_boundary):\n",
    "        return abs(x[0] - MIN_X_DIM) < 0.05\n",
    "class Middle(spatialpy.Geometry):\n",
    "    def inside(self, x, on_boundary):\n",
    "        return abs(x[0] - MIN_X_DIM) >= 0.05"
   ]
  },
  {
   "cell_type": "code",
   "execution_count": 7,
   "metadata": {},
   "outputs": [],
   "source": [
    "class cylinderDemo3D(spatialpy.Model):\n",
    "    def __init__(self, model_name=\"cylinder_demo3d\"):\n",
    "        spatialpy.Model.__init__(self, model_name)\n",
    "\n",
    "        self.timestep_size = 1\n",
    "        \n",
    "        # System constants\n",
    "        D_const = 0.1\n",
    "\n",
    "        # Define Species\n",
    "        A = spatialpy.Species(name=\"A\", diffusion_constant=D_const)\n",
    "        B = spatialpy.Species(name=\"B\", diffusion_constant=D_const)\n",
    "        self.add_species([A, B])\n",
    "\n",
    "        # Define Geometry\n",
    "        self.mesh = spatialpy.Mesh.read_xml_mesh('cylinder.xml')\n",
    "\n",
    "        # Define Subdomains\n",
    "        self.set_type(Middle(), 1)\n",
    "        self.set_type(Edge1(),  2)\n",
    "        self.set_type(Edge2(),  3)\n",
    "        \n",
    "        # Restrict the movement of Chemical Species\n",
    "        self.restrict(A,[1,2])\n",
    "        self.restrict(B,[1,3])\n",
    "\n",
    "        vol = self.mesh.get_vol()\n",
    "        print(\"vol\",vol)\n",
    "        type = self.mesh.type\n",
    "        left = numpy.sum(vol[type == 2])\n",
    "        right = numpy.sum(vol[type == 3])\n",
    "        print(\"left \"+str(left)+\" right \"+str(right))\n",
    "        \n",
    "        k_react = spatialpy.Parameter(name=\"k_react\", expression=1.0)\n",
    "        k_creat1 = spatialpy.Parameter(name=\"k_creat1\", \n",
    "                                     expression=100/left)\n",
    "        k_creat2 = spatialpy.Parameter(name=\"k_creat2\", \n",
    "                                     expression=100/right)\n",
    "        self.add_parameter([k_react, k_creat1,k_creat2])\n",
    "\n",
    "\n",
    "        # Define Reactions\n",
    "        R1 = spatialpy.Reaction(reactants=None, products={A:1}, \n",
    "                                rate=k_creat1, restrict_to=2)\n",
    "        R2 = spatialpy.Reaction(reactants=None, products={B:1}, \n",
    "                              rate=k_creat2, restrict_to=3)\n",
    "        R3 = spatialpy.Reaction(reactants={A:1, B:1}, products=None, \n",
    "                              rate=k_react)\n",
    "        self.add_reaction([R1, R2, R3])\n",
    "        \n",
    "        #self.add_initial_condition(spatialpy.ScatterInitialCondition(A,10000,[1]))\n",
    "\n",
    "\n",
    "        # Define simulation timespan\n",
    "        #self.set_timesteps(1, 200)\n",
    "        #self.timespan(range(500))\n",
    "        self.timespan(range(5))\n",
    "                "
   ]
  },
  {
   "cell_type": "code",
   "execution_count": null,
   "metadata": {},
   "outputs": [],
   "source": []
  },
  {
   "cell_type": "code",
   "execution_count": 8,
   "metadata": {
    "scrolled": true,
    "tags": []
   },
   "outputs": [
    {
     "name": "stdout",
     "output_type": "stream",
     "text": [
      "vol [0.01513526 0.07034112 0.02382667 ... 0.01674217 0.02120607 0.01969156]\n",
      "left 0.5092013833059308 right 0.505804729089437\n"
     ]
    }
   ],
   "source": [
    "model = cylinderDemo3D()"
   ]
  },
  {
   "cell_type": "code",
   "execution_count": 9,
   "metadata": {},
   "outputs": [],
   "source": [
    "#sol.run_debugger()\n",
    "#sol.run()"
   ]
  },
  {
   "cell_type": "code",
   "execution_count": 15,
   "metadata": {
    "scrolled": false,
    "tags": []
   },
   "outputs": [
    {
     "name": "stdout",
     "output_type": "stream",
     "text": [
      "Compiling Solver.  Build dir: /tmp/spatialpy_build_22ktwho8\n",
      "make -f /home/brian/Desktop/research/SpatialPy/spatialpy/ssa_sdpd-c-simulation-engine/external/ANN/src/Makefile.spatialpy ROOTINC=/home/brian/Desktop/research/SpatialPy/spatialpy/ssa_sdpd-c-simulation-engine\n",
      "make[1]: Entering directory '/tmp/spatialpy_build_22ktwho8'\n",
      "g++ -c -I/home/brian/Desktop/research/SpatialPy/spatialpy/ssa_sdpd-c-simulation-engine/external/ANN/include/ -c -std=c++14 -Wall -O3 -g /home/brian/Desktop/research/SpatialPy/spatialpy/ssa_sdpd-c-simulation-engine/external/ANN/src/ANN.cpp\n",
      "g++ -c -I/home/brian/Desktop/research/SpatialPy/spatialpy/ssa_sdpd-c-simulation-engine/external/ANN/include/ -c -std=c++14 -Wall -O3 -g /home/brian/Desktop/research/SpatialPy/spatialpy/ssa_sdpd-c-simulation-engine/external/ANN/src/brute.cpp\n",
      "g++ -c -I/home/brian/Desktop/research/SpatialPy/spatialpy/ssa_sdpd-c-simulation-engine/external/ANN/include/ -c -std=c++14 -Wall -O3 -g /home/brian/Desktop/research/SpatialPy/spatialpy/ssa_sdpd-c-simulation-engine/external/ANN/src/kd_tree.cpp\n",
      "g++ -c -I/home/brian/Desktop/research/SpatialPy/spatialpy/ssa_sdpd-c-simulation-engine/external/ANN/include/ -c -std=c++14 -Wall -O3 -g /home/brian/Desktop/research/SpatialPy/spatialpy/ssa_sdpd-c-simulation-engine/external/ANN/src/kd_util.cpp\n",
      "g++ -c -I/home/brian/Desktop/research/SpatialPy/spatialpy/ssa_sdpd-c-simulation-engine/external/ANN/include/ -c -std=c++14 -Wall -O3 -g /home/brian/Desktop/research/SpatialPy/spatialpy/ssa_sdpd-c-simulation-engine/external/ANN/src/kd_split.cpp\n",
      "g++ -c -I/home/brian/Desktop/research/SpatialPy/spatialpy/ssa_sdpd-c-simulation-engine/external/ANN/include/ -c -std=c++14 -Wall -O3 -g /home/brian/Desktop/research/SpatialPy/spatialpy/ssa_sdpd-c-simulation-engine/external/ANN/src/kd_dump.cpp\n",
      "g++ -c -I/home/brian/Desktop/research/SpatialPy/spatialpy/ssa_sdpd-c-simulation-engine/external/ANN/include/ -c -std=c++14 -Wall -O3 -g /home/brian/Desktop/research/SpatialPy/spatialpy/ssa_sdpd-c-simulation-engine/external/ANN/src/kd_search.cpp\n",
      "g++ -c -I/home/brian/Desktop/research/SpatialPy/spatialpy/ssa_sdpd-c-simulation-engine/external/ANN/include/ -c -std=c++14 -Wall -O3 -g /home/brian/Desktop/research/SpatialPy/spatialpy/ssa_sdpd-c-simulation-engine/external/ANN/src/kd_pr_search.cpp\n",
      "g++ -c -I/home/brian/Desktop/research/SpatialPy/spatialpy/ssa_sdpd-c-simulation-engine/external/ANN/include/ -c -std=c++14 -Wall -O3 -g /home/brian/Desktop/research/SpatialPy/spatialpy/ssa_sdpd-c-simulation-engine/external/ANN/src/kd_fix_rad_search.cpp\n",
      "g++ -c -I/home/brian/Desktop/research/SpatialPy/spatialpy/ssa_sdpd-c-simulation-engine/external/ANN/include/ -c -std=c++14 -Wall -O3 -g /home/brian/Desktop/research/SpatialPy/spatialpy/ssa_sdpd-c-simulation-engine/external/ANN/src/bd_tree.cpp\n",
      "g++ -c -I/home/brian/Desktop/research/SpatialPy/spatialpy/ssa_sdpd-c-simulation-engine/external/ANN/include/ -c -std=c++14 -Wall -O3 -g /home/brian/Desktop/research/SpatialPy/spatialpy/ssa_sdpd-c-simulation-engine/external/ANN/src/bd_search.cpp\n",
      "g++ -c -I/home/brian/Desktop/research/SpatialPy/spatialpy/ssa_sdpd-c-simulation-engine/external/ANN/include/ -c -std=c++14 -Wall -O3 -g /home/brian/Desktop/research/SpatialPy/spatialpy/ssa_sdpd-c-simulation-engine/external/ANN/src/bd_pr_search.cpp\n",
      "g++ -c -I/home/brian/Desktop/research/SpatialPy/spatialpy/ssa_sdpd-c-simulation-engine/external/ANN/include/ -c -std=c++14 -Wall -O3 -g /home/brian/Desktop/research/SpatialPy/spatialpy/ssa_sdpd-c-simulation-engine/external/ANN/src/bd_fix_rad_search.cpp\n",
      "g++ -c -I/home/brian/Desktop/research/SpatialPy/spatialpy/ssa_sdpd-c-simulation-engine/external/ANN/include/ -c -std=c++14 -Wall -O3 -g /home/brian/Desktop/research/SpatialPy/spatialpy/ssa_sdpd-c-simulation-engine/external/ANN/src/perf.cpp\n",
      "make[1]: Leaving directory '/tmp/spatialpy_build_22ktwho8'\n",
      "g++ -c   -o main.o /tmp/spatialpy_build_22ktwho8/cylinder_demo3d_generated_model.cpp -I/home/brian/Desktop/research/SpatialPy/spatialpy/ssa_sdpd-c-simulation-engine/include/ -I/home/brian/Desktop/research/SpatialPy/spatialpy/ssa_sdpd-c-simulation-engine/external/ -I/home/brian/Desktop/research/SpatialPy/spatialpy/ssa_sdpd-c-simulation-engine/external/ANN/include/ -c -std=c++14 -Wall -O3 -g\n",
      "In file included from /home/brian/Desktop/research/SpatialPy/spatialpy/ssa_sdpd-c-simulation-engine/include/particle.hpp:18,\n",
      "                 from /tmp/spatialpy_build_22ktwho8/cylinder_demo3d_generated_model.cpp:10:\n",
      "/home/brian/Desktop/research/SpatialPy/spatialpy/ssa_sdpd-c-simulation-engine/include/NRMConstant_v5.hpp: In member function ‘void NRMConstant_v5::build(std::vector<Spatialpy::Particle>, generatorType&, double, std::size_t, double, double)’:\n",
      "/home/brian/Desktop/research/SpatialPy/spatialpy/ssa_sdpd-c-simulation-engine/include/NRMConstant_v5.hpp:170:50: warning: invalid use of incomplete type ‘__gnu_cxx::__alloc_traits<std::allocator<Spatialpy::Particle>, Spatialpy::Particle>::value_type’ {aka ‘struct Spatialpy::Particle’}\n",
      "  170 |             double this_propensity = particles[i].srrate+particles[i].sdrate;\n",
      "      |                                                  ^\n",
      "In file included from /home/brian/Desktop/research/SpatialPy/spatialpy/ssa_sdpd-c-simulation-engine/include/particle.hpp:15,\n",
      "                 from /tmp/spatialpy_build_22ktwho8/cylinder_demo3d_generated_model.cpp:10:\n",
      "/home/brian/Desktop/research/SpatialPy/spatialpy/ssa_sdpd-c-simulation-engine/include/propensities.hpp:29:12: note: forward declaration of ‘__gnu_cxx::__alloc_traits<std::allocator<Spatialpy::Particle>, Spatialpy::Particle>::value_type’ {aka ‘struct Spatialpy::Particle’}\n",
      "   29 |     struct Particle ;\n",
      "      |            ^~~~~~~~\n",
      "In file included from /home/brian/Desktop/research/SpatialPy/spatialpy/ssa_sdpd-c-simulation-engine/include/particle.hpp:18,\n",
      "                 from /tmp/spatialpy_build_22ktwho8/cylinder_demo3d_generated_model.cpp:10:\n",
      "/home/brian/Desktop/research/SpatialPy/spatialpy/ssa_sdpd-c-simulation-engine/include/NRMConstant_v5.hpp:170:70: warning: invalid use of incomplete type ‘__gnu_cxx::__alloc_traits<std::allocator<Spatialpy::Particle>, Spatialpy::Particle>::value_type’ {aka ‘struct Spatialpy::Particle’}\n",
      "  170 |             double this_propensity = particles[i].srrate+particles[i].sdrate;\n",
      "      |                                                                      ^\n",
      "In file included from /home/brian/Desktop/research/SpatialPy/spatialpy/ssa_sdpd-c-simulation-engine/include/particle.hpp:15,\n",
      "                 from /tmp/spatialpy_build_22ktwho8/cylinder_demo3d_generated_model.cpp:10:\n",
      "/home/brian/Desktop/research/SpatialPy/spatialpy/ssa_sdpd-c-simulation-engine/include/propensities.hpp:29:12: note: forward declaration of ‘__gnu_cxx::__alloc_traits<std::allocator<Spatialpy::Particle>, Spatialpy::Particle>::value_type’ {aka ‘struct Spatialpy::Particle’}\n",
      "   29 |     struct Particle ;\n",
      "      |            ^~~~~~~~\n",
      "In file included from /home/brian/Desktop/research/SpatialPy/spatialpy/ssa_sdpd-c-simulation-engine/include/particle.hpp:18,\n",
      "                 from /tmp/spatialpy_build_22ktwho8/cylinder_demo3d_generated_model.cpp:10:\n",
      "/home/brian/Desktop/research/SpatialPy/spatialpy/ssa_sdpd-c-simulation-engine/include/NRMConstant_v5.hpp:171:44: warning: invalid use of incomplete type ‘__gnu_cxx::__alloc_traits<std::allocator<Spatialpy::Particle>, Spatialpy::Particle>::value_type’ {aka ‘struct Spatialpy::Particle’}\n",
      "  171 |             unsigned this_id = particles[i].id;\n",
      "      |                                            ^\n",
      "In file included from /home/brian/Desktop/research/SpatialPy/spatialpy/ssa_sdpd-c-simulation-engine/include/particle.hpp:15,\n",
      "                 from /tmp/spatialpy_build_22ktwho8/cylinder_demo3d_generated_model.cpp:10:\n",
      "/home/brian/Desktop/research/SpatialPy/spatialpy/ssa_sdpd-c-simulation-engine/include/propensities.hpp:29:12: note: forward declaration of ‘__gnu_cxx::__alloc_traits<std::allocator<Spatialpy::Particle>, Spatialpy::Particle>::value_type’ {aka ‘struct Spatialpy::Particle’}\n",
      "   29 |     struct Particle ;\n",
      "      |            ^~~~~~~~\n",
      "g++ -c   -o particle.o \"/home/brian/Desktop/research/SpatialPy/spatialpy/ssa_sdpd-c-simulation-engine/src/particle.cpp\" -I/home/brian/Desktop/research/SpatialPy/spatialpy/ssa_sdpd-c-simulation-engine/include/ -I/home/brian/Desktop/research/SpatialPy/spatialpy/ssa_sdpd-c-simulation-engine/external/ -I/home/brian/Desktop/research/SpatialPy/spatialpy/ssa_sdpd-c-simulation-engine/external/ANN/include/ -c -std=c++14 -Wall -O3 -g\n",
      "In file included from /home/brian/Desktop/research/SpatialPy/spatialpy/ssa_sdpd-c-simulation-engine/include/particle.hpp:18,\n",
      "                 from /home/brian/Desktop/research/SpatialPy/spatialpy/ssa_sdpd-c-simulation-engine/src/particle.cpp:8:\n",
      "/home/brian/Desktop/research/SpatialPy/spatialpy/ssa_sdpd-c-simulation-engine/include/NRMConstant_v5.hpp: In member function ‘void NRMConstant_v5::build(std::vector<Spatialpy::Particle>, generatorType&, double, std::size_t, double, double)’:\n",
      "/home/brian/Desktop/research/SpatialPy/spatialpy/ssa_sdpd-c-simulation-engine/include/NRMConstant_v5.hpp:170:50: warning: invalid use of incomplete type ‘__gnu_cxx::__alloc_traits<std::allocator<Spatialpy::Particle>, Spatialpy::Particle>::value_type’ {aka ‘struct Spatialpy::Particle’}\n",
      "  170 |             double this_propensity = particles[i].srrate+particles[i].sdrate;\n",
      "      |                                                  ^\n",
      "In file included from /home/brian/Desktop/research/SpatialPy/spatialpy/ssa_sdpd-c-simulation-engine/include/particle.hpp:15,\n",
      "                 from /home/brian/Desktop/research/SpatialPy/spatialpy/ssa_sdpd-c-simulation-engine/src/particle.cpp:8:\n",
      "/home/brian/Desktop/research/SpatialPy/spatialpy/ssa_sdpd-c-simulation-engine/include/propensities.hpp:29:12: note: forward declaration of ‘__gnu_cxx::__alloc_traits<std::allocator<Spatialpy::Particle>, Spatialpy::Particle>::value_type’ {aka ‘struct Spatialpy::Particle’}\n",
      "   29 |     struct Particle ;\n",
      "      |            ^~~~~~~~\n",
      "In file included from /home/brian/Desktop/research/SpatialPy/spatialpy/ssa_sdpd-c-simulation-engine/include/particle.hpp:18,\n",
      "                 from /home/brian/Desktop/research/SpatialPy/spatialpy/ssa_sdpd-c-simulation-engine/src/particle.cpp:8:\n",
      "/home/brian/Desktop/research/SpatialPy/spatialpy/ssa_sdpd-c-simulation-engine/include/NRMConstant_v5.hpp:170:70: warning: invalid use of incomplete type ‘__gnu_cxx::__alloc_traits<std::allocator<Spatialpy::Particle>, Spatialpy::Particle>::value_type’ {aka ‘struct Spatialpy::Particle’}\n",
      "  170 |             double this_propensity = particles[i].srrate+particles[i].sdrate;\n",
      "      |                                                                      ^\n",
      "In file included from /home/brian/Desktop/research/SpatialPy/spatialpy/ssa_sdpd-c-simulation-engine/include/particle.hpp:15,\n",
      "                 from /home/brian/Desktop/research/SpatialPy/spatialpy/ssa_sdpd-c-simulation-engine/src/particle.cpp:8:\n",
      "/home/brian/Desktop/research/SpatialPy/spatialpy/ssa_sdpd-c-simulation-engine/include/propensities.hpp:29:12: note: forward declaration of ‘__gnu_cxx::__alloc_traits<std::allocator<Spatialpy::Particle>, Spatialpy::Particle>::value_type’ {aka ‘struct Spatialpy::Particle’}\n",
      "   29 |     struct Particle ;\n",
      "      |            ^~~~~~~~\n",
      "In file included from /home/brian/Desktop/research/SpatialPy/spatialpy/ssa_sdpd-c-simulation-engine/include/particle.hpp:18,\n",
      "                 from /home/brian/Desktop/research/SpatialPy/spatialpy/ssa_sdpd-c-simulation-engine/src/particle.cpp:8:\n",
      "/home/brian/Desktop/research/SpatialPy/spatialpy/ssa_sdpd-c-simulation-engine/include/NRMConstant_v5.hpp:171:44: warning: invalid use of incomplete type ‘__gnu_cxx::__alloc_traits<std::allocator<Spatialpy::Particle>, Spatialpy::Particle>::value_type’ {aka ‘struct Spatialpy::Particle’}\n",
      "  171 |             unsigned this_id = particles[i].id;\n",
      "      |                                            ^\n",
      "In file included from /home/brian/Desktop/research/SpatialPy/spatialpy/ssa_sdpd-c-simulation-engine/include/particle.hpp:15,\n",
      "                 from /home/brian/Desktop/research/SpatialPy/spatialpy/ssa_sdpd-c-simulation-engine/src/particle.cpp:8:\n",
      "/home/brian/Desktop/research/SpatialPy/spatialpy/ssa_sdpd-c-simulation-engine/include/propensities.hpp:29:12: note: forward declaration of ‘__gnu_cxx::__alloc_traits<std::allocator<Spatialpy::Particle>, Spatialpy::Particle>::value_type’ {aka ‘struct Spatialpy::Particle’}\n",
      "   29 |     struct Particle ;\n",
      "      |            ^~~~~~~~\n",
      "In file included from /home/brian/Desktop/research/SpatialPy/spatialpy/ssa_sdpd-c-simulation-engine/src/particle.cpp:8:\n",
      "/home/brian/Desktop/research/SpatialPy/spatialpy/ssa_sdpd-c-simulation-engine/include/particle.hpp: In constructor ‘Spatialpy::ParticleSystem::ParticleSystem(size_t, size_t, size_t, size_t, size_t, size_t)’:\n",
      "/home/brian/Desktop/research/SpatialPy/spatialpy/ssa_sdpd-c-simulation-engine/include/particle.hpp:178:16: warning: ‘Spatialpy::ParticleSystem::num_stoch_rxns’ will be initialized after [-Wreorder]\n",
      "  178 |         size_t num_stoch_rxns;\n",
      "      |                ^~~~~~~~~~~~~~\n",
      "/home/brian/Desktop/research/SpatialPy/spatialpy/ssa_sdpd-c-simulation-engine/include/particle.hpp:170:16: warning:   ‘size_t Spatialpy::ParticleSystem::num_data_fn’ [-Wreorder]\n",
      "  170 |         size_t num_data_fn;\n",
      "      |                ^~~~~~~~~~~\n",
      "/home/brian/Desktop/research/SpatialPy/spatialpy/ssa_sdpd-c-simulation-engine/src/particle.cpp:20:5: warning:   when initialized here [-Wreorder]\n",
      "   20 |     ParticleSystem::ParticleSystem(size_t num_types, size_t num_chem_species, size_t num_chem_rxns,\n",
      "      |     ^~~~~~~~~~~~~~\n",
      "/home/brian/Desktop/research/SpatialPy/spatialpy/ssa_sdpd-c-simulation-engine/src/particle.cpp: At global scope:\n",
      "/home/brian/Desktop/research/SpatialPy/spatialpy/ssa_sdpd-c-simulation-engine/src/particle.cpp:56:51: error: invalid use of incomplete type ‘struct Spatialpy::EventNode’\n",
      "   56 |     EventNode::EventNode(Particle *data, double tt):data(data), tt(tt){}\n",
      "      |                                                   ^\n",
      "In file included from /home/brian/Desktop/research/SpatialPy/spatialpy/ssa_sdpd-c-simulation-engine/src/particle.cpp:8:\n",
      "/home/brian/Desktop/research/SpatialPy/spatialpy/ssa_sdpd-c-simulation-engine/include/particle.hpp:27:12: note: forward declaration of ‘struct Spatialpy::EventNode’\n",
      "   27 |     struct EventNode ;\n",
      "      |            ^~~~~~~~~\n",
      "/home/brian/Desktop/research/SpatialPy/spatialpy/ssa_sdpd-c-simulation-engine/src/particle.cpp: In member function ‘int Spatialpy::Particle::add_to_neighbor_list(Spatialpy::Particle*, Spatialpy::ParticleSystem*, double)’:\n",
      "/home/brian/Desktop/research/SpatialPy/spatialpy/ssa_sdpd-c-simulation-engine/src/particle.cpp:124:16: warning: unused variable ‘r2_old’ [-Wunused-variable]\n",
      "  124 |         double r2_old = r2;\n",
      "      |                ^~~~~~\n",
      "make: *** [/home/brian/Desktop/research/SpatialPy/spatialpy/ssa_sdpd-c-simulation-engine/build/Makefile:24: particle.o] Error 1\n",
      "\n"
     ]
    },
    {
     "ename": "SimulationError",
     "evalue": "Compilation of solver failed, return_code=2",
     "output_type": "error",
     "traceback": [
      "\u001b[0;31m---------------------------------------------------------------------------\u001b[0m",
      "\u001b[0;31mSimulationError\u001b[0m                           Traceback (most recent call last)",
      "\u001b[0;32m<timed eval>\u001b[0m in \u001b[0;36m<module>\u001b[0;34m\u001b[0m\n",
      "\u001b[0;32m~/Desktop/research/SpatialPy/spatialpy/Solver.py\u001b[0m in \u001b[0;36mcompile\u001b[0;34m(self, debug, profile)\u001b[0m\n\u001b[1;32m    115\u001b[0m                 \u001b[0;32mexcept\u001b[0m \u001b[0mException\u001b[0m \u001b[0;32mas\u001b[0m \u001b[0me\u001b[0m\u001b[0;34m:\u001b[0m\u001b[0;34m\u001b[0m\u001b[0;34m\u001b[0m\u001b[0m\n\u001b[1;32m    116\u001b[0m                     \u001b[0;32mpass\u001b[0m\u001b[0;34m\u001b[0m\u001b[0;34m\u001b[0m\u001b[0m\n\u001b[0;32m--> 117\u001b[0;31m                 raise SimulationError(\n\u001b[0m\u001b[1;32m    118\u001b[0m                     \"Compilation of solver failed, return_code={0}\".format(\n\u001b[1;32m    119\u001b[0m                         return_code))\n",
      "\u001b[0;31mSimulationError\u001b[0m: Compilation of solver failed, return_code=2"
     ]
    },
    {
     "name": "stdout",
     "output_type": "stream",
     "text": [
      "/tmp/spatialpy_build_22ktwho8\n"
     ]
    }
   ],
   "source": [
    "from spatialpy import Solver\n",
    "sol = Solver(model, debug_level=1)\n",
    "%time sol.compile()\n",
    "print(sol.build_dir)"
   ]
  },
  {
   "cell_type": "code",
   "execution_count": 11,
   "metadata": {},
   "outputs": [
    {
     "name": "stdout",
     "output_type": "stream",
     "text": [
      "Compiling Solver.  Build dir: /tmp/spatialpy_build_kuz1a69l\n",
      "make -f /home/brian/Desktop/research/SpatialPy/spatialpy/ssa_sdpd-c-simulation-engine/external/ANN/src/Makefile.spatialpy ROOTINC=/home/brian/Desktop/research/SpatialPy/spatialpy/ssa_sdpd-c-simulation-engine\n",
      "make[1]: Entering directory '/tmp/spatialpy_build_kuz1a69l'\n",
      "g++ -c -I/home/brian/Desktop/research/SpatialPy/spatialpy/ssa_sdpd-c-simulation-engine/external/ANN/include/ -c -std=c++14 -Wall -O3 -g /home/brian/Desktop/research/SpatialPy/spatialpy/ssa_sdpd-c-simulation-engine/external/ANN/src/ANN.cpp\n",
      "g++ -c -I/home/brian/Desktop/research/SpatialPy/spatialpy/ssa_sdpd-c-simulation-engine/external/ANN/include/ -c -std=c++14 -Wall -O3 -g /home/brian/Desktop/research/SpatialPy/spatialpy/ssa_sdpd-c-simulation-engine/external/ANN/src/brute.cpp\n",
      "g++ -c -I/home/brian/Desktop/research/SpatialPy/spatialpy/ssa_sdpd-c-simulation-engine/external/ANN/include/ -c -std=c++14 -Wall -O3 -g /home/brian/Desktop/research/SpatialPy/spatialpy/ssa_sdpd-c-simulation-engine/external/ANN/src/kd_tree.cpp\n",
      "g++ -c -I/home/brian/Desktop/research/SpatialPy/spatialpy/ssa_sdpd-c-simulation-engine/external/ANN/include/ -c -std=c++14 -Wall -O3 -g /home/brian/Desktop/research/SpatialPy/spatialpy/ssa_sdpd-c-simulation-engine/external/ANN/src/kd_util.cpp\n",
      "g++ -c -I/home/brian/Desktop/research/SpatialPy/spatialpy/ssa_sdpd-c-simulation-engine/external/ANN/include/ -c -std=c++14 -Wall -O3 -g /home/brian/Desktop/research/SpatialPy/spatialpy/ssa_sdpd-c-simulation-engine/external/ANN/src/kd_split.cpp\n",
      "g++ -c -I/home/brian/Desktop/research/SpatialPy/spatialpy/ssa_sdpd-c-simulation-engine/external/ANN/include/ -c -std=c++14 -Wall -O3 -g /home/brian/Desktop/research/SpatialPy/spatialpy/ssa_sdpd-c-simulation-engine/external/ANN/src/kd_dump.cpp\n",
      "g++ -c -I/home/brian/Desktop/research/SpatialPy/spatialpy/ssa_sdpd-c-simulation-engine/external/ANN/include/ -c -std=c++14 -Wall -O3 -g /home/brian/Desktop/research/SpatialPy/spatialpy/ssa_sdpd-c-simulation-engine/external/ANN/src/kd_search.cpp\n",
      "g++ -c -I/home/brian/Desktop/research/SpatialPy/spatialpy/ssa_sdpd-c-simulation-engine/external/ANN/include/ -c -std=c++14 -Wall -O3 -g /home/brian/Desktop/research/SpatialPy/spatialpy/ssa_sdpd-c-simulation-engine/external/ANN/src/kd_pr_search.cpp\n",
      "g++ -c -I/home/brian/Desktop/research/SpatialPy/spatialpy/ssa_sdpd-c-simulation-engine/external/ANN/include/ -c -std=c++14 -Wall -O3 -g /home/brian/Desktop/research/SpatialPy/spatialpy/ssa_sdpd-c-simulation-engine/external/ANN/src/kd_fix_rad_search.cpp\n",
      "g++ -c -I/home/brian/Desktop/research/SpatialPy/spatialpy/ssa_sdpd-c-simulation-engine/external/ANN/include/ -c -std=c++14 -Wall -O3 -g /home/brian/Desktop/research/SpatialPy/spatialpy/ssa_sdpd-c-simulation-engine/external/ANN/src/bd_tree.cpp\n",
      "g++ -c -I/home/brian/Desktop/research/SpatialPy/spatialpy/ssa_sdpd-c-simulation-engine/external/ANN/include/ -c -std=c++14 -Wall -O3 -g /home/brian/Desktop/research/SpatialPy/spatialpy/ssa_sdpd-c-simulation-engine/external/ANN/src/bd_search.cpp\n",
      "g++ -c -I/home/brian/Desktop/research/SpatialPy/spatialpy/ssa_sdpd-c-simulation-engine/external/ANN/include/ -c -std=c++14 -Wall -O3 -g /home/brian/Desktop/research/SpatialPy/spatialpy/ssa_sdpd-c-simulation-engine/external/ANN/src/bd_pr_search.cpp\n",
      "g++ -c -I/home/brian/Desktop/research/SpatialPy/spatialpy/ssa_sdpd-c-simulation-engine/external/ANN/include/ -c -std=c++14 -Wall -O3 -g /home/brian/Desktop/research/SpatialPy/spatialpy/ssa_sdpd-c-simulation-engine/external/ANN/src/bd_fix_rad_search.cpp\n",
      "g++ -c -I/home/brian/Desktop/research/SpatialPy/spatialpy/ssa_sdpd-c-simulation-engine/external/ANN/include/ -c -std=c++14 -Wall -O3 -g /home/brian/Desktop/research/SpatialPy/spatialpy/ssa_sdpd-c-simulation-engine/external/ANN/src/perf.cpp\n",
      "make[1]: Leaving directory '/tmp/spatialpy_build_kuz1a69l'\n",
      "g++ -c   -o main.o /tmp/spatialpy_build_kuz1a69l/cylinder_demo3d_generated_model.cpp -I/home/brian/Desktop/research/SpatialPy/spatialpy/ssa_sdpd-c-simulation-engine/include/ -I/home/brian/Desktop/research/SpatialPy/spatialpy/ssa_sdpd-c-simulation-engine/external/ -I/home/brian/Desktop/research/SpatialPy/spatialpy/ssa_sdpd-c-simulation-engine/external/ANN/include/ -c -std=c++14 -Wall -O3 -g\n",
      "In file included from /tmp/spatialpy_build_kuz1a69l/cylinder_demo3d_generated_model.cpp:10:\n",
      "/home/brian/Desktop/research/SpatialPy/spatialpy/ssa_sdpd-c-simulation-engine/include/particle.hpp:156:9: error: ‘RMConstant_v5’ does not name a type\n",
      "  156 |         RMConstant_v5 rdme_event_q;\n",
      "      |         ^~~~~~~~~~~~~\n",
      "make: *** [/home/brian/Desktop/research/SpatialPy/spatialpy/ssa_sdpd-c-simulation-engine/build/Makefile:21: main.o] Error 1\n",
      "\n"
     ]
    },
    {
     "ename": "SimulationError",
     "evalue": "Compilation of solver failed, return_code=2",
     "output_type": "error",
     "traceback": [
      "\u001b[0;31m---------------------------------------------------------------------------\u001b[0m",
      "\u001b[0;31mSimulationError\u001b[0m                           Traceback (most recent call last)",
      "\u001b[0;32m<timed exec>\u001b[0m in \u001b[0;36m<module>\u001b[0;34m\u001b[0m\n",
      "\u001b[0;32m~/Desktop/research/SpatialPy/spatialpy/Solver.py\u001b[0m in \u001b[0;36mrun\u001b[0;34m(self, number_of_trajectories, seed, timeout, number_of_threads, debug, profile, verbose)\u001b[0m\n\u001b[1;32m    151\u001b[0m         \u001b[0;31m# Check if compiled, call compile() if not.\u001b[0m\u001b[0;34m\u001b[0m\u001b[0;34m\u001b[0m\u001b[0;34m\u001b[0m\u001b[0m\n\u001b[1;32m    152\u001b[0m         \u001b[0;32mif\u001b[0m \u001b[0;32mnot\u001b[0m \u001b[0mself\u001b[0m\u001b[0;34m.\u001b[0m\u001b[0mis_compiled\u001b[0m\u001b[0;34m:\u001b[0m\u001b[0;34m\u001b[0m\u001b[0;34m\u001b[0m\u001b[0m\n\u001b[0;32m--> 153\u001b[0;31m             \u001b[0mself\u001b[0m\u001b[0;34m.\u001b[0m\u001b[0mcompile\u001b[0m\u001b[0;34m(\u001b[0m\u001b[0mdebug\u001b[0m\u001b[0;34m=\u001b[0m\u001b[0mdebug\u001b[0m\u001b[0;34m,\u001b[0m \u001b[0mprofile\u001b[0m\u001b[0;34m=\u001b[0m\u001b[0mprofile\u001b[0m\u001b[0;34m)\u001b[0m\u001b[0;34m\u001b[0m\u001b[0;34m\u001b[0m\u001b[0m\n\u001b[0m\u001b[1;32m    154\u001b[0m \u001b[0;34m\u001b[0m\u001b[0m\n\u001b[1;32m    155\u001b[0m         \u001b[0;31m# Execute the solver\u001b[0m\u001b[0;34m\u001b[0m\u001b[0;34m\u001b[0m\u001b[0;34m\u001b[0m\u001b[0m\n",
      "\u001b[0;32m~/Desktop/research/SpatialPy/spatialpy/Solver.py\u001b[0m in \u001b[0;36mcompile\u001b[0;34m(self, debug, profile)\u001b[0m\n\u001b[1;32m    115\u001b[0m                 \u001b[0;32mexcept\u001b[0m \u001b[0mException\u001b[0m \u001b[0;32mas\u001b[0m \u001b[0me\u001b[0m\u001b[0;34m:\u001b[0m\u001b[0;34m\u001b[0m\u001b[0;34m\u001b[0m\u001b[0m\n\u001b[1;32m    116\u001b[0m                     \u001b[0;32mpass\u001b[0m\u001b[0;34m\u001b[0m\u001b[0;34m\u001b[0m\u001b[0m\n\u001b[0;32m--> 117\u001b[0;31m                 raise SimulationError(\n\u001b[0m\u001b[1;32m    118\u001b[0m                     \"Compilation of solver failed, return_code={0}\".format(\n\u001b[1;32m    119\u001b[0m                         return_code))\n",
      "\u001b[0;31mSimulationError\u001b[0m: Compilation of solver failed, return_code=2"
     ]
    }
   ],
   "source": [
    "%time result = sol.run()"
   ]
  },
  {
   "cell_type": "code",
   "execution_count": 12,
   "metadata": {},
   "outputs": [
    {
     "ename": "NameError",
     "evalue": "name 'result' is not defined",
     "output_type": "error",
     "traceback": [
      "\u001b[0;31m---------------------------------------------------------------------------\u001b[0m",
      "\u001b[0;31mNameError\u001b[0m                                 Traceback (most recent call last)",
      "\u001b[0;32m<ipython-input-12-baaa9e3c3437>\u001b[0m in \u001b[0;36m<module>\u001b[0;34m\u001b[0m\n\u001b[0;32m----> 1\u001b[0;31m \u001b[0mresult\u001b[0m\u001b[0;34m.\u001b[0m\u001b[0mplot_property\u001b[0m\u001b[0;34m(\u001b[0m\u001b[0;34m'type'\u001b[0m\u001b[0;34m)\u001b[0m\u001b[0;34m\u001b[0m\u001b[0;34m\u001b[0m\u001b[0m\n\u001b[0m",
      "\u001b[0;31mNameError\u001b[0m: name 'result' is not defined"
     ]
    }
   ],
   "source": [
    "result.plot_property('type')"
   ]
  },
  {
   "cell_type": "code",
   "execution_count": null,
   "metadata": {},
   "outputs": [],
   "source": []
  },
  {
   "cell_type": "code",
   "execution_count": null,
   "metadata": {},
   "outputs": [],
   "source": []
  },
  {
   "cell_type": "code",
   "execution_count": null,
   "metadata": {},
   "outputs": [],
   "source": []
  },
  {
   "cell_type": "code",
   "execution_count": null,
   "metadata": {
    "scrolled": false,
    "tags": []
   },
   "outputs": [],
   "source": [
    "# Plot of the time-average spatial concentration.\n",
    "x_vals = model.mesh.coordinates()[:, 0]\n",
    "#A_vals = numpy.sum(result.get_species(\"A\", concentration=False, debug=False), axis=0)\n",
    "#B_vals = numpy.sum(result.get_species(\"B\", concentration=False, debug=False), axis=0)\n",
    "A_vals = numpy.sum(result.get_species(\"A\", concentration=True, \n",
    "                                      debug=False), axis=0)\n",
    "B_vals = numpy.sum(result.get_species(\"B\", concentration=True, \n",
    "                                      debug=False), axis=0)\n",
    "\n",
    "A_sum = numpy.sum(result.get_species(\"A\"), axis=1)\n",
    "B_sum = numpy.sum(result.get_species(\"B\"), axis=1)\n",
    "print(A_sum[-1])\n",
    "print(B_sum[-1])\n",
    "plt.figure(figsize=(6,6))\n",
    "plt.subplot(2,1,1)\n",
    "plt.plot(result.get_timespan(),A_sum,'-r',label=\"A\")\n",
    "plt.plot(result.get_timespan(),B_sum,'-b',label=\"B\")\n",
    "plt.legend(loc='best')\n",
    "plt.subplot(2,1,2)\n",
    "\n",
    "vol = model.mesh.vol\n",
    "type = model.mesh.type\n",
    "print(numpy.sum(vol[type == 2]))\n",
    "print(numpy.sum(vol[type == 3]))\n",
    "\n",
    "\n",
    "plt.plot(x_vals,A_vals,'.r',x_vals,B_vals,'.b')\n",
    "plt.legend(['A', 'B'],loc='best')\n"
   ]
  },
  {
   "cell_type": "code",
   "execution_count": null,
   "metadata": {},
   "outputs": [],
   "source": []
  },
  {
   "cell_type": "code",
   "execution_count": null,
   "metadata": {},
   "outputs": [],
   "source": []
  },
  {
   "cell_type": "code",
   "execution_count": null,
   "metadata": {},
   "outputs": [],
   "source": []
  },
  {
   "cell_type": "code",
   "execution_count": null,
   "metadata": {},
   "outputs": [],
   "source": []
  },
  {
   "cell_type": "code",
   "execution_count": null,
   "metadata": {},
   "outputs": [],
   "source": [
    "def plot_step(t_ndx,key='type'):\n",
    "    pts, data = result.read_step(t_ndx)\n",
    "    plt.figure(figsize=(15,10) )\n",
    "    plt.scatter(pts[:,0],pts[:,1],c=data[key])\n",
    "    plt.axis('equal')\n",
    "    plt.colorbar()\n",
    "    plt.title('t={0}'.format(t_ndx))"
   ]
  },
  {
   "cell_type": "code",
   "execution_count": null,
   "metadata": {},
   "outputs": [],
   "source": [
    "plot_step(0,'id')"
   ]
  },
  {
   "cell_type": "code",
   "execution_count": null,
   "metadata": {},
   "outputs": [],
   "source": []
  },
  {
   "cell_type": "code",
   "execution_count": null,
   "metadata": {},
   "outputs": [],
   "source": [
    "plot_step(0)"
   ]
  },
  {
   "cell_type": "code",
   "execution_count": null,
   "metadata": {},
   "outputs": [],
   "source": [
    "plot_step(2,'C[A]')"
   ]
  },
  {
   "cell_type": "code",
   "execution_count": null,
   "metadata": {},
   "outputs": [],
   "source": [
    "t=200\n",
    "plot_step(t,'D[A]')\n",
    "plot_step(t,'D[B]')"
   ]
  },
  {
   "cell_type": "code",
   "execution_count": null,
   "metadata": {},
   "outputs": [],
   "source": [
    "# Plot the subdomains\n",
    "result.plot_property(\"type\", 2)"
   ]
  },
  {
   "cell_type": "code",
   "execution_count": null,
   "metadata": {},
   "outputs": [],
   "source": [
    "result.plot_species(\"A\", t_ndx=-1, deterministic=True)"
   ]
  },
  {
   "cell_type": "code",
   "execution_count": null,
   "metadata": {},
   "outputs": [],
   "source": [
    "result.plot_species(\"A\", t_ndx=-1, size=10)"
   ]
  },
  {
   "cell_type": "code",
   "execution_count": null,
   "metadata": {},
   "outputs": [],
   "source": []
  },
  {
   "cell_type": "code",
   "execution_count": null,
   "metadata": {},
   "outputs": [],
   "source": [
    "result.plot_property(\"type\", use_matplotlib=True, mpl_width=15, mpl_height=10)"
   ]
  },
  {
   "cell_type": "code",
   "execution_count": null,
   "metadata": {},
   "outputs": [],
   "source": [
    "result.plot_species(\"A\", deterministic=True, use_matplotlib=True, mpl_width=15, mpl_height=10)"
   ]
  },
  {
   "cell_type": "code",
   "execution_count": null,
   "metadata": {},
   "outputs": [],
   "source": [
    "result.plot_species(\"A\", use_matplotlib=True, mpl_width=15, mpl_height=10)"
   ]
  },
  {
   "cell_type": "code",
   "execution_count": null,
   "metadata": {
    "scrolled": false,
    "tags": []
   },
   "outputs": [],
   "source": [
    "#from spatialpy.Solver import Solver\n",
    "#sol = Solver(model, debug_level=2)\n",
    "#%time sol.compile()\n"
   ]
  },
  {
   "cell_type": "code",
   "execution_count": null,
   "metadata": {},
   "outputs": [],
   "source": [
    "#sol.build_dir"
   ]
  },
  {
   "cell_type": "code",
   "execution_count": null,
   "metadata": {},
   "outputs": [],
   "source": [
    "#print(subprocess.getoutput(sol.build_dir+'/ssa_sdpd'))"
   ]
  },
  {
   "cell_type": "code",
   "execution_count": null,
   "metadata": {},
   "outputs": [],
   "source": [
    "#!/tmp/spatialpy_build_1h9cf_2u/ssa_sdpd"
   ]
  }
 ],
 "metadata": {
  "@webio": {
   "lastCommId": null,
   "lastKernelId": null
  },
  "kernelspec": {
   "display_name": "Python 3",
   "language": "python",
   "name": "python3"
  },
  "language_info": {
   "codemirror_mode": {
    "name": "ipython",
    "version": 3
   },
   "file_extension": ".py",
   "mimetype": "text/x-python",
   "name": "python",
   "nbconvert_exporter": "python",
   "pygments_lexer": "ipython3",
   "version": "3.8.5"
  }
 },
 "nbformat": 4,
 "nbformat_minor": 2
}

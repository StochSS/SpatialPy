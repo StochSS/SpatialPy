{
 "cells": [
  {
   "cell_type": "code",
   "execution_count": 1,
   "metadata": {},
   "outputs": [],
   "source": [
    "import os\n",
    "import sys\n",
    "from collections import OrderedDict"
   ]
  },
  {
   "cell_type": "code",
   "execution_count": 2,
   "metadata": {},
   "outputs": [],
   "source": [
    "sys.path.append('../..')"
   ]
  },
  {
   "cell_type": "code",
   "execution_count": 3,
   "metadata": {},
   "outputs": [
    {
     "data": {
      "text/plain": [
       "'../../spatialpy/__init__.py'"
      ]
     },
     "execution_count": 3,
     "metadata": {},
     "output_type": "execute_result"
    }
   ],
   "source": [
    "import spatialpy\n",
    "spatialpy.__file__"
   ]
  },
  {
   "cell_type": "code",
   "execution_count": 4,
   "metadata": {},
   "outputs": [],
   "source": [
    "import matplotlib.pyplot as plt\n",
    "import numpy\n",
    "\n",
    "# Global Constants\n",
    "MAX_X_DIM = 5.0\n",
    "MIN_X_DIM = -5.0\n",
    "TOL = 1e-9"
   ]
  },
  {
   "cell_type": "code",
   "execution_count": 5,
   "metadata": {
    "tags": []
   },
   "outputs": [],
   "source": [
    "%load_ext autoreload\n",
    "%autoreload 2"
   ]
  },
  {
   "cell_type": "code",
   "execution_count": 6,
   "metadata": {},
   "outputs": [],
   "source": [
    "class Edge1(spatialpy.Geometry):\n",
    "    def inside(self, x, on_boundary):\n",
    "        return abs(x[0] - MAX_X_DIM) < 0.05\n",
    "class Edge2(spatialpy.Geometry):\n",
    "    def inside(self, x, on_boundary):\n",
    "        return abs(x[0] - MIN_X_DIM) < 0.05\n",
    "class Middle(spatialpy.Geometry):\n",
    "    def inside(self, x, on_boundary):\n",
    "        return abs(x[0] - MIN_X_DIM) >= 0.05"
   ]
  },
  {
   "cell_type": "code",
   "execution_count": 49,
   "metadata": {},
   "outputs": [],
   "source": [
    "class cylinderDemo3D(spatialpy.Model):\n",
    "    def __init__(self, model_name=\"cylinder_demo3d\"):\n",
    "        spatialpy.Model.__init__(self, model_name)\n",
    "\n",
    "        self.timestep_size = 1\n",
    "        \n",
    "        # System constants\n",
    "        D_const = 0.1\n",
    "\n",
    "        # Define Species\n",
    "        A = spatialpy.Species(name=\"A\", diffusion_constant=D_const)\n",
    "        B = spatialpy.Species(name=\"B\", diffusion_constant=D_const)\n",
    "        self.add_species([A, B])\n",
    "\n",
    "        # Define Geometry\n",
    "        self.mesh = spatialpy.Mesh.read_xml_mesh('cylinder.xml')\n",
    "\n",
    "        # Define Subdomains\n",
    "        self.set_type(Middle(), 1)\n",
    "        self.set_type(Edge1(),  2)\n",
    "        self.set_type(Edge2(),  3)\n",
    "        \n",
    "        # Restrict the movement of Chemical Species\n",
    "        self.restrict(A,[1,2])\n",
    "        self.restrict(B,[1,3])\n",
    "\n",
    "        vol = self.mesh.get_vol()\n",
    "        print(\"vol\",vol)\n",
    "        type = self.mesh.type\n",
    "        left = numpy.sum(vol[type == 2])\n",
    "        right = numpy.sum(vol[type == 3])\n",
    "        print(\"left \"+str(left)+\" right \"+str(right))\n",
    "        \n",
    "        k_react = spatialpy.Parameter(name=\"k_react\", expression=1.0)\n",
    "        k_creat1 = spatialpy.Parameter(name=\"k_creat1\", \n",
    "                                     expression=100/left)\n",
    "        k_creat2 = spatialpy.Parameter(name=\"k_creat2\", \n",
    "                                     expression=100/right)\n",
    "        self.add_parameter([k_react, k_creat1,k_creat2])\n",
    "\n",
    "\n",
    "        # Define Reactions\n",
    "        R1 = spatialpy.Reaction(reactants=None, products={A:1}, \n",
    "                                rate=k_creat1, restrict_to=2)\n",
    "        R2 = spatialpy.Reaction(reactants=None, products={B:1}, \n",
    "                              rate=k_creat2, restrict_to=3)\n",
    "        R3 = spatialpy.Reaction(reactants={A:1, B:1}, products=None, \n",
    "                              rate=k_react)\n",
    "        self.add_reaction([R1, R2, R3])\n",
    "        \n",
    "        #self.add_initial_condition(spatialpy.ScatterInitialCondition(A,10000,[1]))\n",
    "\n",
    "\n",
    "        # Define simulation timespan\n",
    "        #self.set_timesteps(1, 200)\n",
    "        #self.timespan(range(500))\n",
    "        self.timespan(range(5))\n",
    "                "
   ]
  },
  {
   "cell_type": "code",
   "execution_count": null,
   "metadata": {},
   "outputs": [],
   "source": []
  },
  {
   "cell_type": "code",
   "execution_count": 50,
   "metadata": {
    "scrolled": true,
    "tags": []
   },
   "outputs": [
    {
     "name": "stdout",
     "output_type": "stream",
     "text": [
      "vol [0.01513526 0.07034112 0.02382667 ... 0.01674217 0.02120607 0.01969156]\n",
      "left 0.5092013833059308 right 0.505804729089437\n"
     ]
    }
   ],
   "source": [
    "model = cylinderDemo3D()"
   ]
  },
  {
   "cell_type": "code",
   "execution_count": 51,
   "metadata": {},
   "outputs": [],
   "source": [
    "#sol.run_debugger()\n",
    "#sol.run()"
   ]
  },
  {
   "cell_type": "code",
   "execution_count": 68,
   "metadata": {
    "tags": []
   },
   "outputs": [
    {
     "name": "stdout",
     "output_type": "stream",
     "text": [
      "CPU times: user 187 ms, sys: 7.11 ms, total: 194 ms\n",
      "Wall time: 11.8 s\n",
      "/tmp/spatialpy_build_q4o7mk10\n"
     ]
    }
   ],
   "source": [
    "from spatialpy import Solver\n",
    "sol = Solver(model, debug_level=0)\n",
    "%time sol.compile()\n",
    "print(sol.build_dir)"
   ]
  },
  {
   "cell_type": "code",
   "execution_count": 69,
   "metadata": {},
   "outputs": [
    {
     "name": "stdout",
     "output_type": "stream",
     "text": [
      "CPU times: user 5.68 ms, sys: 692 µs, total: 6.37 ms\n",
      "Wall time: 65.1 ms\n"
     ]
    }
   ],
   "source": [
    "%time result = sol.run()"
   ]
  },
  {
   "cell_type": "code",
   "execution_count": 70,
   "metadata": {},
   "outputs": [
    {
     "data": {
      "text/plain": [
       "'/tmp/spatialpy_result_zhu5w4tk'"
      ]
     },
     "execution_count": 70,
     "metadata": {},
     "output_type": "execute_result"
    }
   ],
   "source": [
    "result.result_dir"
   ]
  },
  {
   "cell_type": "code",
   "execution_count": 71,
   "metadata": {
    "scrolled": false,
    "tags": []
   },
   "outputs": [
    {
     "name": "stdout",
     "output_type": "stream",
     "text": [
      "0.0\n",
      "0.0\n",
      "0.5092013833059308\n",
      "0.505804729089437\n"
     ]
    },
    {
     "data": {
      "text/plain": [
       "<matplotlib.legend.Legend at 0x7f13c084d880>"
      ]
     },
     "execution_count": 71,
     "metadata": {},
     "output_type": "execute_result"
    },
    {
     "data": {
      "image/png": "[encoded data removed]",
      "text/plain": [
       "<Figure size 432x432 with 2 Axes>"
      ]
     },
     "metadata": {
      "needs_background": "light"
     },
     "output_type": "display_data"
    }
   ],
   "source": [
    "# Plot of the time-average spatial concentration.\n",
    "x_vals = model.mesh.coordinates()[:, 0]\n",
    "#A_vals = numpy.sum(result.get_species(\"A\", concentration=False, debug=False), axis=0)\n",
    "#B_vals = numpy.sum(result.get_species(\"B\", concentration=False, debug=False), axis=0)\n",
    "A_vals = numpy.sum(result.get_species(\"A\", concentration=True, \n",
    "                                      debug=False), axis=0)\n",
    "B_vals = numpy.sum(result.get_species(\"B\", concentration=True, \n",
    "                                      debug=False), axis=0)\n",
    "\n",
    "A_sum = numpy.sum(result.get_species(\"A\"), axis=1)\n",
    "B_sum = numpy.sum(result.get_species(\"B\"), axis=1)\n",
    "print(A_sum[-1])\n",
    "print(B_sum[-1])\n",
    "plt.figure(figsize=(6,6))\n",
    "plt.subplot(2,1,1)\n",
    "plt.plot(result.get_timespan(),A_sum,'-r',label=\"A\")\n",
    "plt.plot(result.get_timespan(),B_sum,'-b',label=\"B\")\n",
    "plt.legend(loc='best')\n",
    "plt.subplot(2,1,2)\n",
    "\n",
    "vol = model.mesh.vol\n",
    "type = model.mesh.type\n",
    "print(numpy.sum(vol[type == 2]))\n",
    "print(numpy.sum(vol[type == 3]))\n",
    "\n",
    "\n",
    "plt.plot(x_vals,A_vals,'.r',x_vals,B_vals,'.b')\n",
    "plt.legend(['A', 'B'],loc='best')\n"
   ]
  },
  {
   "cell_type": "code",
   "execution_count": null,
   "metadata": {},
   "outputs": [],
   "source": []
  },
  {
   "cell_type": "code",
   "execution_count": null,
   "metadata": {},
   "outputs": [],
   "source": []
  },
  {
   "cell_type": "code",
   "execution_count": null,
   "metadata": {},
   "outputs": [],
   "source": []
  },
  {
   "cell_type": "code",
   "execution_count": null,
   "metadata": {},
   "outputs": [],
   "source": []
  },
  {
   "cell_type": "code",
   "execution_count": null,
   "metadata": {},
   "outputs": [],
   "source": [
    "def plot_step(t_ndx,key='type'):\n",
    "    pts, data = result.read_step(t_ndx)\n",
    "    plt.figure(figsize=(15,10) )\n",
    "    plt.scatter(pts[:,0],pts[:,1],c=data[key])\n",
    "    plt.axis('equal')\n",
    "    plt.colorbar()\n",
    "    plt.title('t={0}'.format(t_ndx))"
   ]
  },
  {
   "cell_type": "code",
   "execution_count": null,
   "metadata": {},
   "outputs": [],
   "source": [
    "plot_step(0,'id')"
   ]
  },
  {
   "cell_type": "code",
   "execution_count": null,
   "metadata": {},
   "outputs": [],
   "source": []
  },
  {
   "cell_type": "code",
   "execution_count": null,
   "metadata": {},
   "outputs": [],
   "source": [
    "plot_step(0)"
   ]
  },
  {
   "cell_type": "code",
   "execution_count": null,
   "metadata": {},
   "outputs": [],
   "source": [
    "plot_step(2,'C[A]')"
   ]
  },
  {
   "cell_type": "code",
   "execution_count": null,
   "metadata": {},
   "outputs": [],
   "source": [
    "t=200\n",
    "plot_step(t,'D[A]')\n",
    "plot_step(t,'D[B]')"
   ]
  },
  {
   "cell_type": "code",
   "execution_count": null,
   "metadata": {},
   "outputs": [],
   "source": [
    "# Plot the subdomains\n",
    "result.plot_property(\"type\", 2)"
   ]
  },
  {
   "cell_type": "code",
   "execution_count": null,
   "metadata": {},
   "outputs": [],
   "source": [
    "result.plot_species(\"A\", t_ndx=-1, deterministic=True)"
   ]
  },
  {
   "cell_type": "code",
   "execution_count": null,
   "metadata": {},
   "outputs": [],
   "source": [
    "result.plot_species(\"A\", t_ndx=-1, size=10)"
   ]
  },
  {
   "cell_type": "code",
   "execution_count": null,
   "metadata": {},
   "outputs": [],
   "source": []
  },
  {
   "cell_type": "code",
   "execution_count": null,
   "metadata": {},
   "outputs": [],
   "source": [
    "result.plot_property(\"type\", use_matplotlib=True, mpl_width=15, mpl_height=10)"
   ]
  },
  {
   "cell_type": "code",
   "execution_count": null,
   "metadata": {},
   "outputs": [],
   "source": [
    "result.plot_species(\"A\", deterministic=True, use_matplotlib=True, mpl_width=15, mpl_height=10)"
   ]
  },
  {
   "cell_type": "code",
   "execution_count": null,
   "metadata": {},
   "outputs": [],
   "source": [
    "result.plot_species(\"A\", use_matplotlib=True, mpl_width=15, mpl_height=10)"
   ]
  },
  {
   "cell_type": "code",
   "execution_count": null,
   "metadata": {
    "scrolled": false,
    "tags": []
   },
   "outputs": [],
   "source": [
    "#from spatialpy.Solver import Solver\n",
    "#sol = Solver(model, debug_level=2)\n",
    "#%time sol.compile()\n"
   ]
  },
  {
   "cell_type": "code",
   "execution_count": null,
   "metadata": {},
   "outputs": [],
   "source": [
    "#sol.build_dir"
   ]
  },
  {
   "cell_type": "code",
   "execution_count": null,
   "metadata": {},
   "outputs": [],
   "source": [
    "#print(subprocess.getoutput(sol.build_dir+'/ssa_sdpd'))"
   ]
  },
  {
   "cell_type": "code",
   "execution_count": null,
   "metadata": {},
   "outputs": [],
   "source": [
    "#!/tmp/spatialpy_build_1h9cf_2u/ssa_sdpd"
   ]
  }
 ],
 "metadata": {
  "@webio": {
   "lastCommId": null,
   "lastKernelId": null
  },
  "kernelspec": {
   "display_name": "Python 3",
   "language": "python",
   "name": "python3"
  },
  "language_info": {
   "codemirror_mode": {
    "name": "ipython",
    "version": 3
   },
   "file_extension": ".py",
   "mimetype": "text/x-python",
   "name": "python",
   "nbconvert_exporter": "python",
   "pygments_lexer": "ipython3",
   "version": "3.8.5"
  }
 },
 "nbformat": 4,
 "nbformat_minor": 2
}

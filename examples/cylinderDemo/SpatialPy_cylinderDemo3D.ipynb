{
 "cells": [
  {
   "cell_type": "code",
   "execution_count": 1,
   "metadata": {},
   "outputs": [],
   "source": [
    "import os\n",
    "import sys\n",
    "from collections import OrderedDict"
   ]
  },
  {
   "cell_type": "code",
   "execution_count": 2,
   "metadata": {},
   "outputs": [],
   "source": [
    "sys.path.append(\"../..\")"
   ]
  },
  {
   "cell_type": "code",
   "execution_count": 3,
   "metadata": {},
   "outputs": [],
   "source": [
    "%load_ext autoreload\n",
    "%autoreload 2"
   ]
  },
  {
   "cell_type": "code",
   "execution_count": 7,
   "metadata": {},
   "outputs": [],
   "source": [
    "import spatialpy"
   ]
  },
  {
   "cell_type": "code",
   "execution_count": 8,
   "metadata": {},
   "outputs": [],
   "source": [
    "import matplotlib.pyplot as plt\n",
    "import numpy\n",
    "\n",
    "# Global Constants\n",
    "MAX_X_DIM = 5.0\n",
    "MIN_X_DIM = -5.0\n",
    "TOL = 1e-9"
   ]
  },
  {
   "cell_type": "code",
   "execution_count": 9,
   "metadata": {},
   "outputs": [],
   "source": [
    "class Edge1(spatialpy.SubDomain):\n",
    "    def inside(self, x, on_boundary):\n",
    "        return abs(x[0] - MAX_X_DIM) < 0.05\n",
    "class Edge2(spatialpy.SubDomain):\n",
    "    def inside(self, x, on_boundary):\n",
    "        return abs(x[0] - MIN_X_DIM) < 0.05\n"
   ]
  },
  {
   "cell_type": "code",
   "execution_count": 10,
   "metadata": {},
   "outputs": [
    {
     "name": "stdout",
     "output_type": "stream",
     "text": [
      "cylinder.xml  old  SpatialPy_cylinderDemo3D.ipynb\r\n"
     ]
    }
   ],
   "source": [
    "!ls"
   ]
  },
  {
   "cell_type": "code",
   "execution_count": 11,
   "metadata": {
    "scrolled": true
   },
   "outputs": [
    {
     "data": {
      "text/plain": [
       "array([], dtype=float64)"
      ]
     },
     "execution_count": 11,
     "metadata": {},
     "output_type": "execute_result"
    }
   ],
   "source": [
    "numpy.zeros((0))"
   ]
  },
  {
   "cell_type": "code",
   "execution_count": 21,
   "metadata": {},
   "outputs": [],
   "source": [
    "class cylinderDemo3D(spatialpy.Model):\n",
    "    def __init__(self, model_name=\"cylinder_demo3d\"):\n",
    "        spatialpy.Model.__init__(self, model_name)\n",
    "\n",
    "        # System constants\n",
    "        D_const = 0.1\n",
    "\n",
    "        # Define Species\n",
    "        A = spatialpy.Species(name=\"A\", diffusion_constant=D_const)\n",
    "        B = spatialpy.Species(name=\"B\", diffusion_constant=D_const)\n",
    "        self.add_species([A, B])\n",
    "\n",
    "        # Define Geometry\n",
    "        self.mesh = spatialpy.Mesh.read_xml_mesh('cylinder.xml')\n",
    "\n",
    "        # Define Subdomains\n",
    "        self.add_subdomain(Edge1(), 2)\n",
    "        self.add_subdomain(Edge2(), 3)\n",
    "        \n",
    "        # Restrict the movement of Chemical Species\n",
    "        self.restrict(A,[1,2])\n",
    "        self.restrict(B,[1,3])\n",
    "\n",
    "\n",
    "        k_react = spatialpy.Parameter(name=\"k_react\", expression=1.0)\n",
    "        k_creat1 = spatialpy.Parameter(name=\"k_creat1\", expression=100)\n",
    "        k_creat2 = spatialpy.Parameter(name=\"k_creat2\", expression=100)\n",
    "        self.add_parameter([k_react, k_creat1,k_creat2])\n",
    "\n",
    "\n",
    "        # Define Reactions\n",
    "        R1 = spatialpy.Reaction(reactants=None, products={A:1}, \n",
    "                                rate=k_creat1, restrict_to=2)\n",
    "        R2 = spatialpy.Reaction(reactants=None, products={B:1}, \n",
    "                              rate=k_creat2, restrict_to=3)\n",
    "        R3 = spatialpy.Reaction(reactants={A:1, B:1}, products=None, \n",
    "                              rate=k_react)\n",
    "        self.add_reaction([R1, R2, R3])\n",
    "\n",
    "        # Define simulation timespan\n",
    "        self.set_timesteps(1, 200)"
   ]
  },
  {
   "cell_type": "code",
   "execution_count": 22,
   "metadata": {},
   "outputs": [],
   "source": [
    "model = cylinderDemo3D()"
   ]
  },
  {
   "cell_type": "code",
   "execution_count": 26,
   "metadata": {},
   "outputs": [
    {
     "name": "stdout",
     "output_type": "stream",
     "text": [
      "Compiling Solver\n",
      "Creating propensity file /tmp/tmpwhqdgkpd/.spatialpy/cylinder_demo3d_generated_model.c\n",
      "cmd: cd /tmp/tmpwhqdgkpd ; make -f /home/brian/Desktop/research/SpatialPy/spatialpy/spatialpy/build/Makefile.nsm SpatialPy_ROOT=/home/brian/Desktop/research/SpatialPy/spatialpy/spatialpy SpatialPy_MODEL=cylinder_demo3d_generated_model\n",
      "\n",
      "b''\n",
      "b\"make: /home/brian/Desktop/research/SpatialPy/spatialpy/spatialpy/build/Makefile.nsm: No such file or directory\\nmake: *** No rule to make target '/home/brian/Desktop/research/SpatialPy/spatialpy/spatialpy/build/Makefile.nsm'.  Stop.\\n\"\n"
     ]
    },
    {
     "ename": "SimulationError",
     "evalue": "Compilation of solver failed, return_code=2",
     "output_type": "error",
     "traceback": [
      "\u001b[0;31m---------------------------------------------------------------------------\u001b[0m",
      "\u001b[0;31mSimulationError\u001b[0m                           Traceback (most recent call last)",
      "\u001b[0;32m<ipython-input-26-d0947fa2ca9d>\u001b[0m in \u001b[0;36m<module>\u001b[0;34m()\u001b[0m\n\u001b[0;32m----> 1\u001b[0;31m \u001b[0mresult\u001b[0m \u001b[0;34m=\u001b[0m \u001b[0mmodel\u001b[0m\u001b[0;34m.\u001b[0m\u001b[0mrun\u001b[0m\u001b[0;34m(\u001b[0m\u001b[0mreport_level\u001b[0m\u001b[0;34m=\u001b[0m\u001b[0;36m2\u001b[0m\u001b[0;34m)\u001b[0m\u001b[0;34m\u001b[0m\u001b[0;34m\u001b[0m\u001b[0m\n\u001b[0m",
      "\u001b[0;32m/home/brian/Desktop/research/SpatialPy/spatialpy/Model.py\u001b[0m in \u001b[0;36mrun\u001b[0;34m(self, number_of_trajectories, solver, seed, report_level)\u001b[0m\n\u001b[1;32m     62\u001b[0m             \u001b[0msol\u001b[0m \u001b[0;34m=\u001b[0m \u001b[0mNSMSolver\u001b[0m\u001b[0;34m(\u001b[0m\u001b[0mself\u001b[0m\u001b[0;34m,\u001b[0m \u001b[0mreport_level\u001b[0m\u001b[0;34m=\u001b[0m\u001b[0mreport_level\u001b[0m\u001b[0;34m)\u001b[0m\u001b[0;34m\u001b[0m\u001b[0;34m\u001b[0m\u001b[0m\n\u001b[1;32m     63\u001b[0m \u001b[0;34m\u001b[0m\u001b[0m\n\u001b[0;32m---> 64\u001b[0;31m         \u001b[0;32mreturn\u001b[0m \u001b[0msol\u001b[0m\u001b[0;34m.\u001b[0m\u001b[0mrun\u001b[0m\u001b[0;34m(\u001b[0m\u001b[0mnumber_of_trajectories\u001b[0m\u001b[0;34m=\u001b[0m\u001b[0mnumber_of_trajectories\u001b[0m\u001b[0;34m,\u001b[0m \u001b[0mseed\u001b[0m\u001b[0;34m=\u001b[0m\u001b[0mseed\u001b[0m\u001b[0;34m)\u001b[0m\u001b[0;34m\u001b[0m\u001b[0;34m\u001b[0m\u001b[0m\n\u001b[0m\u001b[1;32m     65\u001b[0m \u001b[0;34m\u001b[0m\u001b[0m\n\u001b[1;32m     66\u001b[0m \u001b[0;34m\u001b[0m\u001b[0m\n",
      "\u001b[0;32m/home/brian/Desktop/research/SpatialPy/spatialpy/Solver.py\u001b[0m in \u001b[0;36mrun\u001b[0;34m(self, number_of_trajectories, seed, input_file, loaddata)\u001b[0m\n\u001b[1;32m    192\u001b[0m         \u001b[0;31m# Check if compiled, call compile() if not.\u001b[0m\u001b[0;34m\u001b[0m\u001b[0;34m\u001b[0m\u001b[0;34m\u001b[0m\u001b[0m\n\u001b[1;32m    193\u001b[0m         \u001b[0;32mif\u001b[0m \u001b[0;32mnot\u001b[0m \u001b[0mself\u001b[0m\u001b[0;34m.\u001b[0m\u001b[0mis_compiled\u001b[0m\u001b[0;34m:\u001b[0m\u001b[0;34m\u001b[0m\u001b[0;34m\u001b[0m\u001b[0m\n\u001b[0;32m--> 194\u001b[0;31m             \u001b[0mself\u001b[0m\u001b[0;34m.\u001b[0m\u001b[0mcompile\u001b[0m\u001b[0;34m(\u001b[0m\u001b[0;34m)\u001b[0m\u001b[0;34m\u001b[0m\u001b[0;34m\u001b[0m\u001b[0m\n\u001b[0m\u001b[1;32m    195\u001b[0m \u001b[0;34m\u001b[0m\u001b[0m\n\u001b[1;32m    196\u001b[0m         \u001b[0;31m# Execute the solver\u001b[0m\u001b[0;34m\u001b[0m\u001b[0;34m\u001b[0m\u001b[0;34m\u001b[0m\u001b[0m\n",
      "\u001b[0;32m/home/brian/Desktop/research/SpatialPy/spatialpy/Solver.py\u001b[0m in \u001b[0;36mcompile\u001b[0;34m(self)\u001b[0m\n\u001b[1;32m    168\u001b[0m             \u001b[0;32mexcept\u001b[0m \u001b[0mException\u001b[0m \u001b[0;32mas\u001b[0m \u001b[0me\u001b[0m\u001b[0;34m:\u001b[0m\u001b[0;34m\u001b[0m\u001b[0;34m\u001b[0m\u001b[0m\n\u001b[1;32m    169\u001b[0m                 \u001b[0;32mpass\u001b[0m\u001b[0;34m\u001b[0m\u001b[0;34m\u001b[0m\u001b[0m\n\u001b[0;32m--> 170\u001b[0;31m             \u001b[0;32mraise\u001b[0m \u001b[0mSimulationError\u001b[0m\u001b[0;34m(\u001b[0m\u001b[0;34m\"Compilation of solver failed, return_code={0}\"\u001b[0m\u001b[0;34m.\u001b[0m\u001b[0mformat\u001b[0m\u001b[0;34m(\u001b[0m\u001b[0mreturn_code\u001b[0m\u001b[0;34m)\u001b[0m\u001b[0;34m)\u001b[0m\u001b[0;34m\u001b[0m\u001b[0;34m\u001b[0m\u001b[0m\n\u001b[0m\u001b[1;32m    171\u001b[0m \u001b[0;34m\u001b[0m\u001b[0m\n\u001b[1;32m    172\u001b[0m         \u001b[0;32mif\u001b[0m \u001b[0mself\u001b[0m\u001b[0;34m.\u001b[0m\u001b[0mreport_level\u001b[0m \u001b[0;34m>\u001b[0m \u001b[0;36m1\u001b[0m\u001b[0;34m:\u001b[0m\u001b[0;34m\u001b[0m\u001b[0;34m\u001b[0m\u001b[0m\n",
      "\u001b[0;31mSimulationError\u001b[0m: Compilation of solver failed, return_code=2"
     ]
    }
   ],
   "source": [
    "result = model.run(report_level=2)"
   ]
  },
  {
   "cell_type": "code",
   "execution_count": null,
   "metadata": {},
   "outputs": [],
   "source": []
  }
 ],
 "metadata": {
  "kernelspec": {
   "display_name": "Python 3",
   "language": "python",
   "name": "python3"
  },
  "language_info": {
   "codemirror_mode": {
    "name": "ipython",
    "version": 3
   },
   "file_extension": ".py",
   "mimetype": "text/x-python",
   "name": "python",
   "nbconvert_exporter": "python",
   "pygments_lexer": "ipython3",
   "version": "3.6.7"
  }
 },
 "nbformat": 4,
 "nbformat_minor": 2
}

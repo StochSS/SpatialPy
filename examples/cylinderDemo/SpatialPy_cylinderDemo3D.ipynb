{
 "cells": [
  {
   "cell_type": "code",
   "execution_count": 1,
   "metadata": {},
   "outputs": [],
   "source": [
    "import os\n",
    "import sys\n",
    "from collections import OrderedDict"
   ]
  },
  {
   "cell_type": "code",
   "execution_count": 2,
   "metadata": {},
   "outputs": [],
   "source": [
    "sys.path.append(\"../..\")"
   ]
  },
  {
   "cell_type": "code",
   "execution_count": 3,
   "metadata": {},
   "outputs": [],
   "source": [
    "%load_ext autoreload\n",
    "%autoreload 2"
   ]
  },
  {
   "cell_type": "code",
   "execution_count": 4,
   "metadata": {},
   "outputs": [],
   "source": [
    "import spatialpy"
   ]
  },
  {
   "cell_type": "code",
   "execution_count": 5,
   "metadata": {},
   "outputs": [],
   "source": [
    "import matplotlib.pyplot as plt\n",
    "import numpy\n",
    "\n",
    "# Global Constants\n",
    "MAX_X_DIM = 5.0\n",
    "MIN_X_DIM = -5.0\n",
    "TOL = 1e-9"
   ]
  },
  {
   "cell_type": "code",
   "execution_count": 6,
   "metadata": {},
   "outputs": [],
   "source": [
    "class Edge1(spatialpy.SubDomain):\n",
    "    def inside(self, x, on_boundary):\n",
    "        return abs(x[0] - MAX_X_DIM) < 0.05\n",
    "class Edge2(spatialpy.SubDomain):\n",
    "    def inside(self, x, on_boundary):\n",
    "        return abs(x[0] - MIN_X_DIM) < 0.05\n"
   ]
  },
  {
   "cell_type": "code",
   "execution_count": 43,
   "metadata": {},
   "outputs": [],
   "source": [
    "class cylinderDemo3D(spatialpy.Model):\n",
    "    def __init__(self, model_name=\"cylinder_demo3d\"):\n",
    "        spatialpy.Model.__init__(self, model_name)\n",
    "\n",
    "        # System constants\n",
    "        D_const = 0.1\n",
    "\n",
    "        # Define Species\n",
    "        A = spatialpy.Species(name=\"A\", diffusion_constant=D_const)\n",
    "        B = spatialpy.Species(name=\"B\", diffusion_constant=D_const)\n",
    "        self.add_species([A, B])\n",
    "\n",
    "        # Define Geometry\n",
    "        self.mesh = spatialpy.Mesh.read_xml_mesh('cylinder.xml')\n",
    "\n",
    "        # Define Subdomains\n",
    "        self.add_subdomain(Edge1(), 2)\n",
    "        self.add_subdomain(Edge2(), 3)\n",
    "        \n",
    "        # Restrict the movement of Chemical Species\n",
    "        self.restrict(A,[1,2])\n",
    "        self.restrict(B,[1,3])\n",
    "\n",
    "        vol = self.mesh.get_vol()\n",
    "        sd = self.sd\n",
    "        left = numpy.sum(vol[sd == 2])\n",
    "        right = numpy.sum(vol[sd == 3])\n",
    "        print(\"left \"+str(left)+\" right \"+str(right))\n",
    "        \n",
    "        k_react = spatialpy.Parameter(name=\"k_react\", expression=1.0)\n",
    "        k_creat1 = spatialpy.Parameter(name=\"k_creat1\", \n",
    "                                     expression=100/left)\n",
    "        k_creat2 = spatialpy.Parameter(name=\"k_creat2\", \n",
    "                                     expression=100/right)\n",
    "        self.add_parameter([k_react, k_creat1,k_creat2])\n",
    "\n",
    "\n",
    "        # Define Reactions\n",
    "        R1 = spatialpy.Reaction(reactants=None, products={A:1}, \n",
    "                                rate=k_creat1, restrict_to=2)\n",
    "        R2 = spatialpy.Reaction(reactants=None, products={B:1}, \n",
    "                              rate=k_creat2, restrict_to=3)\n",
    "        R3 = spatialpy.Reaction(reactants={A:1, B:1}, products=None, \n",
    "                              rate=k_react)\n",
    "        self.add_reaction([R1, R2, R3])\n",
    "\n",
    "        # Define simulation timespan\n",
    "        #self.set_timesteps(1, 200)\n",
    "        self.timespan(range(500))"
   ]
  },
  {
   "cell_type": "code",
   "execution_count": 44,
   "metadata": {},
   "outputs": [
    {
     "name": "stdout",
     "output_type": "stream",
     "text": [
      "left 0.509201383306 right 0.505804729089\n"
     ]
    }
   ],
   "source": [
    "model = cylinderDemo3D()"
   ]
  },
  {
   "cell_type": "code",
   "execution_count": 45,
   "metadata": {},
   "outputs": [],
   "source": [
    "from spatialpy.nsmsolver import NSMSolver"
   ]
  },
  {
   "cell_type": "code",
   "execution_count": 83,
   "metadata": {
    "scrolled": true
   },
   "outputs": [
    {
     "name": "stdout",
     "output_type": "stream",
     "text": [
      "h=0.8\n",
      "Compiling Solver.  Build dir: /tmp/tmpleetkdl9\n",
      "Creating propensity file /tmp/tmpleetkdl9/cylinder_demo3d_generated_model.c\n",
      "cmd: cd /tmp/tmpleetkdl9 ; make -f /home/brian/Desktop/research/SpatialPy/spatialpy/ssa_sdpd-c-simulation-engine/build/Makefile.nsm ROOT=/home/brian/Desktop/research/SpatialPy/spatialpy/ssa_sdpd-c-simulation-engine MODEL=/tmp/tmpleetkdl9/cylinder_demo3d_generated_model.c BUILD=/tmp/tmpleetkdl9\n",
      "\n",
      "gcc -c -o linked_list.o /home/brian/Desktop/research/SpatialPy/spatialpy/ssa_sdpd-c-simulation-engine/src/linked_list.c -I/home/brian/Desktop/research/SpatialPy/spatialpy/ssa_sdpd-c-simulation-engine/include/ -O3 -Wall \n",
      "gcc -c -o particle.o /home/brian/Desktop/research/SpatialPy/spatialpy/ssa_sdpd-c-simulation-engine/src/particle.c -I/home/brian/Desktop/research/SpatialPy/spatialpy/ssa_sdpd-c-simulation-engine/include/ -O3 -Wall \n",
      "gcc -c -o simulate.o /home/brian/Desktop/research/SpatialPy/spatialpy/ssa_sdpd-c-simulation-engine/src/simulate.c -I/home/brian/Desktop/research/SpatialPy/spatialpy/ssa_sdpd-c-simulation-engine/include/ -O3 -Wall \n",
      "gcc -c -o count_cores.o /home/brian/Desktop/research/SpatialPy/spatialpy/ssa_sdpd-c-simulation-engine/src/count_cores.c -I/home/brian/Desktop/research/SpatialPy/spatialpy/ssa_sdpd-c-simulation-engine/include/ -O3 -Wall \n",
      "gcc -c -o output.o /home/brian/Desktop/research/SpatialPy/spatialpy/ssa_sdpd-c-simulation-engine/src/output.c -I/home/brian/Desktop/research/SpatialPy/spatialpy/ssa_sdpd-c-simulation-engine/include/ -O3 -Wall \n",
      "gcc -c -o simulate_rdme.o /home/brian/Desktop/research/SpatialPy/spatialpy/ssa_sdpd-c-simulation-engine/src/simulate_rdme.c -I/home/brian/Desktop/research/SpatialPy/spatialpy/ssa_sdpd-c-simulation-engine/include/ -O3 -Wall \n",
      "gcc -c -o binheap.o /home/brian/Desktop/research/SpatialPy/spatialpy/ssa_sdpd-c-simulation-engine/src/binheap.c -I/home/brian/Desktop/research/SpatialPy/spatialpy/ssa_sdpd-c-simulation-engine/include/ -O3 -Wall \n",
      "gcc -c -o main.o /tmp/tmpleetkdl9/cylinder_demo3d_generated_model.c -I/home/brian/Desktop/research/SpatialPy/spatialpy/ssa_sdpd-c-simulation-engine/include/ -O3 -Wall \n",
      "gcc  -o ssa_sdpd linked_list.o particle.o simulate.o count_cores.o output.o simulate_rdme.o binheap.o main.o -pthread -lm\n",
      "\n",
      "\n",
      "CPU times: user 20.3 ms, sys: 4.16 ms, total: 24.4 ms\n",
      "Wall time: 1.55 s\n"
     ]
    }
   ],
   "source": [
    "#result = model.run(report_level=2)\n",
    "sol = NSMSolver(model, report_level=2)\n",
    "sol.h = 0.8\n",
    "print(\"h=\"+str(sol.h))\n",
    "%time sol.compile()"
   ]
  },
  {
   "cell_type": "code",
   "execution_count": 79,
   "metadata": {},
   "outputs": [
    {
     "name": "stdout",
     "output_type": "stream",
     "text": [
      "cmd: cd /tmp/tmpnyyxq490;/tmp/tmprpp98wu9/ssa_sdpd\n",
      "\n",
      "CPU times: user 1.25 ms, sys: 23.9 ms, total: 25.1 ms\n",
      "Wall time: 2min 14s\n"
     ]
    }
   ],
   "source": [
    "%time result = sol.run()"
   ]
  },
  {
   "cell_type": "code",
   "execution_count": 80,
   "metadata": {
    "scrolled": false
   },
   "outputs": [
    {
     "name": "stdout",
     "output_type": "stream",
     "text": [
      "21328.0\n",
      "21379.0\n",
      "0.509201383306\n",
      "0.505804729089\n"
     ]
    },
    {
     "data": {
      "text/plain": [
       "<matplotlib.legend.Legend at 0x7fc72ed0f5c0>"
      ]
     },
     "execution_count": 80,
     "metadata": {},
     "output_type": "execute_result"
    },
    {
     "data": {
      "image/png": "[encoded data removed]",
      "text/plain": [
       "<matplotlib.figure.Figure at 0x7fc72ee67080>"
      ]
     },
     "metadata": {},
     "output_type": "display_data"
    }
   ],
   "source": [
    "# Plot of the time-average spatial concentration.\n",
    "x_vals = model.mesh.coordinates()[:, 0]\n",
    "A_vals = numpy.sum(result.get_species(\"A\", concentration=False), axis=0)\n",
    "B_vals = numpy.sum(result.get_species(\"B\", concentration=False), axis=0)\n",
    "\n",
    "A_sum = numpy.sum(result.get_species(\"A\"), axis=1)\n",
    "B_sum = numpy.sum(result.get_species(\"B\"), axis=1)\n",
    "print(A_sum[-1])\n",
    "print(B_sum[-1])\n",
    "plt.figure(figsize=(6,6))\n",
    "plt.subplot(2,1,1)\n",
    "plt.plot(result.get_timespan(),A_sum,'-r',label=\"A\")\n",
    "plt.plot(result.get_timespan(),B_sum,'-b',label=\"B\")\n",
    "plt.legend(loc='best')\n",
    "plt.subplot(2,1,2)\n",
    "\n",
    "vol = model.vol\n",
    "sd = model.sd\n",
    "print(numpy.sum(vol[sd == 2]))\n",
    "print(numpy.sum(vol[sd == 3]))\n",
    "\n",
    "\n",
    "plt.plot(x_vals,A_vals,'.r',x_vals,B_vals,'.b')\n",
    "plt.legend(['A', 'B'],loc='best')\n"
   ]
  },
  {
   "cell_type": "code",
   "execution_count": 63,
   "metadata": {},
   "outputs": [
    {
     "data": {
      "text/plain": [
       "array([ 0.01513526,  0.07034112,  0.02382667, ...,  0.01674217,\n",
       "        0.02120607,  0.01969156])"
      ]
     },
     "execution_count": 63,
     "metadata": {},
     "output_type": "execute_result"
    }
   ],
   "source": [
    "model.vol"
   ]
  },
  {
   "cell_type": "code",
   "execution_count": 64,
   "metadata": {},
   "outputs": [
    {
     "data": {
      "text/plain": [
       "30.668827615262483"
      ]
     },
     "execution_count": 64,
     "metadata": {},
     "output_type": "execute_result"
    }
   ],
   "source": [
    "sum(model.vol)"
   ]
  },
  {
   "cell_type": "code",
   "execution_count": null,
   "metadata": {},
   "outputs": [],
   "source": []
  },
  {
   "cell_type": "code",
   "execution_count": null,
   "metadata": {},
   "outputs": [],
   "source": []
  },
  {
   "cell_type": "code",
   "execution_count": null,
   "metadata": {},
   "outputs": [],
   "source": []
  },
  {
   "cell_type": "code",
   "execution_count": null,
   "metadata": {},
   "outputs": [],
   "source": []
  },
  {
   "cell_type": "code",
   "execution_count": 81,
   "metadata": {},
   "outputs": [
    {
     "data": {
      "text/plain": [
       "''"
      ]
     },
     "execution_count": 81,
     "metadata": {},
     "output_type": "execute_result"
    }
   ],
   "source": [
    "result.stdout"
   ]
  },
  {
   "cell_type": "code",
   "execution_count": 82,
   "metadata": {},
   "outputs": [
    {
     "data": {
      "text/plain": [
       "''"
      ]
     },
     "execution_count": 82,
     "metadata": {},
     "output_type": "execute_result"
    }
   ],
   "source": [
    "result.stderr"
   ]
  },
  {
   "cell_type": "code",
   "execution_count": null,
   "metadata": {},
   "outputs": [],
   "source": []
  }
 ],
 "metadata": {
  "kernelspec": {
   "display_name": "Python 3",
   "language": "python",
   "name": "python3"
  },
  "language_info": {
   "codemirror_mode": {
    "name": "ipython",
    "version": 3
   },
   "file_extension": ".py",
   "mimetype": "text/x-python",
   "name": "python",
   "nbconvert_exporter": "python",
   "pygments_lexer": "ipython3",
   "version": "3.6.7"
  }
 },
 "nbformat": 4,
 "nbformat_minor": 2
}

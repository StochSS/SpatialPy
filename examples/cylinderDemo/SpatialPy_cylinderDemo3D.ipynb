{
 "cells": [
  {
   "cell_type": "code",
   "execution_count": null,
   "metadata": {},
   "outputs": [],
   "source": [
    "import os\n",
    "import sys\n",
    "from collections import OrderedDict"
   ]
  },
  {
   "cell_type": "code",
   "execution_count": null,
   "metadata": {},
   "outputs": [],
   "source": [
    "sys.path.append(\"../..\")"
   ]
  },
  {
   "cell_type": "code",
   "execution_count": null,
   "metadata": {
    "tags": []
   },
   "outputs": [],
   "source": [
    "%load_ext autoreload\n",
    "%autoreload 2"
   ]
  },
  {
   "cell_type": "code",
   "execution_count": null,
   "metadata": {},
   "outputs": [],
   "source": [
    "import spatialpy\n",
    "spatialpy.__file__"
   ]
  },
  {
   "cell_type": "code",
   "execution_count": null,
   "metadata": {},
   "outputs": [],
   "source": [
    "import matplotlib.pyplot as plt\n",
    "import numpy\n",
    "\n",
    "# Global Constants\n",
    "MAX_X_DIM = 5.0\n",
    "MIN_X_DIM = -5.0\n",
    "TOL = 1e-9"
   ]
  },
  {
   "cell_type": "code",
   "execution_count": null,
   "metadata": {},
   "outputs": [],
   "source": [
    "class Edge1(spatialpy.SubDomain):\n",
    "    def inside(self, x, on_boundary):\n",
    "        return abs(x[0] - MAX_X_DIM) < 0.05\n",
    "class Edge2(spatialpy.SubDomain):\n",
    "    def inside(self, x, on_boundary):\n",
    "        return abs(x[0] - MIN_X_DIM) < 0.05\n",
    "class Middle(spatialpy.SubDomain):\n",
    "    def inside(self, x, on_boundary):\n",
    "        return abs(x[0] - MIN_X_DIM) >= 0.05"
   ]
  },
  {
   "cell_type": "code",
   "execution_count": null,
   "metadata": {},
   "outputs": [],
   "source": [
    "class cylinderDemo3D(spatialpy.Model):\n",
    "    def __init__(self, model_name=\"cylinder_demo3d\"):\n",
    "        spatialpy.Model.__init__(self, model_name)\n",
    "\n",
    "        # System constants\n",
    "        D_const = 0.1\n",
    "\n",
    "        # Define Species\n",
    "        A = spatialpy.Species(name=\"A\", diffusion_constant=D_const)\n",
    "        B = spatialpy.Species(name=\"B\", diffusion_constant=D_const)\n",
    "        self.add_species([A, B])\n",
    "\n",
    "        # Define Geometry\n",
    "        self.mesh = spatialpy.Mesh.read_xml_mesh('cylinder.xml')\n",
    "\n",
    "        # Define Subdomains\n",
    "        self.add_subdomain(Middle(), 1)\n",
    "        self.add_subdomain(Edge1(), 2)\n",
    "        self.add_subdomain(Edge2(), 3)\n",
    "        \n",
    "        # Restrict the movement of Chemical Species\n",
    "        self.restrict(A,[1,2])\n",
    "        self.restrict(B,[1,3])\n",
    "\n",
    "        vol = self.mesh.get_vol()\n",
    "        print(\"vol\",vol)\n",
    "        sd = self.mesh.sd\n",
    "        left = numpy.sum(vol[sd == 2])\n",
    "        right = numpy.sum(vol[sd == 3])\n",
    "        print(\"left \"+str(left)+\" right \"+str(right))\n",
    "        \n",
    "        k_react = spatialpy.Parameter(name=\"k_react\", expression=1.0)\n",
    "        k_creat1 = spatialpy.Parameter(name=\"k_creat1\", \n",
    "                                     expression=100/left)\n",
    "        k_creat2 = spatialpy.Parameter(name=\"k_creat2\", \n",
    "                                     expression=100/right)\n",
    "        self.add_parameter([k_react, k_creat1,k_creat2])\n",
    "\n",
    "\n",
    "        # Define Reactions\n",
    "        R1 = spatialpy.Reaction(reactants=None, products={A:1}, \n",
    "                                rate=k_creat1, restrict_to=2)\n",
    "        R2 = spatialpy.Reaction(reactants=None, products={B:1}, \n",
    "                              rate=k_creat2, restrict_to=3)\n",
    "        R3 = spatialpy.Reaction(reactants={A:1, B:1}, products=None, \n",
    "                              rate=k_react)\n",
    "        self.add_reaction([R1, R2, R3])\n",
    "\n",
    "        # Define simulation timespan\n",
    "        #self.set_timesteps(1, 200)\n",
    "        self.timespan(range(500))"
   ]
  },
  {
   "cell_type": "code",
   "execution_count": null,
   "metadata": {
    "scrolled": true,
    "tags": []
   },
   "outputs": [],
   "source": [
    "model = cylinderDemo3D()"
   ]
  },
  {
   "cell_type": "code",
   "execution_count": null,
   "metadata": {},
   "outputs": [],
   "source": [
    "model.listOfReactions"
   ]
  },
  {
   "cell_type": "code",
   "execution_count": null,
   "metadata": {},
   "outputs": [],
   "source": []
  },
  {
   "cell_type": "code",
   "execution_count": null,
   "metadata": {
    "scrolled": true,
    "tags": []
   },
   "outputs": [],
   "source": [
    "result = model.run(debug_level=2)\n",
    "#from spatialpy import Solver\n",
    "#sol = Solver(model, debug_level=0)\n",
    "#sol.h = 0.8\n",
    "#print(\"h=\"+str(sol.h))\n",
    "#%time sol.compile()"
   ]
  },
  {
   "cell_type": "code",
   "execution_count": null,
   "metadata": {
    "tags": []
   },
   "outputs": [],
   "source": [
    "#%time result = sol.run()"
   ]
  },
  {
   "cell_type": "code",
   "execution_count": null,
   "metadata": {
    "scrolled": true,
    "tags": []
   },
   "outputs": [],
   "source": [
    "# Plot of the time-average spatial concentration.\n",
    "x_vals = model.mesh.coordinates()[:, 0]\n",
    "A_vals = numpy.sum(result.get_species(\"A\", concentration=False), axis=0)\n",
    "B_vals = numpy.sum(result.get_species(\"B\", concentration=False), axis=0)\n",
    "\n",
    "A_sum = numpy.sum(result.get_species(\"A\"), axis=1)\n",
    "B_sum = numpy.sum(result.get_species(\"B\"), axis=1)\n",
    "print(A_sum[-1])\n",
    "print(B_sum[-1])\n",
    "plt.figure(figsize=(6,6))\n",
    "plt.subplot(2,1,1)\n",
    "plt.plot(result.get_timespan(),A_sum,'-r',label=\"A\")\n",
    "plt.plot(result.get_timespan(),B_sum,'-b',label=\"B\")\n",
    "plt.legend(loc='best')\n",
    "plt.subplot(2,1,2)\n",
    "\n",
    "vol = model.mesh.vol\n",
    "sd = model.mesh.sd\n",
    "print(numpy.sum(vol[sd == 2]))\n",
    "print(numpy.sum(vol[sd == 3]))\n",
    "\n",
    "\n",
    "plt.plot(x_vals,A_vals,'.r',x_vals,B_vals,'.b')\n",
    "plt.legend(['A', 'B'],loc='best')\n"
   ]
  },
  {
   "cell_type": "code",
   "execution_count": null,
   "metadata": {},
   "outputs": [],
   "source": []
  },
  {
   "cell_type": "code",
   "execution_count": null,
   "metadata": {},
   "outputs": [],
   "source": [
    "def plot_step(t_ndx,key='type'):\n",
    "    pts, data = result.read_step(t_ndx)\n",
    "    plt.figure(figsize=(15,10) )\n",
    "    plt.scatter(pts[:,0],pts[:,1],c=data[key])\n",
    "    plt.axis('equal')\n",
    "    plt.colorbar()\n",
    "    plt.title('t={0}'.format(t_ndx))"
   ]
  },
  {
   "cell_type": "code",
   "execution_count": null,
   "metadata": {},
   "outputs": [],
   "source": [
    "plot_step(0)"
   ]
  },
  {
   "cell_type": "code",
   "execution_count": null,
   "metadata": {},
   "outputs": [],
   "source": [
    "plot_step(2,'C[A]')"
   ]
  },
  {
   "cell_type": "code",
   "execution_count": null,
   "metadata": {},
   "outputs": [],
   "source": [
    "plot_step(2,'D[A]')"
   ]
  },
  {
   "cell_type": "code",
   "execution_count": null,
   "metadata": {},
   "outputs": [],
   "source": []
  },
  {
   "cell_type": "code",
   "execution_count": null,
   "metadata": {
    "tags": []
   },
   "outputs": [],
   "source": [
    "from spatialpy.Solver import Solver\n",
    "sol = Solver(model, debug_level=2)\n",
    "%time sol.compile()"
   ]
  },
  {
   "cell_type": "markdown",
   "metadata": {},
   "source": [
    "## "
   ]
  }
 ],
 "metadata": {
  "kernelspec": {
   "display_name": "Python 3",
   "language": "python",
   "name": "python3"
  },
  "language_info": {
   "codemirror_mode": {
    "name": "ipython",
    "version": 3
   },
   "file_extension": ".py",
   "mimetype": "text/x-python",
   "name": "python",
   "nbconvert_exporter": "python",
   "pygments_lexer": "ipython3",
   "version": "3.8.2"
  }
 },
 "nbformat": 4,
 "nbformat_minor": 4
}

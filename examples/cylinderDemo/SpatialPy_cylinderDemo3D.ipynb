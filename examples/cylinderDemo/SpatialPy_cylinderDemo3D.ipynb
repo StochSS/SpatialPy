{
 "cells": [
  {
   "cell_type": "code",
   "execution_count": 1,
   "metadata": {},
   "outputs": [],
   "source": [
    "import os\n",
    "import sys\n",
    "from collections import OrderedDict"
   ]
  },
  {
   "cell_type": "code",
   "execution_count": 2,
   "metadata": {},
   "outputs": [],
   "source": [
    "sys.path.append(\"../..\")"
   ]
  },
  {
   "cell_type": "code",
   "execution_count": 3,
   "metadata": {},
   "outputs": [
    {
     "data": {
      "text/plain": [
       "'../../spatialpy/__init__.py'"
      ]
     },
     "execution_count": 3,
     "metadata": {},
     "output_type": "execute_result"
    }
   ],
   "source": [
    "import spatialpy\n",
    "spatialpy.__file__"
   ]
  },
  {
   "cell_type": "code",
   "execution_count": 4,
   "metadata": {},
   "outputs": [],
   "source": [
    "import matplotlib.pyplot as plt\n",
    "import numpy\n",
    "\n",
    "# Global Constants\n",
    "MAX_X_DIM = 5.0\n",
    "MIN_X_DIM = -5.0\n",
    "TOL = 1e-9"
   ]
  },
  {
   "cell_type": "code",
   "execution_count": 5,
   "metadata": {
    "tags": []
   },
   "outputs": [],
   "source": [
    "%load_ext autoreload\n",
    "%autoreload 2"
   ]
  },
  {
   "cell_type": "code",
   "execution_count": 6,
   "metadata": {},
   "outputs": [],
   "source": [
    "class Edge1(spatialpy.Geometry):\n",
    "    def inside(self, x, on_boundary):\n",
    "        return abs(x[0] - MAX_X_DIM) < 0.05\n",
    "class Edge2(spatialpy.Geometry):\n",
    "    def inside(self, x, on_boundary):\n",
    "        return abs(x[0] - MIN_X_DIM) < 0.05\n",
    "class Middle(spatialpy.Geometry):\n",
    "    def inside(self, x, on_boundary):\n",
    "        return abs(x[0] - MIN_X_DIM) >= 0.05"
   ]
  },
  {
   "cell_type": "code",
   "execution_count": 7,
   "metadata": {},
   "outputs": [],
   "source": [
    "class cylinderDemo3D(spatialpy.Model):\n",
    "    def __init__(self, model_name=\"cylinder_demo3d\"):\n",
    "        spatialpy.Model.__init__(self, model_name)\n",
    "\n",
    "        self.timestep_size = 1\n",
    "        \n",
    "        # System constants\n",
    "        D_const = 0.1\n",
    "\n",
    "        # Define Species\n",
    "        A = spatialpy.Species(name=\"A\", diffusion_constant=D_const)\n",
    "        B = spatialpy.Species(name=\"B\", diffusion_constant=D_const)\n",
    "        self.add_species([A, B])\n",
    "\n",
    "        # Define Geometry\n",
    "        self.mesh = spatialpy.Mesh.read_xml_mesh('cylinder.xml')\n",
    "\n",
    "        # Define Subdomains\n",
    "        self.set_type(Middle(), 1)\n",
    "        self.set_type(Edge1(),  2)\n",
    "        self.set_type(Edge2(),  3)\n",
    "        \n",
    "        # Restrict the movement of Chemical Species\n",
    "        self.restrict(A,[1,2])\n",
    "        self.restrict(B,[1,3])\n",
    "\n",
    "        vol = self.mesh.get_vol()\n",
    "        print(\"vol\",vol)\n",
    "        type = self.mesh.type\n",
    "        left = numpy.sum(vol[type == 2])\n",
    "        right = numpy.sum(vol[type == 3])\n",
    "        print(\"left \"+str(left)+\" right \"+str(right))\n",
    "        \n",
    "        k_react = spatialpy.Parameter(name=\"k_react\", expression=1.0)\n",
    "        k_creat1 = spatialpy.Parameter(name=\"k_creat1\", \n",
    "                                     expression=100/left)\n",
    "        k_creat2 = spatialpy.Parameter(name=\"k_creat2\", \n",
    "                                     expression=100/right)\n",
    "        self.add_parameter([k_react, k_creat1,k_creat2])\n",
    "\n",
    "\n",
    "        # Define Reactions\n",
    "        R1 = spatialpy.Reaction(reactants=None, products={A:1}, \n",
    "                                rate=k_creat1, restrict_to=2)\n",
    "        R2 = spatialpy.Reaction(reactants=None, products={B:1}, \n",
    "                              rate=k_creat2, restrict_to=3)\n",
    "        R3 = spatialpy.Reaction(reactants={A:1, B:1}, products=None, \n",
    "                              rate=k_react)\n",
    "        self.add_reaction([R1, R2, R3])\n",
    "        \n",
    "        #self.add_initial_condition(spatialpy.ScatterInitialCondition(A,10000,[1]))\n",
    "\n",
    "\n",
    "        # Define simulation timespan\n",
    "        #self.set_timesteps(1, 200)\n",
    "        self.timespan(range(500))"
   ]
  },
  {
   "cell_type": "code",
   "execution_count": 8,
   "metadata": {
    "scrolled": true,
    "tags": []
   },
   "outputs": [
    {
     "name": "stdout",
     "output_type": "stream",
     "text": [
      "vol [0.01513526 0.07034112 0.02382667 ... 0.01674217 0.02120607 0.01969156]\n",
      "left 0.5092013833059308 right 0.505804729089437\n"
     ]
    }
   ],
   "source": [
    "model = cylinderDemo3D()"
   ]
  },
  {
   "cell_type": "code",
   "execution_count": null,
   "metadata": {},
   "outputs": [],
   "source": []
  },
  {
   "cell_type": "code",
   "execution_count": 9,
   "metadata": {
    "tags": []
   },
   "outputs": [
    {
     "name": "stdout",
     "output_type": "stream",
     "text": [
      "Reading stdout/stderr from process:\n",
      "g++ -c -o main.o /tmp/spatialpy_build_krnmn6di/cylinder_demo3d_generated_model.c -I/home/smatthe2/SpatialPy/spatialpy/ssa_sdpd-c-simulation-engine/include/ -I/home/smatthe2/SpatialPy/spatialpy/ssa_sdpd-c-simulation-engine/external/ -I/home/smatthe2/SpatialPy/spatialpy/ssa_sdpd-c-simulation-engine/external/ANN/include/ -c -std=c++14 -Wall -O3 -DHAVE_SSE2 -DDSFMT_MEXP=521\n",
      "g++ -c -o dSFMT.o /home/smatthe2/SpatialPy/spatialpy/ssa_sdpd-c-simulation-engine/external/dSFMT/dSFMT.c -I/home/smatthe2/SpatialPy/spatialpy/ssa_sdpd-c-simulation-engine/include/ -I/home/smatthe2/SpatialPy/spatialpy/ssa_sdpd-c-simulation-engine/external/ -I/home/smatthe2/SpatialPy/spatialpy/ssa_sdpd-c-simulation-engine/external/ANN/include/ -c -std=c++14 -Wall -O3 -DHAVE_SSE2 -DDSFMT_MEXP=521\n",
      "g++ -c -o particle.o \"/home/smatthe2/SpatialPy/spatialpy/ssa_sdpd-c-simulation-engine/src/particle.cpp\" -I/home/smatthe2/SpatialPy/spatialpy/ssa_sdpd-c-simulation-engine/include/ -I/home/smatthe2/SpatialPy/spatialpy/ssa_sdpd-c-simulation-engine/external/ -I/home/smatthe2/SpatialPy/spatialpy/ssa_sdpd-c-simulation-engine/external/ANN/include/ -c -std=c++14 -Wall -O3 -DHAVE_SSE2 -DDSFMT_MEXP=521\n",
      "\n",
      "/home/smatthe2/SpatialPy/spatialpy/ssa_sdpd-c-simulation-engine/src/particle.cpp: In constructor ‘Spatialpy::NeighborNode::NeighborNode(const Spatialpy::Particle&, double, double, double)’:\n",
      "/home/smatthe2/SpatialPy/spatialpy/ssa_sdpd-c-simulation-engine/src/particle.cpp:69:92: error: no matching function for call to ‘Spatialpy::Particle::Particle()’\n",
      "   69 |     NeighborNode::NeighborNode(const Particle &data, double dist, double dWdr, double D_i_j){\n",
      "      |                                                                                            ^\n",
      "/home/smatthe2/SpatialPy/spatialpy/ssa_sdpd-c-simulation-engine/src/particle.cpp:45:5: note: candidate: ‘Spatialpy::Particle::Particle(unsigned int)’\n",
      "   45 |     Particle::Particle(unsigned int id){\n",
      "      |     ^~~~~~~~\n",
      "/home/smatthe2/SpatialPy/spatialpy/ssa_sdpd-c-simulation-engine/src/particle.cpp:45:5: note:   candidate expects 1 argument, 0 provided\n",
      "In file included from /home/smatthe2/SpatialPy/spatialpy/ssa_sdpd-c-simulation-engine/src/particle.cpp:8:\n",
      "/home/smatthe2/SpatialPy/spatialpy/ssa_sdpd-c-simulation-engine/include/particle.hpp:25:12: note: candidate: ‘Spatialpy::Particle::Particle(const Spatialpy::Particle&)’\n",
      "   25 |     struct Particle{\n",
      "      |            ^~~~~~~~\n",
      "/home/smatthe2/SpatialPy/spatialpy/ssa_sdpd-c-simulation-engine/include/particle.hpp:25:12: note:   candidate expects 1 argument, 0 provided\n",
      "/home/smatthe2/SpatialPy/spatialpy/ssa_sdpd-c-simulation-engine/include/particle.hpp:25:12: note: candidate: ‘Spatialpy::Particle::Particle(Spatialpy::Particle&&)’\n",
      "/home/smatthe2/SpatialPy/spatialpy/ssa_sdpd-c-simulation-engine/include/particle.hpp:25:12: note:   candidate expects 1 argument, 0 provided\n",
      "/home/smatthe2/SpatialPy/spatialpy/ssa_sdpd-c-simulation-engine/src/particle.cpp:70:13: error: passing ‘const Spatialpy::Particle’ as ‘this’ argument discards qualifiers [-fpermissive]\n",
      "   70 |      data = data ;\n",
      "      |             ^~~~\n",
      "In file included from /home/smatthe2/SpatialPy/spatialpy/ssa_sdpd-c-simulation-engine/src/particle.cpp:8:\n",
      "/home/smatthe2/SpatialPy/spatialpy/ssa_sdpd-c-simulation-engine/include/particle.hpp:25:12: note:   in call to ‘Spatialpy::Particle& Spatialpy::Particle::operator=(const Spatialpy::Particle&)’\n",
      "   25 |     struct Particle{\n",
      "      |            ^~~~~~~~\n",
      "/home/smatthe2/SpatialPy/spatialpy/ssa_sdpd-c-simulation-engine/src/particle.cpp: At global scope:\n",
      "/home/smatthe2/SpatialPy/spatialpy/ssa_sdpd-c-simulation-engine/src/particle.cpp:129:10: error: no declaration matches ‘void Spatialpy::Particle::get_k_cleanup(ANNidxArray, ANNdistArray)’\n",
      "  129 |     void Particle::get_k_cleanup(ANNidxArray nn_idx, ANNdistArray dists) {\n",
      "      |          ^~~~~~~~\n",
      "/home/smatthe2/SpatialPy/spatialpy/ssa_sdpd-c-simulation-engine/src/particle.cpp:129:10: note: no functions named ‘void Spatialpy::Particle::get_k_cleanup(ANNidxArray, ANNdistArray)’\n",
      "In file included from /home/smatthe2/SpatialPy/spatialpy/ssa_sdpd-c-simulation-engine/src/particle.cpp:8:\n",
      "/home/smatthe2/SpatialPy/spatialpy/ssa_sdpd-c-simulation-engine/include/particle.hpp:25:12: note: ‘struct Spatialpy::Particle’ defined here\n",
      "   25 |     struct Particle{\n",
      "      |            ^~~~~~~~\n",
      "/home/smatthe2/SpatialPy/spatialpy/ssa_sdpd-c-simulation-engine/src/particle.cpp:134:10: error: no declaration matches ‘void Spatialpy::Particle::search_cleanup(ANNpoint, ANNidxArray, ANNdistArray)’\n",
      "  134 |     void Particle::search_cleanup(ANNpoint queryPt, ANNidxArray nn_idx, ANNdistArray dists) {\n",
      "      |          ^~~~~~~~\n",
      "/home/smatthe2/SpatialPy/spatialpy/ssa_sdpd-c-simulation-engine/src/particle.cpp:134:10: note: no functions named ‘void Spatialpy::Particle::search_cleanup(ANNpoint, ANNidxArray, ANNdistArray)’\n",
      "In file included from /home/smatthe2/SpatialPy/spatialpy/ssa_sdpd-c-simulation-engine/src/particle.cpp:8:\n",
      "/home/smatthe2/SpatialPy/spatialpy/ssa_sdpd-c-simulation-engine/include/particle.hpp:25:12: note: ‘struct Spatialpy::Particle’ defined here\n",
      "   25 |     struct Particle{\n",
      "      |            ^~~~~~~~\n",
      "/home/smatthe2/SpatialPy/spatialpy/ssa_sdpd-c-simulation-engine/src/particle.cpp:139:9: error: no declaration matches ‘int Spatialpy::Particle::get_k__approx(Spatialpy::ParticleSystem)’\n",
      "  139 |     int Particle::get_k__approx(ParticleSystem system) {\n",
      "      |         ^~~~~~~~\n",
      "/home/smatthe2/SpatialPy/spatialpy/ssa_sdpd-c-simulation-engine/src/particle.cpp:139:9: note: no functions named ‘int Spatialpy::Particle::get_k__approx(Spatialpy::ParticleSystem)’\n",
      "In file included from /home/smatthe2/SpatialPy/spatialpy/ssa_sdpd-c-simulation-engine/src/particle.cpp:8:\n",
      "/home/smatthe2/SpatialPy/spatialpy/ssa_sdpd-c-simulation-engine/include/particle.hpp:25:12: note: ‘struct Spatialpy::Particle’ defined here\n",
      "   25 |     struct Particle{\n",
      "      |            ^~~~~~~~\n",
      "/home/smatthe2/SpatialPy/spatialpy/ssa_sdpd-c-simulation-engine/src/particle.cpp:143:9: error: no declaration matches ‘int Spatialpy::Particle::get_k__exact(ANNpoint, ANNdist, Spatialpy::ParticleSystem)’\n",
      "  143 |     int Particle::get_k__exact(ANNpoint queryPt, ANNdist dist, ParticleSystem system) {\n",
      "      |         ^~~~~~~~\n",
      "/home/smatthe2/SpatialPy/spatialpy/ssa_sdpd-c-simulation-engine/src/particle.cpp:143:9: note: no functions named ‘int Spatialpy::Particle::get_k__exact(ANNpoint, ANNdist, Spatialpy::ParticleSystem)’\n",
      "In file included from /home/smatthe2/SpatialPy/spatialpy/ssa_sdpd-c-simulation-engine/src/particle.cpp:8:\n",
      "/home/smatthe2/SpatialPy/spatialpy/ssa_sdpd-c-simulation-engine/include/particle.hpp:25:12: note: ‘struct Spatialpy::Particle’ defined here\n",
      "   25 |     struct Particle{\n",
      "      |            ^~~~~~~~\n",
      "/home/smatthe2/SpatialPy/spatialpy/ssa_sdpd-c-simulation-engine/src/particle.cpp:152:10: error: no declaration matches ‘void Spatialpy::Particle::find_neighbors(Spatialpy::ParticleSystem, bool)’\n",
      "  152 |     void Particle::find_neighbors(ParticleSystem system, bool use_exact_k=true){\n",
      "      |          ^~~~~~~~\n",
      "In file included from /home/smatthe2/SpatialPy/spatialpy/ssa_sdpd-c-simulation-engine/src/particle.cpp:8:\n",
      "/home/smatthe2/SpatialPy/spatialpy/ssa_sdpd-c-simulation-engine/include/particle.hpp:59:11: note: candidate is: ‘void Spatialpy::Particle::find_neighbors(Spatialpy::ParticleSystem)’\n",
      "   59 |      void find_neighbors(ParticleSystem system);\n",
      "      |           ^~~~~~~~~~~~~~\n",
      "/home/smatthe2/SpatialPy/spatialpy/ssa_sdpd-c-simulation-engine/include/particle.hpp:25:12: note: ‘struct Spatialpy::Particle’ defined here\n",
      "   25 |     struct Particle{\n",
      "      |            ^~~~~~~~\n",
      "/home/smatthe2/SpatialPy/spatialpy/ssa_sdpd-c-simulation-engine/src/particle.cpp:192:23: error: expected constructor, destructor, or type conversion before ‘(’ token\n",
      "  192 |         search_cleanup(queryPt, nn_idx, dists);\n",
      "      |                       ^\n",
      "/home/smatthe2/SpatialPy/spatialpy/ssa_sdpd-c-simulation-engine/src/particle.cpp:232:1: error: expected declaration before ‘}’ token\n",
      "  232 | }\n",
      "      | ^\n",
      "make: *** [/home/smatthe2/SpatialPy/spatialpy/ssa_sdpd-c-simulation-engine/build/Makefile:23: particle.o] Error 1\n",
      "\n"
     ]
    },
    {
     "ename": "SimulationError",
     "evalue": "Compilation of solver failed, return_code=2",
     "output_type": "error",
     "traceback": [
      "\u001b[0;31m---------------------------------------------------------------------------\u001b[0m",
      "\u001b[0;31mSimulationError\u001b[0m                           Traceback (most recent call last)",
      "\u001b[0;32m<timed eval>\u001b[0m in \u001b[0;36m<module>\u001b[0;34m\u001b[0m\n",
      "\u001b[0;32m~/SpatialPy/spatialpy/Solver.py\u001b[0m in \u001b[0;36mcompile\u001b[0;34m(self)\u001b[0m\n\u001b[1;32m     91\u001b[0m             \u001b[0;32mexcept\u001b[0m \u001b[0mException\u001b[0m \u001b[0;32mas\u001b[0m \u001b[0me\u001b[0m\u001b[0;34m:\u001b[0m\u001b[0;34m\u001b[0m\u001b[0;34m\u001b[0m\u001b[0m\n\u001b[1;32m     92\u001b[0m                 \u001b[0;32mpass\u001b[0m\u001b[0;34m\u001b[0m\u001b[0;34m\u001b[0m\u001b[0m\n\u001b[0;32m---> 93\u001b[0;31m             raise SimulationError(\n\u001b[0m\u001b[1;32m     94\u001b[0m                 \"Compilation of solver failed, return_code={0}\".format(return_code))\n\u001b[1;32m     95\u001b[0m \u001b[0;34m\u001b[0m\u001b[0m\n",
      "\u001b[0;31mSimulationError\u001b[0m: Compilation of solver failed, return_code=2"
     ]
    },
    {
     "name": "stdout",
     "output_type": "stream",
     "text": [
      "/tmp/spatialpy_build_krnmn6di\n"
     ]
    }
   ],
   "source": [
    "from spatialpy import Solver\n",
    "sol = Solver(model, debug_level=0)\n",
    "%time sol.compile()\n",
    "print(sol.build_dir)"
   ]
  },
  {
   "cell_type": "code",
   "execution_count": 10,
   "metadata": {},
   "outputs": [
    {
     "name": "stdout",
     "output_type": "stream",
     "text": [
      "Reading stdout/stderr from process:\n",
      "g++ -c -o main.o /tmp/spatialpy_build_541n45ja/cylinder_demo3d_generated_model.c -I/home/smatthe2/SpatialPy/spatialpy/ssa_sdpd-c-simulation-engine/include/ -I/home/smatthe2/SpatialPy/spatialpy/ssa_sdpd-c-simulation-engine/external/ -I/home/smatthe2/SpatialPy/spatialpy/ssa_sdpd-c-simulation-engine/external/ANN/include/ -c -std=c++14 -Wall -O3 -DHAVE_SSE2 -DDSFMT_MEXP=521\n",
      "g++ -c -o dSFMT.o /home/smatthe2/SpatialPy/spatialpy/ssa_sdpd-c-simulation-engine/external/dSFMT/dSFMT.c -I/home/smatthe2/SpatialPy/spatialpy/ssa_sdpd-c-simulation-engine/include/ -I/home/smatthe2/SpatialPy/spatialpy/ssa_sdpd-c-simulation-engine/external/ -I/home/smatthe2/SpatialPy/spatialpy/ssa_sdpd-c-simulation-engine/external/ANN/include/ -c -std=c++14 -Wall -O3 -DHAVE_SSE2 -DDSFMT_MEXP=521\n",
      "g++ -c -o particle.o \"/home/smatthe2/SpatialPy/spatialpy/ssa_sdpd-c-simulation-engine/src/particle.cpp\" -I/home/smatthe2/SpatialPy/spatialpy/ssa_sdpd-c-simulation-engine/include/ -I/home/smatthe2/SpatialPy/spatialpy/ssa_sdpd-c-simulation-engine/external/ -I/home/smatthe2/SpatialPy/spatialpy/ssa_sdpd-c-simulation-engine/external/ANN/include/ -c -std=c++14 -Wall -O3 -DHAVE_SSE2 -DDSFMT_MEXP=521\n",
      "\n",
      "/home/smatthe2/SpatialPy/spatialpy/ssa_sdpd-c-simulation-engine/src/particle.cpp: In constructor ‘Spatialpy::NeighborNode::NeighborNode(const Spatialpy::Particle&, double, double, double)’:\n",
      "/home/smatthe2/SpatialPy/spatialpy/ssa_sdpd-c-simulation-engine/src/particle.cpp:69:92: error: no matching function for call to ‘Spatialpy::Particle::Particle()’\n",
      "   69 |     NeighborNode::NeighborNode(const Particle &data, double dist, double dWdr, double D_i_j){\n",
      "      |                                                                                            ^\n",
      "/home/smatthe2/SpatialPy/spatialpy/ssa_sdpd-c-simulation-engine/src/particle.cpp:45:5: note: candidate: ‘Spatialpy::Particle::Particle(unsigned int)’\n",
      "   45 |     Particle::Particle(unsigned int id){\n",
      "      |     ^~~~~~~~\n",
      "/home/smatthe2/SpatialPy/spatialpy/ssa_sdpd-c-simulation-engine/src/particle.cpp:45:5: note:   candidate expects 1 argument, 0 provided\n",
      "In file included from /home/smatthe2/SpatialPy/spatialpy/ssa_sdpd-c-simulation-engine/src/particle.cpp:8:\n",
      "/home/smatthe2/SpatialPy/spatialpy/ssa_sdpd-c-simulation-engine/include/particle.hpp:25:12: note: candidate: ‘Spatialpy::Particle::Particle(const Spatialpy::Particle&)’\n",
      "   25 |     struct Particle{\n",
      "      |            ^~~~~~~~\n",
      "/home/smatthe2/SpatialPy/spatialpy/ssa_sdpd-c-simulation-engine/include/particle.hpp:25:12: note:   candidate expects 1 argument, 0 provided\n",
      "/home/smatthe2/SpatialPy/spatialpy/ssa_sdpd-c-simulation-engine/include/particle.hpp:25:12: note: candidate: ‘Spatialpy::Particle::Particle(Spatialpy::Particle&&)’\n",
      "/home/smatthe2/SpatialPy/spatialpy/ssa_sdpd-c-simulation-engine/include/particle.hpp:25:12: note:   candidate expects 1 argument, 0 provided\n",
      "/home/smatthe2/SpatialPy/spatialpy/ssa_sdpd-c-simulation-engine/src/particle.cpp:70:13: error: passing ‘const Spatialpy::Particle’ as ‘this’ argument discards qualifiers [-fpermissive]\n",
      "   70 |      data = data ;\n",
      "      |             ^~~~\n",
      "In file included from /home/smatthe2/SpatialPy/spatialpy/ssa_sdpd-c-simulation-engine/src/particle.cpp:8:\n",
      "/home/smatthe2/SpatialPy/spatialpy/ssa_sdpd-c-simulation-engine/include/particle.hpp:25:12: note:   in call to ‘Spatialpy::Particle& Spatialpy::Particle::operator=(const Spatialpy::Particle&)’\n",
      "   25 |     struct Particle{\n",
      "      |            ^~~~~~~~\n",
      "/home/smatthe2/SpatialPy/spatialpy/ssa_sdpd-c-simulation-engine/src/particle.cpp: At global scope:\n",
      "/home/smatthe2/SpatialPy/spatialpy/ssa_sdpd-c-simulation-engine/src/particle.cpp:129:10: error: no declaration matches ‘void Spatialpy::Particle::get_k_cleanup(ANNidxArray, ANNdistArray)’\n",
      "  129 |     void Particle::get_k_cleanup(ANNidxArray nn_idx, ANNdistArray dists) {\n",
      "      |          ^~~~~~~~\n",
      "/home/smatthe2/SpatialPy/spatialpy/ssa_sdpd-c-simulation-engine/src/particle.cpp:129:10: note: no functions named ‘void Spatialpy::Particle::get_k_cleanup(ANNidxArray, ANNdistArray)’\n",
      "In file included from /home/smatthe2/SpatialPy/spatialpy/ssa_sdpd-c-simulation-engine/src/particle.cpp:8:\n",
      "/home/smatthe2/SpatialPy/spatialpy/ssa_sdpd-c-simulation-engine/include/particle.hpp:25:12: note: ‘struct Spatialpy::Particle’ defined here\n",
      "   25 |     struct Particle{\n",
      "      |            ^~~~~~~~\n",
      "/home/smatthe2/SpatialPy/spatialpy/ssa_sdpd-c-simulation-engine/src/particle.cpp:134:10: error: no declaration matches ‘void Spatialpy::Particle::search_cleanup(ANNpoint, ANNidxArray, ANNdistArray)’\n",
      "  134 |     void Particle::search_cleanup(ANNpoint queryPt, ANNidxArray nn_idx, ANNdistArray dists) {\n",
      "      |          ^~~~~~~~\n",
      "/home/smatthe2/SpatialPy/spatialpy/ssa_sdpd-c-simulation-engine/src/particle.cpp:134:10: note: no functions named ‘void Spatialpy::Particle::search_cleanup(ANNpoint, ANNidxArray, ANNdistArray)’\n",
      "In file included from /home/smatthe2/SpatialPy/spatialpy/ssa_sdpd-c-simulation-engine/src/particle.cpp:8:\n",
      "/home/smatthe2/SpatialPy/spatialpy/ssa_sdpd-c-simulation-engine/include/particle.hpp:25:12: note: ‘struct Spatialpy::Particle’ defined here\n",
      "   25 |     struct Particle{\n",
      "      |            ^~~~~~~~\n",
      "/home/smatthe2/SpatialPy/spatialpy/ssa_sdpd-c-simulation-engine/src/particle.cpp:139:9: error: no declaration matches ‘int Spatialpy::Particle::get_k__approx(Spatialpy::ParticleSystem)’\n",
      "  139 |     int Particle::get_k__approx(ParticleSystem system) {\n",
      "      |         ^~~~~~~~\n",
      "/home/smatthe2/SpatialPy/spatialpy/ssa_sdpd-c-simulation-engine/src/particle.cpp:139:9: note: no functions named ‘int Spatialpy::Particle::get_k__approx(Spatialpy::ParticleSystem)’\n",
      "In file included from /home/smatthe2/SpatialPy/spatialpy/ssa_sdpd-c-simulation-engine/src/particle.cpp:8:\n",
      "/home/smatthe2/SpatialPy/spatialpy/ssa_sdpd-c-simulation-engine/include/particle.hpp:25:12: note: ‘struct Spatialpy::Particle’ defined here\n",
      "   25 |     struct Particle{\n",
      "      |            ^~~~~~~~\n",
      "/home/smatthe2/SpatialPy/spatialpy/ssa_sdpd-c-simulation-engine/src/particle.cpp:143:9: error: no declaration matches ‘int Spatialpy::Particle::get_k__exact(ANNpoint, ANNdist, Spatialpy::ParticleSystem)’\n",
      "  143 |     int Particle::get_k__exact(ANNpoint queryPt, ANNdist dist, ParticleSystem system) {\n",
      "      |         ^~~~~~~~\n",
      "/home/smatthe2/SpatialPy/spatialpy/ssa_sdpd-c-simulation-engine/src/particle.cpp:143:9: note: no functions named ‘int Spatialpy::Particle::get_k__exact(ANNpoint, ANNdist, Spatialpy::ParticleSystem)’\n",
      "In file included from /home/smatthe2/SpatialPy/spatialpy/ssa_sdpd-c-simulation-engine/src/particle.cpp:8:\n",
      "/home/smatthe2/SpatialPy/spatialpy/ssa_sdpd-c-simulation-engine/include/particle.hpp:25:12: note: ‘struct Spatialpy::Particle’ defined here\n",
      "   25 |     struct Particle{\n",
      "      |            ^~~~~~~~\n",
      "/home/smatthe2/SpatialPy/spatialpy/ssa_sdpd-c-simulation-engine/src/particle.cpp:152:10: error: no declaration matches ‘void Spatialpy::Particle::find_neighbors(Spatialpy::ParticleSystem, bool)’\n",
      "  152 |     void Particle::find_neighbors(ParticleSystem system, bool use_exact_k=true){\n",
      "      |          ^~~~~~~~\n",
      "In file included from /home/smatthe2/SpatialPy/spatialpy/ssa_sdpd-c-simulation-engine/src/particle.cpp:8:\n",
      "/home/smatthe2/SpatialPy/spatialpy/ssa_sdpd-c-simulation-engine/include/particle.hpp:59:11: note: candidate is: ‘void Spatialpy::Particle::find_neighbors(Spatialpy::ParticleSystem)’\n",
      "   59 |      void find_neighbors(ParticleSystem system);\n",
      "      |           ^~~~~~~~~~~~~~\n",
      "/home/smatthe2/SpatialPy/spatialpy/ssa_sdpd-c-simulation-engine/include/particle.hpp:25:12: note: ‘struct Spatialpy::Particle’ defined here\n",
      "   25 |     struct Particle{\n",
      "      |            ^~~~~~~~\n",
      "/home/smatthe2/SpatialPy/spatialpy/ssa_sdpd-c-simulation-engine/src/particle.cpp:192:23: error: expected constructor, destructor, or type conversion before ‘(’ token\n",
      "  192 |         search_cleanup(queryPt, nn_idx, dists);\n",
      "      |                       ^\n",
      "/home/smatthe2/SpatialPy/spatialpy/ssa_sdpd-c-simulation-engine/src/particle.cpp:232:1: error: expected declaration before ‘}’ token\n",
      "  232 | }\n",
      "      | ^\n",
      "make: *** [/home/smatthe2/SpatialPy/spatialpy/ssa_sdpd-c-simulation-engine/build/Makefile:23: particle.o] Error 1\n",
      "\n"
     ]
    },
    {
     "ename": "SimulationError",
     "evalue": "Compilation of solver failed, return_code=2",
     "output_type": "error",
     "traceback": [
      "\u001b[0;31m---------------------------------------------------------------------------\u001b[0m",
      "\u001b[0;31mSimulationError\u001b[0m                           Traceback (most recent call last)",
      "\u001b[0;32m<timed exec>\u001b[0m in \u001b[0;36m<module>\u001b[0;34m\u001b[0m\n",
      "\u001b[0;32m~/SpatialPy/spatialpy/Solver.py\u001b[0m in \u001b[0;36mrun\u001b[0;34m(self, number_of_trajectories, seed, timeout, number_of_threads)\u001b[0m\n\u001b[1;32m    116\u001b[0m         \u001b[0;31m# Check if compiled, call compile() if not.\u001b[0m\u001b[0;34m\u001b[0m\u001b[0;34m\u001b[0m\u001b[0;34m\u001b[0m\u001b[0m\n\u001b[1;32m    117\u001b[0m         \u001b[0;32mif\u001b[0m \u001b[0;32mnot\u001b[0m \u001b[0mself\u001b[0m\u001b[0;34m.\u001b[0m\u001b[0mis_compiled\u001b[0m\u001b[0;34m:\u001b[0m\u001b[0;34m\u001b[0m\u001b[0;34m\u001b[0m\u001b[0m\n\u001b[0;32m--> 118\u001b[0;31m             \u001b[0mself\u001b[0m\u001b[0;34m.\u001b[0m\u001b[0mcompile\u001b[0m\u001b[0;34m(\u001b[0m\u001b[0;34m)\u001b[0m\u001b[0;34m\u001b[0m\u001b[0;34m\u001b[0m\u001b[0m\n\u001b[0m\u001b[1;32m    119\u001b[0m \u001b[0;34m\u001b[0m\u001b[0m\n\u001b[1;32m    120\u001b[0m         \u001b[0;31m# Execute the solver\u001b[0m\u001b[0;34m\u001b[0m\u001b[0;34m\u001b[0m\u001b[0;34m\u001b[0m\u001b[0m\n",
      "\u001b[0;32m~/SpatialPy/spatialpy/Solver.py\u001b[0m in \u001b[0;36mcompile\u001b[0;34m(self)\u001b[0m\n\u001b[1;32m     91\u001b[0m             \u001b[0;32mexcept\u001b[0m \u001b[0mException\u001b[0m \u001b[0;32mas\u001b[0m \u001b[0me\u001b[0m\u001b[0;34m:\u001b[0m\u001b[0;34m\u001b[0m\u001b[0;34m\u001b[0m\u001b[0m\n\u001b[1;32m     92\u001b[0m                 \u001b[0;32mpass\u001b[0m\u001b[0;34m\u001b[0m\u001b[0;34m\u001b[0m\u001b[0m\n\u001b[0;32m---> 93\u001b[0;31m             raise SimulationError(\n\u001b[0m\u001b[1;32m     94\u001b[0m                 \"Compilation of solver failed, return_code={0}\".format(return_code))\n\u001b[1;32m     95\u001b[0m \u001b[0;34m\u001b[0m\u001b[0m\n",
      "\u001b[0;31mSimulationError\u001b[0m: Compilation of solver failed, return_code=2"
     ]
    }
   ],
   "source": [
    "%time result = sol.run()"
   ]
  },
  {
   "cell_type": "code",
   "execution_count": null,
   "metadata": {},
   "outputs": [],
   "source": []
  },
  {
   "cell_type": "code",
   "execution_count": 11,
   "metadata": {
    "scrolled": false,
    "tags": []
   },
   "outputs": [
    {
     "ename": "NameError",
     "evalue": "name 'result' is not defined",
     "output_type": "error",
     "traceback": [
      "\u001b[0;31m---------------------------------------------------------------------------\u001b[0m",
      "\u001b[0;31mNameError\u001b[0m                                 Traceback (most recent call last)",
      "\u001b[0;32m<ipython-input-11-01e827e72039>\u001b[0m in \u001b[0;36m<module>\u001b[0;34m\u001b[0m\n\u001b[1;32m      1\u001b[0m \u001b[0;31m# Plot of the time-average spatial concentration.\u001b[0m\u001b[0;34m\u001b[0m\u001b[0;34m\u001b[0m\u001b[0;34m\u001b[0m\u001b[0m\n\u001b[1;32m      2\u001b[0m \u001b[0mx_vals\u001b[0m \u001b[0;34m=\u001b[0m \u001b[0mmodel\u001b[0m\u001b[0;34m.\u001b[0m\u001b[0mmesh\u001b[0m\u001b[0;34m.\u001b[0m\u001b[0mcoordinates\u001b[0m\u001b[0;34m(\u001b[0m\u001b[0;34m)\u001b[0m\u001b[0;34m[\u001b[0m\u001b[0;34m:\u001b[0m\u001b[0;34m,\u001b[0m \u001b[0;36m0\u001b[0m\u001b[0;34m]\u001b[0m\u001b[0;34m\u001b[0m\u001b[0;34m\u001b[0m\u001b[0m\n\u001b[0;32m----> 3\u001b[0;31m \u001b[0mA_vals\u001b[0m \u001b[0;34m=\u001b[0m \u001b[0mnumpy\u001b[0m\u001b[0;34m.\u001b[0m\u001b[0msum\u001b[0m\u001b[0;34m(\u001b[0m\u001b[0mresult\u001b[0m\u001b[0;34m.\u001b[0m\u001b[0mget_species\u001b[0m\u001b[0;34m(\u001b[0m\u001b[0;34m\"A\"\u001b[0m\u001b[0;34m,\u001b[0m \u001b[0mconcentration\u001b[0m\u001b[0;34m=\u001b[0m\u001b[0;32mFalse\u001b[0m\u001b[0;34m,\u001b[0m \u001b[0mdebug\u001b[0m\u001b[0;34m=\u001b[0m\u001b[0;32mFalse\u001b[0m\u001b[0;34m)\u001b[0m\u001b[0;34m,\u001b[0m \u001b[0maxis\u001b[0m\u001b[0;34m=\u001b[0m\u001b[0;36m0\u001b[0m\u001b[0;34m)\u001b[0m\u001b[0;34m\u001b[0m\u001b[0;34m\u001b[0m\u001b[0m\n\u001b[0m\u001b[1;32m      4\u001b[0m \u001b[0mB_vals\u001b[0m \u001b[0;34m=\u001b[0m \u001b[0mnumpy\u001b[0m\u001b[0;34m.\u001b[0m\u001b[0msum\u001b[0m\u001b[0;34m(\u001b[0m\u001b[0mresult\u001b[0m\u001b[0;34m.\u001b[0m\u001b[0mget_species\u001b[0m\u001b[0;34m(\u001b[0m\u001b[0;34m\"B\"\u001b[0m\u001b[0;34m,\u001b[0m \u001b[0mconcentration\u001b[0m\u001b[0;34m=\u001b[0m\u001b[0;32mFalse\u001b[0m\u001b[0;34m,\u001b[0m \u001b[0mdebug\u001b[0m\u001b[0;34m=\u001b[0m\u001b[0;32mFalse\u001b[0m\u001b[0;34m)\u001b[0m\u001b[0;34m,\u001b[0m \u001b[0maxis\u001b[0m\u001b[0;34m=\u001b[0m\u001b[0;36m0\u001b[0m\u001b[0;34m)\u001b[0m\u001b[0;34m\u001b[0m\u001b[0;34m\u001b[0m\u001b[0m\n\u001b[1;32m      5\u001b[0m \u001b[0;34m\u001b[0m\u001b[0m\n",
      "\u001b[0;31mNameError\u001b[0m: name 'result' is not defined"
     ]
    }
   ],
   "source": [
    "# Plot of the time-average spatial concentration.\n",
    "x_vals = model.mesh.coordinates()[:, 0]\n",
    "A_vals = numpy.sum(result.get_species(\"A\", concentration=False, debug=False), axis=0)\n",
    "B_vals = numpy.sum(result.get_species(\"B\", concentration=False, debug=False), axis=0)\n",
    "\n",
    "A_sum = numpy.sum(result.get_species(\"A\"), axis=1)\n",
    "B_sum = numpy.sum(result.get_species(\"B\"), axis=1)\n",
    "print(A_sum[-1])\n",
    "print(B_sum[-1])\n",
    "plt.figure(figsize=(6,6))\n",
    "plt.subplot(2,1,1)\n",
    "plt.plot(result.get_timespan(),A_sum,'-r',label=\"A\")\n",
    "plt.plot(result.get_timespan(),B_sum,'-b',label=\"B\")\n",
    "plt.legend(loc='best')\n",
    "plt.subplot(2,1,2)\n",
    "\n",
    "vol = model.mesh.vol\n",
    "type = model.mesh.type\n",
    "print(numpy.sum(vol[type == 2]))\n",
    "print(numpy.sum(vol[type == 3]))\n",
    "\n",
    "\n",
    "plt.plot(x_vals,A_vals,'.r',x_vals,B_vals,'.b')\n",
    "plt.legend(['A', 'B'],loc='best')\n"
   ]
  },
  {
   "cell_type": "code",
   "execution_count": null,
   "metadata": {},
   "outputs": [],
   "source": [
    "def plot_step(t_ndx,key='type'):\n",
    "    pts, data = result.read_step(t_ndx)\n",
    "    plt.figure(figsize=(15,10) )\n",
    "    plt.scatter(pts[:,0],pts[:,1],c=data[key])\n",
    "    plt.axis('equal')\n",
    "    plt.colorbar()\n",
    "    plt.title('t={0}'.format(t_ndx))"
   ]
  },
  {
   "cell_type": "code",
   "execution_count": null,
   "metadata": {},
   "outputs": [],
   "source": [
    "plot_step(0,'id')"
   ]
  },
  {
   "cell_type": "code",
   "execution_count": null,
   "metadata": {},
   "outputs": [],
   "source": []
  },
  {
   "cell_type": "code",
   "execution_count": null,
   "metadata": {},
   "outputs": [],
   "source": [
    "plot_step(0)"
   ]
  },
  {
   "cell_type": "code",
   "execution_count": null,
   "metadata": {},
   "outputs": [],
   "source": [
    "plot_step(2,'C[A]')"
   ]
  },
  {
   "cell_type": "code",
   "execution_count": null,
   "metadata": {},
   "outputs": [],
   "source": [
    "t=200\n",
    "plot_step(t,'D[A]')\n",
    "plot_step(t,'D[B]')"
   ]
  },
  {
   "cell_type": "code",
   "execution_count": null,
   "metadata": {},
   "outputs": [],
   "source": [
    "# Plot the subdomains\n",
    "result.plot_property(\"type\", 2)"
   ]
  },
  {
   "cell_type": "code",
   "execution_count": null,
   "metadata": {},
   "outputs": [],
   "source": [
    "result.plot_species(\"A\", t_ndx=-1, deterministic=True)"
   ]
  },
  {
   "cell_type": "code",
   "execution_count": null,
   "metadata": {},
   "outputs": [],
   "source": [
    "result.plot_species(\"A\", t_ndx=-1, size=10)"
   ]
  },
  {
   "cell_type": "code",
   "execution_count": null,
   "metadata": {},
   "outputs": [],
   "source": []
  },
  {
   "cell_type": "code",
   "execution_count": null,
   "metadata": {},
   "outputs": [],
   "source": [
    "result.plot_property(\"type\", use_matplotlib=True, mpl_width=15, mpl_height=10)"
   ]
  },
  {
   "cell_type": "code",
   "execution_count": null,
   "metadata": {},
   "outputs": [],
   "source": [
    "result.plot_species(\"A\", deterministic=True, use_matplotlib=True, mpl_width=15, mpl_height=10)"
   ]
  },
  {
   "cell_type": "code",
   "execution_count": null,
   "metadata": {},
   "outputs": [],
   "source": [
    "result.plot_species(\"A\", use_matplotlib=True, mpl_width=15, mpl_height=10)"
   ]
  },
  {
   "cell_type": "code",
   "execution_count": null,
   "metadata": {
    "scrolled": false,
    "tags": []
   },
   "outputs": [],
   "source": [
    "#from spatialpy.Solver import Solver\n",
    "#sol = Solver(model, debug_level=2)\n",
    "#%time sol.compile()\n"
   ]
  },
  {
   "cell_type": "code",
   "execution_count": null,
   "metadata": {},
   "outputs": [],
   "source": [
    "#sol.build_dir"
   ]
  },
  {
   "cell_type": "code",
   "execution_count": null,
   "metadata": {},
   "outputs": [],
   "source": [
    "#print(subprocess.getoutput(sol.build_dir+'/ssa_sdpd'))"
   ]
  },
  {
   "cell_type": "code",
   "execution_count": null,
   "metadata": {},
   "outputs": [],
   "source": [
    "#!/tmp/spatialpy_build_1h9cf_2u/ssa_sdpd"
   ]
  }
 ],
 "metadata": {
  "@webio": {
   "lastCommId": null,
   "lastKernelId": null
  },
  "kernelspec": {
   "display_name": "Python 3",
   "language": "python",
   "name": "python3"
  },
  "language_info": {
   "codemirror_mode": {
    "name": "ipython",
    "version": 3
   },
   "file_extension": ".py",
   "mimetype": "text/x-python",
   "name": "python",
   "nbconvert_exporter": "python",
   "pygments_lexer": "ipython3",
   "version": "3.8.5"
  }
 },
 "nbformat": 4,
 "nbformat_minor": 2
}

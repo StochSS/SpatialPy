{
 "cells": [
  {
   "cell_type": "code",
   "execution_count": 1,
   "metadata": {},
   "outputs": [],
   "source": [
    "import os\n",
    "import sys\n",
    "from collections import OrderedDict"
   ]
  },
  {
   "cell_type": "code",
   "execution_count": 2,
   "metadata": {},
   "outputs": [],
   "source": [
    "sys.path.append(\"../..\")"
   ]
  },
  {
   "cell_type": "code",
   "execution_count": 3,
   "metadata": {},
   "outputs": [],
   "source": [
    "%load_ext autoreload\n",
    "%autoreload 2"
   ]
  },
  {
   "cell_type": "code",
   "execution_count": 4,
   "metadata": {},
   "outputs": [],
   "source": [
    "import spatialpy"
   ]
  },
  {
   "cell_type": "code",
   "execution_count": 5,
   "metadata": {},
   "outputs": [],
   "source": [
    "import matplotlib.pyplot as plt\n",
    "import numpy\n",
    "\n",
    "# Global Constants\n",
    "MAX_X_DIM = 5.0\n",
    "MIN_X_DIM = -5.0\n",
    "TOL = 1e-9"
   ]
  },
  {
   "cell_type": "code",
   "execution_count": 6,
   "metadata": {},
   "outputs": [],
   "source": [
    "class Edge1(spatialpy.SubDomain):\n",
    "    def inside(self, x, on_boundary):\n",
    "        return abs(x[0] - MAX_X_DIM) < 0.05\n",
    "class Edge2(spatialpy.SubDomain):\n",
    "    def inside(self, x, on_boundary):\n",
    "        return abs(x[0] - MIN_X_DIM) < 0.05\n"
   ]
  },
  {
   "cell_type": "code",
   "execution_count": 7,
   "metadata": {},
   "outputs": [],
   "source": [
    "class cylinderDemo3D(spatialpy.Model):\n",
    "    def __init__(self, model_name=\"cylinder_demo3d\"):\n",
    "        spatialpy.Model.__init__(self, model_name)\n",
    "\n",
    "        # System constants\n",
    "        D_const = 0.1\n",
    "\n",
    "        # Define Species\n",
    "        A = spatialpy.Species(name=\"A\", diffusion_constant=D_const)\n",
    "        B = spatialpy.Species(name=\"B\", diffusion_constant=D_const)\n",
    "        self.add_species([A, B])\n",
    "\n",
    "        # Define Geometry\n",
    "        self.mesh = spatialpy.Mesh.read_xml_mesh('cylinder.xml')\n",
    "\n",
    "        # Define Subdomains\n",
    "        self.add_subdomain(Edge1(), 2)\n",
    "        self.add_subdomain(Edge2(), 3)\n",
    "        \n",
    "        # Restrict the movement of Chemical Species\n",
    "        self.restrict(A,[1,2])\n",
    "        self.restrict(B,[1,3])\n",
    "\n",
    "\n",
    "        k_react = spatialpy.Parameter(name=\"k_react\", expression=1.0)\n",
    "        k_creat1 = spatialpy.Parameter(name=\"k_creat1\", expression=100)\n",
    "        k_creat2 = spatialpy.Parameter(name=\"k_creat2\", expression=100)\n",
    "        self.add_parameter([k_react, k_creat1,k_creat2])\n",
    "\n",
    "\n",
    "        # Define Reactions\n",
    "        R1 = spatialpy.Reaction(reactants=None, products={A:1}, \n",
    "                                rate=k_creat1, restrict_to=2)\n",
    "        R2 = spatialpy.Reaction(reactants=None, products={B:1}, \n",
    "                              rate=k_creat2, restrict_to=3)\n",
    "        R3 = spatialpy.Reaction(reactants={A:1, B:1}, products=None, \n",
    "                              rate=k_react)\n",
    "        self.add_reaction([R1, R2, R3])\n",
    "\n",
    "        # Define simulation timespan\n",
    "        self.set_timesteps(1, 200)"
   ]
  },
  {
   "cell_type": "code",
   "execution_count": 8,
   "metadata": {},
   "outputs": [],
   "source": [
    "model = cylinderDemo3D()"
   ]
  },
  {
   "cell_type": "code",
   "execution_count": 9,
   "metadata": {},
   "outputs": [],
   "source": [
    "from spatialpy.nsmsolver import NSMSolver"
   ]
  },
  {
   "cell_type": "code",
   "execution_count": 10,
   "metadata": {
    "scrolled": true
   },
   "outputs": [
    {
     "name": "stdout",
     "output_type": "stream",
     "text": [
      "Compiling Solver.  Build dir: /tmp/tmpelyl3322\n",
      "Creating propensity file /tmp/tmpelyl3322/cylinder_demo3d_generated_model.c\n",
      "find_h = 0.8703111740074692\n",
      "cmd: cd /tmp/tmpelyl3322 ; make -f /home/brian/Desktop/research/SpatialPy/spatialpy/ssa_sdpd-c-simulation-engine/build/Makefile.nsm ROOT=/home/brian/Desktop/research/SpatialPy/spatialpy/ssa_sdpd-c-simulation-engine MODEL=/tmp/tmpelyl3322/cylinder_demo3d_generated_model.c BUILD=/tmp/tmpelyl3322\n",
      "\n",
      "gcc -c -o linked_list.o /home/brian/Desktop/research/SpatialPy/spatialpy/ssa_sdpd-c-simulation-engine/src/linked_list.c -I/home/brian/Desktop/research/SpatialPy/spatialpy/ssa_sdpd-c-simulation-engine/include/ -O3 -Wall \n",
      "gcc -c -o particle.o /home/brian/Desktop/research/SpatialPy/spatialpy/ssa_sdpd-c-simulation-engine/src/particle.c -I/home/brian/Desktop/research/SpatialPy/spatialpy/ssa_sdpd-c-simulation-engine/include/ -O3 -Wall \n",
      "gcc -c -o simulate.o /home/brian/Desktop/research/SpatialPy/spatialpy/ssa_sdpd-c-simulation-engine/src/simulate.c -I/home/brian/Desktop/research/SpatialPy/spatialpy/ssa_sdpd-c-simulation-engine/include/ -O3 -Wall \n",
      "gcc -c -o count_cores.o /home/brian/Desktop/research/SpatialPy/spatialpy/ssa_sdpd-c-simulation-engine/src/count_cores.c -I/home/brian/Desktop/research/SpatialPy/spatialpy/ssa_sdpd-c-simulation-engine/include/ -O3 -Wall \n",
      "gcc -c -o output.o /home/brian/Desktop/research/SpatialPy/spatialpy/ssa_sdpd-c-simulation-engine/src/output.c -I/home/brian/Desktop/research/SpatialPy/spatialpy/ssa_sdpd-c-simulation-engine/include/ -O3 -Wall \n",
      "gcc -c -o simulate_rdme.o /home/brian/Desktop/research/SpatialPy/spatialpy/ssa_sdpd-c-simulation-engine/src/simulate_rdme.c -I/home/brian/Desktop/research/SpatialPy/spatialpy/ssa_sdpd-c-simulation-engine/include/ -O3 -Wall \n",
      "gcc -c -o binheap.o /home/brian/Desktop/research/SpatialPy/spatialpy/ssa_sdpd-c-simulation-engine/src/binheap.c -I/home/brian/Desktop/research/SpatialPy/spatialpy/ssa_sdpd-c-simulation-engine/include/ -O3 -Wall \n",
      "gcc -c -o main.o /tmp/tmpelyl3322/cylinder_demo3d_generated_model.c -I/home/brian/Desktop/research/SpatialPy/spatialpy/ssa_sdpd-c-simulation-engine/include/ -O3 -Wall \n",
      "gcc  -o ssa_sdpd linked_list.o particle.o simulate.o count_cores.o output.o simulate_rdme.o binheap.o main.o -pthread -lm\n",
      "\n",
      "\n",
      "CPU times: user 4.23 s, sys: 26.4 ms, total: 4.26 s\n",
      "Wall time: 5.65 s\n"
     ]
    }
   ],
   "source": [
    "#result = model.run(report_level=2)\n",
    "sol = NSMSolver(model, report_level=2)\n",
    "%time sol.compile()"
   ]
  },
  {
   "cell_type": "code",
   "execution_count": 11,
   "metadata": {},
   "outputs": [
    {
     "data": {
      "text/plain": [
       "['main.o',\n",
       " 'count_cores.o',\n",
       " 'particle.o',\n",
       " 'ssa_sdpd',\n",
       " 'simulate_rdme.o',\n",
       " 'linked_list.o',\n",
       " 'binheap.o',\n",
       " 'simulate.o',\n",
       " 'output.o',\n",
       " 'cylinder_demo3d_generated_model.c']"
      ]
     },
     "execution_count": 11,
     "metadata": {},
     "output_type": "execute_result"
    }
   ],
   "source": [
    "os.listdir(sol.build_dir)"
   ]
  },
  {
   "cell_type": "code",
   "execution_count": 12,
   "metadata": {},
   "outputs": [
    {
     "name": "stdout",
     "output_type": "stream",
     "text": [
      "cmd: cd /tmp/tmpsgqce83m;/tmp/tmpelyl3322/ssa_sdpd\n",
      "\n",
      "CPU times: user 0 ns, sys: 7.47 ms, total: 7.47 ms\n",
      "Wall time: 10.4 s\n"
     ]
    }
   ],
   "source": [
    "%time result = sol.run()"
   ]
  },
  {
   "cell_type": "code",
   "execution_count": 13,
   "metadata": {},
   "outputs": [
    {
     "data": {
      "text/plain": [
       "['output165.vtk',\n",
       " 'output29.vtk',\n",
       " 'output41.vtk',\n",
       " 'output167.vtk',\n",
       " 'output32.vtk',\n",
       " 'output143.vtk',\n",
       " 'output35.vtk',\n",
       " 'diffusion_matrix_1560731950',\n",
       " 'output126.vtk',\n",
       " 'output199.vtk',\n",
       " 'output8.vtk',\n",
       " 'output21.vtk',\n",
       " 'output13.vtk',\n",
       " 'output61.vtk',\n",
       " 'output173.vtk',\n",
       " 'output27.vtk',\n",
       " 'output12.vtk',\n",
       " 'output109.vtk',\n",
       " 'output107.vtk',\n",
       " 'output5.vtk',\n",
       " 'output50.vtk',\n",
       " 'output157.vtk',\n",
       " 'output85.vtk',\n",
       " 'output121.vtk',\n",
       " 'output145.vtk',\n",
       " 'output159.vtk',\n",
       " 'output19.vtk',\n",
       " 'output33.vtk',\n",
       " 'output72.vtk',\n",
       " 'output96.vtk',\n",
       " 'output101.vtk',\n",
       " 'output179.vtk',\n",
       " 'output125.vtk',\n",
       " 'output45.vtk',\n",
       " 'output188.vtk',\n",
       " 'output200.vtk',\n",
       " 'output144.vtk',\n",
       " 'output37.vtk',\n",
       " 'output92.vtk',\n",
       " 'output68.vtk',\n",
       " 'output87.vtk',\n",
       " 'output4.vtk',\n",
       " 'output134.vtk',\n",
       " 'output16.vtk',\n",
       " 'output138.vtk',\n",
       " 'output17.vtk',\n",
       " 'output168.vtk',\n",
       " 'output66.vtk',\n",
       " 'output140.vtk',\n",
       " 'output132.vtk',\n",
       " 'output80.vtk',\n",
       " 'output123.vtk',\n",
       " 'output47.vtk',\n",
       " 'output44.vtk',\n",
       " 'output147.vtk',\n",
       " 'output52.vtk',\n",
       " 'output7.vtk',\n",
       " 'output110.vtk',\n",
       " 'output38.vtk',\n",
       " 'output148.vtk',\n",
       " 'output103.vtk',\n",
       " 'output25.vtk',\n",
       " 'output112.vtk',\n",
       " 'output48.vtk',\n",
       " 'output81.vtk',\n",
       " 'output190.vtk',\n",
       " 'output129.vtk',\n",
       " 'output182.vtk',\n",
       " 'output161.vtk',\n",
       " 'output76.vtk',\n",
       " 'output22.vtk',\n",
       " 'output88.vtk',\n",
       " 'output156.vtk',\n",
       " 'output177.vtk',\n",
       " 'output40.vtk',\n",
       " 'output186.vtk',\n",
       " 'output57.vtk',\n",
       " 'output98.vtk',\n",
       " 'output70.vtk',\n",
       " 'output113.vtk',\n",
       " 'output196.vtk',\n",
       " 'output0.vtk',\n",
       " 'output122.vtk',\n",
       " 'output153.vtk',\n",
       " 'output189.vtk',\n",
       " 'output51.vtk',\n",
       " 'output20.vtk',\n",
       " 'output24.vtk',\n",
       " 'output79.vtk',\n",
       " 'output115.vtk',\n",
       " 'output175.vtk',\n",
       " 'output183.vtk',\n",
       " 'output105.vtk',\n",
       " 'output55.vtk',\n",
       " 'output181.vtk',\n",
       " 'output184.vtk',\n",
       " 'output191.vtk',\n",
       " 'output100.vtk',\n",
       " 'output97.vtk',\n",
       " 'output197.vtk',\n",
       " 'output9.vtk',\n",
       " 'output69.vtk',\n",
       " 'output15.vtk',\n",
       " 'output193.vtk',\n",
       " 'output164.vtk',\n",
       " 'output160.vtk',\n",
       " 'output31.vtk',\n",
       " 'output170.vtk',\n",
       " 'output150.vtk',\n",
       " 'output106.vtk',\n",
       " 'output192.vtk',\n",
       " 'output151.vtk',\n",
       " 'output83.vtk',\n",
       " 'output116.vtk',\n",
       " 'output59.vtk',\n",
       " 'output187.vtk',\n",
       " 'output6.vtk',\n",
       " 'output28.vtk',\n",
       " 'output10.vtk',\n",
       " 'output118.vtk',\n",
       " 'output89.vtk',\n",
       " 'output93.vtk',\n",
       " 'output128.vtk',\n",
       " 'output176.vtk',\n",
       " 'output172.vtk',\n",
       " 'output2.vtk',\n",
       " 'output119.vtk',\n",
       " 'output131.vtk',\n",
       " 'output141.vtk',\n",
       " 'output127.vtk',\n",
       " 'output136.vtk',\n",
       " 'output114.vtk',\n",
       " 'output135.vtk',\n",
       " 'output117.vtk',\n",
       " 'output198.vtk',\n",
       " 'output86.vtk',\n",
       " 'output154.vtk',\n",
       " 'output133.vtk',\n",
       " 'output124.vtk',\n",
       " 'output30.vtk',\n",
       " 'output91.vtk',\n",
       " 'output67.vtk',\n",
       " 'output120.vtk',\n",
       " 'output163.vtk',\n",
       " 'output139.vtk',\n",
       " 'output64.vtk',\n",
       " 'output58.vtk',\n",
       " 'output23.vtk',\n",
       " 'output65.vtk',\n",
       " 'output94.vtk',\n",
       " 'output162.vtk',\n",
       " 'output99.vtk',\n",
       " 'output111.vtk',\n",
       " 'output108.vtk',\n",
       " 'output60.vtk',\n",
       " 'output180.vtk',\n",
       " 'output155.vtk',\n",
       " 'output36.vtk',\n",
       " 'output84.vtk',\n",
       " 'output39.vtk',\n",
       " 'output71.vtk',\n",
       " 'output149.vtk',\n",
       " 'output142.vtk',\n",
       " 'output1.vtk',\n",
       " 'output0_boundingBox.vtk',\n",
       " 'output74.vtk',\n",
       " 'output63.vtk',\n",
       " 'output43.vtk',\n",
       " 'output130.vtk',\n",
       " 'output3.vtk',\n",
       " 'output146.vtk',\n",
       " 'output95.vtk',\n",
       " 'output169.vtk',\n",
       " 'output174.vtk',\n",
       " 'output104.vtk',\n",
       " 'output152.vtk',\n",
       " 'output75.vtk',\n",
       " 'output18.vtk',\n",
       " 'output195.vtk',\n",
       " 'output49.vtk',\n",
       " 'output14.vtk',\n",
       " 'output178.vtk',\n",
       " 'output56.vtk',\n",
       " 'output54.vtk',\n",
       " 'output42.vtk',\n",
       " 'output82.vtk',\n",
       " 'output34.vtk',\n",
       " 'output158.vtk',\n",
       " 'output78.vtk',\n",
       " 'output53.vtk',\n",
       " 'output185.vtk',\n",
       " 'output11.vtk',\n",
       " 'output90.vtk',\n",
       " 'output46.vtk',\n",
       " 'output137.vtk',\n",
       " 'output171.vtk',\n",
       " 'output102.vtk',\n",
       " 'output73.vtk',\n",
       " 'output194.vtk',\n",
       " 'output77.vtk',\n",
       " 'output26.vtk',\n",
       " 'output166.vtk',\n",
       " 'output62.vtk']"
      ]
     },
     "execution_count": 13,
     "metadata": {},
     "output_type": "execute_result"
    }
   ],
   "source": [
    "os.listdir(result.result_dir)"
   ]
  },
  {
   "cell_type": "code",
   "execution_count": 14,
   "metadata": {},
   "outputs": [
    {
     "data": {
      "text/plain": [
       "203"
      ]
     },
     "execution_count": 14,
     "metadata": {},
     "output_type": "execute_result"
    }
   ],
   "source": [
    "len(os.listdir(result.result_dir))"
   ]
  },
  {
   "cell_type": "code",
   "execution_count": null,
   "metadata": {},
   "outputs": [],
   "source": []
  }
 ],
 "metadata": {
  "kernelspec": {
   "display_name": "Python 3",
   "language": "python",
   "name": "python3"
  },
  "language_info": {
   "codemirror_mode": {
    "name": "ipython",
    "version": 3
   },
   "file_extension": ".py",
   "mimetype": "text/x-python",
   "name": "python",
   "nbconvert_exporter": "python",
   "pygments_lexer": "ipython3",
   "version": "3.6.7"
  }
 },
 "nbformat": 4,
 "nbformat_minor": 2
}

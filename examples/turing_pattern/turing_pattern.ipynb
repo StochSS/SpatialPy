{
 "metadata": {
  "language_info": {
   "codemirror_mode": {
    "name": "ipython",
    "version": 3
   },
   "file_extension": ".py",
   "mimetype": "text/x-python",
   "name": "python",
   "nbconvert_exporter": "python",
   "pygments_lexer": "ipython3",
   "version": "3.8.5-final"
  },
  "orig_nbformat": 2,
  "kernelspec": {
   "name": "Python 3.8.5 64-bit",
   "display_name": "Python 3.8.5 64-bit",
   "metadata": {
    "interpreter": {
     "hash": "31f2aee4e71d21fbe5cf8b01ff0e069b9275f58929596ceb00d14d90e3e16cd6"
    }
   }
  }
 },
 "nbformat": 4,
 "nbformat_minor": 2,
 "cells": [
  {
   "cell_type": "code",
   "execution_count": 27,
   "metadata": {},
   "outputs": [
    {
     "output_type": "stream",
     "name": "stdout",
     "text": [
      "The autoreload extension is already loaded. To reload it, use:\n  %reload_ext autoreload\n"
     ]
    }
   ],
   "source": [
    "import os\n",
    "import sys\n",
    "from collections import OrderedDict\n",
    "sys.path.append(\"../..\")\n",
    "import spatialpy\n",
    "spatialpy.__file__\n",
    "import matplotlib.pyplot as plt\n",
    "import numpy\n",
    "%load_ext autoreload\n",
    "%autoreload 2"
   ]
  },
  {
   "cell_type": "code",
   "execution_count": 28,
   "metadata": {},
   "outputs": [],
   "source": [
    "class All(spatialpy.Geometry):\n",
    "    def inside(self, x, on_boundary):\n",
    "        if x[0] < 0.0 or x[0] > 1.0 or \\\n",
    "           x[1] < 0.0 or x[1] > 1.0:\n",
    "            return True\n",
    "        return False"
   ]
  },
  {
   "cell_type": "code",
   "execution_count": 29,
   "metadata": {},
   "outputs": [],
   "source": [
    "class turingPattern(spatialpy.Model):\n",
    "\n",
    "   def __init__(self, model_name=\"turingPattern\"):\n",
    "        spatialpy.Model.__init__(self, model_name)\n",
    "\n",
    "        diff_const = 0.1\n",
    "   \n",
    "        A = spatialpy.Species(name=\"A\", diffusion_constant=diff_const)\n",
    "        B = spatialpy.Species(name=\"B\", diffusion_constant=diff_const)\n",
    "        D = spatialpy.Species(name=\"D\", diffusion_constant=diff_const)\n",
    "        E = spatialpy.Species(name=\"E\", diffusion_constant=diff_const)\n",
    "        X = spatialpy.Species(name=\"X\", diffusion_constant=diff_const)\n",
    "        Y = spatialpy.Species(name=\"Y\", diffusion_constant=diff_const)\n",
    "        self.add_species([A,B,D,E,X,Y])\n",
    "\n",
    "        self.mesh = spatialpy.Mesh.create_2D_domain(nx=10, ny=10, xlim=[-1, 1], ylim=[-1, 1], fixed=True)\n",
    "\n",
    "        self.set_type(All(), 1)\n",
    "\n",
    "        Rate1 = spatialpy.Parameter(\"Rate1\", expression=5000.0)\n",
    "        Rate2 = spatialpy.Parameter(\"Rate2\", expression=50.0)\n",
    "        Rate3 = spatialpy.Parameter(\"Rate3\", expression=0.0005)\n",
    "        Rate4 = spatialpy.Parameter(\"Rate4\", expression=5.0)\n",
    "        self.add_parameter([Rate1, Rate2, Rate3, Rate4])\n",
    "\n",
    "        Reaction1 = spatialpy.Reaction(reactants={A:1}, products={A:1, X:1}, rate=Rate1)\n",
    "        Reaction2 = spatialpy.Reaction(reactants={B:1, X:1}, products={Y:1, D:1}, propensity_function=\"Rate2 * B * X\")\n",
    "        Reaction3 = spatialpy.Reaction(reactants={X:2, Y:1}, products={X:3}, propensity_function=\"(Rate3 * X * (X-1))/2\")\n",
    "        Reaction4 = spatialpy.Reaction(reactants={X:1}, products={E:1}, propensity_function=\"Rate4 * X\")\n",
    "        self.add_reaction([Reaction1, Reaction2, Reaction3, Reaction4])\n",
    "\n",
    "        self.add_initial_condition(spatialpy.UniformInitialCondition(A, 200, [1]))\n",
    "        self.add_initial_condition(spatialpy.UniformInitialCondition(B, 200, [1]))\n",
    "        self.add_initial_condition(spatialpy.UniformInitialCondition(D, 20, [1]))\n",
    "        self.add_initial_condition(spatialpy.UniformInitialCondition(E, 20, [1]))\n",
    "        self.add_initial_condition(spatialpy.UniformInitialCondition(X, 20, [1]))\n",
    "        self.add_initial_condition(spatialpy.UniformInitialCondition(Y, 20, [1]))\n",
    "\n",
    "        self.staticDomain = True\n",
    "\n",
    "        self.timespan(range(0,2))"
   ]
  },
  {
   "cell_type": "code",
   "execution_count": 30,
   "metadata": {},
   "outputs": [],
   "source": [
    "model = turingPattern()"
   ]
  },
  {
   "cell_type": "code",
   "execution_count": 31,
   "metadata": {
    "tags": []
   },
   "outputs": [
    {
     "output_type": "stream",
     "name": "stdout",
     "text": [
      "Terminated by user after seconds: 364.09\nCPU times: user 8.4 ms, sys: 4.09 ms, total: 12.5 ms\nWall time: 6min 4s\n"
     ]
    }
   ],
   "source": [
    "from spatialpy import Solver\n",
    "sol = Solver(model, debug_level=0)\n",
    "sol.compile()\n",
    "%time result = sol.run()"
   ]
  },
  {
   "cell_type": "code",
   "execution_count": 17,
   "metadata": {},
   "outputs": [
    {
     "output_type": "error",
     "ename": "FileNotFoundError",
     "evalue": "[Errno 2] No such file or directory: '/tmp/spatialpy_result_g8gnh9f7/output100000.vtk'",
     "traceback": [
      "\u001b[0;31m---------------------------------------------------------------------------\u001b[0m",
      "\u001b[0;31mFileNotFoundError\u001b[0m                         Traceback (most recent call last)",
      "\u001b[0;32m<ipython-input-17-7bc8764d5368>\u001b[0m in \u001b[0;36m<module>\u001b[0;34m\u001b[0m\n\u001b[1;32m      1\u001b[0m \u001b[0;32mfor\u001b[0m \u001b[0mi\u001b[0m\u001b[0;34m,\u001b[0m\u001b[0mt\u001b[0m \u001b[0;32min\u001b[0m \u001b[0menumerate\u001b[0m\u001b[0;34m(\u001b[0m\u001b[0mresult\u001b[0m\u001b[0;34m.\u001b[0m\u001b[0mget_timespan\u001b[0m\u001b[0;34m(\u001b[0m\u001b[0;34m)\u001b[0m\u001b[0;34m)\u001b[0m\u001b[0;34m:\u001b[0m\u001b[0;34m\u001b[0m\u001b[0;34m\u001b[0m\u001b[0m\n\u001b[1;32m      2\u001b[0m     \u001b[0;31m#print(i,t)\u001b[0m\u001b[0;34m\u001b[0m\u001b[0;34m\u001b[0m\u001b[0;34m\u001b[0m\u001b[0m\n\u001b[0;32m----> 3\u001b[0;31m     \u001b[0mresult\u001b[0m\u001b[0;34m.\u001b[0m\u001b[0mplot_species\u001b[0m\u001b[0;34m(\u001b[0m\u001b[0;34m\"X\"\u001b[0m\u001b[0;34m,\u001b[0m \u001b[0mi\u001b[0m\u001b[0;34m,\u001b[0m \u001b[0muse_matplotlib\u001b[0m\u001b[0;34m=\u001b[0m\u001b[0;32mTrue\u001b[0m\u001b[0;34m)\u001b[0m\u001b[0;34m\u001b[0m\u001b[0;34m\u001b[0m\u001b[0m\n\u001b[0m",
      "\u001b[0;32m~/SpatialPy/spatialpy/Result.py\u001b[0m in \u001b[0;36mplot_species\u001b[0;34m(self, species, t_ndx, concentration, deterministic, width, height, colormap, size, title, animated, t_ndx_list, speed, f_duration, t_duration, return_plotly_figure, use_matplotlib, mpl_width, mpl_height, debug)\u001b[0m\n\u001b[1;32m    254\u001b[0m         \u001b[0;31m# read data at time point\u001b[0m\u001b[0;34m\u001b[0m\u001b[0;34m\u001b[0m\u001b[0;34m\u001b[0m\u001b[0m\n\u001b[1;32m    255\u001b[0m         \u001b[0mtime_index\u001b[0m \u001b[0;34m=\u001b[0m \u001b[0mt_ndx_list\u001b[0m\u001b[0;34m[\u001b[0m\u001b[0;36m0\u001b[0m\u001b[0;34m]\u001b[0m \u001b[0;32mif\u001b[0m \u001b[0manimated\u001b[0m \u001b[0;32melse\u001b[0m \u001b[0mt_ndx\u001b[0m\u001b[0;34m\u001b[0m\u001b[0;34m\u001b[0m\u001b[0m\n\u001b[0;32m--> 256\u001b[0;31m         \u001b[0mpoints\u001b[0m\u001b[0;34m,\u001b[0m \u001b[0mdata\u001b[0m \u001b[0;34m=\u001b[0m \u001b[0mself\u001b[0m\u001b[0;34m.\u001b[0m\u001b[0mread_step\u001b[0m\u001b[0;34m(\u001b[0m\u001b[0mtime_index\u001b[0m\u001b[0;34m,\u001b[0m \u001b[0mdebug\u001b[0m\u001b[0;34m=\u001b[0m\u001b[0mdebug\u001b[0m\u001b[0;34m)\u001b[0m\u001b[0;34m\u001b[0m\u001b[0;34m\u001b[0m\u001b[0m\n\u001b[0m\u001b[1;32m    257\u001b[0m \u001b[0;34m\u001b[0m\u001b[0m\n\u001b[1;32m    258\u001b[0m         \u001b[0;32mif\u001b[0m \u001b[0muse_matplotlib\u001b[0m\u001b[0;34m:\u001b[0m\u001b[0;34m\u001b[0m\u001b[0;34m\u001b[0m\u001b[0m\n",
      "\u001b[0;32m~/SpatialPy/spatialpy/Result.py\u001b[0m in \u001b[0;36mread_step\u001b[0;34m(self, step_num, debug)\u001b[0m\n\u001b[1;32m    114\u001b[0m         \u001b[0;31m#print(\"read_step({0}) opening '{1}'\".format(step_num, filename))\u001b[0m\u001b[0;34m\u001b[0m\u001b[0;34m\u001b[0m\u001b[0;34m\u001b[0m\u001b[0m\n\u001b[1;32m    115\u001b[0m         \u001b[0mreader\u001b[0m\u001b[0;34m.\u001b[0m\u001b[0msetfilename\u001b[0m\u001b[0;34m(\u001b[0m\u001b[0mfilename\u001b[0m\u001b[0;34m)\u001b[0m\u001b[0;34m\u001b[0m\u001b[0;34m\u001b[0m\u001b[0m\n\u001b[0;32m--> 116\u001b[0;31m         \u001b[0mreader\u001b[0m\u001b[0;34m.\u001b[0m\u001b[0mreadfile\u001b[0m\u001b[0;34m(\u001b[0m\u001b[0;34m)\u001b[0m\u001b[0;34m\u001b[0m\u001b[0;34m\u001b[0m\u001b[0m\n\u001b[0m\u001b[1;32m    117\u001b[0m         \u001b[0;32mif\u001b[0m \u001b[0mreader\u001b[0m\u001b[0;34m.\u001b[0m\u001b[0mgetpoints\u001b[0m\u001b[0;34m(\u001b[0m\u001b[0;34m)\u001b[0m \u001b[0;32mis\u001b[0m \u001b[0;32mNone\u001b[0m \u001b[0;32mor\u001b[0m \u001b[0mreader\u001b[0m\u001b[0;34m.\u001b[0m\u001b[0mgetarrays\u001b[0m\u001b[0;34m(\u001b[0m\u001b[0;34m)\u001b[0m \u001b[0;32mis\u001b[0m \u001b[0;32mNone\u001b[0m\u001b[0;34m:\u001b[0m\u001b[0;34m\u001b[0m\u001b[0;34m\u001b[0m\u001b[0m\n\u001b[1;32m    118\u001b[0m             \u001b[0;32mraise\u001b[0m \u001b[0mResultError\u001b[0m\u001b[0;34m(\u001b[0m\u001b[0;34m\"read_step(step_num={0}): got data = None\"\u001b[0m\u001b[0;34m.\u001b[0m\u001b[0mformat\u001b[0m\u001b[0;34m(\u001b[0m\u001b[0mstep_num\u001b[0m\u001b[0;34m)\u001b[0m\u001b[0;34m)\u001b[0m\u001b[0;34m\u001b[0m\u001b[0;34m\u001b[0m\u001b[0m\n",
      "\u001b[0;32m~/SpatialPy/spatialpy/VTKReader.py\u001b[0m in \u001b[0;36mreadfile\u001b[0;34m(self)\u001b[0m\n\u001b[1;32m    166\u001b[0m         \u001b[0;34m\"\"\"Read VTK file.\"\"\"\u001b[0m\u001b[0;34m\u001b[0m\u001b[0;34m\u001b[0m\u001b[0m\n\u001b[1;32m    167\u001b[0m \u001b[0;34m\u001b[0m\u001b[0m\n\u001b[0;32m--> 168\u001b[0;31m         \u001b[0;32mwith\u001b[0m \u001b[0mopen\u001b[0m\u001b[0;34m(\u001b[0m\u001b[0mself\u001b[0m\u001b[0;34m.\u001b[0m\u001b[0mfilename\u001b[0m\u001b[0;34m)\u001b[0m \u001b[0;32mas\u001b[0m \u001b[0mfd\u001b[0m\u001b[0;34m:\u001b[0m\u001b[0;34m\u001b[0m\u001b[0;34m\u001b[0m\u001b[0m\n\u001b[0m\u001b[1;32m    169\u001b[0m             \u001b[0;32mif\u001b[0m \u001b[0mself\u001b[0m\u001b[0;34m.\u001b[0m\u001b[0mdebug\u001b[0m\u001b[0;34m:\u001b[0m \u001b[0mprint\u001b[0m\u001b[0;34m(\u001b[0m\u001b[0;34m\"open({0})\"\u001b[0m\u001b[0;34m.\u001b[0m\u001b[0mformat\u001b[0m\u001b[0;34m(\u001b[0m\u001b[0mself\u001b[0m\u001b[0;34m.\u001b[0m\u001b[0mfilename\u001b[0m\u001b[0;34m)\u001b[0m\u001b[0;34m)\u001b[0m\u001b[0;34m\u001b[0m\u001b[0;34m\u001b[0m\u001b[0m\n\u001b[1;32m    170\u001b[0m             \u001b[0mtmp\u001b[0m \u001b[0;34m=\u001b[0m  \u001b[0mfd\u001b[0m\u001b[0;34m.\u001b[0m\u001b[0mreadline\u001b[0m\u001b[0;34m(\u001b[0m\u001b[0;34m)\u001b[0m\u001b[0;34m\u001b[0m\u001b[0;34m\u001b[0m\u001b[0m\n",
      "\u001b[0;31mFileNotFoundError\u001b[0m: [Errno 2] No such file or directory: '/tmp/spatialpy_result_g8gnh9f7/output100000.vtk'"
     ]
    }
   ],
   "source": [
    "for i,t in enumerate(result.get_timespan()):\n",
    "    #print(i,t)\n",
    "    result.plot_species(\"X\", i, use_matplotlib=True)"
   ]
  },
  {
   "cell_type": "code",
   "execution_count": null,
   "metadata": {},
   "outputs": [],
   "source": []
  }
 ]
}
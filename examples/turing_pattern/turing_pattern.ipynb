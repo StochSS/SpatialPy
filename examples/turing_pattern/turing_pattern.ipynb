{
 "cells": [
  {
   "cell_type": "code",
   "execution_count": 1,
   "metadata": {},
   "outputs": [
    {
     "name": "stdout",
     "output_type": "stream",
     "text": [
      "/home/brian/Desktop/research/SpatialPy/examples/turing_pattern/../../spatialpy/__init__.py\n"
     ]
    }
   ],
   "source": [
    "import os\n",
    "import sys\n",
    "from collections import OrderedDict\n",
    "sys.path.append(\"../..\")\n",
    "import spatialpy\n",
    "print(spatialpy.__file__)\n",
    "import matplotlib.pyplot as plt\n",
    "import numpy\n",
    "%load_ext autoreload\n",
    "%autoreload 2"
   ]
  },
  {
   "cell_type": "code",
   "execution_count": null,
   "metadata": {},
   "outputs": [],
   "source": []
  },
  {
   "cell_type": "code",
   "execution_count": 2,
   "metadata": {},
   "outputs": [],
   "source": [
    "/tmp/spatialpy_build_o5bx0mk6\n",
    "In [9]:\n",
    "class All(spatialpy.Geometry):\n",
    "    def inside(self, x, on_boundary):\n",
    "        if x[0] < 0.0 or x[0] > 1.0 or \\\n",
    "           x[1] < 0.0 or x[1] > 1.0:\n",
    "            return True\n",
    "        return False"
   ]
  },
  {
   "cell_type": "code",
   "execution_count": 3,
   "metadata": {},
   "outputs": [],
   "source": [
    "class turingPattern(spatialpy.Model):\n",
    "\n",
    "    def __init__(self, model_name=\"turingPattern\"):\n",
    "        spatialpy.Model.__init__(self, model_name)\n",
    "\n",
    "        diff_const = 0.1\n",
    "   \n",
    "        A = spatialpy.Species(name=\"A\", diffusion_constant=diff_const)\n",
    "        B = spatialpy.Species(name=\"B\", diffusion_constant=diff_const)\n",
    "        D = spatialpy.Species(name=\"D\", diffusion_constant=diff_const)\n",
    "        E = spatialpy.Species(name=\"E\", diffusion_constant=diff_const)\n",
    "        X = spatialpy.Species(name=\"X\", diffusion_constant=diff_const)\n",
    "        Y = spatialpy.Species(name=\"Y\", diffusion_constant=diff_const)\n",
    "        self.add_species([A,B,D,E,X,Y])\n",
    "\n",
    "        self.domain = spatialpy.Domain.create_2D_domain(nx=30, ny=30, xlim=[-1, 1], ylim=[-1, 1], fixed=True)\n",
    "\n",
    "        self.set_type(All(), 1)\n",
    "\n",
    "        Rate1 = spatialpy.Parameter(\"Rate1\", expression=5000.0)\n",
    "        Rate2 = spatialpy.Parameter(\"Rate2\", expression=50.0)\n",
    "        Rate3 = spatialpy.Parameter(\"Rate3\", expression=0.0005)\n",
    "        Rate4 = spatialpy.Parameter(\"Rate4\", expression=5.0)\n",
    "        self.add_parameter([Rate1, Rate2, Rate3, Rate4])\n",
    "\n",
    "        Reaction1 = spatialpy.Reaction(reactants={}, products={X:1}, rate=Rate1)\n",
    "        Reaction2 = spatialpy.Reaction(reactants={B:1, X:1}, products={Y:1, D:1}, propensity_function=\"(Rate2 * B * X)/vol\")\n",
    "        Reaction3 = spatialpy.Reaction(reactants={X:2, Y:1}, products={X:3}, propensity_function=\"(((Rate3 * X * (X-1))/2)* Y)/vol\")\n",
    "        Reaction4 = spatialpy.Reaction(reactants={X:1}, products={E:1}, propensity_function=\"Rate4 * X\")\n",
    "        self.add_reaction([Reaction1, Reaction2, Reaction3, Reaction4])\n",
    "\n",
    "        #self.add_initial_condition(spatialpy.ScatterCondition(A, 200, [1]))\n",
    "        self.add_initial_condition(spatialpy.ScatterInitialCondition(B, 200, [1]))\n",
    "        self.add_initial_condition(spatialpy.ScatterInitialCondition(D, 20, [1]))\n",
    "        self.add_initial_condition(spatialpy.ScatterInitialCondition(E, 20, [1]))\n",
    "        self.add_initial_condition(spatialpy.ScatterInitialCondition(X, 20, [1]))\n",
    "        self.add_initial_condition(spatialpy.ScatterInitialCondition(Y, 20, [1]))\n",
    "\n",
    "        self.staticDomain = True\n",
    "\n",
    "        self.timespan(range(0,10))"
   ]
  },
  {
   "cell_type": "code",
   "execution_count": 4,
   "metadata": {},
   "outputs": [],
   "source": [
    "model = turingPattern()"
   ]
  },
  {
   "cell_type": "code",
   "execution_count": 5,
   "metadata": {},
   "outputs": [
    {
     "name": "stdout",
     "output_type": "stream",
     "text": [
      "[0, 1, 2, 3, 4, 5, 6, 7, 8, 9]\n"
     ]
    }
   ],
   "source": [
    "print(list(range(0,10)))"
   ]
  },
  {
   "cell_type": "code",
   "execution_count": 19,
   "metadata": {
    "tags": []
   },
   "outputs": [
    {
     "name": "stdout",
     "output_type": "stream",
     "text": [
      "CPU times: user 172 ms, sys: 0 ns, total: 172 ms\n",
      "Wall time: 5.1 s\n",
      "/tmp/spatialpy_build_qza79bjk\n"
     ]
    }
   ],
   "source": [
    "from spatialpy import Solver\n",
    "sol = Solver(model, debug_level=0)\n",
    "%time sol.compile()\n",
    "print(sol.build_dir)"
   ]
  },
  {
   "cell_type": "code",
   "execution_count": 20,
   "metadata": {},
   "outputs": [
    {
     "name": "stdout",
     "output_type": "stream",
     "text": [
      "build(propensitySum=177343, activeChannels=900, timeOffset=0simulationEndTime=9)\n",
      "Diffusion propensity mismatch in voxel 192. spec=6, sdrate[subvol]=4.579019e+07 cum=4.579019e+07 diff_rand=4.579019e+07\n",
      "CPU times: user 1.2 s, sys: 214 ms, total: 1.42 s\n",
      "Wall time: 13h 18min 1s\n"
     ]
    }
   ],
   "source": [
    "%time result = sol.run()"
   ]
  },
  {
   "cell_type": "code",
   "execution_count": null,
   "metadata": {},
   "outputs": [],
   "source": [
    "#from spatialpy import Solver\n",
    "#sol2 = Solver(model, debug_level=1)\n",
    "#sol2.compile()"
   ]
  },
  {
   "cell_type": "code",
   "execution_count": null,
   "metadata": {},
   "outputs": [],
   "source": [
    "speciesX = result.get_species(\"X\")"
   ]
  },
  {
   "cell_type": "code",
   "execution_count": null,
   "metadata": {},
   "outputs": [],
   "source": [
    "speciesX.sum(axis=1)"
   ]
  },
  {
   "cell_type": "code",
   "execution_count": null,
   "metadata": {},
   "outputs": [],
   "source": [
    "result.plot_species(\"X\", t_ndx_list=[0,1,2,3,4,5,7,8,9], animated=True)"
   ]
  },
  {
   "cell_type": "code",
   "execution_count": null,
   "metadata": {},
   "outputs": [],
   "source": []
  },
  {
   "cell_type": "code",
   "execution_count": null,
   "metadata": {},
   "outputs": [],
   "source": [
    "for i,t in enumerate(result.get_timespan()):\n",
    "    #print(i,t)\n",
    "    result.plot_species(\"E\", i, use_matplotlib=True)"
   ]
  },
  {
   "cell_type": "code",
   "execution_count": null,
   "metadata": {},
   "outputs": [],
   "source": []
  }
 ],
 "metadata": {
  "kernelspec": {
   "display_name": "Python 3",
   "language": "python",
   "name": "python3"
  },
  "language_info": {
   "codemirror_mode": {
    "name": "ipython",
    "version": 3
   },
   "file_extension": ".py",
   "mimetype": "text/x-python",
   "name": "python",
   "nbconvert_exporter": "python",
   "pygments_lexer": "ipython3",
   "version": "3.8.10"
  }
 },
 "nbformat": 4,
 "nbformat_minor": 2
}

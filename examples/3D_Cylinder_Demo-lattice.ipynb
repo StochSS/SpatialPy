{
 "cells": [
  {
   "cell_type": "markdown",
   "metadata": {},
   "source": [
    "# 3D Cylinder Demo\n",
    "***\n",
    "This is an example of a 3D reaction diffusion system.\n",
    "- The domain is a cylinder\n",
    "- Species `A` is created at the right end of the cylinder\n",
    "- Species `B` is created at the left end of the cylinder\n",
    "- Diffusion occurs throughout the volume of the cylinder\n",
    "- `A` and `B` are destroyed on contact\n",
    "- Deterministic and Stochastic simulations are run\n",
    "\n",
    "This example allows us to check if reaction diffusion dynamics are accurate.\n",
    "***\n",
    "## Setup the Environment\n",
    "***"
   ]
  },
  {
   "cell_type": "code",
   "execution_count": 1,
   "metadata": {},
   "outputs": [],
   "source": [
    "import os\n",
    "import sys\n",
    "sys.path.insert(1, os.path.abspath(os.path.join(os.getcwd(), '../')))"
   ]
  },
  {
   "cell_type": "code",
   "execution_count": 2,
   "metadata": {},
   "outputs": [],
   "source": [
    "import numpy"
   ]
  },
  {
   "cell_type": "markdown",
   "metadata": {},
   "source": [
    "MatPlotLib is used for creating custom visualizations"
   ]
  },
  {
   "cell_type": "code",
   "execution_count": 3,
   "metadata": {},
   "outputs": [],
   "source": [
    "import matplotlib.pyplot as plt"
   ]
  },
  {
   "cell_type": "code",
   "execution_count": 4,
   "metadata": {},
   "outputs": [],
   "source": [
    "import spatialpy"
   ]
  },
  {
   "cell_type": "markdown",
   "metadata": {},
   "source": [
    "***\n",
    "## Creating Geometries for the Domain\n",
    "***\n",
    "For custom geometries it is necessary to subclass the `Geometry` class that implements the `__init__` and `inside` methods. The `inside` method must return boolean value.\n",
    "\n",
    "For this example we create three custom geometries: `Edge1`, `Edge2`, and `Middle`"
   ]
  },
  {
   "cell_type": "code",
   "execution_count": 5,
   "metadata": {},
   "outputs": [],
   "source": [
    "class Edge1(spatialpy.Geometry):\n",
    "    def __init__(self, xmax):\n",
    "        self.xmax = xmax\n",
    "\n",
    "    def inside(self, point, on_boundary):\n",
    "        return abs(point[0] - self.xmax) < 0.05"
   ]
  },
  {
   "cell_type": "code",
   "execution_count": 6,
   "metadata": {},
   "outputs": [],
   "source": [
    "class Edge2(spatialpy.Geometry):\n",
    "    def __init__(self, xmin):\n",
    "        self.xmin = xmin\n",
    "\n",
    "    def inside(self, point, on_boundary):\n",
    "        return abs(point[0] - self.xmin) < 0.05"
   ]
  },
  {
   "cell_type": "code",
   "execution_count": 7,
   "metadata": {},
   "outputs": [],
   "source": [
    "class Middle(spatialpy.Geometry):\n",
    "    def __init__(self, xmin):\n",
    "        self.xmin = xmin\n",
    "\n",
    "    def inside(self, point, on_boundary):\n",
    "        return abs(point[0] - self.xmin) >= 0.05"
   ]
  },
  {
   "cell_type": "markdown",
   "metadata": {},
   "source": [
    "***\n",
    "## Creating a Fluid Dynamics Model using SpatialPy\n",
    "***"
   ]
  },
  {
   "cell_type": "code",
   "execution_count": 8,
   "metadata": {},
   "outputs": [],
   "source": [
    "def create_3D_cylinder_demo(model_name=\"3D Cylinder Demo\", parameter_values=None):\n",
    "    # Initialize Model\n",
    "    model = spatialpy.Model(model_name)\n",
    "\n",
    "    # Define Domain Type IDs as constants of the Model\n",
    "    model.MIDDLE = Middle.__name__\n",
    "    model.EDGE1 = Edge1.__name__\n",
    "    model.EDGE2 = Edge2.__name__\n",
    "\n",
    "    # Set domain bounds\n",
    "    xmin = -5\n",
    "    xmax = 5\n",
    "\n",
    "    # System constants\n",
    "    D_const = 0.1\n",
    "\n",
    "    # Define the Domain\n",
    "    domain = spatialpy.Domain(0, xlim=(0,0), ylim=(0,0), zlim=(0,0))\n",
    "    \n",
    "    \"\"\"\n",
    "    Combinatory Geometry class uses one or more Geometry class for inclusion or exclusion of\n",
    "        multiple geometric shapes.\n",
    "\n",
    "    - formula: Boolean logic formula to be evaluated. Example use: \"(geo1 or geo2) and not geo3\".\n",
    "    - geo_namespace: Namespace used when evaluating the formula. Example use:\n",
    "        {'geo1': Geometry1(), 'geo2': Geometry2(), 'geo3': Geometry3()} where 'geo1',\n",
    "        'geo2', and 'geo3' are found in the formula.\n",
    "    \"\"\"\n",
    "    edge1 = Edge1(xmax=xmax)\n",
    "    edge2 = Edge2(xmin=xmin)\n",
    "    middle = spatialpy.CombinatoryGeometry(\n",
    "        formula=\"middle and not (edge1 or edge2)\",\n",
    "        geo_namespace={'middle': Middle(xmin=xmin), 'edge1': edge1, 'edge2': edge2}\n",
    "    )\n",
    "    \n",
    "    \"\"\"\n",
    "    Cylindrical lattice class provides a method for creating parts of the spatial\n",
    "        domain within a cylindrical coordinate system.\n",
    "\n",
    "    - center: The center point of the lattice.\n",
    "    - length: Length of the cylindrical lattice.\n",
    "    - radius: Distance between the center and the surface.\n",
    "    - deltas: Distance between two particle on the surface.\n",
    "    - deltar: Radial distance between two particles.\n",
    "    \"\"\"\n",
    "    cylinder = spatialpy.CylindricalLattice(1, 10, 0.361)\n",
    "    \n",
    "    # Fill the domain with Particles using actions\n",
    "    \"\"\"\n",
    "    Create an action that can add particles to the domain.\n",
    "\n",
    "    - lattice: Lattice classed used when applying fill actions.\n",
    "    - geometry: Geometry classed used when applying fill actions. Defaults to spatialpy.GeometryAll.\n",
    "    - cartesian: Arguments used to create a cartesian lattice. Ignored if lattice is set.\n",
    "    - spherical: Arguments used to create a spherical lattice. Ignored if lattice or cartesian is set.\n",
    "    - cylindrical: Arguments used to create a spherical lattice. Ignored if lattice, cartesian,\n",
    "        or spherical is set.\n",
    "    - enable: Indicates that the action is to be applied by Domain.apply_actions.\n",
    "    - apply_action: If true, apply the action, else, add the action to Domain.actions\n",
    "    - \\**props: Additional particle properties passed to :py:meth:`Domain.add_point`.dditional keyword arguments passed to :py:meth:`Domain.add_point`.\n",
    "    \"\"\"\n",
    "    domain.add_fill_action(lattice=cylinder, geometry=middle, type_id=model.MIDDLE)\n",
    "    domain.add_fill_action(lattice=cylinder, geometry=edge1, type_id=model.EDGE1)\n",
    "    domain.add_fill_action(lattice=cylinder, geometry=edge2, type_id=model.EDGE2)\n",
    "    domain.apply_actions()\n",
    "    \n",
    "    # Set Model Domain\n",
    "    model.add_domain(domain)\n",
    "\n",
    "    # Define Variables (SpatialPy.Species)\n",
    "    A = spatialpy.Species(name=\"A\", diffusion_coefficient=D_const, restrict_to=[model.MIDDLE, model.EDGE1])\n",
    "    B = spatialpy.Species(name=\"B\", diffusion_coefficient=D_const, restrict_to=[model.MIDDLE, model.EDGE2])\n",
    "\n",
    "    # Add Variables to Model.\n",
    "    model.add_species([A, B])\n",
    "\n",
    "    # Define Parameters\n",
    "    vol = model.domain.get_vol()\n",
    "    type_id = model.domain.type_id\n",
    "    model.domain.compile_prep()\n",
    "    left = numpy.sum(vol[type_id == model.domain.get_type_def(model.EDGE1)])\n",
    "    right = numpy.sum(vol[type_id == model.domain.get_type_def(model.EDGE2)])\n",
    "\n",
    "    k_react = spatialpy.Parameter(name=\"k_react\", expression=1.0)\n",
    "    k_creat1 = spatialpy.Parameter(name=\"k_creat1\", expression=100 / left)\n",
    "    k_creat2 = spatialpy.Parameter(name=\"k_creat2\", expression=100 / right)\n",
    "#     k_creat1 = spatialpy.Parameter(name=\"k_creat1\", expression=100)\n",
    "#     k_creat2 = spatialpy.Parameter(name=\"k_creat2\", expression=100)\n",
    "\n",
    "    # Add Parameters to Model.\n",
    "    model.add_parameter([k_react, k_creat1, k_creat2])\n",
    "\n",
    "    # Define Reactions\n",
    "    R1 = spatialpy.Reaction(\n",
    "        reactants={},\n",
    "        products={\"A\":1},\n",
    "        rate=\"k_creat1\",\n",
    "        restrict_to=model.EDGE1\n",
    "    )\n",
    "\n",
    "    R2 = spatialpy.Reaction(\n",
    "        reactants={},\n",
    "        products={\"B\":1},\n",
    "        rate=\"k_creat2\",\n",
    "        restrict_to=model.EDGE2\n",
    "    )\n",
    "\n",
    "    R3 = spatialpy.Reaction(\n",
    "        reactants={\"A\":1, \"B\":1},\n",
    "        products={},\n",
    "        rate=\"k_react\"\n",
    "    )\n",
    "    \n",
    "#     R1 = spatialpy.Reaction(\n",
    "#         reactants={},\n",
    "#         products={\"A\":1},\n",
    "#         propensity_function=\"(k_creat1 * vol) / left\",\n",
    "#         ode_propensity_function=\"k_creat1\",\n",
    "#         restrict_to=model.EDGE1\n",
    "#     )\n",
    "\n",
    "#     R2 = spatialpy.Reaction(\n",
    "#         reactants={},\n",
    "#         products={\"B\":1},\n",
    "#         propensity_function=\"(k_creat2 * vol) / right\",\n",
    "#         ode_propensity_function=\"k_creat2\",\n",
    "#         restrict_to=model.EDGE2\n",
    "#     )\n",
    "\n",
    "    # Add Reactions to Model.\n",
    "    model.add_reaction([R1, R2, R3])\n",
    "\n",
    "    \"\"\"\n",
    "    Define the timespan of the Model. Reaction diffusion examples may require a small\n",
    "    timespan_size (around 1e-3) to generate accurate deterministic results.\n",
    "    \"\"\"\n",
    "    tspan = spatialpy.TimeSpan.linspace(t=500, num_points=501, timestep_size=1e-3)\n",
    "    \n",
    "    # Set Model Timespan\n",
    "    model.timespan(tspan)\n",
    "    return model"
   ]
  },
  {
   "cell_type": "markdown",
   "metadata": {},
   "source": [
    "### Instantiate the Model"
   ]
  },
  {
   "cell_type": "code",
   "execution_count": 9,
   "metadata": {
    "scrolled": false,
    "tags": []
   },
   "outputs": [
    {
     "ename": "NameError",
     "evalue": "name 'deltas' is not defined",
     "output_type": "error",
     "traceback": [
      "\u001b[0;31m---------------------------------------------------------------------------\u001b[0m",
      "\u001b[0;31mNameError\u001b[0m                                 Traceback (most recent call last)",
      "\u001b[0;32m/var/folders/z4/bqpnd_kx7xg3s3c9jtz0pnfh0000gn/T/ipykernel_3556/3644048742.py\u001b[0m in \u001b[0;36m<module>\u001b[0;34m\u001b[0m\n\u001b[0;32m----> 1\u001b[0;31m \u001b[0mmodel\u001b[0m \u001b[0;34m=\u001b[0m \u001b[0mcreate_3D_cylinder_demo\u001b[0m\u001b[0;34m(\u001b[0m\u001b[0;34m)\u001b[0m\u001b[0;34m\u001b[0m\u001b[0;34m\u001b[0m\u001b[0m\n\u001b[0m",
      "\u001b[0;32m/var/folders/z4/bqpnd_kx7xg3s3c9jtz0pnfh0000gn/T/ipykernel_3556/3648972268.py\u001b[0m in \u001b[0;36mcreate_3D_cylinder_demo\u001b[0;34m(model_name, parameter_values)\u001b[0m\n\u001b[1;32m     63\u001b[0m     \u001b[0mdomain\u001b[0m\u001b[0;34m.\u001b[0m\u001b[0madd_fill_action\u001b[0m\u001b[0;34m(\u001b[0m\u001b[0mlattice\u001b[0m\u001b[0;34m=\u001b[0m\u001b[0mcylinder\u001b[0m\u001b[0;34m,\u001b[0m \u001b[0mgeometry\u001b[0m\u001b[0;34m=\u001b[0m\u001b[0medge1\u001b[0m\u001b[0;34m,\u001b[0m \u001b[0mtype_id\u001b[0m\u001b[0;34m=\u001b[0m\u001b[0mmodel\u001b[0m\u001b[0;34m.\u001b[0m\u001b[0mEDGE1\u001b[0m\u001b[0;34m)\u001b[0m\u001b[0;34m\u001b[0m\u001b[0;34m\u001b[0m\u001b[0m\n\u001b[1;32m     64\u001b[0m     \u001b[0mdomain\u001b[0m\u001b[0;34m.\u001b[0m\u001b[0madd_fill_action\u001b[0m\u001b[0;34m(\u001b[0m\u001b[0mlattice\u001b[0m\u001b[0;34m=\u001b[0m\u001b[0mcylinder\u001b[0m\u001b[0;34m,\u001b[0m \u001b[0mgeometry\u001b[0m\u001b[0;34m=\u001b[0m\u001b[0medge2\u001b[0m\u001b[0;34m,\u001b[0m \u001b[0mtype_id\u001b[0m\u001b[0;34m=\u001b[0m\u001b[0mmodel\u001b[0m\u001b[0;34m.\u001b[0m\u001b[0mEDGE2\u001b[0m\u001b[0;34m)\u001b[0m\u001b[0;34m\u001b[0m\u001b[0;34m\u001b[0m\u001b[0m\n\u001b[0;32m---> 65\u001b[0;31m     \u001b[0mdomain\u001b[0m\u001b[0;34m.\u001b[0m\u001b[0mapply_actions\u001b[0m\u001b[0;34m(\u001b[0m\u001b[0;34m)\u001b[0m\u001b[0;34m\u001b[0m\u001b[0;34m\u001b[0m\u001b[0m\n\u001b[0m\u001b[1;32m     66\u001b[0m \u001b[0;34m\u001b[0m\u001b[0m\n\u001b[1;32m     67\u001b[0m     \u001b[0;31m# Set Model Domain\u001b[0m\u001b[0;34m\u001b[0m\u001b[0;34m\u001b[0m\u001b[0m\n",
      "\u001b[0;32m~/SpatialPy/spatialpy/core/domain.py\u001b[0m in \u001b[0;36mapply_actions\u001b[0;34m(self, start, end, preserve_actions)\u001b[0m\n\u001b[1;32m    335\u001b[0m             \u001b[0;32mif\u001b[0m \u001b[0maction\u001b[0m\u001b[0;34m[\u001b[0m\u001b[0;34m'enable'\u001b[0m\u001b[0;34m]\u001b[0m\u001b[0;34m:\u001b[0m\u001b[0;34m\u001b[0m\u001b[0;34m\u001b[0m\u001b[0m\n\u001b[1;32m    336\u001b[0m                 \u001b[0;32mif\u001b[0m \u001b[0maction\u001b[0m\u001b[0;34m[\u001b[0m\u001b[0;34m'type'\u001b[0m\u001b[0;34m]\u001b[0m \u001b[0;34m==\u001b[0m \u001b[0;34m\"fill\"\u001b[0m\u001b[0;34m:\u001b[0m\u001b[0;34m\u001b[0m\u001b[0;34m\u001b[0m\u001b[0m\n\u001b[0;32m--> 337\u001b[0;31m                     \u001b[0mp_count\u001b[0m \u001b[0;34m+=\u001b[0m \u001b[0mself\u001b[0m\u001b[0;34m.\u001b[0m\u001b[0mapply_fill_action\u001b[0m\u001b[0;34m(\u001b[0m\u001b[0maction\u001b[0m\u001b[0;34m)\u001b[0m\u001b[0;34m\u001b[0m\u001b[0;34m\u001b[0m\u001b[0m\n\u001b[0m\u001b[1;32m    338\u001b[0m                 \u001b[0;32melif\u001b[0m \u001b[0maction\u001b[0m\u001b[0;34m[\u001b[0m\u001b[0;34m'type'\u001b[0m\u001b[0;34m]\u001b[0m \u001b[0;34m==\u001b[0m \u001b[0;34m\"set\"\u001b[0m\u001b[0;34m:\u001b[0m\u001b[0;34m\u001b[0m\u001b[0;34m\u001b[0m\u001b[0m\n\u001b[1;32m    339\u001b[0m                     \u001b[0mself\u001b[0m\u001b[0;34m.\u001b[0m\u001b[0mapply_set_action\u001b[0m\u001b[0;34m(\u001b[0m\u001b[0maction\u001b[0m\u001b[0;34m)\u001b[0m\u001b[0;34m\u001b[0m\u001b[0;34m\u001b[0m\u001b[0m\n",
      "\u001b[0;32m~/SpatialPy/spatialpy/core/domain.py\u001b[0m in \u001b[0;36mapply_fill_action\u001b[0;34m(self, action)\u001b[0m\n\u001b[1;32m    368\u001b[0m         \u001b[0mself\u001b[0m\u001b[0;34m.\u001b[0m\u001b[0mvalidate_action\u001b[0m\u001b[0;34m(\u001b[0m\u001b[0maction\u001b[0m\u001b[0;34m,\u001b[0m \u001b[0;34m\"fill\"\u001b[0m\u001b[0;34m)\u001b[0m\u001b[0;34m\u001b[0m\u001b[0;34m\u001b[0m\u001b[0m\n\u001b[1;32m    369\u001b[0m \u001b[0;34m\u001b[0m\u001b[0m\n\u001b[0;32m--> 370\u001b[0;31m         \u001b[0;32mreturn\u001b[0m \u001b[0maction\u001b[0m\u001b[0;34m[\u001b[0m\u001b[0;34m'lattice'\u001b[0m\u001b[0;34m]\u001b[0m\u001b[0;34m.\u001b[0m\u001b[0mapply\u001b[0m\u001b[0;34m(\u001b[0m\u001b[0mself\u001b[0m\u001b[0;34m,\u001b[0m \u001b[0maction\u001b[0m\u001b[0;34m[\u001b[0m\u001b[0;34m'geometry'\u001b[0m\u001b[0;34m]\u001b[0m\u001b[0;34m,\u001b[0m \u001b[0;34m**\u001b[0m\u001b[0maction\u001b[0m\u001b[0;34m[\u001b[0m\u001b[0;34m'props'\u001b[0m\u001b[0;34m]\u001b[0m\u001b[0;34m)\u001b[0m\u001b[0;34m\u001b[0m\u001b[0;34m\u001b[0m\u001b[0m\n\u001b[0m\u001b[1;32m    371\u001b[0m \u001b[0;34m\u001b[0m\u001b[0m\n\u001b[1;32m    372\u001b[0m     \u001b[0;32mdef\u001b[0m \u001b[0mapply_remove_action\u001b[0m\u001b[0;34m(\u001b[0m\u001b[0mself\u001b[0m\u001b[0;34m,\u001b[0m \u001b[0maction\u001b[0m\u001b[0;34m)\u001b[0m\u001b[0;34m:\u001b[0m\u001b[0;34m\u001b[0m\u001b[0;34m\u001b[0m\u001b[0m\n",
      "\u001b[0;32m~/SpatialPy/spatialpy/core/lattice.py\u001b[0m in \u001b[0;36mapply\u001b[0;34m(self, domain, geometry, transform, **kwargs)\u001b[0m\n\u001b[1;32m    468\u001b[0m         \u001b[0;32mif\u001b[0m \u001b[0;34m'vol'\u001b[0m \u001b[0;32mnot\u001b[0m \u001b[0;32min\u001b[0m \u001b[0mkwargs\u001b[0m\u001b[0;34m:\u001b[0m\u001b[0;34m\u001b[0m\u001b[0;34m\u001b[0m\u001b[0m\n\u001b[1;32m    469\u001b[0m             \u001b[0moffset\u001b[0m \u001b[0;34m=\u001b[0m \u001b[0mlen\u001b[0m\u001b[0;34m(\u001b[0m\u001b[0mdomain\u001b[0m\u001b[0;34m.\u001b[0m\u001b[0mvertices\u001b[0m\u001b[0;34m)\u001b[0m \u001b[0;34m-\u001b[0m \u001b[0mcount\u001b[0m\u001b[0;34m\u001b[0m\u001b[0;34m\u001b[0m\u001b[0m\n\u001b[0;32m--> 470\u001b[0;31m             \u001b[0mvol\u001b[0m \u001b[0;34m=\u001b[0m \u001b[0;36m4\u001b[0m \u001b[0;34m/\u001b[0m \u001b[0;36m3\u001b[0m \u001b[0;34m*\u001b[0m \u001b[0mnumpy\u001b[0m\u001b[0;34m.\u001b[0m\u001b[0mpi\u001b[0m \u001b[0;34m*\u001b[0m \u001b[0;34m(\u001b[0m\u001b[0mdeltas\u001b[0m \u001b[0;34m/\u001b[0m \u001b[0;36m2\u001b[0m\u001b[0;34m)\u001b[0m\u001b[0;34m**\u001b[0m\u001b[0;36m2\u001b[0m \u001b[0;34m*\u001b[0m \u001b[0;34m(\u001b[0m\u001b[0mdeltar\u001b[0m \u001b[0;34m/\u001b[0m \u001b[0;36m2\u001b[0m\u001b[0;34m)\u001b[0m\u001b[0;34m\u001b[0m\u001b[0;34m\u001b[0m\u001b[0m\n\u001b[0m\u001b[1;32m    471\u001b[0m             \u001b[0;32mfor\u001b[0m \u001b[0mi\u001b[0m \u001b[0;32min\u001b[0m \u001b[0mrange\u001b[0m\u001b[0;34m(\u001b[0m\u001b[0moffset\u001b[0m\u001b[0;34m,\u001b[0m \u001b[0moffset\u001b[0m \u001b[0;34m+\u001b[0m \u001b[0mcount\u001b[0m\u001b[0;34m)\u001b[0m\u001b[0;34m:\u001b[0m\u001b[0;34m\u001b[0m\u001b[0;34m\u001b[0m\u001b[0m\n\u001b[1;32m    472\u001b[0m                 \u001b[0mdomain\u001b[0m\u001b[0;34m.\u001b[0m\u001b[0mvol\u001b[0m\u001b[0;34m[\u001b[0m\u001b[0mi\u001b[0m\u001b[0;34m]\u001b[0m \u001b[0;34m=\u001b[0m \u001b[0mvol\u001b[0m\u001b[0;34m\u001b[0m\u001b[0;34m\u001b[0m\u001b[0m\n",
      "\u001b[0;31mNameError\u001b[0m: name 'deltas' is not defined"
     ]
    }
   ],
   "source": [
    "model = create_3D_cylinder_demo()"
   ]
  },
  {
   "cell_type": "markdown",
   "metadata": {},
   "source": [
    "Lets preview our domain since we loaded it from a file"
   ]
  },
  {
   "cell_type": "code",
   "execution_count": null,
   "metadata": {
    "scrolled": true
   },
   "outputs": [],
   "source": [
    "model.domain.plot_types(\n",
    "    # Set to True to use MatPlotLib plotting\n",
    "    use_matplotlib=True,\n",
    "    \n",
    "    # Set the width and height of the plot (for MatPlotLib these units are in inches)\n",
    "    width=15,\n",
    "    height=5\n",
    ")"
   ]
  },
  {
   "cell_type": "markdown",
   "metadata": {},
   "source": [
    "Lets look at it in a liitle more detail using plotly's 3D plotting"
   ]
  },
  {
   "cell_type": "code",
   "execution_count": null,
   "metadata": {},
   "outputs": [],
   "source": [
    "model.domain.plot_types(\n",
    "    # Set the width and height of the plot (for MatPlotLib these units are in pixles)\n",
    "    # width=auto defaults to 700, height=auto defaults to 450\n",
    "    width=\"auto\",\n",
    "    height=\"auto\"\n",
    ")"
   ]
  },
  {
   "cell_type": "markdown",
   "metadata": {},
   "source": [
    "***\n",
    "## Run the Simulation\n",
    "***"
   ]
  },
  {
   "cell_type": "code",
   "execution_count": null,
   "metadata": {
    "scrolled": false
   },
   "outputs": [],
   "source": [
    "results = model.run()"
   ]
  },
  {
   "cell_type": "markdown",
   "metadata": {},
   "source": [
    "***\n",
    "## Visualizations\n",
    "***\n",
    "Plot the results of the simulation.\n",
    "\n",
    "These plots tell us the accuracy of the simulation.  On the left is a plot of the population of both species over time.  You can see they are approaching steady-state levels as time goes on.  The plot on the left shows the time-averaged population over the space (i.e. the length of the cylinder along the x-axis). You can see that \"B\" is created on the left and \"A\" is created on the right, and the populations fall as you move towards the center of the cylinder.  At the center, the population is (almost) zero for both species, as they annihilate each other on contact. "
   ]
  },
  {
   "cell_type": "code",
   "execution_count": null,
   "metadata": {
    "scrolled": false,
    "tags": []
   },
   "outputs": [],
   "source": [
    "fig, (ax1, ax2) = plt.subplots(1, 2, figsize=(15, 4.5))\n",
    "\n",
    "tspan = results.get_timespan()\n",
    "A_sum = numpy.sum(results.get_species(\"A\"), axis=1)\n",
    "B_sum = numpy.sum(results.get_species(\"B\"), axis=1)\n",
    "\n",
    "ax1.plot(tspan, A_sum, '-r', label=\"A\")\n",
    "ax1.plot(tspan, B_sum, '-b', label=\"B\")\n",
    "ax1.set_xlabel(\"Time\", fontsize=14)\n",
    "ax1.tick_params(axis=\"x\", labelsize=12)\n",
    "ax1.tick_params(axis=\"y\", labelsize=12)\n",
    "_ = ax1.legend(loc='best')\n",
    "\n",
    "x_vals = results.model.domain.coordinates()[:, 0]\n",
    "A_vals = numpy.sum(results.get_species(\"A\"), axis=0)\n",
    "B_vals = numpy.sum(results.get_species(\"B\"), axis=0)\n",
    "\n",
    "ax2.plot(x_vals, A_vals, '.r')\n",
    "ax2.plot(x_vals, B_vals, '.b')\n",
    "ax2.set_xlabel(\"X-Coordinate\", fontsize=14)\n",
    "ax2.tick_params(axis=\"x\", labelsize=12)\n",
    "ax2.tick_params(axis=\"y\", labelsize=12)\n",
    "_ = ax2.legend(['A', 'B'], loc='best')"
   ]
  },
  {
   "cell_type": "markdown",
   "metadata": {},
   "source": [
    "There are a multitude of arguments that can be set to tweak the behavior and visuals of the plot. \n",
    "For now though, lets plot the populations of `A` and `B` at the end of the simulation using MatPlotLib. Multiple species must be plotted separately."
   ]
  },
  {
   "cell_type": "code",
   "execution_count": null,
   "metadata": {
    "scrolled": false
   },
   "outputs": [],
   "source": [
    "results.plot_species(\"A\", t_val=500, deterministic=True, use_matplotlib=True, width=15)\n",
    "results.plot_species(\"B\", t_val=500, deterministic=True, use_matplotlib=True, width=15)"
   ]
  },
  {
   "cell_type": "markdown",
   "metadata": {},
   "source": [
    "Lets look at these in more detail using plotly's 3D plotting"
   ]
  },
  {
   "cell_type": "code",
   "execution_count": null,
   "metadata": {},
   "outputs": [],
   "source": [
    "results.plot_species(\"A\", t_val=500, deterministic=True, width=\"auto\")\n",
    "results.plot_species(\"B\", t_val=500, deterministic=True, width=\"auto\")"
   ]
  },
  {
   "cell_type": "markdown",
   "metadata": {},
   "source": [
    "A more complete list of `results.plot_property()` arguments can be found in the [documentation](https://stochss.github.io/SpatialPy/docs/build/html/classes/spatialpy.core.html#spatialpy.core.result.Result.plot_species)."
   ]
  },
  {
   "cell_type": "code",
   "execution_count": null,
   "metadata": {},
   "outputs": [],
   "source": [
    "fig, (ax1, ax2) = plt.subplots(1, 2, figsize=(15, 4.5))\n",
    "\n",
    "tspan = results.get_timespan()\n",
    "A_sum = numpy.sum(results.get_species(\"A\", deterministic=True), axis=1)\n",
    "B_sum = numpy.sum(results.get_species(\"B\", deterministic=True), axis=1)\n",
    "\n",
    "ax1.plot(tspan, A_sum, '-r', label=\"A\")\n",
    "ax1.plot(tspan, B_sum, '-b', label=\"B\")\n",
    "ax1.set_xlabel(\"Time\", fontsize=14)\n",
    "ax1.tick_params(axis=\"x\", labelsize=12)\n",
    "ax1.tick_params(axis=\"y\", labelsize=12)\n",
    "_ = ax1.legend(loc='best')\n",
    "\n",
    "x_vals = results.model.domain.coordinates()[:, 0]\n",
    "A_vals = numpy.sum(results.get_species(\"A\", deterministic=True), axis=0)\n",
    "B_vals = numpy.sum(results.get_species(\"B\", deterministic=True), axis=0)\n",
    "\n",
    "ax2.plot(x_vals, A_vals, '.r')\n",
    "ax2.plot(x_vals, B_vals, '.b')\n",
    "ax2.set_xlabel(\"X-Coordinate\", fontsize=14)\n",
    "ax2.tick_params(axis=\"x\", labelsize=12)\n",
    "ax2.tick_params(axis=\"y\", labelsize=12)\n",
    "_ = ax2.legend(['A', 'B'], loc='best')"
   ]
  },
  {
   "cell_type": "code",
   "execution_count": null,
   "metadata": {},
   "outputs": [],
   "source": [
    "model.domain.typeNdxMapping"
   ]
  },
  {
   "cell_type": "code",
   "execution_count": null,
   "metadata": {},
   "outputs": [],
   "source": []
  }
 ],
 "metadata": {
  "@webio": {
   "lastCommId": null,
   "lastKernelId": null
  },
  "kernelspec": {
   "display_name": "Python 3 (ipykernel)",
   "language": "python",
   "name": "python3"
  },
  "language_info": {
   "codemirror_mode": {
    "name": "ipython",
    "version": 3
   },
   "file_extension": ".py",
   "mimetype": "text/x-python",
   "name": "python",
   "nbconvert_exporter": "python",
   "pygments_lexer": "ipython3",
   "version": "3.9.9"
  }
 },
 "nbformat": 4,
 "nbformat_minor": 2
}

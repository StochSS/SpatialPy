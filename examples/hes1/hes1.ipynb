{
 "cells": [
  {
   "cell_type": "markdown",
   "metadata": {},
   "source": [
    "# Spatial Stochastic Simulation with SpatialPy"
   ]
  },
  {
   "cell_type": "markdown",
   "metadata": {},
   "source": [
    "## Definition of the model"
   ]
  },
  {
   "cell_type": "markdown",
   "metadata": {},
   "source": [
    "Here we illustrate how to implement the model describet in [Sturrock M, Hellander A, Matzavinos A, Chaplain MAJ. 2013 Spatial stochastic modelling of the Hes1 gene regulatory network: intrinsic noise can explain heterogeneity in embryonic stem cell differentiation. J R Soc Interface 10:20120988]"
   ]
  },
  {
   "cell_type": "markdown",
   "metadata": {},
   "source": [
    "You may need to install specific version to get this notebook to work:\n",
    "\n",
    "python3 -m pip install meshio==2.3.10\n",
    "\n",
    "python3 -m pip install pygmsh==5.0.2"
   ]
  },
  {
   "cell_type": "markdown",
   "metadata": {},
   "source": [
    "### Imports and definitions"
   ]
  },
  {
   "cell_type": "code",
   "execution_count": 1,
   "metadata": {},
   "outputs": [],
   "source": [
    "%matplotlib inline\n",
    "\n",
    "import os\n",
    "import sys\n",
    "sys.path.insert(1, \"../..\")\n",
    "import numpy as np\n",
    "import matplotlib.pyplot as plt\n",
    "\n",
    "import spatialpy"
   ]
  },
  {
   "cell_type": "code",
   "execution_count": 2,
   "metadata": {},
   "outputs": [],
   "source": [
    "class Nucleus(spatialpy.Geometry):\n",
    "    def inside(self, x, on_boundary):\n",
    "        return x[0]**2 + x[1]**2 + x[2]**2 <= 3**2"
   ]
  },
  {
   "cell_type": "code",
   "execution_count": 3,
   "metadata": {},
   "outputs": [],
   "source": [
    "class Cytoplasm(spatialpy.Geometry):\n",
    "    def inside(self, x, on_boundary):\n",
    "        return x[0]**2 + x[1]**2 + x[2]**2 > 3**2"
   ]
  },
  {
   "cell_type": "markdown",
   "metadata": {},
   "source": [
    "### Model"
   ]
  },
  {
   "cell_type": "code",
   "execution_count": 4,
   "metadata": {},
   "outputs": [],
   "source": [
    "class hes1(spatialpy.Model):\n",
    "    def __init__(self, model_name=\"hes1\"):\n",
    "        spatialpy.Model.__init__(self, model_name)\n",
    "\n",
    "        #Species\n",
    "        Pf = spatialpy.Species(name=\"Pf\", diffusion_constant=0)\n",
    "        Po = spatialpy.Species(name=\"Po\", diffusion_constant=0)\n",
    "        mRNA = spatialpy.Species(name=\"mRNA\", diffusion_constant=6e-1)\n",
    "        protein = spatialpy.Species(name=\"protein\", diffusion_constant=6e-1)\n",
    "        self.add_species([Pf, Po, mRNA, protein])\n",
    "        \n",
    "        #Restrict to promoter_site\n",
    "        self.restrict(Pf, 3)\n",
    "        self.restrict(Po, 3)\n",
    "        \n",
    "        #Domain\n",
    "        self.domain = spatialpy.Domain.read_msh_file(\"mesh/cell.msh\")\n",
    "        \n",
    "        #Types\n",
    "        self.set_type(Cytoplasm(), 1)\n",
    "        self.set_type(Nucleus(), 2)\n",
    "        # promoter site\n",
    "        self.domain.type[self.domain.closest_vertex([0]*3)] = 3\n",
    "\n",
    "        #Parameters\n",
    "        k1 = spatialpy.Parameter(name=\"k1\", expression=1e9)\n",
    "        k2 = spatialpy.Parameter(name=\"k2\", expression=0.1)\n",
    "        alpha_m = spatialpy.Parameter(name=\"alpha_m\", expression=3)\n",
    "        alpha_m_gamma = spatialpy.Parameter(name=\"alpha_m_gamma\", expression=0.1)\n",
    "        alpha_p = spatialpy.Parameter(name=\"alpha_p\", expression=1)\n",
    "        mu_m = spatialpy.Parameter(name=\"mu_m\", expression=0.015)\n",
    "        mu_p = spatialpy.Parameter(name=\"mu_p\", expression=0.043)\n",
    "        self.add_parameter([k1, k2, alpha_m, alpha_m_gamma, alpha_p, mu_m, mu_p])\n",
    "\n",
    "\n",
    "        #Reactions\n",
    "        R1 = spatialpy.Reaction(name=\"R1\", rate=k1, restrict_to=3,\n",
    "                                reactants={Pf:1,protein:1}, products={Po:1})\n",
    "        R2 = spatialpy.Reaction(name=\"R2\", rate=k2, restrict_to=3,\n",
    "                                reactants={Po:1}, products={Pf:1,protein:1})\n",
    "        R3 = spatialpy.Reaction(name=\"R3\", rate=alpha_m, restrict_to=3,\n",
    "                                reactants={Pf:1}, products={Pf:1,mRNA:1})\n",
    "        R4 = spatialpy.Reaction(name=\"R4\", rate=alpha_m_gamma, restrict_to=3,\n",
    "                                reactants={Po:1}, products={Po:1,mRNA:1})\n",
    "        R5 = spatialpy.Reaction(name=\"R5\", rate=alpha_p, restrict_to=1,\n",
    "                                reactants={mRNA:1}, products={mRNA:1,protein:1})\n",
    "        R6 = spatialpy.Reaction(name=\"R6\", rate=mu_m, reactants={mRNA:1})\n",
    "        R7 = spatialpy.Reaction(name=\"R7\", rate=mu_p, reactants={protein:1})\n",
    "        self.add_reaction([R1, R2, R3, R4, R5, R6, R7])\n",
    "\n",
    "        #Initail Conditions\n",
    "        self.add_initial_condition(spatialpy.ScatterInitialCondition(Pf, 1, types=[3]))\n",
    "        self.add_initial_condition(spatialpy.ScatterInitialCondition(protein, 60, types=[1]))\n",
    "        self.add_initial_condition(spatialpy.ScatterInitialCondition(mRNA, 10, types=[2]))\n",
    "        \n",
    "        self.timespan(range(1200), timestep_size=1)\n",
    "        #self.timespan(range(200), timestep_size=1)"
   ]
  },
  {
   "cell_type": "code",
   "execution_count": 5,
   "metadata": {},
   "outputs": [],
   "source": [
    "model = hes1()"
   ]
  },
  {
   "cell_type": "markdown",
   "metadata": {},
   "source": [
    "## Running the model and processing the results"
   ]
  },
  {
   "cell_type": "code",
   "execution_count": 6,
   "metadata": {},
   "outputs": [
    {
     "name": "stdout",
     "output_type": "stream",
     "text": [
      "CPU times: user 2.61 s, sys: 7.8 ms, total: 2.61 s\n",
      "Wall time: 9.8 s\n",
      "/tmp/spatialpy_build_i4ralef_\n"
     ]
    }
   ],
   "source": [
    "from spatialpy import Solver\n",
    "sol = Solver(model, debug_level=0)\n",
    "%time sol.compile()\n",
    "print(sol.build_dir)"
   ]
  },
  {
   "cell_type": "code",
   "execution_count": 7,
   "metadata": {},
   "outputs": [
    {
     "name": "stdout",
     "output_type": "stream",
     "text": [
      "CPU times: user 7.12 ms, sys: 91 µs, total: 7.21 ms\n",
      "Wall time: 51.8 s\n"
     ]
    }
   ],
   "source": [
    "#%time result = model.run(debug_level=0)\n",
    "%time result = sol.run()"
   ]
  },
  {
   "cell_type": "markdown",
   "metadata": {},
   "source": [
    "### Plot the evolution of the copy number of a given species"
   ]
  },
  {
   "cell_type": "code",
   "execution_count": 8,
   "metadata": {},
   "outputs": [
    {
     "data": {
      "text/plain": [
       "<matplotlib.legend.Legend at 0x7faf88298e20>"
      ]
     },
     "execution_count": 8,
     "metadata": {},
     "output_type": "execute_result"
    },
    {
     "data": {
      "image/png": "[encoded data removed]",
      "text/plain": [
       "<Figure size 432x288 with 1 Axes>"
      ]
     },
     "metadata": {
      "needs_background": "light"
     },
     "output_type": "display_data"
    }
   ],
   "source": [
    "protein = result.get_species(\"protein\")\n",
    "proteinsum = np.sum(protein,axis=1)\n",
    "plt.plot(model.tspan,proteinsum,'r', label='protein')\n",
    "mRNA = result.get_species(\"mRNA\")\n",
    "mRNAsum=np.sum(mRNA[:],axis=1)\n",
    "plt.plot(model.tspan,mRNAsum,'b', label='mRNA')\n",
    "plt.legend(loc='best')"
   ]
  },
  {
   "cell_type": "code",
   "execution_count": 9,
   "metadata": {},
   "outputs": [
    {
     "data": {
      "text/plain": [
       "<matplotlib.legend.Legend at 0x7faf88039070>"
      ]
     },
     "execution_count": 9,
     "metadata": {},
     "output_type": "execute_result"
    },
    {
     "data": {
      "image/png": "[encoded data removed]",
      "text/plain": [
       "<Figure size 432x288 with 1 Axes>"
      ]
     },
     "metadata": {
      "needs_background": "light"
     },
     "output_type": "display_data"
    }
   ],
   "source": [
    "pf = np.sum(result.get_species(\"Pf\"),axis=1)\n",
    "po = np.sum(result.get_species(\"Po\"),axis=1)\n",
    "plt.plot(model.tspan,pf,'r',label=\"Pf\")\n",
    "plt.plot(model.tspan,po,'b',label=\"Po\")\n",
    "plt.legend(loc=\"best\")"
   ]
  },
  {
   "cell_type": "code",
   "execution_count": 10,
   "metadata": {},
   "outputs": [],
   "source": [
    "coords = model.domain.coordinates()"
   ]
  },
  {
   "cell_type": "code",
   "execution_count": 11,
   "metadata": {},
   "outputs": [
    {
     "data": {
      "text/plain": [
       "array([[ 7.5       ,  0.        ,  0.        ],\n",
       "       [ 0.        ,  7.5       ,  0.        ],\n",
       "       [-7.5       ,  0.        ,  0.        ],\n",
       "       ...,\n",
       "       [ 1.72886693, -2.78580451,  3.56650805],\n",
       "       [ 3.00733542, -1.50733578, -4.10430431],\n",
       "       [-3.38500762, -1.50733578,  3.56650805]])"
      ]
     },
     "execution_count": 11,
     "metadata": {},
     "output_type": "execute_result"
    }
   ],
   "source": [
    "coords"
   ]
  },
  {
   "cell_type": "code",
   "execution_count": 12,
   "metadata": {},
   "outputs": [],
   "source": [
    "import scipy"
   ]
  },
  {
   "cell_type": "code",
   "execution_count": 16,
   "metadata": {},
   "outputs": [],
   "source": [
    "r_vals = scipy.linalg.norm(coords,axis=1)"
   ]
  },
  {
   "cell_type": "code",
   "execution_count": 14,
   "metadata": {},
   "outputs": [],
   "source": [
    "?scipy.linalg.norm"
   ]
  },
  {
   "cell_type": "code",
   "execution_count": 107,
   "metadata": {},
   "outputs": [
    {
     "data": {
      "image/png": "[encoded data removed]",
      "text/plain": [
       "<Figure size 432x288 with 1 Axes>"
      ]
     },
     "metadata": {
      "needs_background": "light"
     },
     "output_type": "display_data"
    }
   ],
   "source": [
    "plt.plot(r_vals,protein[t,:],'.b')\n",
    "plt.plot(r_vals,mRNA[t,:],'.r')\n",
    "plt.title(f\"t={t}\")\n",
    "t=t+1"
   ]
  },
  {
   "cell_type": "code",
   "execution_count": 112,
   "metadata": {},
   "outputs": [
    {
     "data": {
      "image/png": "[encoded data removed]",
      "text/plain": [
       "<Figure size 432x288 with 1 Axes>"
      ]
     },
     "metadata": {
      "needs_background": "light"
     },
     "output_type": "display_data"
    },
    {
     "data": {
      "image/png": "[encoded data removed]",
      "text/plain": [
       "<Figure size 432x288 with 1 Axes>"
      ]
     },
     "metadata": {
      "needs_background": "light"
     },
     "output_type": "display_data"
    },
    {
     "data": {
      "image/png": "[encoded data removed]",
      "text/plain": [
       "<Figure size 432x288 with 1 Axes>"
      ]
     },
     "metadata": {
      "needs_background": "light"
     },
     "output_type": "display_data"
    },
    {
     "data": {
      "image/png": "[encoded data removed]",
      "text/plain": [
       "<Figure size 432x288 with 1 Axes>"
      ]
     },
     "metadata": {
      "needs_background": "light"
     },
     "output_type": "display_data"
    }
   ],
   "source": [
    "for t in [0,200,600,1199]:\n",
    "    plt.figure()\n",
    "    plt.plot(r_vals,protein[t,:],'.r',label=\"Protein\")\n",
    "    plt.plot(r_vals,mRNA[t,:],'.b',label=\"mRNA\")\n",
    "    plt.title(f\"t={t}\")"
   ]
  },
  {
   "cell_type": "code",
   "execution_count": null,
   "metadata": {},
   "outputs": [],
   "source": []
  }
 ],
 "metadata": {
  "kernelspec": {
   "display_name": "Python 3",
   "language": "python",
   "name": "python3"
  },
  "language_info": {
   "codemirror_mode": {
    "name": "ipython",
    "version": 3
   },
   "file_extension": ".py",
   "mimetype": "text/x-python",
   "name": "python",
   "nbconvert_exporter": "python",
   "pygments_lexer": "ipython3",
   "version": "3.8.10"
  }
 },
 "nbformat": 4,
 "nbformat_minor": 5
}

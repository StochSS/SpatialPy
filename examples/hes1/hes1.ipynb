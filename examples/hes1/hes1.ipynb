{
 "cells": [
  {
   "cell_type": "markdown",
   "metadata": {},
   "source": [
    "# Spatial Stochastic Simulation with SpatialPy"
   ]
  },
  {
   "cell_type": "markdown",
   "metadata": {},
   "source": [
    "## Definition of the model"
   ]
  },
  {
   "cell_type": "markdown",
   "metadata": {},
   "source": [
    "Here we illustrate how to implement the model describet in [Sturrock M, Hellander A, Matzavinos A, Chaplain MAJ. 2013 Spatial stochastic modelling of the Hes1 gene regulatory network: intrinsic noise can explain heterogeneity in embryonic stem cell differentiation. J R Soc Interface 10:20120988]"
   ]
  },
  {
   "cell_type": "markdown",
   "metadata": {},
   "source": [
    "You may need to install specific version to get this notebook to work:\n",
    "\n",
    "python3 -m pip install meshio==2.3.10\n",
    "\n",
    "python3 -m pip install pygmsh==5.0.2"
   ]
  },
  {
   "cell_type": "markdown",
   "metadata": {},
   "source": [
    "### Imports and definitions"
   ]
  },
  {
   "cell_type": "code",
   "execution_count": 1,
   "metadata": {},
   "outputs": [],
   "source": [
    "%matplotlib inline\n",
    "\n",
    "import os\n",
    "import sys\n",
    "sys.path.insert(1, \"../..\")\n",
    "import numpy as np\n",
    "import matplotlib.pyplot as plt\n",
    "\n",
    "import spatialpy"
   ]
  },
  {
   "cell_type": "code",
   "execution_count": 2,
   "metadata": {},
   "outputs": [],
   "source": [
    "class Nucleus(spatialpy.Geometry):\n",
    "    def inside(self, x, on_boundary):\n",
    "        return x[0]**2 + x[1]**2 + x[2]**2 <= 3**2"
   ]
  },
  {
   "cell_type": "code",
   "execution_count": 3,
   "metadata": {},
   "outputs": [],
   "source": [
    "class Cytoplasm(spatialpy.Geometry):\n",
    "    def inside(self, x, on_boundary):\n",
    "        return x[0]**2 + x[1]**2 + x[2]**2 > 3**2"
   ]
  },
  {
   "cell_type": "markdown",
   "metadata": {},
   "source": [
    "### Model"
   ]
  },
  {
   "cell_type": "code",
   "execution_count": 4,
   "metadata": {},
   "outputs": [],
   "source": [
    "class hes1(spatialpy.Model):\n",
    "    def __init__(self, model_name=\"hes1\"):\n",
    "        spatialpy.Model.__init__(self, model_name)\n",
    "\n",
    "        #Species\n",
    "        Pf = spatialpy.Species(name=\"Pf\", diffusion_constant=0)\n",
    "        Po = spatialpy.Species(name=\"Po\", diffusion_constant=0)\n",
    "        mRNA = spatialpy.Species(name=\"mRNA\", diffusion_constant=6e-1)\n",
    "        protein = spatialpy.Species(name=\"protein\", diffusion_constant=6e-1)\n",
    "        self.add_species([Pf, Po, mRNA, protein])\n",
    "        \n",
    "        #Restrict to promoter_site\n",
    "        self.restrict(Pf, 3)\n",
    "        self.restrict(Po, 3)\n",
    "        \n",
    "        #Domain\n",
    "        self.domain = spatialpy.Domain.read_msh_file(\"mesh/cell.msh\")\n",
    "        \n",
    "        #Types\n",
    "        self.set_type(Cytoplasm(), 1)\n",
    "        self.set_type(Nucleus(), 2)\n",
    "        # promoter site\n",
    "        self.domain.type[self.domain.closest_vertex([0]*3)] = 3\n",
    "\n",
    "        #Parameters\n",
    "        k1 = spatialpy.Parameter(name=\"k1\", expression=1e9)\n",
    "        k2 = spatialpy.Parameter(name=\"k2\", expression=0.1)\n",
    "        alpha_m = spatialpy.Parameter(name=\"alpha_m\", expression=3)\n",
    "        alpha_m_gamma = spatialpy.Parameter(name=\"alpha_m_gamma\", expression=0.1)\n",
    "        alpha_p = spatialpy.Parameter(name=\"alpha_p\", expression=1)\n",
    "        mu_m = spatialpy.Parameter(name=\"mu_m\", expression=0.015)\n",
    "        mu_p = spatialpy.Parameter(name=\"mu_p\", expression=0.043)\n",
    "        self.add_parameter([k1, k2, alpha_m, alpha_m_gamma, alpha_p, mu_m, mu_p])\n",
    "\n",
    "\n",
    "        #Reactions\n",
    "        R1 = spatialpy.Reaction(name=\"R1\", rate=k1, restrict_to=3,\n",
    "                                reactants={Pf:1,protein:1}, products={Po:1})\n",
    "        R2 = spatialpy.Reaction(name=\"R2\", rate=k2, restrict_to=3,\n",
    "                                reactants={Po:1}, products={Pf:1,protein:1})\n",
    "        R3 = spatialpy.Reaction(name=\"R3\", rate=alpha_m, restrict_to=3,\n",
    "                                reactants={Pf:1}, products={Pf:1,mRNA:1})\n",
    "        R4 = spatialpy.Reaction(name=\"R4\", rate=alpha_m_gamma, restrict_to=3,\n",
    "                                reactants={Po:1}, products={Po:1,mRNA:1})\n",
    "        R5 = spatialpy.Reaction(name=\"R5\", rate=alpha_p, restrict_to=1,\n",
    "                                reactants={mRNA:1}, products={mRNA:1,protein:1})\n",
    "        R6 = spatialpy.Reaction(name=\"R6\", rate=mu_m, reactants={mRNA:1})\n",
    "        R7 = spatialpy.Reaction(name=\"R7\", rate=mu_p, reactants={protein:1})\n",
    "        self.add_reaction([R1, R2, R3, R4, R5, R6, R7])\n",
    "\n",
    "        #Initail Conditions\n",
    "        self.add_initial_condition(spatialpy.ScatterInitialCondition(Pf, 1, types=[3]))\n",
    "        self.add_initial_condition(spatialpy.ScatterInitialCondition(protein, 60, types=[1]))\n",
    "        self.add_initial_condition(spatialpy.ScatterInitialCondition(mRNA, 10, types=[2]))\n",
    "        \n",
    "        self.timespan(range(1200))"
   ]
  },
  {
   "cell_type": "code",
   "execution_count": 5,
   "metadata": {},
   "outputs": [],
   "source": [
    "model = hes1()"
   ]
  },
  {
   "cell_type": "markdown",
   "metadata": {},
   "source": [
    "## Running the model and processing the results"
   ]
  },
  {
   "cell_type": "code",
   "execution_count": 6,
   "metadata": {},
   "outputs": [
    {
     "name": "stdout",
     "output_type": "stream",
     "text": [
      "Compiling Solver.  Build dir: /tmp/spatialpy_build_a5wwrh4a\n",
      "Creating propensity file /tmp/spatialpy_build_a5wwrh4a/hes1_generated_model.c\n",
      "cmd: cd /tmp/spatialpy_core/brian && make CORE -f /home/brian/Desktop/research/SpatialPy/spatialpy/ssa_sdpd-c-simulation-engine/build/Makefile ROOT=\"/home/brian/Desktop/research/SpatialPy/spatialpy/ssa_sdpd-c-simulation-engine\" ROOTINC=\"/home/brian/Desktop/research/SpatialPy/spatialpy/ssa_sdpd-c-simulation-engine\" BUILD=/tmp/spatialpy_core/brian &&cd /tmp/spatialpy_build_a5wwrh4a && make -I /tmp/spatialpy_core/brian -f /home/brian/Desktop/research/SpatialPy/spatialpy/ssa_sdpd-c-simulation-engine/build/Makefile ROOT=\"/home/brian/Desktop/research/SpatialPy/spatialpy/ssa_sdpd-c-simulation-engine\" ROOTINC=\"/home/brian/Desktop/research/SpatialPy/spatialpy/ssa_sdpd-c-simulation-engine\" COREDIR=\"/tmp/spatialpy_core/brian\" MODEL=/tmp/spatialpy_build_a5wwrh4a/hes1_generated_model.c BUILD=/tmp/spatialpy_build_a5wwrh4a\n",
      "\n",
      "make -f /home/brian/Desktop/research/SpatialPy/spatialpy/ssa_sdpd-c-simulation-engine/external/ANN/src/Makefile.spatialpy ROOTINC=/home/brian/Desktop/research/SpatialPy/spatialpy/ssa_sdpd-c-simulation-engine\n",
      "make[1]: Entering directory '/tmp/spatialpy_core/brian'\n",
      "make[1]: Nothing to be done for 'default'.\n",
      "make[1]: Leaving directory '/tmp/spatialpy_core/brian'\n",
      "g++ -c   -o main.o /tmp/spatialpy_build_a5wwrh4a/hes1_generated_model.c -I/home/brian/Desktop/research/SpatialPy/spatialpy/ssa_sdpd-c-simulation-engine/include/ -I/home/brian/Desktop/research/SpatialPy/spatialpy/ssa_sdpd-c-simulation-engine/external/ -I/home/brian/Desktop/research/SpatialPy/spatialpy/ssa_sdpd-c-simulation-engine/external/ANN/include/ -c -std=c++14 -Wall -O3\n",
      "g++   -o ssa_sdpd /tmp/spatialpy_core/brian/NRMConstant_v5.o /tmp/spatialpy_core/brian/particle.o /tmp/spatialpy_core/brian/simulate.o /tmp/spatialpy_core/brian/count_cores.o /tmp/spatialpy_core/brian/output.o /tmp/spatialpy_core/brian/simulate_rdme.o /tmp/spatialpy_core/brian/simulate_threads.o /tmp/spatialpy_core/brian/model.o /tmp/spatialpy_core/brian/pthread_barrier.o  main.o /tmp/spatialpy_core/brian/ANN.o /tmp/spatialpy_core/brian/brute.o /tmp/spatialpy_core/brian/kd_tree.o /tmp/spatialpy_core/brian/kd_util.o /tmp/spatialpy_core/brian/kd_split.o /tmp/spatialpy_core/brian/kd_dump.o /tmp/spatialpy_core/brian/kd_search.o /tmp/spatialpy_core/brian/kd_pr_search.o /tmp/spatialpy_core/brian/kd_fix_rad_search.o /tmp/spatialpy_core/brian/bd_tree.o /tmp/spatialpy_core/brian/bd_search.o /tmp/spatialpy_core/brian/bd_pr_search.o /tmp/spatialpy_core/brian/bd_fix_rad_search.o /tmp/spatialpy_core/brian/perf.o -pthread -lm\n",
      "\n",
      "cmd: cd /tmp/spatialpy_result_y62bum9b;/tmp/spatialpy_build_a5wwrh4a/ssa_sdpd\n",
      "\n",
      "initialize_rdme()\n",
      "Creating 8 simulation threads\n",
      "Creating thread to process 1377 particles\n",
      "Creating thread to process 1377 particles\n",
      "[WORKER 0] waiting to begin step 0\n",
      "Creating thread to process 1377 particles\n",
      "[WORKER 1] waiting to begin step 0\n",
      "Creating thread to process 1377 particles\n",
      "[WORKER 2] waiting to begin step 0\n",
      "Creating thread to process 1377 particles\n",
      "[WORKER 3] waiting to begin step 0\n",
      "Creating thread to process 1377 particles\n",
      "[WORKER 4] waiting to begin step 0\n",
      "Creating thread to process 1377 particles\n",
      "[WORKER 5] waiting to begin step 0\n",
      "Creating thread to process 1380 particles\n",
      "[WORKER 6] waiting to begin step 0\n",
      "Creating thread to update sort index\n",
      "[WORKER 7] waiting to begin step 0\n",
      "Creating thread to create output files\n",
      "[0] Starting the Sort Index threads\n",
      "[0] Starting the Output threads\n",
      "[SORT] begin sort\n",
      "\tstarting buildKDTree()\n",
      "\tsystem->particles.size()\n",
      "\tannAllocPts()\n",
      "[OUT] start output_vtk__sync_step()\n",
      "\tsystem->kdTree = new ANNkd_tree()\n",
      "[OUT] done output_vtk__sync_step()\n",
      "[OUT] start output_vtk__async_step()\n",
      "Writing file 'output0_boundingBox.vtk'\n",
      "[0] Output threads finished\n",
      "Writing file 'output0.vtk'\n",
      "[SORT] sort complete\n",
      "[0] Sort Index threads finished\n",
      "[0] Starting the Worker threads\n",
      "Got NaN calculating D_i_j for me=4131, neighbor=4033\n",
      "system->dimension=3 r2=1.482896e-01 r2_old=1.482896e-01 r=3.850839e-01 h=1.406316e+00 alpha=7.510532e-01 dWdr=-9.253895e-01 mass=0.000000e+00 rho=0.000000e+00 n->mass=0.000000e+00 n->rho=0.000000e+00 x=[8.471500e-01,-4.209340e+00,-6.149292e+00] n->x=[1.174705e+00,-4.020204e+00,-6.221578e+00] Got NaN calculating D_i_j for me=1377, neighbor=2159\n",
      "system->dimension=3 r2=1.742622e-01 r2_old=1.742622e-01 r=4.174472e-01 h=1.406316e+00 alpha=7.510532e-01 dWdr=-9.405875e-01 mass=0.000000e+00 rho=0.000000e+00 n->mass=0.000000e+00 n->rho=0.000000e+00 x=[3.773090e+00,1.865559e+00] Elapsed seconds: 0.03\n",
      "solver_cmd = cd /tmp/spatialpy_result_y62bum9b;/tmp/spatialpy_build_a5wwrh4a/ssa_sdpd\n"
     ]
    },
    {
     "ename": "SimulationError",
     "evalue": "Solver execution failed, return code = 1",
     "output_type": "error",
     "traceback": [
      "\u001b[0;31m---------------------------------------------------------------------------\u001b[0m",
      "\u001b[0;31mSimulationError\u001b[0m                           Traceback (most recent call last)",
      "\u001b[0;32m<timed exec>\u001b[0m in \u001b[0;36m<module>\u001b[0;34m\u001b[0m\n",
      "\u001b[0;32m~/Desktop/research/SpatialPy/examples/hes1/../../spatialpy/Model.py\u001b[0m in \u001b[0;36mrun\u001b[0;34m(self, number_of_trajectories, seed, timeout, number_of_threads, debug_level, debug, profile)\u001b[0m\n\u001b[1;32m    140\u001b[0m         \u001b[0msol\u001b[0m \u001b[0;34m=\u001b[0m \u001b[0mSolver\u001b[0m\u001b[0;34m(\u001b[0m\u001b[0mself\u001b[0m\u001b[0;34m,\u001b[0m \u001b[0mdebug_level\u001b[0m\u001b[0;34m=\u001b[0m\u001b[0mdebug_level\u001b[0m\u001b[0;34m)\u001b[0m\u001b[0;34m\u001b[0m\u001b[0;34m\u001b[0m\u001b[0m\n\u001b[1;32m    141\u001b[0m \u001b[0;34m\u001b[0m\u001b[0m\n\u001b[0;32m--> 142\u001b[0;31m         return sol.run(number_of_trajectories=number_of_trajectories, seed=seed, timeout=timeout,\n\u001b[0m\u001b[1;32m    143\u001b[0m                        number_of_threads=number_of_threads, debug=debug, profile=profile)\n\u001b[1;32m    144\u001b[0m \u001b[0;34m\u001b[0m\u001b[0m\n",
      "\u001b[0;32m~/Desktop/research/SpatialPy/examples/hes1/../../spatialpy/Solver.py\u001b[0m in \u001b[0;36mrun\u001b[0;34m(self, number_of_trajectories, seed, timeout, number_of_threads, debug, profile, verbose)\u001b[0m\n\u001b[1;32m    241\u001b[0m             \u001b[0;32mif\u001b[0m \u001b[0mreturn_code\u001b[0m \u001b[0;32mis\u001b[0m \u001b[0;32mnot\u001b[0m \u001b[0;32mNone\u001b[0m \u001b[0;32mand\u001b[0m \u001b[0mreturn_code\u001b[0m \u001b[0;34m!=\u001b[0m \u001b[0;36m0\u001b[0m\u001b[0;34m:\u001b[0m\u001b[0;34m\u001b[0m\u001b[0;34m\u001b[0m\u001b[0m\n\u001b[1;32m    242\u001b[0m                 \u001b[0mprint\u001b[0m\u001b[0;34m(\u001b[0m\u001b[0;34m\"solver_cmd = {0}\"\u001b[0m\u001b[0;34m.\u001b[0m\u001b[0mformat\u001b[0m\u001b[0;34m(\u001b[0m\u001b[0msolver_cmd\u001b[0m\u001b[0;34m)\u001b[0m\u001b[0;34m)\u001b[0m\u001b[0;34m\u001b[0m\u001b[0;34m\u001b[0m\u001b[0m\n\u001b[0;32m--> 243\u001b[0;31m                 raise SimulationError(\n\u001b[0m\u001b[1;32m    244\u001b[0m                     \"Solver execution failed, return code = {0}\".format(return_code))\n\u001b[1;32m    245\u001b[0m \u001b[0;34m\u001b[0m\u001b[0m\n",
      "\u001b[0;31mSimulationError\u001b[0m: Solver execution failed, return code = 1"
     ]
    }
   ],
   "source": [
    "%time result = model.run(debug_level=2)"
   ]
  },
  {
   "cell_type": "markdown",
   "metadata": {},
   "source": [
    "### Plot the evolution of the copy number of a given species"
   ]
  },
  {
   "cell_type": "code",
   "execution_count": 7,
   "metadata": {},
   "outputs": [
    {
     "ename": "NameError",
     "evalue": "name 'result' is not defined",
     "output_type": "error",
     "traceback": [
      "\u001b[0;31m---------------------------------------------------------------------------\u001b[0m",
      "\u001b[0;31mNameError\u001b[0m                                 Traceback (most recent call last)",
      "\u001b[0;32m<ipython-input-7-8c788ec27b3f>\u001b[0m in \u001b[0;36m<module>\u001b[0;34m\u001b[0m\n\u001b[0;32m----> 1\u001b[0;31m \u001b[0mprotein\u001b[0m \u001b[0;34m=\u001b[0m \u001b[0mresult\u001b[0m\u001b[0;34m.\u001b[0m\u001b[0mget_species\u001b[0m\u001b[0;34m(\u001b[0m\u001b[0;34m\"protein\"\u001b[0m\u001b[0;34m)\u001b[0m\u001b[0;34m\u001b[0m\u001b[0;34m\u001b[0m\u001b[0m\n\u001b[0m\u001b[1;32m      2\u001b[0m \u001b[0mproteinsum\u001b[0m \u001b[0;34m=\u001b[0m \u001b[0mnumpy\u001b[0m\u001b[0;34m.\u001b[0m\u001b[0msum\u001b[0m\u001b[0;34m(\u001b[0m\u001b[0mprotein\u001b[0m\u001b[0;34m,\u001b[0m\u001b[0maxis\u001b[0m\u001b[0;34m=\u001b[0m\u001b[0;36m1\u001b[0m\u001b[0;34m)\u001b[0m\u001b[0;34m\u001b[0m\u001b[0;34m\u001b[0m\u001b[0m\n\u001b[1;32m      3\u001b[0m \u001b[0mplt\u001b[0m\u001b[0;34m.\u001b[0m\u001b[0mplot\u001b[0m\u001b[0;34m(\u001b[0m\u001b[0mmodel\u001b[0m\u001b[0;34m.\u001b[0m\u001b[0mtspan\u001b[0m\u001b[0;34m,\u001b[0m\u001b[0mproteinsum\u001b[0m\u001b[0;34m,\u001b[0m\u001b[0;34m'r'\u001b[0m\u001b[0;34m,\u001b[0m \u001b[0mlabel\u001b[0m\u001b[0;34m=\u001b[0m\u001b[0;34m'protein'\u001b[0m\u001b[0;34m)\u001b[0m\u001b[0;34m\u001b[0m\u001b[0;34m\u001b[0m\u001b[0m\n\u001b[1;32m      4\u001b[0m \u001b[0mmRNA\u001b[0m \u001b[0;34m=\u001b[0m \u001b[0mresult\u001b[0m\u001b[0;34m.\u001b[0m\u001b[0mget_species\u001b[0m\u001b[0;34m(\u001b[0m\u001b[0;34m\"mRNA\"\u001b[0m\u001b[0;34m)\u001b[0m\u001b[0;34m\u001b[0m\u001b[0;34m\u001b[0m\u001b[0m\n\u001b[1;32m      5\u001b[0m \u001b[0mmRNAsum\u001b[0m\u001b[0;34m=\u001b[0m\u001b[0mnumpy\u001b[0m\u001b[0;34m.\u001b[0m\u001b[0msum\u001b[0m\u001b[0;34m(\u001b[0m\u001b[0mmRNA\u001b[0m\u001b[0;34m[\u001b[0m\u001b[0;34m:\u001b[0m\u001b[0;34m]\u001b[0m\u001b[0;34m,\u001b[0m\u001b[0maxis\u001b[0m\u001b[0;34m=\u001b[0m\u001b[0;36m1\u001b[0m\u001b[0;34m)\u001b[0m\u001b[0;34m\u001b[0m\u001b[0;34m\u001b[0m\u001b[0m\n",
      "\u001b[0;31mNameError\u001b[0m: name 'result' is not defined"
     ]
    }
   ],
   "source": [
    "protein = result.get_species(\"protein\")\n",
    "proteinsum = numpy.sum(protein,axis=1)\n",
    "plt.plot(model.tspan,proteinsum,'r', label='protein')\n",
    "mRNA = result.get_species(\"mRNA\")\n",
    "mRNAsum=numpy.sum(mRNA[:],axis=1)\n",
    "plt.plot(model.tspan,mRNAsum,'b', label='mRNA')\n",
    "plt.legend(loc='best')"
   ]
  }
 ],
 "metadata": {
  "kernelspec": {
   "display_name": "Python 3",
   "language": "python",
   "name": "python3"
  },
  "language_info": {
   "codemirror_mode": {
    "name": "ipython",
    "version": 3
   },
   "file_extension": ".py",
   "mimetype": "text/x-python",
   "name": "python",
   "nbconvert_exporter": "python",
   "pygments_lexer": "ipython3",
   "version": "3.8.10"
  }
 },
 "nbformat": 4,
 "nbformat_minor": 5
}

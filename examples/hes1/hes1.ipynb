{
 "metadata": {
  "name": "",
  "signature": "sha256:001d83c1206e7b1f6b0da9be620a41a175de49deab42d93312e64958659284e8"
 },
 "nbformat": 3,
 "nbformat_minor": 0,
 "worksheets": [
  {
   "cells": [
    {
     "cell_type": "heading",
     "level": 1,
     "metadata": {
      "slideshow": {
       "slide_type": "-"
      }
     },
     "source": [
      "Spatial Stochastic Simulation with pyURDME"
     ]
    },
    {
     "cell_type": "heading",
     "level": 2,
     "metadata": {
      "slideshow": {
       "slide_type": "-"
      }
     },
     "source": [
      "Definition of the model"
     ]
    },
    {
     "cell_type": "markdown",
     "metadata": {},
     "source": [
      "Here we illustrate how to implement the model describet in [Sturrock M, Hellander A, Matzavinos A, Chaplain MAJ. 2013 Spatial stochastic modelling of the Hes1 gene regulatory network: intrinsic noise can explain heterogeneity in embryonic stem cell differentiation. J R Soc Interface 10:20120988]"
     ]
    },
    {
     "cell_type": "heading",
     "level": 3,
     "metadata": {},
     "source": [
      "Imports and definitions"
     ]
    },
    {
     "cell_type": "code",
     "collapsed": false,
     "input": [
      "%matplotlib inline\n",
      "import matplotlib.pyplot as plt\n",
      "import os.path\n",
      "import pyurdme\n",
      "import dolfin\n",
      "import numpy\n",
      "import scipy\n",
      "\n",
      "class Nucleus(dolfin.SubDomain):\n",
      "    def inside(self,x,on_boundary):\n",
      "        return dolfin.between(x[0]**2+x[1]**2+x[2]**2,(0,3.**2))\n"
     ],
     "language": "python",
     "metadata": {
      "slideshow": {
       "slide_type": "-"
      }
     },
     "outputs": [],
     "prompt_number": 1
    },
    {
     "cell_type": "heading",
     "level": 3,
     "metadata": {},
     "source": [
      "Model"
     ]
    },
    {
     "cell_type": "code",
     "collapsed": false,
     "input": [
      "class hes1(pyurdme.URDMEModel):\n",
      "    def __init__(self,model_name=\"hes1\"):\n",
      "        pyurdme.URDMEModel.__init__(self, model_name)\n",
      "\n",
      "        #Species\n",
      "        Pf = pyurdme.Species(name=\"Pf\",diffusion_constant=0.,dimension=3)\n",
      "        Po = pyurdme.Species(name=\"Po\",diffusion_constant=0.,dimension=3)\n",
      "        mRNA = pyurdme.Species(name=\"mRNA\",diffusion_constant=6.e-1,dimension=3)\n",
      "        protein = pyurdme.Species(name=\"protein\",diffusion_constant=6.e-1,dimension=3)\n",
      "        self.add_species([Pf,Po,mRNA,protein])\n",
      "\n",
      "        #Mesh\n",
      "        self.mesh = pyurdme.URDMEMesh.read_mesh(\"mesh/cell.msh\")\n",
      "        #Domains markers\n",
      "        nucleus = [2]\n",
      "        cytoplasm = [1]\n",
      "        promoter_site = [3]\n",
      "        #Domains\n",
      "        self.add_subdomain(Nucleus(), nucleus[0])\n",
      "        self.get_subdomain_vector()\n",
      "        self.sd[self.mesh.closest_vertex([0,0,0])] = promoter_site[0]\n",
      "\n",
      "        #Parameters\n",
      "        k1 = pyurdme.Parameter(name=\"k1\",expression=1.e9)\n",
      "        k2 = pyurdme.Parameter(name=\"k2\",expression=0.1)\n",
      "        alpha_m = pyurdme.Parameter(name=\"alpha_m\",expression=3.)\n",
      "        alpha_m_gamma = pyurdme.Parameter(name=\"alpha_m_gamma\",expression=3./30.)\n",
      "        alpha_p = pyurdme.Parameter(name=\"alpha_p\",expression=1.)\n",
      "        mu_m = pyurdme.Parameter(name=\"mu_m\",expression=0.015)\n",
      "        mu_p = pyurdme.Parameter(name=\"mu_p\",expression=0.043)\n",
      "        self.add_parameter([k1,k2,alpha_m,alpha_m_gamma,alpha_p,mu_m,mu_p])\n",
      "\n",
      "\n",
      "        #Reactions\n",
      "        R1 = pyurdme.Reaction(name=\"R1\",reactants={Pf:1,protein:1},products={Po:1},massaction=True,rate=k1, restrict_to=promoter_site)\n",
      "        R2 = pyurdme.Reaction(name=\"R2\",reactants={Po:1},products={Pf:1,protein:1},massaction=True,rate=k2, restrict_to=promoter_site)\n",
      "        R3 = pyurdme.Reaction(name=\"R3\",reactants={Pf:1},products={Pf:1,mRNA:1},massaction=True,rate=alpha_m, restrict_to=promoter_site)\n",
      "        R4 = pyurdme.Reaction(name=\"R4\",reactants={Po:1},products={Po:1,mRNA:1},massaction=True,rate=alpha_m_gamma, restrict_to=promoter_site)\n",
      "        R5 = pyurdme.Reaction(name=\"R5\",reactants={mRNA:1},products={mRNA:1,protein:1},massaction=True,rate=alpha_p,restrict_to=cytoplasm)\n",
      "        R6 = pyurdme.Reaction(name=\"R6\",reactants={mRNA:1},products={},massaction=True,rate=mu_m)\n",
      "        R7 = pyurdme.Reaction(name=\"R7\",reactants={protein:1},products={},massaction=True,rate=mu_p)\n",
      "        self.add_reaction([R1,R2,R3,R4,R5,R6,R7])\n",
      "\n",
      "        #Restrict to promoter_site\n",
      "        self.restrict(Po,promoter_site)\n",
      "        self.restrict(Pf,promoter_site)\n",
      "\n",
      "        #Distribute molecules over the mesh\n",
      "        self.set_initial_condition_scatter({Pf:1},promoter_site)\n",
      "        self.set_initial_condition_scatter({protein:60},cytoplasm)\n",
      "        self.set_initial_condition_scatter({mRNA:10},nucleus)\n",
      "\n",
      "        self.timespan(range(1200))"
     ],
     "language": "python",
     "metadata": {},
     "outputs": [],
     "prompt_number": 2
    },
    {
     "cell_type": "heading",
     "level": 2,
     "metadata": {},
     "source": [
      "Running the model and processing the results"
     ]
    },
    {
     "cell_type": "code",
     "collapsed": false,
     "input": [
      "model = hes1(model_name=\"hes1\")"
     ],
     "language": "python",
     "metadata": {},
     "outputs": [],
     "prompt_number": 3
    },
    {
     "cell_type": "code",
     "collapsed": false,
     "input": [
      "%time result = model.run(report_level=1)"
     ],
     "language": "python",
     "metadata": {},
     "outputs": [
      {
       "output_type": "stream",
       "stream": "stdout",
       "text": [
        "Compiling Solver\n",
        "cmd: ['/var/folders/cv/pt8dqm555sg1rj9w846bsz880000gn/T/tmpO56rls/.urdme/hes1_pyurdme_generated_model.nsm', '/var/folders/cv/pt8dqm555sg1rj9w846bsz880000gn/T/tmp_QAaGu', '/var/folders/cv/pt8dqm555sg1rj9w846bsz880000gn/T/tmp607SE0']\n"
       ]
      },
      {
       "output_type": "stream",
       "stream": "stdout",
       "text": [
        "\n",
        "CPU times: user 11 s, sys: 203 ms, total: 11.2 s"
       ]
      },
      {
       "output_type": "stream",
       "stream": "stdout",
       "text": [
        "\n",
        "Wall time: 14 s\n"
       ]
      }
     ],
     "prompt_number": 4
    },
    {
     "cell_type": "heading",
     "level": 3,
     "metadata": {},
     "source": [
      "Plot the evolution of the copy number of a given species"
     ]
    },
    {
     "cell_type": "code",
     "collapsed": false,
     "input": [
      "protein = result.get_species(\"protein\")\n",
      "proteinsum = numpy.sum(protein,axis=1)\n",
      "plt.plot(model.tspan,proteinsum,'r', label='protein')\n",
      "mRNA = result.get_species(\"mRNA\")\n",
      "mRNAsum=numpy.sum(mRNA[:],axis=1)\n",
      "plt.plot(model.tspan,mRNAsum,'b', label='mRNA')\n",
      "plt.legend(loc='best')"
     ],
     "language": "python",
     "metadata": {},
     "outputs": [
      {
       "metadata": {},
       "output_type": "pyout",
       "prompt_number": 5,
       "text": [
        "<matplotlib.legend.Legend at 0x114b64310>"
       ]
      },
      {
       "metadata": {},
       "output_type": "display_data",
       "png": "[encoded data removed]",
       "text": [
        "<matplotlib.figure.Figure at 0x10428b4d0>"
       ]
      }
     ],
     "prompt_number": 5
    },
    {
     "cell_type": "heading",
     "level": 3,
     "metadata": {},
     "source": [
      "Save the detailed trajectory into vtk files"
     ]
    },
    {
     "cell_type": "code",
     "collapsed": false,
     "input": [
      "#result.export_to_vtk(species='protein',folder_name='proteinOut')\n"
     ],
     "language": "python",
     "metadata": {},
     "outputs": [],
     "prompt_number": 6
    },
    {
     "cell_type": "code",
     "collapsed": false,
     "input": [],
     "language": "python",
     "metadata": {},
     "outputs": [],
     "prompt_number": 6
    }
   ],
   "metadata": {}
  }
 ]
}
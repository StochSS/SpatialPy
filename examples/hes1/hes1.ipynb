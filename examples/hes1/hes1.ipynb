{
 "cells": [
  {
   "cell_type": "markdown",
   "id": "08fe9b30",
   "metadata": {},
   "source": [
    "# Spatial Stochastic Simulation with SpatialPy"
   ]
  },
  {
   "cell_type": "markdown",
   "id": "86971487",
   "metadata": {},
   "source": [
    "## Definition of the model"
   ]
  },
  {
   "cell_type": "markdown",
   "id": "c399125e",
   "metadata": {},
   "source": [
    "Here we illustrate how to implement the model describet in [Sturrock M, Hellander A, Matzavinos A, Chaplain MAJ. 2013 Spatial stochastic modelling of the Hes1 gene regulatory network: intrinsic noise can explain heterogeneity in embryonic stem cell differentiation. J R Soc Interface 10:20120988]"
   ]
  },
  {
   "cell_type": "markdown",
   "id": "20926b27",
   "metadata": {},
   "source": [
    "You may need to install specific version to get this notebook to work:\n",
    "\n",
    "python3 -m pip install meshio==2.3.10\n",
    "\n",
    "python3 -m pip install pygmsh==5.0.2"
   ]
  },
  {
   "cell_type": "markdown",
   "id": "c9d0a8ff",
   "metadata": {},
   "source": [
    "### Imports and definitions"
   ]
  },
  {
   "cell_type": "code",
   "execution_count": 1,
   "id": "0d00b010",
   "metadata": {},
   "outputs": [],
   "source": [
    "%matplotlib inline\n",
    "\n",
    "import os\n",
    "import sys\n",
    "sys.path.insert(1, \"../..\")\n",
    "import numpy as np\n",
    "import matplotlib.pyplot as plt\n",
    "\n",
    "import spatialpy"
   ]
  },
  {
   "cell_type": "code",
   "execution_count": 2,
   "id": "a0c7f74e",
   "metadata": {},
   "outputs": [],
   "source": [
    "class Nucleus(spatialpy.Geometry):\n",
    "    def inside(self, x, on_boundary):\n",
    "        return x[0]**2 + x[1]**2 + x[2]**2 <= 3**2"
   ]
  },
  {
   "cell_type": "code",
   "execution_count": 3,
   "id": "8c905398",
   "metadata": {},
   "outputs": [],
   "source": [
    "class Cytoplasm(spatialpy.Geometry):\n",
    "    def inside(self, x, on_boundary):\n",
    "        return x[0]**2 + x[1]**2 + x[2]**2 > 3**2"
   ]
  },
  {
   "cell_type": "markdown",
   "id": "1ffd825e",
   "metadata": {},
   "source": [
    "### Model"
   ]
  },
  {
   "cell_type": "code",
   "execution_count": 4,
   "id": "def00c28",
   "metadata": {},
   "outputs": [],
   "source": [
    "class hes1(spatialpy.Model):\n",
    "    def __init__(self, model_name=\"hes1\"):\n",
    "        spatialpy.Model.__init__(self, model_name)\n",
    "\n",
    "        #Species\n",
    "        Pf = spatialpy.Species(name=\"Pf\", diffusion_constant=0)\n",
    "        Po = spatialpy.Species(name=\"Po\", diffusion_constant=0)\n",
    "        mRNA = spatialpy.Species(name=\"mRNA\", diffusion_constant=6e-1)\n",
    "        protein = spatialpy.Species(name=\"protein\", diffusion_constant=6e-1)\n",
    "        self.add_species([Pf, Po, mRNA, protein])\n",
    "        \n",
    "        #Restrict to promoter_site\n",
    "        self.restrict(Pf, 3)\n",
    "        self.restrict(Po, 3)\n",
    "        \n",
    "        #Domain\n",
    "        self.domain = spatialpy.Domain.read_msh_file(\"mesh/cell.msh\")\n",
    "        \n",
    "        #Types\n",
    "        self.set_type(Cytoplasm(), 1)\n",
    "        self.set_type(Nucleus(), 2)\n",
    "        # promoter site\n",
    "        self.domain.type[self.domain.closest_vertex([0]*3)] = 3\n",
    "\n",
    "        #Parameters\n",
    "        k1 = spatialpy.Parameter(name=\"k1\", expression=1e9)\n",
    "        k2 = spatialpy.Parameter(name=\"k2\", expression=0.1)\n",
    "        alpha_m = spatialpy.Parameter(name=\"alpha_m\", expression=3)\n",
    "        alpha_m_gamma = spatialpy.Parameter(name=\"alpha_m_gamma\", expression=0.1)\n",
    "        alpha_p = spatialpy.Parameter(name=\"alpha_p\", expression=1)\n",
    "        mu_m = spatialpy.Parameter(name=\"mu_m\", expression=0.015)\n",
    "        mu_p = spatialpy.Parameter(name=\"mu_p\", expression=0.043)\n",
    "        self.add_parameter([k1, k2, alpha_m, alpha_m_gamma, alpha_p, mu_m, mu_p])\n",
    "\n",
    "\n",
    "        #Reactions\n",
    "        R1 = spatialpy.Reaction(name=\"R1\", rate=k1, restrict_to=3,\n",
    "                                reactants={Pf:1,protein:1}, products={Po:1})\n",
    "        R2 = spatialpy.Reaction(name=\"R2\", rate=k2, restrict_to=3,\n",
    "                                reactants={Po:1}, products={Pf:1,protein:1})\n",
    "        R3 = spatialpy.Reaction(name=\"R3\", rate=alpha_m, restrict_to=3,\n",
    "                                reactants={Pf:1}, products={Pf:1,mRNA:1})\n",
    "        R4 = spatialpy.Reaction(name=\"R4\", rate=alpha_m_gamma, restrict_to=3,\n",
    "                                reactants={Po:1}, products={Po:1,mRNA:1})\n",
    "        R5 = spatialpy.Reaction(name=\"R5\", rate=alpha_p, restrict_to=1,\n",
    "                                reactants={mRNA:1}, products={mRNA:1,protein:1})\n",
    "        R6 = spatialpy.Reaction(name=\"R6\", rate=mu_m, reactants={mRNA:1})\n",
    "        R7 = spatialpy.Reaction(name=\"R7\", rate=mu_p, reactants={protein:1})\n",
    "        self.add_reaction([R1, R2, R3, R4, R5, R6, R7])\n",
    "\n",
    "        #Initail Conditions\n",
    "        self.add_initial_condition(spatialpy.ScatterInitialCondition(Pf, 1, types=[3]))\n",
    "        self.add_initial_condition(spatialpy.ScatterInitialCondition(protein, 60, types=[1]))\n",
    "        self.add_initial_condition(spatialpy.ScatterInitialCondition(mRNA, 10, types=[2]))\n",
    "        \n",
    "        #self.timespan(range(1200), timestep_size=1)\n",
    "        self.timespan(range(200), timestep_size=1)"
   ]
  },
  {
   "cell_type": "code",
   "execution_count": 5,
   "id": "0f251af7",
   "metadata": {},
   "outputs": [],
   "source": [
    "model = hes1()"
   ]
  },
  {
   "cell_type": "markdown",
   "id": "db78b666",
   "metadata": {},
   "source": [
    "## Running the model and processing the results"
   ]
  },
  {
   "cell_type": "code",
   "execution_count": 6,
   "id": "9c8fbd7f",
   "metadata": {},
   "outputs": [
    {
     "name": "stdout",
     "output_type": "stream",
     "text": [
      "CPU times: user 79.1 ms, sys: 5.07 ms, total: 84.2 ms\n",
      "Wall time: 3.64 s\n",
      "/var/folders/z4/bqpnd_kx7xg3s3c9jtz0pnfh0000gn/T/spatialpy_build_qqbzsybs\n"
     ]
    }
   ],
   "source": [
    "from spatialpy import Solver\n",
    "sol = Solver(model, debug_level=0)\n",
    "%time sol.compile()\n",
    "print(sol.build_dir)"
   ]
  },
  {
   "cell_type": "code",
   "execution_count": 7,
   "id": "8de84cbe",
   "metadata": {},
   "outputs": [
    {
     "name": "stdout",
     "output_type": "stream",
     "text": [
      "CPU times: user 595 µs, sys: 2.83 ms, total: 3.43 ms\n",
      "Wall time: 5.08 s\n"
     ]
    }
   ],
   "source": [
    "#%time result = model.run(debug_level=0)\n",
    "%time result = sol.run()"
   ]
  },
  {
   "cell_type": "markdown",
   "id": "d0e7157c",
   "metadata": {},
   "source": [
    "### Plot the evolution of the copy number of a given species"
   ]
  },
  {
   "cell_type": "code",
   "execution_count": 8,
   "id": "d5d7767a",
   "metadata": {},
   "outputs": [
    {
     "data": {
      "text/plain": [
       "<matplotlib.legend.Legend at 0x12fd9afa0>"
      ]
     },
     "execution_count": 8,
     "metadata": {},
     "output_type": "execute_result"
    },
    {
     "data": {
      "image/png": "[encoded data removed]",
      "text/plain": [
       "<Figure size 432x288 with 1 Axes>"
      ]
     },
     "metadata": {
      "needs_background": "light"
     },
     "output_type": "display_data"
    }
   ],
   "source": [
    "protein = result.get_species(\"protein\")\n",
    "proteinsum = np.sum(protein,axis=1)\n",
    "plt.plot(model.tspan,proteinsum,'r', label='protein')\n",
    "mRNA = result.get_species(\"mRNA\")\n",
    "mRNAsum=np.sum(mRNA[:],axis=1)\n",
    "plt.plot(model.tspan,mRNAsum,'b', label='mRNA')\n",
    "plt.legend(loc='best')"
   ]
  },
  {
   "cell_type": "code",
   "execution_count": 9,
   "id": "41010bda",
   "metadata": {},
   "outputs": [
    {
     "data": {
      "text/plain": [
       "<matplotlib.legend.Legend at 0x12ff20130>"
      ]
     },
     "execution_count": 9,
     "metadata": {},
     "output_type": "execute_result"
    },
    {
     "data": {
      "image/png": "[encoded data removed]",
      "text/plain": [
       "<Figure size 432x288 with 1 Axes>"
      ]
     },
     "metadata": {
      "needs_background": "light"
     },
     "output_type": "display_data"
    }
   ],
   "source": [
    "pf = np.sum(result.get_species(\"Pf\"),axis=1)\n",
    "po = np.sum(result.get_species(\"Po\"),axis=1)\n",
    "plt.plot(model.tspan,pf,'r',label=\"Pf\")\n",
    "plt.plot(model.tspan,po,'b',label=\"Po\")\n",
    "plt.legend(loc=\"best\")"
   ]
  },
  {
   "cell_type": "code",
   "execution_count": null,
   "id": "7ee45a4b",
   "metadata": {},
   "outputs": [],
   "source": []
  }
 ],
 "metadata": {
  "kernelspec": {
   "display_name": "Python 3 (ipykernel)",
   "language": "python",
   "name": "python3"
  },
  "language_info": {
   "codemirror_mode": {
    "name": "ipython",
    "version": 3
   },
   "file_extension": ".py",
   "mimetype": "text/x-python",
   "name": "python",
   "nbconvert_exporter": "python",
   "pygments_lexer": "ipython3",
   "version": "3.9.7"
  }
 },
 "nbformat": 4,
 "nbformat_minor": 5
}

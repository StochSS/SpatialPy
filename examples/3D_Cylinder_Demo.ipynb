{
 "cells": [
  {
   "cell_type": "markdown",
   "metadata": {},
   "source": [
    "# 3D Cylinder Demo\n",
    "***\n",
    "This is an example of a 3D reaction diffusion system.\n",
    "- The domain is a cylinder\n",
    "- Species `A` is created at the right end of the cylinder\n",
    "- Species `B` is created at the left end of the cylinder\n",
    "- Diffusion occurs throughout the volume of the cylinder\n",
    "- `A` and `B` are destroyed on contact\n",
    "- Deterministic and Stochastic simulations are run\n",
    "\n",
    "This example allows us to check if reaction diffusion dynamics are accurate.\n",
    "***\n",
    "## Setup the Environment\n",
    "***"
   ]
  },
  {
   "cell_type": "code",
   "execution_count": 1,
   "metadata": {},
   "outputs": [],
   "source": [
    "import os\n",
    "import sys\n",
    "sys.path.insert(1, os.path.abspath(os.path.join(os.getcwd(), '../')))"
   ]
  },
  {
   "cell_type": "code",
   "execution_count": 2,
   "metadata": {},
   "outputs": [],
   "source": [
    "import numpy"
   ]
  },
  {
   "cell_type": "markdown",
   "metadata": {},
   "source": [
    "MatPlotLib is used for creating custom visualizations"
   ]
  },
  {
   "cell_type": "code",
   "execution_count": 3,
   "metadata": {},
   "outputs": [],
   "source": [
    "import matplotlib.pyplot as plt"
   ]
  },
  {
   "cell_type": "code",
   "execution_count": 4,
   "metadata": {},
   "outputs": [],
   "source": [
    "import spatialpy"
   ]
  },
  {
   "cell_type": "markdown",
   "metadata": {},
   "source": [
    "***\n",
    "## Creating Geometries for the Domain\n",
    "***\n",
    "For custom geometries it is necessary to subclass the `Geometry` class that implements the `__init__` and `inside` methods. The `inside` method must return boolean value.\n",
    "\n",
    "For this example we create three custom geometries: `Edge1`, `Edge2`, and `Middle`"
   ]
  },
  {
   "cell_type": "code",
   "execution_count": 5,
   "metadata": {},
   "outputs": [],
   "source": [
    "class Edge1(spatialpy.Geometry):\n",
    "    def __init__(self, xmax):\n",
    "        self.xmax = xmax\n",
    "\n",
    "    def inside(self, point, on_boundary):\n",
    "        return abs(point[0] - self.xmax) < 0.05"
   ]
  },
  {
   "cell_type": "code",
   "execution_count": 6,
   "metadata": {},
   "outputs": [],
   "source": [
    "class Edge2(spatialpy.Geometry):\n",
    "    def __init__(self, xmin):\n",
    "        self.xmin = xmin\n",
    "\n",
    "    def inside(self, point, on_boundary):\n",
    "        return abs(point[0] - self.xmin) < 0.05"
   ]
  },
  {
   "cell_type": "code",
   "execution_count": 7,
   "metadata": {},
   "outputs": [],
   "source": [
    "class Middle(spatialpy.Geometry):\n",
    "    def __init__(self, xmin):\n",
    "        self.xmin = xmin\n",
    "\n",
    "    def inside(self, point, on_boundary):\n",
    "        return abs(point[0] - self.xmin) >= 0.05"
   ]
  },
  {
   "cell_type": "markdown",
   "metadata": {},
   "source": [
    "***\n",
    "## Creating a Fluid Dynamics Model using SpatialPy\n",
    "***"
   ]
  },
  {
   "cell_type": "code",
   "execution_count": 8,
   "metadata": {},
   "outputs": [],
   "source": [
    "def create_3D_cylinder_demo(model_name=\"3D Cylinder Demo\", parameter_values=None):\n",
    "    # Initialize Model\n",
    "    model = spatialpy.Model(model_name)\n",
    "\n",
    "    # Define Domain Type IDs as constants of the Model\n",
    "    model.MIDDLE = Middle.__name__\n",
    "    model.EDGE1 = Edge1.__name__\n",
    "    model.EDGE2 = Edge2.__name__\n",
    "\n",
    "    # Set domain bounds\n",
    "    xmin = -5\n",
    "    xmax = 5\n",
    "\n",
    "    # System constants\n",
    "    D_const = 0.1\n",
    "\n",
    "    \"\"\"\n",
    "    Create a domain from a FEniCS/dolfin style XML mesh file\n",
    "\n",
    "    - filename: Name of the mesh file.\n",
    "    \"\"\"\n",
    "    domain = spatialpy.Domain.read_xml_mesh(filename='Domain_Files/cylinder.xml')\n",
    "    # Add Type IDs to the Particles\n",
    "    \"\"\"\n",
    "    Update the prpoerties of particles within a geometric shape.\n",
    "\n",
    "    - geometry_ivar: an instance of a 'spatialpy.Geometry' subclass.  The 'inside()' method\n",
    "                     of this object will be used to add a single point particles.\n",
    "    - type_id: Particle type ID of particle to be created.\n",
    "    - vol: Default volume of particle to be added.\n",
    "    - mass: Default mass of particle to be added.\n",
    "    - nu: Default viscosity of particle to be created.\n",
    "    - c: Default artificial speed of sound of particle to be created.\n",
    "    - rho: Default density of particle to be created\n",
    "    - fixed: True if particle is spatially fixed, else False.\n",
    "    \"\"\"\n",
    "    edge1 = Edge1(xmax=xmax)\n",
    "    edge2 = Edge2(xmin=xmin)\n",
    "    middle = spatialpy.CombinatoryGeometry(\n",
    "        formula=\"middle and not (edge1 or edge2)\",\n",
    "        geo_namespace={'middle': Middle(xmin=xmin), 'edge1': edge1, 'edge2': edge2}\n",
    "    )\n",
    "    domain.set_properties(middle, model.MIDDLE)\n",
    "    domain.set_properties(edge1, model.EDGE1)\n",
    "    domain.set_properties(edge2, model.EDGE2)\n",
    "    \n",
    "    # Set Model Domain\n",
    "    model.add_domain(domain)\n",
    "\n",
    "    # Define Variables (SpatialPy.Species)\n",
    "    A = spatialpy.Species(name=\"A\", diffusion_coefficient=D_const, restrict_to=[model.MIDDLE, model.EDGE1])\n",
    "    B = spatialpy.Species(name=\"B\", diffusion_coefficient=D_const, restrict_to=[model.MIDDLE, model.EDGE2])\n",
    "\n",
    "    # Add Variables to Model.\n",
    "    model.add_species([A, B])\n",
    "\n",
    "    # Define Parameters\n",
    "    vol = model.domain.get_vol()\n",
    "    type_id = model.domain.type_id\n",
    "    left = numpy.sum(vol[type_id == model.domain.get_type_def(model.EDGE1)])\n",
    "    right = numpy.sum(vol[type_id == model.domain.get_type_def(model.EDGE2)])\n",
    "\n",
    "    k_react = spatialpy.Parameter(name=\"k_react\", expression=1.0)\n",
    "    k_creat1 = spatialpy.Parameter(name=\"k_creat1\", expression=100 / left)\n",
    "    k_creat2 = spatialpy.Parameter(name=\"k_creat2\", expression=100 / right)\n",
    "\n",
    "    # Add Parameters to Model.\n",
    "    model.add_parameter([k_react, k_creat1, k_creat2])\n",
    "\n",
    "    # Define Reactions\n",
    "    R1 = spatialpy.Reaction(\n",
    "        reactants={},\n",
    "        products={\"A\":1},\n",
    "        rate=\"k_creat1\",\n",
    "        restrict_to=model.EDGE1\n",
    "    )\n",
    "\n",
    "    R2 = spatialpy.Reaction(\n",
    "        reactants={},\n",
    "        products={\"B\":1},\n",
    "        rate=\"k_creat2\",\n",
    "        restrict_to=model.EDGE2\n",
    "    )\n",
    "\n",
    "    R3 = spatialpy.Reaction(\n",
    "        reactants={\"A\":1, \"B\":1},\n",
    "        products={},\n",
    "        rate=\"k_react\"\n",
    "    )\n",
    "\n",
    "    # Add Reactions to Model.\n",
    "    model.add_reaction([R1, R2, R3])\n",
    "\n",
    "    \"\"\"\n",
    "    Define the timespan of the Model. Reaction diffusion examples may require a small\n",
    "    timespan_size (around 1e-3) to generate accurate deterministic results.\n",
    "    \"\"\"\n",
    "    tspan = spatialpy.TimeSpan.linspace(t=500, num_points=501, timestep_size=1e-3)\n",
    "    \n",
    "    # Set Model Timespan\n",
    "    model.timespan(tspan)\n",
    "    return model"
   ]
  },
  {
   "cell_type": "markdown",
   "metadata": {},
   "source": [
    "### Instantiate the Model"
   ]
  },
  {
   "cell_type": "code",
   "execution_count": 9,
   "metadata": {
    "scrolled": false,
    "tags": []
   },
   "outputs": [
    {
     "name": "stdout",
     "output_type": "stream",
     "text": [
      "True <class 'numpy.bool_'>\n"
     ]
    },
    {
     "ename": "GeometryError",
     "evalue": "middle is not a valid Geometry obj. Reason given: inside() method must return a bool",
     "output_type": "error",
     "traceback": [
      "\u001b[0;31m---------------------------------------------------------------------------\u001b[0m",
      "\u001b[0;31mGeometryError\u001b[0m                             Traceback (most recent call last)",
      "\u001b[0;32m/var/folders/z4/bqpnd_kx7xg3s3c9jtz0pnfh0000gn/T/ipykernel_4798/3644048742.py\u001b[0m in \u001b[0;36m<module>\u001b[0;34m\u001b[0m\n\u001b[0;32m----> 1\u001b[0;31m \u001b[0mmodel\u001b[0m \u001b[0;34m=\u001b[0m \u001b[0mcreate_3D_cylinder_demo\u001b[0m\u001b[0;34m(\u001b[0m\u001b[0;34m)\u001b[0m\u001b[0;34m\u001b[0m\u001b[0;34m\u001b[0m\u001b[0m\n\u001b[0m",
      "\u001b[0;32m/var/folders/z4/bqpnd_kx7xg3s3c9jtz0pnfh0000gn/T/ipykernel_4798/400968508.py\u001b[0m in \u001b[0;36mcreate_3D_cylinder_demo\u001b[0;34m(model_name, parameter_values)\u001b[0m\n\u001b[1;32m     41\u001b[0m         \u001b[0mgeo_namespace\u001b[0m\u001b[0;34m=\u001b[0m\u001b[0;34m{\u001b[0m\u001b[0;34m'middle'\u001b[0m\u001b[0;34m:\u001b[0m \u001b[0mMiddle\u001b[0m\u001b[0;34m(\u001b[0m\u001b[0mxmin\u001b[0m\u001b[0;34m=\u001b[0m\u001b[0mxmin\u001b[0m\u001b[0;34m)\u001b[0m\u001b[0;34m,\u001b[0m \u001b[0;34m'edge1'\u001b[0m\u001b[0;34m:\u001b[0m \u001b[0medge1\u001b[0m\u001b[0;34m,\u001b[0m \u001b[0;34m'edge2'\u001b[0m\u001b[0;34m:\u001b[0m \u001b[0medge2\u001b[0m\u001b[0;34m}\u001b[0m\u001b[0;34m\u001b[0m\u001b[0;34m\u001b[0m\u001b[0m\n\u001b[1;32m     42\u001b[0m     )\n\u001b[0;32m---> 43\u001b[0;31m     \u001b[0mdomain\u001b[0m\u001b[0;34m.\u001b[0m\u001b[0mset_properties\u001b[0m\u001b[0;34m(\u001b[0m\u001b[0mmiddle\u001b[0m\u001b[0;34m,\u001b[0m \u001b[0mmodel\u001b[0m\u001b[0;34m.\u001b[0m\u001b[0mMIDDLE\u001b[0m\u001b[0;34m)\u001b[0m\u001b[0;34m\u001b[0m\u001b[0;34m\u001b[0m\u001b[0m\n\u001b[0m\u001b[1;32m     44\u001b[0m     \u001b[0mdomain\u001b[0m\u001b[0;34m.\u001b[0m\u001b[0mset_properties\u001b[0m\u001b[0;34m(\u001b[0m\u001b[0medge1\u001b[0m\u001b[0;34m,\u001b[0m \u001b[0mmodel\u001b[0m\u001b[0;34m.\u001b[0m\u001b[0mEDGE1\u001b[0m\u001b[0;34m)\u001b[0m\u001b[0;34m\u001b[0m\u001b[0;34m\u001b[0m\u001b[0m\n\u001b[1;32m     45\u001b[0m     \u001b[0mdomain\u001b[0m\u001b[0;34m.\u001b[0m\u001b[0mset_properties\u001b[0m\u001b[0;34m(\u001b[0m\u001b[0medge2\u001b[0m\u001b[0;34m,\u001b[0m \u001b[0mmodel\u001b[0m\u001b[0;34m.\u001b[0m\u001b[0mEDGE2\u001b[0m\u001b[0;34m)\u001b[0m\u001b[0;34m\u001b[0m\u001b[0;34m\u001b[0m\u001b[0m\n",
      "\u001b[0;32m~/SpatialPy/spatialpy/core/domain.py\u001b[0m in \u001b[0;36mset_properties\u001b[0;34m(self, geometry_ivar, type_id, vol, mass, nu, rho, c, fixed)\u001b[0m\n\u001b[1;32m    252\u001b[0m         \u001b[0mon_boundary\u001b[0m \u001b[0;34m=\u001b[0m \u001b[0mself\u001b[0m\u001b[0;34m.\u001b[0m\u001b[0mfind_boundary_points\u001b[0m\u001b[0;34m(\u001b[0m\u001b[0;34m)\u001b[0m\u001b[0;34m\u001b[0m\u001b[0;34m\u001b[0m\u001b[0m\n\u001b[1;32m    253\u001b[0m         \u001b[0;32mfor\u001b[0m \u001b[0mv_ndx\u001b[0m \u001b[0;32min\u001b[0m \u001b[0mrange\u001b[0m\u001b[0;34m(\u001b[0m\u001b[0mself\u001b[0m\u001b[0;34m.\u001b[0m\u001b[0mget_num_voxels\u001b[0m\u001b[0;34m(\u001b[0m\u001b[0;34m)\u001b[0m\u001b[0;34m)\u001b[0m\u001b[0;34m:\u001b[0m\u001b[0;34m\u001b[0m\u001b[0;34m\u001b[0m\u001b[0m\n\u001b[0;32m--> 254\u001b[0;31m             \u001b[0;32mif\u001b[0m \u001b[0mgeometry_ivar\u001b[0m\u001b[0;34m.\u001b[0m\u001b[0minside\u001b[0m\u001b[0;34m(\u001b[0m\u001b[0mself\u001b[0m\u001b[0;34m.\u001b[0m\u001b[0mcoordinates\u001b[0m\u001b[0;34m(\u001b[0m\u001b[0;34m)\u001b[0m\u001b[0;34m[\u001b[0m\u001b[0mv_ndx\u001b[0m\u001b[0;34m,\u001b[0m \u001b[0;34m:\u001b[0m\u001b[0;34m]\u001b[0m\u001b[0;34m,\u001b[0m \u001b[0mon_boundary\u001b[0m\u001b[0;34m[\u001b[0m\u001b[0mv_ndx\u001b[0m\u001b[0;34m]\u001b[0m\u001b[0;34m)\u001b[0m\u001b[0;34m:\u001b[0m\u001b[0;34m\u001b[0m\u001b[0;34m\u001b[0m\u001b[0m\n\u001b[0m\u001b[1;32m    255\u001b[0m                 \u001b[0mself\u001b[0m\u001b[0;34m.\u001b[0m\u001b[0mtype_id\u001b[0m\u001b[0;34m[\u001b[0m\u001b[0mv_ndx\u001b[0m\u001b[0;34m]\u001b[0m \u001b[0;34m=\u001b[0m \u001b[0mtype_id\u001b[0m\u001b[0;34m\u001b[0m\u001b[0;34m\u001b[0m\u001b[0m\n\u001b[1;32m    256\u001b[0m                 \u001b[0;32mif\u001b[0m \u001b[0mvol\u001b[0m \u001b[0;32mis\u001b[0m \u001b[0;32mnot\u001b[0m \u001b[0;32mNone\u001b[0m\u001b[0;34m:\u001b[0m\u001b[0;34m\u001b[0m\u001b[0;34m\u001b[0m\u001b[0m\n",
      "\u001b[0;32m~/SpatialPy/spatialpy/core/geometry.py\u001b[0m in \u001b[0;36minside\u001b[0;34m(self, point, on_boundary)\u001b[0m\n\u001b[1;32m     52\u001b[0m             \u001b[0;32mif\u001b[0m \u001b[0;32mnot\u001b[0m \u001b[0misinstance\u001b[0m\u001b[0;34m(\u001b[0m\u001b[0mval\u001b[0m\u001b[0;34m,\u001b[0m \u001b[0mbool\u001b[0m\u001b[0;34m)\u001b[0m\u001b[0;34m:\u001b[0m\u001b[0;34m\u001b[0m\u001b[0;34m\u001b[0m\u001b[0m\n\u001b[1;32m     53\u001b[0m                 \u001b[0merrmsg\u001b[0m \u001b[0;34m=\u001b[0m \u001b[0;34mf\"{name} is not a valid Geometry obj. Reason given: inside() method must return a bool\"\u001b[0m\u001b[0;34m\u001b[0m\u001b[0;34m\u001b[0m\u001b[0m\n\u001b[0;32m---> 54\u001b[0;31m                 \u001b[0;32mraise\u001b[0m \u001b[0mGeometryError\u001b[0m\u001b[0;34m(\u001b[0m\u001b[0merrmsg\u001b[0m\u001b[0;34m)\u001b[0m\u001b[0;34m\u001b[0m\u001b[0;34m\u001b[0m\u001b[0m\n\u001b[0m\u001b[1;32m     55\u001b[0m             \u001b[0mnamespace\u001b[0m\u001b[0;34m[\u001b[0m\u001b[0mname\u001b[0m\u001b[0;34m]\u001b[0m \u001b[0;34m=\u001b[0m \u001b[0mval\u001b[0m\u001b[0;34m\u001b[0m\u001b[0;34m\u001b[0m\u001b[0m\n\u001b[1;32m     56\u001b[0m         \u001b[0;32mreturn\u001b[0m \u001b[0meval\u001b[0m\u001b[0;34m(\u001b[0m\u001b[0mself\u001b[0m\u001b[0;34m.\u001b[0m\u001b[0mformula\u001b[0m\u001b[0;34m,\u001b[0m \u001b[0;34m{\u001b[0m\u001b[0;34m}\u001b[0m\u001b[0;34m,\u001b[0m \u001b[0mnamespace\u001b[0m\u001b[0;34m)\u001b[0m\u001b[0;34m\u001b[0m\u001b[0;34m\u001b[0m\u001b[0m\n",
      "\u001b[0;31mGeometryError\u001b[0m: middle is not a valid Geometry obj. Reason given: inside() method must return a bool"
     ]
    }
   ],
   "source": [
    "model = create_3D_cylinder_demo()"
   ]
  },
  {
   "cell_type": "markdown",
   "metadata": {},
   "source": [
    "Lets preview our domain since we loaded it from a file"
   ]
  },
  {
   "cell_type": "code",
   "execution_count": null,
   "metadata": {
    "scrolled": true
   },
   "outputs": [],
   "source": [
    "model.domain.plot_types(\n",
    "    # Set to True to use MatPlotLib plotting\n",
    "    use_matplotlib=True,\n",
    "    \n",
    "    # Set the width and height of the plot (for MatPlotLib these units are in inches)\n",
    "    width=15,\n",
    "    height=5\n",
    ")"
   ]
  },
  {
   "cell_type": "markdown",
   "metadata": {},
   "source": [
    "Lets look at it in a liitle more detail using plotly's 3D plotting"
   ]
  },
  {
   "cell_type": "code",
   "execution_count": null,
   "metadata": {},
   "outputs": [],
   "source": [
    "model.domain.plot_types(\n",
    "    # Set the width and height of the plot (for MatPlotLib these units are in pixles)\n",
    "    # width=auto defaults to 700, height=auto defaults to 450\n",
    "    width=\"auto\",\n",
    "    height=\"auto\"\n",
    ")"
   ]
  },
  {
   "cell_type": "markdown",
   "metadata": {},
   "source": [
    "***\n",
    "## Run the Simulation\n",
    "***"
   ]
  },
  {
   "cell_type": "code",
   "execution_count": null,
   "metadata": {
    "scrolled": false
   },
   "outputs": [],
   "source": [
    "results = model.run()"
   ]
  },
  {
   "cell_type": "markdown",
   "metadata": {},
   "source": [
    "***\n",
    "## Visualizations\n",
    "***\n",
    "Plot the results of the simulation.\n",
    "\n",
    "These plots tell us the accuracy of the simulation.  On the left is a plot of the population of both species over time.  You can see they are approaching steady-state levels as time goes on.  The plot on the left shows the time-averaged population over the space (i.e. the length of the cylinder along the x-axis). You can see that \"B\" is created on the left and \"A\" is created on the right, and the populations fall as you move towards the center of the cylinder.  At the center, the population is (almost) zero for both species, as they annihilate each other on contact. "
   ]
  },
  {
   "cell_type": "code",
   "execution_count": null,
   "metadata": {
    "scrolled": false,
    "tags": []
   },
   "outputs": [],
   "source": [
    "fig, (ax1, ax2) = plt.subplots(1, 2, figsize=(15, 4.5))\n",
    "\n",
    "tspan = results.get_timespan()\n",
    "A_sum = numpy.sum(results.get_species(\"A\"), axis=1)\n",
    "B_sum = numpy.sum(results.get_species(\"B\"), axis=1)\n",
    "\n",
    "ax1.plot(tspan, A_sum, '-r', label=\"A\")\n",
    "ax1.plot(tspan, B_sum, '-b', label=\"B\")\n",
    "ax1.set_xlabel(\"Time\", fontsize=14)\n",
    "ax1.tick_params(axis=\"x\", labelsize=12)\n",
    "ax1.tick_params(axis=\"y\", labelsize=12)\n",
    "_ = ax1.legend(loc='best')\n",
    "\n",
    "x_vals = results.model.domain.coordinates()[:, 0]\n",
    "A_vals = numpy.sum(results.get_species(\"A\"), axis=0)\n",
    "B_vals = numpy.sum(results.get_species(\"B\"), axis=0)\n",
    "\n",
    "ax2.plot(x_vals, A_vals, '.r')\n",
    "ax2.plot(x_vals, B_vals, '.b')\n",
    "ax2.set_xlabel(\"X-Coordinate\", fontsize=14)\n",
    "ax2.tick_params(axis=\"x\", labelsize=12)\n",
    "ax2.tick_params(axis=\"y\", labelsize=12)\n",
    "_ = ax2.legend(['A', 'B'], loc='best')"
   ]
  },
  {
   "cell_type": "markdown",
   "metadata": {},
   "source": [
    "There are a multitude of arguments that can be set to tweak the behavior and visuals of the plot. \n",
    "For now though, lets plot the populations of `A` and `B` at the end of the simulation using MatPlotLib. Multiple species must be plotted separately."
   ]
  },
  {
   "cell_type": "code",
   "execution_count": null,
   "metadata": {
    "scrolled": false
   },
   "outputs": [],
   "source": [
    "results.plot_species(\"A\", t_val=500, deterministic=True, use_matplotlib=True, width=15)\n",
    "results.plot_species(\"B\", t_val=500, deterministic=True, use_matplotlib=True, width=15)"
   ]
  },
  {
   "cell_type": "markdown",
   "metadata": {},
   "source": [
    "Lets look at these in more detail using plotly's 3D plotting"
   ]
  },
  {
   "cell_type": "code",
   "execution_count": null,
   "metadata": {},
   "outputs": [],
   "source": [
    "results.plot_species(\"A\", t_val=500, deterministic=True, width=\"auto\")\n",
    "results.plot_species(\"B\", t_val=500, deterministic=True, width=\"auto\")"
   ]
  },
  {
   "cell_type": "markdown",
   "metadata": {},
   "source": [
    "A more complete list of `results.plot_property()` arguments can be found in the [documentation](https://stochss.github.io/SpatialPy/docs/build/html/classes/spatialpy.core.html#spatialpy.core.result.Result.plot_species)."
   ]
  }
 ],
 "metadata": {
  "@webio": {
   "lastCommId": null,
   "lastKernelId": null
  },
  "kernelspec": {
   "display_name": "Python 3 (ipykernel)",
   "language": "python",
   "name": "python3"
  },
  "language_info": {
   "codemirror_mode": {
    "name": "ipython",
    "version": 3
   },
   "file_extension": ".py",
   "mimetype": "text/x-python",
   "name": "python",
   "nbconvert_exporter": "python",
   "pygments_lexer": "ipython3",
   "version": "3.9.9"
  }
 },
 "nbformat": 4,
 "nbformat_minor": 2
}

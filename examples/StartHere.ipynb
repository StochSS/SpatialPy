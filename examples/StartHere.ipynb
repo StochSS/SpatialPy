{
 "cells": [
  {
   "cell_type": "markdown",
   "metadata": {},
   "source": [
    "# Introduction\n",
    "\n",
    "Running a simmulation with SpatialPy requires only 2 components: a model (data), and a solver (algorithm)."
   ]
  },
  {
   "cell_type": "markdown",
   "metadata": {},
   "source": [
    "## Basics"
   ]
  },
  {
   "cell_type": "markdown",
   "metadata": {},
   "source": [
    "### Setup the Environment\n",
    "\n",
    "'os' and 'sys' allow us to modify the directory Python searches for source code. If you wish to use an installed GillesPy2 package, you do not need to run this cell. If this notebook is being run from within the GillesPy2 source code directory we need to let Python know that we want to use it, not the GillesPy2 package."
   ]
  },
  {
   "cell_type": "code",
   "execution_count": 1,
   "metadata": {},
   "outputs": [],
   "source": [
    "import os\n",
    "import sys\n",
    "sys.path.insert(1, os.path.abspath(os.path.join(os.getcwd(), '../')))"
   ]
  },
  {
   "cell_type": "markdown",
   "metadata": {},
   "source": [
    "Numpy is used to set the timespan of the Model."
   ]
  },
  {
   "cell_type": "code",
   "execution_count": 2,
   "metadata": {},
   "outputs": [],
   "source": [
    "import numpy"
   ]
  },
  {
   "cell_type": "markdown",
   "metadata": {},
   "source": [
    "Import the types that'll be needed to define your Model."
   ]
  },
  {
   "cell_type": "code",
   "execution_count": 3,
   "metadata": {},
   "outputs": [],
   "source": [
    "from spatialpy import (\n",
    "    Model,\n",
    "    Domain,\n",
    "    Species,\n",
    "    ScatterInitialCondition,\n",
    "    Parameter,\n",
    "    Reaction\n",
    ")"
   ]
  },
  {
   "cell_type": "markdown",
   "metadata": {},
   "source": [
    "## Creating a SpatialPy Model\n",
    "\n",
    "A SpatialPy model must include a domain, which may be fixed (not moving) or subject to fluid motion (SDPD method).\n",
    "To add a biochemical network the model must also include Species, Parameters, Initial Conditions, and Reactions.\n",
    "\n",
    "Your model is declared and configured as a Python class. As such, the name between `class` and `(Model):` can be of your choosing.\n",
    "For this example we'll be modeling Spatial Birth and Death, so lets set the name accordingly."
   ]
  },
  {
   "cell_type": "code",
   "execution_count": 4,
   "metadata": {},
   "outputs": [],
   "source": [
    "class SpatialBirthDeath(Model):\n",
    "    # Define type IDs as constants of the Model\n",
    "    HABITAT = \"Habitat\"\n",
    "\n",
    "    def __init__(self):\n",
    "        \n",
    "        # Intialize the Model with a name of your choosing.\n",
    "        Model.__init__(self, name='Spatial Birth-Death')\n",
    "        \n",
    "        \"\"\"\n",
    "        A domain defines points and attributes of a regional space for simulation.\n",
    "        \n",
    "        Create a filled 2D domain\n",
    "        - xlim: highest and lowest coordinate in the x dimension.\n",
    "        - ylim: highest and lowest coordinate in the y dimension.\n",
    "        - nx: number of particle spacing in the x dimension.\n",
    "        - ny: number of particle spacing in the y dimension.\n",
    "        - type_id: default type ID of particles to be created. Defaults to 1.\n",
    "        - mass: default mass of particles to be created. Defaults to 1.0.\n",
    "        - nu: default viscosity of particles to be created. Defaults to 1.0.\n",
    "        - c: default artificial speed of sound of particles to be created. Defaults to 0.0.\n",
    "        - rho: default density of particles to be created.\n",
    "        - fixed: spatially fixed flag of particles to be created. Defaults to false.\n",
    "        - rho0: Background density for the system.\n",
    "        - c0: Speed of sound for the system.\n",
    "        - P0: Background pressure for the system.\n",
    "        - gravity: Acceleration of gravity for the system.\n",
    "        \"\"\"\n",
    "        domain = Domain.create_2D_domain(\n",
    "            xlim=(0, 1), ylim=(0, 1), nx=10, ny=10, type_id=self.HABITAT, fixed=True\n",
    "        )\n",
    "        \n",
    "        # Add the Domain to the Model\n",
    "        self.add_domain(domain)\n",
    "        \n",
    "        \"\"\"\n",
    "        Species can be anything that participates in or is produced by a reaction channel.\n",
    "\n",
    "        - name: A user defined name for the species.\n",
    "        - diffusion_coefficient: Non-constant coefficient of diffusion for the Species.\n",
    "        - restrict_to: Restricts the movement of Species to  a type or list of types within the Domain.\n",
    "        \"\"\"\n",
    "        Rabbits = Species(name='Rabbits', diffusion_coefficient=0.1)\n",
    "        \n",
    "        # Add the Species to the Model.\n",
    "        self.add_species(Rabbits)\n",
    "        \n",
    "        \"\"\"\n",
    "        Scatter the initial condition for a species randomly over the list of types.\n",
    "        If the list of types is None scatter over all types.\n",
    "        \n",
    "        - species: The species to set the initial condition.\n",
    "        - count: The initial condition for the target species.\n",
    "        - types: Type IDs of the particles to place the initial condition.\n",
    "        \"\"\"\n",
    "        init_rabbit_pop = ScatterInitialCondition(species=Rabbits, count=100)\n",
    "        \n",
    "        # Add Initial Conditions to the Model\n",
    "        self.add_initial_condition(init_rabbit_pop)\n",
    "        \n",
    "        \"\"\"\n",
    "        Parameters are constant values relevant to the system, such as reaction kinetic rates.\n",
    "\n",
    "        - name: A user defined name for reference.\n",
    "        - expression: Some constant value.\n",
    "        \"\"\"\n",
    "        kb = Parameter(name='k_birth', expression=10)\n",
    "        kd = Parameter(name='k_death', expression=0.1)\n",
    "        \n",
    "        # Add the Parameters to the Model.\n",
    "        self.add_parameter([kb, kd])\n",
    "        \n",
    "        \"\"\"\n",
    "        Reactions are the reaction channels which cause the system to change over time.\n",
    "\n",
    "        - name: A user defined name for the reaction.\n",
    "        - reactants: A dictionary with participant reactants as keys, and consumed per reaction as value.\n",
    "        - products: A dictionary with reaction products as keys, and number formed per reaction as value.\n",
    "        - rate: A parameter rate constant to be applied to the propensity of this reaction firing.\n",
    "        - propensity_function: Can be used instead of rate in order to declare a custom propensity function\n",
    "                               in string format.\n",
    "        - restrict_to: Restrict reaction channels to a type or list of types within the Domain.\n",
    "        \"\"\"\n",
    "        birth = Reaction(\n",
    "            name='birth',\n",
    "            reactants={},\n",
    "            products={\"Rabbits\":1},\n",
    "            rate=\"k_birth\"\n",
    "        )\n",
    "        \n",
    "        death = Reaction(\n",
    "            name='death',\n",
    "            reactants={\"Rabbits\":1},\n",
    "            products={},\n",
    "            rate=\"k_death\"\n",
    "        )\n",
    "        \n",
    "        # Add the Reactions to the Model.\n",
    "        self.add_reaction([birth, death])\n",
    "        \n",
    "        # Use NumPy to set the timespan of the Model.\n",
    "        self.timespan(numpy.linspace(0, 10, 11), timestep_size=1)"
   ]
  },
  {
   "cell_type": "markdown",
   "metadata": {},
   "source": [
    "### Instantiate your Model"
   ]
  },
  {
   "cell_type": "code",
   "execution_count": 5,
   "metadata": {},
   "outputs": [],
   "source": [
    "model = SpatialBirthDeath()"
   ]
  },
  {
   "cell_type": "markdown",
   "metadata": {},
   "source": [
    "## Running Simulations\n",
    "\n",
    "Run a spatial stochastic simulation on the Model and store the results in the 'results' variable.\n",
    "You can find a thorough list of `model.run()` arguments in the [documentation](https://stochss.github.io/SpatialPy/docs/build/html/classes/spatialpy.core.html#spatialpy.core.model.Model.run) to customize the behavior of your simulations.\""
   ]
  },
  {
   "cell_type": "code",
   "execution_count": 6,
   "metadata": {},
   "outputs": [],
   "source": [
    "results = model.run()"
   ]
  },
  {
   "cell_type": "markdown",
   "metadata": {},
   "source": [
    "## Visualization\n",
    "Plot the results of the simulation.\n",
    "\n",
    "There are a multitude of arguments that can be set to tweak the behavior and visuals of the plot. \n",
    "For now though, lets plot the populations of `Rabbits` at the end of the simulation using MatPlotLib."
   ]
  },
  {
   "cell_type": "code",
   "execution_count": 7,
   "metadata": {},
   "outputs": [
    {
     "data": {
      "image/png": "[encoded data removed]",
      "text/plain": [
       "<Figure size 460.8x345.6 with 2 Axes>"
      ]
     },
     "metadata": {
      "needs_background": "light"
     },
     "output_type": "display_data"
    }
   ],
   "source": [
    "results.plot_species(\n",
    "    # Set the target species to visualize\n",
    "    species='Rabbits',\n",
    "    \n",
    "    # Set the time value to visualize (t_val defaults the 0)\n",
    "    t_val=10,\n",
    "    \n",
    "    # Set to True to use MatPlotLib plotting\n",
    "    use_matplotlib=True\n",
    ")"
   ]
  },
  {
   "cell_type": "markdown",
   "metadata": {},
   "source": [
    "That plot is somewhat boring though, so lets plot the populations of `Rabbits` over time using Plotly anumation."
   ]
  },
  {
   "cell_type": "code",
   "execution_count": 8,
   "metadata": {
    "scrolled": false
   },
   "outputs": [
    {
     "data": {
      "text/html": [
       "        <script type=\"text/javascript\">\n",
       "        window.PlotlyConfig = {MathJaxConfig: 'local'};\n",
       "        if (window.MathJax) {MathJax.Hub.Config({SVG: {font: \"STIX-Web\"}});}\n",
       "        if (typeof require !== 'undefined') {\n",
       "        require.undef(\"plotly\");\n",
       "        requirejs.config({\n",
       "            paths: {\n",
       "                'plotly': ['https://cdn.plot.ly/plotly-2.4.2.min']\n",
       "            }\n",
       "        });\n",
       "        require(['plotly'], function(Plotly) {\n",
       "            window._Plotly = Plotly;\n",
       "        });\n",
       "        }\n",
       "        </script>\n",
       "        "
      ]
     },
     "metadata": {},
     "output_type": "display_data"
    },
    {
     "data": {
      "application/vnd.plotly.v1+json": {
       "config": {
        "linkText": "Export to plot.ly",
        "plotlyServerURL": "https://plot.ly",
        "showLink": false
       },
       "data": [
        {
         "marker": {
          "color": [
           2,
           2,
           1,
           0,
           0,
           0,
           1,
           0,
           0,
           1,
           0,
           0,
           0,
           1,
           1,
           1,
           3,
           0,
           0,
           1,
           1,
           0,
           0,
           2,
           2,
           0,
           0,
           1,
           2,
           0,
           2,
           4,
           1,
           0,
           1,
           1,
           1,
           4,
           1,
           3,
           0,
           1,
           1,
           2,
           2,
           2,
           1,
           0,
           0,
           0,
           0,
           1,
           2,
           1,
           0,
           1,
           1,
           1,
           1,
           2,
           0,
           3,
           1,
           3,
           1,
           1,
           2,
           0,
           1,
           0,
           1,
           1,
           0,
           1,
           0,
           1,
           1,
           3,
           2,
           2,
           0,
           1,
           3,
           0,
           0,
           1,
           0,
           1,
           0,
           1,
           1,
           0,
           0,
           0,
           1,
           1,
           1,
           2,
           2,
           2
          ],
          "colorbar": {
           "thickness": 20,
           "title": {
            "text": "Rabbits"
           }
          },
          "colorscale": [
           [
            0,
            "#0508b8"
           ],
           [
            0.08333333333333333,
            "#1910d8"
           ],
           [
            0.16666666666666666,
            "#3c19f0"
           ],
           [
            0.25,
            "#6b1cfb"
           ],
           [
            0.3333333333333333,
            "#981cfd"
           ],
           [
            0.4166666666666667,
            "#bf1cfd"
           ],
           [
            0.5,
            "#dd2bfd"
           ],
           [
            0.5833333333333334,
            "#f246fe"
           ],
           [
            0.6666666666666666,
            "#fc67fd"
           ],
           [
            0.75,
            "#fe88fc"
           ],
           [
            0.8333333333333334,
            "#fea5fd"
           ],
           [
            0.9166666666666666,
            "#febefe"
           ],
           [
            1,
            "#fec3fe"
           ]
          ],
          "size": 20
         },
         "mode": "markers",
         "name": "Rabbits",
         "type": "scatter",
         "x": [
          0,
          0,
          0,
          0,
          0,
          0,
          0,
          0,
          0,
          0,
          0.1111111119389534,
          0.1111111119389534,
          0.1111111119389534,
          0.1111111119389534,
          0.1111111119389534,
          0.1111111119389534,
          0.1111111119389534,
          0.1111111119389534,
          0.1111111119389534,
          0.1111111119389534,
          0.2222222238779068,
          0.2222222238779068,
          0.2222222238779068,
          0.2222222238779068,
          0.2222222238779068,
          0.2222222238779068,
          0.2222222238779068,
          0.2222222238779068,
          0.2222222238779068,
          0.2222222238779068,
          0.3333333432674408,
          0.3333333432674408,
          0.3333333432674408,
          0.3333333432674408,
          0.3333333432674408,
          0.3333333432674408,
          0.3333333432674408,
          0.3333333432674408,
          0.3333333432674408,
          0.3333333432674408,
          0.4444444477558136,
          0.4444444477558136,
          0.4444444477558136,
          0.4444444477558136,
          0.4444444477558136,
          0.4444444477558136,
          0.4444444477558136,
          0.4444444477558136,
          0.4444444477558136,
          0.4444444477558136,
          0.5555555820465088,
          0.5555555820465088,
          0.5555555820465088,
          0.5555555820465088,
          0.5555555820465088,
          0.5555555820465088,
          0.5555555820465088,
          0.5555555820465088,
          0.5555555820465088,
          0.5555555820465088,
          0.6666666865348816,
          0.6666666865348816,
          0.6666666865348816,
          0.6666666865348816,
          0.6666666865348816,
          0.6666666865348816,
          0.6666666865348816,
          0.6666666865348816,
          0.6666666865348816,
          0.6666666865348816,
          0.7777777910232544,
          0.7777777910232544,
          0.7777777910232544,
          0.7777777910232544,
          0.7777777910232544,
          0.7777777910232544,
          0.7777777910232544,
          0.7777777910232544,
          0.7777777910232544,
          0.7777777910232544,
          0.8888888955116272,
          0.8888888955116272,
          0.8888888955116272,
          0.8888888955116272,
          0.8888888955116272,
          0.8888888955116272,
          0.8888888955116272,
          0.8888888955116272,
          0.8888888955116272,
          0.8888888955116272,
          1,
          1,
          1,
          1,
          1,
          1,
          1,
          1,
          1,
          1
         ],
         "y": [
          0,
          0.1111111119389534,
          0.2222222238779068,
          0.3333333432674408,
          0.4444444477558136,
          0.5555555820465088,
          0.6666666865348816,
          0.7777777910232544,
          0.8888888955116272,
          1,
          0,
          0.1111111119389534,
          0.2222222238779068,
          0.3333333432674408,
          0.4444444477558136,
          0.5555555820465088,
          0.6666666865348816,
          0.7777777910232544,
          0.8888888955116272,
          1,
          0,
          0.1111111119389534,
          0.2222222238779068,
          0.3333333432674408,
          0.4444444477558136,
          0.5555555820465088,
          0.6666666865348816,
          0.7777777910232544,
          0.8888888955116272,
          1,
          0,
          0.1111111119389534,
          0.2222222238779068,
          0.3333333432674408,
          0.4444444477558136,
          0.5555555820465088,
          0.6666666865348816,
          0.7777777910232544,
          0.8888888955116272,
          1,
          0,
          0.1111111119389534,
          0.2222222238779068,
          0.3333333432674408,
          0.4444444477558136,
          0.5555555820465088,
          0.6666666865348816,
          0.7777777910232544,
          0.8888888955116272,
          1,
          0,
          0.1111111119389534,
          0.2222222238779068,
          0.3333333432674408,
          0.4444444477558136,
          0.5555555820465088,
          0.6666666865348816,
          0.7777777910232544,
          0.8888888955116272,
          1,
          0,
          0.1111111119389534,
          0.2222222238779068,
          0.3333333432674408,
          0.4444444477558136,
          0.5555555820465088,
          0.6666666865348816,
          0.7777777910232544,
          0.8888888955116272,
          1,
          0,
          0.1111111119389534,
          0.2222222238779068,
          0.3333333432674408,
          0.4444444477558136,
          0.5555555820465088,
          0.6666666865348816,
          0.7777777910232544,
          0.8888888955116272,
          1,
          0,
          0.1111111119389534,
          0.2222222238779068,
          0.3333333432674408,
          0.4444444477558136,
          0.5555555820465088,
          0.6666666865348816,
          0.7777777910232544,
          0.8888888955116272,
          1,
          0,
          0.1111111119389534,
          0.2222222238779068,
          0.3333333432674408,
          0.4444444477558136,
          0.5555555820465088,
          0.6666666865348816,
          0.7777777910232544,
          0.8888888955116272,
          1
         ]
        }
       ],
       "frames": [
        {
         "data": [
          {
           "marker": {
            "cmax": 4.1,
            "cmin": -0.1,
            "color": [
             2,
             2,
             1,
             0,
             0,
             0,
             1,
             0,
             0,
             1,
             0,
             0,
             0,
             1,
             1,
             1,
             3,
             0,
             0,
             1,
             1,
             0,
             0,
             2,
             2,
             0,
             0,
             1,
             2,
             0,
             2,
             4,
             1,
             0,
             1,
             1,
             1,
             4,
             1,
             3,
             0,
             1,
             1,
             2,
             2,
             2,
             1,
             0,
             0,
             0,
             0,
             1,
             2,
             1,
             0,
             1,
             1,
             1,
             1,
             2,
             0,
             3,
             1,
             3,
             1,
             1,
             2,
             0,
             1,
             0,
             1,
             1,
             0,
             1,
             0,
             1,
             1,
             3,
             2,
             2,
             0,
             1,
             3,
             0,
             0,
             1,
             0,
             1,
             0,
             1,
             1,
             0,
             0,
             0,
             1,
             1,
             1,
             2,
             2,
             2
            ],
            "colorbar": {
             "thickness": 20,
             "title": {
              "text": "Rabbits"
             }
            },
            "colorscale": [
             [
              0,
              "#0508b8"
             ],
             [
              0.08333333333333333,
              "#1910d8"
             ],
             [
              0.16666666666666666,
              "#3c19f0"
             ],
             [
              0.25,
              "#6b1cfb"
             ],
             [
              0.3333333333333333,
              "#981cfd"
             ],
             [
              0.4166666666666667,
              "#bf1cfd"
             ],
             [
              0.5,
              "#dd2bfd"
             ],
             [
              0.5833333333333334,
              "#f246fe"
             ],
             [
              0.6666666666666666,
              "#fc67fd"
             ],
             [
              0.75,
              "#fe88fc"
             ],
             [
              0.8333333333333334,
              "#fea5fd"
             ],
             [
              0.9166666666666666,
              "#febefe"
             ],
             [
              1,
              "#fec3fe"
             ]
            ],
            "size": 20
           },
           "mode": "markers",
           "name": "Rabbits",
           "type": "scatter",
           "x": [
            0,
            0,
            0,
            0,
            0,
            0,
            0,
            0,
            0,
            0,
            0.1111111119389534,
            0.1111111119389534,
            0.1111111119389534,
            0.1111111119389534,
            0.1111111119389534,
            0.1111111119389534,
            0.1111111119389534,
            0.1111111119389534,
            0.1111111119389534,
            0.1111111119389534,
            0.2222222238779068,
            0.2222222238779068,
            0.2222222238779068,
            0.2222222238779068,
            0.2222222238779068,
            0.2222222238779068,
            0.2222222238779068,
            0.2222222238779068,
            0.2222222238779068,
            0.2222222238779068,
            0.3333333432674408,
            0.3333333432674408,
            0.3333333432674408,
            0.3333333432674408,
            0.3333333432674408,
            0.3333333432674408,
            0.3333333432674408,
            0.3333333432674408,
            0.3333333432674408,
            0.3333333432674408,
            0.4444444477558136,
            0.4444444477558136,
            0.4444444477558136,
            0.4444444477558136,
            0.4444444477558136,
            0.4444444477558136,
            0.4444444477558136,
            0.4444444477558136,
            0.4444444477558136,
            0.4444444477558136,
            0.5555555820465088,
            0.5555555820465088,
            0.5555555820465088,
            0.5555555820465088,
            0.5555555820465088,
            0.5555555820465088,
            0.5555555820465088,
            0.5555555820465088,
            0.5555555820465088,
            0.5555555820465088,
            0.6666666865348816,
            0.6666666865348816,
            0.6666666865348816,
            0.6666666865348816,
            0.6666666865348816,
            0.6666666865348816,
            0.6666666865348816,
            0.6666666865348816,
            0.6666666865348816,
            0.6666666865348816,
            0.7777777910232544,
            0.7777777910232544,
            0.7777777910232544,
            0.7777777910232544,
            0.7777777910232544,
            0.7777777910232544,
            0.7777777910232544,
            0.7777777910232544,
            0.7777777910232544,
            0.7777777910232544,
            0.8888888955116272,
            0.8888888955116272,
            0.8888888955116272,
            0.8888888955116272,
            0.8888888955116272,
            0.8888888955116272,
            0.8888888955116272,
            0.8888888955116272,
            0.8888888955116272,
            0.8888888955116272,
            1,
            1,
            1,
            1,
            1,
            1,
            1,
            1,
            1,
            1
           ],
           "y": [
            0,
            0.1111111119389534,
            0.2222222238779068,
            0.3333333432674408,
            0.4444444477558136,
            0.5555555820465088,
            0.6666666865348816,
            0.7777777910232544,
            0.8888888955116272,
            1,
            0,
            0.1111111119389534,
            0.2222222238779068,
            0.3333333432674408,
            0.4444444477558136,
            0.5555555820465088,
            0.6666666865348816,
            0.7777777910232544,
            0.8888888955116272,
            1,
            0,
            0.1111111119389534,
            0.2222222238779068,
            0.3333333432674408,
            0.4444444477558136,
            0.5555555820465088,
            0.6666666865348816,
            0.7777777910232544,
            0.8888888955116272,
            1,
            0,
            0.1111111119389534,
            0.2222222238779068,
            0.3333333432674408,
            0.4444444477558136,
            0.5555555820465088,
            0.6666666865348816,
            0.7777777910232544,
            0.8888888955116272,
            1,
            0,
            0.1111111119389534,
            0.2222222238779068,
            0.3333333432674408,
            0.4444444477558136,
            0.5555555820465088,
            0.6666666865348816,
            0.7777777910232544,
            0.8888888955116272,
            1,
            0,
            0.1111111119389534,
            0.2222222238779068,
            0.3333333432674408,
            0.4444444477558136,
            0.5555555820465088,
            0.6666666865348816,
            0.7777777910232544,
            0.8888888955116272,
            1,
            0,
            0.1111111119389534,
            0.2222222238779068,
            0.3333333432674408,
            0.4444444477558136,
            0.5555555820465088,
            0.6666666865348816,
            0.7777777910232544,
            0.8888888955116272,
            1,
            0,
            0.1111111119389534,
            0.2222222238779068,
            0.3333333432674408,
            0.4444444477558136,
            0.5555555820465088,
            0.6666666865348816,
            0.7777777910232544,
            0.8888888955116272,
            1,
            0,
            0.1111111119389534,
            0.2222222238779068,
            0.3333333432674408,
            0.4444444477558136,
            0.5555555820465088,
            0.6666666865348816,
            0.7777777910232544,
            0.8888888955116272,
            1,
            0,
            0.1111111119389534,
            0.2222222238779068,
            0.3333333432674408,
            0.4444444477558136,
            0.5555555820465088,
            0.6666666865348816,
            0.7777777910232544,
            0.8888888955116272,
            1
           ]
          }
         ],
         "name": "0.0"
        },
        {
         "data": [
          {
           "marker": {
            "cmax": 4.1,
            "cmin": -0.1,
            "color": [
             0,
             4,
             3,
             1,
             0,
             1,
             1,
             1,
             1,
             2,
             0,
             0,
             1,
             1,
             1,
             3,
             1,
             0,
             0,
             0,
             1,
             3,
             0,
             0,
             1,
             0,
             3,
             1,
             0,
             1,
             2,
             1,
             3,
             0,
             3,
             1,
             1,
             0,
             1,
             2,
             2,
             0,
             1,
             3,
             2,
             5,
             1,
             2,
             0,
             1,
             0,
             0,
             4,
             0,
             1,
             0,
             3,
             2,
             1,
             1,
             1,
             1,
             0,
             1,
             2,
             3,
             0,
             2,
             1,
             0,
             2,
             0,
             1,
             2,
             4,
             0,
             0,
             1,
             0,
             1,
             1,
             0,
             2,
             0,
             0,
             1,
             2,
             1,
             1,
             1,
             3,
             5,
             1,
             0,
             3,
             1,
             2,
             2,
             0,
             2
            ],
            "colorbar": {
             "thickness": 20,
             "title": {
              "text": "Rabbits"
             }
            },
            "colorscale": [
             [
              0,
              "#0508b8"
             ],
             [
              0.08333333333333333,
              "#1910d8"
             ],
             [
              0.16666666666666666,
              "#3c19f0"
             ],
             [
              0.25,
              "#6b1cfb"
             ],
             [
              0.3333333333333333,
              "#981cfd"
             ],
             [
              0.4166666666666667,
              "#bf1cfd"
             ],
             [
              0.5,
              "#dd2bfd"
             ],
             [
              0.5833333333333334,
              "#f246fe"
             ],
             [
              0.6666666666666666,
              "#fc67fd"
             ],
             [
              0.75,
              "#fe88fc"
             ],
             [
              0.8333333333333334,
              "#fea5fd"
             ],
             [
              0.9166666666666666,
              "#febefe"
             ],
             [
              1,
              "#fec3fe"
             ]
            ],
            "size": 20
           },
           "mode": "markers",
           "name": "Rabbits",
           "type": "scatter",
           "x": [
            0,
            0,
            0,
            0,
            0,
            0,
            0,
            0,
            0,
            0,
            0.1111111119389534,
            0.1111111119389534,
            0.1111111119389534,
            0.1111111119389534,
            0.1111111119389534,
            0.1111111119389534,
            0.1111111119389534,
            0.1111111119389534,
            0.1111111119389534,
            0.1111111119389534,
            0.2222222238779068,
            0.2222222238779068,
            0.2222222238779068,
            0.2222222238779068,
            0.2222222238779068,
            0.2222222238779068,
            0.2222222238779068,
            0.2222222238779068,
            0.2222222238779068,
            0.2222222238779068,
            0.3333333432674408,
            0.3333333432674408,
            0.3333333432674408,
            0.3333333432674408,
            0.3333333432674408,
            0.3333333432674408,
            0.3333333432674408,
            0.3333333432674408,
            0.3333333432674408,
            0.3333333432674408,
            0.4444444477558136,
            0.4444444477558136,
            0.4444444477558136,
            0.4444444477558136,
            0.4444444477558136,
            0.4444444477558136,
            0.4444444477558136,
            0.4444444477558136,
            0.4444444477558136,
            0.4444444477558136,
            0.5555555820465088,
            0.5555555820465088,
            0.5555555820465088,
            0.5555555820465088,
            0.5555555820465088,
            0.5555555820465088,
            0.5555555820465088,
            0.5555555820465088,
            0.5555555820465088,
            0.5555555820465088,
            0.6666666865348816,
            0.6666666865348816,
            0.6666666865348816,
            0.6666666865348816,
            0.6666666865348816,
            0.6666666865348816,
            0.6666666865348816,
            0.6666666865348816,
            0.6666666865348816,
            0.6666666865348816,
            0.7777777910232544,
            0.7777777910232544,
            0.7777777910232544,
            0.7777777910232544,
            0.7777777910232544,
            0.7777777910232544,
            0.7777777910232544,
            0.7777777910232544,
            0.7777777910232544,
            0.7777777910232544,
            0.8888888955116272,
            0.8888888955116272,
            0.8888888955116272,
            0.8888888955116272,
            0.8888888955116272,
            0.8888888955116272,
            0.8888888955116272,
            0.8888888955116272,
            0.8888888955116272,
            0.8888888955116272,
            1,
            1,
            1,
            1,
            1,
            1,
            1,
            1,
            1,
            1
           ],
           "y": [
            0,
            0.1111111119389534,
            0.2222222238779068,
            0.3333333432674408,
            0.4444444477558136,
            0.5555555820465088,
            0.6666666865348816,
            0.7777777910232544,
            0.8888888955116272,
            1,
            0,
            0.1111111119389534,
            0.2222222238779068,
            0.3333333432674408,
            0.4444444477558136,
            0.5555555820465088,
            0.6666666865348816,
            0.7777777910232544,
            0.8888888955116272,
            1,
            0,
            0.1111111119389534,
            0.2222222238779068,
            0.3333333432674408,
            0.4444444477558136,
            0.5555555820465088,
            0.6666666865348816,
            0.7777777910232544,
            0.8888888955116272,
            1,
            0,
            0.1111111119389534,
            0.2222222238779068,
            0.3333333432674408,
            0.4444444477558136,
            0.5555555820465088,
            0.6666666865348816,
            0.7777777910232544,
            0.8888888955116272,
            1,
            0,
            0.1111111119389534,
            0.2222222238779068,
            0.3333333432674408,
            0.4444444477558136,
            0.5555555820465088,
            0.6666666865348816,
            0.7777777910232544,
            0.8888888955116272,
            1,
            0,
            0.1111111119389534,
            0.2222222238779068,
            0.3333333432674408,
            0.4444444477558136,
            0.5555555820465088,
            0.6666666865348816,
            0.7777777910232544,
            0.8888888955116272,
            1,
            0,
            0.1111111119389534,
            0.2222222238779068,
            0.3333333432674408,
            0.4444444477558136,
            0.5555555820465088,
            0.6666666865348816,
            0.7777777910232544,
            0.8888888955116272,
            1,
            0,
            0.1111111119389534,
            0.2222222238779068,
            0.3333333432674408,
            0.4444444477558136,
            0.5555555820465088,
            0.6666666865348816,
            0.7777777910232544,
            0.8888888955116272,
            1,
            0,
            0.1111111119389534,
            0.2222222238779068,
            0.3333333432674408,
            0.4444444477558136,
            0.5555555820465088,
            0.6666666865348816,
            0.7777777910232544,
            0.8888888955116272,
            1,
            0,
            0.1111111119389534,
            0.2222222238779068,
            0.3333333432674408,
            0.4444444477558136,
            0.5555555820465088,
            0.6666666865348816,
            0.7777777910232544,
            0.8888888955116272,
            1
           ]
          }
         ],
         "name": "1.0"
        },
        {
         "data": [
          {
           "marker": {
            "cmax": 4.1,
            "cmin": -0.1,
            "color": [
             4,
             1,
             1,
             2,
             0,
             2,
             0,
             0,
             1,
             4,
             0,
             2,
             3,
             4,
             4,
             1,
             1,
             2,
             1,
             1,
             1,
             3,
             0,
             0,
             2,
             2,
             1,
             1,
             2,
             1,
             2,
             2,
             1,
             2,
             1,
             0,
             1,
             3,
             1,
             2,
             1,
             1,
             2,
             3,
             1,
             1,
             1,
             1,
             0,
             1,
             0,
             0,
             2,
             3,
             2,
             0,
             6,
             2,
             1,
             3,
             3,
             2,
             4,
             2,
             1,
             0,
             3,
             0,
             1,
             1,
             1,
             1,
             3,
             1,
             0,
             1,
             0,
             2,
             0,
             2,
             1,
             1,
             5,
             1,
             1,
             2,
             6,
             3,
             3,
             0,
             2,
             2,
             2,
             0,
             0,
             0,
             1,
             1,
             2,
             0
            ],
            "colorbar": {
             "thickness": 20,
             "title": {
              "text": "Rabbits"
             }
            },
            "colorscale": [
             [
              0,
              "#0508b8"
             ],
             [
              0.08333333333333333,
              "#1910d8"
             ],
             [
              0.16666666666666666,
              "#3c19f0"
             ],
             [
              0.25,
              "#6b1cfb"
             ],
             [
              0.3333333333333333,
              "#981cfd"
             ],
             [
              0.4166666666666667,
              "#bf1cfd"
             ],
             [
              0.5,
              "#dd2bfd"
             ],
             [
              0.5833333333333334,
              "#f246fe"
             ],
             [
              0.6666666666666666,
              "#fc67fd"
             ],
             [
              0.75,
              "#fe88fc"
             ],
             [
              0.8333333333333334,
              "#fea5fd"
             ],
             [
              0.9166666666666666,
              "#febefe"
             ],
             [
              1,
              "#fec3fe"
             ]
            ],
            "size": 20
           },
           "mode": "markers",
           "name": "Rabbits",
           "type": "scatter",
           "x": [
            0,
            0,
            0,
            0,
            0,
            0,
            0,
            0,
            0,
            0,
            0.1111111119389534,
            0.1111111119389534,
            0.1111111119389534,
            0.1111111119389534,
            0.1111111119389534,
            0.1111111119389534,
            0.1111111119389534,
            0.1111111119389534,
            0.1111111119389534,
            0.1111111119389534,
            0.2222222238779068,
            0.2222222238779068,
            0.2222222238779068,
            0.2222222238779068,
            0.2222222238779068,
            0.2222222238779068,
            0.2222222238779068,
            0.2222222238779068,
            0.2222222238779068,
            0.2222222238779068,
            0.3333333432674408,
            0.3333333432674408,
            0.3333333432674408,
            0.3333333432674408,
            0.3333333432674408,
            0.3333333432674408,
            0.3333333432674408,
            0.3333333432674408,
            0.3333333432674408,
            0.3333333432674408,
            0.4444444477558136,
            0.4444444477558136,
            0.4444444477558136,
            0.4444444477558136,
            0.4444444477558136,
            0.4444444477558136,
            0.4444444477558136,
            0.4444444477558136,
            0.4444444477558136,
            0.4444444477558136,
            0.5555555820465088,
            0.5555555820465088,
            0.5555555820465088,
            0.5555555820465088,
            0.5555555820465088,
            0.5555555820465088,
            0.5555555820465088,
            0.5555555820465088,
            0.5555555820465088,
            0.5555555820465088,
            0.6666666865348816,
            0.6666666865348816,
            0.6666666865348816,
            0.6666666865348816,
            0.6666666865348816,
            0.6666666865348816,
            0.6666666865348816,
            0.6666666865348816,
            0.6666666865348816,
            0.6666666865348816,
            0.7777777910232544,
            0.7777777910232544,
            0.7777777910232544,
            0.7777777910232544,
            0.7777777910232544,
            0.7777777910232544,
            0.7777777910232544,
            0.7777777910232544,
            0.7777777910232544,
            0.7777777910232544,
            0.8888888955116272,
            0.8888888955116272,
            0.8888888955116272,
            0.8888888955116272,
            0.8888888955116272,
            0.8888888955116272,
            0.8888888955116272,
            0.8888888955116272,
            0.8888888955116272,
            0.8888888955116272,
            1,
            1,
            1,
            1,
            1,
            1,
            1,
            1,
            1,
            1
           ],
           "y": [
            0,
            0.1111111119389534,
            0.2222222238779068,
            0.3333333432674408,
            0.4444444477558136,
            0.5555555820465088,
            0.6666666865348816,
            0.7777777910232544,
            0.8888888955116272,
            1,
            0,
            0.1111111119389534,
            0.2222222238779068,
            0.3333333432674408,
            0.4444444477558136,
            0.5555555820465088,
            0.6666666865348816,
            0.7777777910232544,
            0.8888888955116272,
            1,
            0,
            0.1111111119389534,
            0.2222222238779068,
            0.3333333432674408,
            0.4444444477558136,
            0.5555555820465088,
            0.6666666865348816,
            0.7777777910232544,
            0.8888888955116272,
            1,
            0,
            0.1111111119389534,
            0.2222222238779068,
            0.3333333432674408,
            0.4444444477558136,
            0.5555555820465088,
            0.6666666865348816,
            0.7777777910232544,
            0.8888888955116272,
            1,
            0,
            0.1111111119389534,
            0.2222222238779068,
            0.3333333432674408,
            0.4444444477558136,
            0.5555555820465088,
            0.6666666865348816,
            0.7777777910232544,
            0.8888888955116272,
            1,
            0,
            0.1111111119389534,
            0.2222222238779068,
            0.3333333432674408,
            0.4444444477558136,
            0.5555555820465088,
            0.6666666865348816,
            0.7777777910232544,
            0.8888888955116272,
            1,
            0,
            0.1111111119389534,
            0.2222222238779068,
            0.3333333432674408,
            0.4444444477558136,
            0.5555555820465088,
            0.6666666865348816,
            0.7777777910232544,
            0.8888888955116272,
            1,
            0,
            0.1111111119389534,
            0.2222222238779068,
            0.3333333432674408,
            0.4444444477558136,
            0.5555555820465088,
            0.6666666865348816,
            0.7777777910232544,
            0.8888888955116272,
            1,
            0,
            0.1111111119389534,
            0.2222222238779068,
            0.3333333432674408,
            0.4444444477558136,
            0.5555555820465088,
            0.6666666865348816,
            0.7777777910232544,
            0.8888888955116272,
            1,
            0,
            0.1111111119389534,
            0.2222222238779068,
            0.3333333432674408,
            0.4444444477558136,
            0.5555555820465088,
            0.6666666865348816,
            0.7777777910232544,
            0.8888888955116272,
            1
           ]
          }
         ],
         "name": "2.0"
        },
        {
         "data": [
          {
           "marker": {
            "cmax": 4.1,
            "cmin": -0.1,
            "color": [
             1,
             1,
             3,
             0,
             3,
             2,
             3,
             1,
             4,
             4,
             4,
             0,
             4,
             3,
             0,
             2,
             3,
             1,
             3,
             3,
             2,
             3,
             2,
             0,
             0,
             3,
             2,
             0,
             0,
             3,
             2,
             1,
             0,
             2,
             1,
             1,
             1,
             1,
             1,
             1,
             0,
             1,
             2,
             0,
             2,
             1,
             0,
             5,
             0,
             1,
             4,
             0,
             1,
             3,
             2,
             0,
             4,
             1,
             1,
             2,
             1,
             3,
             1,
             2,
             4,
             0,
             2,
             4,
             2,
             0,
             3,
             0,
             4,
             3,
             1,
             0,
             5,
             0,
             1,
             3,
             4,
             1,
             5,
             1,
             3,
             0,
             2,
             2,
             1,
             1,
             1,
             1,
             2,
             1,
             3,
             2,
             1,
             4,
             4,
             2
            ],
            "colorbar": {
             "thickness": 20,
             "title": {
              "text": "Rabbits"
             }
            },
            "colorscale": [
             [
              0,
              "#0508b8"
             ],
             [
              0.08333333333333333,
              "#1910d8"
             ],
             [
              0.16666666666666666,
              "#3c19f0"
             ],
             [
              0.25,
              "#6b1cfb"
             ],
             [
              0.3333333333333333,
              "#981cfd"
             ],
             [
              0.4166666666666667,
              "#bf1cfd"
             ],
             [
              0.5,
              "#dd2bfd"
             ],
             [
              0.5833333333333334,
              "#f246fe"
             ],
             [
              0.6666666666666666,
              "#fc67fd"
             ],
             [
              0.75,
              "#fe88fc"
             ],
             [
              0.8333333333333334,
              "#fea5fd"
             ],
             [
              0.9166666666666666,
              "#febefe"
             ],
             [
              1,
              "#fec3fe"
             ]
            ],
            "size": 20
           },
           "mode": "markers",
           "name": "Rabbits",
           "type": "scatter",
           "x": [
            0,
            0,
            0,
            0,
            0,
            0,
            0,
            0,
            0,
            0,
            0.1111111119389534,
            0.1111111119389534,
            0.1111111119389534,
            0.1111111119389534,
            0.1111111119389534,
            0.1111111119389534,
            0.1111111119389534,
            0.1111111119389534,
            0.1111111119389534,
            0.1111111119389534,
            0.2222222238779068,
            0.2222222238779068,
            0.2222222238779068,
            0.2222222238779068,
            0.2222222238779068,
            0.2222222238779068,
            0.2222222238779068,
            0.2222222238779068,
            0.2222222238779068,
            0.2222222238779068,
            0.3333333432674408,
            0.3333333432674408,
            0.3333333432674408,
            0.3333333432674408,
            0.3333333432674408,
            0.3333333432674408,
            0.3333333432674408,
            0.3333333432674408,
            0.3333333432674408,
            0.3333333432674408,
            0.4444444477558136,
            0.4444444477558136,
            0.4444444477558136,
            0.4444444477558136,
            0.4444444477558136,
            0.4444444477558136,
            0.4444444477558136,
            0.4444444477558136,
            0.4444444477558136,
            0.4444444477558136,
            0.5555555820465088,
            0.5555555820465088,
            0.5555555820465088,
            0.5555555820465088,
            0.5555555820465088,
            0.5555555820465088,
            0.5555555820465088,
            0.5555555820465088,
            0.5555555820465088,
            0.5555555820465088,
            0.6666666865348816,
            0.6666666865348816,
            0.6666666865348816,
            0.6666666865348816,
            0.6666666865348816,
            0.6666666865348816,
            0.6666666865348816,
            0.6666666865348816,
            0.6666666865348816,
            0.6666666865348816,
            0.7777777910232544,
            0.7777777910232544,
            0.7777777910232544,
            0.7777777910232544,
            0.7777777910232544,
            0.7777777910232544,
            0.7777777910232544,
            0.7777777910232544,
            0.7777777910232544,
            0.7777777910232544,
            0.8888888955116272,
            0.8888888955116272,
            0.8888888955116272,
            0.8888888955116272,
            0.8888888955116272,
            0.8888888955116272,
            0.8888888955116272,
            0.8888888955116272,
            0.8888888955116272,
            0.8888888955116272,
            1,
            1,
            1,
            1,
            1,
            1,
            1,
            1,
            1,
            1
           ],
           "y": [
            0,
            0.1111111119389534,
            0.2222222238779068,
            0.3333333432674408,
            0.4444444477558136,
            0.5555555820465088,
            0.6666666865348816,
            0.7777777910232544,
            0.8888888955116272,
            1,
            0,
            0.1111111119389534,
            0.2222222238779068,
            0.3333333432674408,
            0.4444444477558136,
            0.5555555820465088,
            0.6666666865348816,
            0.7777777910232544,
            0.8888888955116272,
            1,
            0,
            0.1111111119389534,
            0.2222222238779068,
            0.3333333432674408,
            0.4444444477558136,
            0.5555555820465088,
            0.6666666865348816,
            0.7777777910232544,
            0.8888888955116272,
            1,
            0,
            0.1111111119389534,
            0.2222222238779068,
            0.3333333432674408,
            0.4444444477558136,
            0.5555555820465088,
            0.6666666865348816,
            0.7777777910232544,
            0.8888888955116272,
            1,
            0,
            0.1111111119389534,
            0.2222222238779068,
            0.3333333432674408,
            0.4444444477558136,
            0.5555555820465088,
            0.6666666865348816,
            0.7777777910232544,
            0.8888888955116272,
            1,
            0,
            0.1111111119389534,
            0.2222222238779068,
            0.3333333432674408,
            0.4444444477558136,
            0.5555555820465088,
            0.6666666865348816,
            0.7777777910232544,
            0.8888888955116272,
            1,
            0,
            0.1111111119389534,
            0.2222222238779068,
            0.3333333432674408,
            0.4444444477558136,
            0.5555555820465088,
            0.6666666865348816,
            0.7777777910232544,
            0.8888888955116272,
            1,
            0,
            0.1111111119389534,
            0.2222222238779068,
            0.3333333432674408,
            0.4444444477558136,
            0.5555555820465088,
            0.6666666865348816,
            0.7777777910232544,
            0.8888888955116272,
            1,
            0,
            0.1111111119389534,
            0.2222222238779068,
            0.3333333432674408,
            0.4444444477558136,
            0.5555555820465088,
            0.6666666865348816,
            0.7777777910232544,
            0.8888888955116272,
            1,
            0,
            0.1111111119389534,
            0.2222222238779068,
            0.3333333432674408,
            0.4444444477558136,
            0.5555555820465088,
            0.6666666865348816,
            0.7777777910232544,
            0.8888888955116272,
            1
           ]
          }
         ],
         "name": "3.0"
        },
        {
         "data": [
          {
           "marker": {
            "cmax": 4.1,
            "cmin": -0.1,
            "color": [
             1,
             1,
             3,
             1,
             5,
             2,
             4,
             4,
             1,
             1,
             2,
             2,
             4,
             1,
             3,
             1,
             0,
             1,
             0,
             4,
             3,
             4,
             2,
             0,
             4,
             2,
             2,
             1,
             1,
             3,
             1,
             6,
             7,
             3,
             2,
             6,
             2,
             1,
             1,
             2,
             3,
             0,
             4,
             0,
             3,
             6,
             2,
             3,
             1,
             1,
             1,
             1,
             2,
             4,
             1,
             1,
             1,
             3,
             1,
             1,
             2,
             2,
             4,
             2,
             1,
             3,
             1,
             2,
             0,
             1,
             2,
             0,
             1,
             1,
             3,
             1,
             4,
             1,
             5,
             0,
             3,
             3,
             4,
             3,
             1,
             2,
             3,
             2,
             1,
             1,
             2,
             2,
             4,
             0,
             1,
             2,
             3,
             1,
             0,
             2
            ],
            "colorbar": {
             "thickness": 20,
             "title": {
              "text": "Rabbits"
             }
            },
            "colorscale": [
             [
              0,
              "#0508b8"
             ],
             [
              0.08333333333333333,
              "#1910d8"
             ],
             [
              0.16666666666666666,
              "#3c19f0"
             ],
             [
              0.25,
              "#6b1cfb"
             ],
             [
              0.3333333333333333,
              "#981cfd"
             ],
             [
              0.4166666666666667,
              "#bf1cfd"
             ],
             [
              0.5,
              "#dd2bfd"
             ],
             [
              0.5833333333333334,
              "#f246fe"
             ],
             [
              0.6666666666666666,
              "#fc67fd"
             ],
             [
              0.75,
              "#fe88fc"
             ],
             [
              0.8333333333333334,
              "#fea5fd"
             ],
             [
              0.9166666666666666,
              "#febefe"
             ],
             [
              1,
              "#fec3fe"
             ]
            ],
            "size": 20
           },
           "mode": "markers",
           "name": "Rabbits",
           "type": "scatter",
           "x": [
            0,
            0,
            0,
            0,
            0,
            0,
            0,
            0,
            0,
            0,
            0.1111111119389534,
            0.1111111119389534,
            0.1111111119389534,
            0.1111111119389534,
            0.1111111119389534,
            0.1111111119389534,
            0.1111111119389534,
            0.1111111119389534,
            0.1111111119389534,
            0.1111111119389534,
            0.2222222238779068,
            0.2222222238779068,
            0.2222222238779068,
            0.2222222238779068,
            0.2222222238779068,
            0.2222222238779068,
            0.2222222238779068,
            0.2222222238779068,
            0.2222222238779068,
            0.2222222238779068,
            0.3333333432674408,
            0.3333333432674408,
            0.3333333432674408,
            0.3333333432674408,
            0.3333333432674408,
            0.3333333432674408,
            0.3333333432674408,
            0.3333333432674408,
            0.3333333432674408,
            0.3333333432674408,
            0.4444444477558136,
            0.4444444477558136,
            0.4444444477558136,
            0.4444444477558136,
            0.4444444477558136,
            0.4444444477558136,
            0.4444444477558136,
            0.4444444477558136,
            0.4444444477558136,
            0.4444444477558136,
            0.5555555820465088,
            0.5555555820465088,
            0.5555555820465088,
            0.5555555820465088,
            0.5555555820465088,
            0.5555555820465088,
            0.5555555820465088,
            0.5555555820465088,
            0.5555555820465088,
            0.5555555820465088,
            0.6666666865348816,
            0.6666666865348816,
            0.6666666865348816,
            0.6666666865348816,
            0.6666666865348816,
            0.6666666865348816,
            0.6666666865348816,
            0.6666666865348816,
            0.6666666865348816,
            0.6666666865348816,
            0.7777777910232544,
            0.7777777910232544,
            0.7777777910232544,
            0.7777777910232544,
            0.7777777910232544,
            0.7777777910232544,
            0.7777777910232544,
            0.7777777910232544,
            0.7777777910232544,
            0.7777777910232544,
            0.8888888955116272,
            0.8888888955116272,
            0.8888888955116272,
            0.8888888955116272,
            0.8888888955116272,
            0.8888888955116272,
            0.8888888955116272,
            0.8888888955116272,
            0.8888888955116272,
            0.8888888955116272,
            1,
            1,
            1,
            1,
            1,
            1,
            1,
            1,
            1,
            1
           ],
           "y": [
            0,
            0.1111111119389534,
            0.2222222238779068,
            0.3333333432674408,
            0.4444444477558136,
            0.5555555820465088,
            0.6666666865348816,
            0.7777777910232544,
            0.8888888955116272,
            1,
            0,
            0.1111111119389534,
            0.2222222238779068,
            0.3333333432674408,
            0.4444444477558136,
            0.5555555820465088,
            0.6666666865348816,
            0.7777777910232544,
            0.8888888955116272,
            1,
            0,
            0.1111111119389534,
            0.2222222238779068,
            0.3333333432674408,
            0.4444444477558136,
            0.5555555820465088,
            0.6666666865348816,
            0.7777777910232544,
            0.8888888955116272,
            1,
            0,
            0.1111111119389534,
            0.2222222238779068,
            0.3333333432674408,
            0.4444444477558136,
            0.5555555820465088,
            0.6666666865348816,
            0.7777777910232544,
            0.8888888955116272,
            1,
            0,
            0.1111111119389534,
            0.2222222238779068,
            0.3333333432674408,
            0.4444444477558136,
            0.5555555820465088,
            0.6666666865348816,
            0.7777777910232544,
            0.8888888955116272,
            1,
            0,
            0.1111111119389534,
            0.2222222238779068,
            0.3333333432674408,
            0.4444444477558136,
            0.5555555820465088,
            0.6666666865348816,
            0.7777777910232544,
            0.8888888955116272,
            1,
            0,
            0.1111111119389534,
            0.2222222238779068,
            0.3333333432674408,
            0.4444444477558136,
            0.5555555820465088,
            0.6666666865348816,
            0.7777777910232544,
            0.8888888955116272,
            1,
            0,
            0.1111111119389534,
            0.2222222238779068,
            0.3333333432674408,
            0.4444444477558136,
            0.5555555820465088,
            0.6666666865348816,
            0.7777777910232544,
            0.8888888955116272,
            1,
            0,
            0.1111111119389534,
            0.2222222238779068,
            0.3333333432674408,
            0.4444444477558136,
            0.5555555820465088,
            0.6666666865348816,
            0.7777777910232544,
            0.8888888955116272,
            1,
            0,
            0.1111111119389534,
            0.2222222238779068,
            0.3333333432674408,
            0.4444444477558136,
            0.5555555820465088,
            0.6666666865348816,
            0.7777777910232544,
            0.8888888955116272,
            1
           ]
          }
         ],
         "name": "4.0"
        },
        {
         "data": [
          {
           "marker": {
            "cmax": 4.1,
            "cmin": -0.1,
            "color": [
             0,
             1,
             1,
             2,
             3,
             0,
             2,
             1,
             3,
             4,
             3,
             4,
             2,
             3,
             2,
             2,
             2,
             4,
             2,
             0,
             2,
             0,
             3,
             3,
             4,
             3,
             1,
             1,
             2,
             1,
             1,
             4,
             2,
             2,
             2,
             2,
             4,
             1,
             1,
             0,
             4,
             2,
             3,
             1,
             2,
             1,
             1,
             2,
             3,
             1,
             4,
             3,
             5,
             4,
             5,
             1,
             3,
             1,
             2,
             1,
             3,
             0,
             2,
             2,
             2,
             1,
             1,
             4,
             5,
             3,
             1,
             5,
             5,
             1,
             0,
             0,
             3,
             4,
             4,
             3,
             3,
             3,
             2,
             8,
             3,
             1,
             5,
             1,
             4,
             2,
             6,
             1,
             3,
             4,
             5,
             1,
             2,
             3,
             2,
             1
            ],
            "colorbar": {
             "thickness": 20,
             "title": {
              "text": "Rabbits"
             }
            },
            "colorscale": [
             [
              0,
              "#0508b8"
             ],
             [
              0.08333333333333333,
              "#1910d8"
             ],
             [
              0.16666666666666666,
              "#3c19f0"
             ],
             [
              0.25,
              "#6b1cfb"
             ],
             [
              0.3333333333333333,
              "#981cfd"
             ],
             [
              0.4166666666666667,
              "#bf1cfd"
             ],
             [
              0.5,
              "#dd2bfd"
             ],
             [
              0.5833333333333334,
              "#f246fe"
             ],
             [
              0.6666666666666666,
              "#fc67fd"
             ],
             [
              0.75,
              "#fe88fc"
             ],
             [
              0.8333333333333334,
              "#fea5fd"
             ],
             [
              0.9166666666666666,
              "#febefe"
             ],
             [
              1,
              "#fec3fe"
             ]
            ],
            "size": 20
           },
           "mode": "markers",
           "name": "Rabbits",
           "type": "scatter",
           "x": [
            0,
            0,
            0,
            0,
            0,
            0,
            0,
            0,
            0,
            0,
            0.1111111119389534,
            0.1111111119389534,
            0.1111111119389534,
            0.1111111119389534,
            0.1111111119389534,
            0.1111111119389534,
            0.1111111119389534,
            0.1111111119389534,
            0.1111111119389534,
            0.1111111119389534,
            0.2222222238779068,
            0.2222222238779068,
            0.2222222238779068,
            0.2222222238779068,
            0.2222222238779068,
            0.2222222238779068,
            0.2222222238779068,
            0.2222222238779068,
            0.2222222238779068,
            0.2222222238779068,
            0.3333333432674408,
            0.3333333432674408,
            0.3333333432674408,
            0.3333333432674408,
            0.3333333432674408,
            0.3333333432674408,
            0.3333333432674408,
            0.3333333432674408,
            0.3333333432674408,
            0.3333333432674408,
            0.4444444477558136,
            0.4444444477558136,
            0.4444444477558136,
            0.4444444477558136,
            0.4444444477558136,
            0.4444444477558136,
            0.4444444477558136,
            0.4444444477558136,
            0.4444444477558136,
            0.4444444477558136,
            0.5555555820465088,
            0.5555555820465088,
            0.5555555820465088,
            0.5555555820465088,
            0.5555555820465088,
            0.5555555820465088,
            0.5555555820465088,
            0.5555555820465088,
            0.5555555820465088,
            0.5555555820465088,
            0.6666666865348816,
            0.6666666865348816,
            0.6666666865348816,
            0.6666666865348816,
            0.6666666865348816,
            0.6666666865348816,
            0.6666666865348816,
            0.6666666865348816,
            0.6666666865348816,
            0.6666666865348816,
            0.7777777910232544,
            0.7777777910232544,
            0.7777777910232544,
            0.7777777910232544,
            0.7777777910232544,
            0.7777777910232544,
            0.7777777910232544,
            0.7777777910232544,
            0.7777777910232544,
            0.7777777910232544,
            0.8888888955116272,
            0.8888888955116272,
            0.8888888955116272,
            0.8888888955116272,
            0.8888888955116272,
            0.8888888955116272,
            0.8888888955116272,
            0.8888888955116272,
            0.8888888955116272,
            0.8888888955116272,
            1,
            1,
            1,
            1,
            1,
            1,
            1,
            1,
            1,
            1
           ],
           "y": [
            0,
            0.1111111119389534,
            0.2222222238779068,
            0.3333333432674408,
            0.4444444477558136,
            0.5555555820465088,
            0.6666666865348816,
            0.7777777910232544,
            0.8888888955116272,
            1,
            0,
            0.1111111119389534,
            0.2222222238779068,
            0.3333333432674408,
            0.4444444477558136,
            0.5555555820465088,
            0.6666666865348816,
            0.7777777910232544,
            0.8888888955116272,
            1,
            0,
            0.1111111119389534,
            0.2222222238779068,
            0.3333333432674408,
            0.4444444477558136,
            0.5555555820465088,
            0.6666666865348816,
            0.7777777910232544,
            0.8888888955116272,
            1,
            0,
            0.1111111119389534,
            0.2222222238779068,
            0.3333333432674408,
            0.4444444477558136,
            0.5555555820465088,
            0.6666666865348816,
            0.7777777910232544,
            0.8888888955116272,
            1,
            0,
            0.1111111119389534,
            0.2222222238779068,
            0.3333333432674408,
            0.4444444477558136,
            0.5555555820465088,
            0.6666666865348816,
            0.7777777910232544,
            0.8888888955116272,
            1,
            0,
            0.1111111119389534,
            0.2222222238779068,
            0.3333333432674408,
            0.4444444477558136,
            0.5555555820465088,
            0.6666666865348816,
            0.7777777910232544,
            0.8888888955116272,
            1,
            0,
            0.1111111119389534,
            0.2222222238779068,
            0.3333333432674408,
            0.4444444477558136,
            0.5555555820465088,
            0.6666666865348816,
            0.7777777910232544,
            0.8888888955116272,
            1,
            0,
            0.1111111119389534,
            0.2222222238779068,
            0.3333333432674408,
            0.4444444477558136,
            0.5555555820465088,
            0.6666666865348816,
            0.7777777910232544,
            0.8888888955116272,
            1,
            0,
            0.1111111119389534,
            0.2222222238779068,
            0.3333333432674408,
            0.4444444477558136,
            0.5555555820465088,
            0.6666666865348816,
            0.7777777910232544,
            0.8888888955116272,
            1,
            0,
            0.1111111119389534,
            0.2222222238779068,
            0.3333333432674408,
            0.4444444477558136,
            0.5555555820465088,
            0.6666666865348816,
            0.7777777910232544,
            0.8888888955116272,
            1
           ]
          }
         ],
         "name": "5.0"
        },
        {
         "data": [
          {
           "marker": {
            "cmax": 4.1,
            "cmin": -0.1,
            "color": [
             2,
             5,
             3,
             2,
             5,
             2,
             0,
             1,
             3,
             2,
             3,
             4,
             5,
             3,
             3,
             4,
             4,
             2,
             2,
             3,
             6,
             2,
             3,
             2,
             2,
             3,
             3,
             3,
             2,
             2,
             3,
             3,
             1,
             0,
             0,
             3,
             2,
             3,
             1,
             3,
             2,
             4,
             3,
             2,
             1,
             1,
             2,
             3,
             1,
             4,
             2,
             2,
             2,
             2,
             1,
             2,
             2,
             3,
             3,
             5,
             1,
             4,
             0,
             3,
             4,
             1,
             1,
             3,
             2,
             3,
             3,
             2,
             4,
             5,
             6,
             1,
             4,
             1,
             2,
             7,
             2,
             4,
             0,
             1,
             4,
             0,
             3,
             2,
             4,
             2,
             2,
             5,
             2,
             4,
             5,
             6,
             0,
             3,
             3,
             3
            ],
            "colorbar": {
             "thickness": 20,
             "title": {
              "text": "Rabbits"
             }
            },
            "colorscale": [
             [
              0,
              "#0508b8"
             ],
             [
              0.08333333333333333,
              "#1910d8"
             ],
             [
              0.16666666666666666,
              "#3c19f0"
             ],
             [
              0.25,
              "#6b1cfb"
             ],
             [
              0.3333333333333333,
              "#981cfd"
             ],
             [
              0.4166666666666667,
              "#bf1cfd"
             ],
             [
              0.5,
              "#dd2bfd"
             ],
             [
              0.5833333333333334,
              "#f246fe"
             ],
             [
              0.6666666666666666,
              "#fc67fd"
             ],
             [
              0.75,
              "#fe88fc"
             ],
             [
              0.8333333333333334,
              "#fea5fd"
             ],
             [
              0.9166666666666666,
              "#febefe"
             ],
             [
              1,
              "#fec3fe"
             ]
            ],
            "size": 20
           },
           "mode": "markers",
           "name": "Rabbits",
           "type": "scatter",
           "x": [
            0,
            0,
            0,
            0,
            0,
            0,
            0,
            0,
            0,
            0,
            0.1111111119389534,
            0.1111111119389534,
            0.1111111119389534,
            0.1111111119389534,
            0.1111111119389534,
            0.1111111119389534,
            0.1111111119389534,
            0.1111111119389534,
            0.1111111119389534,
            0.1111111119389534,
            0.2222222238779068,
            0.2222222238779068,
            0.2222222238779068,
            0.2222222238779068,
            0.2222222238779068,
            0.2222222238779068,
            0.2222222238779068,
            0.2222222238779068,
            0.2222222238779068,
            0.2222222238779068,
            0.3333333432674408,
            0.3333333432674408,
            0.3333333432674408,
            0.3333333432674408,
            0.3333333432674408,
            0.3333333432674408,
            0.3333333432674408,
            0.3333333432674408,
            0.3333333432674408,
            0.3333333432674408,
            0.4444444477558136,
            0.4444444477558136,
            0.4444444477558136,
            0.4444444477558136,
            0.4444444477558136,
            0.4444444477558136,
            0.4444444477558136,
            0.4444444477558136,
            0.4444444477558136,
            0.4444444477558136,
            0.5555555820465088,
            0.5555555820465088,
            0.5555555820465088,
            0.5555555820465088,
            0.5555555820465088,
            0.5555555820465088,
            0.5555555820465088,
            0.5555555820465088,
            0.5555555820465088,
            0.5555555820465088,
            0.6666666865348816,
            0.6666666865348816,
            0.6666666865348816,
            0.6666666865348816,
            0.6666666865348816,
            0.6666666865348816,
            0.6666666865348816,
            0.6666666865348816,
            0.6666666865348816,
            0.6666666865348816,
            0.7777777910232544,
            0.7777777910232544,
            0.7777777910232544,
            0.7777777910232544,
            0.7777777910232544,
            0.7777777910232544,
            0.7777777910232544,
            0.7777777910232544,
            0.7777777910232544,
            0.7777777910232544,
            0.8888888955116272,
            0.8888888955116272,
            0.8888888955116272,
            0.8888888955116272,
            0.8888888955116272,
            0.8888888955116272,
            0.8888888955116272,
            0.8888888955116272,
            0.8888888955116272,
            0.8888888955116272,
            1,
            1,
            1,
            1,
            1,
            1,
            1,
            1,
            1,
            1
           ],
           "y": [
            0,
            0.1111111119389534,
            0.2222222238779068,
            0.3333333432674408,
            0.4444444477558136,
            0.5555555820465088,
            0.6666666865348816,
            0.7777777910232544,
            0.8888888955116272,
            1,
            0,
            0.1111111119389534,
            0.2222222238779068,
            0.3333333432674408,
            0.4444444477558136,
            0.5555555820465088,
            0.6666666865348816,
            0.7777777910232544,
            0.8888888955116272,
            1,
            0,
            0.1111111119389534,
            0.2222222238779068,
            0.3333333432674408,
            0.4444444477558136,
            0.5555555820465088,
            0.6666666865348816,
            0.7777777910232544,
            0.8888888955116272,
            1,
            0,
            0.1111111119389534,
            0.2222222238779068,
            0.3333333432674408,
            0.4444444477558136,
            0.5555555820465088,
            0.6666666865348816,
            0.7777777910232544,
            0.8888888955116272,
            1,
            0,
            0.1111111119389534,
            0.2222222238779068,
            0.3333333432674408,
            0.4444444477558136,
            0.5555555820465088,
            0.6666666865348816,
            0.7777777910232544,
            0.8888888955116272,
            1,
            0,
            0.1111111119389534,
            0.2222222238779068,
            0.3333333432674408,
            0.4444444477558136,
            0.5555555820465088,
            0.6666666865348816,
            0.7777777910232544,
            0.8888888955116272,
            1,
            0,
            0.1111111119389534,
            0.2222222238779068,
            0.3333333432674408,
            0.4444444477558136,
            0.5555555820465088,
            0.6666666865348816,
            0.7777777910232544,
            0.8888888955116272,
            1,
            0,
            0.1111111119389534,
            0.2222222238779068,
            0.3333333432674408,
            0.4444444477558136,
            0.5555555820465088,
            0.6666666865348816,
            0.7777777910232544,
            0.8888888955116272,
            1,
            0,
            0.1111111119389534,
            0.2222222238779068,
            0.3333333432674408,
            0.4444444477558136,
            0.5555555820465088,
            0.6666666865348816,
            0.7777777910232544,
            0.8888888955116272,
            1,
            0,
            0.1111111119389534,
            0.2222222238779068,
            0.3333333432674408,
            0.4444444477558136,
            0.5555555820465088,
            0.6666666865348816,
            0.7777777910232544,
            0.8888888955116272,
            1
           ]
          }
         ],
         "name": "6.0"
        },
        {
         "data": [
          {
           "marker": {
            "cmax": 4.1,
            "cmin": -0.1,
            "color": [
             2,
             8,
             4,
             0,
             1,
             4,
             2,
             3,
             4,
             4,
             3,
             1,
             4,
             3,
             3,
             6,
             3,
             4,
             3,
             3,
             1,
             2,
             4,
             4,
             4,
             2,
             3,
             6,
             3,
             0,
             2,
             3,
             1,
             3,
             3,
             7,
             3,
             0,
             2,
             11,
             1,
             4,
             5,
             0,
             4,
             3,
             1,
             2,
             4,
             1,
             5,
             0,
             3,
             5,
             4,
             3,
             1,
             2,
             5,
             1,
             4,
             4,
             3,
             4,
             2,
             4,
             1,
             4,
             3,
             4,
             1,
             2,
             6,
             1,
             1,
             2,
             2,
             5,
             4,
             1,
             2,
             5,
             2,
             0,
             5,
             3,
             3,
             2,
             2,
             2,
             4,
             4,
             4,
             1,
             1,
             3,
             7,
             2,
             3,
             4
            ],
            "colorbar": {
             "thickness": 20,
             "title": {
              "text": "Rabbits"
             }
            },
            "colorscale": [
             [
              0,
              "#0508b8"
             ],
             [
              0.08333333333333333,
              "#1910d8"
             ],
             [
              0.16666666666666666,
              "#3c19f0"
             ],
             [
              0.25,
              "#6b1cfb"
             ],
             [
              0.3333333333333333,
              "#981cfd"
             ],
             [
              0.4166666666666667,
              "#bf1cfd"
             ],
             [
              0.5,
              "#dd2bfd"
             ],
             [
              0.5833333333333334,
              "#f246fe"
             ],
             [
              0.6666666666666666,
              "#fc67fd"
             ],
             [
              0.75,
              "#fe88fc"
             ],
             [
              0.8333333333333334,
              "#fea5fd"
             ],
             [
              0.9166666666666666,
              "#febefe"
             ],
             [
              1,
              "#fec3fe"
             ]
            ],
            "size": 20
           },
           "mode": "markers",
           "name": "Rabbits",
           "type": "scatter",
           "x": [
            0,
            0,
            0,
            0,
            0,
            0,
            0,
            0,
            0,
            0,
            0.1111111119389534,
            0.1111111119389534,
            0.1111111119389534,
            0.1111111119389534,
            0.1111111119389534,
            0.1111111119389534,
            0.1111111119389534,
            0.1111111119389534,
            0.1111111119389534,
            0.1111111119389534,
            0.2222222238779068,
            0.2222222238779068,
            0.2222222238779068,
            0.2222222238779068,
            0.2222222238779068,
            0.2222222238779068,
            0.2222222238779068,
            0.2222222238779068,
            0.2222222238779068,
            0.2222222238779068,
            0.3333333432674408,
            0.3333333432674408,
            0.3333333432674408,
            0.3333333432674408,
            0.3333333432674408,
            0.3333333432674408,
            0.3333333432674408,
            0.3333333432674408,
            0.3333333432674408,
            0.3333333432674408,
            0.4444444477558136,
            0.4444444477558136,
            0.4444444477558136,
            0.4444444477558136,
            0.4444444477558136,
            0.4444444477558136,
            0.4444444477558136,
            0.4444444477558136,
            0.4444444477558136,
            0.4444444477558136,
            0.5555555820465088,
            0.5555555820465088,
            0.5555555820465088,
            0.5555555820465088,
            0.5555555820465088,
            0.5555555820465088,
            0.5555555820465088,
            0.5555555820465088,
            0.5555555820465088,
            0.5555555820465088,
            0.6666666865348816,
            0.6666666865348816,
            0.6666666865348816,
            0.6666666865348816,
            0.6666666865348816,
            0.6666666865348816,
            0.6666666865348816,
            0.6666666865348816,
            0.6666666865348816,
            0.6666666865348816,
            0.7777777910232544,
            0.7777777910232544,
            0.7777777910232544,
            0.7777777910232544,
            0.7777777910232544,
            0.7777777910232544,
            0.7777777910232544,
            0.7777777910232544,
            0.7777777910232544,
            0.7777777910232544,
            0.8888888955116272,
            0.8888888955116272,
            0.8888888955116272,
            0.8888888955116272,
            0.8888888955116272,
            0.8888888955116272,
            0.8888888955116272,
            0.8888888955116272,
            0.8888888955116272,
            0.8888888955116272,
            1,
            1,
            1,
            1,
            1,
            1,
            1,
            1,
            1,
            1
           ],
           "y": [
            0,
            0.1111111119389534,
            0.2222222238779068,
            0.3333333432674408,
            0.4444444477558136,
            0.5555555820465088,
            0.6666666865348816,
            0.7777777910232544,
            0.8888888955116272,
            1,
            0,
            0.1111111119389534,
            0.2222222238779068,
            0.3333333432674408,
            0.4444444477558136,
            0.5555555820465088,
            0.6666666865348816,
            0.7777777910232544,
            0.8888888955116272,
            1,
            0,
            0.1111111119389534,
            0.2222222238779068,
            0.3333333432674408,
            0.4444444477558136,
            0.5555555820465088,
            0.6666666865348816,
            0.7777777910232544,
            0.8888888955116272,
            1,
            0,
            0.1111111119389534,
            0.2222222238779068,
            0.3333333432674408,
            0.4444444477558136,
            0.5555555820465088,
            0.6666666865348816,
            0.7777777910232544,
            0.8888888955116272,
            1,
            0,
            0.1111111119389534,
            0.2222222238779068,
            0.3333333432674408,
            0.4444444477558136,
            0.5555555820465088,
            0.6666666865348816,
            0.7777777910232544,
            0.8888888955116272,
            1,
            0,
            0.1111111119389534,
            0.2222222238779068,
            0.3333333432674408,
            0.4444444477558136,
            0.5555555820465088,
            0.6666666865348816,
            0.7777777910232544,
            0.8888888955116272,
            1,
            0,
            0.1111111119389534,
            0.2222222238779068,
            0.3333333432674408,
            0.4444444477558136,
            0.5555555820465088,
            0.6666666865348816,
            0.7777777910232544,
            0.8888888955116272,
            1,
            0,
            0.1111111119389534,
            0.2222222238779068,
            0.3333333432674408,
            0.4444444477558136,
            0.5555555820465088,
            0.6666666865348816,
            0.7777777910232544,
            0.8888888955116272,
            1,
            0,
            0.1111111119389534,
            0.2222222238779068,
            0.3333333432674408,
            0.4444444477558136,
            0.5555555820465088,
            0.6666666865348816,
            0.7777777910232544,
            0.8888888955116272,
            1,
            0,
            0.1111111119389534,
            0.2222222238779068,
            0.3333333432674408,
            0.4444444477558136,
            0.5555555820465088,
            0.6666666865348816,
            0.7777777910232544,
            0.8888888955116272,
            1
           ]
          }
         ],
         "name": "7.0"
        },
        {
         "data": [
          {
           "marker": {
            "cmax": 4.1,
            "cmin": -0.1,
            "color": [
             2,
             4,
             2,
             3,
             4,
             2,
             4,
             3,
             3,
             6,
             5,
             1,
             4,
             2,
             4,
             5,
             5,
             5,
             5,
             1,
             1,
             6,
             0,
             2,
             1,
             2,
             3,
             6,
             4,
             4,
             7,
             4,
             2,
             1,
             4,
             4,
             5,
             0,
             5,
             4,
             3,
             2,
             3,
             3,
             1,
             3,
             3,
             3,
             3,
             5,
             4,
             1,
             6,
             3,
             3,
             4,
             3,
             4,
             1,
             5,
             3,
             6,
             4,
             1,
             2,
             1,
             8,
             4,
             3,
             2,
             3,
             4,
             7,
             1,
             1,
             2,
             2,
             4,
             3,
             1,
             2,
             2,
             1,
             2,
             3,
             1,
             6,
             5,
             9,
             1,
             4,
             5,
             4,
             2,
             6,
             2,
             3,
             4,
             5,
             7
            ],
            "colorbar": {
             "thickness": 20,
             "title": {
              "text": "Rabbits"
             }
            },
            "colorscale": [
             [
              0,
              "#0508b8"
             ],
             [
              0.08333333333333333,
              "#1910d8"
             ],
             [
              0.16666666666666666,
              "#3c19f0"
             ],
             [
              0.25,
              "#6b1cfb"
             ],
             [
              0.3333333333333333,
              "#981cfd"
             ],
             [
              0.4166666666666667,
              "#bf1cfd"
             ],
             [
              0.5,
              "#dd2bfd"
             ],
             [
              0.5833333333333334,
              "#f246fe"
             ],
             [
              0.6666666666666666,
              "#fc67fd"
             ],
             [
              0.75,
              "#fe88fc"
             ],
             [
              0.8333333333333334,
              "#fea5fd"
             ],
             [
              0.9166666666666666,
              "#febefe"
             ],
             [
              1,
              "#fec3fe"
             ]
            ],
            "size": 20
           },
           "mode": "markers",
           "name": "Rabbits",
           "type": "scatter",
           "x": [
            0,
            0,
            0,
            0,
            0,
            0,
            0,
            0,
            0,
            0,
            0.1111111119389534,
            0.1111111119389534,
            0.1111111119389534,
            0.1111111119389534,
            0.1111111119389534,
            0.1111111119389534,
            0.1111111119389534,
            0.1111111119389534,
            0.1111111119389534,
            0.1111111119389534,
            0.2222222238779068,
            0.2222222238779068,
            0.2222222238779068,
            0.2222222238779068,
            0.2222222238779068,
            0.2222222238779068,
            0.2222222238779068,
            0.2222222238779068,
            0.2222222238779068,
            0.2222222238779068,
            0.3333333432674408,
            0.3333333432674408,
            0.3333333432674408,
            0.3333333432674408,
            0.3333333432674408,
            0.3333333432674408,
            0.3333333432674408,
            0.3333333432674408,
            0.3333333432674408,
            0.3333333432674408,
            0.4444444477558136,
            0.4444444477558136,
            0.4444444477558136,
            0.4444444477558136,
            0.4444444477558136,
            0.4444444477558136,
            0.4444444477558136,
            0.4444444477558136,
            0.4444444477558136,
            0.4444444477558136,
            0.5555555820465088,
            0.5555555820465088,
            0.5555555820465088,
            0.5555555820465088,
            0.5555555820465088,
            0.5555555820465088,
            0.5555555820465088,
            0.5555555820465088,
            0.5555555820465088,
            0.5555555820465088,
            0.6666666865348816,
            0.6666666865348816,
            0.6666666865348816,
            0.6666666865348816,
            0.6666666865348816,
            0.6666666865348816,
            0.6666666865348816,
            0.6666666865348816,
            0.6666666865348816,
            0.6666666865348816,
            0.7777777910232544,
            0.7777777910232544,
            0.7777777910232544,
            0.7777777910232544,
            0.7777777910232544,
            0.7777777910232544,
            0.7777777910232544,
            0.7777777910232544,
            0.7777777910232544,
            0.7777777910232544,
            0.8888888955116272,
            0.8888888955116272,
            0.8888888955116272,
            0.8888888955116272,
            0.8888888955116272,
            0.8888888955116272,
            0.8888888955116272,
            0.8888888955116272,
            0.8888888955116272,
            0.8888888955116272,
            1,
            1,
            1,
            1,
            1,
            1,
            1,
            1,
            1,
            1
           ],
           "y": [
            0,
            0.1111111119389534,
            0.2222222238779068,
            0.3333333432674408,
            0.4444444477558136,
            0.5555555820465088,
            0.6666666865348816,
            0.7777777910232544,
            0.8888888955116272,
            1,
            0,
            0.1111111119389534,
            0.2222222238779068,
            0.3333333432674408,
            0.4444444477558136,
            0.5555555820465088,
            0.6666666865348816,
            0.7777777910232544,
            0.8888888955116272,
            1,
            0,
            0.1111111119389534,
            0.2222222238779068,
            0.3333333432674408,
            0.4444444477558136,
            0.5555555820465088,
            0.6666666865348816,
            0.7777777910232544,
            0.8888888955116272,
            1,
            0,
            0.1111111119389534,
            0.2222222238779068,
            0.3333333432674408,
            0.4444444477558136,
            0.5555555820465088,
            0.6666666865348816,
            0.7777777910232544,
            0.8888888955116272,
            1,
            0,
            0.1111111119389534,
            0.2222222238779068,
            0.3333333432674408,
            0.4444444477558136,
            0.5555555820465088,
            0.6666666865348816,
            0.7777777910232544,
            0.8888888955116272,
            1,
            0,
            0.1111111119389534,
            0.2222222238779068,
            0.3333333432674408,
            0.4444444477558136,
            0.5555555820465088,
            0.6666666865348816,
            0.7777777910232544,
            0.8888888955116272,
            1,
            0,
            0.1111111119389534,
            0.2222222238779068,
            0.3333333432674408,
            0.4444444477558136,
            0.5555555820465088,
            0.6666666865348816,
            0.7777777910232544,
            0.8888888955116272,
            1,
            0,
            0.1111111119389534,
            0.2222222238779068,
            0.3333333432674408,
            0.4444444477558136,
            0.5555555820465088,
            0.6666666865348816,
            0.7777777910232544,
            0.8888888955116272,
            1,
            0,
            0.1111111119389534,
            0.2222222238779068,
            0.3333333432674408,
            0.4444444477558136,
            0.5555555820465088,
            0.6666666865348816,
            0.7777777910232544,
            0.8888888955116272,
            1,
            0,
            0.1111111119389534,
            0.2222222238779068,
            0.3333333432674408,
            0.4444444477558136,
            0.5555555820465088,
            0.6666666865348816,
            0.7777777910232544,
            0.8888888955116272,
            1
           ]
          }
         ],
         "name": "8.0"
        },
        {
         "data": [
          {
           "marker": {
            "cmax": 4.1,
            "cmin": -0.1,
            "color": [
             5,
             3,
             1,
             2,
             5,
             2,
             3,
             6,
             7,
             2,
             7,
             5,
             1,
             5,
             3,
             0,
             7,
             4,
             3,
             5,
             3,
             3,
             6,
             5,
             1,
             5,
             3,
             3,
             4,
             6,
             3,
             5,
             2,
             6,
             3,
             2,
             6,
             2,
             3,
             1,
             2,
             10,
             4,
             6,
             3,
             7,
             4,
             4,
             4,
             8,
             4,
             5,
             5,
             2,
             4,
             5,
             3,
             5,
             3,
             3,
             6,
             4,
             4,
             5,
             5,
             1,
             4,
             2,
             2,
             2,
             2,
             6,
             5,
             5,
             4,
             0,
             6,
             5,
             0,
             2,
             3,
             2,
             7,
             2,
             2,
             3,
             2,
             4,
             5,
             3,
             5,
             3,
             5,
             0,
             2,
             4,
             3,
             5,
             4,
             7
            ],
            "colorbar": {
             "thickness": 20,
             "title": {
              "text": "Rabbits"
             }
            },
            "colorscale": [
             [
              0,
              "#0508b8"
             ],
             [
              0.08333333333333333,
              "#1910d8"
             ],
             [
              0.16666666666666666,
              "#3c19f0"
             ],
             [
              0.25,
              "#6b1cfb"
             ],
             [
              0.3333333333333333,
              "#981cfd"
             ],
             [
              0.4166666666666667,
              "#bf1cfd"
             ],
             [
              0.5,
              "#dd2bfd"
             ],
             [
              0.5833333333333334,
              "#f246fe"
             ],
             [
              0.6666666666666666,
              "#fc67fd"
             ],
             [
              0.75,
              "#fe88fc"
             ],
             [
              0.8333333333333334,
              "#fea5fd"
             ],
             [
              0.9166666666666666,
              "#febefe"
             ],
             [
              1,
              "#fec3fe"
             ]
            ],
            "size": 20
           },
           "mode": "markers",
           "name": "Rabbits",
           "type": "scatter",
           "x": [
            0,
            0,
            0,
            0,
            0,
            0,
            0,
            0,
            0,
            0,
            0.1111111119389534,
            0.1111111119389534,
            0.1111111119389534,
            0.1111111119389534,
            0.1111111119389534,
            0.1111111119389534,
            0.1111111119389534,
            0.1111111119389534,
            0.1111111119389534,
            0.1111111119389534,
            0.2222222238779068,
            0.2222222238779068,
            0.2222222238779068,
            0.2222222238779068,
            0.2222222238779068,
            0.2222222238779068,
            0.2222222238779068,
            0.2222222238779068,
            0.2222222238779068,
            0.2222222238779068,
            0.3333333432674408,
            0.3333333432674408,
            0.3333333432674408,
            0.3333333432674408,
            0.3333333432674408,
            0.3333333432674408,
            0.3333333432674408,
            0.3333333432674408,
            0.3333333432674408,
            0.3333333432674408,
            0.4444444477558136,
            0.4444444477558136,
            0.4444444477558136,
            0.4444444477558136,
            0.4444444477558136,
            0.4444444477558136,
            0.4444444477558136,
            0.4444444477558136,
            0.4444444477558136,
            0.4444444477558136,
            0.5555555820465088,
            0.5555555820465088,
            0.5555555820465088,
            0.5555555820465088,
            0.5555555820465088,
            0.5555555820465088,
            0.5555555820465088,
            0.5555555820465088,
            0.5555555820465088,
            0.5555555820465088,
            0.6666666865348816,
            0.6666666865348816,
            0.6666666865348816,
            0.6666666865348816,
            0.6666666865348816,
            0.6666666865348816,
            0.6666666865348816,
            0.6666666865348816,
            0.6666666865348816,
            0.6666666865348816,
            0.7777777910232544,
            0.7777777910232544,
            0.7777777910232544,
            0.7777777910232544,
            0.7777777910232544,
            0.7777777910232544,
            0.7777777910232544,
            0.7777777910232544,
            0.7777777910232544,
            0.7777777910232544,
            0.8888888955116272,
            0.8888888955116272,
            0.8888888955116272,
            0.8888888955116272,
            0.8888888955116272,
            0.8888888955116272,
            0.8888888955116272,
            0.8888888955116272,
            0.8888888955116272,
            0.8888888955116272,
            1,
            1,
            1,
            1,
            1,
            1,
            1,
            1,
            1,
            1
           ],
           "y": [
            0,
            0.1111111119389534,
            0.2222222238779068,
            0.3333333432674408,
            0.4444444477558136,
            0.5555555820465088,
            0.6666666865348816,
            0.7777777910232544,
            0.8888888955116272,
            1,
            0,
            0.1111111119389534,
            0.2222222238779068,
            0.3333333432674408,
            0.4444444477558136,
            0.5555555820465088,
            0.6666666865348816,
            0.7777777910232544,
            0.8888888955116272,
            1,
            0,
            0.1111111119389534,
            0.2222222238779068,
            0.3333333432674408,
            0.4444444477558136,
            0.5555555820465088,
            0.6666666865348816,
            0.7777777910232544,
            0.8888888955116272,
            1,
            0,
            0.1111111119389534,
            0.2222222238779068,
            0.3333333432674408,
            0.4444444477558136,
            0.5555555820465088,
            0.6666666865348816,
            0.7777777910232544,
            0.8888888955116272,
            1,
            0,
            0.1111111119389534,
            0.2222222238779068,
            0.3333333432674408,
            0.4444444477558136,
            0.5555555820465088,
            0.6666666865348816,
            0.7777777910232544,
            0.8888888955116272,
            1,
            0,
            0.1111111119389534,
            0.2222222238779068,
            0.3333333432674408,
            0.4444444477558136,
            0.5555555820465088,
            0.6666666865348816,
            0.7777777910232544,
            0.8888888955116272,
            1,
            0,
            0.1111111119389534,
            0.2222222238779068,
            0.3333333432674408,
            0.4444444477558136,
            0.5555555820465088,
            0.6666666865348816,
            0.7777777910232544,
            0.8888888955116272,
            1,
            0,
            0.1111111119389534,
            0.2222222238779068,
            0.3333333432674408,
            0.4444444477558136,
            0.5555555820465088,
            0.6666666865348816,
            0.7777777910232544,
            0.8888888955116272,
            1,
            0,
            0.1111111119389534,
            0.2222222238779068,
            0.3333333432674408,
            0.4444444477558136,
            0.5555555820465088,
            0.6666666865348816,
            0.7777777910232544,
            0.8888888955116272,
            1,
            0,
            0.1111111119389534,
            0.2222222238779068,
            0.3333333432674408,
            0.4444444477558136,
            0.5555555820465088,
            0.6666666865348816,
            0.7777777910232544,
            0.8888888955116272,
            1
           ]
          }
         ],
         "name": "9.0"
        },
        {
         "data": [
          {
           "marker": {
            "cmax": 4.1,
            "cmin": -0.1,
            "color": [
             4,
             8,
             2,
             3,
             6,
             4,
             4,
             0,
             7,
             2,
             3,
             4,
             5,
             0,
             5,
             1,
             5,
             8,
             5,
             4,
             7,
             4,
             2,
             5,
             5,
             9,
             8,
             5,
             3,
             5,
             0,
             4,
             6,
             4,
             8,
             6,
             6,
             5,
             3,
             2,
             2,
             4,
             2,
             5,
             8,
             7,
             1,
             9,
             3,
             6,
             8,
             7,
             5,
             6,
             1,
             4,
             3,
             4,
             4,
             7,
             6,
             5,
             6,
             5,
             5,
             5,
             6,
             4,
             4,
             4,
             4,
             1,
             3,
             2,
             4,
             2,
             2,
             11,
             4,
             9,
             3,
             4,
             4,
             4,
             3,
             3,
             4,
             5,
             4,
             2,
             5,
             4,
             1,
             4,
             3,
             3,
             5,
             3,
             4,
             2
            ],
            "colorbar": {
             "thickness": 20,
             "title": {
              "text": "Rabbits"
             }
            },
            "colorscale": [
             [
              0,
              "#0508b8"
             ],
             [
              0.08333333333333333,
              "#1910d8"
             ],
             [
              0.16666666666666666,
              "#3c19f0"
             ],
             [
              0.25,
              "#6b1cfb"
             ],
             [
              0.3333333333333333,
              "#981cfd"
             ],
             [
              0.4166666666666667,
              "#bf1cfd"
             ],
             [
              0.5,
              "#dd2bfd"
             ],
             [
              0.5833333333333334,
              "#f246fe"
             ],
             [
              0.6666666666666666,
              "#fc67fd"
             ],
             [
              0.75,
              "#fe88fc"
             ],
             [
              0.8333333333333334,
              "#fea5fd"
             ],
             [
              0.9166666666666666,
              "#febefe"
             ],
             [
              1,
              "#fec3fe"
             ]
            ],
            "size": 20
           },
           "mode": "markers",
           "name": "Rabbits",
           "type": "scatter",
           "x": [
            0,
            0,
            0,
            0,
            0,
            0,
            0,
            0,
            0,
            0,
            0.1111111119389534,
            0.1111111119389534,
            0.1111111119389534,
            0.1111111119389534,
            0.1111111119389534,
            0.1111111119389534,
            0.1111111119389534,
            0.1111111119389534,
            0.1111111119389534,
            0.1111111119389534,
            0.2222222238779068,
            0.2222222238779068,
            0.2222222238779068,
            0.2222222238779068,
            0.2222222238779068,
            0.2222222238779068,
            0.2222222238779068,
            0.2222222238779068,
            0.2222222238779068,
            0.2222222238779068,
            0.3333333432674408,
            0.3333333432674408,
            0.3333333432674408,
            0.3333333432674408,
            0.3333333432674408,
            0.3333333432674408,
            0.3333333432674408,
            0.3333333432674408,
            0.3333333432674408,
            0.3333333432674408,
            0.4444444477558136,
            0.4444444477558136,
            0.4444444477558136,
            0.4444444477558136,
            0.4444444477558136,
            0.4444444477558136,
            0.4444444477558136,
            0.4444444477558136,
            0.4444444477558136,
            0.4444444477558136,
            0.5555555820465088,
            0.5555555820465088,
            0.5555555820465088,
            0.5555555820465088,
            0.5555555820465088,
            0.5555555820465088,
            0.5555555820465088,
            0.5555555820465088,
            0.5555555820465088,
            0.5555555820465088,
            0.6666666865348816,
            0.6666666865348816,
            0.6666666865348816,
            0.6666666865348816,
            0.6666666865348816,
            0.6666666865348816,
            0.6666666865348816,
            0.6666666865348816,
            0.6666666865348816,
            0.6666666865348816,
            0.7777777910232544,
            0.7777777910232544,
            0.7777777910232544,
            0.7777777910232544,
            0.7777777910232544,
            0.7777777910232544,
            0.7777777910232544,
            0.7777777910232544,
            0.7777777910232544,
            0.7777777910232544,
            0.8888888955116272,
            0.8888888955116272,
            0.8888888955116272,
            0.8888888955116272,
            0.8888888955116272,
            0.8888888955116272,
            0.8888888955116272,
            0.8888888955116272,
            0.8888888955116272,
            0.8888888955116272,
            1,
            1,
            1,
            1,
            1,
            1,
            1,
            1,
            1,
            1
           ],
           "y": [
            0,
            0.1111111119389534,
            0.2222222238779068,
            0.3333333432674408,
            0.4444444477558136,
            0.5555555820465088,
            0.6666666865348816,
            0.7777777910232544,
            0.8888888955116272,
            1,
            0,
            0.1111111119389534,
            0.2222222238779068,
            0.3333333432674408,
            0.4444444477558136,
            0.5555555820465088,
            0.6666666865348816,
            0.7777777910232544,
            0.8888888955116272,
            1,
            0,
            0.1111111119389534,
            0.2222222238779068,
            0.3333333432674408,
            0.4444444477558136,
            0.5555555820465088,
            0.6666666865348816,
            0.7777777910232544,
            0.8888888955116272,
            1,
            0,
            0.1111111119389534,
            0.2222222238779068,
            0.3333333432674408,
            0.4444444477558136,
            0.5555555820465088,
            0.6666666865348816,
            0.7777777910232544,
            0.8888888955116272,
            1,
            0,
            0.1111111119389534,
            0.2222222238779068,
            0.3333333432674408,
            0.4444444477558136,
            0.5555555820465088,
            0.6666666865348816,
            0.7777777910232544,
            0.8888888955116272,
            1,
            0,
            0.1111111119389534,
            0.2222222238779068,
            0.3333333432674408,
            0.4444444477558136,
            0.5555555820465088,
            0.6666666865348816,
            0.7777777910232544,
            0.8888888955116272,
            1,
            0,
            0.1111111119389534,
            0.2222222238779068,
            0.3333333432674408,
            0.4444444477558136,
            0.5555555820465088,
            0.6666666865348816,
            0.7777777910232544,
            0.8888888955116272,
            1,
            0,
            0.1111111119389534,
            0.2222222238779068,
            0.3333333432674408,
            0.4444444477558136,
            0.5555555820465088,
            0.6666666865348816,
            0.7777777910232544,
            0.8888888955116272,
            1,
            0,
            0.1111111119389534,
            0.2222222238779068,
            0.3333333432674408,
            0.4444444477558136,
            0.5555555820465088,
            0.6666666865348816,
            0.7777777910232544,
            0.8888888955116272,
            1,
            0,
            0.1111111119389534,
            0.2222222238779068,
            0.3333333432674408,
            0.4444444477558136,
            0.5555555820465088,
            0.6666666865348816,
            0.7777777910232544,
            0.8888888955116272,
            1
           ]
          }
         ],
         "name": "10.0"
        }
       ],
       "layout": {
        "height": 500,
        "scene": {
         "aspectmode": "data"
        },
        "sliders": [
         {
          "active": 0,
          "currentvalue": {
           "font": {
            "size": 20
           },
           "prefix": "Time:",
           "visible": true,
           "xanchor": "right"
          },
          "len": 0.9,
          "pad": {
           "b": 10,
           "t": 50
          },
          "steps": [
           {
            "args": [
             [
              "0.0"
             ],
             {
              "frame": {
               "duration": 500,
               "redraw": true
              },
              "mode": "immediate",
              "transition": {
               "duration": 300
              }
             }
            ],
            "label": "0.0",
            "method": "animate"
           },
           {
            "args": [
             [
              "1.0"
             ],
             {
              "frame": {
               "duration": 500,
               "redraw": true
              },
              "mode": "immediate",
              "transition": {
               "duration": 300
              }
             }
            ],
            "label": "1.0",
            "method": "animate"
           },
           {
            "args": [
             [
              "2.0"
             ],
             {
              "frame": {
               "duration": 500,
               "redraw": true
              },
              "mode": "immediate",
              "transition": {
               "duration": 300
              }
             }
            ],
            "label": "2.0",
            "method": "animate"
           },
           {
            "args": [
             [
              "3.0"
             ],
             {
              "frame": {
               "duration": 500,
               "redraw": true
              },
              "mode": "immediate",
              "transition": {
               "duration": 300
              }
             }
            ],
            "label": "3.0",
            "method": "animate"
           },
           {
            "args": [
             [
              "4.0"
             ],
             {
              "frame": {
               "duration": 500,
               "redraw": true
              },
              "mode": "immediate",
              "transition": {
               "duration": 300
              }
             }
            ],
            "label": "4.0",
            "method": "animate"
           },
           {
            "args": [
             [
              "5.0"
             ],
             {
              "frame": {
               "duration": 500,
               "redraw": true
              },
              "mode": "immediate",
              "transition": {
               "duration": 300
              }
             }
            ],
            "label": "5.0",
            "method": "animate"
           },
           {
            "args": [
             [
              "6.0"
             ],
             {
              "frame": {
               "duration": 500,
               "redraw": true
              },
              "mode": "immediate",
              "transition": {
               "duration": 300
              }
             }
            ],
            "label": "6.0",
            "method": "animate"
           },
           {
            "args": [
             [
              "7.0"
             ],
             {
              "frame": {
               "duration": 500,
               "redraw": true
              },
              "mode": "immediate",
              "transition": {
               "duration": 300
              }
             }
            ],
            "label": "7.0",
            "method": "animate"
           },
           {
            "args": [
             [
              "8.0"
             ],
             {
              "frame": {
               "duration": 500,
               "redraw": true
              },
              "mode": "immediate",
              "transition": {
               "duration": 300
              }
             }
            ],
            "label": "8.0",
            "method": "animate"
           },
           {
            "args": [
             [
              "9.0"
             ],
             {
              "frame": {
               "duration": 500,
               "redraw": true
              },
              "mode": "immediate",
              "transition": {
               "duration": 300
              }
             }
            ],
            "label": "9.0",
            "method": "animate"
           },
           {
            "args": [
             [
              "10.0"
             ],
             {
              "frame": {
               "duration": 500,
               "redraw": true
              },
              "mode": "immediate",
              "transition": {
               "duration": 300
              }
             }
            ],
            "label": "10.0",
            "method": "animate"
           }
          ],
          "transition": {
           "duration": 300,
           "easing": "cubic-in-out"
          },
          "x": 0.1,
          "xanchor": "left",
          "y": 0,
          "yanchor": "top"
         }
        ],
        "template": {
         "data": {
          "bar": [
           {
            "error_x": {
             "color": "#2a3f5f"
            },
            "error_y": {
             "color": "#2a3f5f"
            },
            "marker": {
             "line": {
              "color": "#E5ECF6",
              "width": 0.5
             },
             "pattern": {
              "fillmode": "overlay",
              "size": 10,
              "solidity": 0.2
             }
            },
            "type": "bar"
           }
          ],
          "barpolar": [
           {
            "marker": {
             "line": {
              "color": "#E5ECF6",
              "width": 0.5
             },
             "pattern": {
              "fillmode": "overlay",
              "size": 10,
              "solidity": 0.2
             }
            },
            "type": "barpolar"
           }
          ],
          "carpet": [
           {
            "aaxis": {
             "endlinecolor": "#2a3f5f",
             "gridcolor": "white",
             "linecolor": "white",
             "minorgridcolor": "white",
             "startlinecolor": "#2a3f5f"
            },
            "baxis": {
             "endlinecolor": "#2a3f5f",
             "gridcolor": "white",
             "linecolor": "white",
             "minorgridcolor": "white",
             "startlinecolor": "#2a3f5f"
            },
            "type": "carpet"
           }
          ],
          "choropleth": [
           {
            "colorbar": {
             "outlinewidth": 0,
             "ticks": ""
            },
            "type": "choropleth"
           }
          ],
          "contour": [
           {
            "colorbar": {
             "outlinewidth": 0,
             "ticks": ""
            },
            "colorscale": [
             [
              0,
              "#0d0887"
             ],
             [
              0.1111111111111111,
              "#46039f"
             ],
             [
              0.2222222222222222,
              "#7201a8"
             ],
             [
              0.3333333333333333,
              "#9c179e"
             ],
             [
              0.4444444444444444,
              "#bd3786"
             ],
             [
              0.5555555555555556,
              "#d8576b"
             ],
             [
              0.6666666666666666,
              "#ed7953"
             ],
             [
              0.7777777777777778,
              "#fb9f3a"
             ],
             [
              0.8888888888888888,
              "#fdca26"
             ],
             [
              1,
              "#f0f921"
             ]
            ],
            "type": "contour"
           }
          ],
          "contourcarpet": [
           {
            "colorbar": {
             "outlinewidth": 0,
             "ticks": ""
            },
            "type": "contourcarpet"
           }
          ],
          "heatmap": [
           {
            "colorbar": {
             "outlinewidth": 0,
             "ticks": ""
            },
            "colorscale": [
             [
              0,
              "#0d0887"
             ],
             [
              0.1111111111111111,
              "#46039f"
             ],
             [
              0.2222222222222222,
              "#7201a8"
             ],
             [
              0.3333333333333333,
              "#9c179e"
             ],
             [
              0.4444444444444444,
              "#bd3786"
             ],
             [
              0.5555555555555556,
              "#d8576b"
             ],
             [
              0.6666666666666666,
              "#ed7953"
             ],
             [
              0.7777777777777778,
              "#fb9f3a"
             ],
             [
              0.8888888888888888,
              "#fdca26"
             ],
             [
              1,
              "#f0f921"
             ]
            ],
            "type": "heatmap"
           }
          ],
          "heatmapgl": [
           {
            "colorbar": {
             "outlinewidth": 0,
             "ticks": ""
            },
            "colorscale": [
             [
              0,
              "#0d0887"
             ],
             [
              0.1111111111111111,
              "#46039f"
             ],
             [
              0.2222222222222222,
              "#7201a8"
             ],
             [
              0.3333333333333333,
              "#9c179e"
             ],
             [
              0.4444444444444444,
              "#bd3786"
             ],
             [
              0.5555555555555556,
              "#d8576b"
             ],
             [
              0.6666666666666666,
              "#ed7953"
             ],
             [
              0.7777777777777778,
              "#fb9f3a"
             ],
             [
              0.8888888888888888,
              "#fdca26"
             ],
             [
              1,
              "#f0f921"
             ]
            ],
            "type": "heatmapgl"
           }
          ],
          "histogram": [
           {
            "marker": {
             "pattern": {
              "fillmode": "overlay",
              "size": 10,
              "solidity": 0.2
             }
            },
            "type": "histogram"
           }
          ],
          "histogram2d": [
           {
            "colorbar": {
             "outlinewidth": 0,
             "ticks": ""
            },
            "colorscale": [
             [
              0,
              "#0d0887"
             ],
             [
              0.1111111111111111,
              "#46039f"
             ],
             [
              0.2222222222222222,
              "#7201a8"
             ],
             [
              0.3333333333333333,
              "#9c179e"
             ],
             [
              0.4444444444444444,
              "#bd3786"
             ],
             [
              0.5555555555555556,
              "#d8576b"
             ],
             [
              0.6666666666666666,
              "#ed7953"
             ],
             [
              0.7777777777777778,
              "#fb9f3a"
             ],
             [
              0.8888888888888888,
              "#fdca26"
             ],
             [
              1,
              "#f0f921"
             ]
            ],
            "type": "histogram2d"
           }
          ],
          "histogram2dcontour": [
           {
            "colorbar": {
             "outlinewidth": 0,
             "ticks": ""
            },
            "colorscale": [
             [
              0,
              "#0d0887"
             ],
             [
              0.1111111111111111,
              "#46039f"
             ],
             [
              0.2222222222222222,
              "#7201a8"
             ],
             [
              0.3333333333333333,
              "#9c179e"
             ],
             [
              0.4444444444444444,
              "#bd3786"
             ],
             [
              0.5555555555555556,
              "#d8576b"
             ],
             [
              0.6666666666666666,
              "#ed7953"
             ],
             [
              0.7777777777777778,
              "#fb9f3a"
             ],
             [
              0.8888888888888888,
              "#fdca26"
             ],
             [
              1,
              "#f0f921"
             ]
            ],
            "type": "histogram2dcontour"
           }
          ],
          "mesh3d": [
           {
            "colorbar": {
             "outlinewidth": 0,
             "ticks": ""
            },
            "type": "mesh3d"
           }
          ],
          "parcoords": [
           {
            "line": {
             "colorbar": {
              "outlinewidth": 0,
              "ticks": ""
             }
            },
            "type": "parcoords"
           }
          ],
          "pie": [
           {
            "automargin": true,
            "type": "pie"
           }
          ],
          "scatter": [
           {
            "marker": {
             "colorbar": {
              "outlinewidth": 0,
              "ticks": ""
             }
            },
            "type": "scatter"
           }
          ],
          "scatter3d": [
           {
            "line": {
             "colorbar": {
              "outlinewidth": 0,
              "ticks": ""
             }
            },
            "marker": {
             "colorbar": {
              "outlinewidth": 0,
              "ticks": ""
             }
            },
            "type": "scatter3d"
           }
          ],
          "scattercarpet": [
           {
            "marker": {
             "colorbar": {
              "outlinewidth": 0,
              "ticks": ""
             }
            },
            "type": "scattercarpet"
           }
          ],
          "scattergeo": [
           {
            "marker": {
             "colorbar": {
              "outlinewidth": 0,
              "ticks": ""
             }
            },
            "type": "scattergeo"
           }
          ],
          "scattergl": [
           {
            "marker": {
             "colorbar": {
              "outlinewidth": 0,
              "ticks": ""
             }
            },
            "type": "scattergl"
           }
          ],
          "scattermapbox": [
           {
            "marker": {
             "colorbar": {
              "outlinewidth": 0,
              "ticks": ""
             }
            },
            "type": "scattermapbox"
           }
          ],
          "scatterpolar": [
           {
            "marker": {
             "colorbar": {
              "outlinewidth": 0,
              "ticks": ""
             }
            },
            "type": "scatterpolar"
           }
          ],
          "scatterpolargl": [
           {
            "marker": {
             "colorbar": {
              "outlinewidth": 0,
              "ticks": ""
             }
            },
            "type": "scatterpolargl"
           }
          ],
          "scatterternary": [
           {
            "marker": {
             "colorbar": {
              "outlinewidth": 0,
              "ticks": ""
             }
            },
            "type": "scatterternary"
           }
          ],
          "surface": [
           {
            "colorbar": {
             "outlinewidth": 0,
             "ticks": ""
            },
            "colorscale": [
             [
              0,
              "#0d0887"
             ],
             [
              0.1111111111111111,
              "#46039f"
             ],
             [
              0.2222222222222222,
              "#7201a8"
             ],
             [
              0.3333333333333333,
              "#9c179e"
             ],
             [
              0.4444444444444444,
              "#bd3786"
             ],
             [
              0.5555555555555556,
              "#d8576b"
             ],
             [
              0.6666666666666666,
              "#ed7953"
             ],
             [
              0.7777777777777778,
              "#fb9f3a"
             ],
             [
              0.8888888888888888,
              "#fdca26"
             ],
             [
              1,
              "#f0f921"
             ]
            ],
            "type": "surface"
           }
          ],
          "table": [
           {
            "cells": {
             "fill": {
              "color": "#EBF0F8"
             },
             "line": {
              "color": "white"
             }
            },
            "header": {
             "fill": {
              "color": "#C8D4E3"
             },
             "line": {
              "color": "white"
             }
            },
            "type": "table"
           }
          ]
         },
         "layout": {
          "annotationdefaults": {
           "arrowcolor": "#2a3f5f",
           "arrowhead": 0,
           "arrowwidth": 1
          },
          "autotypenumbers": "strict",
          "coloraxis": {
           "colorbar": {
            "outlinewidth": 0,
            "ticks": ""
           }
          },
          "colorscale": {
           "diverging": [
            [
             0,
             "#8e0152"
            ],
            [
             0.1,
             "#c51b7d"
            ],
            [
             0.2,
             "#de77ae"
            ],
            [
             0.3,
             "#f1b6da"
            ],
            [
             0.4,
             "#fde0ef"
            ],
            [
             0.5,
             "#f7f7f7"
            ],
            [
             0.6,
             "#e6f5d0"
            ],
            [
             0.7,
             "#b8e186"
            ],
            [
             0.8,
             "#7fbc41"
            ],
            [
             0.9,
             "#4d9221"
            ],
            [
             1,
             "#276419"
            ]
           ],
           "sequential": [
            [
             0,
             "#0d0887"
            ],
            [
             0.1111111111111111,
             "#46039f"
            ],
            [
             0.2222222222222222,
             "#7201a8"
            ],
            [
             0.3333333333333333,
             "#9c179e"
            ],
            [
             0.4444444444444444,
             "#bd3786"
            ],
            [
             0.5555555555555556,
             "#d8576b"
            ],
            [
             0.6666666666666666,
             "#ed7953"
            ],
            [
             0.7777777777777778,
             "#fb9f3a"
            ],
            [
             0.8888888888888888,
             "#fdca26"
            ],
            [
             1,
             "#f0f921"
            ]
           ],
           "sequentialminus": [
            [
             0,
             "#0d0887"
            ],
            [
             0.1111111111111111,
             "#46039f"
            ],
            [
             0.2222222222222222,
             "#7201a8"
            ],
            [
             0.3333333333333333,
             "#9c179e"
            ],
            [
             0.4444444444444444,
             "#bd3786"
            ],
            [
             0.5555555555555556,
             "#d8576b"
            ],
            [
             0.6666666666666666,
             "#ed7953"
            ],
            [
             0.7777777777777778,
             "#fb9f3a"
            ],
            [
             0.8888888888888888,
             "#fdca26"
            ],
            [
             1,
             "#f0f921"
            ]
           ]
          },
          "colorway": [
           "#636efa",
           "#EF553B",
           "#00cc96",
           "#ab63fa",
           "#FFA15A",
           "#19d3f3",
           "#FF6692",
           "#B6E880",
           "#FF97FF",
           "#FECB52"
          ],
          "font": {
           "color": "#2a3f5f"
          },
          "geo": {
           "bgcolor": "white",
           "lakecolor": "white",
           "landcolor": "#E5ECF6",
           "showlakes": true,
           "showland": true,
           "subunitcolor": "white"
          },
          "hoverlabel": {
           "align": "left"
          },
          "hovermode": "closest",
          "mapbox": {
           "style": "light"
          },
          "paper_bgcolor": "white",
          "plot_bgcolor": "#E5ECF6",
          "polar": {
           "angularaxis": {
            "gridcolor": "white",
            "linecolor": "white",
            "ticks": ""
           },
           "bgcolor": "#E5ECF6",
           "radialaxis": {
            "gridcolor": "white",
            "linecolor": "white",
            "ticks": ""
           }
          },
          "scene": {
           "xaxis": {
            "backgroundcolor": "#E5ECF6",
            "gridcolor": "white",
            "gridwidth": 2,
            "linecolor": "white",
            "showbackground": true,
            "ticks": "",
            "zerolinecolor": "white"
           },
           "yaxis": {
            "backgroundcolor": "#E5ECF6",
            "gridcolor": "white",
            "gridwidth": 2,
            "linecolor": "white",
            "showbackground": true,
            "ticks": "",
            "zerolinecolor": "white"
           },
           "zaxis": {
            "backgroundcolor": "#E5ECF6",
            "gridcolor": "white",
            "gridwidth": 2,
            "linecolor": "white",
            "showbackground": true,
            "ticks": "",
            "zerolinecolor": "white"
           }
          },
          "shapedefaults": {
           "line": {
            "color": "#2a3f5f"
           }
          },
          "ternary": {
           "aaxis": {
            "gridcolor": "white",
            "linecolor": "white",
            "ticks": ""
           },
           "baxis": {
            "gridcolor": "white",
            "linecolor": "white",
            "ticks": ""
           },
           "bgcolor": "#E5ECF6",
           "caxis": {
            "gridcolor": "white",
            "linecolor": "white",
            "ticks": ""
           }
          },
          "title": {
           "x": 0.05
          },
          "xaxis": {
           "automargin": true,
           "gridcolor": "white",
           "linecolor": "white",
           "ticks": "",
           "title": {
            "standoff": 15
           },
           "zerolinecolor": "white",
           "zerolinewidth": 2
          },
          "yaxis": {
           "automargin": true,
           "gridcolor": "white",
           "linecolor": "white",
           "ticks": "",
           "title": {
            "standoff": 15
           },
           "zerolinecolor": "white",
           "zerolinewidth": 2
          }
         }
        },
        "updatemenus": [
         {
          "buttons": [
           {
            "args": [
             null,
             {
              "frame": {
               "duration": 500,
               "redraw": false
              },
              "fromcurrent": true,
              "transition": {
               "duration": 300,
               "easing": "quadratic-in-out"
              }
             }
            ],
            "label": "Play",
            "method": "animate"
           },
           {
            "args": [
             [
              null
             ],
             {
              "frame": {
               "duration": 0,
               "redraw": false
              },
              "mode": "immediate",
              "transition": {
               "duration": 0
              }
             }
            ],
            "label": "Pause",
            "method": "animate"
           }
          ],
          "direction": "left",
          "pad": {
           "r": 10,
           "t": 87
          },
          "showactive": false,
          "type": "buttons",
          "x": 0.1,
          "xanchor": "right",
          "y": 0,
          "yanchor": "top"
         }
        ],
        "width": 500,
        "xaxis": {
         "range": [
          0,
          1
         ]
        },
        "yaxis": {
         "range": [
          0,
          1
         ]
        }
       }
      },
      "text/html": [
       "<div>                            <div id=\"249dc75a-b4cb-472b-966e-fd1d86f0cb6b\" class=\"plotly-graph-div\" style=\"height:500px; width:500px;\"></div>            <script type=\"text/javascript\">                require([\"plotly\"], function(Plotly) {                    window.PLOTLYENV=window.PLOTLYENV || {};                                    if (document.getElementById(\"249dc75a-b4cb-472b-966e-fd1d86f0cb6b\")) {                    Plotly.newPlot(                        \"249dc75a-b4cb-472b-966e-fd1d86f0cb6b\",                        [{\"marker\":{\"color\":[2,2,1,0,0,0,1,0,0,1,0,0,0,1,1,1,3,0,0,1,1,0,0,2,2,0,0,1,2,0,2,4,1,0,1,1,1,4,1,3,0,1,1,2,2,2,1,0,0,0,0,1,2,1,0,1,1,1,1,2,0,3,1,3,1,1,2,0,1,0,1,1,0,1,0,1,1,3,2,2,0,1,3,0,0,1,0,1,0,1,1,0,0,0,1,1,1,2,2,2],\"colorbar\":{\"thickness\":20,\"title\":{\"text\":\"Rabbits\"}},\"colorscale\":[[0.0,\"#0508b8\"],[0.08333333333333333,\"#1910d8\"],[0.16666666666666666,\"#3c19f0\"],[0.25,\"#6b1cfb\"],[0.3333333333333333,\"#981cfd\"],[0.4166666666666667,\"#bf1cfd\"],[0.5,\"#dd2bfd\"],[0.5833333333333334,\"#f246fe\"],[0.6666666666666666,\"#fc67fd\"],[0.75,\"#fe88fc\"],[0.8333333333333334,\"#fea5fd\"],[0.9166666666666666,\"#febefe\"],[1.0,\"#fec3fe\"]],\"size\":20},\"mode\":\"markers\",\"name\":\"Rabbits\",\"type\":\"scatter\",\"x\":[0.0,0.0,0.0,0.0,0.0,0.0,0.0,0.0,0.0,0.0,0.1111111119389534,0.1111111119389534,0.1111111119389534,0.1111111119389534,0.1111111119389534,0.1111111119389534,0.1111111119389534,0.1111111119389534,0.1111111119389534,0.1111111119389534,0.2222222238779068,0.2222222238779068,0.2222222238779068,0.2222222238779068,0.2222222238779068,0.2222222238779068,0.2222222238779068,0.2222222238779068,0.2222222238779068,0.2222222238779068,0.3333333432674408,0.3333333432674408,0.3333333432674408,0.3333333432674408,0.3333333432674408,0.3333333432674408,0.3333333432674408,0.3333333432674408,0.3333333432674408,0.3333333432674408,0.4444444477558136,0.4444444477558136,0.4444444477558136,0.4444444477558136,0.4444444477558136,0.4444444477558136,0.4444444477558136,0.4444444477558136,0.4444444477558136,0.4444444477558136,0.5555555820465088,0.5555555820465088,0.5555555820465088,0.5555555820465088,0.5555555820465088,0.5555555820465088,0.5555555820465088,0.5555555820465088,0.5555555820465088,0.5555555820465088,0.6666666865348816,0.6666666865348816,0.6666666865348816,0.6666666865348816,0.6666666865348816,0.6666666865348816,0.6666666865348816,0.6666666865348816,0.6666666865348816,0.6666666865348816,0.7777777910232544,0.7777777910232544,0.7777777910232544,0.7777777910232544,0.7777777910232544,0.7777777910232544,0.7777777910232544,0.7777777910232544,0.7777777910232544,0.7777777910232544,0.8888888955116272,0.8888888955116272,0.8888888955116272,0.8888888955116272,0.8888888955116272,0.8888888955116272,0.8888888955116272,0.8888888955116272,0.8888888955116272,0.8888888955116272,1.0,1.0,1.0,1.0,1.0,1.0,1.0,1.0,1.0,1.0],\"y\":[0.0,0.1111111119389534,0.2222222238779068,0.3333333432674408,0.4444444477558136,0.5555555820465088,0.6666666865348816,0.7777777910232544,0.8888888955116272,1.0,0.0,0.1111111119389534,0.2222222238779068,0.3333333432674408,0.4444444477558136,0.5555555820465088,0.6666666865348816,0.7777777910232544,0.8888888955116272,1.0,0.0,0.1111111119389534,0.2222222238779068,0.3333333432674408,0.4444444477558136,0.5555555820465088,0.6666666865348816,0.7777777910232544,0.8888888955116272,1.0,0.0,0.1111111119389534,0.2222222238779068,0.3333333432674408,0.4444444477558136,0.5555555820465088,0.6666666865348816,0.7777777910232544,0.8888888955116272,1.0,0.0,0.1111111119389534,0.2222222238779068,0.3333333432674408,0.4444444477558136,0.5555555820465088,0.6666666865348816,0.7777777910232544,0.8888888955116272,1.0,0.0,0.1111111119389534,0.2222222238779068,0.3333333432674408,0.4444444477558136,0.5555555820465088,0.6666666865348816,0.7777777910232544,0.8888888955116272,1.0,0.0,0.1111111119389534,0.2222222238779068,0.3333333432674408,0.4444444477558136,0.5555555820465088,0.6666666865348816,0.7777777910232544,0.8888888955116272,1.0,0.0,0.1111111119389534,0.2222222238779068,0.3333333432674408,0.4444444477558136,0.5555555820465088,0.6666666865348816,0.7777777910232544,0.8888888955116272,1.0,0.0,0.1111111119389534,0.2222222238779068,0.3333333432674408,0.4444444477558136,0.5555555820465088,0.6666666865348816,0.7777777910232544,0.8888888955116272,1.0,0.0,0.1111111119389534,0.2222222238779068,0.3333333432674408,0.4444444477558136,0.5555555820465088,0.6666666865348816,0.7777777910232544,0.8888888955116272,1.0]}],                        {\"height\":500,\"scene\":{\"aspectmode\":\"data\"},\"sliders\":[{\"active\":0,\"currentvalue\":{\"font\":{\"size\":20},\"prefix\":\"Time:\",\"visible\":true,\"xanchor\":\"right\"},\"len\":0.9,\"pad\":{\"b\":10,\"t\":50},\"steps\":[{\"args\":[[\"0.0\"],{\"frame\":{\"duration\":500,\"redraw\":true},\"mode\":\"immediate\",\"transition\":{\"duration\":300}}],\"label\":\"0.0\",\"method\":\"animate\"},{\"args\":[[\"1.0\"],{\"frame\":{\"duration\":500,\"redraw\":true},\"mode\":\"immediate\",\"transition\":{\"duration\":300}}],\"label\":\"1.0\",\"method\":\"animate\"},{\"args\":[[\"2.0\"],{\"frame\":{\"duration\":500,\"redraw\":true},\"mode\":\"immediate\",\"transition\":{\"duration\":300}}],\"label\":\"2.0\",\"method\":\"animate\"},{\"args\":[[\"3.0\"],{\"frame\":{\"duration\":500,\"redraw\":true},\"mode\":\"immediate\",\"transition\":{\"duration\":300}}],\"label\":\"3.0\",\"method\":\"animate\"},{\"args\":[[\"4.0\"],{\"frame\":{\"duration\":500,\"redraw\":true},\"mode\":\"immediate\",\"transition\":{\"duration\":300}}],\"label\":\"4.0\",\"method\":\"animate\"},{\"args\":[[\"5.0\"],{\"frame\":{\"duration\":500,\"redraw\":true},\"mode\":\"immediate\",\"transition\":{\"duration\":300}}],\"label\":\"5.0\",\"method\":\"animate\"},{\"args\":[[\"6.0\"],{\"frame\":{\"duration\":500,\"redraw\":true},\"mode\":\"immediate\",\"transition\":{\"duration\":300}}],\"label\":\"6.0\",\"method\":\"animate\"},{\"args\":[[\"7.0\"],{\"frame\":{\"duration\":500,\"redraw\":true},\"mode\":\"immediate\",\"transition\":{\"duration\":300}}],\"label\":\"7.0\",\"method\":\"animate\"},{\"args\":[[\"8.0\"],{\"frame\":{\"duration\":500,\"redraw\":true},\"mode\":\"immediate\",\"transition\":{\"duration\":300}}],\"label\":\"8.0\",\"method\":\"animate\"},{\"args\":[[\"9.0\"],{\"frame\":{\"duration\":500,\"redraw\":true},\"mode\":\"immediate\",\"transition\":{\"duration\":300}}],\"label\":\"9.0\",\"method\":\"animate\"},{\"args\":[[\"10.0\"],{\"frame\":{\"duration\":500,\"redraw\":true},\"mode\":\"immediate\",\"transition\":{\"duration\":300}}],\"label\":\"10.0\",\"method\":\"animate\"}],\"transition\":{\"duration\":300,\"easing\":\"cubic-in-out\"},\"x\":0.1,\"xanchor\":\"left\",\"y\":0,\"yanchor\":\"top\"}],\"template\":{\"data\":{\"bar\":[{\"error_x\":{\"color\":\"#2a3f5f\"},\"error_y\":{\"color\":\"#2a3f5f\"},\"marker\":{\"line\":{\"color\":\"#E5ECF6\",\"width\":0.5},\"pattern\":{\"fillmode\":\"overlay\",\"size\":10,\"solidity\":0.2}},\"type\":\"bar\"}],\"barpolar\":[{\"marker\":{\"line\":{\"color\":\"#E5ECF6\",\"width\":0.5},\"pattern\":{\"fillmode\":\"overlay\",\"size\":10,\"solidity\":0.2}},\"type\":\"barpolar\"}],\"carpet\":[{\"aaxis\":{\"endlinecolor\":\"#2a3f5f\",\"gridcolor\":\"white\",\"linecolor\":\"white\",\"minorgridcolor\":\"white\",\"startlinecolor\":\"#2a3f5f\"},\"baxis\":{\"endlinecolor\":\"#2a3f5f\",\"gridcolor\":\"white\",\"linecolor\":\"white\",\"minorgridcolor\":\"white\",\"startlinecolor\":\"#2a3f5f\"},\"type\":\"carpet\"}],\"choropleth\":[{\"colorbar\":{\"outlinewidth\":0,\"ticks\":\"\"},\"type\":\"choropleth\"}],\"contour\":[{\"colorbar\":{\"outlinewidth\":0,\"ticks\":\"\"},\"colorscale\":[[0.0,\"#0d0887\"],[0.1111111111111111,\"#46039f\"],[0.2222222222222222,\"#7201a8\"],[0.3333333333333333,\"#9c179e\"],[0.4444444444444444,\"#bd3786\"],[0.5555555555555556,\"#d8576b\"],[0.6666666666666666,\"#ed7953\"],[0.7777777777777778,\"#fb9f3a\"],[0.8888888888888888,\"#fdca26\"],[1.0,\"#f0f921\"]],\"type\":\"contour\"}],\"contourcarpet\":[{\"colorbar\":{\"outlinewidth\":0,\"ticks\":\"\"},\"type\":\"contourcarpet\"}],\"heatmap\":[{\"colorbar\":{\"outlinewidth\":0,\"ticks\":\"\"},\"colorscale\":[[0.0,\"#0d0887\"],[0.1111111111111111,\"#46039f\"],[0.2222222222222222,\"#7201a8\"],[0.3333333333333333,\"#9c179e\"],[0.4444444444444444,\"#bd3786\"],[0.5555555555555556,\"#d8576b\"],[0.6666666666666666,\"#ed7953\"],[0.7777777777777778,\"#fb9f3a\"],[0.8888888888888888,\"#fdca26\"],[1.0,\"#f0f921\"]],\"type\":\"heatmap\"}],\"heatmapgl\":[{\"colorbar\":{\"outlinewidth\":0,\"ticks\":\"\"},\"colorscale\":[[0.0,\"#0d0887\"],[0.1111111111111111,\"#46039f\"],[0.2222222222222222,\"#7201a8\"],[0.3333333333333333,\"#9c179e\"],[0.4444444444444444,\"#bd3786\"],[0.5555555555555556,\"#d8576b\"],[0.6666666666666666,\"#ed7953\"],[0.7777777777777778,\"#fb9f3a\"],[0.8888888888888888,\"#fdca26\"],[1.0,\"#f0f921\"]],\"type\":\"heatmapgl\"}],\"histogram\":[{\"marker\":{\"pattern\":{\"fillmode\":\"overlay\",\"size\":10,\"solidity\":0.2}},\"type\":\"histogram\"}],\"histogram2d\":[{\"colorbar\":{\"outlinewidth\":0,\"ticks\":\"\"},\"colorscale\":[[0.0,\"#0d0887\"],[0.1111111111111111,\"#46039f\"],[0.2222222222222222,\"#7201a8\"],[0.3333333333333333,\"#9c179e\"],[0.4444444444444444,\"#bd3786\"],[0.5555555555555556,\"#d8576b\"],[0.6666666666666666,\"#ed7953\"],[0.7777777777777778,\"#fb9f3a\"],[0.8888888888888888,\"#fdca26\"],[1.0,\"#f0f921\"]],\"type\":\"histogram2d\"}],\"histogram2dcontour\":[{\"colorbar\":{\"outlinewidth\":0,\"ticks\":\"\"},\"colorscale\":[[0.0,\"#0d0887\"],[0.1111111111111111,\"#46039f\"],[0.2222222222222222,\"#7201a8\"],[0.3333333333333333,\"#9c179e\"],[0.4444444444444444,\"#bd3786\"],[0.5555555555555556,\"#d8576b\"],[0.6666666666666666,\"#ed7953\"],[0.7777777777777778,\"#fb9f3a\"],[0.8888888888888888,\"#fdca26\"],[1.0,\"#f0f921\"]],\"type\":\"histogram2dcontour\"}],\"mesh3d\":[{\"colorbar\":{\"outlinewidth\":0,\"ticks\":\"\"},\"type\":\"mesh3d\"}],\"parcoords\":[{\"line\":{\"colorbar\":{\"outlinewidth\":0,\"ticks\":\"\"}},\"type\":\"parcoords\"}],\"pie\":[{\"automargin\":true,\"type\":\"pie\"}],\"scatter\":[{\"marker\":{\"colorbar\":{\"outlinewidth\":0,\"ticks\":\"\"}},\"type\":\"scatter\"}],\"scatter3d\":[{\"line\":{\"colorbar\":{\"outlinewidth\":0,\"ticks\":\"\"}},\"marker\":{\"colorbar\":{\"outlinewidth\":0,\"ticks\":\"\"}},\"type\":\"scatter3d\"}],\"scattercarpet\":[{\"marker\":{\"colorbar\":{\"outlinewidth\":0,\"ticks\":\"\"}},\"type\":\"scattercarpet\"}],\"scattergeo\":[{\"marker\":{\"colorbar\":{\"outlinewidth\":0,\"ticks\":\"\"}},\"type\":\"scattergeo\"}],\"scattergl\":[{\"marker\":{\"colorbar\":{\"outlinewidth\":0,\"ticks\":\"\"}},\"type\":\"scattergl\"}],\"scattermapbox\":[{\"marker\":{\"colorbar\":{\"outlinewidth\":0,\"ticks\":\"\"}},\"type\":\"scattermapbox\"}],\"scatterpolar\":[{\"marker\":{\"colorbar\":{\"outlinewidth\":0,\"ticks\":\"\"}},\"type\":\"scatterpolar\"}],\"scatterpolargl\":[{\"marker\":{\"colorbar\":{\"outlinewidth\":0,\"ticks\":\"\"}},\"type\":\"scatterpolargl\"}],\"scatterternary\":[{\"marker\":{\"colorbar\":{\"outlinewidth\":0,\"ticks\":\"\"}},\"type\":\"scatterternary\"}],\"surface\":[{\"colorbar\":{\"outlinewidth\":0,\"ticks\":\"\"},\"colorscale\":[[0.0,\"#0d0887\"],[0.1111111111111111,\"#46039f\"],[0.2222222222222222,\"#7201a8\"],[0.3333333333333333,\"#9c179e\"],[0.4444444444444444,\"#bd3786\"],[0.5555555555555556,\"#d8576b\"],[0.6666666666666666,\"#ed7953\"],[0.7777777777777778,\"#fb9f3a\"],[0.8888888888888888,\"#fdca26\"],[1.0,\"#f0f921\"]],\"type\":\"surface\"}],\"table\":[{\"cells\":{\"fill\":{\"color\":\"#EBF0F8\"},\"line\":{\"color\":\"white\"}},\"header\":{\"fill\":{\"color\":\"#C8D4E3\"},\"line\":{\"color\":\"white\"}},\"type\":\"table\"}]},\"layout\":{\"annotationdefaults\":{\"arrowcolor\":\"#2a3f5f\",\"arrowhead\":0,\"arrowwidth\":1},\"autotypenumbers\":\"strict\",\"coloraxis\":{\"colorbar\":{\"outlinewidth\":0,\"ticks\":\"\"}},\"colorscale\":{\"diverging\":[[0,\"#8e0152\"],[0.1,\"#c51b7d\"],[0.2,\"#de77ae\"],[0.3,\"#f1b6da\"],[0.4,\"#fde0ef\"],[0.5,\"#f7f7f7\"],[0.6,\"#e6f5d0\"],[0.7,\"#b8e186\"],[0.8,\"#7fbc41\"],[0.9,\"#4d9221\"],[1,\"#276419\"]],\"sequential\":[[0.0,\"#0d0887\"],[0.1111111111111111,\"#46039f\"],[0.2222222222222222,\"#7201a8\"],[0.3333333333333333,\"#9c179e\"],[0.4444444444444444,\"#bd3786\"],[0.5555555555555556,\"#d8576b\"],[0.6666666666666666,\"#ed7953\"],[0.7777777777777778,\"#fb9f3a\"],[0.8888888888888888,\"#fdca26\"],[1.0,\"#f0f921\"]],\"sequentialminus\":[[0.0,\"#0d0887\"],[0.1111111111111111,\"#46039f\"],[0.2222222222222222,\"#7201a8\"],[0.3333333333333333,\"#9c179e\"],[0.4444444444444444,\"#bd3786\"],[0.5555555555555556,\"#d8576b\"],[0.6666666666666666,\"#ed7953\"],[0.7777777777777778,\"#fb9f3a\"],[0.8888888888888888,\"#fdca26\"],[1.0,\"#f0f921\"]]},\"colorway\":[\"#636efa\",\"#EF553B\",\"#00cc96\",\"#ab63fa\",\"#FFA15A\",\"#19d3f3\",\"#FF6692\",\"#B6E880\",\"#FF97FF\",\"#FECB52\"],\"font\":{\"color\":\"#2a3f5f\"},\"geo\":{\"bgcolor\":\"white\",\"lakecolor\":\"white\",\"landcolor\":\"#E5ECF6\",\"showlakes\":true,\"showland\":true,\"subunitcolor\":\"white\"},\"hoverlabel\":{\"align\":\"left\"},\"hovermode\":\"closest\",\"mapbox\":{\"style\":\"light\"},\"paper_bgcolor\":\"white\",\"plot_bgcolor\":\"#E5ECF6\",\"polar\":{\"angularaxis\":{\"gridcolor\":\"white\",\"linecolor\":\"white\",\"ticks\":\"\"},\"bgcolor\":\"#E5ECF6\",\"radialaxis\":{\"gridcolor\":\"white\",\"linecolor\":\"white\",\"ticks\":\"\"}},\"scene\":{\"xaxis\":{\"backgroundcolor\":\"#E5ECF6\",\"gridcolor\":\"white\",\"gridwidth\":2,\"linecolor\":\"white\",\"showbackground\":true,\"ticks\":\"\",\"zerolinecolor\":\"white\"},\"yaxis\":{\"backgroundcolor\":\"#E5ECF6\",\"gridcolor\":\"white\",\"gridwidth\":2,\"linecolor\":\"white\",\"showbackground\":true,\"ticks\":\"\",\"zerolinecolor\":\"white\"},\"zaxis\":{\"backgroundcolor\":\"#E5ECF6\",\"gridcolor\":\"white\",\"gridwidth\":2,\"linecolor\":\"white\",\"showbackground\":true,\"ticks\":\"\",\"zerolinecolor\":\"white\"}},\"shapedefaults\":{\"line\":{\"color\":\"#2a3f5f\"}},\"ternary\":{\"aaxis\":{\"gridcolor\":\"white\",\"linecolor\":\"white\",\"ticks\":\"\"},\"baxis\":{\"gridcolor\":\"white\",\"linecolor\":\"white\",\"ticks\":\"\"},\"bgcolor\":\"#E5ECF6\",\"caxis\":{\"gridcolor\":\"white\",\"linecolor\":\"white\",\"ticks\":\"\"}},\"title\":{\"x\":0.05},\"xaxis\":{\"automargin\":true,\"gridcolor\":\"white\",\"linecolor\":\"white\",\"ticks\":\"\",\"title\":{\"standoff\":15},\"zerolinecolor\":\"white\",\"zerolinewidth\":2},\"yaxis\":{\"automargin\":true,\"gridcolor\":\"white\",\"linecolor\":\"white\",\"ticks\":\"\",\"title\":{\"standoff\":15},\"zerolinecolor\":\"white\",\"zerolinewidth\":2}}},\"updatemenus\":[{\"buttons\":[{\"args\":[null,{\"frame\":{\"duration\":500,\"redraw\":false},\"fromcurrent\":true,\"transition\":{\"duration\":300,\"easing\":\"quadratic-in-out\"}}],\"label\":\"Play\",\"method\":\"animate\"},{\"args\":[[null],{\"frame\":{\"duration\":0,\"redraw\":false},\"mode\":\"immediate\",\"transition\":{\"duration\":0}}],\"label\":\"Pause\",\"method\":\"animate\"}],\"direction\":\"left\",\"pad\":{\"r\":10,\"t\":87},\"showactive\":false,\"type\":\"buttons\",\"x\":0.1,\"xanchor\":\"right\",\"y\":0,\"yanchor\":\"top\"}],\"width\":500,\"xaxis\":{\"range\":[0,1]},\"yaxis\":{\"range\":[0,1]}},                        {\"responsive\": true}                    ).then(function(){\n",
       "                            Plotly.addFrames('249dc75a-b4cb-472b-966e-fd1d86f0cb6b', [{\"data\":[{\"marker\":{\"cmax\":4.1,\"cmin\":-0.1,\"color\":[2,2,1,0,0,0,1,0,0,1,0,0,0,1,1,1,3,0,0,1,1,0,0,2,2,0,0,1,2,0,2,4,1,0,1,1,1,4,1,3,0,1,1,2,2,2,1,0,0,0,0,1,2,1,0,1,1,1,1,2,0,3,1,3,1,1,2,0,1,0,1,1,0,1,0,1,1,3,2,2,0,1,3,0,0,1,0,1,0,1,1,0,0,0,1,1,1,2,2,2],\"colorbar\":{\"thickness\":20,\"title\":{\"text\":\"Rabbits\"}},\"colorscale\":[[0.0,\"#0508b8\"],[0.08333333333333333,\"#1910d8\"],[0.16666666666666666,\"#3c19f0\"],[0.25,\"#6b1cfb\"],[0.3333333333333333,\"#981cfd\"],[0.4166666666666667,\"#bf1cfd\"],[0.5,\"#dd2bfd\"],[0.5833333333333334,\"#f246fe\"],[0.6666666666666666,\"#fc67fd\"],[0.75,\"#fe88fc\"],[0.8333333333333334,\"#fea5fd\"],[0.9166666666666666,\"#febefe\"],[1.0,\"#fec3fe\"]],\"size\":20},\"mode\":\"markers\",\"name\":\"Rabbits\",\"type\":\"scatter\",\"x\":[0.0,0.0,0.0,0.0,0.0,0.0,0.0,0.0,0.0,0.0,0.1111111119389534,0.1111111119389534,0.1111111119389534,0.1111111119389534,0.1111111119389534,0.1111111119389534,0.1111111119389534,0.1111111119389534,0.1111111119389534,0.1111111119389534,0.2222222238779068,0.2222222238779068,0.2222222238779068,0.2222222238779068,0.2222222238779068,0.2222222238779068,0.2222222238779068,0.2222222238779068,0.2222222238779068,0.2222222238779068,0.3333333432674408,0.3333333432674408,0.3333333432674408,0.3333333432674408,0.3333333432674408,0.3333333432674408,0.3333333432674408,0.3333333432674408,0.3333333432674408,0.3333333432674408,0.4444444477558136,0.4444444477558136,0.4444444477558136,0.4444444477558136,0.4444444477558136,0.4444444477558136,0.4444444477558136,0.4444444477558136,0.4444444477558136,0.4444444477558136,0.5555555820465088,0.5555555820465088,0.5555555820465088,0.5555555820465088,0.5555555820465088,0.5555555820465088,0.5555555820465088,0.5555555820465088,0.5555555820465088,0.5555555820465088,0.6666666865348816,0.6666666865348816,0.6666666865348816,0.6666666865348816,0.6666666865348816,0.6666666865348816,0.6666666865348816,0.6666666865348816,0.6666666865348816,0.6666666865348816,0.7777777910232544,0.7777777910232544,0.7777777910232544,0.7777777910232544,0.7777777910232544,0.7777777910232544,0.7777777910232544,0.7777777910232544,0.7777777910232544,0.7777777910232544,0.8888888955116272,0.8888888955116272,0.8888888955116272,0.8888888955116272,0.8888888955116272,0.8888888955116272,0.8888888955116272,0.8888888955116272,0.8888888955116272,0.8888888955116272,1.0,1.0,1.0,1.0,1.0,1.0,1.0,1.0,1.0,1.0],\"y\":[0.0,0.1111111119389534,0.2222222238779068,0.3333333432674408,0.4444444477558136,0.5555555820465088,0.6666666865348816,0.7777777910232544,0.8888888955116272,1.0,0.0,0.1111111119389534,0.2222222238779068,0.3333333432674408,0.4444444477558136,0.5555555820465088,0.6666666865348816,0.7777777910232544,0.8888888955116272,1.0,0.0,0.1111111119389534,0.2222222238779068,0.3333333432674408,0.4444444477558136,0.5555555820465088,0.6666666865348816,0.7777777910232544,0.8888888955116272,1.0,0.0,0.1111111119389534,0.2222222238779068,0.3333333432674408,0.4444444477558136,0.5555555820465088,0.6666666865348816,0.7777777910232544,0.8888888955116272,1.0,0.0,0.1111111119389534,0.2222222238779068,0.3333333432674408,0.4444444477558136,0.5555555820465088,0.6666666865348816,0.7777777910232544,0.8888888955116272,1.0,0.0,0.1111111119389534,0.2222222238779068,0.3333333432674408,0.4444444477558136,0.5555555820465088,0.6666666865348816,0.7777777910232544,0.8888888955116272,1.0,0.0,0.1111111119389534,0.2222222238779068,0.3333333432674408,0.4444444477558136,0.5555555820465088,0.6666666865348816,0.7777777910232544,0.8888888955116272,1.0,0.0,0.1111111119389534,0.2222222238779068,0.3333333432674408,0.4444444477558136,0.5555555820465088,0.6666666865348816,0.7777777910232544,0.8888888955116272,1.0,0.0,0.1111111119389534,0.2222222238779068,0.3333333432674408,0.4444444477558136,0.5555555820465088,0.6666666865348816,0.7777777910232544,0.8888888955116272,1.0,0.0,0.1111111119389534,0.2222222238779068,0.3333333432674408,0.4444444477558136,0.5555555820465088,0.6666666865348816,0.7777777910232544,0.8888888955116272,1.0]}],\"name\":\"0.0\"},{\"data\":[{\"marker\":{\"cmax\":4.1,\"cmin\":-0.1,\"color\":[0,4,3,1,0,1,1,1,1,2,0,0,1,1,1,3,1,0,0,0,1,3,0,0,1,0,3,1,0,1,2,1,3,0,3,1,1,0,1,2,2,0,1,3,2,5,1,2,0,1,0,0,4,0,1,0,3,2,1,1,1,1,0,1,2,3,0,2,1,0,2,0,1,2,4,0,0,1,0,1,1,0,2,0,0,1,2,1,1,1,3,5,1,0,3,1,2,2,0,2],\"colorbar\":{\"thickness\":20,\"title\":{\"text\":\"Rabbits\"}},\"colorscale\":[[0.0,\"#0508b8\"],[0.08333333333333333,\"#1910d8\"],[0.16666666666666666,\"#3c19f0\"],[0.25,\"#6b1cfb\"],[0.3333333333333333,\"#981cfd\"],[0.4166666666666667,\"#bf1cfd\"],[0.5,\"#dd2bfd\"],[0.5833333333333334,\"#f246fe\"],[0.6666666666666666,\"#fc67fd\"],[0.75,\"#fe88fc\"],[0.8333333333333334,\"#fea5fd\"],[0.9166666666666666,\"#febefe\"],[1.0,\"#fec3fe\"]],\"size\":20},\"mode\":\"markers\",\"name\":\"Rabbits\",\"type\":\"scatter\",\"x\":[0.0,0.0,0.0,0.0,0.0,0.0,0.0,0.0,0.0,0.0,0.1111111119389534,0.1111111119389534,0.1111111119389534,0.1111111119389534,0.1111111119389534,0.1111111119389534,0.1111111119389534,0.1111111119389534,0.1111111119389534,0.1111111119389534,0.2222222238779068,0.2222222238779068,0.2222222238779068,0.2222222238779068,0.2222222238779068,0.2222222238779068,0.2222222238779068,0.2222222238779068,0.2222222238779068,0.2222222238779068,0.3333333432674408,0.3333333432674408,0.3333333432674408,0.3333333432674408,0.3333333432674408,0.3333333432674408,0.3333333432674408,0.3333333432674408,0.3333333432674408,0.3333333432674408,0.4444444477558136,0.4444444477558136,0.4444444477558136,0.4444444477558136,0.4444444477558136,0.4444444477558136,0.4444444477558136,0.4444444477558136,0.4444444477558136,0.4444444477558136,0.5555555820465088,0.5555555820465088,0.5555555820465088,0.5555555820465088,0.5555555820465088,0.5555555820465088,0.5555555820465088,0.5555555820465088,0.5555555820465088,0.5555555820465088,0.6666666865348816,0.6666666865348816,0.6666666865348816,0.6666666865348816,0.6666666865348816,0.6666666865348816,0.6666666865348816,0.6666666865348816,0.6666666865348816,0.6666666865348816,0.7777777910232544,0.7777777910232544,0.7777777910232544,0.7777777910232544,0.7777777910232544,0.7777777910232544,0.7777777910232544,0.7777777910232544,0.7777777910232544,0.7777777910232544,0.8888888955116272,0.8888888955116272,0.8888888955116272,0.8888888955116272,0.8888888955116272,0.8888888955116272,0.8888888955116272,0.8888888955116272,0.8888888955116272,0.8888888955116272,1.0,1.0,1.0,1.0,1.0,1.0,1.0,1.0,1.0,1.0],\"y\":[0.0,0.1111111119389534,0.2222222238779068,0.3333333432674408,0.4444444477558136,0.5555555820465088,0.6666666865348816,0.7777777910232544,0.8888888955116272,1.0,0.0,0.1111111119389534,0.2222222238779068,0.3333333432674408,0.4444444477558136,0.5555555820465088,0.6666666865348816,0.7777777910232544,0.8888888955116272,1.0,0.0,0.1111111119389534,0.2222222238779068,0.3333333432674408,0.4444444477558136,0.5555555820465088,0.6666666865348816,0.7777777910232544,0.8888888955116272,1.0,0.0,0.1111111119389534,0.2222222238779068,0.3333333432674408,0.4444444477558136,0.5555555820465088,0.6666666865348816,0.7777777910232544,0.8888888955116272,1.0,0.0,0.1111111119389534,0.2222222238779068,0.3333333432674408,0.4444444477558136,0.5555555820465088,0.6666666865348816,0.7777777910232544,0.8888888955116272,1.0,0.0,0.1111111119389534,0.2222222238779068,0.3333333432674408,0.4444444477558136,0.5555555820465088,0.6666666865348816,0.7777777910232544,0.8888888955116272,1.0,0.0,0.1111111119389534,0.2222222238779068,0.3333333432674408,0.4444444477558136,0.5555555820465088,0.6666666865348816,0.7777777910232544,0.8888888955116272,1.0,0.0,0.1111111119389534,0.2222222238779068,0.3333333432674408,0.4444444477558136,0.5555555820465088,0.6666666865348816,0.7777777910232544,0.8888888955116272,1.0,0.0,0.1111111119389534,0.2222222238779068,0.3333333432674408,0.4444444477558136,0.5555555820465088,0.6666666865348816,0.7777777910232544,0.8888888955116272,1.0,0.0,0.1111111119389534,0.2222222238779068,0.3333333432674408,0.4444444477558136,0.5555555820465088,0.6666666865348816,0.7777777910232544,0.8888888955116272,1.0]}],\"name\":\"1.0\"},{\"data\":[{\"marker\":{\"cmax\":4.1,\"cmin\":-0.1,\"color\":[4,1,1,2,0,2,0,0,1,4,0,2,3,4,4,1,1,2,1,1,1,3,0,0,2,2,1,1,2,1,2,2,1,2,1,0,1,3,1,2,1,1,2,3,1,1,1,1,0,1,0,0,2,3,2,0,6,2,1,3,3,2,4,2,1,0,3,0,1,1,1,1,3,1,0,1,0,2,0,2,1,1,5,1,1,2,6,3,3,0,2,2,2,0,0,0,1,1,2,0],\"colorbar\":{\"thickness\":20,\"title\":{\"text\":\"Rabbits\"}},\"colorscale\":[[0.0,\"#0508b8\"],[0.08333333333333333,\"#1910d8\"],[0.16666666666666666,\"#3c19f0\"],[0.25,\"#6b1cfb\"],[0.3333333333333333,\"#981cfd\"],[0.4166666666666667,\"#bf1cfd\"],[0.5,\"#dd2bfd\"],[0.5833333333333334,\"#f246fe\"],[0.6666666666666666,\"#fc67fd\"],[0.75,\"#fe88fc\"],[0.8333333333333334,\"#fea5fd\"],[0.9166666666666666,\"#febefe\"],[1.0,\"#fec3fe\"]],\"size\":20},\"mode\":\"markers\",\"name\":\"Rabbits\",\"type\":\"scatter\",\"x\":[0.0,0.0,0.0,0.0,0.0,0.0,0.0,0.0,0.0,0.0,0.1111111119389534,0.1111111119389534,0.1111111119389534,0.1111111119389534,0.1111111119389534,0.1111111119389534,0.1111111119389534,0.1111111119389534,0.1111111119389534,0.1111111119389534,0.2222222238779068,0.2222222238779068,0.2222222238779068,0.2222222238779068,0.2222222238779068,0.2222222238779068,0.2222222238779068,0.2222222238779068,0.2222222238779068,0.2222222238779068,0.3333333432674408,0.3333333432674408,0.3333333432674408,0.3333333432674408,0.3333333432674408,0.3333333432674408,0.3333333432674408,0.3333333432674408,0.3333333432674408,0.3333333432674408,0.4444444477558136,0.4444444477558136,0.4444444477558136,0.4444444477558136,0.4444444477558136,0.4444444477558136,0.4444444477558136,0.4444444477558136,0.4444444477558136,0.4444444477558136,0.5555555820465088,0.5555555820465088,0.5555555820465088,0.5555555820465088,0.5555555820465088,0.5555555820465088,0.5555555820465088,0.5555555820465088,0.5555555820465088,0.5555555820465088,0.6666666865348816,0.6666666865348816,0.6666666865348816,0.6666666865348816,0.6666666865348816,0.6666666865348816,0.6666666865348816,0.6666666865348816,0.6666666865348816,0.6666666865348816,0.7777777910232544,0.7777777910232544,0.7777777910232544,0.7777777910232544,0.7777777910232544,0.7777777910232544,0.7777777910232544,0.7777777910232544,0.7777777910232544,0.7777777910232544,0.8888888955116272,0.8888888955116272,0.8888888955116272,0.8888888955116272,0.8888888955116272,0.8888888955116272,0.8888888955116272,0.8888888955116272,0.8888888955116272,0.8888888955116272,1.0,1.0,1.0,1.0,1.0,1.0,1.0,1.0,1.0,1.0],\"y\":[0.0,0.1111111119389534,0.2222222238779068,0.3333333432674408,0.4444444477558136,0.5555555820465088,0.6666666865348816,0.7777777910232544,0.8888888955116272,1.0,0.0,0.1111111119389534,0.2222222238779068,0.3333333432674408,0.4444444477558136,0.5555555820465088,0.6666666865348816,0.7777777910232544,0.8888888955116272,1.0,0.0,0.1111111119389534,0.2222222238779068,0.3333333432674408,0.4444444477558136,0.5555555820465088,0.6666666865348816,0.7777777910232544,0.8888888955116272,1.0,0.0,0.1111111119389534,0.2222222238779068,0.3333333432674408,0.4444444477558136,0.5555555820465088,0.6666666865348816,0.7777777910232544,0.8888888955116272,1.0,0.0,0.1111111119389534,0.2222222238779068,0.3333333432674408,0.4444444477558136,0.5555555820465088,0.6666666865348816,0.7777777910232544,0.8888888955116272,1.0,0.0,0.1111111119389534,0.2222222238779068,0.3333333432674408,0.4444444477558136,0.5555555820465088,0.6666666865348816,0.7777777910232544,0.8888888955116272,1.0,0.0,0.1111111119389534,0.2222222238779068,0.3333333432674408,0.4444444477558136,0.5555555820465088,0.6666666865348816,0.7777777910232544,0.8888888955116272,1.0,0.0,0.1111111119389534,0.2222222238779068,0.3333333432674408,0.4444444477558136,0.5555555820465088,0.6666666865348816,0.7777777910232544,0.8888888955116272,1.0,0.0,0.1111111119389534,0.2222222238779068,0.3333333432674408,0.4444444477558136,0.5555555820465088,0.6666666865348816,0.7777777910232544,0.8888888955116272,1.0,0.0,0.1111111119389534,0.2222222238779068,0.3333333432674408,0.4444444477558136,0.5555555820465088,0.6666666865348816,0.7777777910232544,0.8888888955116272,1.0]}],\"name\":\"2.0\"},{\"data\":[{\"marker\":{\"cmax\":4.1,\"cmin\":-0.1,\"color\":[1,1,3,0,3,2,3,1,4,4,4,0,4,3,0,2,3,1,3,3,2,3,2,0,0,3,2,0,0,3,2,1,0,2,1,1,1,1,1,1,0,1,2,0,2,1,0,5,0,1,4,0,1,3,2,0,4,1,1,2,1,3,1,2,4,0,2,4,2,0,3,0,4,3,1,0,5,0,1,3,4,1,5,1,3,0,2,2,1,1,1,1,2,1,3,2,1,4,4,2],\"colorbar\":{\"thickness\":20,\"title\":{\"text\":\"Rabbits\"}},\"colorscale\":[[0.0,\"#0508b8\"],[0.08333333333333333,\"#1910d8\"],[0.16666666666666666,\"#3c19f0\"],[0.25,\"#6b1cfb\"],[0.3333333333333333,\"#981cfd\"],[0.4166666666666667,\"#bf1cfd\"],[0.5,\"#dd2bfd\"],[0.5833333333333334,\"#f246fe\"],[0.6666666666666666,\"#fc67fd\"],[0.75,\"#fe88fc\"],[0.8333333333333334,\"#fea5fd\"],[0.9166666666666666,\"#febefe\"],[1.0,\"#fec3fe\"]],\"size\":20},\"mode\":\"markers\",\"name\":\"Rabbits\",\"type\":\"scatter\",\"x\":[0.0,0.0,0.0,0.0,0.0,0.0,0.0,0.0,0.0,0.0,0.1111111119389534,0.1111111119389534,0.1111111119389534,0.1111111119389534,0.1111111119389534,0.1111111119389534,0.1111111119389534,0.1111111119389534,0.1111111119389534,0.1111111119389534,0.2222222238779068,0.2222222238779068,0.2222222238779068,0.2222222238779068,0.2222222238779068,0.2222222238779068,0.2222222238779068,0.2222222238779068,0.2222222238779068,0.2222222238779068,0.3333333432674408,0.3333333432674408,0.3333333432674408,0.3333333432674408,0.3333333432674408,0.3333333432674408,0.3333333432674408,0.3333333432674408,0.3333333432674408,0.3333333432674408,0.4444444477558136,0.4444444477558136,0.4444444477558136,0.4444444477558136,0.4444444477558136,0.4444444477558136,0.4444444477558136,0.4444444477558136,0.4444444477558136,0.4444444477558136,0.5555555820465088,0.5555555820465088,0.5555555820465088,0.5555555820465088,0.5555555820465088,0.5555555820465088,0.5555555820465088,0.5555555820465088,0.5555555820465088,0.5555555820465088,0.6666666865348816,0.6666666865348816,0.6666666865348816,0.6666666865348816,0.6666666865348816,0.6666666865348816,0.6666666865348816,0.6666666865348816,0.6666666865348816,0.6666666865348816,0.7777777910232544,0.7777777910232544,0.7777777910232544,0.7777777910232544,0.7777777910232544,0.7777777910232544,0.7777777910232544,0.7777777910232544,0.7777777910232544,0.7777777910232544,0.8888888955116272,0.8888888955116272,0.8888888955116272,0.8888888955116272,0.8888888955116272,0.8888888955116272,0.8888888955116272,0.8888888955116272,0.8888888955116272,0.8888888955116272,1.0,1.0,1.0,1.0,1.0,1.0,1.0,1.0,1.0,1.0],\"y\":[0.0,0.1111111119389534,0.2222222238779068,0.3333333432674408,0.4444444477558136,0.5555555820465088,0.6666666865348816,0.7777777910232544,0.8888888955116272,1.0,0.0,0.1111111119389534,0.2222222238779068,0.3333333432674408,0.4444444477558136,0.5555555820465088,0.6666666865348816,0.7777777910232544,0.8888888955116272,1.0,0.0,0.1111111119389534,0.2222222238779068,0.3333333432674408,0.4444444477558136,0.5555555820465088,0.6666666865348816,0.7777777910232544,0.8888888955116272,1.0,0.0,0.1111111119389534,0.2222222238779068,0.3333333432674408,0.4444444477558136,0.5555555820465088,0.6666666865348816,0.7777777910232544,0.8888888955116272,1.0,0.0,0.1111111119389534,0.2222222238779068,0.3333333432674408,0.4444444477558136,0.5555555820465088,0.6666666865348816,0.7777777910232544,0.8888888955116272,1.0,0.0,0.1111111119389534,0.2222222238779068,0.3333333432674408,0.4444444477558136,0.5555555820465088,0.6666666865348816,0.7777777910232544,0.8888888955116272,1.0,0.0,0.1111111119389534,0.2222222238779068,0.3333333432674408,0.4444444477558136,0.5555555820465088,0.6666666865348816,0.7777777910232544,0.8888888955116272,1.0,0.0,0.1111111119389534,0.2222222238779068,0.3333333432674408,0.4444444477558136,0.5555555820465088,0.6666666865348816,0.7777777910232544,0.8888888955116272,1.0,0.0,0.1111111119389534,0.2222222238779068,0.3333333432674408,0.4444444477558136,0.5555555820465088,0.6666666865348816,0.7777777910232544,0.8888888955116272,1.0,0.0,0.1111111119389534,0.2222222238779068,0.3333333432674408,0.4444444477558136,0.5555555820465088,0.6666666865348816,0.7777777910232544,0.8888888955116272,1.0]}],\"name\":\"3.0\"},{\"data\":[{\"marker\":{\"cmax\":4.1,\"cmin\":-0.1,\"color\":[1,1,3,1,5,2,4,4,1,1,2,2,4,1,3,1,0,1,0,4,3,4,2,0,4,2,2,1,1,3,1,6,7,3,2,6,2,1,1,2,3,0,4,0,3,6,2,3,1,1,1,1,2,4,1,1,1,3,1,1,2,2,4,2,1,3,1,2,0,1,2,0,1,1,3,1,4,1,5,0,3,3,4,3,1,2,3,2,1,1,2,2,4,0,1,2,3,1,0,2],\"colorbar\":{\"thickness\":20,\"title\":{\"text\":\"Rabbits\"}},\"colorscale\":[[0.0,\"#0508b8\"],[0.08333333333333333,\"#1910d8\"],[0.16666666666666666,\"#3c19f0\"],[0.25,\"#6b1cfb\"],[0.3333333333333333,\"#981cfd\"],[0.4166666666666667,\"#bf1cfd\"],[0.5,\"#dd2bfd\"],[0.5833333333333334,\"#f246fe\"],[0.6666666666666666,\"#fc67fd\"],[0.75,\"#fe88fc\"],[0.8333333333333334,\"#fea5fd\"],[0.9166666666666666,\"#febefe\"],[1.0,\"#fec3fe\"]],\"size\":20},\"mode\":\"markers\",\"name\":\"Rabbits\",\"type\":\"scatter\",\"x\":[0.0,0.0,0.0,0.0,0.0,0.0,0.0,0.0,0.0,0.0,0.1111111119389534,0.1111111119389534,0.1111111119389534,0.1111111119389534,0.1111111119389534,0.1111111119389534,0.1111111119389534,0.1111111119389534,0.1111111119389534,0.1111111119389534,0.2222222238779068,0.2222222238779068,0.2222222238779068,0.2222222238779068,0.2222222238779068,0.2222222238779068,0.2222222238779068,0.2222222238779068,0.2222222238779068,0.2222222238779068,0.3333333432674408,0.3333333432674408,0.3333333432674408,0.3333333432674408,0.3333333432674408,0.3333333432674408,0.3333333432674408,0.3333333432674408,0.3333333432674408,0.3333333432674408,0.4444444477558136,0.4444444477558136,0.4444444477558136,0.4444444477558136,0.4444444477558136,0.4444444477558136,0.4444444477558136,0.4444444477558136,0.4444444477558136,0.4444444477558136,0.5555555820465088,0.5555555820465088,0.5555555820465088,0.5555555820465088,0.5555555820465088,0.5555555820465088,0.5555555820465088,0.5555555820465088,0.5555555820465088,0.5555555820465088,0.6666666865348816,0.6666666865348816,0.6666666865348816,0.6666666865348816,0.6666666865348816,0.6666666865348816,0.6666666865348816,0.6666666865348816,0.6666666865348816,0.6666666865348816,0.7777777910232544,0.7777777910232544,0.7777777910232544,0.7777777910232544,0.7777777910232544,0.7777777910232544,0.7777777910232544,0.7777777910232544,0.7777777910232544,0.7777777910232544,0.8888888955116272,0.8888888955116272,0.8888888955116272,0.8888888955116272,0.8888888955116272,0.8888888955116272,0.8888888955116272,0.8888888955116272,0.8888888955116272,0.8888888955116272,1.0,1.0,1.0,1.0,1.0,1.0,1.0,1.0,1.0,1.0],\"y\":[0.0,0.1111111119389534,0.2222222238779068,0.3333333432674408,0.4444444477558136,0.5555555820465088,0.6666666865348816,0.7777777910232544,0.8888888955116272,1.0,0.0,0.1111111119389534,0.2222222238779068,0.3333333432674408,0.4444444477558136,0.5555555820465088,0.6666666865348816,0.7777777910232544,0.8888888955116272,1.0,0.0,0.1111111119389534,0.2222222238779068,0.3333333432674408,0.4444444477558136,0.5555555820465088,0.6666666865348816,0.7777777910232544,0.8888888955116272,1.0,0.0,0.1111111119389534,0.2222222238779068,0.3333333432674408,0.4444444477558136,0.5555555820465088,0.6666666865348816,0.7777777910232544,0.8888888955116272,1.0,0.0,0.1111111119389534,0.2222222238779068,0.3333333432674408,0.4444444477558136,0.5555555820465088,0.6666666865348816,0.7777777910232544,0.8888888955116272,1.0,0.0,0.1111111119389534,0.2222222238779068,0.3333333432674408,0.4444444477558136,0.5555555820465088,0.6666666865348816,0.7777777910232544,0.8888888955116272,1.0,0.0,0.1111111119389534,0.2222222238779068,0.3333333432674408,0.4444444477558136,0.5555555820465088,0.6666666865348816,0.7777777910232544,0.8888888955116272,1.0,0.0,0.1111111119389534,0.2222222238779068,0.3333333432674408,0.4444444477558136,0.5555555820465088,0.6666666865348816,0.7777777910232544,0.8888888955116272,1.0,0.0,0.1111111119389534,0.2222222238779068,0.3333333432674408,0.4444444477558136,0.5555555820465088,0.6666666865348816,0.7777777910232544,0.8888888955116272,1.0,0.0,0.1111111119389534,0.2222222238779068,0.3333333432674408,0.4444444477558136,0.5555555820465088,0.6666666865348816,0.7777777910232544,0.8888888955116272,1.0]}],\"name\":\"4.0\"},{\"data\":[{\"marker\":{\"cmax\":4.1,\"cmin\":-0.1,\"color\":[0,1,1,2,3,0,2,1,3,4,3,4,2,3,2,2,2,4,2,0,2,0,3,3,4,3,1,1,2,1,1,4,2,2,2,2,4,1,1,0,4,2,3,1,2,1,1,2,3,1,4,3,5,4,5,1,3,1,2,1,3,0,2,2,2,1,1,4,5,3,1,5,5,1,0,0,3,4,4,3,3,3,2,8,3,1,5,1,4,2,6,1,3,4,5,1,2,3,2,1],\"colorbar\":{\"thickness\":20,\"title\":{\"text\":\"Rabbits\"}},\"colorscale\":[[0.0,\"#0508b8\"],[0.08333333333333333,\"#1910d8\"],[0.16666666666666666,\"#3c19f0\"],[0.25,\"#6b1cfb\"],[0.3333333333333333,\"#981cfd\"],[0.4166666666666667,\"#bf1cfd\"],[0.5,\"#dd2bfd\"],[0.5833333333333334,\"#f246fe\"],[0.6666666666666666,\"#fc67fd\"],[0.75,\"#fe88fc\"],[0.8333333333333334,\"#fea5fd\"],[0.9166666666666666,\"#febefe\"],[1.0,\"#fec3fe\"]],\"size\":20},\"mode\":\"markers\",\"name\":\"Rabbits\",\"type\":\"scatter\",\"x\":[0.0,0.0,0.0,0.0,0.0,0.0,0.0,0.0,0.0,0.0,0.1111111119389534,0.1111111119389534,0.1111111119389534,0.1111111119389534,0.1111111119389534,0.1111111119389534,0.1111111119389534,0.1111111119389534,0.1111111119389534,0.1111111119389534,0.2222222238779068,0.2222222238779068,0.2222222238779068,0.2222222238779068,0.2222222238779068,0.2222222238779068,0.2222222238779068,0.2222222238779068,0.2222222238779068,0.2222222238779068,0.3333333432674408,0.3333333432674408,0.3333333432674408,0.3333333432674408,0.3333333432674408,0.3333333432674408,0.3333333432674408,0.3333333432674408,0.3333333432674408,0.3333333432674408,0.4444444477558136,0.4444444477558136,0.4444444477558136,0.4444444477558136,0.4444444477558136,0.4444444477558136,0.4444444477558136,0.4444444477558136,0.4444444477558136,0.4444444477558136,0.5555555820465088,0.5555555820465088,0.5555555820465088,0.5555555820465088,0.5555555820465088,0.5555555820465088,0.5555555820465088,0.5555555820465088,0.5555555820465088,0.5555555820465088,0.6666666865348816,0.6666666865348816,0.6666666865348816,0.6666666865348816,0.6666666865348816,0.6666666865348816,0.6666666865348816,0.6666666865348816,0.6666666865348816,0.6666666865348816,0.7777777910232544,0.7777777910232544,0.7777777910232544,0.7777777910232544,0.7777777910232544,0.7777777910232544,0.7777777910232544,0.7777777910232544,0.7777777910232544,0.7777777910232544,0.8888888955116272,0.8888888955116272,0.8888888955116272,0.8888888955116272,0.8888888955116272,0.8888888955116272,0.8888888955116272,0.8888888955116272,0.8888888955116272,0.8888888955116272,1.0,1.0,1.0,1.0,1.0,1.0,1.0,1.0,1.0,1.0],\"y\":[0.0,0.1111111119389534,0.2222222238779068,0.3333333432674408,0.4444444477558136,0.5555555820465088,0.6666666865348816,0.7777777910232544,0.8888888955116272,1.0,0.0,0.1111111119389534,0.2222222238779068,0.3333333432674408,0.4444444477558136,0.5555555820465088,0.6666666865348816,0.7777777910232544,0.8888888955116272,1.0,0.0,0.1111111119389534,0.2222222238779068,0.3333333432674408,0.4444444477558136,0.5555555820465088,0.6666666865348816,0.7777777910232544,0.8888888955116272,1.0,0.0,0.1111111119389534,0.2222222238779068,0.3333333432674408,0.4444444477558136,0.5555555820465088,0.6666666865348816,0.7777777910232544,0.8888888955116272,1.0,0.0,0.1111111119389534,0.2222222238779068,0.3333333432674408,0.4444444477558136,0.5555555820465088,0.6666666865348816,0.7777777910232544,0.8888888955116272,1.0,0.0,0.1111111119389534,0.2222222238779068,0.3333333432674408,0.4444444477558136,0.5555555820465088,0.6666666865348816,0.7777777910232544,0.8888888955116272,1.0,0.0,0.1111111119389534,0.2222222238779068,0.3333333432674408,0.4444444477558136,0.5555555820465088,0.6666666865348816,0.7777777910232544,0.8888888955116272,1.0,0.0,0.1111111119389534,0.2222222238779068,0.3333333432674408,0.4444444477558136,0.5555555820465088,0.6666666865348816,0.7777777910232544,0.8888888955116272,1.0,0.0,0.1111111119389534,0.2222222238779068,0.3333333432674408,0.4444444477558136,0.5555555820465088,0.6666666865348816,0.7777777910232544,0.8888888955116272,1.0,0.0,0.1111111119389534,0.2222222238779068,0.3333333432674408,0.4444444477558136,0.5555555820465088,0.6666666865348816,0.7777777910232544,0.8888888955116272,1.0]}],\"name\":\"5.0\"},{\"data\":[{\"marker\":{\"cmax\":4.1,\"cmin\":-0.1,\"color\":[2,5,3,2,5,2,0,1,3,2,3,4,5,3,3,4,4,2,2,3,6,2,3,2,2,3,3,3,2,2,3,3,1,0,0,3,2,3,1,3,2,4,3,2,1,1,2,3,1,4,2,2,2,2,1,2,2,3,3,5,1,4,0,3,4,1,1,3,2,3,3,2,4,5,6,1,4,1,2,7,2,4,0,1,4,0,3,2,4,2,2,5,2,4,5,6,0,3,3,3],\"colorbar\":{\"thickness\":20,\"title\":{\"text\":\"Rabbits\"}},\"colorscale\":[[0.0,\"#0508b8\"],[0.08333333333333333,\"#1910d8\"],[0.16666666666666666,\"#3c19f0\"],[0.25,\"#6b1cfb\"],[0.3333333333333333,\"#981cfd\"],[0.4166666666666667,\"#bf1cfd\"],[0.5,\"#dd2bfd\"],[0.5833333333333334,\"#f246fe\"],[0.6666666666666666,\"#fc67fd\"],[0.75,\"#fe88fc\"],[0.8333333333333334,\"#fea5fd\"],[0.9166666666666666,\"#febefe\"],[1.0,\"#fec3fe\"]],\"size\":20},\"mode\":\"markers\",\"name\":\"Rabbits\",\"type\":\"scatter\",\"x\":[0.0,0.0,0.0,0.0,0.0,0.0,0.0,0.0,0.0,0.0,0.1111111119389534,0.1111111119389534,0.1111111119389534,0.1111111119389534,0.1111111119389534,0.1111111119389534,0.1111111119389534,0.1111111119389534,0.1111111119389534,0.1111111119389534,0.2222222238779068,0.2222222238779068,0.2222222238779068,0.2222222238779068,0.2222222238779068,0.2222222238779068,0.2222222238779068,0.2222222238779068,0.2222222238779068,0.2222222238779068,0.3333333432674408,0.3333333432674408,0.3333333432674408,0.3333333432674408,0.3333333432674408,0.3333333432674408,0.3333333432674408,0.3333333432674408,0.3333333432674408,0.3333333432674408,0.4444444477558136,0.4444444477558136,0.4444444477558136,0.4444444477558136,0.4444444477558136,0.4444444477558136,0.4444444477558136,0.4444444477558136,0.4444444477558136,0.4444444477558136,0.5555555820465088,0.5555555820465088,0.5555555820465088,0.5555555820465088,0.5555555820465088,0.5555555820465088,0.5555555820465088,0.5555555820465088,0.5555555820465088,0.5555555820465088,0.6666666865348816,0.6666666865348816,0.6666666865348816,0.6666666865348816,0.6666666865348816,0.6666666865348816,0.6666666865348816,0.6666666865348816,0.6666666865348816,0.6666666865348816,0.7777777910232544,0.7777777910232544,0.7777777910232544,0.7777777910232544,0.7777777910232544,0.7777777910232544,0.7777777910232544,0.7777777910232544,0.7777777910232544,0.7777777910232544,0.8888888955116272,0.8888888955116272,0.8888888955116272,0.8888888955116272,0.8888888955116272,0.8888888955116272,0.8888888955116272,0.8888888955116272,0.8888888955116272,0.8888888955116272,1.0,1.0,1.0,1.0,1.0,1.0,1.0,1.0,1.0,1.0],\"y\":[0.0,0.1111111119389534,0.2222222238779068,0.3333333432674408,0.4444444477558136,0.5555555820465088,0.6666666865348816,0.7777777910232544,0.8888888955116272,1.0,0.0,0.1111111119389534,0.2222222238779068,0.3333333432674408,0.4444444477558136,0.5555555820465088,0.6666666865348816,0.7777777910232544,0.8888888955116272,1.0,0.0,0.1111111119389534,0.2222222238779068,0.3333333432674408,0.4444444477558136,0.5555555820465088,0.6666666865348816,0.7777777910232544,0.8888888955116272,1.0,0.0,0.1111111119389534,0.2222222238779068,0.3333333432674408,0.4444444477558136,0.5555555820465088,0.6666666865348816,0.7777777910232544,0.8888888955116272,1.0,0.0,0.1111111119389534,0.2222222238779068,0.3333333432674408,0.4444444477558136,0.5555555820465088,0.6666666865348816,0.7777777910232544,0.8888888955116272,1.0,0.0,0.1111111119389534,0.2222222238779068,0.3333333432674408,0.4444444477558136,0.5555555820465088,0.6666666865348816,0.7777777910232544,0.8888888955116272,1.0,0.0,0.1111111119389534,0.2222222238779068,0.3333333432674408,0.4444444477558136,0.5555555820465088,0.6666666865348816,0.7777777910232544,0.8888888955116272,1.0,0.0,0.1111111119389534,0.2222222238779068,0.3333333432674408,0.4444444477558136,0.5555555820465088,0.6666666865348816,0.7777777910232544,0.8888888955116272,1.0,0.0,0.1111111119389534,0.2222222238779068,0.3333333432674408,0.4444444477558136,0.5555555820465088,0.6666666865348816,0.7777777910232544,0.8888888955116272,1.0,0.0,0.1111111119389534,0.2222222238779068,0.3333333432674408,0.4444444477558136,0.5555555820465088,0.6666666865348816,0.7777777910232544,0.8888888955116272,1.0]}],\"name\":\"6.0\"},{\"data\":[{\"marker\":{\"cmax\":4.1,\"cmin\":-0.1,\"color\":[2,8,4,0,1,4,2,3,4,4,3,1,4,3,3,6,3,4,3,3,1,2,4,4,4,2,3,6,3,0,2,3,1,3,3,7,3,0,2,11,1,4,5,0,4,3,1,2,4,1,5,0,3,5,4,3,1,2,5,1,4,4,3,4,2,4,1,4,3,4,1,2,6,1,1,2,2,5,4,1,2,5,2,0,5,3,3,2,2,2,4,4,4,1,1,3,7,2,3,4],\"colorbar\":{\"thickness\":20,\"title\":{\"text\":\"Rabbits\"}},\"colorscale\":[[0.0,\"#0508b8\"],[0.08333333333333333,\"#1910d8\"],[0.16666666666666666,\"#3c19f0\"],[0.25,\"#6b1cfb\"],[0.3333333333333333,\"#981cfd\"],[0.4166666666666667,\"#bf1cfd\"],[0.5,\"#dd2bfd\"],[0.5833333333333334,\"#f246fe\"],[0.6666666666666666,\"#fc67fd\"],[0.75,\"#fe88fc\"],[0.8333333333333334,\"#fea5fd\"],[0.9166666666666666,\"#febefe\"],[1.0,\"#fec3fe\"]],\"size\":20},\"mode\":\"markers\",\"name\":\"Rabbits\",\"type\":\"scatter\",\"x\":[0.0,0.0,0.0,0.0,0.0,0.0,0.0,0.0,0.0,0.0,0.1111111119389534,0.1111111119389534,0.1111111119389534,0.1111111119389534,0.1111111119389534,0.1111111119389534,0.1111111119389534,0.1111111119389534,0.1111111119389534,0.1111111119389534,0.2222222238779068,0.2222222238779068,0.2222222238779068,0.2222222238779068,0.2222222238779068,0.2222222238779068,0.2222222238779068,0.2222222238779068,0.2222222238779068,0.2222222238779068,0.3333333432674408,0.3333333432674408,0.3333333432674408,0.3333333432674408,0.3333333432674408,0.3333333432674408,0.3333333432674408,0.3333333432674408,0.3333333432674408,0.3333333432674408,0.4444444477558136,0.4444444477558136,0.4444444477558136,0.4444444477558136,0.4444444477558136,0.4444444477558136,0.4444444477558136,0.4444444477558136,0.4444444477558136,0.4444444477558136,0.5555555820465088,0.5555555820465088,0.5555555820465088,0.5555555820465088,0.5555555820465088,0.5555555820465088,0.5555555820465088,0.5555555820465088,0.5555555820465088,0.5555555820465088,0.6666666865348816,0.6666666865348816,0.6666666865348816,0.6666666865348816,0.6666666865348816,0.6666666865348816,0.6666666865348816,0.6666666865348816,0.6666666865348816,0.6666666865348816,0.7777777910232544,0.7777777910232544,0.7777777910232544,0.7777777910232544,0.7777777910232544,0.7777777910232544,0.7777777910232544,0.7777777910232544,0.7777777910232544,0.7777777910232544,0.8888888955116272,0.8888888955116272,0.8888888955116272,0.8888888955116272,0.8888888955116272,0.8888888955116272,0.8888888955116272,0.8888888955116272,0.8888888955116272,0.8888888955116272,1.0,1.0,1.0,1.0,1.0,1.0,1.0,1.0,1.0,1.0],\"y\":[0.0,0.1111111119389534,0.2222222238779068,0.3333333432674408,0.4444444477558136,0.5555555820465088,0.6666666865348816,0.7777777910232544,0.8888888955116272,1.0,0.0,0.1111111119389534,0.2222222238779068,0.3333333432674408,0.4444444477558136,0.5555555820465088,0.6666666865348816,0.7777777910232544,0.8888888955116272,1.0,0.0,0.1111111119389534,0.2222222238779068,0.3333333432674408,0.4444444477558136,0.5555555820465088,0.6666666865348816,0.7777777910232544,0.8888888955116272,1.0,0.0,0.1111111119389534,0.2222222238779068,0.3333333432674408,0.4444444477558136,0.5555555820465088,0.6666666865348816,0.7777777910232544,0.8888888955116272,1.0,0.0,0.1111111119389534,0.2222222238779068,0.3333333432674408,0.4444444477558136,0.5555555820465088,0.6666666865348816,0.7777777910232544,0.8888888955116272,1.0,0.0,0.1111111119389534,0.2222222238779068,0.3333333432674408,0.4444444477558136,0.5555555820465088,0.6666666865348816,0.7777777910232544,0.8888888955116272,1.0,0.0,0.1111111119389534,0.2222222238779068,0.3333333432674408,0.4444444477558136,0.5555555820465088,0.6666666865348816,0.7777777910232544,0.8888888955116272,1.0,0.0,0.1111111119389534,0.2222222238779068,0.3333333432674408,0.4444444477558136,0.5555555820465088,0.6666666865348816,0.7777777910232544,0.8888888955116272,1.0,0.0,0.1111111119389534,0.2222222238779068,0.3333333432674408,0.4444444477558136,0.5555555820465088,0.6666666865348816,0.7777777910232544,0.8888888955116272,1.0,0.0,0.1111111119389534,0.2222222238779068,0.3333333432674408,0.4444444477558136,0.5555555820465088,0.6666666865348816,0.7777777910232544,0.8888888955116272,1.0]}],\"name\":\"7.0\"},{\"data\":[{\"marker\":{\"cmax\":4.1,\"cmin\":-0.1,\"color\":[2,4,2,3,4,2,4,3,3,6,5,1,4,2,4,5,5,5,5,1,1,6,0,2,1,2,3,6,4,4,7,4,2,1,4,4,5,0,5,4,3,2,3,3,1,3,3,3,3,5,4,1,6,3,3,4,3,4,1,5,3,6,4,1,2,1,8,4,3,2,3,4,7,1,1,2,2,4,3,1,2,2,1,2,3,1,6,5,9,1,4,5,4,2,6,2,3,4,5,7],\"colorbar\":{\"thickness\":20,\"title\":{\"text\":\"Rabbits\"}},\"colorscale\":[[0.0,\"#0508b8\"],[0.08333333333333333,\"#1910d8\"],[0.16666666666666666,\"#3c19f0\"],[0.25,\"#6b1cfb\"],[0.3333333333333333,\"#981cfd\"],[0.4166666666666667,\"#bf1cfd\"],[0.5,\"#dd2bfd\"],[0.5833333333333334,\"#f246fe\"],[0.6666666666666666,\"#fc67fd\"],[0.75,\"#fe88fc\"],[0.8333333333333334,\"#fea5fd\"],[0.9166666666666666,\"#febefe\"],[1.0,\"#fec3fe\"]],\"size\":20},\"mode\":\"markers\",\"name\":\"Rabbits\",\"type\":\"scatter\",\"x\":[0.0,0.0,0.0,0.0,0.0,0.0,0.0,0.0,0.0,0.0,0.1111111119389534,0.1111111119389534,0.1111111119389534,0.1111111119389534,0.1111111119389534,0.1111111119389534,0.1111111119389534,0.1111111119389534,0.1111111119389534,0.1111111119389534,0.2222222238779068,0.2222222238779068,0.2222222238779068,0.2222222238779068,0.2222222238779068,0.2222222238779068,0.2222222238779068,0.2222222238779068,0.2222222238779068,0.2222222238779068,0.3333333432674408,0.3333333432674408,0.3333333432674408,0.3333333432674408,0.3333333432674408,0.3333333432674408,0.3333333432674408,0.3333333432674408,0.3333333432674408,0.3333333432674408,0.4444444477558136,0.4444444477558136,0.4444444477558136,0.4444444477558136,0.4444444477558136,0.4444444477558136,0.4444444477558136,0.4444444477558136,0.4444444477558136,0.4444444477558136,0.5555555820465088,0.5555555820465088,0.5555555820465088,0.5555555820465088,0.5555555820465088,0.5555555820465088,0.5555555820465088,0.5555555820465088,0.5555555820465088,0.5555555820465088,0.6666666865348816,0.6666666865348816,0.6666666865348816,0.6666666865348816,0.6666666865348816,0.6666666865348816,0.6666666865348816,0.6666666865348816,0.6666666865348816,0.6666666865348816,0.7777777910232544,0.7777777910232544,0.7777777910232544,0.7777777910232544,0.7777777910232544,0.7777777910232544,0.7777777910232544,0.7777777910232544,0.7777777910232544,0.7777777910232544,0.8888888955116272,0.8888888955116272,0.8888888955116272,0.8888888955116272,0.8888888955116272,0.8888888955116272,0.8888888955116272,0.8888888955116272,0.8888888955116272,0.8888888955116272,1.0,1.0,1.0,1.0,1.0,1.0,1.0,1.0,1.0,1.0],\"y\":[0.0,0.1111111119389534,0.2222222238779068,0.3333333432674408,0.4444444477558136,0.5555555820465088,0.6666666865348816,0.7777777910232544,0.8888888955116272,1.0,0.0,0.1111111119389534,0.2222222238779068,0.3333333432674408,0.4444444477558136,0.5555555820465088,0.6666666865348816,0.7777777910232544,0.8888888955116272,1.0,0.0,0.1111111119389534,0.2222222238779068,0.3333333432674408,0.4444444477558136,0.5555555820465088,0.6666666865348816,0.7777777910232544,0.8888888955116272,1.0,0.0,0.1111111119389534,0.2222222238779068,0.3333333432674408,0.4444444477558136,0.5555555820465088,0.6666666865348816,0.7777777910232544,0.8888888955116272,1.0,0.0,0.1111111119389534,0.2222222238779068,0.3333333432674408,0.4444444477558136,0.5555555820465088,0.6666666865348816,0.7777777910232544,0.8888888955116272,1.0,0.0,0.1111111119389534,0.2222222238779068,0.3333333432674408,0.4444444477558136,0.5555555820465088,0.6666666865348816,0.7777777910232544,0.8888888955116272,1.0,0.0,0.1111111119389534,0.2222222238779068,0.3333333432674408,0.4444444477558136,0.5555555820465088,0.6666666865348816,0.7777777910232544,0.8888888955116272,1.0,0.0,0.1111111119389534,0.2222222238779068,0.3333333432674408,0.4444444477558136,0.5555555820465088,0.6666666865348816,0.7777777910232544,0.8888888955116272,1.0,0.0,0.1111111119389534,0.2222222238779068,0.3333333432674408,0.4444444477558136,0.5555555820465088,0.6666666865348816,0.7777777910232544,0.8888888955116272,1.0,0.0,0.1111111119389534,0.2222222238779068,0.3333333432674408,0.4444444477558136,0.5555555820465088,0.6666666865348816,0.7777777910232544,0.8888888955116272,1.0]}],\"name\":\"8.0\"},{\"data\":[{\"marker\":{\"cmax\":4.1,\"cmin\":-0.1,\"color\":[5,3,1,2,5,2,3,6,7,2,7,5,1,5,3,0,7,4,3,5,3,3,6,5,1,5,3,3,4,6,3,5,2,6,3,2,6,2,3,1,2,10,4,6,3,7,4,4,4,8,4,5,5,2,4,5,3,5,3,3,6,4,4,5,5,1,4,2,2,2,2,6,5,5,4,0,6,5,0,2,3,2,7,2,2,3,2,4,5,3,5,3,5,0,2,4,3,5,4,7],\"colorbar\":{\"thickness\":20,\"title\":{\"text\":\"Rabbits\"}},\"colorscale\":[[0.0,\"#0508b8\"],[0.08333333333333333,\"#1910d8\"],[0.16666666666666666,\"#3c19f0\"],[0.25,\"#6b1cfb\"],[0.3333333333333333,\"#981cfd\"],[0.4166666666666667,\"#bf1cfd\"],[0.5,\"#dd2bfd\"],[0.5833333333333334,\"#f246fe\"],[0.6666666666666666,\"#fc67fd\"],[0.75,\"#fe88fc\"],[0.8333333333333334,\"#fea5fd\"],[0.9166666666666666,\"#febefe\"],[1.0,\"#fec3fe\"]],\"size\":20},\"mode\":\"markers\",\"name\":\"Rabbits\",\"type\":\"scatter\",\"x\":[0.0,0.0,0.0,0.0,0.0,0.0,0.0,0.0,0.0,0.0,0.1111111119389534,0.1111111119389534,0.1111111119389534,0.1111111119389534,0.1111111119389534,0.1111111119389534,0.1111111119389534,0.1111111119389534,0.1111111119389534,0.1111111119389534,0.2222222238779068,0.2222222238779068,0.2222222238779068,0.2222222238779068,0.2222222238779068,0.2222222238779068,0.2222222238779068,0.2222222238779068,0.2222222238779068,0.2222222238779068,0.3333333432674408,0.3333333432674408,0.3333333432674408,0.3333333432674408,0.3333333432674408,0.3333333432674408,0.3333333432674408,0.3333333432674408,0.3333333432674408,0.3333333432674408,0.4444444477558136,0.4444444477558136,0.4444444477558136,0.4444444477558136,0.4444444477558136,0.4444444477558136,0.4444444477558136,0.4444444477558136,0.4444444477558136,0.4444444477558136,0.5555555820465088,0.5555555820465088,0.5555555820465088,0.5555555820465088,0.5555555820465088,0.5555555820465088,0.5555555820465088,0.5555555820465088,0.5555555820465088,0.5555555820465088,0.6666666865348816,0.6666666865348816,0.6666666865348816,0.6666666865348816,0.6666666865348816,0.6666666865348816,0.6666666865348816,0.6666666865348816,0.6666666865348816,0.6666666865348816,0.7777777910232544,0.7777777910232544,0.7777777910232544,0.7777777910232544,0.7777777910232544,0.7777777910232544,0.7777777910232544,0.7777777910232544,0.7777777910232544,0.7777777910232544,0.8888888955116272,0.8888888955116272,0.8888888955116272,0.8888888955116272,0.8888888955116272,0.8888888955116272,0.8888888955116272,0.8888888955116272,0.8888888955116272,0.8888888955116272,1.0,1.0,1.0,1.0,1.0,1.0,1.0,1.0,1.0,1.0],\"y\":[0.0,0.1111111119389534,0.2222222238779068,0.3333333432674408,0.4444444477558136,0.5555555820465088,0.6666666865348816,0.7777777910232544,0.8888888955116272,1.0,0.0,0.1111111119389534,0.2222222238779068,0.3333333432674408,0.4444444477558136,0.5555555820465088,0.6666666865348816,0.7777777910232544,0.8888888955116272,1.0,0.0,0.1111111119389534,0.2222222238779068,0.3333333432674408,0.4444444477558136,0.5555555820465088,0.6666666865348816,0.7777777910232544,0.8888888955116272,1.0,0.0,0.1111111119389534,0.2222222238779068,0.3333333432674408,0.4444444477558136,0.5555555820465088,0.6666666865348816,0.7777777910232544,0.8888888955116272,1.0,0.0,0.1111111119389534,0.2222222238779068,0.3333333432674408,0.4444444477558136,0.5555555820465088,0.6666666865348816,0.7777777910232544,0.8888888955116272,1.0,0.0,0.1111111119389534,0.2222222238779068,0.3333333432674408,0.4444444477558136,0.5555555820465088,0.6666666865348816,0.7777777910232544,0.8888888955116272,1.0,0.0,0.1111111119389534,0.2222222238779068,0.3333333432674408,0.4444444477558136,0.5555555820465088,0.6666666865348816,0.7777777910232544,0.8888888955116272,1.0,0.0,0.1111111119389534,0.2222222238779068,0.3333333432674408,0.4444444477558136,0.5555555820465088,0.6666666865348816,0.7777777910232544,0.8888888955116272,1.0,0.0,0.1111111119389534,0.2222222238779068,0.3333333432674408,0.4444444477558136,0.5555555820465088,0.6666666865348816,0.7777777910232544,0.8888888955116272,1.0,0.0,0.1111111119389534,0.2222222238779068,0.3333333432674408,0.4444444477558136,0.5555555820465088,0.6666666865348816,0.7777777910232544,0.8888888955116272,1.0]}],\"name\":\"9.0\"},{\"data\":[{\"marker\":{\"cmax\":4.1,\"cmin\":-0.1,\"color\":[4,8,2,3,6,4,4,0,7,2,3,4,5,0,5,1,5,8,5,4,7,4,2,5,5,9,8,5,3,5,0,4,6,4,8,6,6,5,3,2,2,4,2,5,8,7,1,9,3,6,8,7,5,6,1,4,3,4,4,7,6,5,6,5,5,5,6,4,4,4,4,1,3,2,4,2,2,11,4,9,3,4,4,4,3,3,4,5,4,2,5,4,1,4,3,3,5,3,4,2],\"colorbar\":{\"thickness\":20,\"title\":{\"text\":\"Rabbits\"}},\"colorscale\":[[0.0,\"#0508b8\"],[0.08333333333333333,\"#1910d8\"],[0.16666666666666666,\"#3c19f0\"],[0.25,\"#6b1cfb\"],[0.3333333333333333,\"#981cfd\"],[0.4166666666666667,\"#bf1cfd\"],[0.5,\"#dd2bfd\"],[0.5833333333333334,\"#f246fe\"],[0.6666666666666666,\"#fc67fd\"],[0.75,\"#fe88fc\"],[0.8333333333333334,\"#fea5fd\"],[0.9166666666666666,\"#febefe\"],[1.0,\"#fec3fe\"]],\"size\":20},\"mode\":\"markers\",\"name\":\"Rabbits\",\"type\":\"scatter\",\"x\":[0.0,0.0,0.0,0.0,0.0,0.0,0.0,0.0,0.0,0.0,0.1111111119389534,0.1111111119389534,0.1111111119389534,0.1111111119389534,0.1111111119389534,0.1111111119389534,0.1111111119389534,0.1111111119389534,0.1111111119389534,0.1111111119389534,0.2222222238779068,0.2222222238779068,0.2222222238779068,0.2222222238779068,0.2222222238779068,0.2222222238779068,0.2222222238779068,0.2222222238779068,0.2222222238779068,0.2222222238779068,0.3333333432674408,0.3333333432674408,0.3333333432674408,0.3333333432674408,0.3333333432674408,0.3333333432674408,0.3333333432674408,0.3333333432674408,0.3333333432674408,0.3333333432674408,0.4444444477558136,0.4444444477558136,0.4444444477558136,0.4444444477558136,0.4444444477558136,0.4444444477558136,0.4444444477558136,0.4444444477558136,0.4444444477558136,0.4444444477558136,0.5555555820465088,0.5555555820465088,0.5555555820465088,0.5555555820465088,0.5555555820465088,0.5555555820465088,0.5555555820465088,0.5555555820465088,0.5555555820465088,0.5555555820465088,0.6666666865348816,0.6666666865348816,0.6666666865348816,0.6666666865348816,0.6666666865348816,0.6666666865348816,0.6666666865348816,0.6666666865348816,0.6666666865348816,0.6666666865348816,0.7777777910232544,0.7777777910232544,0.7777777910232544,0.7777777910232544,0.7777777910232544,0.7777777910232544,0.7777777910232544,0.7777777910232544,0.7777777910232544,0.7777777910232544,0.8888888955116272,0.8888888955116272,0.8888888955116272,0.8888888955116272,0.8888888955116272,0.8888888955116272,0.8888888955116272,0.8888888955116272,0.8888888955116272,0.8888888955116272,1.0,1.0,1.0,1.0,1.0,1.0,1.0,1.0,1.0,1.0],\"y\":[0.0,0.1111111119389534,0.2222222238779068,0.3333333432674408,0.4444444477558136,0.5555555820465088,0.6666666865348816,0.7777777910232544,0.8888888955116272,1.0,0.0,0.1111111119389534,0.2222222238779068,0.3333333432674408,0.4444444477558136,0.5555555820465088,0.6666666865348816,0.7777777910232544,0.8888888955116272,1.0,0.0,0.1111111119389534,0.2222222238779068,0.3333333432674408,0.4444444477558136,0.5555555820465088,0.6666666865348816,0.7777777910232544,0.8888888955116272,1.0,0.0,0.1111111119389534,0.2222222238779068,0.3333333432674408,0.4444444477558136,0.5555555820465088,0.6666666865348816,0.7777777910232544,0.8888888955116272,1.0,0.0,0.1111111119389534,0.2222222238779068,0.3333333432674408,0.4444444477558136,0.5555555820465088,0.6666666865348816,0.7777777910232544,0.8888888955116272,1.0,0.0,0.1111111119389534,0.2222222238779068,0.3333333432674408,0.4444444477558136,0.5555555820465088,0.6666666865348816,0.7777777910232544,0.8888888955116272,1.0,0.0,0.1111111119389534,0.2222222238779068,0.3333333432674408,0.4444444477558136,0.5555555820465088,0.6666666865348816,0.7777777910232544,0.8888888955116272,1.0,0.0,0.1111111119389534,0.2222222238779068,0.3333333432674408,0.4444444477558136,0.5555555820465088,0.6666666865348816,0.7777777910232544,0.8888888955116272,1.0,0.0,0.1111111119389534,0.2222222238779068,0.3333333432674408,0.4444444477558136,0.5555555820465088,0.6666666865348816,0.7777777910232544,0.8888888955116272,1.0,0.0,0.1111111119389534,0.2222222238779068,0.3333333432674408,0.4444444477558136,0.5555555820465088,0.6666666865348816,0.7777777910232544,0.8888888955116272,1.0]}],\"name\":\"10.0\"}]);\n",
       "                        }).then(function(){\n",
       "                            Plotly.animate('249dc75a-b4cb-472b-966e-fd1d86f0cb6b', null);\n",
       "                        }).then(function(){\n",
       "                            \n",
       "var gd = document.getElementById('249dc75a-b4cb-472b-966e-fd1d86f0cb6b');\n",
       "var x = new MutationObserver(function (mutations, observer) {{\n",
       "        var display = window.getComputedStyle(gd).display;\n",
       "        if (!display || display === 'none') {{\n",
       "            console.log([gd, 'removed!']);\n",
       "            Plotly.purge(gd);\n",
       "            observer.disconnect();\n",
       "        }}\n",
       "}});\n",
       "\n",
       "// Listen for the removal of the full notebook cells\n",
       "var notebookContainer = gd.closest('#notebook-container');\n",
       "if (notebookContainer) {{\n",
       "    x.observe(notebookContainer, {childList: true});\n",
       "}}\n",
       "\n",
       "// Listen for the clearing of the current output cell\n",
       "var outputEl = gd.closest('.output');\n",
       "if (outputEl) {{\n",
       "    x.observe(outputEl, {childList: true});\n",
       "}}\n",
       "\n",
       "                        })                };                });            </script>        </div>"
      ]
     },
     "metadata": {},
     "output_type": "display_data"
    }
   ],
   "source": [
    "results.plot_species(\n",
    "    # Set the target species to visualize\n",
    "    species='Rabbits',\n",
    "    \n",
    "    # Set to True to use Plotly animation\n",
    "    animated=True,\n",
    "    \n",
    "    # Set the size of the Particles\n",
    "    size=20\n",
    ")"
   ]
  },
  {
   "cell_type": "markdown",
   "metadata": {},
   "source": [
    "A more complete list of `results.plot_species()` arguments can be found in the [documentation](https://stochss.github.io/SpatialPy/docs/build/html/classes/spatialpy.core.html#spatialpy.core.result.Result.plot_species).\n",
    "\n",
    "## Where to go now?\n",
    "For a more advanced example on reaction diffusion follow the link below:\n",
    "\n",
    "- [3D Cylinder Demo](./3D_Cylinder_Demo.ipynb)\n",
    "\n",
    "For examples on Fluid Dynamic models follow the links below:\n",
    "\n",
    "- [Gravity](./Gravity.ipynb)\n",
    "- [Weir](./weir.ipynb)"
   ]
  }
 ],
 "metadata": {
  "kernelspec": {
   "display_name": "Python 3 (ipykernel)",
   "language": "python",
   "name": "python3"
  },
  "language_info": {
   "codemirror_mode": {
    "name": "ipython",
    "version": 3
   },
   "file_extension": ".py",
   "mimetype": "text/x-python",
   "name": "python",
   "nbconvert_exporter": "python",
   "pygments_lexer": "ipython3",
   "version": "3.9.9"
  }
 },
 "nbformat": 4,
 "nbformat_minor": 4
}

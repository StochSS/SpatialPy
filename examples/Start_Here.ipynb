{
 "cells": [
  {
   "cell_type": "markdown",
   "metadata": {},
   "source": [
    "# Introduction\n",
    "\n",
    "Running a simmulation with SpatialPy requires only 2 components: a model (data), and a solver (algorithm)."
   ]
  },
  {
   "cell_type": "markdown",
   "metadata": {},
   "source": [
    "## Basics"
   ]
  },
  {
   "cell_type": "markdown",
   "metadata": {},
   "source": [
    "### Setup the Environment\n",
    "\n",
    "'os' and 'sys' allow us to modify the directory Python searches for source code. If you wish to use an installed GillesPy2 package, you do not need to run this cell. If this notebook is being run from within the GillesPy2 source code directory we need to let Python know that we want to use it, not the GillesPy2 package."
   ]
  },
  {
   "cell_type": "code",
   "execution_count": null,
   "metadata": {},
   "outputs": [],
   "source": [
    "import os\n",
    "import sys\n",
    "sys.path.insert(1, os.path.abspath(os.path.join(os.getcwd(), '../')))"
   ]
  },
  {
   "cell_type": "markdown",
   "metadata": {},
   "source": [
    "Numpy is used to set the timespan of the Model."
   ]
  },
  {
   "cell_type": "code",
   "execution_count": null,
   "metadata": {},
   "outputs": [],
   "source": [
    "import numpy"
   ]
  },
  {
   "cell_type": "markdown",
   "metadata": {},
   "source": [
    "Import the types that'll be needed to define your Model."
   ]
  },
  {
   "cell_type": "code",
   "execution_count": null,
   "metadata": {},
   "outputs": [],
   "source": [
    "from spatialpy import (\n",
    "    Model,\n",
    "    Domain,\n",
    "    Species,\n",
    "    ScatterInitialCondition,\n",
    "    Parameters,\n",
    "    Reactions\n",
    ")"
   ]
  },
  {
   "cell_type": "markdown",
   "metadata": {},
   "source": [
    "## Creating a SpatialPy Model\n",
    "\n",
    "A SpatialPy model must include a domain.\n",
    "\n",
    "Your model is declared and configured as a Python class. As such, the name between `class` and `(Model):` can be of your choosing.\n",
    "For this example we'll be modeling Spatial Birth and Death, so lets set the name accordingly."
   ]
  },
  {
   "cell_type": "code",
   "execution_count": null,
   "metadata": {},
   "outputs": [],
   "source": [
    "class SpatialBirthDeath(Model):\n",
    "    # Define type IDs as constants of the Model\n",
    "    HABITAT = \"Habitat\"\n",
    "\n",
    "    def __init__(self):\n",
    "        \n",
    "        # Intialize the Model with a name of your choosing.\n",
    "        Model.__init__(self, model_name='Spatial Birth-Death')\n",
    "        \n",
    "        \"\"\"\n",
    "        A domain defines points and attributes of a regional space for simulation.\n",
    "        \n",
    "        - xlim: highest and lowest coordinate in the x dimension.\n",
    "        - ylim: highest and lowest coordinate in the y dimension.\n",
    "        - zlim: highest and lowest coordinate in the z dimension.\n",
    "        - nx: number of particle spacing in the x dimension.\n",
    "        - ny: number of particle spacing in the y dimension.\n",
    "        - nz: number of particle spacing in the z dimension.\n",
    "        - type_id: default type ID of particles to be created. Defaults to 1.\n",
    "        - mass: default mass of particles to be created. Defaults to 1.0.\n",
    "        - nu: default viscosity of particles to be created. Defaults to 1.0.\n",
    "        - c: default artificial speed of sound of particles to be created. Defaults to 0.0.\n",
    "        - rho: default density of particles to be created.\n",
    "        - fixed: spatially fixed flag of particles to be created. Defaults to false.\n",
    "        - rho: Background density for the system\n",
    "        - c0: Speed of sound for the system\n",
    "        - P0: Background pressure for the system\n",
    "        - gravity: Acceleration of gravity for the system.\n",
    "        \"\"\"\n",
    "        domain = Domain.create_3D_domain(\n",
    "            xlim=(0, 1), ylim=(0, 1), zlim=(0, 0.1), nx=10, ny=10, nz=1, type_id=self.HABITAT, fixed=True\n",
    "        )\n",
    "        \n",
    "        # Add the Domain to the Model\n",
    "        self.add_domain(domain)\n",
    "        \n",
    "        \"\"\"\n",
    "        Species can be anything that participates in or is produced by a reaction channel.\n",
    "\n",
    "        - name: A user defined name for the species.\n",
    "        - diffusion_coefficient: Non-constant coefficient of diffusion for the Species.\n",
    "        - restrict_to: Restricts the movement of Species to  a type or list of types within the Domain.\n",
    "        \"\"\"\n",
    "        Rabbits = Species(name='Rabbits', diffusion_coefficient=0.1)\n",
    "        \n",
    "        # Add the Species to the Model.\n",
    "        self.add_species(Rabbits)\n",
    "        \n",
    "        \"\"\"\n",
    "        Scatter the initial condition for a species randomly over the list of types.\n",
    "        If the list of types is None scatter over all types.\n",
    "        \n",
    "        - species: The species to set the initial condition.\n",
    "        - count: The initial condition for the target species.\n",
    "        - types: Type IDs of the particles to place the initial condition.\n",
    "        \"\"\"\n",
    "        init_rabbit_pop = ScatterInitialCondition(species=rabbits, count=100)\n",
    "        \n",
    "        # Add Initial Conditions to the Model\n",
    "        self.add_initial_condition(init_rabbit_pop)\n",
    "        \n",
    "        \"\"\"\n",
    "        Parameters are constant values relevant to the system, such as reaction kinetic rates.\n",
    "\n",
    "        - name: A user defined name for reference.\n",
    "        - expression: Some constant value.\n",
    "        \"\"\"\n",
    "        kb = Parameter(name='k_birth', expression=10)\n",
    "        kd = Parameter(name='k_death', expression=0.1)\n",
    "        \n",
    "        # Add the Parameters to the Model.\n",
    "        self.add_parameter([kb, kd])\n",
    "        \n",
    "        \"\"\"\n",
    "        Reactions are the reaction channels which cause the system to change over time.\n",
    "\n",
    "        - name: A user defined name for the reaction.\n",
    "        - reactants: A dictionary with participant reactants as keys, and consumed per reaction as value.\n",
    "        - products: A dictionary with reaction products as keys, and number formed per reaction as value.\n",
    "        - rate: A parameter rate constant to be applied to the propensity of this reaction firing.\n",
    "        - propensity_function: Can be used instead of rate in order to declare a custom propensity function\n",
    "                               in string format.\n",
    "        - restrict_to: Restrict reaction channels to a type or list of types within the Domain.\n",
    "        \"\"\"\n",
    "        birth = Reaction(\n",
    "            name='birth',\n",
    "            reactants={},\n",
    "            products={rabbits:1},\n",
    "            rate=kb\n",
    "        )\n",
    "        \n",
    "        death = Reaction(\n",
    "            name='death',\n",
    "            reactants={rabbits:1},\n",
    "            products={},\n",
    "            rate=kd\n",
    "        )\n",
    "        \n",
    "        # Add the Reactions to the Model.\n",
    "        self.add_reaction([birth, death])\n",
    "        \n",
    "        # Use NumPy to set the timespan of the Model.\n",
    "        self.timespan(numpy.arange(0, 10, 1), timestep_size=1)"
   ]
  },
  {
   "cell_type": "markdown",
   "metadata": {},
   "source": [
    "### Instantiate your Model."
   ]
  },
  {
   "cell_type": "code",
   "execution_count": null,
   "metadata": {},
   "outputs": [],
   "source": [
    "model = SpatialBirthDeath()"
   ]
  },
  {
   "cell_type": "markdown",
   "metadata": {},
   "source": [
    "## Running Simulations\n",
    "\n",
    "Run a spatial stochastic simulation on the Model and store the results in the 'results' variable."
   ]
  },
  {
   "cell_type": "code",
   "execution_count": null,
   "metadata": {},
   "outputs": [],
   "source": [
    "result = model.run()"
   ]
  },
  {
   "cell_type": "code",
   "execution_count": null,
   "metadata": {},
   "outputs": [],
   "source": []
  },
  {
   "cell_type": "code",
   "execution_count": null,
   "metadata": {},
   "outputs": [],
   "source": []
  },
  {
   "cell_type": "code",
   "execution_count": null,
   "metadata": {},
   "outputs": [],
   "source": [
    "\n",
    "import matplotlib.pyplot as plt"
   ]
  },
  {
   "cell_type": "code",
   "execution_count": null,
   "metadata": {},
   "outputs": [],
   "source": [
    "%load_ext autoreload\n",
    "%autoreload 2"
   ]
  },
  {
   "cell_type": "code",
   "execution_count": null,
   "metadata": {},
   "outputs": [],
   "source": [
    "result.plot_property('type')"
   ]
  },
  {
   "cell_type": "code",
   "execution_count": null,
   "metadata": {},
   "outputs": [],
   "source": [
    "result.plot_species('rabbits', animated=True)"
   ]
  }
 ],
 "metadata": {
  "kernelspec": {
   "display_name": "Python 3 (ipykernel)",
   "language": "python",
   "name": "python3"
  },
  "language_info": {
   "codemirror_mode": {
    "name": "ipython",
    "version": 3
   },
   "file_extension": ".py",
   "mimetype": "text/x-python",
   "name": "python",
   "nbconvert_exporter": "python",
   "pygments_lexer": "ipython3",
   "version": "3.9.9"
  }
 },
 "nbformat": 4,
 "nbformat_minor": 4
}

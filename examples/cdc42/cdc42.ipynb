{
 "cells": [
  {
   "cell_type": "code",
   "execution_count": null,
   "metadata": {},
   "outputs": [],
   "source": [
    "import sys\n",
    "sys.path.insert(0, \"../..\")\n",
    "#%reload_ext autoreload\n",
    "#%autoreload 2"
   ]
  },
  {
   "cell_type": "code",
   "execution_count": null,
   "metadata": {},
   "outputs": [],
   "source": [
    "import os\n",
    "import matplotlib.pyplot as plt\n",
    "import numpy\n",
    "import spatialpy\n",
    "print(spatialpy.__file__)"
   ]
  },
  {
   "cell_type": "code",
   "execution_count": null,
   "metadata": {},
   "outputs": [],
   "source": [
    "class Membrane(spatialpy.SubDomain):\n",
    "    def __init__(self, radius_external, radius_internal):\n",
    "        spatialpy.SubDomain.__init__(self)\n",
    "        self.radius_external = radius_external\n",
    "        self.radius_internal = radius_internal\n",
    "        \n",
    "    def inside(self, x, on_boundary):\n",
    "        r = numpy.sqrt(x[0] * x[0] + x[1] * x[1])\n",
    "        return self.radius_external >= r >= self.radius_internal\n",
    "    \n",
    "class Cytoplasm(spatialpy.SubDomain):\n",
    "    def __init__(self, radius_external, radius_internal):\n",
    "        spatialpy.SubDomain.__init__(self)\n",
    "        self.radius_external = radius_external\n",
    "        self.radius_internal = radius_internal\n",
    "        \n",
    "    def inside(self, x, on_boundary):\n",
    "        r = numpy.sqrt(x[0] * x[0] + x[1] * x[1])\n",
    "        return r < self.radius_internal\n",
    "    \n",
    "class GbgGradient(spatialpy.DataFunction):\n",
    "    def __init__(self, Gbg_mid=5000, Gbg_slope=0.0, mem_vol=1.0):\n",
    "        \"\"\" 1D domain from a to b. \"\"\"\n",
    "        spatialpy.DataFunction.__init__(self, name=\"GbgGradient\")\n",
    "        self.Gbg_mid = Gbg_mid\n",
    "        self.Gbg_slope = Gbg_slope  # NM/um\n",
    "        self.mem_vol = mem_vol\n",
    "        \n",
    "    def map(self, x):\n",
    "        ret = self.Gbg_slope*x[2] + self.Gbg_mid\n",
    "        return ret/self.mem_vol"
   ]
  },
  {
   "cell_type": "code",
   "execution_count": null,
   "metadata": {},
   "outputs": [],
   "source": [
    "class Cdc42_cycle_2D_SpatialPy_SDPD(spatialpy.Model):\n",
    "\n",
    "    def __init__(self, model_name=\"Cdc42_2D\",\n",
    "                 end_time=None):\n",
    "        spatialpy.Model.__init__(self,model_name)\n",
    "\n",
    "        #################################################\n",
    "        Gbg_conc=5000.0\n",
    "        Gbg_pct_slope=0.0\n",
    "        delta1_val=0.00297\n",
    "        delta1_gbg_val=0.00297\n",
    "        delta_neg_val=1.0/30000\n",
    "        #################################################\n",
    "        cell_radius = 2.0\n",
    "        radius_external = 0.6\n",
    "        radius_internal = 0.4\n",
    "\n",
    "        self.mesh = spatialpy.Mesh.create_2D_domain(\n",
    "            [-1,1], [-1,1], 8, 8,\n",
    "            rho0=99,#1.0,\n",
    "            c0=98,#10,\n",
    "            P0=97,#10,\n",
    "        )\n",
    "\n",
    "        #self.add_subdomain(Membrane(radius_external, radius_internal), 2, mass=4.0, nu=1.0, fixed=False)\n",
    "        self.add_subdomain(Membrane(radius_external, radius_internal), 2, mass=4.0, nu=1.0, fixed=False)\n",
    "        self.add_subdomain(Cytoplasm(radius_external, radius_internal), 3, mass=2.0, nu=1.0, fixed=False)\n",
    "\n",
    "        #################################################\n",
    "        extra_cellular_volume = 0\n",
    "        for voxel_index, voxel_coords in enumerate(self.mesh.coordinates()):\n",
    "                if self.mesh.sd[voxel_index] == 1:\n",
    "                    extra_cellular_volume = extra_cellular_volume + self.mesh.vol[voxel_index]\n",
    "        membrane_volume = 0\n",
    "        for voxel_index, voxel_coords in enumerate(self.mesh.coordinates()):\n",
    "                if self.mesh.sd[voxel_index] == 2:\n",
    "                    membrane_volume = membrane_volume + self.mesh.vol[voxel_index]\n",
    "                    \n",
    "        cytoplasm_volume = 0\n",
    "        for voxel_index, voxel_coords in enumerate(self.mesh.coordinates()):\n",
    "                if self.mesh.sd[voxel_index] == 3:\n",
    "                    cytoplasm_volume = cytoplasm_volume + self.mesh.vol[voxel_index]\n",
    "                    \n",
    "        print(\"extra_cellular_volume\",extra_cellular_volume)\n",
    "        print(\"membrane_volume\",membrane_volume)\n",
    "        print(\"cytoplasm_volume\",cytoplasm_volume)\n",
    "        #################################################\n",
    "        \n",
    "        D_membrane = 0.0053   #diffusion on the membrane from PLOS paper\n",
    "        D_GDP = 0.0053\n",
    "        D_GTP = 0.0053\n",
    "        D_bulk = 10.0\n",
    "        \n",
    "        # Species\n",
    "        Cdc24_m = spatialpy.Species(name=\"Cdc24_m\",  diffusion_constant=D_membrane)\n",
    "        Cdc24_c = spatialpy.Species(name=\"Cdc24_c\",  diffusion_constant=D_bulk)\n",
    "        Cdc42   = spatialpy.Species(name=\"Cdc42\",    diffusion_constant=D_GDP)\n",
    "        Cdc42_a = spatialpy.Species(name=\"Cdc42_a\",  diffusion_constant=D_GTP)\n",
    "        Bem1_m  = spatialpy.Species(name=\"Bem1_m\",   diffusion_constant=D_membrane)\n",
    "        Bem1_c  = spatialpy.Species(name=\"Bem1_c\",   diffusion_constant=D_bulk)\n",
    "        Cla4    = spatialpy.Species(name=\"Cla4\",     diffusion_constant=D_bulk)\n",
    "        Cla4_a  = spatialpy.Species(name=\"Cla4_a\",   diffusion_constant=D_membrane)\n",
    "        Cdc42_c = spatialpy.Species(name=\"Cdc42_c\",  diffusion_constant=D_bulk)\n",
    "        self.add_species([Cdc24_m, Cdc24_c, Cdc42, Cdc42_a, Bem1_m, Bem1_c, Cla4, Cla4_a, Cdc42_c])\n",
    "\n",
    "        #################################################\n",
    "        # Parameters\n",
    "        k_42d =   spatialpy.Parameter(name=\"k_42d\", expression=1.0)\n",
    "        k_42a =   spatialpy.Parameter(name=\"k_42a\", expression=0.2)\n",
    "        k_24cm1 = spatialpy.Parameter(name=\"k_24cm1\", expression=delta1_val)\n",
    "        k_24mc =  spatialpy.Parameter(name=\"k_24mc\", expression=0.35) \n",
    "        k_B1mc =  spatialpy.Parameter(name=\"k_B1mc\", expression=0.35)\n",
    "        k_B1cm =  spatialpy.Parameter(name=\"k_B1cm\", expression=0.2667)\n",
    "        k_Cla4a = spatialpy.Parameter(name=\"k_Cla4a\", expression=0.006)\n",
    "        k_Cla4d = spatialpy.Parameter(name=\"k_Cla4d\", expression=0.01)\n",
    "        k_24d =   spatialpy.Parameter(name=\"k_24d\", expression=delta_neg_val)\n",
    "\n",
    "        beta1 = spatialpy.Parameter(name=\"beta1\", expression=0.266) \n",
    "        beta2 = spatialpy.Parameter(name=\"beta2\", expression=0.28)\n",
    "        beta3 = spatialpy.Parameter(name=\"beta3\", expression=1.0) \n",
    "        delta1_gbg = spatialpy.Parameter(name=\"delta1_gbg\", expression=delta1_gbg_val)\n",
    "        self.add_parameter([k_42a, k_42d, k_24cm1, k_24mc, k_B1mc, k_B1cm, k_Cla4a, k_Cla4d, k_24d,beta1, beta2, beta3,delta1_gbg])\n",
    "\n",
    "        # Add Data Function to model the mating pheromone gradient.\n",
    "        self.add_data_function(GbgGradient(Gbg_mid=Gbg_conc,Gbg_slope=Gbg_conc*Gbg_pct_slope/(cell_radius*2.0),mem_vol=membrane_volume))\n",
    "\n",
    "        # Reactions\n",
    "        CR0 = spatialpy.Reaction(name=\"CR0\", reactants={Cdc24_c:1}, products={Cdc24_m:1}, propensity_function=\"delta1_gbg*Cdc24_c*GbgGradient*vol\", restrict_to=2)\n",
    "        CR1 = spatialpy.Reaction(name=\"CR1\", reactants={Cdc24_c:1,Bem1_m:1}, products={Cdc24_m:1,Bem1_m:1},  rate=k_24cm1, restrict_to=2)\n",
    "        CR2 = spatialpy.Reaction(name=\"CR2\", reactants={Cdc24_m:1}, products={Cdc24_c:1}, rate=k_24mc, restrict_to=2)\n",
    "        CR3 = spatialpy.Reaction(name=\"CR3\", reactants={Cdc24_m:1,Cla4_a:1}, products={Cdc24_c:1,Cla4_a:1}, rate=k_24d, restrict_to=2)\n",
    "        CR4 = spatialpy.Reaction(name=\"CR4\", reactants={Cdc24_m:1,Cdc42:1}, products={Cdc24_m:1,Cdc42_a:1}, rate=k_42a, restrict_to=2)\n",
    "        CR5 = spatialpy.Reaction(name=\"CR5\", reactants={Cdc42_a:1}, products={Cdc42:1}, rate=k_42d, restrict_to=2)\n",
    "        CR6 = spatialpy.Reaction(name=\"CR6\", reactants={Cdc42_a:1,Bem1_c:1}, products={Cdc42_a:1,Bem1_m:1}, rate=k_B1cm, restrict_to=2)\n",
    "        CR7 = spatialpy.Reaction(name=\"CR7\", reactants={Bem1_m:1}, products={Bem1_c:1}, rate=k_B1mc, restrict_to=2)\n",
    "        CR8 = spatialpy.Reaction(name=\"CR8\", reactants={Cdc42_a:1,Cla4:1}, products={Cdc42_a:1,Cla4_a:1}, rate=k_Cla4a, restrict_to=2)\n",
    "        CR9 = spatialpy.Reaction(name=\"CR9\", reactants={Cla4_a:1}, products={Cla4:1}, rate=k_Cla4d, restrict_to=2)\n",
    "        \n",
    "        CR10 = spatialpy.Reaction(name=\"CR10\", reactants={Cdc42_c:1}, products={Cdc42:1}, rate=beta2, restrict_to=2)\n",
    "        CR11 = spatialpy.Reaction(name=\"CR11\", reactants={Cdc42:1}, products={Cdc42_c:1}, rate=beta3, restrict_to=2)\n",
    "        CR12 = spatialpy.Reaction(name=\"CR12\", reactants={Cdc42_c:1,Cdc24_m:1}, products={Cdc42_a:1,Cdc24_m:1}, rate=beta1, restrict_to=2)\n",
    "        self.add_reaction([CR0,CR1,CR2,CR3,CR4,CR5,CR6,CR7,CR8,CR9,CR10,CR11,CR12])\n",
    "        \n",
    "        self.restrict(species=Cdc24_c,listOfSubDomains=[3,2])\n",
    "        self.restrict(species=Bem1_c,listOfSubDomains=[3,2])\n",
    "        self.restrict(species=Cla4,listOfSubDomains=[3,2])\n",
    "        self.restrict(species=Cdc24_m,listOfSubDomains=[2])\n",
    "        self.restrict(species=Cdc42,listOfSubDomains=[2])\n",
    "        self.restrict(species=Cdc42_a,listOfSubDomains=[2])\n",
    "        self.restrict(species=Bem1_m,listOfSubDomains=[2])\n",
    "        self.restrict(species=Cla4_a,listOfSubDomains=[2])\n",
    "        self.restrict(species=Cdc42_c,listOfSubDomains=[3,2])\n",
    "        \n",
    "        # Scatter initial condition\n",
    "        self.add_initial_condition(spatialpy.ScatterInitialCondition(Cdc42,2700,[3])) # 10000  \n",
    "        self.add_initial_condition(spatialpy.ScatterInitialCondition(Cdc24_c,1000,[2])) # We have 2000 Cdc24, GDI model has 1000\n",
    "        self.add_initial_condition(spatialpy.ScatterInitialCondition(Bem1_c,3000,[2]))\n",
    "        self.add_initial_condition(spatialpy.ScatterInitialCondition(Cla4,5000,[2]))  # 5000\n",
    "        self.add_initial_condition(spatialpy.ScatterInitialCondition(Cdc42_a,300,[3]))\n",
    "\n",
    "        # allow point to move\n",
    "        self.staticDomain = True\n",
    "        \n",
    "        if end_time is None:\n",
    "            self.timespan(range(1000))\n",
    "        else:\n",
    "            if end_time >= 1.0:\n",
    "                self.timespan(range(end_time))\n",
    "            else:\n",
    "                self.timespan(numpy.linspace(0,end_time,10))\n",
    "            print(\"simulating to {0}s\".format(end_time))"
   ]
  },
  {
   "cell_type": "code",
   "execution_count": null,
   "metadata": {},
   "outputs": [],
   "source": [
    "model = Cdc42_cycle_2D_SpatialPy_SDPD(end_time=2)"
   ]
  },
  {
   "cell_type": "code",
   "execution_count": null,
   "metadata": {},
   "outputs": [],
   "source": [
    "%time result = model.run(debug_level=1)"
   ]
  },
  {
   "cell_type": "code",
   "execution_count": null,
   "metadata": {
    "scrolled": true
   },
   "outputs": [],
   "source": [
    "Cdc42_vals = result.get_species(\"Cdc42_a\", debug=False)"
   ]
  },
  {
   "cell_type": "code",
   "execution_count": null,
   "metadata": {},
   "outputs": [],
   "source": [
    "plt.plot(result.get_timespan(), Cdc42_vals.sum(axis=1))"
   ]
  },
  {
   "cell_type": "code",
   "execution_count": null,
   "metadata": {},
   "outputs": [],
   "source": [
    "result.display(\"Cdc42_a\",0)"
   ]
  },
  {
   "cell_type": "code",
   "execution_count": null,
   "metadata": {},
   "outputs": [],
   "source": [
    "type_vals = result.get_property(\"type\",0)"
   ]
  },
  {
   "cell_type": "code",
   "execution_count": null,
   "metadata": {},
   "outputs": [],
   "source": [
    "def plot_step(t_ndx,key='type'):\n",
    "    pts, data = result.read_step(t_ndx)\n",
    "    plt.figure(figsize=(15,10) )\n",
    "    plt.scatter(pts[:,0],pts[:,1],c=data[key])\n",
    "    plt.axis('equal')\n",
    "    plt.colorbar()\n",
    "    plt.title('t={0}'.format(t_ndx))\n",
    "    \n",
    "def plot_all(key='type'):\n",
    "    for i,t in enumerate(result.get_timespan()):\n",
    "        plot_step(i,key)"
   ]
  },
  {
   "cell_type": "code",
   "execution_count": null,
   "metadata": {},
   "outputs": [],
   "source": [
    "plot_all()"
   ]
  },
  {
   "cell_type": "code",
   "execution_count": null,
   "metadata": {},
   "outputs": [],
   "source": [
    "plot_all('v')"
   ]
  },
  {
   "cell_type": "code",
   "execution_count": null,
   "metadata": {},
   "outputs": [],
   "source": [
    "plot_all('rho')"
   ]
  },
  {
   "cell_type": "code",
   "execution_count": null,
   "metadata": {},
   "outputs": [],
   "source": [
    "from spatialpy.Solver import Solver\n",
    "sol = Solver(model, debug_level=2)\n",
    "%time sol.compile()"
   ]
  },
  {
   "cell_type": "code",
   "execution_count": null,
   "metadata": {},
   "outputs": [],
   "source": []
  }
 ],
 "metadata": {
  "kernelspec": {
   "display_name": "Python 3",
   "language": "python",
   "name": "python3"
  },
  "language_info": {
   "codemirror_mode": {
    "name": "ipython",
    "version": 3
   },
   "file_extension": ".py",
   "mimetype": "text/x-python",
   "name": "python",
   "nbconvert_exporter": "python",
   "pygments_lexer": "ipython3",
   "version": "3.8.2"
  }
 },
 "nbformat": 4,
 "nbformat_minor": 4
}
